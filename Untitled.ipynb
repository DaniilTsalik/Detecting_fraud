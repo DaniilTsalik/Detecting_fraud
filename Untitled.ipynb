{
 "cells": [
  {
   "cell_type": "markdown",
   "id": "0d97ac3f",
   "metadata": {
    "toc": true
   },
   "source": [
    "<h1>Table of Contents<span class=\"tocSkip\"></span></h1>\n",
    "<div class=\"toc\"><ul class=\"toc-item\"><li><span><a href=\"#Detecting-fraud-in-a-game-development-project\" data-toc-modified-id=\"Detecting-fraud-in-a-game-development-project-1\"><span class=\"toc-item-num\">1&nbsp;&nbsp;</span>Detecting fraud in a game development project</a></span></li><li><span><a href=\"#Загрузка-данных-и-ознакомление\" data-toc-modified-id=\"Загрузка-данных-и-ознакомление-2\"><span class=\"toc-item-num\">2&nbsp;&nbsp;</span>Загрузка данных и ознакомление</a></span><ul class=\"toc-item\"><li><span><a href=\"#Импорт-библиотек\" data-toc-modified-id=\"Импорт-библиотек-2.1\"><span class=\"toc-item-num\">2.1&nbsp;&nbsp;</span>Импорт библиотек</a></span></li><li><span><a href=\"#Загрузка-и-ознакомление-c-данными\" data-toc-modified-id=\"Загрузка-и-ознакомление-c-данными-2.2\"><span class=\"toc-item-num\">2.2&nbsp;&nbsp;</span>Загрузка и ознакомление c данными</a></span></li></ul></li><li><span><a href=\"#Предобработка-и-EDA\" data-toc-modified-id=\"Предобработка-и-EDA-3\"><span class=\"toc-item-num\">3&nbsp;&nbsp;</span>Предобработка и EDA</a></span><ul class=\"toc-item\"><li><span><a href=\"#Размеры-датасетов,-количество-пропущенных-значений\" data-toc-modified-id=\"Размеры-датасетов,-количество-пропущенных-значений-3.1\"><span class=\"toc-item-num\">3.1&nbsp;&nbsp;</span>Размеры датасетов, количество пропущенных значений</a></span></li><li><span><a href=\"#Дополнительные-столбцы\" data-toc-modified-id=\"Дополнительные-столбцы-3.2\"><span class=\"toc-item-num\">3.2&nbsp;&nbsp;</span>Дополнительные столбцы</a></span></li><li><span><a href=\"#Переименование-столбцов\" data-toc-modified-id=\"Переименование-столбцов-3.3\"><span class=\"toc-item-num\">3.3&nbsp;&nbsp;</span>Переименование столбцов</a></span></li><li><span><a href=\"#Deck,-number,-side\" data-toc-modified-id=\"Deck,-number,-side-3.4\"><span class=\"toc-item-num\">3.4&nbsp;&nbsp;</span>Deck, number, side</a></span><ul class=\"toc-item\"><li><span><a href=\"#Side\" data-toc-modified-id=\"Side-3.4.1\"><span class=\"toc-item-num\">3.4.1&nbsp;&nbsp;</span>Side</a></span></li><li><span><a href=\"#Deck\" data-toc-modified-id=\"Deck-3.4.2\"><span class=\"toc-item-num\">3.4.2&nbsp;&nbsp;</span>Deck</a></span></li></ul></li><li><span><a href=\"#HomePlanet\" data-toc-modified-id=\"HomePlanet-3.5\"><span class=\"toc-item-num\">3.5&nbsp;&nbsp;</span>HomePlanet</a></span></li><li><span><a href=\"#Age\" data-toc-modified-id=\"Age-3.6\"><span class=\"toc-item-num\">3.6&nbsp;&nbsp;</span>Age</a></span></li><li><span><a href=\"#Destination\" data-toc-modified-id=\"Destination-3.7\"><span class=\"toc-item-num\">3.7&nbsp;&nbsp;</span>Destination</a></span></li><li><span><a href=\"#VIP,-RoomService,-FoodCourt,-ShoppingMall,-Spa,-VRDeck\" data-toc-modified-id=\"VIP,-RoomService,-FoodCourt,-ShoppingMall,-Spa,-VRDeck-3.8\"><span class=\"toc-item-num\">3.8&nbsp;&nbsp;</span>VIP, RoomService, FoodCourt, ShoppingMall, Spa, VRDeck</a></span><ul class=\"toc-item\"><li><span><a href=\"#VIP\" data-toc-modified-id=\"VIP-3.8.1\"><span class=\"toc-item-num\">3.8.1&nbsp;&nbsp;</span>VIP</a></span></li><li><span><a href=\"#Room-service\" data-toc-modified-id=\"Room-service-3.8.2\"><span class=\"toc-item-num\">3.8.2&nbsp;&nbsp;</span>Room service</a></span></li><li><span><a href=\"#Food-court\" data-toc-modified-id=\"Food-court-3.8.3\"><span class=\"toc-item-num\">3.8.3&nbsp;&nbsp;</span>Food court</a></span></li><li><span><a href=\"#Shopping-mall\" data-toc-modified-id=\"Shopping-mall-3.8.4\"><span class=\"toc-item-num\">3.8.4&nbsp;&nbsp;</span>Shopping mall</a></span></li><li><span><a href=\"#Spa\" data-toc-modified-id=\"Spa-3.8.5\"><span class=\"toc-item-num\">3.8.5&nbsp;&nbsp;</span>Spa</a></span></li><li><span><a href=\"#Vr-deck\" data-toc-modified-id=\"Vr-deck-3.8.6\"><span class=\"toc-item-num\">3.8.6&nbsp;&nbsp;</span>Vr deck</a></span></li></ul></li><li><span><a href=\"#CryoSleep\" data-toc-modified-id=\"CryoSleep-3.9\"><span class=\"toc-item-num\">3.9&nbsp;&nbsp;</span>CryoSleep</a></span></li><li><span><a href=\"#Дополнительный-признак-group_size\" data-toc-modified-id=\"Дополнительный-признак-group_size-3.10\"><span class=\"toc-item-num\">3.10&nbsp;&nbsp;</span>Дополнительный признак group_size</a></span></li><li><span><a href=\"#Заполнение-пропусков\" data-toc-modified-id=\"Заполнение-пропусков-3.11\"><span class=\"toc-item-num\">3.11&nbsp;&nbsp;</span>Заполнение пропусков</a></span></li><li><span><a href=\"#Проверка-на-дубликаты\" data-toc-modified-id=\"Проверка-на-дубликаты-3.12\"><span class=\"toc-item-num\">3.12&nbsp;&nbsp;</span>Проверка на дубликаты</a></span></li><li><span><a href=\"#Изменение-типов-данных\" data-toc-modified-id=\"Изменение-типов-данных-3.13\"><span class=\"toc-item-num\">3.13&nbsp;&nbsp;</span>Изменение типов данных</a></span></li><li><span><a href=\"#Drop-columns\" data-toc-modified-id=\"Drop-columns-3.14\"><span class=\"toc-item-num\">3.14&nbsp;&nbsp;</span>Drop columns</a></span></li><li><span><a href=\"#OHE\" data-toc-modified-id=\"OHE-3.15\"><span class=\"toc-item-num\">3.15&nbsp;&nbsp;</span>OHE</a></span></li><li><span><a href=\"#OE\" data-toc-modified-id=\"OE-3.16\"><span class=\"toc-item-num\">3.16&nbsp;&nbsp;</span>OE</a></span></li><li><span><a href=\"#Матрица-корреляции\" data-toc-modified-id=\"Матрица-корреляции-3.17\"><span class=\"toc-item-num\">3.17&nbsp;&nbsp;</span>Матрица корреляции</a></span></li><li><span><a href=\"#StandardScaler\" data-toc-modified-id=\"StandardScaler-3.18\"><span class=\"toc-item-num\">3.18&nbsp;&nbsp;</span>StandardScaler</a></span></li></ul></li><li><span><a href=\"#Разработка-модели-ML\" data-toc-modified-id=\"Разработка-модели-ML-4\"><span class=\"toc-item-num\">4&nbsp;&nbsp;</span>Разработка модели ML</a></span><ul class=\"toc-item\"><li><span><a href=\"#Первичное-тестирование\" data-toc-modified-id=\"Первичное-тестирование-4.1\"><span class=\"toc-item-num\">4.1&nbsp;&nbsp;</span>Первичное тестирование</a></span></li><li><span><a href=\"#Optune\" data-toc-modified-id=\"Optune-4.2\"><span class=\"toc-item-num\">4.2&nbsp;&nbsp;</span>Optune</a></span></li><li><span><a href=\"#Future-impotance\" data-toc-modified-id=\"Future-impotance-4.3\"><span class=\"toc-item-num\">4.3&nbsp;&nbsp;</span>Future impotance</a></span></li></ul></li><li><span><a href=\"#Prediction\" data-toc-modified-id=\"Prediction-5\"><span class=\"toc-item-num\">5&nbsp;&nbsp;</span>Prediction</a></span></li><li><span><a href=\"#Отчет\" data-toc-modified-id=\"Отчет-6\"><span class=\"toc-item-num\">6&nbsp;&nbsp;</span>Отчет</a></span></li></ul></div>"
   ]
  },
  {
   "cell_type": "markdown",
   "id": "eb3a343d",
   "metadata": {},
   "source": [
    "# Detecting fraud in a game development project\n",
    "**Dataset Description**\n",
    "\n",
    "   В этом конкурсе наша задача - предсказать, был ли пассажир перенесен в альтернативное измерение во время столкновения космического корабля \"Последняя надежда\" с пространственно-временной аномалией. Чтобы помочь нам сделать эти прогнозы, нам дается набор личных записей, извлеченных из поврежденной компьютерной системы корабля.\n",
    "\n",
    "**Данные**\n",
    "\n",
    " * `train.csv` - личные дела примерно двух третей (~7000) пассажиров, которые будут использоваться в качестве обучающих данных.\n",
    " * `test.csv` - личные дела оставшейся четверти (~1700) пассажиров, которые будут использоваться в качестве тестовых данных. Ваша задача - предсказать значение Transported для пассажиров из этого набора.\n",
    " * `sample_submission.csv` - файл представления в правильном формате.\n",
    " \n",
    "**Описание полей данных**\n",
    "\n",
    " * `PassengerId` - уникальный идентификатор для каждого пассажира. Каждый идентификатор имеет форму gggg_pp, где gggg указывает на группу, с которой путешествует пассажир, а pp - его номер в группе. Люди в группе часто являются членами семьи, но не всегда.\n",
    " * `HomePlanet` - планета, с которой отправился пассажир, обычно это планета его постоянного проживания.\n",
    " * `CryoSleep` - Указывает, решил ли пассажир погрузиться в состояние условной анимации на время путешествия. Пассажиры в криосне находятся в своих каютах.\n",
    " * `Cabin` - номер каюты, в которой находится пассажир. Имеет форму deck/num/side, где side может быть либо P для Port, либо S для Starboard.\n",
    " * `Destination` - планета, на которой будет высажен пассажир.\n",
    " * `Age` - Возраст пассажира.\n",
    " * `VIP` - Оплатил ли пассажир специальное VIP-обслуживание во время рейса.\n",
    " * `RoomService`, `FoodCourt`, `ShoppingMall`, `Spa`, `VRDeck` - Сумма, которую пассажир оплатил за каждое из многочисленных роскошных удобств космического корабля \"Последняя надежда\".\n",
    " * `Name` - Имя и фамилия пассажира.\n",
    " * `Transported` - Перенесен ли пассажир в другое измерение. Это цель, столбец, который вы пытаетесь предсказать.\n",
    " \n",
    "**Цели**\n",
    " \n",
    " * Разработка модели предсказавающей, был ли пассажир перенесен в альтернативное измерение.\n",
    " * Выделение наиболее значимых признаков, которые больше всего влияют на вероятность успешного перехода.\n",
    " \n",
    "**Структура проекта:**\n",
    " \n",
    " * Загрузка и ознакомление с данными.\n",
    " * Подготовка данных.\n",
    " * EDA.\n",
    " * Feature engineering and feature extraction.\n",
    " * Подготовка итоговых признаков для обучения модели.\n",
    " * Обучение модели и формирование предсказаний.\n",
    " * Изучение важности признаков итоговой модели.\n",
    " * Подготовка отсчета по исследованию.\n",
    " \n",
    "**Предмет исследования:**\n",
    "\n",
    "Личные дела пассажиров корабля \"Последняя надежда\".\n",
    "\n",
    "**Методы:** которые мы применим в данном исследовании включают в себя: \n",
    "* загрузку и ознакомление с данными\n",
    "* EDA\n",
    "* feature engineering \n",
    "* feature extraction \n",
    "\n",
    "**Используемые библитеки:** \n",
    "* Scikit-learn\n",
    "* OPTUNE\n",
    "* XGBoost\n",
    "* Seaborn\n",
    "* Pandas\n",
    "* Numpy"
   ]
  },
  {
   "cell_type": "markdown",
   "id": "f16988c8-9321-4548-b063-c9cfd0782118",
   "metadata": {},
   "source": [
    "# Загрузка данных и ознакомление"
   ]
  },
  {
   "cell_type": "markdown",
   "id": "93c9c9e2",
   "metadata": {},
   "source": [
    "## Импорт библиотек"
   ]
  },
  {
   "cell_type": "code",
   "execution_count": 1,
   "id": "105cf1b7-00b6-4c65-83e9-2cd20594ecc7",
   "metadata": {},
   "outputs": [],
   "source": [
    " # Импортируем необходимые библиотеки:\n",
    "import copy\n",
    "import pandas as pd\n",
    "import seaborn as sns\n",
    "import numpy as np\n",
    "import matplotlib.pyplot as plt\n",
    "import missingno as msno\n",
    "import optuna\n",
    "\n",
    "from sklearn import tree\n",
    "from sklearn.ensemble import AdaBoostClassifier\n",
    "from sklearn.ensemble import RandomForestClassifier\n",
    "from sklearn.ensemble import GradientBoostingClassifier\n",
    "from sklearn.metrics import confusion_matrix, ConfusionMatrixDisplay\n",
    "from sklearn.metrics import f1_score, make_scorer\n",
    "from sklearn.metrics import accuracy_score\n",
    "from sklearn.model_selection import GridSearchCV\n",
    "from sklearn.model_selection import train_test_split\n",
    "from sklearn.model_selection import StratifiedKFold\n",
    "from sklearn.model_selection import cross_val_score\n",
    "from sklearn.pipeline import Pipeline\n",
    "from sklearn.preprocessing import StandardScaler\n",
    "from sklearn.preprocessing import OneHotEncoder\n",
    "from sklearn.preprocessing import OrdinalEncoder\n",
    "from sklearn.preprocessing import LabelEncoder\n",
    "from sklearn.linear_model import LogisticRegression\n",
    "from sklearn.neighbors import KNeighborsClassifier\n",
    "from sklearn.svm import SVC, LinearSVC\n",
    "from sklearn.naive_bayes import GaussianNB\n",
    "from sklearn.discriminant_analysis import LinearDiscriminantAnalysis\n",
    "from sklearn.impute import SimpleImputer\n",
    "\n",
    "from xgboost import XGBClassifier\n",
    "\n",
    "pd.set_option('display.max_rows', 500)\n",
    "pd.set_option('display.max_columns', 500)\n",
    "pd.set_option('display.width', 1000)"
   ]
  },
  {
   "cell_type": "code",
   "execution_count": 2,
   "id": "99cd76d5",
   "metadata": {},
   "outputs": [],
   "source": [
    "OPTUNE_OPTIMIZATION = False # Включение оптимизации парметров посредством optune"
   ]
  },
  {
   "cell_type": "markdown",
   "id": "b7ab367b",
   "metadata": {},
   "source": [
    "## Загрузка и ознакомление c данными"
   ]
  },
  {
   "cell_type": "code",
   "execution_count": 3,
   "id": "2a5fe797-75af-46d0-925e-b3c744641f19",
   "metadata": {},
   "outputs": [],
   "source": [
    "train = pd.read_csv('train.csv') # Тренировочный датасет\n",
    "test = pd.read_csv('test.csv') # Тестовый датасет\n",
    "sample = pd.read_csv('sample_submission.csv') # Пример выгрузки"
   ]
  },
  {
   "cell_type": "code",
   "execution_count": 4,
   "id": "79d491a7",
   "metadata": {},
   "outputs": [],
   "source": [
    "sample['PassengerId'] = test['PassengerId'] # Заменем индексы выгрузки на индексы test датасета"
   ]
  },
  {
   "cell_type": "code",
   "execution_count": 5,
   "id": "94da9bf2",
   "metadata": {},
   "outputs": [
    {
     "name": "stdout",
     "output_type": "stream",
     "text": [
      "----------------train data----------------\n",
      "\n",
      "<class 'pandas.core.frame.DataFrame'>\n",
      "RangeIndex: 6954 entries, 0 to 6953\n",
      "Data columns (total 14 columns):\n",
      " #   Column        Non-Null Count  Dtype  \n",
      "---  ------        --------------  -----  \n",
      " 0   PassengerId   6954 non-null   object \n",
      " 1   HomePlanet    6791 non-null   object \n",
      " 2   CryoSleep     6784 non-null   object \n",
      " 3   Cabin         6798 non-null   object \n",
      " 4   Destination   6813 non-null   object \n",
      " 5   Age           6811 non-null   float64\n",
      " 6   VIP           6798 non-null   object \n",
      " 7   RoomService   6812 non-null   float64\n",
      " 8   FoodCourt     6810 non-null   float64\n",
      " 9   ShoppingMall  6792 non-null   float64\n",
      " 10  Spa           6809 non-null   float64\n",
      " 11  VRDeck        6807 non-null   float64\n",
      " 12  Name          6794 non-null   object \n",
      " 13  Transported   6954 non-null   bool   \n",
      "dtypes: bool(1), float64(6), object(7)\n",
      "memory usage: 713.2+ KB\n",
      "None\n",
      "\n",
      "----------------test data----------------\n",
      "\n",
      "<class 'pandas.core.frame.DataFrame'>\n",
      "RangeIndex: 1739 entries, 0 to 1738\n",
      "Data columns (total 13 columns):\n",
      " #   Column        Non-Null Count  Dtype  \n",
      "---  ------        --------------  -----  \n",
      " 0   PassengerId   1739 non-null   object \n",
      " 1   HomePlanet    1701 non-null   object \n",
      " 2   CryoSleep     1692 non-null   object \n",
      " 3   Cabin         1696 non-null   object \n",
      " 4   Destination   1698 non-null   object \n",
      " 5   Age           1703 non-null   float64\n",
      " 6   VIP           1692 non-null   object \n",
      " 7   RoomService   1700 non-null   float64\n",
      " 8   FoodCourt     1700 non-null   float64\n",
      " 9   ShoppingMall  1693 non-null   float64\n",
      " 10  Spa           1701 non-null   float64\n",
      " 11  VRDeck        1698 non-null   float64\n",
      " 12  Name          1699 non-null   object \n",
      "dtypes: float64(6), object(7)\n",
      "memory usage: 176.7+ KB\n",
      "None\n"
     ]
    }
   ],
   "source": [
    "print('----------------train data----------------', end='\\n\\n')\n",
    "print(train.info(), end='\\n\\n')\n",
    "print('----------------test data----------------', end='\\n\\n')\n",
    "print(test.info())"
   ]
  },
  {
   "cell_type": "markdown",
   "id": "29242275",
   "metadata": {},
   "source": [
    "Ознакомимся с первыми строками `test` и `train` датасетов:"
   ]
  },
  {
   "cell_type": "code",
   "execution_count": 6,
   "id": "10f67130-6dd4-4148-b649-98948d9fbec7",
   "metadata": {},
   "outputs": [
    {
     "data": {
      "text/html": [
       "<div>\n",
       "<style scoped>\n",
       "    .dataframe tbody tr th:only-of-type {\n",
       "        vertical-align: middle;\n",
       "    }\n",
       "\n",
       "    .dataframe tbody tr th {\n",
       "        vertical-align: top;\n",
       "    }\n",
       "\n",
       "    .dataframe thead th {\n",
       "        text-align: right;\n",
       "    }\n",
       "</style>\n",
       "<table border=\"1\" class=\"dataframe\">\n",
       "  <thead>\n",
       "    <tr style=\"text-align: right;\">\n",
       "      <th></th>\n",
       "      <th>PassengerId</th>\n",
       "      <th>HomePlanet</th>\n",
       "      <th>CryoSleep</th>\n",
       "      <th>Cabin</th>\n",
       "      <th>Destination</th>\n",
       "      <th>Age</th>\n",
       "      <th>VIP</th>\n",
       "      <th>RoomService</th>\n",
       "      <th>FoodCourt</th>\n",
       "      <th>ShoppingMall</th>\n",
       "      <th>Spa</th>\n",
       "      <th>VRDeck</th>\n",
       "      <th>Name</th>\n",
       "      <th>Transported</th>\n",
       "    </tr>\n",
       "  </thead>\n",
       "  <tbody>\n",
       "    <tr>\n",
       "      <th>0</th>\n",
       "      <td>6234_01</td>\n",
       "      <td>Mars</td>\n",
       "      <td>False</td>\n",
       "      <td>F/1287/P</td>\n",
       "      <td>PSO J318.5-22</td>\n",
       "      <td>40.0</td>\n",
       "      <td>True</td>\n",
       "      <td>301.0</td>\n",
       "      <td>0.0</td>\n",
       "      <td>1310.0</td>\n",
       "      <td>4.0</td>\n",
       "      <td>NaN</td>\n",
       "      <td>Sters Bun</td>\n",
       "      <td>True</td>\n",
       "    </tr>\n",
       "    <tr>\n",
       "      <th>1</th>\n",
       "      <td>8826_01</td>\n",
       "      <td>Europa</td>\n",
       "      <td>False</td>\n",
       "      <td>C/290/P</td>\n",
       "      <td>55 Cancri e</td>\n",
       "      <td>13.0</td>\n",
       "      <td>False</td>\n",
       "      <td>1212.0</td>\n",
       "      <td>4485.0</td>\n",
       "      <td>0.0</td>\n",
       "      <td>4016.0</td>\n",
       "      <td>57.0</td>\n",
       "      <td>Marin Hednigic</td>\n",
       "      <td>False</td>\n",
       "    </tr>\n",
       "    <tr>\n",
       "      <th>2</th>\n",
       "      <td>4453_01</td>\n",
       "      <td>Europa</td>\n",
       "      <td>False</td>\n",
       "      <td>D/149/P</td>\n",
       "      <td>TRAPPIST-1e</td>\n",
       "      <td>28.0</td>\n",
       "      <td>False</td>\n",
       "      <td>0.0</td>\n",
       "      <td>2560.0</td>\n",
       "      <td>0.0</td>\n",
       "      <td>134.0</td>\n",
       "      <td>307.0</td>\n",
       "      <td>Azhasim Inguel</td>\n",
       "      <td>False</td>\n",
       "    </tr>\n",
       "    <tr>\n",
       "      <th>3</th>\n",
       "      <td>0602_03</td>\n",
       "      <td>Mars</td>\n",
       "      <td>True</td>\n",
       "      <td>F/125/P</td>\n",
       "      <td>TRAPPIST-1e</td>\n",
       "      <td>21.0</td>\n",
       "      <td>False</td>\n",
       "      <td>0.0</td>\n",
       "      <td>0.0</td>\n",
       "      <td>0.0</td>\n",
       "      <td>0.0</td>\n",
       "      <td>0.0</td>\n",
       "      <td>Rana Brine</td>\n",
       "      <td>True</td>\n",
       "    </tr>\n",
       "    <tr>\n",
       "      <th>4</th>\n",
       "      <td>8796_01</td>\n",
       "      <td>Earth</td>\n",
       "      <td>False</td>\n",
       "      <td>G/1418/S</td>\n",
       "      <td>TRAPPIST-1e</td>\n",
       "      <td>6.0</td>\n",
       "      <td>False</td>\n",
       "      <td>0.0</td>\n",
       "      <td>0.0</td>\n",
       "      <td>0.0</td>\n",
       "      <td>0.0</td>\n",
       "      <td>0.0</td>\n",
       "      <td>Daisya Traverdy</td>\n",
       "      <td>True</td>\n",
       "    </tr>\n",
       "  </tbody>\n",
       "</table>\n",
       "</div>"
      ],
      "text/plain": [
       "  PassengerId HomePlanet CryoSleep     Cabin    Destination   Age    VIP  RoomService  FoodCourt  ShoppingMall     Spa  VRDeck             Name  Transported\n",
       "0     6234_01       Mars     False  F/1287/P  PSO J318.5-22  40.0   True        301.0        0.0        1310.0     4.0     NaN        Sters Bun         True\n",
       "1     8826_01     Europa     False   C/290/P    55 Cancri e  13.0  False       1212.0     4485.0           0.0  4016.0    57.0   Marin Hednigic        False\n",
       "2     4453_01     Europa     False   D/149/P    TRAPPIST-1e  28.0  False          0.0     2560.0           0.0   134.0   307.0   Azhasim Inguel        False\n",
       "3     0602_03       Mars      True   F/125/P    TRAPPIST-1e  21.0  False          0.0        0.0           0.0     0.0     0.0       Rana Brine         True\n",
       "4     8796_01      Earth     False  G/1418/S    TRAPPIST-1e   6.0  False          0.0        0.0           0.0     0.0     0.0  Daisya Traverdy         True"
      ]
     },
     "metadata": {},
     "output_type": "display_data"
    },
    {
     "data": {
      "text/html": [
       "<div>\n",
       "<style scoped>\n",
       "    .dataframe tbody tr th:only-of-type {\n",
       "        vertical-align: middle;\n",
       "    }\n",
       "\n",
       "    .dataframe tbody tr th {\n",
       "        vertical-align: top;\n",
       "    }\n",
       "\n",
       "    .dataframe thead th {\n",
       "        text-align: right;\n",
       "    }\n",
       "</style>\n",
       "<table border=\"1\" class=\"dataframe\">\n",
       "  <thead>\n",
       "    <tr style=\"text-align: right;\">\n",
       "      <th></th>\n",
       "      <th>PassengerId</th>\n",
       "      <th>HomePlanet</th>\n",
       "      <th>CryoSleep</th>\n",
       "      <th>Cabin</th>\n",
       "      <th>Destination</th>\n",
       "      <th>Age</th>\n",
       "      <th>VIP</th>\n",
       "      <th>RoomService</th>\n",
       "      <th>FoodCourt</th>\n",
       "      <th>ShoppingMall</th>\n",
       "      <th>Spa</th>\n",
       "      <th>VRDeck</th>\n",
       "      <th>Name</th>\n",
       "    </tr>\n",
       "  </thead>\n",
       "  <tbody>\n",
       "    <tr>\n",
       "      <th>0</th>\n",
       "      <td>8026_01</td>\n",
       "      <td>Mars</td>\n",
       "      <td>True</td>\n",
       "      <td>F/1534/S</td>\n",
       "      <td>TRAPPIST-1e</td>\n",
       "      <td>29.0</td>\n",
       "      <td>False</td>\n",
       "      <td>0.0</td>\n",
       "      <td>0.0</td>\n",
       "      <td>0.0</td>\n",
       "      <td>0.0</td>\n",
       "      <td>0.0</td>\n",
       "      <td>Losp Ruité</td>\n",
       "    </tr>\n",
       "    <tr>\n",
       "      <th>1</th>\n",
       "      <td>6734_03</td>\n",
       "      <td>Europa</td>\n",
       "      <td>True</td>\n",
       "      <td>C/249/S</td>\n",
       "      <td>55 Cancri e</td>\n",
       "      <td>37.0</td>\n",
       "      <td>True</td>\n",
       "      <td>0.0</td>\n",
       "      <td>0.0</td>\n",
       "      <td>0.0</td>\n",
       "      <td>0.0</td>\n",
       "      <td>0.0</td>\n",
       "      <td>Alhaino Sparsaxle</td>\n",
       "    </tr>\n",
       "    <tr>\n",
       "      <th>2</th>\n",
       "      <td>8186_04</td>\n",
       "      <td>Earth</td>\n",
       "      <td>True</td>\n",
       "      <td>G/1319/S</td>\n",
       "      <td>PSO J318.5-22</td>\n",
       "      <td>23.0</td>\n",
       "      <td>False</td>\n",
       "      <td>0.0</td>\n",
       "      <td>0.0</td>\n",
       "      <td>0.0</td>\n",
       "      <td>0.0</td>\n",
       "      <td>0.0</td>\n",
       "      <td>Rayley Jenkinnedy</td>\n",
       "    </tr>\n",
       "    <tr>\n",
       "      <th>3</th>\n",
       "      <td>4942_02</td>\n",
       "      <td>Earth</td>\n",
       "      <td>True</td>\n",
       "      <td>G/806/S</td>\n",
       "      <td>TRAPPIST-1e</td>\n",
       "      <td>36.0</td>\n",
       "      <td>False</td>\n",
       "      <td>0.0</td>\n",
       "      <td>0.0</td>\n",
       "      <td>0.0</td>\n",
       "      <td>0.0</td>\n",
       "      <td>0.0</td>\n",
       "      <td>Coreee Reenon</td>\n",
       "    </tr>\n",
       "    <tr>\n",
       "      <th>4</th>\n",
       "      <td>8640_01</td>\n",
       "      <td>Earth</td>\n",
       "      <td>False</td>\n",
       "      <td>F/1666/S</td>\n",
       "      <td>NaN</td>\n",
       "      <td>50.0</td>\n",
       "      <td>False</td>\n",
       "      <td>133.0</td>\n",
       "      <td>0.0</td>\n",
       "      <td>525.0</td>\n",
       "      <td>0.0</td>\n",
       "      <td>31.0</td>\n",
       "      <td>Diandy Hurchrisong</td>\n",
       "    </tr>\n",
       "  </tbody>\n",
       "</table>\n",
       "</div>"
      ],
      "text/plain": [
       "  PassengerId HomePlanet CryoSleep     Cabin    Destination   Age    VIP  RoomService  FoodCourt  ShoppingMall  Spa  VRDeck                Name\n",
       "0     8026_01       Mars      True  F/1534/S    TRAPPIST-1e  29.0  False          0.0        0.0           0.0  0.0     0.0          Losp Ruité\n",
       "1     6734_03     Europa      True   C/249/S    55 Cancri e  37.0   True          0.0        0.0           0.0  0.0     0.0   Alhaino Sparsaxle\n",
       "2     8186_04      Earth      True  G/1319/S  PSO J318.5-22  23.0  False          0.0        0.0           0.0  0.0     0.0   Rayley Jenkinnedy\n",
       "3     4942_02      Earth      True   G/806/S    TRAPPIST-1e  36.0  False          0.0        0.0           0.0  0.0     0.0       Coreee Reenon\n",
       "4     8640_01      Earth     False  F/1666/S            NaN  50.0  False        133.0        0.0         525.0  0.0    31.0  Diandy Hurchrisong"
      ]
     },
     "metadata": {},
     "output_type": "display_data"
    }
   ],
   "source": [
    "display(train.head(),\n",
    "        test.head())"
   ]
  },
  {
   "cell_type": "markdown",
   "id": "804d3206-bbc9-4f4f-a990-72043cd81043",
   "metadata": {},
   "source": [
    "# Предобработка и EDA"
   ]
  },
  {
   "cell_type": "markdown",
   "id": "a922aba2-488e-475f-a1d2-0ff349ff9ea9",
   "metadata": {},
   "source": [
    "## Размеры датасетов, количество пропущенных значений"
   ]
  },
  {
   "cell_type": "code",
   "execution_count": 7,
   "id": "84e64bd9-cfec-442f-a115-d9e27d992032",
   "metadata": {},
   "outputs": [
    {
     "name": "stdout",
     "output_type": "stream",
     "text": [
      "----------------train data----------------\n",
      "\n",
      "(6954, 14)\n",
      "----------------test data----------------\n",
      "\n",
      "(1739, 13)\n"
     ]
    }
   ],
   "source": [
    "print('----------------train data----------------', end='\\n\\n')\n",
    "print(train.shape)\n",
    "print('----------------test data----------------', end='\\n\\n')\n",
    "print(test.shape)"
   ]
  },
  {
   "cell_type": "markdown",
   "id": "57b897a9",
   "metadata": {},
   "source": [
    "Так как пассажиры обоих датасетов находятся на одном корабле - соединим датасеты и будем рассматривать их как одино целое"
   ]
  },
  {
   "cell_type": "code",
   "execution_count": 8,
   "id": "b66b55aa-977c-4bff-89f9-081f9afa604d",
   "metadata": {},
   "outputs": [
    {
     "data": {
      "text/plain": [
       "(8693, 14)"
      ]
     },
     "execution_count": 8,
     "metadata": {},
     "output_type": "execute_result"
    }
   ],
   "source": [
    "all_data = pd.concat([train, test]).reset_index(drop=True)\n",
    "all_data.shape"
   ]
  },
  {
   "cell_type": "markdown",
   "id": "cc187359-a79f-4510-8617-ef4bf1954313",
   "metadata": {},
   "source": [
    "Количество пропущенных значений"
   ]
  },
  {
   "cell_type": "code",
   "execution_count": 9,
   "id": "8a9426d4-0385-4482-aecd-5c6582a749ef",
   "metadata": {},
   "outputs": [
    {
     "data": {
      "text/plain": [
       "PassengerId        0\n",
       "HomePlanet       201\n",
       "CryoSleep        217\n",
       "Cabin            199\n",
       "Destination      182\n",
       "Age              179\n",
       "VIP              203\n",
       "RoomService      181\n",
       "FoodCourt        183\n",
       "ShoppingMall     208\n",
       "Spa              183\n",
       "VRDeck           188\n",
       "Name             200\n",
       "Transported     1739\n",
       "dtype: int64"
      ]
     },
     "execution_count": 9,
     "metadata": {},
     "output_type": "execute_result"
    }
   ],
   "source": [
    "all_data.isna().sum()"
   ]
  },
  {
   "cell_type": "markdown",
   "id": "030aa5f5",
   "metadata": {},
   "source": [
    "Графическое отображение пропущенных значений"
   ]
  },
  {
   "cell_type": "code",
   "execution_count": 10,
   "id": "9f5dd948",
   "metadata": {},
   "outputs": [
    {
     "data": {
      "text/plain": [
       "<AxesSubplot:>"
      ]
     },
     "execution_count": 10,
     "metadata": {},
     "output_type": "execute_result"
    },
    {
     "data": {
      "image/png": "[encoded data removed]",
      "text/plain": [
       "<Figure size 1800x720 with 2 Axes>"
      ]
     },
     "metadata": {
      "needs_background": "light"
     },
     "output_type": "display_data"
    }
   ],
   "source": [
    "msno.matrix(all_data)"
   ]
  },
  {
   "cell_type": "markdown",
   "id": "2fe0e14e-3287-4bbf-8fcf-e7da4311ee26",
   "metadata": {},
   "source": [
    "## Дополнительные столбцы"
   ]
  },
  {
   "cell_type": "markdown",
   "id": "63161956",
   "metadata": {},
   "source": [
    "Принимая во внимание описание данных, разделим данные столбцов `cabin` и `passenger_id` на столбцы содержащие:"
   ]
  },
  {
   "cell_type": "code",
   "execution_count": 11,
   "id": "150a4702-ff8d-4117-b08f-515a8c176073",
   "metadata": {},
   "outputs": [],
   "source": [
    "all_data['group_id'] = all_data.PassengerId.str.split(r'_\\s*').str[0] # id группы\n",
    "all_data['number_in_group'] = all_data.PassengerId.str.split(r'_\\s*').str[1]  # номер в группе\n",
    "\n",
    "all_data['deck'] = all_data.Cabin.str.split(r'/\\s*').str[0] # палуба\n",
    "all_data['number'] = all_data.Cabin.str.split(r'/\\s*').str[1] # номер\n",
    "all_data['side'] = all_data.Cabin.str.split(r'/\\s*').str[2] # сторона\n",
    "\n",
    "all_data = all_data.drop('PassengerId', axis=1) # удалим ненужные столбцы\n",
    "all_data = all_data.drop('Cabin', axis=1)"
   ]
  },
  {
   "cell_type": "markdown",
   "id": "1cec6ba7",
   "metadata": {},
   "source": [
    "Оценим данные после добавления дополнительных столбцов"
   ]
  },
  {
   "cell_type": "code",
   "execution_count": 12,
   "id": "9f0ce6bf-ce34-4432-baf0-4b7426c7f456",
   "metadata": {},
   "outputs": [
    {
     "data": {
      "text/html": [
       "<div>\n",
       "<style scoped>\n",
       "    .dataframe tbody tr th:only-of-type {\n",
       "        vertical-align: middle;\n",
       "    }\n",
       "\n",
       "    .dataframe tbody tr th {\n",
       "        vertical-align: top;\n",
       "    }\n",
       "\n",
       "    .dataframe thead th {\n",
       "        text-align: right;\n",
       "    }\n",
       "</style>\n",
       "<table border=\"1\" class=\"dataframe\">\n",
       "  <thead>\n",
       "    <tr style=\"text-align: right;\">\n",
       "      <th></th>\n",
       "      <th>HomePlanet</th>\n",
       "      <th>CryoSleep</th>\n",
       "      <th>Destination</th>\n",
       "      <th>Age</th>\n",
       "      <th>VIP</th>\n",
       "      <th>RoomService</th>\n",
       "      <th>FoodCourt</th>\n",
       "      <th>ShoppingMall</th>\n",
       "      <th>Spa</th>\n",
       "      <th>VRDeck</th>\n",
       "      <th>Name</th>\n",
       "      <th>Transported</th>\n",
       "      <th>group_id</th>\n",
       "      <th>number_in_group</th>\n",
       "      <th>deck</th>\n",
       "      <th>number</th>\n",
       "      <th>side</th>\n",
       "    </tr>\n",
       "  </thead>\n",
       "  <tbody>\n",
       "    <tr>\n",
       "      <th>0</th>\n",
       "      <td>Mars</td>\n",
       "      <td>False</td>\n",
       "      <td>PSO J318.5-22</td>\n",
       "      <td>40.0</td>\n",
       "      <td>True</td>\n",
       "      <td>301.0</td>\n",
       "      <td>0.0</td>\n",
       "      <td>1310.0</td>\n",
       "      <td>4.0</td>\n",
       "      <td>NaN</td>\n",
       "      <td>Sters Bun</td>\n",
       "      <td>True</td>\n",
       "      <td>6234</td>\n",
       "      <td>01</td>\n",
       "      <td>F</td>\n",
       "      <td>1287</td>\n",
       "      <td>P</td>\n",
       "    </tr>\n",
       "    <tr>\n",
       "      <th>1</th>\n",
       "      <td>Europa</td>\n",
       "      <td>False</td>\n",
       "      <td>55 Cancri e</td>\n",
       "      <td>13.0</td>\n",
       "      <td>False</td>\n",
       "      <td>1212.0</td>\n",
       "      <td>4485.0</td>\n",
       "      <td>0.0</td>\n",
       "      <td>4016.0</td>\n",
       "      <td>57.0</td>\n",
       "      <td>Marin Hednigic</td>\n",
       "      <td>False</td>\n",
       "      <td>8826</td>\n",
       "      <td>01</td>\n",
       "      <td>C</td>\n",
       "      <td>290</td>\n",
       "      <td>P</td>\n",
       "    </tr>\n",
       "    <tr>\n",
       "      <th>2</th>\n",
       "      <td>Europa</td>\n",
       "      <td>False</td>\n",
       "      <td>TRAPPIST-1e</td>\n",
       "      <td>28.0</td>\n",
       "      <td>False</td>\n",
       "      <td>0.0</td>\n",
       "      <td>2560.0</td>\n",
       "      <td>0.0</td>\n",
       "      <td>134.0</td>\n",
       "      <td>307.0</td>\n",
       "      <td>Azhasim Inguel</td>\n",
       "      <td>False</td>\n",
       "      <td>4453</td>\n",
       "      <td>01</td>\n",
       "      <td>D</td>\n",
       "      <td>149</td>\n",
       "      <td>P</td>\n",
       "    </tr>\n",
       "    <tr>\n",
       "      <th>3</th>\n",
       "      <td>Mars</td>\n",
       "      <td>True</td>\n",
       "      <td>TRAPPIST-1e</td>\n",
       "      <td>21.0</td>\n",
       "      <td>False</td>\n",
       "      <td>0.0</td>\n",
       "      <td>0.0</td>\n",
       "      <td>0.0</td>\n",
       "      <td>0.0</td>\n",
       "      <td>0.0</td>\n",
       "      <td>Rana Brine</td>\n",
       "      <td>True</td>\n",
       "      <td>0602</td>\n",
       "      <td>03</td>\n",
       "      <td>F</td>\n",
       "      <td>125</td>\n",
       "      <td>P</td>\n",
       "    </tr>\n",
       "    <tr>\n",
       "      <th>4</th>\n",
       "      <td>Earth</td>\n",
       "      <td>False</td>\n",
       "      <td>TRAPPIST-1e</td>\n",
       "      <td>6.0</td>\n",
       "      <td>False</td>\n",
       "      <td>0.0</td>\n",
       "      <td>0.0</td>\n",
       "      <td>0.0</td>\n",
       "      <td>0.0</td>\n",
       "      <td>0.0</td>\n",
       "      <td>Daisya Traverdy</td>\n",
       "      <td>True</td>\n",
       "      <td>8796</td>\n",
       "      <td>01</td>\n",
       "      <td>G</td>\n",
       "      <td>1418</td>\n",
       "      <td>S</td>\n",
       "    </tr>\n",
       "  </tbody>\n",
       "</table>\n",
       "</div>"
      ],
      "text/plain": [
       "  HomePlanet CryoSleep    Destination   Age    VIP  RoomService  FoodCourt  ShoppingMall     Spa  VRDeck             Name Transported group_id number_in_group deck number side\n",
       "0       Mars     False  PSO J318.5-22  40.0   True        301.0        0.0        1310.0     4.0     NaN        Sters Bun        True     6234              01    F   1287    P\n",
       "1     Europa     False    55 Cancri e  13.0  False       1212.0     4485.0           0.0  4016.0    57.0   Marin Hednigic       False     8826              01    C    290    P\n",
       "2     Europa     False    TRAPPIST-1e  28.0  False          0.0     2560.0           0.0   134.0   307.0   Azhasim Inguel       False     4453              01    D    149    P\n",
       "3       Mars      True    TRAPPIST-1e  21.0  False          0.0        0.0           0.0     0.0     0.0       Rana Brine        True     0602              03    F    125    P\n",
       "4      Earth     False    TRAPPIST-1e   6.0  False          0.0        0.0           0.0     0.0     0.0  Daisya Traverdy        True     8796              01    G   1418    S"
      ]
     },
     "execution_count": 12,
     "metadata": {},
     "output_type": "execute_result"
    }
   ],
   "source": [
    "all_data.head()"
   ]
  },
  {
   "cell_type": "markdown",
   "id": "aefa6df3-ba67-4946-97b3-4bf226537dfe",
   "metadata": {},
   "source": [
    "## Переименование столбцов"
   ]
  },
  {
   "cell_type": "markdown",
   "id": "dcd366a9",
   "metadata": {},
   "source": [
    "Приведем название стобцов к snack_case"
   ]
  },
  {
   "cell_type": "code",
   "execution_count": 13,
   "id": "dbf1e50a-e10b-49fe-aa92-bd029d62fa3b",
   "metadata": {},
   "outputs": [
    {
     "data": {
      "text/plain": [
       "Index(['HomePlanet', 'CryoSleep', 'Destination', 'Age', 'VIP', 'RoomService', 'FoodCourt', 'ShoppingMall', 'Spa', 'VRDeck', 'Name', 'Transported', 'group_id', 'number_in_group', 'deck', 'number', 'side'], dtype='object')"
      ]
     },
     "execution_count": 13,
     "metadata": {},
     "output_type": "execute_result"
    }
   ],
   "source": [
    "all_data.columns"
   ]
  },
  {
   "cell_type": "code",
   "execution_count": 14,
   "id": "de97de4d-2412-4800-bd50-201352ec00f6",
   "metadata": {},
   "outputs": [],
   "source": [
    "all_data = all_data.rename(columns={'HomePlanet': 'home_planet', \n",
    "                                    'CryoSleep': 'cryo_sleep',\n",
    "                                    'Destination': 'destination',\n",
    "                                    'Age': 'age',\n",
    "                                    'VIP': 'vip',\n",
    "                                    'RoomService': 'room_service',\n",
    "                                    'FoodCourt': 'food_court',\n",
    "                                    'ShoppingMall': 'shopping_mall',\n",
    "                                    'Spa': 'spa',\n",
    "                                    'VRDeck': 'vr_deck',\n",
    "                                    'Name': 'name',\n",
    "                                    'Transported': 'transported'\n",
    "                                   })"
   ]
  },
  {
   "cell_type": "code",
   "execution_count": 15,
   "id": "8f01343e-8a54-4e50-a225-bfa4a92b5c65",
   "metadata": {},
   "outputs": [
    {
     "data": {
      "text/plain": [
       "Index(['home_planet', 'cryo_sleep', 'destination', 'age', 'vip', 'room_service', 'food_court', 'shopping_mall', 'spa', 'vr_deck', 'name', 'transported', 'group_id', 'number_in_group', 'deck', 'number', 'side'], dtype='object')"
      ]
     },
     "execution_count": 15,
     "metadata": {},
     "output_type": "execute_result"
    }
   ],
   "source": [
    "all_data.columns"
   ]
  },
  {
   "cell_type": "markdown",
   "id": "9333abd8-453f-40d5-bdca-51d747281040",
   "metadata": {},
   "source": [
    "## Deck, number, side"
   ]
  },
  {
   "cell_type": "markdown",
   "id": "1a816b32",
   "metadata": {},
   "source": [
    "Начнем работу с пропущенными значениями, оценим количество пропущенных значений в стобцах: `deck`, `number`, `side`"
   ]
  },
  {
   "cell_type": "code",
   "execution_count": 16,
   "id": "62455425-f0c9-4d2a-af3b-27f53990349c",
   "metadata": {},
   "outputs": [
    {
     "data": {
      "text/plain": [
       "deck      199\n",
       "number    199\n",
       "side      199\n",
       "dtype: int64"
      ]
     },
     "execution_count": 16,
     "metadata": {},
     "output_type": "execute_result"
    }
   ],
   "source": [
    "all_data[['deck', 'number', 'side']].isna().sum()"
   ]
  },
  {
   "cell_type": "markdown",
   "id": "ba4f51e4",
   "metadata": {},
   "source": [
    "Мы можем заполнить пропущенные значения в стобцах: `deck`, `number`, `side` значениями попутчиков из групповых трансферов"
   ]
  },
  {
   "cell_type": "code",
   "execution_count": 17,
   "id": "1d249956-cc03-4ba3-8f35-0e7db39345a1",
   "metadata": {},
   "outputs": [],
   "source": [
    " # Список групповых идетификатор группы\n",
    "group_id_list = list(all_data.groupby(by=['group_id'])['group_id'].agg(['count']).query('count > 1').index)\n",
    "\n",
    "for index, row in all_data.iterrows(): # Итерация по датасету\n",
    "    group_id = row.group_id \n",
    "    \n",
    "    if group_id in group_id_list and row.deck != row.deck:\n",
    "        \n",
    "        request_data = pd.DataFrame(all_data.query('group_id in @group_id')) # Запрос данных по группе\n",
    "        \n",
    "        for request_index, request_row in request_data.iterrows():\n",
    "            \n",
    "            if request_row.deck == request_row.deck:\n",
    "                \n",
    "                all_data.loc[index, 'deck'] = request_row.deck # Найденные значения\n",
    "                all_data.loc[index, 'number'] = request_row.number\n",
    "                all_data.loc[index, 'side'] = request_row.side"
   ]
  },
  {
   "cell_type": "markdown",
   "id": "6097baf1",
   "metadata": {},
   "source": [
    "Проверим количество пропущенных значений после заполнения"
   ]
  },
  {
   "cell_type": "code",
   "execution_count": 18,
   "id": "6f992175-a6ee-45e7-8d83-47225d5a0c4d",
   "metadata": {},
   "outputs": [
    {
     "data": {
      "text/plain": [
       "deck      99\n",
       "number    99\n",
       "side      99\n",
       "dtype: int64"
      ]
     },
     "execution_count": 18,
     "metadata": {},
     "output_type": "execute_result"
    }
   ],
   "source": [
    "all_data[['deck', 'number', 'side']].isna().sum()"
   ]
  },
  {
   "cell_type": "markdown",
   "id": "f9c14653",
   "metadata": {},
   "source": [
    "### Side"
   ]
  },
  {
   "cell_type": "markdown",
   "id": "7f842867",
   "metadata": {},
   "source": [
    "Оценим статистику перемещений в разрезе стороны корабля"
   ]
  },
  {
   "cell_type": "code",
   "execution_count": 19,
   "id": "80fdee14",
   "metadata": {},
   "outputs": [],
   "source": [
    "def cat_stat(target_feature):\n",
    "    temp_table = (all_data.groupby(by=[target_feature])['transported']\n",
    "                          .agg(['count', 'sum', 'mean'])\n",
    "                          .rename(columns={'count': 'total',\n",
    "                                           'sum': 'transported'\n",
    "                                           }))\n",
    "    display(temp_table.head(10))\n",
    "    \n",
    "    if target_feature == 'vip' or target_feature == 'cryo_sleep':\n",
    "        temp_table.index = ['False', 'True']\n",
    "\n",
    "    f, ax = plt.subplots(figsize=(20, 7))\n",
    "    \n",
    "    sns.set_theme(style='whitegrid')\n",
    "    sns.set_color_codes('pastel')\n",
    "    sns.barplot(x=temp_table.index, y='total',\n",
    "                data=temp_table, label='Total', color='b', orient='v')\n",
    "    sns.set_color_codes('muted')\n",
    "    sns.barplot(x=temp_table.index, y='transported',\n",
    "                data=temp_table, label='Transported', color='b', orient='v')\n",
    "    ax.legend(ncol=2, loc='right', frameon=True)\n",
    "    ax.set(ylabel='',\n",
    "           xlabel='Transported passenger per ' + target_feature)"
   ]
  },
  {
   "cell_type": "code",
   "execution_count": 20,
   "id": "d8fd2edc",
   "metadata": {},
   "outputs": [
    {
     "data": {
      "text/html": [
       "<div>\n",
       "<style scoped>\n",
       "    .dataframe tbody tr th:only-of-type {\n",
       "        vertical-align: middle;\n",
       "    }\n",
       "\n",
       "    .dataframe tbody tr th {\n",
       "        vertical-align: top;\n",
       "    }\n",
       "\n",
       "    .dataframe thead th {\n",
       "        text-align: right;\n",
       "    }\n",
       "</style>\n",
       "<table border=\"1\" class=\"dataframe\">\n",
       "  <thead>\n",
       "    <tr style=\"text-align: right;\">\n",
       "      <th></th>\n",
       "      <th>total</th>\n",
       "      <th>transported</th>\n",
       "      <th>mean</th>\n",
       "    </tr>\n",
       "    <tr>\n",
       "      <th>side</th>\n",
       "      <th></th>\n",
       "      <th></th>\n",
       "      <th></th>\n",
       "    </tr>\n",
       "  </thead>\n",
       "  <tbody>\n",
       "    <tr>\n",
       "      <th>P</th>\n",
       "      <td>3427</td>\n",
       "      <td>1560</td>\n",
       "      <td>0.455209</td>\n",
       "    </tr>\n",
       "    <tr>\n",
       "      <th>S</th>\n",
       "      <td>3449</td>\n",
       "      <td>1908</td>\n",
       "      <td>0.553204</td>\n",
       "    </tr>\n",
       "  </tbody>\n",
       "</table>\n",
       "</div>"
      ],
      "text/plain": [
       "      total transported      mean\n",
       "side                             \n",
       "P      3427        1560  0.455209\n",
       "S      3449        1908  0.553204"
      ]
     },
     "metadata": {},
     "output_type": "display_data"
    },
    {
     "data": {
      "image/png": "[encoded data removed]",
      "text/plain": [
       "<Figure size 1440x504 with 1 Axes>"
      ]
     },
     "metadata": {
      "needs_background": "light"
     },
     "output_type": "display_data"
    }
   ],
   "source": [
    "cat_stat('side')"
   ]
  },
  {
   "cell_type": "markdown",
   "id": "ea3af34c",
   "metadata": {},
   "source": [
    "Как мы можем видеть из данных диаграммы выше, пассажиры стороны `S` имеют большие шансы долететь до места назначения чем пассажиры стороны `p`: 55 процентов против 45 процентов."
   ]
  },
  {
   "cell_type": "markdown",
   "id": "9d10b3ec",
   "metadata": {},
   "source": [
    "### Deck"
   ]
  },
  {
   "cell_type": "markdown",
   "id": "1ad9404b",
   "metadata": {},
   "source": [
    "А как зависит перелет от нахождения на различных палубах корабля?"
   ]
  },
  {
   "cell_type": "code",
   "execution_count": 21,
   "id": "292295be-a6b8-4d63-86cd-8a4f699072a5",
   "metadata": {},
   "outputs": [
    {
     "data": {
      "text/html": [
       "<div>\n",
       "<style scoped>\n",
       "    .dataframe tbody tr th:only-of-type {\n",
       "        vertical-align: middle;\n",
       "    }\n",
       "\n",
       "    .dataframe tbody tr th {\n",
       "        vertical-align: top;\n",
       "    }\n",
       "\n",
       "    .dataframe thead th {\n",
       "        text-align: right;\n",
       "    }\n",
       "</style>\n",
       "<table border=\"1\" class=\"dataframe\">\n",
       "  <thead>\n",
       "    <tr style=\"text-align: right;\">\n",
       "      <th></th>\n",
       "      <th>total</th>\n",
       "      <th>transported</th>\n",
       "      <th>mean</th>\n",
       "    </tr>\n",
       "    <tr>\n",
       "      <th>deck</th>\n",
       "      <th></th>\n",
       "      <th></th>\n",
       "      <th></th>\n",
       "    </tr>\n",
       "  </thead>\n",
       "  <tbody>\n",
       "    <tr>\n",
       "      <th>A</th>\n",
       "      <td>206</td>\n",
       "      <td>103</td>\n",
       "      <td>0.500000</td>\n",
       "    </tr>\n",
       "    <tr>\n",
       "      <th>B</th>\n",
       "      <td>647</td>\n",
       "      <td>473</td>\n",
       "      <td>0.731066</td>\n",
       "    </tr>\n",
       "    <tr>\n",
       "      <th>C</th>\n",
       "      <td>599</td>\n",
       "      <td>411</td>\n",
       "      <td>0.686144</td>\n",
       "    </tr>\n",
       "    <tr>\n",
       "      <th>D</th>\n",
       "      <td>384</td>\n",
       "      <td>168</td>\n",
       "      <td>0.437500</td>\n",
       "    </tr>\n",
       "    <tr>\n",
       "      <th>E</th>\n",
       "      <td>720</td>\n",
       "      <td>270</td>\n",
       "      <td>0.375000</td>\n",
       "    </tr>\n",
       "    <tr>\n",
       "      <th>F</th>\n",
       "      <td>2250</td>\n",
       "      <td>995</td>\n",
       "      <td>0.442222</td>\n",
       "    </tr>\n",
       "    <tr>\n",
       "      <th>G</th>\n",
       "      <td>2067</td>\n",
       "      <td>1048</td>\n",
       "      <td>0.507015</td>\n",
       "    </tr>\n",
       "    <tr>\n",
       "      <th>T</th>\n",
       "      <td>3</td>\n",
       "      <td>0</td>\n",
       "      <td>0.000000</td>\n",
       "    </tr>\n",
       "  </tbody>\n",
       "</table>\n",
       "</div>"
      ],
      "text/plain": [
       "      total transported      mean\n",
       "deck                             \n",
       "A       206         103  0.500000\n",
       "B       647         473  0.731066\n",
       "C       599         411  0.686144\n",
       "D       384         168  0.437500\n",
       "E       720         270  0.375000\n",
       "F      2250         995  0.442222\n",
       "G      2067        1048  0.507015\n",
       "T         3           0  0.000000"
      ]
     },
     "metadata": {},
     "output_type": "display_data"
    },
    {
     "data": {
      "image/png": "[encoded data removed]",
      "text/plain": [
       "<Figure size 1440x504 with 1 Axes>"
      ]
     },
     "metadata": {},
     "output_type": "display_data"
    }
   ],
   "source": [
    "cat_stat('deck')"
   ]
  },
  {
   "cell_type": "markdown",
   "id": "acb75d0b",
   "metadata": {},
   "source": [
    "Палубу `T` можем не принимать во внимание - всего три  человека находилось на ней во время перелета и не один из них не добрался до места назначения (может это был мостик корабля - капитан последний покидает корабль), рассмотрев данные приходим к выводу: большинство пассажиров расположилось на палубах `F` и `G`: 4317 пассажиров, шансы долететь которых состовляют 44 и 50 процентов соответсвенно. Самые высокие шансы добраться до места назначения у пассажиров палубы `B` - 73 процента, самые низкие у палубы `E` - 37 процентов."
   ]
  },
  {
   "cell_type": "markdown",
   "id": "0fc5fe63-c60b-4685-b99a-dde38ca78b76",
   "metadata": {},
   "source": [
    "## HomePlanet"
   ]
  },
  {
   "cell_type": "markdown",
   "id": "b1a6e9db-7cd0-4eac-bd21-70a7c233b902",
   "metadata": {},
   "source": [
    "Можем заполнить пропуски `HomePlanet` для групповых трансферов - значениями `HomePlanet` других членов группы"
   ]
  },
  {
   "cell_type": "code",
   "execution_count": 22,
   "id": "347ddc96-2b64-4913-b8a2-08c09fc7065b",
   "metadata": {},
   "outputs": [
    {
     "data": {
      "text/html": [
       "<div>\n",
       "<style scoped>\n",
       "    .dataframe tbody tr th:only-of-type {\n",
       "        vertical-align: middle;\n",
       "    }\n",
       "\n",
       "    .dataframe tbody tr th {\n",
       "        vertical-align: top;\n",
       "    }\n",
       "\n",
       "    .dataframe thead th {\n",
       "        text-align: right;\n",
       "    }\n",
       "</style>\n",
       "<table border=\"1\" class=\"dataframe\">\n",
       "  <thead>\n",
       "    <tr style=\"text-align: right;\">\n",
       "      <th></th>\n",
       "      <th>home_planet</th>\n",
       "      <th>cryo_sleep</th>\n",
       "      <th>destination</th>\n",
       "      <th>age</th>\n",
       "      <th>vip</th>\n",
       "      <th>room_service</th>\n",
       "      <th>food_court</th>\n",
       "      <th>shopping_mall</th>\n",
       "      <th>spa</th>\n",
       "      <th>vr_deck</th>\n",
       "      <th>name</th>\n",
       "      <th>transported</th>\n",
       "      <th>group_id</th>\n",
       "      <th>number_in_group</th>\n",
       "      <th>deck</th>\n",
       "      <th>number</th>\n",
       "      <th>side</th>\n",
       "    </tr>\n",
       "  </thead>\n",
       "  <tbody>\n",
       "    <tr>\n",
       "      <th>282</th>\n",
       "      <td>NaN</td>\n",
       "      <td>False</td>\n",
       "      <td>PSO J318.5-22</td>\n",
       "      <td>12.0</td>\n",
       "      <td>False</td>\n",
       "      <td>0.0</td>\n",
       "      <td>0.0</td>\n",
       "      <td>0.0</td>\n",
       "      <td>0.0</td>\n",
       "      <td>0.0</td>\n",
       "      <td>Joyton Willy</td>\n",
       "      <td>True</td>\n",
       "      <td>5090</td>\n",
       "      <td>03</td>\n",
       "      <td>G</td>\n",
       "      <td>821</td>\n",
       "      <td>P</td>\n",
       "    </tr>\n",
       "    <tr>\n",
       "      <th>1872</th>\n",
       "      <td>Earth</td>\n",
       "      <td>False</td>\n",
       "      <td>NaN</td>\n",
       "      <td>11.0</td>\n",
       "      <td>False</td>\n",
       "      <td>0.0</td>\n",
       "      <td>0.0</td>\n",
       "      <td>0.0</td>\n",
       "      <td>0.0</td>\n",
       "      <td>0.0</td>\n",
       "      <td>Scotte Willy</td>\n",
       "      <td>True</td>\n",
       "      <td>5090</td>\n",
       "      <td>06</td>\n",
       "      <td>G</td>\n",
       "      <td>821</td>\n",
       "      <td>P</td>\n",
       "    </tr>\n",
       "    <tr>\n",
       "      <th>2203</th>\n",
       "      <td>Earth</td>\n",
       "      <td>True</td>\n",
       "      <td>TRAPPIST-1e</td>\n",
       "      <td>0.0</td>\n",
       "      <td>False</td>\n",
       "      <td>0.0</td>\n",
       "      <td>0.0</td>\n",
       "      <td>0.0</td>\n",
       "      <td>0.0</td>\n",
       "      <td>0.0</td>\n",
       "      <td>Luzel Willy</td>\n",
       "      <td>False</td>\n",
       "      <td>5090</td>\n",
       "      <td>02</td>\n",
       "      <td>G</td>\n",
       "      <td>821</td>\n",
       "      <td>P</td>\n",
       "    </tr>\n",
       "    <tr>\n",
       "      <th>3897</th>\n",
       "      <td>Earth</td>\n",
       "      <td>False</td>\n",
       "      <td>PSO J318.5-22</td>\n",
       "      <td>32.0</td>\n",
       "      <td>False</td>\n",
       "      <td>793.0</td>\n",
       "      <td>0.0</td>\n",
       "      <td>0.0</td>\n",
       "      <td>0.0</td>\n",
       "      <td>0.0</td>\n",
       "      <td>Annya Willy</td>\n",
       "      <td>False</td>\n",
       "      <td>5090</td>\n",
       "      <td>05</td>\n",
       "      <td>E</td>\n",
       "      <td>316</td>\n",
       "      <td>P</td>\n",
       "    </tr>\n",
       "    <tr>\n",
       "      <th>4850</th>\n",
       "      <td>Earth</td>\n",
       "      <td>NaN</td>\n",
       "      <td>TRAPPIST-1e</td>\n",
       "      <td>0.0</td>\n",
       "      <td>False</td>\n",
       "      <td>0.0</td>\n",
       "      <td>0.0</td>\n",
       "      <td>0.0</td>\n",
       "      <td>0.0</td>\n",
       "      <td>0.0</td>\n",
       "      <td>NaN</td>\n",
       "      <td>False</td>\n",
       "      <td>5090</td>\n",
       "      <td>01</td>\n",
       "      <td>G</td>\n",
       "      <td>821</td>\n",
       "      <td>P</td>\n",
       "    </tr>\n",
       "    <tr>\n",
       "      <th>5456</th>\n",
       "      <td>Earth</td>\n",
       "      <td>True</td>\n",
       "      <td>TRAPPIST-1e</td>\n",
       "      <td>7.0</td>\n",
       "      <td>False</td>\n",
       "      <td>0.0</td>\n",
       "      <td>0.0</td>\n",
       "      <td>0.0</td>\n",
       "      <td>0.0</td>\n",
       "      <td>0.0</td>\n",
       "      <td>Adamy Willy</td>\n",
       "      <td>False</td>\n",
       "      <td>5090</td>\n",
       "      <td>04</td>\n",
       "      <td>G</td>\n",
       "      <td>821</td>\n",
       "      <td>P</td>\n",
       "    </tr>\n",
       "  </tbody>\n",
       "</table>\n",
       "</div>"
      ],
      "text/plain": [
       "     home_planet cryo_sleep    destination   age    vip  room_service  food_court  shopping_mall  spa  vr_deck          name transported group_id number_in_group deck number side\n",
       "282          NaN      False  PSO J318.5-22  12.0  False           0.0         0.0            0.0  0.0      0.0  Joyton Willy        True     5090              03    G    821    P\n",
       "1872       Earth      False            NaN  11.0  False           0.0         0.0            0.0  0.0      0.0  Scotte Willy        True     5090              06    G    821    P\n",
       "2203       Earth       True    TRAPPIST-1e   0.0  False           0.0         0.0            0.0  0.0      0.0   Luzel Willy       False     5090              02    G    821    P\n",
       "3897       Earth      False  PSO J318.5-22  32.0  False         793.0         0.0            0.0  0.0      0.0   Annya Willy       False     5090              05    E    316    P\n",
       "4850       Earth        NaN    TRAPPIST-1e   0.0  False           0.0         0.0            0.0  0.0      0.0           NaN       False     5090              01    G    821    P\n",
       "5456       Earth       True    TRAPPIST-1e   7.0  False           0.0         0.0            0.0  0.0      0.0   Adamy Willy       False     5090              04    G    821    P"
      ]
     },
     "execution_count": 22,
     "metadata": {},
     "output_type": "execute_result"
    }
   ],
   "source": [
    "all_data.query('group_id == \"5090\"')"
   ]
  },
  {
   "cell_type": "markdown",
   "id": "836358b9",
   "metadata": {},
   "source": [
    "Оценим пропущенные значения в столбцах `home_planet`, `vip` и `destination`"
   ]
  },
  {
   "cell_type": "code",
   "execution_count": 23,
   "id": "48e18c1f",
   "metadata": {},
   "outputs": [
    {
     "data": {
      "text/plain": [
       "home_planet    201\n",
       "vip            203\n",
       "destination    182\n",
       "dtype: int64"
      ]
     },
     "execution_count": 23,
     "metadata": {},
     "output_type": "execute_result"
    }
   ],
   "source": [
    "all_data[['home_planet', 'vip', 'destination']].isna().sum()"
   ]
  },
  {
   "cell_type": "markdown",
   "id": "e419793c",
   "metadata": {},
   "source": [
    "Заполним их данными из групповых трансферов"
   ]
  },
  {
   "cell_type": "code",
   "execution_count": 24,
   "id": "058f5618-ba6a-44ee-b1c5-be5fd4c7bcd8",
   "metadata": {},
   "outputs": [],
   "source": [
    "for index, row in all_data.iterrows():  # Итерация по строкам датасета\n",
    "    group_id = row.group_id\n",
    "\n",
    "    if group_id in group_id_list and (row.home_planet != row.home_planet # Проверка вхождения group_id в группы\n",
    "                                      or row.vip != row.vip \n",
    "                                      or row.destination != row.destination):\n",
    "\n",
    "        request_data = pd.DataFrame(all_data.query('group_id in @group_id')) # Запрос данных по group_id\n",
    "\n",
    "        for request_index, request_row in request_data.iterrows(): # Итерация по строкам запроса\n",
    "\n",
    "            if request_row.home_planet == request_row.home_planet:\n",
    "                all_data.loc[index, 'home_planet'] = request_row.home_planet\n",
    "                \n",
    "            if request_row.vip == request_row.vip:\n",
    "                all_data.loc[index, 'vip'] = request_row.vip\n",
    "                \n",
    "            if request_row.destination == request_row.destination:\n",
    "                all_data.loc[index, 'destination'] = request_row.destination"
   ]
  },
  {
   "cell_type": "code",
   "execution_count": 25,
   "id": "1bba39b8",
   "metadata": {},
   "outputs": [
    {
     "data": {
      "text/plain": [
       "home_planet    111\n",
       "vip            116\n",
       "destination    103\n",
       "dtype: int64"
      ]
     },
     "execution_count": 25,
     "metadata": {},
     "output_type": "execute_result"
    }
   ],
   "source": [
    "all_data[['home_planet', 'vip', 'destination']].isna().sum()"
   ]
  },
  {
   "cell_type": "markdown",
   "id": "fccfe8f3",
   "metadata": {},
   "source": [
    "Оценим вероятность добраться до пункта назначения в зависимости от планеты отправления"
   ]
  },
  {
   "cell_type": "code",
   "execution_count": 26,
   "id": "ec9531b3-cfce-4efc-bfde-415fb53a5350",
   "metadata": {},
   "outputs": [
    {
     "data": {
      "text/html": [
       "<div>\n",
       "<style scoped>\n",
       "    .dataframe tbody tr th:only-of-type {\n",
       "        vertical-align: middle;\n",
       "    }\n",
       "\n",
       "    .dataframe tbody tr th {\n",
       "        vertical-align: top;\n",
       "    }\n",
       "\n",
       "    .dataframe thead th {\n",
       "        text-align: right;\n",
       "    }\n",
       "</style>\n",
       "<table border=\"1\" class=\"dataframe\">\n",
       "  <thead>\n",
       "    <tr style=\"text-align: right;\">\n",
       "      <th></th>\n",
       "      <th>total</th>\n",
       "      <th>transported</th>\n",
       "      <th>mean</th>\n",
       "    </tr>\n",
       "    <tr>\n",
       "      <th>home_planet</th>\n",
       "      <th></th>\n",
       "      <th></th>\n",
       "      <th></th>\n",
       "    </tr>\n",
       "  </thead>\n",
       "  <tbody>\n",
       "    <tr>\n",
       "      <th>Earth</th>\n",
       "      <td>3702</td>\n",
       "      <td>1565</td>\n",
       "      <td>0.422744</td>\n",
       "    </tr>\n",
       "    <tr>\n",
       "      <th>Europa</th>\n",
       "      <td>1727</td>\n",
       "      <td>1142</td>\n",
       "      <td>0.661262</td>\n",
       "    </tr>\n",
       "    <tr>\n",
       "      <th>Mars</th>\n",
       "      <td>1433</td>\n",
       "      <td>755</td>\n",
       "      <td>0.526867</td>\n",
       "    </tr>\n",
       "  </tbody>\n",
       "</table>\n",
       "</div>"
      ],
      "text/plain": [
       "             total transported      mean\n",
       "home_planet                             \n",
       "Earth         3702        1565  0.422744\n",
       "Europa        1727        1142  0.661262\n",
       "Mars          1433         755  0.526867"
      ]
     },
     "metadata": {},
     "output_type": "display_data"
    },
    {
     "data": {
      "image/png": "[encoded data removed]",
      "text/plain": [
       "<Figure size 1440x504 with 1 Axes>"
      ]
     },
     "metadata": {},
     "output_type": "display_data"
    }
   ],
   "source": [
    "cat_stat('home_planet')"
   ]
  },
  {
   "cell_type": "markdown",
   "id": "4b37dbe5",
   "metadata": {},
   "source": [
    "Большинство пассажиров вылетело с планеты `Earth` - 3702 пассажира, долетело 1565 пассажиров или 42 процента, на втором месте планета `Europa` - 1722 пассажира, долетело 1142 пассажира или 66 процентов, не далеко ушли пасажиры с планеты  `Mars` всего 1433 пассажира из них долетело 755 пассажиров или 52 процента."
   ]
  },
  {
   "cell_type": "markdown",
   "id": "577b6b1e-9972-4ab6-b014-c47e59ee3f2b",
   "metadata": {},
   "source": [
    "## Age"
   ]
  },
  {
   "cell_type": "markdown",
   "id": "6ab98846",
   "metadata": {},
   "source": [
    "Оценим пропуски в столбце `age`"
   ]
  },
  {
   "cell_type": "code",
   "execution_count": 27,
   "id": "63c493b8-6747-48f9-9daa-5bfef83d2b9f",
   "metadata": {},
   "outputs": [
    {
     "data": {
      "text/plain": [
       "179"
      ]
     },
     "execution_count": 27,
     "metadata": {},
     "output_type": "execute_result"
    }
   ],
   "source": [
    "all_data['age'].isna().sum()"
   ]
  },
  {
   "cell_type": "markdown",
   "id": "5b154cac",
   "metadata": {},
   "source": [
    "Мы конечно можем заполнить отсутсвующие значения стобца `age` медианным значением всего датасета, я считаю это неправильным - медианное значение возраста может отличаться в зависимости от планеты отправления (города, рассы, уровня развития цивидизации), будем заполнять медианным значением возраста относительно планеты отправлния, для этого нам понадобиться словарь `age_table`"
   ]
  },
  {
   "cell_type": "markdown",
   "id": "c93be706",
   "metadata": {},
   "source": [
    "При помощи группировки получим медианные значения возраста относительно планет отправления"
   ]
  },
  {
   "cell_type": "code",
   "execution_count": 28,
   "id": "d7b0a856-a590-4dad-829f-e53fb80a2d43",
   "metadata": {},
   "outputs": [
    {
     "data": {
      "text/html": [
       "<div>\n",
       "<style scoped>\n",
       "    .dataframe tbody tr th:only-of-type {\n",
       "        vertical-align: middle;\n",
       "    }\n",
       "\n",
       "    .dataframe tbody tr th {\n",
       "        vertical-align: top;\n",
       "    }\n",
       "\n",
       "    .dataframe thead th {\n",
       "        text-align: right;\n",
       "    }\n",
       "</style>\n",
       "<table border=\"1\" class=\"dataframe\">\n",
       "  <thead>\n",
       "    <tr style=\"text-align: right;\">\n",
       "      <th></th>\n",
       "      <th>median</th>\n",
       "    </tr>\n",
       "    <tr>\n",
       "      <th>home_planet</th>\n",
       "      <th></th>\n",
       "    </tr>\n",
       "  </thead>\n",
       "  <tbody>\n",
       "    <tr>\n",
       "      <th>Earth</th>\n",
       "      <td>23.0</td>\n",
       "    </tr>\n",
       "    <tr>\n",
       "      <th>Europa</th>\n",
       "      <td>33.0</td>\n",
       "    </tr>\n",
       "    <tr>\n",
       "      <th>Mars</th>\n",
       "      <td>28.0</td>\n",
       "    </tr>\n",
       "  </tbody>\n",
       "</table>\n",
       "</div>"
      ],
      "text/plain": [
       "             median\n",
       "home_planet        \n",
       "Earth          23.0\n",
       "Europa         33.0\n",
       "Mars           28.0"
      ]
     },
     "execution_count": 28,
     "metadata": {},
     "output_type": "execute_result"
    }
   ],
   "source": [
    "age_table = all_data.groupby(by=['home_planet'])['age'].agg(['median'])\n",
    "age_table"
   ]
  },
  {
   "cell_type": "code",
   "execution_count": 29,
   "id": "7c873ef5-6e05-4a06-91b0-1ecfc497dc18",
   "metadata": {},
   "outputs": [],
   "source": [
    "age_dict = {}\n",
    "for index, row in age_table.iterrows():\n",
    "    age_dict[index] = row['median']"
   ]
  },
  {
   "cell_type": "markdown",
   "id": "3a2ea447",
   "metadata": {},
   "source": [
    "Заполним пропущенные значения"
   ]
  },
  {
   "cell_type": "code",
   "execution_count": 30,
   "id": "d0916c30-9f18-4691-b17e-089b215337e1",
   "metadata": {},
   "outputs": [],
   "source": [
    "for index, row in all_data.iterrows():\n",
    "            if row.age != row.age and row.home_planet == row.home_planet:\n",
    "                all_data.loc[index, 'age'] = age_dict[row['home_planet']]"
   ]
  },
  {
   "cell_type": "code",
   "execution_count": 31,
   "id": "ae401a9c-0bb5-4620-b62d-3b467a4a1ec2",
   "metadata": {},
   "outputs": [
    {
     "data": {
      "text/plain": [
       "0"
      ]
     },
     "execution_count": 31,
     "metadata": {},
     "output_type": "execute_result"
    }
   ],
   "source": [
    "all_data['age'].isna().sum()"
   ]
  },
  {
   "cell_type": "code",
   "execution_count": 32,
   "id": "726b3f0b-de74-44bb-8a04-8d9c52c34e17",
   "metadata": {},
   "outputs": [
    {
     "data": {
      "text/html": [
       "<div>\n",
       "<style scoped>\n",
       "    .dataframe tbody tr th:only-of-type {\n",
       "        vertical-align: middle;\n",
       "    }\n",
       "\n",
       "    .dataframe tbody tr th {\n",
       "        vertical-align: top;\n",
       "    }\n",
       "\n",
       "    .dataframe thead th {\n",
       "        text-align: right;\n",
       "    }\n",
       "</style>\n",
       "<table border=\"1\" class=\"dataframe\">\n",
       "  <thead>\n",
       "    <tr style=\"text-align: right;\">\n",
       "      <th></th>\n",
       "      <th>total</th>\n",
       "      <th>transported</th>\n",
       "      <th>mean</th>\n",
       "    </tr>\n",
       "    <tr>\n",
       "      <th>age</th>\n",
       "      <th></th>\n",
       "      <th></th>\n",
       "      <th></th>\n",
       "    </tr>\n",
       "  </thead>\n",
       "  <tbody>\n",
       "    <tr>\n",
       "      <th>0.0</th>\n",
       "      <td>135</td>\n",
       "      <td>112</td>\n",
       "      <td>0.829630</td>\n",
       "    </tr>\n",
       "    <tr>\n",
       "      <th>1.0</th>\n",
       "      <td>59</td>\n",
       "      <td>43</td>\n",
       "      <td>0.728814</td>\n",
       "    </tr>\n",
       "    <tr>\n",
       "      <th>2.0</th>\n",
       "      <td>60</td>\n",
       "      <td>41</td>\n",
       "      <td>0.683333</td>\n",
       "    </tr>\n",
       "    <tr>\n",
       "      <th>3.0</th>\n",
       "      <td>61</td>\n",
       "      <td>49</td>\n",
       "      <td>0.803279</td>\n",
       "    </tr>\n",
       "    <tr>\n",
       "      <th>4.0</th>\n",
       "      <td>51</td>\n",
       "      <td>40</td>\n",
       "      <td>0.784314</td>\n",
       "    </tr>\n",
       "    <tr>\n",
       "      <th>5.0</th>\n",
       "      <td>30</td>\n",
       "      <td>18</td>\n",
       "      <td>0.600000</td>\n",
       "    </tr>\n",
       "    <tr>\n",
       "      <th>6.0</th>\n",
       "      <td>32</td>\n",
       "      <td>17</td>\n",
       "      <td>0.531250</td>\n",
       "    </tr>\n",
       "    <tr>\n",
       "      <th>7.0</th>\n",
       "      <td>43</td>\n",
       "      <td>26</td>\n",
       "      <td>0.604651</td>\n",
       "    </tr>\n",
       "    <tr>\n",
       "      <th>8.0</th>\n",
       "      <td>35</td>\n",
       "      <td>21</td>\n",
       "      <td>0.600000</td>\n",
       "    </tr>\n",
       "    <tr>\n",
       "      <th>9.0</th>\n",
       "      <td>38</td>\n",
       "      <td>22</td>\n",
       "      <td>0.578947</td>\n",
       "    </tr>\n",
       "  </tbody>\n",
       "</table>\n",
       "</div>"
      ],
      "text/plain": [
       "     total transported      mean\n",
       "age                             \n",
       "0.0    135         112  0.829630\n",
       "1.0     59          43  0.728814\n",
       "2.0     60          41  0.683333\n",
       "3.0     61          49  0.803279\n",
       "4.0     51          40  0.784314\n",
       "5.0     30          18  0.600000\n",
       "6.0     32          17  0.531250\n",
       "7.0     43          26  0.604651\n",
       "8.0     35          21  0.600000\n",
       "9.0     38          22  0.578947"
      ]
     },
     "metadata": {},
     "output_type": "display_data"
    },
    {
     "data": {
      "image/png": "[encoded data removed]",
      "text/plain": [
       "<Figure size 1440x504 with 1 Axes>"
      ]
     },
     "metadata": {},
     "output_type": "display_data"
    }
   ],
   "source": [
    "cat_stat('age')"
   ]
  },
  {
   "cell_type": "markdown",
   "id": "03637f4f-adab-46cb-b5d7-220e6ebec1d1",
   "metadata": {},
   "source": [
    "## Destination"
   ]
  },
  {
   "cell_type": "markdown",
   "id": "d73c4827",
   "metadata": {},
   "source": [
    "От планеты отправления не зависит разнообразие маршрутов, с любой планеты можно отправиться в любое назначение кроме самих планет."
   ]
  },
  {
   "cell_type": "code",
   "execution_count": 33,
   "id": "d5f8020c-7f8b-43af-b20e-533cd4033e5d",
   "metadata": {},
   "outputs": [
    {
     "data": {
      "text/html": [
       "<div>\n",
       "<style scoped>\n",
       "    .dataframe tbody tr th:only-of-type {\n",
       "        vertical-align: middle;\n",
       "    }\n",
       "\n",
       "    .dataframe tbody tr th {\n",
       "        vertical-align: top;\n",
       "    }\n",
       "\n",
       "    .dataframe thead th {\n",
       "        text-align: right;\n",
       "    }\n",
       "</style>\n",
       "<table border=\"1\" class=\"dataframe\">\n",
       "  <thead>\n",
       "    <tr style=\"text-align: right;\">\n",
       "      <th></th>\n",
       "      <th>destination</th>\n",
       "    </tr>\n",
       "    <tr>\n",
       "      <th>home_planet</th>\n",
       "      <th></th>\n",
       "    </tr>\n",
       "  </thead>\n",
       "  <tbody>\n",
       "    <tr>\n",
       "      <th>Earth</th>\n",
       "      <td>[TRAPPIST-1e, 55 Cancri e, PSO J318.5-22, nan]</td>\n",
       "    </tr>\n",
       "    <tr>\n",
       "      <th>Europa</th>\n",
       "      <td>[55 Cancri e, TRAPPIST-1e, PSO J318.5-22, nan]</td>\n",
       "    </tr>\n",
       "    <tr>\n",
       "      <th>Mars</th>\n",
       "      <td>[PSO J318.5-22, TRAPPIST-1e, 55 Cancri e, nan]</td>\n",
       "    </tr>\n",
       "  </tbody>\n",
       "</table>\n",
       "</div>"
      ],
      "text/plain": [
       "                                                destination\n",
       "home_planet                                                \n",
       "Earth        [TRAPPIST-1e, 55 Cancri e, PSO J318.5-22, nan]\n",
       "Europa       [55 Cancri e, TRAPPIST-1e, PSO J318.5-22, nan]\n",
       "Mars         [PSO J318.5-22, TRAPPIST-1e, 55 Cancri e, nan]"
      ]
     },
     "metadata": {},
     "output_type": "display_data"
    }
   ],
   "source": [
    "display(pd.DataFrame(all_data.groupby(all_data['home_planet'])['destination'].unique()))"
   ]
  },
  {
   "cell_type": "markdown",
   "id": "98b1c654",
   "metadata": {},
   "source": [
    "Но от планеты отправления косвенно зависит вероятность добраться до пункта назначения - я считаю что в большей степени это зависит от других фактров, в том числе от палубы и стороны нахождения каюты"
   ]
  },
  {
   "cell_type": "code",
   "execution_count": 34,
   "id": "b95764fb",
   "metadata": {},
   "outputs": [
    {
     "data": {
      "text/html": [
       "<div>\n",
       "<style scoped>\n",
       "    .dataframe tbody tr th:only-of-type {\n",
       "        vertical-align: middle;\n",
       "    }\n",
       "\n",
       "    .dataframe tbody tr th {\n",
       "        vertical-align: top;\n",
       "    }\n",
       "\n",
       "    .dataframe thead th {\n",
       "        text-align: right;\n",
       "    }\n",
       "</style>\n",
       "<table border=\"1\" class=\"dataframe\">\n",
       "  <thead>\n",
       "    <tr style=\"text-align: right;\">\n",
       "      <th></th>\n",
       "      <th>total</th>\n",
       "      <th>transported</th>\n",
       "      <th>mean</th>\n",
       "    </tr>\n",
       "    <tr>\n",
       "      <th>destination</th>\n",
       "      <th></th>\n",
       "      <th></th>\n",
       "      <th></th>\n",
       "    </tr>\n",
       "  </thead>\n",
       "  <tbody>\n",
       "    <tr>\n",
       "      <th>55 Cancri e</th>\n",
       "      <td>1476</td>\n",
       "      <td>884</td>\n",
       "      <td>0.598916</td>\n",
       "    </tr>\n",
       "    <tr>\n",
       "      <th>PSO J318.5-22</th>\n",
       "      <td>648</td>\n",
       "      <td>334</td>\n",
       "      <td>0.515432</td>\n",
       "    </tr>\n",
       "    <tr>\n",
       "      <th>TRAPPIST-1e</th>\n",
       "      <td>4746</td>\n",
       "      <td>2244</td>\n",
       "      <td>0.472819</td>\n",
       "    </tr>\n",
       "  </tbody>\n",
       "</table>\n",
       "</div>"
      ],
      "text/plain": [
       "               total transported      mean\n",
       "destination                               \n",
       "55 Cancri e     1476         884  0.598916\n",
       "PSO J318.5-22    648         334  0.515432\n",
       "TRAPPIST-1e     4746        2244  0.472819"
      ]
     },
     "metadata": {},
     "output_type": "display_data"
    },
    {
     "data": {
      "image/png": "[encoded data removed]",
      "text/plain": [
       "<Figure size 1440x504 with 1 Axes>"
      ]
     },
     "metadata": {},
     "output_type": "display_data"
    }
   ],
   "source": [
    "cat_stat('destination')"
   ]
  },
  {
   "cell_type": "markdown",
   "id": "df206e7a",
   "metadata": {},
   "source": [
    "Большинство пассажиров следовало до `TRAPPIST-1e` 4746 пассажиров, 2244 пассажира или 47 процентов добрались до места назначения, на втором месте пассажиры направляющиеся до `55 Cancri e` 1476 пассажиров из которых только 884 пассажиров добрались до места назначения или 59 процентов, и наконец 334 пассажира следовавщих до `PSO J318.5-22` из них повезло только 334 пассажирам или 51 проценту"
   ]
  },
  {
   "cell_type": "markdown",
   "id": "c8a72a97-3223-46d2-8356-ba486b89167e",
   "metadata": {},
   "source": [
    "## VIP, RoomService, FoodCourt, ShoppingMall, Spa, VRDeck"
   ]
  },
  {
   "cell_type": "markdown",
   "id": "5b879677",
   "metadata": {},
   "source": [
    "Пассажиры которые используют криосон не пользуются платными развлекательными услугами, так понимаю что можно использовать либо криосон и наслаждаться анимацией полета либо не использовать криосон и наслаждаться многочисленных роскошными удобствами космического корабля."
   ]
  },
  {
   "cell_type": "code",
   "execution_count": 35,
   "id": "7be112e9-502e-4a0a-a3a6-cadad80473b4",
   "metadata": {},
   "outputs": [
    {
     "data": {
      "text/plain": [
       "room_service     0.0\n",
       "food_court       0.0\n",
       "shopping_mall    0.0\n",
       "spa              0.0\n",
       "vr_deck          0.0\n",
       "dtype: float64"
      ]
     },
     "execution_count": 35,
     "metadata": {},
     "output_type": "execute_result"
    }
   ],
   "source": [
    "all_data.query('cryo_sleep == True')[['room_service', 'food_court', 'shopping_mall', 'spa', 'vr_deck']].sum()"
   ]
  },
  {
   "cell_type": "markdown",
   "id": "b0d2f475",
   "metadata": {},
   "source": [
    "Заполним пропущенные значения в столбцах 'vip', 'room_service', 'food_court', 'shopping_mall', 'spa', 'vr_deck'"
   ]
  },
  {
   "cell_type": "code",
   "execution_count": 36,
   "id": "120847a8-bbab-4544-a045-ef52e185b312",
   "metadata": {},
   "outputs": [
    {
     "name": "stdout",
     "output_type": "stream",
     "text": [
      "vip              116\n",
      "room_service     181\n",
      "food_court       183\n",
      "shopping_mall    208\n",
      "spa              183\n",
      "vr_deck          188\n",
      "dtype: int64\n",
      "vip              116\n",
      "room_service     181\n",
      "food_court       113\n",
      "shopping_mall    112\n",
      "spa              118\n",
      "vr_deck          126\n",
      "dtype: int64\n"
     ]
    }
   ],
   "source": [
    "print(all_data[['vip', 'room_service', 'food_court', 'shopping_mall', 'spa', 'vr_deck']].isna().sum())\n",
    "\n",
    "for index, row in all_data.iterrows():\n",
    "    if row['cryo_sleep'] == True:\n",
    "        if row['cryo_sleep'] != row['cryo_sleep']:\n",
    "            all_data.loc[index, 'room_service'] = 0\n",
    "        if row['food_court'] != row['food_court']:    \n",
    "            all_data.loc[index, 'food_court'] = 0\n",
    "        if row['shopping_mall'] != row['shopping_mall']:\n",
    "            all_data.loc[index, 'shopping_mall'] = 0\n",
    "        if row['spa'] != row['spa']:\n",
    "            all_data.loc[index, 'spa'] = 0\n",
    "        if row['vr_deck'] != row['vr_deck']:\n",
    "            all_data.loc[index, 'vr_deck'] = 0\n",
    "            \n",
    "    if row['room_service'] == row['food_court'] == row['shopping_mall'] == row['spa'] == row['vr_deck'] == 0:\n",
    "        if row['cryo_sleep'] != row['cryo_sleep']:\n",
    "            all_data.loc[index, 'cryo_sleep'] = True\n",
    "            \n",
    "    if (row['room_service'] == row['room_service'] and row['room_service'] > 0) or (row['food_court'] == row['food_court'] and row['food_court'] > 0) or (row['shopping_mall'] == row['shopping_mall'] \n",
    "       and row['shopping_mall'] > 0) or (row['spa'] == row['spa'] and row['spa'] > 0) or (row['vr_deck'] == row['vr_deck'] and row['vr_deck'] > 0):\n",
    "        all_data.loc[index, 'cryo_sleep'] = False\n",
    "         \n",
    "print(all_data[['vip', 'room_service', 'food_court', 'shopping_mall', 'spa', 'vr_deck']].isna().sum())"
   ]
  },
  {
   "cell_type": "markdown",
   "id": "9ce72172",
   "metadata": {},
   "source": [
    "### VIP"
   ]
  },
  {
   "cell_type": "code",
   "execution_count": 37,
   "id": "fde47678",
   "metadata": {},
   "outputs": [
    {
     "data": {
      "text/html": [
       "<div>\n",
       "<style scoped>\n",
       "    .dataframe tbody tr th:only-of-type {\n",
       "        vertical-align: middle;\n",
       "    }\n",
       "\n",
       "    .dataframe tbody tr th {\n",
       "        vertical-align: top;\n",
       "    }\n",
       "\n",
       "    .dataframe thead th {\n",
       "        text-align: right;\n",
       "    }\n",
       "</style>\n",
       "<table border=\"1\" class=\"dataframe\">\n",
       "  <thead>\n",
       "    <tr style=\"text-align: right;\">\n",
       "      <th></th>\n",
       "      <th>total</th>\n",
       "      <th>transported</th>\n",
       "      <th>mean</th>\n",
       "    </tr>\n",
       "    <tr>\n",
       "      <th>vip</th>\n",
       "      <th></th>\n",
       "      <th></th>\n",
       "      <th></th>\n",
       "    </tr>\n",
       "  </thead>\n",
       "  <tbody>\n",
       "    <tr>\n",
       "      <th>False</th>\n",
       "      <td>6698</td>\n",
       "      <td>3392</td>\n",
       "      <td>0.506420</td>\n",
       "    </tr>\n",
       "    <tr>\n",
       "      <th>True</th>\n",
       "      <td>165</td>\n",
       "      <td>67</td>\n",
       "      <td>0.406061</td>\n",
       "    </tr>\n",
       "  </tbody>\n",
       "</table>\n",
       "</div>"
      ],
      "text/plain": [
       "       total transported      mean\n",
       "vip                               \n",
       "False   6698        3392  0.506420\n",
       "True     165          67  0.406061"
      ]
     },
     "metadata": {},
     "output_type": "display_data"
    },
    {
     "data": {
      "image/png": "[encoded data removed]",
      "text/plain": [
       "<Figure size 1440x504 with 1 Axes>"
      ]
     },
     "metadata": {},
     "output_type": "display_data"
    }
   ],
   "source": [
    "cat_stat('vip')"
   ]
  },
  {
   "cell_type": "markdown",
   "id": "d19e8df2",
   "metadata": {},
   "source": [
    "### Room service"
   ]
  },
  {
   "cell_type": "code",
   "execution_count": 38,
   "id": "a8324b40",
   "metadata": {},
   "outputs": [],
   "source": [
    "def num_stat(target_feature):\n",
    "    stat_table = all_data.groupby(by=[target_feature])['transported'].agg(['count', 'sum', 'mean'])\n",
    "    display(stat_table.head(10))\n",
    "    stat_table = stat_table[1:100]\n",
    "    f, ax = plt.subplots(figsize=(20, 7))\n",
    "    sns.lineplot(data=stat_table, x=stat_table.index, y='count', label='Total')\n",
    "    sns.lineplot(data=stat_table, x=stat_table.index, y='sum', label='Transported')\n",
    "    ax.set(ylabel='', xlabel='Transported passenger per ' + target_feature);"
   ]
  },
  {
   "cell_type": "code",
   "execution_count": 39,
   "id": "c8273f0a",
   "metadata": {},
   "outputs": [
    {
     "data": {
      "text/html": [
       "<div>\n",
       "<style scoped>\n",
       "    .dataframe tbody tr th:only-of-type {\n",
       "        vertical-align: middle;\n",
       "    }\n",
       "\n",
       "    .dataframe tbody tr th {\n",
       "        vertical-align: top;\n",
       "    }\n",
       "\n",
       "    .dataframe thead th {\n",
       "        text-align: right;\n",
       "    }\n",
       "</style>\n",
       "<table border=\"1\" class=\"dataframe\">\n",
       "  <thead>\n",
       "    <tr style=\"text-align: right;\">\n",
       "      <th></th>\n",
       "      <th>count</th>\n",
       "      <th>sum</th>\n",
       "      <th>mean</th>\n",
       "    </tr>\n",
       "    <tr>\n",
       "      <th>room_service</th>\n",
       "      <th></th>\n",
       "      <th></th>\n",
       "      <th></th>\n",
       "    </tr>\n",
       "  </thead>\n",
       "  <tbody>\n",
       "    <tr>\n",
       "      <th>0.0</th>\n",
       "      <td>4482</td>\n",
       "      <td>2830</td>\n",
       "      <td>0.631415</td>\n",
       "    </tr>\n",
       "    <tr>\n",
       "      <th>1.0</th>\n",
       "      <td>89</td>\n",
       "      <td>26</td>\n",
       "      <td>0.292135</td>\n",
       "    </tr>\n",
       "    <tr>\n",
       "      <th>2.0</th>\n",
       "      <td>67</td>\n",
       "      <td>27</td>\n",
       "      <td>0.402985</td>\n",
       "    </tr>\n",
       "    <tr>\n",
       "      <th>3.0</th>\n",
       "      <td>50</td>\n",
       "      <td>19</td>\n",
       "      <td>0.380000</td>\n",
       "    </tr>\n",
       "    <tr>\n",
       "      <th>4.0</th>\n",
       "      <td>33</td>\n",
       "      <td>7</td>\n",
       "      <td>0.212121</td>\n",
       "    </tr>\n",
       "    <tr>\n",
       "      <th>5.0</th>\n",
       "      <td>23</td>\n",
       "      <td>9</td>\n",
       "      <td>0.391304</td>\n",
       "    </tr>\n",
       "    <tr>\n",
       "      <th>6.0</th>\n",
       "      <td>19</td>\n",
       "      <td>8</td>\n",
       "      <td>0.421053</td>\n",
       "    </tr>\n",
       "    <tr>\n",
       "      <th>7.0</th>\n",
       "      <td>12</td>\n",
       "      <td>4</td>\n",
       "      <td>0.333333</td>\n",
       "    </tr>\n",
       "    <tr>\n",
       "      <th>8.0</th>\n",
       "      <td>21</td>\n",
       "      <td>15</td>\n",
       "      <td>0.714286</td>\n",
       "    </tr>\n",
       "    <tr>\n",
       "      <th>9.0</th>\n",
       "      <td>25</td>\n",
       "      <td>8</td>\n",
       "      <td>0.320000</td>\n",
       "    </tr>\n",
       "  </tbody>\n",
       "</table>\n",
       "</div>"
      ],
      "text/plain": [
       "              count   sum      mean\n",
       "room_service                       \n",
       "0.0            4482  2830  0.631415\n",
       "1.0              89    26  0.292135\n",
       "2.0              67    27  0.402985\n",
       "3.0              50    19  0.380000\n",
       "4.0              33     7  0.212121\n",
       "5.0              23     9  0.391304\n",
       "6.0              19     8  0.421053\n",
       "7.0              12     4  0.333333\n",
       "8.0              21    15  0.714286\n",
       "9.0              25     8  0.320000"
      ]
     },
     "metadata": {},
     "output_type": "display_data"
    },
    {
     "data": {
      "image/png": "[encoded data removed]",
      "text/plain": [
       "<Figure size 1440x504 with 1 Axes>"
      ]
     },
     "metadata": {},
     "output_type": "display_data"
    }
   ],
   "source": [
    "num_stat('room_service')"
   ]
  },
  {
   "cell_type": "markdown",
   "id": "ad8c4a57",
   "metadata": {},
   "source": [
    "### Food court"
   ]
  },
  {
   "cell_type": "code",
   "execution_count": 40,
   "id": "ea57facc",
   "metadata": {},
   "outputs": [
    {
     "data": {
      "text/html": [
       "<div>\n",
       "<style scoped>\n",
       "    .dataframe tbody tr th:only-of-type {\n",
       "        vertical-align: middle;\n",
       "    }\n",
       "\n",
       "    .dataframe tbody tr th {\n",
       "        vertical-align: top;\n",
       "    }\n",
       "\n",
       "    .dataframe thead th {\n",
       "        text-align: right;\n",
       "    }\n",
       "</style>\n",
       "<table border=\"1\" class=\"dataframe\">\n",
       "  <thead>\n",
       "    <tr style=\"text-align: right;\">\n",
       "      <th></th>\n",
       "      <th>count</th>\n",
       "      <th>sum</th>\n",
       "      <th>mean</th>\n",
       "    </tr>\n",
       "    <tr>\n",
       "      <th>food_court</th>\n",
       "      <th></th>\n",
       "      <th></th>\n",
       "      <th></th>\n",
       "    </tr>\n",
       "  </thead>\n",
       "  <tbody>\n",
       "    <tr>\n",
       "      <th>0.0</th>\n",
       "      <td>4421</td>\n",
       "      <td>2640</td>\n",
       "      <td>0.597150</td>\n",
       "    </tr>\n",
       "    <tr>\n",
       "      <th>1.0</th>\n",
       "      <td>96</td>\n",
       "      <td>18</td>\n",
       "      <td>0.187500</td>\n",
       "    </tr>\n",
       "    <tr>\n",
       "      <th>2.0</th>\n",
       "      <td>58</td>\n",
       "      <td>14</td>\n",
       "      <td>0.241379</td>\n",
       "    </tr>\n",
       "    <tr>\n",
       "      <th>3.0</th>\n",
       "      <td>34</td>\n",
       "      <td>7</td>\n",
       "      <td>0.205882</td>\n",
       "    </tr>\n",
       "    <tr>\n",
       "      <th>4.0</th>\n",
       "      <td>44</td>\n",
       "      <td>9</td>\n",
       "      <td>0.204545</td>\n",
       "    </tr>\n",
       "    <tr>\n",
       "      <th>5.0</th>\n",
       "      <td>31</td>\n",
       "      <td>5</td>\n",
       "      <td>0.161290</td>\n",
       "    </tr>\n",
       "    <tr>\n",
       "      <th>6.0</th>\n",
       "      <td>24</td>\n",
       "      <td>6</td>\n",
       "      <td>0.250000</td>\n",
       "    </tr>\n",
       "    <tr>\n",
       "      <th>7.0</th>\n",
       "      <td>24</td>\n",
       "      <td>6</td>\n",
       "      <td>0.250000</td>\n",
       "    </tr>\n",
       "    <tr>\n",
       "      <th>8.0</th>\n",
       "      <td>17</td>\n",
       "      <td>5</td>\n",
       "      <td>0.294118</td>\n",
       "    </tr>\n",
       "    <tr>\n",
       "      <th>9.0</th>\n",
       "      <td>23</td>\n",
       "      <td>5</td>\n",
       "      <td>0.217391</td>\n",
       "    </tr>\n",
       "  </tbody>\n",
       "</table>\n",
       "</div>"
      ],
      "text/plain": [
       "            count   sum      mean\n",
       "food_court                       \n",
       "0.0          4421  2640  0.597150\n",
       "1.0            96    18  0.187500\n",
       "2.0            58    14  0.241379\n",
       "3.0            34     7  0.205882\n",
       "4.0            44     9  0.204545\n",
       "5.0            31     5  0.161290\n",
       "6.0            24     6  0.250000\n",
       "7.0            24     6  0.250000\n",
       "8.0            17     5  0.294118\n",
       "9.0            23     5  0.217391"
      ]
     },
     "metadata": {},
     "output_type": "display_data"
    },
    {
     "data": {
      "image/png": "[encoded data removed]",
      "text/plain": [
       "<Figure size 1440x504 with 1 Axes>"
      ]
     },
     "metadata": {},
     "output_type": "display_data"
    }
   ],
   "source": [
    "num_stat('food_court')"
   ]
  },
  {
   "cell_type": "markdown",
   "id": "5800a621",
   "metadata": {},
   "source": [
    "### Shopping mall"
   ]
  },
  {
   "cell_type": "code",
   "execution_count": 41,
   "id": "3bafea81",
   "metadata": {},
   "outputs": [
    {
     "data": {
      "text/html": [
       "<div>\n",
       "<style scoped>\n",
       "    .dataframe tbody tr th:only-of-type {\n",
       "        vertical-align: middle;\n",
       "    }\n",
       "\n",
       "    .dataframe tbody tr th {\n",
       "        vertical-align: top;\n",
       "    }\n",
       "\n",
       "    .dataframe thead th {\n",
       "        text-align: right;\n",
       "    }\n",
       "</style>\n",
       "<table border=\"1\" class=\"dataframe\">\n",
       "  <thead>\n",
       "    <tr style=\"text-align: right;\">\n",
       "      <th></th>\n",
       "      <th>count</th>\n",
       "      <th>sum</th>\n",
       "      <th>mean</th>\n",
       "    </tr>\n",
       "    <tr>\n",
       "      <th>shopping_mall</th>\n",
       "      <th></th>\n",
       "      <th></th>\n",
       "      <th></th>\n",
       "    </tr>\n",
       "  </thead>\n",
       "  <tbody>\n",
       "    <tr>\n",
       "      <th>0.0</th>\n",
       "      <td>4560</td>\n",
       "      <td>2754</td>\n",
       "      <td>0.603947</td>\n",
       "    </tr>\n",
       "    <tr>\n",
       "      <th>1.0</th>\n",
       "      <td>120</td>\n",
       "      <td>29</td>\n",
       "      <td>0.241667</td>\n",
       "    </tr>\n",
       "    <tr>\n",
       "      <th>2.0</th>\n",
       "      <td>61</td>\n",
       "      <td>13</td>\n",
       "      <td>0.213115</td>\n",
       "    </tr>\n",
       "    <tr>\n",
       "      <th>3.0</th>\n",
       "      <td>51</td>\n",
       "      <td>16</td>\n",
       "      <td>0.313725</td>\n",
       "    </tr>\n",
       "    <tr>\n",
       "      <th>4.0</th>\n",
       "      <td>35</td>\n",
       "      <td>6</td>\n",
       "      <td>0.171429</td>\n",
       "    </tr>\n",
       "    <tr>\n",
       "      <th>5.0</th>\n",
       "      <td>30</td>\n",
       "      <td>9</td>\n",
       "      <td>0.300000</td>\n",
       "    </tr>\n",
       "    <tr>\n",
       "      <th>6.0</th>\n",
       "      <td>31</td>\n",
       "      <td>7</td>\n",
       "      <td>0.225806</td>\n",
       "    </tr>\n",
       "    <tr>\n",
       "      <th>7.0</th>\n",
       "      <td>29</td>\n",
       "      <td>8</td>\n",
       "      <td>0.275862</td>\n",
       "    </tr>\n",
       "    <tr>\n",
       "      <th>8.0</th>\n",
       "      <td>23</td>\n",
       "      <td>3</td>\n",
       "      <td>0.130435</td>\n",
       "    </tr>\n",
       "    <tr>\n",
       "      <th>9.0</th>\n",
       "      <td>24</td>\n",
       "      <td>8</td>\n",
       "      <td>0.333333</td>\n",
       "    </tr>\n",
       "  </tbody>\n",
       "</table>\n",
       "</div>"
      ],
      "text/plain": [
       "               count   sum      mean\n",
       "shopping_mall                       \n",
       "0.0             4560  2754  0.603947\n",
       "1.0              120    29  0.241667\n",
       "2.0               61    13  0.213115\n",
       "3.0               51    16  0.313725\n",
       "4.0               35     6  0.171429\n",
       "5.0               30     9  0.300000\n",
       "6.0               31     7  0.225806\n",
       "7.0               29     8  0.275862\n",
       "8.0               23     3  0.130435\n",
       "9.0               24     8  0.333333"
      ]
     },
     "metadata": {},
     "output_type": "display_data"
    },
    {
     "data": {
      "image/png": "[encoded data removed]",
      "text/plain": [
       "<Figure size 1440x504 with 1 Axes>"
      ]
     },
     "metadata": {},
     "output_type": "display_data"
    }
   ],
   "source": [
    "num_stat('shopping_mall')"
   ]
  },
  {
   "cell_type": "markdown",
   "id": "3adcffbd",
   "metadata": {},
   "source": [
    "### Spa"
   ]
  },
  {
   "cell_type": "code",
   "execution_count": 42,
   "id": "72700077",
   "metadata": {},
   "outputs": [
    {
     "data": {
      "text/html": [
       "<div>\n",
       "<style scoped>\n",
       "    .dataframe tbody tr th:only-of-type {\n",
       "        vertical-align: middle;\n",
       "    }\n",
       "\n",
       "    .dataframe tbody tr th {\n",
       "        vertical-align: top;\n",
       "    }\n",
       "\n",
       "    .dataframe thead th {\n",
       "        text-align: right;\n",
       "    }\n",
       "</style>\n",
       "<table border=\"1\" class=\"dataframe\">\n",
       "  <thead>\n",
       "    <tr style=\"text-align: right;\">\n",
       "      <th></th>\n",
       "      <th>count</th>\n",
       "      <th>sum</th>\n",
       "      <th>mean</th>\n",
       "    </tr>\n",
       "    <tr>\n",
       "      <th>spa</th>\n",
       "      <th></th>\n",
       "      <th></th>\n",
       "      <th></th>\n",
       "    </tr>\n",
       "  </thead>\n",
       "  <tbody>\n",
       "    <tr>\n",
       "      <th>0.0</th>\n",
       "      <td>4331</td>\n",
       "      <td>2766</td>\n",
       "      <td>0.638652</td>\n",
       "    </tr>\n",
       "    <tr>\n",
       "      <th>1.0</th>\n",
       "      <td>118</td>\n",
       "      <td>42</td>\n",
       "      <td>0.355932</td>\n",
       "    </tr>\n",
       "    <tr>\n",
       "      <th>2.0</th>\n",
       "      <td>82</td>\n",
       "      <td>37</td>\n",
       "      <td>0.451220</td>\n",
       "    </tr>\n",
       "    <tr>\n",
       "      <th>3.0</th>\n",
       "      <td>42</td>\n",
       "      <td>18</td>\n",
       "      <td>0.428571</td>\n",
       "    </tr>\n",
       "    <tr>\n",
       "      <th>4.0</th>\n",
       "      <td>38</td>\n",
       "      <td>16</td>\n",
       "      <td>0.421053</td>\n",
       "    </tr>\n",
       "    <tr>\n",
       "      <th>5.0</th>\n",
       "      <td>42</td>\n",
       "      <td>22</td>\n",
       "      <td>0.523810</td>\n",
       "    </tr>\n",
       "    <tr>\n",
       "      <th>6.0</th>\n",
       "      <td>29</td>\n",
       "      <td>13</td>\n",
       "      <td>0.448276</td>\n",
       "    </tr>\n",
       "    <tr>\n",
       "      <th>7.0</th>\n",
       "      <td>30</td>\n",
       "      <td>13</td>\n",
       "      <td>0.433333</td>\n",
       "    </tr>\n",
       "    <tr>\n",
       "      <th>8.0</th>\n",
       "      <td>19</td>\n",
       "      <td>7</td>\n",
       "      <td>0.368421</td>\n",
       "    </tr>\n",
       "    <tr>\n",
       "      <th>9.0</th>\n",
       "      <td>22</td>\n",
       "      <td>5</td>\n",
       "      <td>0.227273</td>\n",
       "    </tr>\n",
       "  </tbody>\n",
       "</table>\n",
       "</div>"
      ],
      "text/plain": [
       "     count   sum      mean\n",
       "spa                       \n",
       "0.0   4331  2766  0.638652\n",
       "1.0    118    42  0.355932\n",
       "2.0     82    37  0.451220\n",
       "3.0     42    18  0.428571\n",
       "4.0     38    16  0.421053\n",
       "5.0     42    22  0.523810\n",
       "6.0     29    13  0.448276\n",
       "7.0     30    13  0.433333\n",
       "8.0     19     7  0.368421\n",
       "9.0     22     5  0.227273"
      ]
     },
     "metadata": {},
     "output_type": "display_data"
    },
    {
     "data": {
      "image/png": "[encoded data removed]",
      "text/plain": [
       "<Figure size 1440x504 with 1 Axes>"
      ]
     },
     "metadata": {},
     "output_type": "display_data"
    }
   ],
   "source": [
    "num_stat('spa')"
   ]
  },
  {
   "cell_type": "markdown",
   "id": "dd98fa1a",
   "metadata": {},
   "source": [
    "### Vr deck"
   ]
  },
  {
   "cell_type": "code",
   "execution_count": 43,
   "id": "c8b5b6f0",
   "metadata": {},
   "outputs": [
    {
     "data": {
      "text/html": [
       "<div>\n",
       "<style scoped>\n",
       "    .dataframe tbody tr th:only-of-type {\n",
       "        vertical-align: middle;\n",
       "    }\n",
       "\n",
       "    .dataframe tbody tr th {\n",
       "        vertical-align: top;\n",
       "    }\n",
       "\n",
       "    .dataframe thead th {\n",
       "        text-align: right;\n",
       "    }\n",
       "</style>\n",
       "<table border=\"1\" class=\"dataframe\">\n",
       "  <thead>\n",
       "    <tr style=\"text-align: right;\">\n",
       "      <th></th>\n",
       "      <th>count</th>\n",
       "      <th>sum</th>\n",
       "      <th>mean</th>\n",
       "    </tr>\n",
       "    <tr>\n",
       "      <th>vr_deck</th>\n",
       "      <th></th>\n",
       "      <th></th>\n",
       "      <th></th>\n",
       "    </tr>\n",
       "  </thead>\n",
       "  <tbody>\n",
       "    <tr>\n",
       "      <th>0.0</th>\n",
       "      <td>4453</td>\n",
       "      <td>2801</td>\n",
       "      <td>0.629014</td>\n",
       "    </tr>\n",
       "    <tr>\n",
       "      <th>1.0</th>\n",
       "      <td>112</td>\n",
       "      <td>37</td>\n",
       "      <td>0.330357</td>\n",
       "    </tr>\n",
       "    <tr>\n",
       "      <th>2.0</th>\n",
       "      <td>55</td>\n",
       "      <td>21</td>\n",
       "      <td>0.381818</td>\n",
       "    </tr>\n",
       "    <tr>\n",
       "      <th>3.0</th>\n",
       "      <td>48</td>\n",
       "      <td>15</td>\n",
       "      <td>0.312500</td>\n",
       "    </tr>\n",
       "    <tr>\n",
       "      <th>4.0</th>\n",
       "      <td>37</td>\n",
       "      <td>14</td>\n",
       "      <td>0.378378</td>\n",
       "    </tr>\n",
       "    <tr>\n",
       "      <th>5.0</th>\n",
       "      <td>38</td>\n",
       "      <td>15</td>\n",
       "      <td>0.394737</td>\n",
       "    </tr>\n",
       "    <tr>\n",
       "      <th>6.0</th>\n",
       "      <td>28</td>\n",
       "      <td>14</td>\n",
       "      <td>0.500000</td>\n",
       "    </tr>\n",
       "    <tr>\n",
       "      <th>7.0</th>\n",
       "      <td>22</td>\n",
       "      <td>9</td>\n",
       "      <td>0.409091</td>\n",
       "    </tr>\n",
       "    <tr>\n",
       "      <th>8.0</th>\n",
       "      <td>22</td>\n",
       "      <td>10</td>\n",
       "      <td>0.454545</td>\n",
       "    </tr>\n",
       "    <tr>\n",
       "      <th>9.0</th>\n",
       "      <td>22</td>\n",
       "      <td>10</td>\n",
       "      <td>0.454545</td>\n",
       "    </tr>\n",
       "  </tbody>\n",
       "</table>\n",
       "</div>"
      ],
      "text/plain": [
       "         count   sum      mean\n",
       "vr_deck                       \n",
       "0.0       4453  2801  0.629014\n",
       "1.0        112    37  0.330357\n",
       "2.0         55    21  0.381818\n",
       "3.0         48    15  0.312500\n",
       "4.0         37    14  0.378378\n",
       "5.0         38    15  0.394737\n",
       "6.0         28    14  0.500000\n",
       "7.0         22     9  0.409091\n",
       "8.0         22    10  0.454545\n",
       "9.0         22    10  0.454545"
      ]
     },
     "metadata": {},
     "output_type": "display_data"
    },
    {
     "data": {
      "image/png": "[encoded data removed]",
      "text/plain": [
       "<Figure size 1440x504 with 1 Axes>"
      ]
     },
     "metadata": {},
     "output_type": "display_data"
    }
   ],
   "source": [
    "num_stat('vr_deck')"
   ]
  },
  {
   "cell_type": "markdown",
   "id": "3d0acd25-9a06-445a-85d4-2cb13e5fe0dc",
   "metadata": {},
   "source": [
    "## CryoSleep"
   ]
  },
  {
   "cell_type": "code",
   "execution_count": 44,
   "id": "a51df67e-9c6c-4a8e-9b61-79da1e56a669",
   "metadata": {},
   "outputs": [
    {
     "data": {
      "text/html": [
       "<div>\n",
       "<style scoped>\n",
       "    .dataframe tbody tr th:only-of-type {\n",
       "        vertical-align: middle;\n",
       "    }\n",
       "\n",
       "    .dataframe tbody tr th {\n",
       "        vertical-align: top;\n",
       "    }\n",
       "\n",
       "    .dataframe thead th {\n",
       "        text-align: right;\n",
       "    }\n",
       "</style>\n",
       "<table border=\"1\" class=\"dataframe\">\n",
       "  <thead>\n",
       "    <tr style=\"text-align: right;\">\n",
       "      <th></th>\n",
       "      <th>home_planet</th>\n",
       "      <th>cryo_sleep</th>\n",
       "      <th>destination</th>\n",
       "      <th>age</th>\n",
       "      <th>vip</th>\n",
       "      <th>room_service</th>\n",
       "      <th>food_court</th>\n",
       "      <th>shopping_mall</th>\n",
       "      <th>spa</th>\n",
       "      <th>vr_deck</th>\n",
       "      <th>name</th>\n",
       "      <th>transported</th>\n",
       "      <th>group_id</th>\n",
       "      <th>number_in_group</th>\n",
       "      <th>deck</th>\n",
       "      <th>number</th>\n",
       "      <th>side</th>\n",
       "    </tr>\n",
       "  </thead>\n",
       "  <tbody>\n",
       "    <tr>\n",
       "      <th>624</th>\n",
       "      <td>Earth</td>\n",
       "      <td>NaN</td>\n",
       "      <td>TRAPPIST-1e</td>\n",
       "      <td>5.0</td>\n",
       "      <td>False</td>\n",
       "      <td>0.0</td>\n",
       "      <td>0.0</td>\n",
       "      <td>0.0</td>\n",
       "      <td>0.0</td>\n",
       "      <td>NaN</td>\n",
       "      <td>Salley Harverez</td>\n",
       "      <td>False</td>\n",
       "      <td>2822</td>\n",
       "      <td>02</td>\n",
       "      <td>G</td>\n",
       "      <td>450</td>\n",
       "      <td>S</td>\n",
       "    </tr>\n",
       "    <tr>\n",
       "      <th>2240</th>\n",
       "      <td>Earth</td>\n",
       "      <td>NaN</td>\n",
       "      <td>TRAPPIST-1e</td>\n",
       "      <td>4.0</td>\n",
       "      <td>False</td>\n",
       "      <td>0.0</td>\n",
       "      <td>0.0</td>\n",
       "      <td>0.0</td>\n",
       "      <td>0.0</td>\n",
       "      <td>NaN</td>\n",
       "      <td>Eristy Barbes</td>\n",
       "      <td>True</td>\n",
       "      <td>1624</td>\n",
       "      <td>03</td>\n",
       "      <td>G</td>\n",
       "      <td>250</td>\n",
       "      <td>S</td>\n",
       "    </tr>\n",
       "    <tr>\n",
       "      <th>2339</th>\n",
       "      <td>Mars</td>\n",
       "      <td>NaN</td>\n",
       "      <td>55 Cancri e</td>\n",
       "      <td>20.0</td>\n",
       "      <td>False</td>\n",
       "      <td>0.0</td>\n",
       "      <td>0.0</td>\n",
       "      <td>NaN</td>\n",
       "      <td>0.0</td>\n",
       "      <td>0.0</td>\n",
       "      <td>Diles Merte</td>\n",
       "      <td>False</td>\n",
       "      <td>7401</td>\n",
       "      <td>01</td>\n",
       "      <td>E</td>\n",
       "      <td>479</td>\n",
       "      <td>P</td>\n",
       "    </tr>\n",
       "    <tr>\n",
       "      <th>2553</th>\n",
       "      <td>Earth</td>\n",
       "      <td>NaN</td>\n",
       "      <td>PSO J318.5-22</td>\n",
       "      <td>21.0</td>\n",
       "      <td>False</td>\n",
       "      <td>0.0</td>\n",
       "      <td>0.0</td>\n",
       "      <td>NaN</td>\n",
       "      <td>0.0</td>\n",
       "      <td>0.0</td>\n",
       "      <td>Lilace Woodwardy</td>\n",
       "      <td>False</td>\n",
       "      <td>2584</td>\n",
       "      <td>01</td>\n",
       "      <td>G</td>\n",
       "      <td>417</td>\n",
       "      <td>P</td>\n",
       "    </tr>\n",
       "    <tr>\n",
       "      <th>4613</th>\n",
       "      <td>Europa</td>\n",
       "      <td>NaN</td>\n",
       "      <td>TRAPPIST-1e</td>\n",
       "      <td>2.0</td>\n",
       "      <td>False</td>\n",
       "      <td>0.0</td>\n",
       "      <td>0.0</td>\n",
       "      <td>0.0</td>\n",
       "      <td>0.0</td>\n",
       "      <td>NaN</td>\n",
       "      <td>Kitauon Pulgaly</td>\n",
       "      <td>True</td>\n",
       "      <td>8015</td>\n",
       "      <td>01</td>\n",
       "      <td>B</td>\n",
       "      <td>315</td>\n",
       "      <td>S</td>\n",
       "    </tr>\n",
       "    <tr>\n",
       "      <th>5727</th>\n",
       "      <td>Mars</td>\n",
       "      <td>NaN</td>\n",
       "      <td>TRAPPIST-1e</td>\n",
       "      <td>26.0</td>\n",
       "      <td>False</td>\n",
       "      <td>0.0</td>\n",
       "      <td>0.0</td>\n",
       "      <td>0.0</td>\n",
       "      <td>0.0</td>\n",
       "      <td>NaN</td>\n",
       "      <td>Rohs Pead</td>\n",
       "      <td>True</td>\n",
       "      <td>0115</td>\n",
       "      <td>01</td>\n",
       "      <td>F</td>\n",
       "      <td>24</td>\n",
       "      <td>P</td>\n",
       "    </tr>\n",
       "    <tr>\n",
       "      <th>6430</th>\n",
       "      <td>Earth</td>\n",
       "      <td>NaN</td>\n",
       "      <td>55 Cancri e</td>\n",
       "      <td>4.0</td>\n",
       "      <td>False</td>\n",
       "      <td>0.0</td>\n",
       "      <td>NaN</td>\n",
       "      <td>0.0</td>\n",
       "      <td>0.0</td>\n",
       "      <td>0.0</td>\n",
       "      <td>Gabrie Joycerton</td>\n",
       "      <td>True</td>\n",
       "      <td>3476</td>\n",
       "      <td>01</td>\n",
       "      <td>G</td>\n",
       "      <td>571</td>\n",
       "      <td>P</td>\n",
       "    </tr>\n",
       "    <tr>\n",
       "      <th>6507</th>\n",
       "      <td>Europa</td>\n",
       "      <td>NaN</td>\n",
       "      <td>TRAPPIST-1e</td>\n",
       "      <td>23.0</td>\n",
       "      <td>False</td>\n",
       "      <td>0.0</td>\n",
       "      <td>0.0</td>\n",
       "      <td>0.0</td>\n",
       "      <td>0.0</td>\n",
       "      <td>NaN</td>\n",
       "      <td>Dsch Ainserfle</td>\n",
       "      <td>True</td>\n",
       "      <td>4127</td>\n",
       "      <td>01</td>\n",
       "      <td>B</td>\n",
       "      <td>130</td>\n",
       "      <td>P</td>\n",
       "    </tr>\n",
       "    <tr>\n",
       "      <th>6642</th>\n",
       "      <td>Europa</td>\n",
       "      <td>NaN</td>\n",
       "      <td>NaN</td>\n",
       "      <td>33.0</td>\n",
       "      <td>False</td>\n",
       "      <td>0.0</td>\n",
       "      <td>0.0</td>\n",
       "      <td>0.0</td>\n",
       "      <td>NaN</td>\n",
       "      <td>0.0</td>\n",
       "      <td>Aldun Venticable</td>\n",
       "      <td>True</td>\n",
       "      <td>7314</td>\n",
       "      <td>01</td>\n",
       "      <td>C</td>\n",
       "      <td>237</td>\n",
       "      <td>P</td>\n",
       "    </tr>\n",
       "    <tr>\n",
       "      <th>7017</th>\n",
       "      <td>Europa</td>\n",
       "      <td>NaN</td>\n",
       "      <td>TRAPPIST-1e</td>\n",
       "      <td>0.0</td>\n",
       "      <td>False</td>\n",
       "      <td>0.0</td>\n",
       "      <td>0.0</td>\n",
       "      <td>NaN</td>\n",
       "      <td>0.0</td>\n",
       "      <td>0.0</td>\n",
       "      <td>Azhasim Bewarsecal</td>\n",
       "      <td>NaN</td>\n",
       "      <td>6139</td>\n",
       "      <td>01</td>\n",
       "      <td>C</td>\n",
       "      <td>230</td>\n",
       "      <td>S</td>\n",
       "    </tr>\n",
       "  </tbody>\n",
       "</table>\n",
       "</div>"
      ],
      "text/plain": [
       "     home_planet cryo_sleep    destination   age    vip  room_service  food_court  shopping_mall  spa  vr_deck                name transported group_id number_in_group deck number side\n",
       "624        Earth        NaN    TRAPPIST-1e   5.0  False           0.0         0.0            0.0  0.0      NaN     Salley Harverez       False     2822              02    G    450    S\n",
       "2240       Earth        NaN    TRAPPIST-1e   4.0  False           0.0         0.0            0.0  0.0      NaN       Eristy Barbes        True     1624              03    G    250    S\n",
       "2339        Mars        NaN    55 Cancri e  20.0  False           0.0         0.0            NaN  0.0      0.0         Diles Merte       False     7401              01    E    479    P\n",
       "2553       Earth        NaN  PSO J318.5-22  21.0  False           0.0         0.0            NaN  0.0      0.0    Lilace Woodwardy       False     2584              01    G    417    P\n",
       "4613      Europa        NaN    TRAPPIST-1e   2.0  False           0.0         0.0            0.0  0.0      NaN     Kitauon Pulgaly        True     8015              01    B    315    S\n",
       "5727        Mars        NaN    TRAPPIST-1e  26.0  False           0.0         0.0            0.0  0.0      NaN           Rohs Pead        True     0115              01    F     24    P\n",
       "6430       Earth        NaN    55 Cancri e   4.0  False           0.0         NaN            0.0  0.0      0.0    Gabrie Joycerton        True     3476              01    G    571    P\n",
       "6507      Europa        NaN    TRAPPIST-1e  23.0  False           0.0         0.0            0.0  0.0      NaN      Dsch Ainserfle        True     4127              01    B    130    P\n",
       "6642      Europa        NaN            NaN  33.0  False           0.0         0.0            0.0  NaN      0.0    Aldun Venticable        True     7314              01    C    237    P\n",
       "7017      Europa        NaN    TRAPPIST-1e   0.0  False           0.0         0.0            NaN  0.0      0.0  Azhasim Bewarsecal         NaN     6139              01    C    230    S"
      ]
     },
     "execution_count": 44,
     "metadata": {},
     "output_type": "execute_result"
    }
   ],
   "source": [
    "all_data.query('cryo_sleep != cryo_sleep').head(10)"
   ]
  },
  {
   "cell_type": "code",
   "execution_count": 45,
   "id": "ada5b24d-30ba-45de-a08d-2f7e7d70346e",
   "metadata": {},
   "outputs": [
    {
     "data": {
      "text/plain": [
       "False    5558\n",
       "True     3124\n",
       "Name: cryo_sleep, dtype: int64"
      ]
     },
     "execution_count": 45,
     "metadata": {},
     "output_type": "execute_result"
    }
   ],
   "source": [
    "all_data['cryo_sleep'].value_counts()"
   ]
  },
  {
   "cell_type": "code",
   "execution_count": 46,
   "id": "25a3deef-c5ef-41a9-86e1-983935f248ca",
   "metadata": {},
   "outputs": [
    {
     "name": "stdout",
     "output_type": "stream",
     "text": [
      "11\n",
      "0\n"
     ]
    }
   ],
   "source": [
    "print(all_data['cryo_sleep'].isna().sum())\n",
    "all_data['cryo_sleep'] = all_data['cryo_sleep'].fillna(False)\n",
    "print(all_data['cryo_sleep'].isna().sum())"
   ]
  },
  {
   "cell_type": "code",
   "execution_count": 47,
   "id": "9a845a0d",
   "metadata": {},
   "outputs": [
    {
     "data": {
      "text/html": [
       "<div>\n",
       "<style scoped>\n",
       "    .dataframe tbody tr th:only-of-type {\n",
       "        vertical-align: middle;\n",
       "    }\n",
       "\n",
       "    .dataframe tbody tr th {\n",
       "        vertical-align: top;\n",
       "    }\n",
       "\n",
       "    .dataframe thead th {\n",
       "        text-align: right;\n",
       "    }\n",
       "</style>\n",
       "<table border=\"1\" class=\"dataframe\">\n",
       "  <thead>\n",
       "    <tr style=\"text-align: right;\">\n",
       "      <th></th>\n",
       "      <th>total</th>\n",
       "      <th>transported</th>\n",
       "      <th>mean</th>\n",
       "    </tr>\n",
       "    <tr>\n",
       "      <th>cryo_sleep</th>\n",
       "      <th></th>\n",
       "      <th></th>\n",
       "      <th></th>\n",
       "    </tr>\n",
       "  </thead>\n",
       "  <tbody>\n",
       "    <tr>\n",
       "      <th>False</th>\n",
       "      <td>4453</td>\n",
       "      <td>1471</td>\n",
       "      <td>0.330339</td>\n",
       "    </tr>\n",
       "    <tr>\n",
       "      <th>True</th>\n",
       "      <td>2501</td>\n",
       "      <td>2031</td>\n",
       "      <td>0.812075</td>\n",
       "    </tr>\n",
       "  </tbody>\n",
       "</table>\n",
       "</div>"
      ],
      "text/plain": [
       "            total transported      mean\n",
       "cryo_sleep                             \n",
       "False        4453        1471  0.330339\n",
       "True         2501        2031  0.812075"
      ]
     },
     "metadata": {},
     "output_type": "display_data"
    },
    {
     "data": {
      "image/png": "[encoded data removed]",
      "text/plain": [
       "<Figure size 1440x504 with 1 Axes>"
      ]
     },
     "metadata": {},
     "output_type": "display_data"
    }
   ],
   "source": [
    "cat_stat('cryo_sleep')"
   ]
  },
  {
   "cell_type": "markdown",
   "id": "495e5176-17b1-4f01-b130-65ba901e7a32",
   "metadata": {},
   "source": [
    "## Дополнительный признак group_size"
   ]
  },
  {
   "cell_type": "code",
   "execution_count": 48,
   "id": "1de9e2f7-7c9f-413b-9c0d-8e127644303b",
   "metadata": {},
   "outputs": [],
   "source": [
    "for index, row in all_data.iterrows():\n",
    "    group_id = row.group_id\n",
    "    all_data.loc[index, 'group_size'] = len(all_data.query('group_id == @group_id'))"
   ]
  },
  {
   "cell_type": "code",
   "execution_count": 49,
   "id": "27bc0676",
   "metadata": {},
   "outputs": [
    {
     "data": {
      "text/html": [
       "<div>\n",
       "<style scoped>\n",
       "    .dataframe tbody tr th:only-of-type {\n",
       "        vertical-align: middle;\n",
       "    }\n",
       "\n",
       "    .dataframe tbody tr th {\n",
       "        vertical-align: top;\n",
       "    }\n",
       "\n",
       "    .dataframe thead th {\n",
       "        text-align: right;\n",
       "    }\n",
       "</style>\n",
       "<table border=\"1\" class=\"dataframe\">\n",
       "  <thead>\n",
       "    <tr style=\"text-align: right;\">\n",
       "      <th></th>\n",
       "      <th>total</th>\n",
       "      <th>transported</th>\n",
       "      <th>mean</th>\n",
       "    </tr>\n",
       "    <tr>\n",
       "      <th>group_size</th>\n",
       "      <th></th>\n",
       "      <th></th>\n",
       "      <th></th>\n",
       "    </tr>\n",
       "  </thead>\n",
       "  <tbody>\n",
       "    <tr>\n",
       "      <th>1.0</th>\n",
       "      <td>3840</td>\n",
       "      <td>1735</td>\n",
       "      <td>0.451823</td>\n",
       "    </tr>\n",
       "    <tr>\n",
       "      <th>2.0</th>\n",
       "      <td>1367</td>\n",
       "      <td>734</td>\n",
       "      <td>0.536942</td>\n",
       "    </tr>\n",
       "    <tr>\n",
       "      <th>3.0</th>\n",
       "      <td>814</td>\n",
       "      <td>487</td>\n",
       "      <td>0.598280</td>\n",
       "    </tr>\n",
       "    <tr>\n",
       "      <th>4.0</th>\n",
       "      <td>317</td>\n",
       "      <td>197</td>\n",
       "      <td>0.621451</td>\n",
       "    </tr>\n",
       "    <tr>\n",
       "      <th>5.0</th>\n",
       "      <td>205</td>\n",
       "      <td>126</td>\n",
       "      <td>0.614634</td>\n",
       "    </tr>\n",
       "    <tr>\n",
       "      <th>6.0</th>\n",
       "      <td>143</td>\n",
       "      <td>88</td>\n",
       "      <td>0.615385</td>\n",
       "    </tr>\n",
       "    <tr>\n",
       "      <th>7.0</th>\n",
       "      <td>186</td>\n",
       "      <td>101</td>\n",
       "      <td>0.543011</td>\n",
       "    </tr>\n",
       "    <tr>\n",
       "      <th>8.0</th>\n",
       "      <td>82</td>\n",
       "      <td>34</td>\n",
       "      <td>0.414634</td>\n",
       "    </tr>\n",
       "  </tbody>\n",
       "</table>\n",
       "</div>"
      ],
      "text/plain": [
       "            total transported      mean\n",
       "group_size                             \n",
       "1.0          3840        1735  0.451823\n",
       "2.0          1367         734  0.536942\n",
       "3.0           814         487  0.598280\n",
       "4.0           317         197  0.621451\n",
       "5.0           205         126  0.614634\n",
       "6.0           143          88  0.615385\n",
       "7.0           186         101  0.543011\n",
       "8.0            82          34  0.414634"
      ]
     },
     "metadata": {},
     "output_type": "display_data"
    },
    {
     "data": {
      "image/png": "[encoded data removed]",
      "text/plain": [
       "<Figure size 1440x504 with 1 Axes>"
      ]
     },
     "metadata": {},
     "output_type": "display_data"
    }
   ],
   "source": [
    "cat_stat('group_size')"
   ]
  },
  {
   "cell_type": "markdown",
   "id": "f546fbb5-d557-478d-a3f6-3a02d256b7c5",
   "metadata": {},
   "source": [
    "## Заполнение пропусков"
   ]
  },
  {
   "cell_type": "code",
   "execution_count": 50,
   "id": "3871be22-ca87-4e56-a5a5-f6983050b155",
   "metadata": {},
   "outputs": [
    {
     "data": {
      "text/plain": [
       "home_planet         111\n",
       "cryo_sleep            0\n",
       "destination         103\n",
       "age                   0\n",
       "vip                 116\n",
       "room_service        181\n",
       "food_court          113\n",
       "shopping_mall       112\n",
       "spa                 118\n",
       "vr_deck             126\n",
       "name                200\n",
       "transported        1739\n",
       "group_id              0\n",
       "number_in_group       0\n",
       "deck                 99\n",
       "number               99\n",
       "side                 99\n",
       "group_size            0\n",
       "dtype: int64"
      ]
     },
     "execution_count": 50,
     "metadata": {},
     "output_type": "execute_result"
    }
   ],
   "source": [
    "all_data.isna().sum()"
   ]
  },
  {
   "cell_type": "code",
   "execution_count": 51,
   "id": "6aecb672",
   "metadata": {},
   "outputs": [
    {
     "data": {
      "text/html": [
       "<div>\n",
       "<style scoped>\n",
       "    .dataframe tbody tr th:only-of-type {\n",
       "        vertical-align: middle;\n",
       "    }\n",
       "\n",
       "    .dataframe tbody tr th {\n",
       "        vertical-align: top;\n",
       "    }\n",
       "\n",
       "    .dataframe thead th {\n",
       "        text-align: right;\n",
       "    }\n",
       "</style>\n",
       "<table border=\"1\" class=\"dataframe\">\n",
       "  <thead>\n",
       "    <tr style=\"text-align: right;\">\n",
       "      <th></th>\n",
       "      <th>room_service</th>\n",
       "      <th>food_court</th>\n",
       "      <th>shopping_mall</th>\n",
       "      <th>spa</th>\n",
       "      <th>vr_deck</th>\n",
       "    </tr>\n",
       "  </thead>\n",
       "  <tbody>\n",
       "    <tr>\n",
       "      <th>0</th>\n",
       "      <td>301.0</td>\n",
       "      <td>0.0</td>\n",
       "      <td>1310.0</td>\n",
       "      <td>4.0</td>\n",
       "      <td>NaN</td>\n",
       "    </tr>\n",
       "    <tr>\n",
       "      <th>1</th>\n",
       "      <td>1212.0</td>\n",
       "      <td>4485.0</td>\n",
       "      <td>0.0</td>\n",
       "      <td>4016.0</td>\n",
       "      <td>57.0</td>\n",
       "    </tr>\n",
       "    <tr>\n",
       "      <th>2</th>\n",
       "      <td>0.0</td>\n",
       "      <td>2560.0</td>\n",
       "      <td>0.0</td>\n",
       "      <td>134.0</td>\n",
       "      <td>307.0</td>\n",
       "    </tr>\n",
       "    <tr>\n",
       "      <th>3</th>\n",
       "      <td>0.0</td>\n",
       "      <td>0.0</td>\n",
       "      <td>0.0</td>\n",
       "      <td>0.0</td>\n",
       "      <td>0.0</td>\n",
       "    </tr>\n",
       "    <tr>\n",
       "      <th>4</th>\n",
       "      <td>0.0</td>\n",
       "      <td>0.0</td>\n",
       "      <td>0.0</td>\n",
       "      <td>0.0</td>\n",
       "      <td>0.0</td>\n",
       "    </tr>\n",
       "    <tr>\n",
       "      <th>...</th>\n",
       "      <td>...</td>\n",
       "      <td>...</td>\n",
       "      <td>...</td>\n",
       "      <td>...</td>\n",
       "      <td>...</td>\n",
       "    </tr>\n",
       "    <tr>\n",
       "      <th>8688</th>\n",
       "      <td>0.0</td>\n",
       "      <td>786.0</td>\n",
       "      <td>0.0</td>\n",
       "      <td>11.0</td>\n",
       "      <td>83.0</td>\n",
       "    </tr>\n",
       "    <tr>\n",
       "      <th>8689</th>\n",
       "      <td>0.0</td>\n",
       "      <td>0.0</td>\n",
       "      <td>0.0</td>\n",
       "      <td>0.0</td>\n",
       "      <td>0.0</td>\n",
       "    </tr>\n",
       "    <tr>\n",
       "      <th>8690</th>\n",
       "      <td>0.0</td>\n",
       "      <td>0.0</td>\n",
       "      <td>0.0</td>\n",
       "      <td>0.0</td>\n",
       "      <td>0.0</td>\n",
       "    </tr>\n",
       "    <tr>\n",
       "      <th>8691</th>\n",
       "      <td>272.0</td>\n",
       "      <td>615.0</td>\n",
       "      <td>0.0</td>\n",
       "      <td>0.0</td>\n",
       "      <td>1.0</td>\n",
       "    </tr>\n",
       "    <tr>\n",
       "      <th>8692</th>\n",
       "      <td>490.0</td>\n",
       "      <td>0.0</td>\n",
       "      <td>54.0</td>\n",
       "      <td>195.0</td>\n",
       "      <td>0.0</td>\n",
       "    </tr>\n",
       "  </tbody>\n",
       "</table>\n",
       "<p>8693 rows × 5 columns</p>\n",
       "</div>"
      ],
      "text/plain": [
       "      room_service  food_court  shopping_mall     spa  vr_deck\n",
       "0            301.0         0.0         1310.0     4.0      NaN\n",
       "1           1212.0      4485.0            0.0  4016.0     57.0\n",
       "2              0.0      2560.0            0.0   134.0    307.0\n",
       "3              0.0         0.0            0.0     0.0      0.0\n",
       "4              0.0         0.0            0.0     0.0      0.0\n",
       "...            ...         ...            ...     ...      ...\n",
       "8688           0.0       786.0            0.0    11.0     83.0\n",
       "8689           0.0         0.0            0.0     0.0      0.0\n",
       "8690           0.0         0.0            0.0     0.0      0.0\n",
       "8691         272.0       615.0            0.0     0.0      1.0\n",
       "8692         490.0         0.0           54.0   195.0      0.0\n",
       "\n",
       "[8693 rows x 5 columns]"
      ]
     },
     "execution_count": 51,
     "metadata": {},
     "output_type": "execute_result"
    }
   ],
   "source": [
    "all_data[['room_service', 'food_court', 'shopping_mall', 'spa', 'vr_deck']]"
   ]
  },
  {
   "cell_type": "code",
   "execution_count": 52,
   "id": "0f8b5171-496c-400e-960c-a5d382adf87d",
   "metadata": {},
   "outputs": [],
   "source": [
    "na_cols = ['name']\n",
    "num_cols = ['shopping_mall', 'food_court', 'room_service', 'spa', 'vr_deck', 'age']\n",
    "cat_cols = ['deck', 'number', 'side', 'home_planet', 'destination', 'cryo_sleep', 'vip']\n",
    "\n",
    "num_imp = SimpleImputer(strategy='mean')\n",
    "cat_imp = SimpleImputer(strategy='most_frequent')\n",
    "na_imp = SimpleImputer(strategy='constant', fill_value='na')\n",
    "\n",
    "all_data[num_cols] = pd.DataFrame(num_imp.fit_transform(all_data[num_cols]),columns=num_cols)\n",
    "all_data[cat_cols] = pd.DataFrame(cat_imp.fit_transform(all_data[cat_cols]),columns=cat_cols)\n",
    "all_data[na_cols] = pd.DataFrame(na_imp.fit_transform(all_data[na_cols]),columns=na_cols)"
   ]
  },
  {
   "cell_type": "code",
   "execution_count": 53,
   "id": "211da186-b464-48cf-b3dd-69ff02d1351d",
   "metadata": {},
   "outputs": [
    {
     "data": {
      "text/plain": [
       "home_planet           0\n",
       "cryo_sleep            0\n",
       "destination           0\n",
       "age                   0\n",
       "vip                   0\n",
       "room_service          0\n",
       "food_court            0\n",
       "shopping_mall         0\n",
       "spa                   0\n",
       "vr_deck               0\n",
       "name                  0\n",
       "transported        1739\n",
       "group_id              0\n",
       "number_in_group       0\n",
       "deck                  0\n",
       "number                0\n",
       "side                  0\n",
       "group_size            0\n",
       "dtype: int64"
      ]
     },
     "execution_count": 53,
     "metadata": {},
     "output_type": "execute_result"
    }
   ],
   "source": [
    "all_data.isna().sum()"
   ]
  },
  {
   "cell_type": "markdown",
   "id": "1ae33ff8-02d8-49fe-ac54-2943873021ea",
   "metadata": {},
   "source": [
    "## Проверка на дубликаты"
   ]
  },
  {
   "cell_type": "code",
   "execution_count": 54,
   "id": "46206071-99d6-44db-a857-73519bd79b89",
   "metadata": {},
   "outputs": [
    {
     "data": {
      "text/plain": [
       "0"
      ]
     },
     "execution_count": 54,
     "metadata": {},
     "output_type": "execute_result"
    }
   ],
   "source": [
    "all_data.duplicated().sum()"
   ]
  },
  {
   "cell_type": "markdown",
   "id": "162317d0-42ff-4864-b9a3-1156b316ace7",
   "metadata": {},
   "source": [
    "## Изменение типов данных"
   ]
  },
  {
   "cell_type": "code",
   "execution_count": 55,
   "id": "29a6ff28-401c-4b32-8b9a-4885bf701e37",
   "metadata": {},
   "outputs": [
    {
     "data": {
      "text/plain": [
       "home_planet         object\n",
       "cryo_sleep          object\n",
       "destination         object\n",
       "age                float64\n",
       "vip                 object\n",
       "room_service       float64\n",
       "food_court         float64\n",
       "shopping_mall      float64\n",
       "spa                float64\n",
       "vr_deck            float64\n",
       "name                object\n",
       "transported         object\n",
       "group_id            object\n",
       "number_in_group     object\n",
       "deck                object\n",
       "number              object\n",
       "side                object\n",
       "group_size         float64\n",
       "dtype: object"
      ]
     },
     "execution_count": 55,
     "metadata": {},
     "output_type": "execute_result"
    }
   ],
   "source": [
    "all_data.dtypes"
   ]
  },
  {
   "cell_type": "code",
   "execution_count": 56,
   "id": "b9dee50e-63cd-4372-8f2d-512229a47401",
   "metadata": {},
   "outputs": [
    {
     "data": {
      "text/plain": [
       "home_planet        object\n",
       "cryo_sleep          int32\n",
       "destination        object\n",
       "age                 int32\n",
       "vip                 int32\n",
       "room_service        int32\n",
       "food_court          int32\n",
       "shopping_mall       int32\n",
       "spa                 int32\n",
       "vr_deck             int32\n",
       "name               object\n",
       "transported        object\n",
       "group_id           object\n",
       "number_in_group     int32\n",
       "deck               object\n",
       "number             object\n",
       "side               object\n",
       "group_size          int32\n",
       "dtype: object"
      ]
     },
     "execution_count": 56,
     "metadata": {},
     "output_type": "execute_result"
    }
   ],
   "source": [
    "int_columns = ['age',\n",
    "               'room_service',\n",
    "               'food_court',\n",
    "               'shopping_mall',\n",
    "               'spa', 'vr_deck', \n",
    "               'number_in_group', \n",
    "               'group_size', \n",
    "               'cryo_sleep', 'vip']\n",
    "\n",
    "for column in int_columns:\n",
    "    all_data[column] = all_data[column].astype('int')\n",
    "\n",
    "all_data.dtypes"
   ]
  },
  {
   "cell_type": "markdown",
   "id": "6bb2519c",
   "metadata": {},
   "source": [
    "## Drop columns"
   ]
  },
  {
   "cell_type": "code",
   "execution_count": 57,
   "id": "cf127a16-78fd-48a9-8b03-ae8b6e32f95e",
   "metadata": {},
   "outputs": [],
   "source": [
    "drop_list = ['name', 'group_id', 'number', 'number_in_group']\n",
    "\n",
    "all_data = all_data.drop(columns=drop_list, axis=1)"
   ]
  },
  {
   "cell_type": "markdown",
   "id": "15afe3a6-2e11-4aaf-b154-9112decb195d",
   "metadata": {},
   "source": [
    "## OHE"
   ]
  },
  {
   "cell_type": "code",
   "execution_count": 58,
   "id": "a6ea6e4e-1bee-4644-b91e-a8802f57b1a5",
   "metadata": {},
   "outputs": [
    {
     "data": {
      "text/html": [
       "<div>\n",
       "<style scoped>\n",
       "    .dataframe tbody tr th:only-of-type {\n",
       "        vertical-align: middle;\n",
       "    }\n",
       "\n",
       "    .dataframe tbody tr th {\n",
       "        vertical-align: top;\n",
       "    }\n",
       "\n",
       "    .dataframe thead th {\n",
       "        text-align: right;\n",
       "    }\n",
       "</style>\n",
       "<table border=\"1\" class=\"dataframe\">\n",
       "  <thead>\n",
       "    <tr style=\"text-align: right;\">\n",
       "      <th></th>\n",
       "      <th>cryo_sleep</th>\n",
       "      <th>age</th>\n",
       "      <th>vip</th>\n",
       "      <th>room_service</th>\n",
       "      <th>food_court</th>\n",
       "      <th>shopping_mall</th>\n",
       "      <th>spa</th>\n",
       "      <th>vr_deck</th>\n",
       "      <th>transported</th>\n",
       "      <th>home_planet_Earth</th>\n",
       "      <th>home_planet_Europa</th>\n",
       "      <th>home_planet_Mars</th>\n",
       "      <th>destination_55 Cancri e</th>\n",
       "      <th>destination_PSO J318.5-22</th>\n",
       "      <th>destination_TRAPPIST-1e</th>\n",
       "      <th>deck_A</th>\n",
       "      <th>deck_B</th>\n",
       "      <th>deck_C</th>\n",
       "      <th>deck_D</th>\n",
       "      <th>deck_E</th>\n",
       "      <th>deck_F</th>\n",
       "      <th>deck_G</th>\n",
       "      <th>deck_T</th>\n",
       "      <th>side_P</th>\n",
       "      <th>side_S</th>\n",
       "      <th>group_size_1</th>\n",
       "      <th>group_size_2</th>\n",
       "      <th>group_size_3</th>\n",
       "      <th>group_size_4</th>\n",
       "      <th>group_size_5</th>\n",
       "      <th>group_size_6</th>\n",
       "      <th>group_size_7</th>\n",
       "      <th>group_size_8</th>\n",
       "    </tr>\n",
       "  </thead>\n",
       "  <tbody>\n",
       "    <tr>\n",
       "      <th>0</th>\n",
       "      <td>0</td>\n",
       "      <td>40</td>\n",
       "      <td>1</td>\n",
       "      <td>301</td>\n",
       "      <td>0</td>\n",
       "      <td>1310</td>\n",
       "      <td>4</td>\n",
       "      <td>302</td>\n",
       "      <td>True</td>\n",
       "      <td>0</td>\n",
       "      <td>0</td>\n",
       "      <td>1</td>\n",
       "      <td>0</td>\n",
       "      <td>1</td>\n",
       "      <td>0</td>\n",
       "      <td>0</td>\n",
       "      <td>0</td>\n",
       "      <td>0</td>\n",
       "      <td>0</td>\n",
       "      <td>0</td>\n",
       "      <td>1</td>\n",
       "      <td>0</td>\n",
       "      <td>0</td>\n",
       "      <td>1</td>\n",
       "      <td>0</td>\n",
       "      <td>1</td>\n",
       "      <td>0</td>\n",
       "      <td>0</td>\n",
       "      <td>0</td>\n",
       "      <td>0</td>\n",
       "      <td>0</td>\n",
       "      <td>0</td>\n",
       "      <td>0</td>\n",
       "    </tr>\n",
       "    <tr>\n",
       "      <th>1</th>\n",
       "      <td>0</td>\n",
       "      <td>13</td>\n",
       "      <td>0</td>\n",
       "      <td>1212</td>\n",
       "      <td>4485</td>\n",
       "      <td>0</td>\n",
       "      <td>4016</td>\n",
       "      <td>57</td>\n",
       "      <td>False</td>\n",
       "      <td>0</td>\n",
       "      <td>1</td>\n",
       "      <td>0</td>\n",
       "      <td>1</td>\n",
       "      <td>0</td>\n",
       "      <td>0</td>\n",
       "      <td>0</td>\n",
       "      <td>0</td>\n",
       "      <td>1</td>\n",
       "      <td>0</td>\n",
       "      <td>0</td>\n",
       "      <td>0</td>\n",
       "      <td>0</td>\n",
       "      <td>0</td>\n",
       "      <td>1</td>\n",
       "      <td>0</td>\n",
       "      <td>0</td>\n",
       "      <td>0</td>\n",
       "      <td>1</td>\n",
       "      <td>0</td>\n",
       "      <td>0</td>\n",
       "      <td>0</td>\n",
       "      <td>0</td>\n",
       "      <td>0</td>\n",
       "    </tr>\n",
       "    <tr>\n",
       "      <th>2</th>\n",
       "      <td>0</td>\n",
       "      <td>28</td>\n",
       "      <td>0</td>\n",
       "      <td>0</td>\n",
       "      <td>2560</td>\n",
       "      <td>0</td>\n",
       "      <td>134</td>\n",
       "      <td>307</td>\n",
       "      <td>False</td>\n",
       "      <td>0</td>\n",
       "      <td>1</td>\n",
       "      <td>0</td>\n",
       "      <td>0</td>\n",
       "      <td>0</td>\n",
       "      <td>1</td>\n",
       "      <td>0</td>\n",
       "      <td>0</td>\n",
       "      <td>0</td>\n",
       "      <td>1</td>\n",
       "      <td>0</td>\n",
       "      <td>0</td>\n",
       "      <td>0</td>\n",
       "      <td>0</td>\n",
       "      <td>1</td>\n",
       "      <td>0</td>\n",
       "      <td>1</td>\n",
       "      <td>0</td>\n",
       "      <td>0</td>\n",
       "      <td>0</td>\n",
       "      <td>0</td>\n",
       "      <td>0</td>\n",
       "      <td>0</td>\n",
       "      <td>0</td>\n",
       "    </tr>\n",
       "    <tr>\n",
       "      <th>3</th>\n",
       "      <td>1</td>\n",
       "      <td>21</td>\n",
       "      <td>0</td>\n",
       "      <td>0</td>\n",
       "      <td>0</td>\n",
       "      <td>0</td>\n",
       "      <td>0</td>\n",
       "      <td>0</td>\n",
       "      <td>True</td>\n",
       "      <td>0</td>\n",
       "      <td>0</td>\n",
       "      <td>1</td>\n",
       "      <td>0</td>\n",
       "      <td>0</td>\n",
       "      <td>1</td>\n",
       "      <td>0</td>\n",
       "      <td>0</td>\n",
       "      <td>0</td>\n",
       "      <td>0</td>\n",
       "      <td>0</td>\n",
       "      <td>1</td>\n",
       "      <td>0</td>\n",
       "      <td>0</td>\n",
       "      <td>1</td>\n",
       "      <td>0</td>\n",
       "      <td>0</td>\n",
       "      <td>0</td>\n",
       "      <td>1</td>\n",
       "      <td>0</td>\n",
       "      <td>0</td>\n",
       "      <td>0</td>\n",
       "      <td>0</td>\n",
       "      <td>0</td>\n",
       "    </tr>\n",
       "    <tr>\n",
       "      <th>4</th>\n",
       "      <td>0</td>\n",
       "      <td>6</td>\n",
       "      <td>0</td>\n",
       "      <td>0</td>\n",
       "      <td>0</td>\n",
       "      <td>0</td>\n",
       "      <td>0</td>\n",
       "      <td>0</td>\n",
       "      <td>True</td>\n",
       "      <td>1</td>\n",
       "      <td>0</td>\n",
       "      <td>0</td>\n",
       "      <td>0</td>\n",
       "      <td>0</td>\n",
       "      <td>1</td>\n",
       "      <td>0</td>\n",
       "      <td>0</td>\n",
       "      <td>0</td>\n",
       "      <td>0</td>\n",
       "      <td>0</td>\n",
       "      <td>0</td>\n",
       "      <td>1</td>\n",
       "      <td>0</td>\n",
       "      <td>0</td>\n",
       "      <td>1</td>\n",
       "      <td>0</td>\n",
       "      <td>0</td>\n",
       "      <td>0</td>\n",
       "      <td>0</td>\n",
       "      <td>0</td>\n",
       "      <td>0</td>\n",
       "      <td>0</td>\n",
       "      <td>1</td>\n",
       "    </tr>\n",
       "  </tbody>\n",
       "</table>\n",
       "</div>"
      ],
      "text/plain": [
       "   cryo_sleep  age  vip  room_service  food_court  shopping_mall   spa  vr_deck transported  home_planet_Earth  home_planet_Europa  home_planet_Mars  destination_55 Cancri e  destination_PSO J318.5-22  destination_TRAPPIST-1e  deck_A  deck_B  deck_C  deck_D  deck_E  deck_F  deck_G  deck_T  side_P  side_S  group_size_1  group_size_2  group_size_3  group_size_4  group_size_5  group_size_6  group_size_7  group_size_8\n",
       "0           0   40    1           301           0           1310     4      302        True                  0                   0                 1                        0                          1                        0       0       0       0       0       0       1       0       0       1       0             1             0             0             0             0             0             0             0\n",
       "1           0   13    0          1212        4485              0  4016       57       False                  0                   1                 0                        1                          0                        0       0       0       1       0       0       0       0       0       1       0             0             0             1             0             0             0             0             0\n",
       "2           0   28    0             0        2560              0   134      307       False                  0                   1                 0                        0                          0                        1       0       0       0       1       0       0       0       0       1       0             1             0             0             0             0             0             0             0\n",
       "3           1   21    0             0           0              0     0        0        True                  0                   0                 1                        0                          0                        1       0       0       0       0       0       1       0       0       1       0             0             0             1             0             0             0             0             0\n",
       "4           0    6    0             0           0              0     0        0        True                  1                   0                 0                        0                          0                        1       0       0       0       0       0       0       1       0       0       1             0             0             0             0             0             0             0             1"
      ]
     },
     "execution_count": 58,
     "metadata": {},
     "output_type": "execute_result"
    }
   ],
   "source": [
    "columns_to_encode = ['home_planet', 'destination', 'deck', 'side', 'group_size']\n",
    "preop_data_ohe = all_data.copy()\n",
    "preop_data_ohe = pd.get_dummies(data=all_data, columns = columns_to_encode)\n",
    "preop_data_ohe.head()"
   ]
  },
  {
   "cell_type": "markdown",
   "id": "3d0c98ce-c8a8-4098-8387-05845ca66d26",
   "metadata": {},
   "source": [
    "## OE"
   ]
  },
  {
   "cell_type": "code",
   "execution_count": 59,
   "id": "49a3d529-6063-46cb-9a2d-ec066abc6ae0",
   "metadata": {},
   "outputs": [
    {
     "data": {
      "text/html": [
       "<div>\n",
       "<style scoped>\n",
       "    .dataframe tbody tr th:only-of-type {\n",
       "        vertical-align: middle;\n",
       "    }\n",
       "\n",
       "    .dataframe tbody tr th {\n",
       "        vertical-align: top;\n",
       "    }\n",
       "\n",
       "    .dataframe thead th {\n",
       "        text-align: right;\n",
       "    }\n",
       "</style>\n",
       "<table border=\"1\" class=\"dataframe\">\n",
       "  <thead>\n",
       "    <tr style=\"text-align: right;\">\n",
       "      <th></th>\n",
       "      <th>home_planet</th>\n",
       "      <th>cryo_sleep</th>\n",
       "      <th>destination</th>\n",
       "      <th>age</th>\n",
       "      <th>vip</th>\n",
       "      <th>room_service</th>\n",
       "      <th>food_court</th>\n",
       "      <th>shopping_mall</th>\n",
       "      <th>spa</th>\n",
       "      <th>vr_deck</th>\n",
       "      <th>transported</th>\n",
       "      <th>deck</th>\n",
       "      <th>side</th>\n",
       "      <th>group_size</th>\n",
       "    </tr>\n",
       "  </thead>\n",
       "  <tbody>\n",
       "    <tr>\n",
       "      <th>0</th>\n",
       "      <td>2.0</td>\n",
       "      <td>0</td>\n",
       "      <td>1.0</td>\n",
       "      <td>40</td>\n",
       "      <td>1</td>\n",
       "      <td>301</td>\n",
       "      <td>0</td>\n",
       "      <td>1310</td>\n",
       "      <td>4</td>\n",
       "      <td>302</td>\n",
       "      <td>True</td>\n",
       "      <td>5.0</td>\n",
       "      <td>0.0</td>\n",
       "      <td>0.0</td>\n",
       "    </tr>\n",
       "    <tr>\n",
       "      <th>1</th>\n",
       "      <td>1.0</td>\n",
       "      <td>0</td>\n",
       "      <td>0.0</td>\n",
       "      <td>13</td>\n",
       "      <td>0</td>\n",
       "      <td>1212</td>\n",
       "      <td>4485</td>\n",
       "      <td>0</td>\n",
       "      <td>4016</td>\n",
       "      <td>57</td>\n",
       "      <td>False</td>\n",
       "      <td>2.0</td>\n",
       "      <td>0.0</td>\n",
       "      <td>2.0</td>\n",
       "    </tr>\n",
       "    <tr>\n",
       "      <th>2</th>\n",
       "      <td>1.0</td>\n",
       "      <td>0</td>\n",
       "      <td>2.0</td>\n",
       "      <td>28</td>\n",
       "      <td>0</td>\n",
       "      <td>0</td>\n",
       "      <td>2560</td>\n",
       "      <td>0</td>\n",
       "      <td>134</td>\n",
       "      <td>307</td>\n",
       "      <td>False</td>\n",
       "      <td>3.0</td>\n",
       "      <td>0.0</td>\n",
       "      <td>0.0</td>\n",
       "    </tr>\n",
       "    <tr>\n",
       "      <th>3</th>\n",
       "      <td>2.0</td>\n",
       "      <td>1</td>\n",
       "      <td>2.0</td>\n",
       "      <td>21</td>\n",
       "      <td>0</td>\n",
       "      <td>0</td>\n",
       "      <td>0</td>\n",
       "      <td>0</td>\n",
       "      <td>0</td>\n",
       "      <td>0</td>\n",
       "      <td>True</td>\n",
       "      <td>5.0</td>\n",
       "      <td>0.0</td>\n",
       "      <td>2.0</td>\n",
       "    </tr>\n",
       "    <tr>\n",
       "      <th>4</th>\n",
       "      <td>0.0</td>\n",
       "      <td>0</td>\n",
       "      <td>2.0</td>\n",
       "      <td>6</td>\n",
       "      <td>0</td>\n",
       "      <td>0</td>\n",
       "      <td>0</td>\n",
       "      <td>0</td>\n",
       "      <td>0</td>\n",
       "      <td>0</td>\n",
       "      <td>True</td>\n",
       "      <td>6.0</td>\n",
       "      <td>1.0</td>\n",
       "      <td>7.0</td>\n",
       "    </tr>\n",
       "    <tr>\n",
       "      <th>...</th>\n",
       "      <td>...</td>\n",
       "      <td>...</td>\n",
       "      <td>...</td>\n",
       "      <td>...</td>\n",
       "      <td>...</td>\n",
       "      <td>...</td>\n",
       "      <td>...</td>\n",
       "      <td>...</td>\n",
       "      <td>...</td>\n",
       "      <td>...</td>\n",
       "      <td>...</td>\n",
       "      <td>...</td>\n",
       "      <td>...</td>\n",
       "      <td>...</td>\n",
       "    </tr>\n",
       "    <tr>\n",
       "      <th>8688</th>\n",
       "      <td>0.0</td>\n",
       "      <td>0</td>\n",
       "      <td>2.0</td>\n",
       "      <td>26</td>\n",
       "      <td>0</td>\n",
       "      <td>0</td>\n",
       "      <td>786</td>\n",
       "      <td>0</td>\n",
       "      <td>11</td>\n",
       "      <td>83</td>\n",
       "      <td>NaN</td>\n",
       "      <td>5.0</td>\n",
       "      <td>0.0</td>\n",
       "      <td>0.0</td>\n",
       "    </tr>\n",
       "    <tr>\n",
       "      <th>8689</th>\n",
       "      <td>0.0</td>\n",
       "      <td>1</td>\n",
       "      <td>2.0</td>\n",
       "      <td>15</td>\n",
       "      <td>0</td>\n",
       "      <td>0</td>\n",
       "      <td>0</td>\n",
       "      <td>0</td>\n",
       "      <td>0</td>\n",
       "      <td>0</td>\n",
       "      <td>NaN</td>\n",
       "      <td>6.0</td>\n",
       "      <td>0.0</td>\n",
       "      <td>0.0</td>\n",
       "    </tr>\n",
       "    <tr>\n",
       "      <th>8690</th>\n",
       "      <td>2.0</td>\n",
       "      <td>0</td>\n",
       "      <td>2.0</td>\n",
       "      <td>19</td>\n",
       "      <td>0</td>\n",
       "      <td>0</td>\n",
       "      <td>0</td>\n",
       "      <td>0</td>\n",
       "      <td>0</td>\n",
       "      <td>0</td>\n",
       "      <td>NaN</td>\n",
       "      <td>4.0</td>\n",
       "      <td>0.0</td>\n",
       "      <td>6.0</td>\n",
       "    </tr>\n",
       "    <tr>\n",
       "      <th>8691</th>\n",
       "      <td>0.0</td>\n",
       "      <td>0</td>\n",
       "      <td>2.0</td>\n",
       "      <td>29</td>\n",
       "      <td>0</td>\n",
       "      <td>272</td>\n",
       "      <td>615</td>\n",
       "      <td>0</td>\n",
       "      <td>0</td>\n",
       "      <td>1</td>\n",
       "      <td>NaN</td>\n",
       "      <td>6.0</td>\n",
       "      <td>0.0</td>\n",
       "      <td>0.0</td>\n",
       "    </tr>\n",
       "    <tr>\n",
       "      <th>8692</th>\n",
       "      <td>0.0</td>\n",
       "      <td>0</td>\n",
       "      <td>2.0</td>\n",
       "      <td>18</td>\n",
       "      <td>0</td>\n",
       "      <td>490</td>\n",
       "      <td>0</td>\n",
       "      <td>54</td>\n",
       "      <td>195</td>\n",
       "      <td>0</td>\n",
       "      <td>NaN</td>\n",
       "      <td>5.0</td>\n",
       "      <td>0.0</td>\n",
       "      <td>0.0</td>\n",
       "    </tr>\n",
       "  </tbody>\n",
       "</table>\n",
       "<p>8693 rows × 14 columns</p>\n",
       "</div>"
      ],
      "text/plain": [
       "      home_planet  cryo_sleep  destination  age  vip  room_service  food_court  shopping_mall   spa  vr_deck transported  deck  side  group_size\n",
       "0             2.0           0          1.0   40    1           301           0           1310     4      302        True   5.0   0.0         0.0\n",
       "1             1.0           0          0.0   13    0          1212        4485              0  4016       57       False   2.0   0.0         2.0\n",
       "2             1.0           0          2.0   28    0             0        2560              0   134      307       False   3.0   0.0         0.0\n",
       "3             2.0           1          2.0   21    0             0           0              0     0        0        True   5.0   0.0         2.0\n",
       "4             0.0           0          2.0    6    0             0           0              0     0        0        True   6.0   1.0         7.0\n",
       "...           ...         ...          ...  ...  ...           ...         ...            ...   ...      ...         ...   ...   ...         ...\n",
       "8688          0.0           0          2.0   26    0             0         786              0    11       83         NaN   5.0   0.0         0.0\n",
       "8689          0.0           1          2.0   15    0             0           0              0     0        0         NaN   6.0   0.0         0.0\n",
       "8690          2.0           0          2.0   19    0             0           0              0     0        0         NaN   4.0   0.0         6.0\n",
       "8691          0.0           0          2.0   29    0           272         615              0     0        1         NaN   6.0   0.0         0.0\n",
       "8692          0.0           0          2.0   18    0           490           0             54   195        0         NaN   5.0   0.0         0.0\n",
       "\n",
       "[8693 rows x 14 columns]"
      ]
     },
     "execution_count": 59,
     "metadata": {},
     "output_type": "execute_result"
    }
   ],
   "source": [
    "enc = OrdinalEncoder()\n",
    "preop_data_oe = all_data.copy()\n",
    "preop_data_oe[columns_to_encode] = enc.fit_transform(preop_data_oe[columns_to_encode])\n",
    "preop_data_oe"
   ]
  },
  {
   "cell_type": "markdown",
   "id": "8c81e44e-4893-4fa2-9285-d7512a82d596",
   "metadata": {},
   "source": [
    "## Матрица корреляции"
   ]
  },
  {
   "cell_type": "code",
   "execution_count": 60,
   "id": "89a5d326-23ab-4122-9dc9-1eff4c7e4f75",
   "metadata": {},
   "outputs": [
    {
     "data": {
      "image/png": "[encoded data removed]",
      "text/plain": [
       "<Figure size 1080x1080 with 2 Axes>"
      ]
     },
     "metadata": {},
     "output_type": "display_data"
    }
   ],
   "source": [
    "preop_data_ohe['transported'] = preop_data_ohe['transported'].astype('float')\n",
    "preop_data_oe['transported'] = preop_data_oe['transported'].astype('float')\n",
    "\n",
    "\n",
    "corr_matrix = preop_data_ohe.corr()\n",
    "\n",
    "mask = np.triu(np.ones_like(corr_matrix, dtype=np.bool_))\n",
    "\n",
    "f, ax = plt.subplots(figsize=(15, 15)) \n",
    "heatmap = sns.heatmap(round(corr_matrix, 2), \n",
    "                      mask = mask,\n",
    "                      square = True,\n",
    "                      linewidths = .5,\n",
    "                      cmap = 'coolwarm',\n",
    "                      cbar_kws = {'shrink': .4, \n",
    "                                'ticks' : [-1, -.5, 0, 0.5, 1]},\n",
    "                      vmin = -1, \n",
    "                      vmax = 1,\n",
    "                      annot = True,\n",
    "                      annot_kws = {'size': 10})\n",
    "\n",
    "ax.set_yticklabels(corr_matrix.columns, rotation = 0)\n",
    "ax.set_xticklabels(corr_matrix.columns)\n",
    "sns.set_style({'xtick.bottom': True}, {'ytick.left': True})"
   ]
  },
  {
   "cell_type": "code",
   "execution_count": 61,
   "id": "0128a2de-af3b-4338-b151-e5b633e63b95",
   "metadata": {},
   "outputs": [],
   "source": [
    "train_ohe = preop_data_ohe[preop_data_ohe['transported'].notnull()].copy()\n",
    "train_oe = preop_data_oe[preop_data_oe['transported'].notnull()].copy()\n",
    "\n",
    "test_ohe = preop_data_ohe[preop_data_ohe['transported'].isnull()].drop('transported', axis=1)\n",
    "test_oe = preop_data_oe[preop_data_oe['transported'].isnull()].drop('transported', axis=1)\n",
    "\n",
    "train_ohe.transported = train_ohe.transported.astype('int')\n",
    "train_oe.transported = train_oe.transported.astype('int')\n",
    "\n",
    "target_train_ohe = train_ohe['transported'].reset_index(drop=True)\n",
    "target_train_oe = train_oe['transported'].reset_index(drop=True)\n",
    "\n",
    "features_train_ohe = train_ohe.drop('transported', axis=1).reset_index(drop=True)\n",
    "features_train_oe = train_oe.drop('transported', axis=1).reset_index(drop=True)\n",
    "\n",
    "features_test_ohe = test_ohe.reset_index(drop=True)\n",
    "features_test_oe = test_oe.reset_index(drop=True)"
   ]
  },
  {
   "cell_type": "markdown",
   "id": "c9d4667e-e174-4c90-8a57-9a5b4517a0e5",
   "metadata": {},
   "source": [
    "## StandardScaler"
   ]
  },
  {
   "cell_type": "code",
   "execution_count": 62,
   "id": "7a63d0c4-7005-4420-98a2-e4045076f3c1",
   "metadata": {},
   "outputs": [],
   "source": [
    "scaler = StandardScaler()\n",
    "columns_to_scale = ['age', 'room_service', 'food_court', 'shopping_mall', 'spa', 'vr_deck']\n",
    "\n",
    "features_train_ohe[columns_to_scale] = scaler.fit_transform(features_train_ohe[columns_to_scale])\n",
    "features_test_ohe[columns_to_scale] = scaler.transform(features_test_ohe[columns_to_scale])\n",
    "\n",
    "features_train_oe[columns_to_scale] = scaler.fit_transform(features_train_oe[columns_to_scale])\n",
    "features_test_oe[columns_to_scale] = scaler.transform(features_test_oe[columns_to_scale])"
   ]
  },
  {
   "cell_type": "markdown",
   "id": "4f07b905",
   "metadata": {},
   "source": [
    "# Разработка модели ML"
   ]
  },
  {
   "cell_type": "markdown",
   "id": "2e01efcf",
   "metadata": {},
   "source": [
    "## Первичное тестирование"
   ]
  },
  {
   "cell_type": "code",
   "execution_count": 63,
   "id": "b17a02e2",
   "metadata": {},
   "outputs": [],
   "source": [
    "dtc = tree.DecisionTreeClassifier(random_state=12345)\n",
    "rfc = RandomForestClassifier(random_state=12345)\n",
    "gbc = GradientBoostingClassifier(random_state=12345)\n",
    "svm = SVC(random_state=12345)\n",
    "knn = KNeighborsClassifier(n_neighbors = 4)\n",
    "gnb = GaussianNB()\n",
    "abc = AdaBoostClassifier()\n",
    "lda = LinearDiscriminantAnalysis()\n",
    "xgb = XGBClassifier(random_state=12345)"
   ]
  },
  {
   "cell_type": "code",
   "execution_count": 64,
   "id": "a3dcc100-cdc3-4270-a858-591616d27234",
   "metadata": {},
   "outputs": [],
   "source": [
    "def first_score(model, features, target):\n",
    "    return_list = []\n",
    "    if model == xgb:\n",
    "        return_list.append('XGBClassifier(random_state=12345)')\n",
    "    elif model == gbc:\n",
    "        return_list.append('GBC(random_state=12345)')\n",
    "    else:\n",
    "        return_list.append(model)\n",
    "    return_list.append(cross_val_score(model, features, target, cv=6).mean())\n",
    "    return return_list"
   ]
  },
  {
   "cell_type": "code",
   "execution_count": 65,
   "id": "a3022875-a71f-4574-9598-bf68bfd08aaf",
   "metadata": {
    "scrolled": true
   },
   "outputs": [
    {
     "data": {
      "text/html": [
       "<div>\n",
       "<style scoped>\n",
       "    .dataframe tbody tr th:only-of-type {\n",
       "        vertical-align: middle;\n",
       "    }\n",
       "\n",
       "    .dataframe tbody tr th {\n",
       "        vertical-align: top;\n",
       "    }\n",
       "\n",
       "    .dataframe thead th {\n",
       "        text-align: right;\n",
       "    }\n",
       "</style>\n",
       "<table border=\"1\" class=\"dataframe\">\n",
       "  <thead>\n",
       "    <tr style=\"text-align: right;\">\n",
       "      <th></th>\n",
       "      <th>model</th>\n",
       "      <th>score</th>\n",
       "    </tr>\n",
       "  </thead>\n",
       "  <tbody>\n",
       "    <tr>\n",
       "      <th>6</th>\n",
       "      <td>SVC(random_state=12345) ohe</td>\n",
       "      <td>0.795513</td>\n",
       "    </tr>\n",
       "    <tr>\n",
       "      <th>4</th>\n",
       "      <td>GBC(random_state=12345) ohe</td>\n",
       "      <td>0.794507</td>\n",
       "    </tr>\n",
       "    <tr>\n",
       "      <th>5</th>\n",
       "      <td>GBC(random_state=12345) oe</td>\n",
       "      <td>0.792206</td>\n",
       "    </tr>\n",
       "    <tr>\n",
       "      <th>13</th>\n",
       "      <td>AdaBoostClassifier() oe</td>\n",
       "      <td>0.788611</td>\n",
       "    </tr>\n",
       "    <tr>\n",
       "      <th>12</th>\n",
       "      <td>AdaBoostClassifier() ohe</td>\n",
       "      <td>0.788036</td>\n",
       "    </tr>\n",
       "    <tr>\n",
       "      <th>7</th>\n",
       "      <td>SVC(random_state=12345) oe</td>\n",
       "      <td>0.787748</td>\n",
       "    </tr>\n",
       "    <tr>\n",
       "      <th>17</th>\n",
       "      <td>XGBClassifier(random_state=12345) oe</td>\n",
       "      <td>0.785735</td>\n",
       "    </tr>\n",
       "    <tr>\n",
       "      <th>16</th>\n",
       "      <td>XGBClassifier(random_state=12345) ohe</td>\n",
       "      <td>0.785591</td>\n",
       "    </tr>\n",
       "    <tr>\n",
       "      <th>3</th>\n",
       "      <td>RandomForestClassifier(random_state=12345) oe</td>\n",
       "      <td>0.779120</td>\n",
       "    </tr>\n",
       "    <tr>\n",
       "      <th>2</th>\n",
       "      <td>RandomForestClassifier(random_state=12345) ohe</td>\n",
       "      <td>0.778401</td>\n",
       "    </tr>\n",
       "    <tr>\n",
       "      <th>14</th>\n",
       "      <td>LinearDiscriminantAnalysis() ohe</td>\n",
       "      <td>0.772074</td>\n",
       "    </tr>\n",
       "    <tr>\n",
       "      <th>15</th>\n",
       "      <td>LinearDiscriminantAnalysis() oe</td>\n",
       "      <td>0.766034</td>\n",
       "    </tr>\n",
       "    <tr>\n",
       "      <th>9</th>\n",
       "      <td>KNeighborsClassifier(n_neighbors=4) oe</td>\n",
       "      <td>0.752085</td>\n",
       "    </tr>\n",
       "    <tr>\n",
       "      <th>8</th>\n",
       "      <td>KNeighborsClassifier(n_neighbors=4) ohe</td>\n",
       "      <td>0.749065</td>\n",
       "    </tr>\n",
       "    <tr>\n",
       "      <th>1</th>\n",
       "      <td>DecisionTreeClassifier(random_state=12345) oe</td>\n",
       "      <td>0.722749</td>\n",
       "    </tr>\n",
       "    <tr>\n",
       "      <th>0</th>\n",
       "      <td>DecisionTreeClassifier(random_state=12345) ohe</td>\n",
       "      <td>0.718723</td>\n",
       "    </tr>\n",
       "    <tr>\n",
       "      <th>11</th>\n",
       "      <td>GaussianNB() oe</td>\n",
       "      <td>0.709807</td>\n",
       "    </tr>\n",
       "    <tr>\n",
       "      <th>10</th>\n",
       "      <td>GaussianNB() ohe</td>\n",
       "      <td>0.640495</td>\n",
       "    </tr>\n",
       "  </tbody>\n",
       "</table>\n",
       "</div>"
      ],
      "text/plain": [
       "                                             model     score\n",
       "6                      SVC(random_state=12345) ohe  0.795513\n",
       "4                      GBC(random_state=12345) ohe  0.794507\n",
       "5                       GBC(random_state=12345) oe  0.792206\n",
       "13                         AdaBoostClassifier() oe  0.788611\n",
       "12                        AdaBoostClassifier() ohe  0.788036\n",
       "7                       SVC(random_state=12345) oe  0.787748\n",
       "17            XGBClassifier(random_state=12345) oe  0.785735\n",
       "16           XGBClassifier(random_state=12345) ohe  0.785591\n",
       "3    RandomForestClassifier(random_state=12345) oe  0.779120\n",
       "2   RandomForestClassifier(random_state=12345) ohe  0.778401\n",
       "14                LinearDiscriminantAnalysis() ohe  0.772074\n",
       "15                 LinearDiscriminantAnalysis() oe  0.766034\n",
       "9           KNeighborsClassifier(n_neighbors=4) oe  0.752085\n",
       "8          KNeighborsClassifier(n_neighbors=4) ohe  0.749065\n",
       "1    DecisionTreeClassifier(random_state=12345) oe  0.722749\n",
       "0   DecisionTreeClassifier(random_state=12345) ohe  0.718723\n",
       "11                                 GaussianNB() oe  0.709807\n",
       "10                                GaussianNB() ohe  0.640495"
      ]
     },
     "execution_count": 65,
     "metadata": {},
     "output_type": "execute_result"
    }
   ],
   "source": [
    "model_score_dict = {}\n",
    "model_list = [dtc, rfc, gbc, svm, knn, gnb, abc, lda, xgb]\n",
    "features_list = [features_train_ohe, features_train_oe]\n",
    "target_list = [target_train_ohe, target_train_oe]\n",
    "\n",
    "test_models = []\n",
    "test_scores = []\n",
    "\n",
    "for model in model_list:\n",
    "    for i in range(len(features_list)):\n",
    "        result = first_score(model, features_list[i], target_list[i])\n",
    "        if i == 0:\n",
    "            name = ' ohe'\n",
    "        else:\n",
    "            name = ' oe'\n",
    "            \n",
    "        test_models.append(str(result[0]) + name)\n",
    "        test_scores.append(result[1])\n",
    "        \n",
    "model_score_dict = {'model': test_models,\n",
    "                    'score': test_scores}\n",
    "\n",
    "stat_table = pd.DataFrame(model_score_dict)\n",
    "stat_table = stat_table.sort_values(by='score', ascending=False)\n",
    "stat_table"
   ]
  },
  {
   "cell_type": "markdown",
   "id": "53b88c27",
   "metadata": {},
   "source": [
    "## Optune"
   ]
  },
  {
   "cell_type": "code",
   "execution_count": 66,
   "id": "aaa79c61-38c6-41d9-b86e-d4e9924fc7ea",
   "metadata": {},
   "outputs": [],
   "source": [
    "skf = StratifiedKFold(n_splits=6)\n",
    "\n",
    "def objective(trial):\n",
    "    print('________________START__________________')\n",
    "    param = {\n",
    "        'criterion': trial.suggest_categorical('criterion', ['friedman_mse', 'squared_error']),\n",
    "        'max_leaf_nodes': trial.suggest_categorical('max_leaf_nodes', list(range(2, 10))),\n",
    "        'max_features': trial.suggest_categorical('max_features', list(range(2, 10))),\n",
    "        'subsample': trial.suggest_float('subsample', 0.2, 1.0),\n",
    "        'learning_rate': trial.suggest_float('learning_rate', 0.01, 0.3),\n",
    "        'n_estimators': trial.suggest_int('n_estimators', 20, 2000),\n",
    "        'max_depth': trial.suggest_categorical('max_depth', list(range(2, 10)))\n",
    "        }\n",
    "        \n",
    "    model = GradientBoostingClassifier(**param, random_state=12345)  \n",
    "    n = cross_val_score(model, features_train_ohe, target_train_ohe, cv=6).mean()\n",
    "    print(n)\n",
    "    print('________________STOP__________________')\n",
    "    return n\n",
    "if OPTUNE_OPTIMIZATION:\n",
    "    study = optuna.create_study(pruner=optuna.pruners.HyperbandPruner(), direction='maximize')\n",
    "    study.optimize(objective, n_trials=1500)\n",
    "    params_gbc = study.best_params"
   ]
  },
  {
   "cell_type": "code",
   "execution_count": 67,
   "id": "7e82a38e-ad6f-4c19-a5b7-8569a9ab709d",
   "metadata": {},
   "outputs": [
    {
     "data": {
      "text/html": [
       "<div>\n",
       "<style scoped>\n",
       "    .dataframe tbody tr th:only-of-type {\n",
       "        vertical-align: middle;\n",
       "    }\n",
       "\n",
       "    .dataframe tbody tr th {\n",
       "        vertical-align: top;\n",
       "    }\n",
       "\n",
       "    .dataframe thead th {\n",
       "        text-align: right;\n",
       "    }\n",
       "</style>\n",
       "<table border=\"1\" class=\"dataframe\">\n",
       "  <thead>\n",
       "    <tr style=\"text-align: right;\">\n",
       "      <th></th>\n",
       "      <th>model</th>\n",
       "      <th>score</th>\n",
       "    </tr>\n",
       "  </thead>\n",
       "  <tbody>\n",
       "    <tr>\n",
       "      <th>18</th>\n",
       "      <td>GBC(random_state=12345) optune</td>\n",
       "      <td>0.805004</td>\n",
       "    </tr>\n",
       "    <tr>\n",
       "      <th>6</th>\n",
       "      <td>SVC(random_state=12345) ohe</td>\n",
       "      <td>0.795513</td>\n",
       "    </tr>\n",
       "    <tr>\n",
       "      <th>4</th>\n",
       "      <td>GBC(random_state=12345) ohe</td>\n",
       "      <td>0.794507</td>\n",
       "    </tr>\n",
       "    <tr>\n",
       "      <th>5</th>\n",
       "      <td>GBC(random_state=12345) oe</td>\n",
       "      <td>0.792206</td>\n",
       "    </tr>\n",
       "    <tr>\n",
       "      <th>13</th>\n",
       "      <td>AdaBoostClassifier() oe</td>\n",
       "      <td>0.788611</td>\n",
       "    </tr>\n",
       "    <tr>\n",
       "      <th>12</th>\n",
       "      <td>AdaBoostClassifier() ohe</td>\n",
       "      <td>0.788036</td>\n",
       "    </tr>\n",
       "    <tr>\n",
       "      <th>7</th>\n",
       "      <td>SVC(random_state=12345) oe</td>\n",
       "      <td>0.787748</td>\n",
       "    </tr>\n",
       "    <tr>\n",
       "      <th>17</th>\n",
       "      <td>XGBClassifier(random_state=12345) oe</td>\n",
       "      <td>0.785735</td>\n",
       "    </tr>\n",
       "    <tr>\n",
       "      <th>16</th>\n",
       "      <td>XGBClassifier(random_state=12345) ohe</td>\n",
       "      <td>0.785591</td>\n",
       "    </tr>\n",
       "    <tr>\n",
       "      <th>3</th>\n",
       "      <td>RandomForestClassifier(random_state=12345) oe</td>\n",
       "      <td>0.779120</td>\n",
       "    </tr>\n",
       "    <tr>\n",
       "      <th>2</th>\n",
       "      <td>RandomForestClassifier(random_state=12345) ohe</td>\n",
       "      <td>0.778401</td>\n",
       "    </tr>\n",
       "    <tr>\n",
       "      <th>14</th>\n",
       "      <td>LinearDiscriminantAnalysis() ohe</td>\n",
       "      <td>0.772074</td>\n",
       "    </tr>\n",
       "    <tr>\n",
       "      <th>15</th>\n",
       "      <td>LinearDiscriminantAnalysis() oe</td>\n",
       "      <td>0.766034</td>\n",
       "    </tr>\n",
       "    <tr>\n",
       "      <th>9</th>\n",
       "      <td>KNeighborsClassifier(n_neighbors=4) oe</td>\n",
       "      <td>0.752085</td>\n",
       "    </tr>\n",
       "    <tr>\n",
       "      <th>8</th>\n",
       "      <td>KNeighborsClassifier(n_neighbors=4) ohe</td>\n",
       "      <td>0.749065</td>\n",
       "    </tr>\n",
       "    <tr>\n",
       "      <th>1</th>\n",
       "      <td>DecisionTreeClassifier(random_state=12345) oe</td>\n",
       "      <td>0.722749</td>\n",
       "    </tr>\n",
       "    <tr>\n",
       "      <th>0</th>\n",
       "      <td>DecisionTreeClassifier(random_state=12345) ohe</td>\n",
       "      <td>0.718723</td>\n",
       "    </tr>\n",
       "    <tr>\n",
       "      <th>11</th>\n",
       "      <td>GaussianNB() oe</td>\n",
       "      <td>0.709807</td>\n",
       "    </tr>\n",
       "    <tr>\n",
       "      <th>10</th>\n",
       "      <td>GaussianNB() ohe</td>\n",
       "      <td>0.640495</td>\n",
       "    </tr>\n",
       "  </tbody>\n",
       "</table>\n",
       "</div>"
      ],
      "text/plain": [
       "                                             model     score\n",
       "18                  GBC(random_state=12345) optune  0.805004\n",
       "6                      SVC(random_state=12345) ohe  0.795513\n",
       "4                      GBC(random_state=12345) ohe  0.794507\n",
       "5                       GBC(random_state=12345) oe  0.792206\n",
       "13                         AdaBoostClassifier() oe  0.788611\n",
       "12                        AdaBoostClassifier() ohe  0.788036\n",
       "7                       SVC(random_state=12345) oe  0.787748\n",
       "17            XGBClassifier(random_state=12345) oe  0.785735\n",
       "16           XGBClassifier(random_state=12345) ohe  0.785591\n",
       "3    RandomForestClassifier(random_state=12345) oe  0.779120\n",
       "2   RandomForestClassifier(random_state=12345) ohe  0.778401\n",
       "14                LinearDiscriminantAnalysis() ohe  0.772074\n",
       "15                 LinearDiscriminantAnalysis() oe  0.766034\n",
       "9           KNeighborsClassifier(n_neighbors=4) oe  0.752085\n",
       "8          KNeighborsClassifier(n_neighbors=4) ohe  0.749065\n",
       "1    DecisionTreeClassifier(random_state=12345) oe  0.722749\n",
       "0   DecisionTreeClassifier(random_state=12345) ohe  0.718723\n",
       "11                                 GaussianNB() oe  0.709807\n",
       "10                                GaussianNB() ohe  0.640495"
      ]
     },
     "execution_count": 67,
     "metadata": {},
     "output_type": "execute_result"
    }
   ],
   "source": [
    "params = {'criterion': 'friedman_mse',\n",
    "          'max_leaf_nodes': 7,\n",
    "          'max_features': 6,\n",
    "          'subsample': 0.6580997852552091,\n",
    "          'learning_rate': 0.048666851470837526,\n",
    "          'n_estimators': 674,\n",
    "          'max_depth': 5}\n",
    "\n",
    "best_gbc = gbc.set_params(**params)\n",
    "stat_table.loc[len(stat_table.index)] = ['GBC(random_state=12345) optune', cross_val_score(best_gbc, features_train_ohe, target_train_ohe, cv=6).mean()]\n",
    "stat_table = stat_table.sort_values(by='score', ascending=False)\n",
    "stat_table"
   ]
  },
  {
   "cell_type": "code",
   "execution_count": 68,
   "id": "fd1d50ad-831e-46f9-979b-b650318ed35c",
   "metadata": {},
   "outputs": [
    {
     "data": {
      "image/png": "[encoded data removed]",
      "text/plain": [
       "<Figure size 432x288 with 2 Axes>"
      ]
     },
     "metadata": {},
     "output_type": "display_data"
    }
   ],
   "source": [
    "best_gbc = best_gbc.fit(features_train_ohe, target_train_ohe)\n",
    "cm = confusion_matrix(target_train_ohe, best_gbc.predict(features_train_ohe))\n",
    "disp = ConfusionMatrixDisplay(confusion_matrix=cm)\n",
    "disp.plot()\n",
    "plt.show()"
   ]
  },
  {
   "cell_type": "markdown",
   "id": "283df1b5",
   "metadata": {},
   "source": [
    "## Future impotance"
   ]
  },
  {
   "cell_type": "code",
   "execution_count": 69,
   "id": "6bc420fa-2ab0-4b1f-838e-5bc436d1073f",
   "metadata": {},
   "outputs": [
    {
     "data": {
      "text/plain": [
       "<AxesSubplot:>"
      ]
     },
     "execution_count": 69,
     "metadata": {},
     "output_type": "execute_result"
    },
    {
     "data": {
      "image/png": "[encoded data removed]",
      "text/plain": [
       "<Figure size 1080x504 with 1 Axes>"
      ]
     },
     "metadata": {},
     "output_type": "display_data"
    }
   ],
   "source": [
    "pd.Series(best_gbc.feature_importances_, features_train_ohe.columns).sort_values(ascending=True).plot.barh(width=0.8, figsize=(15,7))"
   ]
  },
  {
   "cell_type": "markdown",
   "id": "ff90ac78",
   "metadata": {},
   "source": [
    "# Prediction"
   ]
  },
  {
   "cell_type": "code",
   "execution_count": 70,
   "id": "c1fe814d-b516-49ae-bc4d-4b715bd9e1f3",
   "metadata": {},
   "outputs": [
    {
     "ename": "NameError",
     "evalue": "name 'params_gbc' is not defined",
     "output_type": "error",
     "traceback": [
      "\u001b[1;31m---------------------------------------------------------------------------\u001b[0m",
      "\u001b[1;31mNameError\u001b[0m                                 Traceback (most recent call last)",
      "Input \u001b[1;32mIn [70]\u001b[0m, in \u001b[0;36m<cell line: 1>\u001b[1;34m()\u001b[0m\n\u001b[1;32m----> 1\u001b[0m sample[\u001b[38;5;124m'\u001b[39m\u001b[38;5;124mTransported\u001b[39m\u001b[38;5;124m'\u001b[39m] \u001b[38;5;241m=\u001b[39m (GradientBoostingClassifier(random_state\u001b[38;5;241m=\u001b[39m\u001b[38;5;241m12345\u001b[39m)\u001b[38;5;241m.\u001b[39mset_params(\u001b[38;5;241m*\u001b[39m\u001b[38;5;241m*\u001b[39m\u001b[43mparams_gbc\u001b[49m)\u001b[38;5;241m.\u001b[39mfit(features_train_ohe, target_train_ohe))\u001b[38;5;241m.\u001b[39mpredict(features_test_ohe)\n\u001b[0;32m      2\u001b[0m sample[\u001b[38;5;124m'\u001b[39m\u001b[38;5;124mTransported\u001b[39m\u001b[38;5;124m'\u001b[39m] \u001b[38;5;241m=\u001b[39m sample[\u001b[38;5;124m'\u001b[39m\u001b[38;5;124mTransported\u001b[39m\u001b[38;5;124m'\u001b[39m]\u001b[38;5;241m.\u001b[39mastype(\u001b[38;5;124m'\u001b[39m\u001b[38;5;124mbool\u001b[39m\u001b[38;5;124m'\u001b[39m)\n\u001b[0;32m      3\u001b[0m sample\u001b[38;5;241m.\u001b[39mto_csv(\u001b[38;5;124mr\u001b[39m\u001b[38;5;124m\"\u001b[39m\u001b[38;5;124msample_submission.csv\u001b[39m\u001b[38;5;124m\"\u001b[39m, index\u001b[38;5;241m=\u001b[39m\u001b[38;5;28;01mFalse\u001b[39;00m, sep\u001b[38;5;241m=\u001b[39m\u001b[38;5;124m\"\u001b[39m\u001b[38;5;124m,\u001b[39m\u001b[38;5;124m\"\u001b[39m)\n",
      "\u001b[1;31mNameError\u001b[0m: name 'params_gbc' is not defined"
     ]
    }
   ],
   "source": [
    "sample['Transported'] = (GradientBoostingClassifier(random_state=12345).set_params(**params_gbc).fit(features_train_ohe, target_train_ohe)).predict(features_test_ohe)\n",
    "sample['Transported'] = sample['Transported'].astype('bool')\n",
    "sample.to_csv(r\"sample_submission.csv\", index=False, sep=\",\")"
   ]
  },
  {
   "cell_type": "markdown",
   "id": "7f9fc2ea",
   "metadata": {},
   "source": [
    "# Отчет"
   ]
  },
  {
   "cell_type": "code",
   "execution_count": null,
   "id": "8c1e3b1c",
   "metadata": {},
   "outputs": [],
   "source": []
  }
 ],
 "metadata": {
  "celltoolbar": "Необработанный формат ячейки",
  "kernelspec": {
   "display_name": "Python 3 (ipykernel)",
   "language": "python",
   "name": "python3"
  },
  "language_info": {
   "codemirror_mode": {
    "name": "ipython",
    "version": 3
   },
   "file_extension": ".py",
   "mimetype": "text/x-python",
   "name": "python",
   "nbconvert_exporter": "python",
   "pygments_lexer": "ipython3",
   "version": "3.9.12"
  },
  "toc": {
   "base_numbering": 1,
   "nav_menu": {},
   "number_sections": true,
   "sideBar": true,
   "skip_h1_title": false,
   "title_cell": "Table of Contents",
   "title_sidebar": "Contents",
   "toc_cell": true,
   "toc_position": {
    "height": "calc(100% - 180px)",
    "left": "10px",
    "top": "150px",
    "width": "398px"
   },
   "toc_section_display": true,
   "toc_window_display": true
  }
 },
 "nbformat": 4,
 "nbformat_minor": 5
}
