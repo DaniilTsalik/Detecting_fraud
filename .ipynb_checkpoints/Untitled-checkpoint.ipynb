{
 "cells": [
  {
   "cell_type": "markdown",
   "id": "f16988c8-9321-4548-b063-c9cfd0782118",
   "metadata": {},
   "source": [
    "### Шаг 1. Загрузка данных и ознакомление"
   ]
  },
  {
   "cell_type": "code",
   "execution_count": 1,
   "id": "105cf1b7-00b6-4c65-83e9-2cd20594ecc7",
   "metadata": {},
   "outputs": [],
   "source": [
    " # Импортируем необходимые библиотеки:\n",
    "import copy\n",
    "import pandas as pd\n",
    "import seaborn as sns\n",
    "import numpy as np\n",
    "import matplotlib.pyplot as plt\n",
    "from sklearn import tree\n",
    "from sklearn.ensemble import RandomForestClassifier, GradientBoostingClassifier\n",
    "from sklearn.model_selection import GridSearchCV\n",
    "from sklearn.model_selection import train_test_split\n",
    "from sklearn.pipeline import Pipeline\n",
    "from sklearn.preprocessing import StandardScaler\n",
    "from sklearn.preprocessing import OneHotEncoder\n",
    "from sklearn.preprocessing import LabelEncoder\n",
    "from sklearn.linear_model import LogisticRegression\n",
    "from sklearn.neighbors import KNeighborsClassifier\n",
    "from sklearn.metrics import confusion_matrix, ConfusionMatrixDisplay\n",
    "from sklearn.metrics import f1_score, make_scorer\n",
    "from sklearn.svm import SVC, LinearSVC\n",
    "from sklearn.neighbors import KNeighborsClassifier\n",
    "from sklearn.naive_bayes import GaussianNB\n",
    "from sklearn.ensemble import AdaBoostClassifier\n",
    "from sklearn.discriminant_analysis import LinearDiscriminantAnalysis\n",
    "from sklearn.ensemble import GradientBoostingClassifier\n",
    "from sklearn.model_selection import RandomizedSearchCV\n",
    "from xgboost import XGBClassifier\n",
    "from sklearn.metrics import confusion_matrix, ConfusionMatrixDisplay\n",
    "from sklearn.impute import SimpleImputer\n",
    "from sklearn.model_selection import StratifiedKFold\n",
    "import optuna\n",
    "from sklearn.metrics import accuracy_score"
   ]
  },
  {
   "cell_type": "code",
   "execution_count": 2,
   "id": "2a5fe797-75af-46d0-925e-b3c744641f19",
   "metadata": {},
   "outputs": [],
   "source": [
    "train = pd.read_csv('/Users/tsali/OneDrive/Документы/GitHub/Detecting_fraud/train.csv') # Тренировочный датасет\n",
    "test = pd.read_csv('/Users/tsali/OneDrive/Документы/GitHub/Detecting_fraud/test.csv') # Тестовый датасет\n",
    "sample = pd.read_csv('/Users/tsali/OneDrive/Документы/GitHub/Detecting_fraud/sample_submission.csv')"
   ]
  },
  {
   "cell_type": "code",
   "execution_count": 7,
   "id": "134c069e",
   "metadata": {},
   "outputs": [],
   "source": [
    "sample['PassengerId'] = test['PassengerId']"
   ]
  },
  {
   "cell_type": "code",
   "execution_count": 4,
   "id": "10f67130-6dd4-4148-b649-98948d9fbec7",
   "metadata": {},
   "outputs": [
    {
     "data": {
      "text/html": [
       "<div>\n",
       "<style scoped>\n",
       "    .dataframe tbody tr th:only-of-type {\n",
       "        vertical-align: middle;\n",
       "    }\n",
       "\n",
       "    .dataframe tbody tr th {\n",
       "        vertical-align: top;\n",
       "    }\n",
       "\n",
       "    .dataframe thead th {\n",
       "        text-align: right;\n",
       "    }\n",
       "</style>\n",
       "<table border=\"1\" class=\"dataframe\">\n",
       "  <thead>\n",
       "    <tr style=\"text-align: right;\">\n",
       "      <th></th>\n",
       "      <th>PassengerId</th>\n",
       "      <th>HomePlanet</th>\n",
       "      <th>CryoSleep</th>\n",
       "      <th>Cabin</th>\n",
       "      <th>Destination</th>\n",
       "      <th>Age</th>\n",
       "      <th>VIP</th>\n",
       "      <th>RoomService</th>\n",
       "      <th>FoodCourt</th>\n",
       "      <th>ShoppingMall</th>\n",
       "      <th>Spa</th>\n",
       "      <th>VRDeck</th>\n",
       "      <th>Name</th>\n",
       "      <th>Transported</th>\n",
       "    </tr>\n",
       "  </thead>\n",
       "  <tbody>\n",
       "    <tr>\n",
       "      <th>0</th>\n",
       "      <td>6234_01</td>\n",
       "      <td>Mars</td>\n",
       "      <td>False</td>\n",
       "      <td>F/1287/P</td>\n",
       "      <td>PSO J318.5-22</td>\n",
       "      <td>40.0</td>\n",
       "      <td>True</td>\n",
       "      <td>301.0</td>\n",
       "      <td>0.0</td>\n",
       "      <td>1310.0</td>\n",
       "      <td>4.0</td>\n",
       "      <td>NaN</td>\n",
       "      <td>Sters Bun</td>\n",
       "      <td>True</td>\n",
       "    </tr>\n",
       "    <tr>\n",
       "      <th>1</th>\n",
       "      <td>8826_01</td>\n",
       "      <td>Europa</td>\n",
       "      <td>False</td>\n",
       "      <td>C/290/P</td>\n",
       "      <td>55 Cancri e</td>\n",
       "      <td>13.0</td>\n",
       "      <td>False</td>\n",
       "      <td>1212.0</td>\n",
       "      <td>4485.0</td>\n",
       "      <td>0.0</td>\n",
       "      <td>4016.0</td>\n",
       "      <td>57.0</td>\n",
       "      <td>Marin Hednigic</td>\n",
       "      <td>False</td>\n",
       "    </tr>\n",
       "    <tr>\n",
       "      <th>2</th>\n",
       "      <td>4453_01</td>\n",
       "      <td>Europa</td>\n",
       "      <td>False</td>\n",
       "      <td>D/149/P</td>\n",
       "      <td>TRAPPIST-1e</td>\n",
       "      <td>28.0</td>\n",
       "      <td>False</td>\n",
       "      <td>0.0</td>\n",
       "      <td>2560.0</td>\n",
       "      <td>0.0</td>\n",
       "      <td>134.0</td>\n",
       "      <td>307.0</td>\n",
       "      <td>Azhasim Inguel</td>\n",
       "      <td>False</td>\n",
       "    </tr>\n",
       "    <tr>\n",
       "      <th>3</th>\n",
       "      <td>0602_03</td>\n",
       "      <td>Mars</td>\n",
       "      <td>True</td>\n",
       "      <td>F/125/P</td>\n",
       "      <td>TRAPPIST-1e</td>\n",
       "      <td>21.0</td>\n",
       "      <td>False</td>\n",
       "      <td>0.0</td>\n",
       "      <td>0.0</td>\n",
       "      <td>0.0</td>\n",
       "      <td>0.0</td>\n",
       "      <td>0.0</td>\n",
       "      <td>Rana Brine</td>\n",
       "      <td>True</td>\n",
       "    </tr>\n",
       "    <tr>\n",
       "      <th>4</th>\n",
       "      <td>8796_01</td>\n",
       "      <td>Earth</td>\n",
       "      <td>False</td>\n",
       "      <td>G/1418/S</td>\n",
       "      <td>TRAPPIST-1e</td>\n",
       "      <td>6.0</td>\n",
       "      <td>False</td>\n",
       "      <td>0.0</td>\n",
       "      <td>0.0</td>\n",
       "      <td>0.0</td>\n",
       "      <td>0.0</td>\n",
       "      <td>0.0</td>\n",
       "      <td>Daisya Traverdy</td>\n",
       "      <td>True</td>\n",
       "    </tr>\n",
       "  </tbody>\n",
       "</table>\n",
       "</div>"
      ],
      "text/plain": [
       "  PassengerId HomePlanet CryoSleep     Cabin    Destination   Age    VIP  \\\n",
       "0     6234_01       Mars     False  F/1287/P  PSO J318.5-22  40.0   True   \n",
       "1     8826_01     Europa     False   C/290/P    55 Cancri e  13.0  False   \n",
       "2     4453_01     Europa     False   D/149/P    TRAPPIST-1e  28.0  False   \n",
       "3     0602_03       Mars      True   F/125/P    TRAPPIST-1e  21.0  False   \n",
       "4     8796_01      Earth     False  G/1418/S    TRAPPIST-1e   6.0  False   \n",
       "\n",
       "   RoomService  FoodCourt  ShoppingMall     Spa  VRDeck             Name  \\\n",
       "0        301.0        0.0        1310.0     4.0     NaN        Sters Bun   \n",
       "1       1212.0     4485.0           0.0  4016.0    57.0   Marin Hednigic   \n",
       "2          0.0     2560.0           0.0   134.0   307.0   Azhasim Inguel   \n",
       "3          0.0        0.0           0.0     0.0     0.0       Rana Brine   \n",
       "4          0.0        0.0           0.0     0.0     0.0  Daisya Traverdy   \n",
       "\n",
       "   Transported  \n",
       "0         True  \n",
       "1        False  \n",
       "2        False  \n",
       "3         True  \n",
       "4         True  "
      ]
     },
     "metadata": {},
     "output_type": "display_data"
    },
    {
     "data": {
      "text/html": [
       "<div>\n",
       "<style scoped>\n",
       "    .dataframe tbody tr th:only-of-type {\n",
       "        vertical-align: middle;\n",
       "    }\n",
       "\n",
       "    .dataframe tbody tr th {\n",
       "        vertical-align: top;\n",
       "    }\n",
       "\n",
       "    .dataframe thead th {\n",
       "        text-align: right;\n",
       "    }\n",
       "</style>\n",
       "<table border=\"1\" class=\"dataframe\">\n",
       "  <thead>\n",
       "    <tr style=\"text-align: right;\">\n",
       "      <th></th>\n",
       "      <th>PassengerId</th>\n",
       "      <th>HomePlanet</th>\n",
       "      <th>CryoSleep</th>\n",
       "      <th>Cabin</th>\n",
       "      <th>Destination</th>\n",
       "      <th>Age</th>\n",
       "      <th>VIP</th>\n",
       "      <th>RoomService</th>\n",
       "      <th>FoodCourt</th>\n",
       "      <th>ShoppingMall</th>\n",
       "      <th>Spa</th>\n",
       "      <th>VRDeck</th>\n",
       "      <th>Name</th>\n",
       "    </tr>\n",
       "  </thead>\n",
       "  <tbody>\n",
       "    <tr>\n",
       "      <th>0</th>\n",
       "      <td>8026_01</td>\n",
       "      <td>Mars</td>\n",
       "      <td>True</td>\n",
       "      <td>F/1534/S</td>\n",
       "      <td>TRAPPIST-1e</td>\n",
       "      <td>29.0</td>\n",
       "      <td>False</td>\n",
       "      <td>0.0</td>\n",
       "      <td>0.0</td>\n",
       "      <td>0.0</td>\n",
       "      <td>0.0</td>\n",
       "      <td>0.0</td>\n",
       "      <td>Losp Ruité</td>\n",
       "    </tr>\n",
       "    <tr>\n",
       "      <th>1</th>\n",
       "      <td>6734_03</td>\n",
       "      <td>Europa</td>\n",
       "      <td>True</td>\n",
       "      <td>C/249/S</td>\n",
       "      <td>55 Cancri e</td>\n",
       "      <td>37.0</td>\n",
       "      <td>True</td>\n",
       "      <td>0.0</td>\n",
       "      <td>0.0</td>\n",
       "      <td>0.0</td>\n",
       "      <td>0.0</td>\n",
       "      <td>0.0</td>\n",
       "      <td>Alhaino Sparsaxle</td>\n",
       "    </tr>\n",
       "    <tr>\n",
       "      <th>2</th>\n",
       "      <td>8186_04</td>\n",
       "      <td>Earth</td>\n",
       "      <td>True</td>\n",
       "      <td>G/1319/S</td>\n",
       "      <td>PSO J318.5-22</td>\n",
       "      <td>23.0</td>\n",
       "      <td>False</td>\n",
       "      <td>0.0</td>\n",
       "      <td>0.0</td>\n",
       "      <td>0.0</td>\n",
       "      <td>0.0</td>\n",
       "      <td>0.0</td>\n",
       "      <td>Rayley Jenkinnedy</td>\n",
       "    </tr>\n",
       "    <tr>\n",
       "      <th>3</th>\n",
       "      <td>4942_02</td>\n",
       "      <td>Earth</td>\n",
       "      <td>True</td>\n",
       "      <td>G/806/S</td>\n",
       "      <td>TRAPPIST-1e</td>\n",
       "      <td>36.0</td>\n",
       "      <td>False</td>\n",
       "      <td>0.0</td>\n",
       "      <td>0.0</td>\n",
       "      <td>0.0</td>\n",
       "      <td>0.0</td>\n",
       "      <td>0.0</td>\n",
       "      <td>Coreee Reenon</td>\n",
       "    </tr>\n",
       "    <tr>\n",
       "      <th>4</th>\n",
       "      <td>8640_01</td>\n",
       "      <td>Earth</td>\n",
       "      <td>False</td>\n",
       "      <td>F/1666/S</td>\n",
       "      <td>NaN</td>\n",
       "      <td>50.0</td>\n",
       "      <td>False</td>\n",
       "      <td>133.0</td>\n",
       "      <td>0.0</td>\n",
       "      <td>525.0</td>\n",
       "      <td>0.0</td>\n",
       "      <td>31.0</td>\n",
       "      <td>Diandy Hurchrisong</td>\n",
       "    </tr>\n",
       "  </tbody>\n",
       "</table>\n",
       "</div>"
      ],
      "text/plain": [
       "  PassengerId HomePlanet CryoSleep     Cabin    Destination   Age    VIP  \\\n",
       "0     8026_01       Mars      True  F/1534/S    TRAPPIST-1e  29.0  False   \n",
       "1     6734_03     Europa      True   C/249/S    55 Cancri e  37.0   True   \n",
       "2     8186_04      Earth      True  G/1319/S  PSO J318.5-22  23.0  False   \n",
       "3     4942_02      Earth      True   G/806/S    TRAPPIST-1e  36.0  False   \n",
       "4     8640_01      Earth     False  F/1666/S            NaN  50.0  False   \n",
       "\n",
       "   RoomService  FoodCourt  ShoppingMall  Spa  VRDeck                Name  \n",
       "0          0.0        0.0           0.0  0.0     0.0          Losp Ruité  \n",
       "1          0.0        0.0           0.0  0.0     0.0   Alhaino Sparsaxle  \n",
       "2          0.0        0.0           0.0  0.0     0.0   Rayley Jenkinnedy  \n",
       "3          0.0        0.0           0.0  0.0     0.0       Coreee Reenon  \n",
       "4        133.0        0.0         525.0  0.0    31.0  Diandy Hurchrisong  "
      ]
     },
     "metadata": {},
     "output_type": "display_data"
    }
   ],
   "source": [
    "display(train.head(), test.head())"
   ]
  },
  {
   "cell_type": "markdown",
   "id": "804d3206-bbc9-4f4f-a990-72043cd81043",
   "metadata": {},
   "source": [
    "### Шаг 2. Предобработка и исследовательский анализ данных"
   ]
  },
  {
   "cell_type": "markdown",
   "id": "a922aba2-488e-475f-a1d2-0ff349ff9ea9",
   "metadata": {},
   "source": [
    "Размеры датасетов"
   ]
  },
  {
   "cell_type": "code",
   "execution_count": null,
   "id": "84e64bd9-cfec-442f-a115-d9e27d992032",
   "metadata": {},
   "outputs": [],
   "source": [
    "print(train.shape)\n",
    "print(test.shape)"
   ]
  },
  {
   "cell_type": "code",
   "execution_count": null,
   "id": "b66b55aa-977c-4bff-89f9-081f9afa604d",
   "metadata": {},
   "outputs": [],
   "source": [
    "all_data = pd.concat([train, test]).reset_index(drop=True)\n",
    "all_data.shape"
   ]
  },
  {
   "cell_type": "markdown",
   "id": "cc187359-a79f-4510-8617-ef4bf1954313",
   "metadata": {},
   "source": [
    "Количество пропущенных значений"
   ]
  },
  {
   "cell_type": "code",
   "execution_count": null,
   "id": "8a9426d4-0385-4482-aecd-5c6582a749ef",
   "metadata": {},
   "outputs": [],
   "source": [
    "all_data.isna().sum()"
   ]
  },
  {
   "cell_type": "markdown",
   "id": "2fe0e14e-3287-4bbf-8fcf-e7da4311ee26",
   "metadata": {},
   "source": [
    "#### Выделение дополнительных столбцов из `PassengerId` и `Cabin`"
   ]
  },
  {
   "cell_type": "code",
   "execution_count": null,
   "id": "150a4702-ff8d-4117-b08f-515a8c176073",
   "metadata": {},
   "outputs": [],
   "source": [
    "all_data['group_id'] = all_data.PassengerId.str.split(r'_\\s*').str[0]\n",
    "all_data['number_in_group'] = all_data.PassengerId.str.split(r'_\\s*').str[1]\n",
    "all_data['deck'] = all_data.Cabin.str.split(r'/\\s*').str[0]\n",
    "all_data['number'] = all_data.Cabin.str.split(r'/\\s*').str[1]\n",
    "all_data['side'] = all_data.Cabin.str.split(r'/\\s*').str[2]\n",
    "all_data = all_data.drop('PassengerId', axis=1)\n",
    "all_data = all_data.drop('Cabin', axis=1)"
   ]
  },
  {
   "cell_type": "code",
   "execution_count": null,
   "id": "9f0ce6bf-ce34-4432-baf0-4b7426c7f456",
   "metadata": {},
   "outputs": [],
   "source": [
    "all_data.head()"
   ]
  },
  {
   "cell_type": "markdown",
   "id": "aefa6df3-ba67-4946-97b3-4bf226537dfe",
   "metadata": {},
   "source": [
    "#### Переименование столбцов"
   ]
  },
  {
   "cell_type": "code",
   "execution_count": null,
   "id": "dbf1e50a-e10b-49fe-aa92-bd029d62fa3b",
   "metadata": {},
   "outputs": [],
   "source": [
    "all_data.columns"
   ]
  },
  {
   "cell_type": "code",
   "execution_count": null,
   "id": "de97de4d-2412-4800-bd50-201352ec00f6",
   "metadata": {},
   "outputs": [],
   "source": [
    "all_data = all_data.rename(columns={'HomePlanet': 'home_planet', \n",
    "                                    'CryoSleep': 'cryo_sleep',\n",
    "                                    'Destination': 'destination',\n",
    "                                    'Age': 'age',\n",
    "                                    'VIP': 'vip',\n",
    "                                    'RoomService': 'room_service',\n",
    "                                    'FoodCourt': 'food_court',\n",
    "                                    'ShoppingMall': 'shopping_mall',\n",
    "                                    'Spa': 'spa',\n",
    "                                    'VRDeck': 'vr_deck',\n",
    "                                    'Name': 'name',\n",
    "                                    'Transported': 'transported'\n",
    "                                   })"
   ]
  },
  {
   "cell_type": "code",
   "execution_count": null,
   "id": "8f01343e-8a54-4e50-a225-bfa4a92b5c65",
   "metadata": {},
   "outputs": [],
   "source": [
    "all_data.columns"
   ]
  },
  {
   "cell_type": "markdown",
   "id": "9333abd8-453f-40d5-bdca-51d747281040",
   "metadata": {},
   "source": [
    "#### Cabin"
   ]
  },
  {
   "cell_type": "code",
   "execution_count": null,
   "id": "62455425-f0c9-4d2a-af3b-27f53990349c",
   "metadata": {},
   "outputs": [],
   "source": [
    "all_data[['deck', 'number', 'side']].isna().sum()"
   ]
  },
  {
   "cell_type": "code",
   "execution_count": null,
   "id": "1d249956-cc03-4ba3-8f35-0e7db39345a1",
   "metadata": {},
   "outputs": [],
   "source": [
    "group_id_list = list(all_data.query('number_in_group != \"01\" and number_in_group == number_in_group and deck == deck').group_id.unique())\n",
    "\n",
    "for index, row in all_data.iterrows():\n",
    "    group_id = row.group_id\n",
    "    \n",
    "    if group_id in group_id_list and row.deck != row.deck:\n",
    "        \n",
    "        request_data = pd.DataFrame(all_data.query('group_id in @group_id'))\n",
    "        \n",
    "        for request_index, request_row in request_data.iterrows():\n",
    "            \n",
    "            if request_row.deck == request_row.deck:\n",
    "                \n",
    "                all_data.loc[index, 'deck'] = request_row.deck\n",
    "                all_data.loc[index, 'number'] = request_row.number\n",
    "                all_data.loc[index, 'side'] = request_row.side"
   ]
  },
  {
   "cell_type": "code",
   "execution_count": null,
   "id": "6f992175-a6ee-45e7-8d83-47225d5a0c4d",
   "metadata": {},
   "outputs": [],
   "source": [
    "all_data[['deck', 'number', 'side']].isna().sum()"
   ]
  },
  {
   "cell_type": "code",
   "execution_count": null,
   "id": "80fdee14",
   "metadata": {},
   "outputs": [],
   "source": [
    "def transported_stat(target_feature):\n",
    "    temp_table = all_data.groupby(by=[target_feature])['transported'].agg(['count', 'sum', 'mean']).rename(columns={\"count\": \"total\", \"sum\": \"transported\"})\n",
    "    display(temp_table)\n",
    "    f, ax = plt.subplots(figsize=(20, 7))\n",
    "    sns.set_theme(style=\"whitegrid\")\n",
    "    sns.set_color_codes(\"pastel\")\n",
    "    sns.barplot( x=temp_table.index, y = 'total',  data=temp_table, label=\"Total\", color='b')\n",
    "    sns.set_color_codes(\"muted\")\n",
    "    sns.barplot( x=temp_table.index, y = 'transported', data=temp_table, label=\"Transported\", color=\"b\")\n",
    "    ax.legend(ncol=2, loc=\"right\", frameon=True)\n",
    "    ax.set( ylabel=\"\",\n",
    "    xlabel='Transported passenger per ' + target_feature);"
   ]
  },
  {
   "cell_type": "code",
   "execution_count": null,
   "id": "d8fd2edc",
   "metadata": {},
   "outputs": [],
   "source": [
    "transported_stat('side')"
   ]
  },
  {
   "cell_type": "code",
   "execution_count": null,
   "id": "292295be-a6b8-4d63-86cd-8a4f699072a5",
   "metadata": {},
   "outputs": [],
   "source": [
    "transported_stat('deck')"
   ]
  },
  {
   "cell_type": "markdown",
   "id": "0fc5fe63-c60b-4685-b99a-dde38ca78b76",
   "metadata": {},
   "source": [
    "#### HomePlanet"
   ]
  },
  {
   "cell_type": "markdown",
   "id": "48a3eaac-9b2d-4032-83e9-415085e439b0",
   "metadata": {},
   "source": [
    "Строки с пропусками в столбце `HomePlanet`"
   ]
  },
  {
   "cell_type": "code",
   "execution_count": null,
   "id": "89df24a1-6c75-4ab8-b029-f1ad11bc6a22",
   "metadata": {},
   "outputs": [],
   "source": [
    "group_id_nan_home_planet = all_data.query('home_planet == home_planet and number_in_group == \"02\"').group_id\n",
    "len(all_data.query('group_id in @group_id_nan_home_planet').sort_values(by='group_id'))"
   ]
  },
  {
   "cell_type": "code",
   "execution_count": null,
   "id": "c39b6951-aaba-49d1-8697-24a3c85d749c",
   "metadata": {},
   "outputs": [],
   "source": [
    "group_id_nan_home_planet = all_data.query('home_planet != home_planet').group_id\n",
    "len(all_data.query('group_id in @group_id_nan_home_planet').sort_values(by='group_id'))"
   ]
  },
  {
   "cell_type": "markdown",
   "id": "7ef5ba59-7447-4e8d-8e31-0b827bb575eb",
   "metadata": {},
   "source": [
    "Уникальные значения столбца `HomePlanet`"
   ]
  },
  {
   "cell_type": "code",
   "execution_count": null,
   "id": "1f93661f-b3bd-4883-9504-5800f514e4ac",
   "metadata": {},
   "outputs": [],
   "source": [
    "all_data['home_planet'].unique()"
   ]
  },
  {
   "cell_type": "markdown",
   "id": "b1a6e9db-7cd0-4eac-bd21-70a7c233b902",
   "metadata": {},
   "source": [
    "Можем заполнить пропуски `HomePlanet` для групповых трансферов - значениями `HomePlanet` других членов группы"
   ]
  },
  {
   "cell_type": "code",
   "execution_count": null,
   "id": "347ddc96-2b64-4913-b8a2-08c09fc7065b",
   "metadata": {},
   "outputs": [],
   "source": [
    "all_data.query('group_id == \"5090\"')"
   ]
  },
  {
   "cell_type": "code",
   "execution_count": null,
   "id": "f492a147",
   "metadata": {},
   "outputs": [],
   "source": [
    "all_data[['home_planet', 'vip', 'destination']].isna().sum()"
   ]
  },
  {
   "cell_type": "code",
   "execution_count": null,
   "id": "058f5618-ba6a-44ee-b1c5-be5fd4c7bcd8",
   "metadata": {},
   "outputs": [],
   "source": [
    "group_id_list = list(all_data.query('number_in_group == \"02\"').group_id.unique())\n",
    "\n",
    "for index, row in all_data.iterrows():\n",
    "    group_id = row.group_id\n",
    "    \n",
    "    if group_id in group_id_list and (row.home_planet != row.home_planet or row.vip != row.vip or row.destination != row.destination):\n",
    "        \n",
    "        request_data = pd.DataFrame(all_data.query('group_id in @group_id'))\n",
    "        \n",
    "        for request_index, request_row in request_data.iterrows():\n",
    "            \n",
    "            if request_row.deck == request_row.home_planet:\n",
    "                all_data.loc[index, 'home_planet'] = request_row.home_planet\n",
    "            if request_row.vip == request_row.vip:\n",
    "                all_data.loc[index, 'vip'] = request_row.vip\n",
    "            if request_row.destination == request_row.destination:\n",
    "                all_data.loc[index, 'destination'] = request_row.destination"
   ]
  },
  {
   "cell_type": "code",
   "execution_count": null,
   "id": "3880b565",
   "metadata": {},
   "outputs": [],
   "source": [
    "all_data[['home_planet', 'vip', 'destination']].isna().sum()"
   ]
  },
  {
   "cell_type": "code",
   "execution_count": null,
   "id": "ec9531b3-cfce-4efc-bfde-415fb53a5350",
   "metadata": {},
   "outputs": [],
   "source": [
    "transported_stat('home_planet')"
   ]
  },
  {
   "cell_type": "markdown",
   "id": "577b6b1e-9972-4ab6-b014-c47e59ee3f2b",
   "metadata": {},
   "source": [
    "#### Age"
   ]
  },
  {
   "cell_type": "code",
   "execution_count": null,
   "id": "63c493b8-6747-48f9-9daa-5bfef83d2b9f",
   "metadata": {},
   "outputs": [],
   "source": [
    "all_data['age'].isna().sum()"
   ]
  },
  {
   "cell_type": "code",
   "execution_count": null,
   "id": "d7b0a856-a590-4dad-829f-e53fb80a2d43",
   "metadata": {},
   "outputs": [],
   "source": [
    "age_table = all_data.groupby(by=['home_planet'])['age'].agg(['count', 'mean', 'median', 'min', 'max'])\n",
    "age_table"
   ]
  },
  {
   "cell_type": "code",
   "execution_count": null,
   "id": "7c873ef5-6e05-4a06-91b0-1ecfc497dc18",
   "metadata": {},
   "outputs": [],
   "source": [
    "age_dict = {}\n",
    "for index, row in age_table.iterrows():\n",
    "    age_dict[index] = row['median']"
   ]
  },
  {
   "cell_type": "code",
   "execution_count": null,
   "id": "d0916c30-9f18-4691-b17e-089b215337e1",
   "metadata": {},
   "outputs": [],
   "source": [
    "for index, row in all_data.iterrows():\n",
    "            if row.age != row.age and row.home_planet == row.home_planet:\n",
    "                all_data.loc[index, 'age'] = age_dict[row['home_planet']]"
   ]
  },
  {
   "cell_type": "code",
   "execution_count": null,
   "id": "677ad7c1-ad4e-42c2-b83c-a2e0ab4cf305",
   "metadata": {},
   "outputs": [],
   "source": [
    "all_data.home_planet.unique()"
   ]
  },
  {
   "cell_type": "code",
   "execution_count": null,
   "id": "ae401a9c-0bb5-4620-b62d-3b467a4a1ec2",
   "metadata": {},
   "outputs": [],
   "source": [
    "all_data['age'].isna().sum()"
   ]
  },
  {
   "cell_type": "code",
   "execution_count": null,
   "id": "726b3f0b-de74-44bb-8a04-8d9c52c34e17",
   "metadata": {},
   "outputs": [],
   "source": [
    "transported_stat('age')"
   ]
  },
  {
   "cell_type": "markdown",
   "id": "03637f4f-adab-46cb-b5d7-220e6ebec1d1",
   "metadata": {},
   "source": [
    "#### Destination"
   ]
  },
  {
   "cell_type": "code",
   "execution_count": null,
   "id": "d5f8020c-7f8b-43af-b20e-533cd4033e5d",
   "metadata": {},
   "outputs": [],
   "source": [
    "display(all_data.groupby(all_data['home_planet'])['destination'].sum())"
   ]
  },
  {
   "cell_type": "markdown",
   "id": "65d61344-5641-4a0c-9c44-817a7292fb31",
   "metadata": {},
   "source": [
    "От планеты отправления не зависит разнообразие маршрутов, с любой планеты можно отправиться в любое назначение кроме самих планет."
   ]
  },
  {
   "cell_type": "code",
   "execution_count": null,
   "id": "fd85d152-66c3-4b30-a67b-c51aad79fd65",
   "metadata": {},
   "outputs": [],
   "source": [
    "transported_stat('destination')"
   ]
  },
  {
   "cell_type": "markdown",
   "id": "c8a72a97-3223-46d2-8356-ba486b89167e",
   "metadata": {},
   "source": [
    "#### VIP, RoomService, FoodCourt, ShoppingMall, Spa, VRDeck"
   ]
  },
  {
   "cell_type": "code",
   "execution_count": null,
   "id": "7be112e9-502e-4a0a-a3a6-cadad80473b4",
   "metadata": {},
   "outputs": [],
   "source": [
    "all_data.query('cryo_sleep == True')[['room_service', 'food_court', 'shopping_mall', 'spa', 'vr_deck']].sum()"
   ]
  },
  {
   "cell_type": "code",
   "execution_count": null,
   "id": "120847a8-bbab-4544-a045-ef52e185b312",
   "metadata": {},
   "outputs": [],
   "source": [
    "def room_service_fit(row):\n",
    "    if row['cryo_sleep'] == True:\n",
    "        row['room_service'] = row['food_court'] = row['shopping_mall'] = row['spa'] = row['vr_deck'] = 0\n",
    "    return row"
   ]
  },
  {
   "cell_type": "code",
   "execution_count": null,
   "id": "e1f2f373-a7b7-4652-9d79-9c231db450d2",
   "metadata": {},
   "outputs": [],
   "source": [
    "print(all_data[['vip', 'room_service', 'food_court', 'shopping_mall', 'spa', 'vr_deck']].isna().sum())\n",
    "all_data = all_data.apply(room_service_fit, axis=1)\n",
    "print(all_data[['vip', 'room_service', 'food_court', 'shopping_mall', 'spa', 'vr_deck']].isna().sum())"
   ]
  },
  {
   "cell_type": "code",
   "execution_count": null,
   "id": "dc428bfe-8689-4c07-90d3-b3e6437dd21b",
   "metadata": {},
   "outputs": [],
   "source": [
    "all_data.groupby(by=['cryo_sleep'])['transported'].agg(['count', 'sum', 'mean'])"
   ]
  },
  {
   "cell_type": "code",
   "execution_count": null,
   "id": "16703918-5762-4673-ae83-2f5e058f875e",
   "metadata": {},
   "outputs": [],
   "source": [
    "home_planet_table = all_data.groupby(by=['vip'])['transported'].agg(['count', 'sum', 'mean'])\n",
    "display(home_planet_table)\n",
    "home_planet_table['count'] = home_planet_table['count'] - home_planet_table['sum']\n",
    "home_planet_table = home_planet_table.rename(columns={\"count\": \"total\", \"sum\": \"transported\"})\n",
    "home_planet_table[['transported', 'total']].plot(kind='bar', stacked=True, legend=True, figsize=(15,7));"
   ]
  },
  {
   "cell_type": "code",
   "execution_count": null,
   "id": "b8237026-ff9a-445f-b76a-00e2298819cf",
   "metadata": {},
   "outputs": [],
   "source": [
    "home_planet_table = all_data.groupby(by=['room_service'])['transported'].agg(['count', 'sum', 'mean'])\n",
    "display(home_planet_table.query('count > 10').sort_values(by='mean', ascending=False).head(10))\n",
    "home_planet_table['count'] = home_planet_table['count'] - home_planet_table['sum']\n",
    "home_planet_table = home_planet_table.rename(columns={\"count\": \"total\", \"sum\": \"transported\"})\n",
    "home_planet_table['transported'][1:].head(30).plot(figsize=(15,7))\n",
    "home_planet_table['total'][1:].head(30).plot();"
   ]
  },
  {
   "cell_type": "code",
   "execution_count": null,
   "id": "6aad9c00-c71f-449a-8c3f-2036100b8369",
   "metadata": {},
   "outputs": [],
   "source": [
    "home_planet_table = all_data.groupby(by=['food_court'])['transported'].agg(['count', 'sum', 'mean'])\n",
    "display(home_planet_table.query('count > 10').sort_values(by='mean', ascending=False).head(10))\n",
    "home_planet_table['count'] = home_planet_table['count'] - home_planet_table['sum']\n",
    "home_planet_table = home_planet_table.rename(columns={\"count\": \"total\", \"sum\": \"transported\"})\n",
    "home_planet_table['transported'][1:].head(50).plot(figsize=(15,7))\n",
    "home_planet_table['total'][1:].head(50).plot();"
   ]
  },
  {
   "cell_type": "code",
   "execution_count": null,
   "id": "3578c3c7-58f4-41dc-b761-acab0c7e1bac",
   "metadata": {},
   "outputs": [],
   "source": [
    "home_planet_table = all_data.groupby(by=['shopping_mall'])['transported'].agg(['count', 'sum', 'mean'])\n",
    "display(home_planet_table.query('count > 10').sort_values(by='mean', ascending=False).head(10))\n",
    "home_planet_table['count'] = home_planet_table['count'] - home_planet_table['sum']\n",
    "home_planet_table = home_planet_table.rename(columns={\"count\": \"total\", \"sum\": \"transported\"})\n",
    "home_planet_table['transported'][1:].head(50).plot(figsize=(15,7))\n",
    "home_planet_table['total'][1:].head(50).plot();"
   ]
  },
  {
   "cell_type": "code",
   "execution_count": null,
   "id": "bce7678e-d5d3-4650-8a08-cd17f39751f2",
   "metadata": {},
   "outputs": [],
   "source": [
    "home_planet_table = all_data.groupby(by=['spa'])['transported'].agg(['count', 'sum', 'mean'])\n",
    "display(home_planet_table.query('count > 10').sort_values(by='mean', ascending=False).head(10))\n",
    "home_planet_table['count'] = home_planet_table['count'] - home_planet_table['sum']\n",
    "home_planet_table = home_planet_table.rename(columns={\"count\": \"total\", \"sum\": \"transported\"})\n",
    "home_planet_table['transported'][1:].head(50).plot(figsize=(15,7))\n",
    "home_planet_table['total'][1:].head(50).plot();"
   ]
  },
  {
   "cell_type": "code",
   "execution_count": null,
   "id": "f89b90e8-9322-4705-8a3b-ecbe60006e61",
   "metadata": {},
   "outputs": [],
   "source": [
    "home_planet_table = all_data.groupby(by=['vr_deck'])['transported'].agg(['count', 'sum', 'mean'])\n",
    "display(home_planet_table.query('count > 10').sort_values(by='mean', ascending=False).head(10))\n",
    "home_planet_table['count'] = home_planet_table['count'] - home_planet_table['sum']\n",
    "home_planet_table = home_planet_table.rename(columns={\"count\": \"total\", \"sum\": \"transported\"})\n",
    "home_planet_table['transported'] = home_planet_table['transported'].astype('float')\n",
    "home_planet_table['transported'][1:300].plot(figsize=(15,7))\n",
    "home_planet_table['total'][1:].head(300).plot();\n"
   ]
  },
  {
   "cell_type": "markdown",
   "id": "3d0acd25-9a06-445a-85d4-2cb13e5fe0dc",
   "metadata": {},
   "source": [
    "#### CryoSleep"
   ]
  },
  {
   "cell_type": "code",
   "execution_count": null,
   "id": "a51df67e-9c6c-4a8e-9b61-79da1e56a669",
   "metadata": {},
   "outputs": [],
   "source": [
    "all_data.query('cryo_sleep != cryo_sleep').head(10)"
   ]
  },
  {
   "cell_type": "code",
   "execution_count": null,
   "id": "ada5b24d-30ba-45de-a08d-2f7e7d70346e",
   "metadata": {},
   "outputs": [],
   "source": [
    "all_data['cryo_sleep'].value_counts()"
   ]
  },
  {
   "cell_type": "markdown",
   "id": "f2a15d2b-6564-4412-b045-d976d3508b1d",
   "metadata": {},
   "source": [
    "Пассажиры которые используют криосон не пользуются платными развлекательными услугами, так понимаю что можно использовать либо криосон и наслаждаться анимацией полета либо не использовать криосон и наслаждаться многочисленных роскошными удобствами космического корабля."
   ]
  },
  {
   "cell_type": "code",
   "execution_count": null,
   "id": "25a3deef-c5ef-41a9-86e1-983935f248ca",
   "metadata": {},
   "outputs": [],
   "source": [
    "print(all_data['cryo_sleep'].isna().sum())\n",
    "all_data['cryo_sleep'] = all_data['cryo_sleep'].fillna(False)\n",
    "print(all_data['cryo_sleep'].isna().sum())"
   ]
  },
  {
   "cell_type": "code",
   "execution_count": null,
   "id": "b8551764-4216-4cfe-8ae8-758c9d9de97a",
   "metadata": {},
   "outputs": [],
   "source": [
    "home_planet_table = all_data.groupby(by=['cryo_sleep'])['transported'].agg(['count', 'sum', 'mean'])\n",
    "display(home_planet_table)\n",
    "home_planet_table['count'] = home_planet_table['count'] - home_planet_table['sum']\n",
    "home_planet_table = home_planet_table.rename(columns={\"count\": \"total\", \"sum\": \"transported\"})\n",
    "home_planet_table[['transported', 'total']].plot(kind='bar', stacked=True, legend=True, figsize=(15,7));"
   ]
  },
  {
   "cell_type": "markdown",
   "id": "495e5176-17b1-4f01-b130-65ba901e7a32",
   "metadata": {},
   "source": [
    "#### Дополнительный признак group_size"
   ]
  },
  {
   "cell_type": "code",
   "execution_count": null,
   "id": "1de9e2f7-7c9f-413b-9c0d-8e127644303b",
   "metadata": {},
   "outputs": [],
   "source": [
    "for index, row in all_data.iterrows():\n",
    "    group_id = row.group_id\n",
    "    all_data.loc[index, 'group_size'] = len(all_data.query('group_id == @group_id'))"
   ]
  },
  {
   "cell_type": "code",
   "execution_count": null,
   "id": "27bc0676",
   "metadata": {},
   "outputs": [],
   "source": [
    "transported_stat('group_size')"
   ]
  },
  {
   "cell_type": "markdown",
   "id": "f546fbb5-d557-478d-a3f6-3a02d256b7c5",
   "metadata": {},
   "source": [
    "#### Заполнение пропусков"
   ]
  },
  {
   "cell_type": "code",
   "execution_count": null,
   "id": "3871be22-ca87-4e56-a5a5-f6983050b155",
   "metadata": {},
   "outputs": [],
   "source": [
    "all_data.isna().sum()"
   ]
  },
  {
   "cell_type": "code",
   "execution_count": null,
   "id": "0f8b5171-496c-400e-960c-a5d382adf87d",
   "metadata": {},
   "outputs": [],
   "source": [
    "all_data['name'] = all_data['name'].fillna('na')\n",
    "\n",
    "num_cols = ['shopping_mall', 'food_court', 'room_service', 'spa', 'vr_deck', 'age']\n",
    "cat_cols = ['deck', 'number', 'side', 'home_planet', 'destination', 'cryo_sleep', 'vip']\n",
    "num_imp = SimpleImputer(strategy='mean')\n",
    "cat_imp = SimpleImputer(strategy='most_frequent')\n",
    "\n",
    "all_data[num_cols] = pd.DataFrame(num_imp.fit_transform(all_data[num_cols]),columns=num_cols)\n",
    "all_data[cat_cols] = pd.DataFrame(cat_imp.fit_transform(all_data[cat_cols]),columns=cat_cols)"
   ]
  },
  {
   "cell_type": "code",
   "execution_count": null,
   "id": "211da186-b464-48cf-b3dd-69ff02d1351d",
   "metadata": {},
   "outputs": [],
   "source": [
    "all_data.isna().sum()"
   ]
  },
  {
   "cell_type": "markdown",
   "id": "1ae33ff8-02d8-49fe-ac54-2943873021ea",
   "metadata": {},
   "source": [
    "#### Проверка на дубликаты"
   ]
  },
  {
   "cell_type": "code",
   "execution_count": null,
   "id": "46206071-99d6-44db-a857-73519bd79b89",
   "metadata": {},
   "outputs": [],
   "source": [
    "all_data.duplicated().sum()"
   ]
  },
  {
   "cell_type": "markdown",
   "id": "162317d0-42ff-4864-b9a3-1156b316ace7",
   "metadata": {},
   "source": [
    "#### Изменение типов данных"
   ]
  },
  {
   "cell_type": "code",
   "execution_count": null,
   "id": "29a6ff28-401c-4b32-8b9a-4885bf701e37",
   "metadata": {},
   "outputs": [],
   "source": [
    "all_data.dtypes"
   ]
  },
  {
   "cell_type": "code",
   "execution_count": null,
   "id": "b9dee50e-63cd-4372-8f2d-512229a47401",
   "metadata": {},
   "outputs": [],
   "source": [
    "all_data['age'] = all_data['age'].astype('int')\n",
    "all_data['room_service'] = all_data['room_service'].astype('int')\n",
    "all_data['food_court'] = all_data['food_court'].astype('int')\n",
    "all_data['shopping_mall'] = all_data['shopping_mall'].astype('int')\n",
    "all_data['spa'] = all_data['spa'].astype('int')\n",
    "all_data['vr_deck'] = all_data['vr_deck'].astype('int')\n",
    "all_data['number_in_group'] = all_data['number_in_group'].astype('int')\n",
    "all_data['group_size'] = all_data['group_size'].astype('int')\n",
    "all_data['cryo_sleep'] = all_data['cryo_sleep'].astype('int')\n",
    "all_data['vip'] = all_data['vip'].astype('int')\n",
    "\n",
    "all_data = all_data.drop('name', axis=1)\n",
    "all_data = all_data.drop('group_id', axis=1)\n",
    "all_data = all_data.drop('number', axis=1)"
   ]
  },
  {
   "cell_type": "code",
   "execution_count": null,
   "id": "cf127a16-78fd-48a9-8b03-ae8b6e32f95e",
   "metadata": {},
   "outputs": [],
   "source": [
    "all_data.dtypes"
   ]
  },
  {
   "cell_type": "markdown",
   "id": "15afe3a6-2e11-4aaf-b154-9112decb195d",
   "metadata": {},
   "source": [
    "#### OHE"
   ]
  },
  {
   "cell_type": "code",
   "execution_count": null,
   "id": "a6ea6e4e-1bee-4644-b91e-a8802f57b1a5",
   "metadata": {},
   "outputs": [],
   "source": [
    "columns_to_encode = ['home_planet', 'destination', 'deck', 'side', 'cryo_sleep', 'vip' ]\n",
    "preop_data_ohe = all_data.copy()\n",
    "preop_data_ohe = pd.get_dummies(data=all_data, columns = columns_to_encode, drop_first=True)\n",
    "preop_data_ohe.head()"
   ]
  },
  {
   "cell_type": "markdown",
   "id": "3d0c98ce-c8a8-4098-8387-05845ca66d26",
   "metadata": {},
   "source": [
    "#### OE"
   ]
  },
  {
   "cell_type": "code",
   "execution_count": null,
   "id": "49a3d529-6063-46cb-9a2d-ec066abc6ae0",
   "metadata": {},
   "outputs": [],
   "source": [
    "from sklearn.preprocessing import OrdinalEncoder\n",
    "enc = OrdinalEncoder()\n",
    "preop_data_oe = all_data.copy()\n",
    "preop_data_oe[columns_to_encode] = enc.fit_transform(preop_data_oe[columns_to_encode])\n",
    "preop_data_oe"
   ]
  },
  {
   "cell_type": "markdown",
   "id": "199611a3-6373-415f-83f7-ea49c2c1500d",
   "metadata": {},
   "source": [
    "### Шаг 3. Разработка модели ML"
   ]
  },
  {
   "cell_type": "markdown",
   "id": "8c81e44e-4893-4fa2-9285-d7512a82d596",
   "metadata": {},
   "source": [
    "#### Матрица корреляции"
   ]
  },
  {
   "cell_type": "code",
   "execution_count": null,
   "id": "89a5d326-23ab-4122-9dc9-1eff4c7e4f75",
   "metadata": {},
   "outputs": [],
   "source": [
    "preop_data_ohe['transported'] = preop_data_ohe['transported'].astype('float')\n",
    "preop_data_oe['transported'] = preop_data_oe['transported'].astype('float')\n",
    "\n",
    "corr_matrix = preop_data_ohe.corr()\n",
    "\n",
    "mask = np.triu(np.ones_like(corr_matrix, dtype=np.bool_))\n",
    "\n",
    "f, ax = plt.subplots(figsize=(15, 15)) \n",
    "heatmap = sns.heatmap(round(corr_matrix, 2), \n",
    "                      mask = mask,\n",
    "                      square = True,\n",
    "                      linewidths = .5,\n",
    "                      cmap = 'coolwarm',\n",
    "                      cbar_kws = {'shrink': .4, \n",
    "                                'ticks' : [-1, -.5, 0, 0.5, 1]},\n",
    "                      vmin = -1, \n",
    "                      vmax = 1,\n",
    "                      annot = True,\n",
    "                      annot_kws = {'size': 10})\n",
    "\n",
    "ax.set_yticklabels(corr_matrix.columns, rotation = 0)\n",
    "ax.set_xticklabels(corr_matrix.columns)\n",
    "sns.set_style({'xtick.bottom': True}, {'ytick.left': True})"
   ]
  },
  {
   "cell_type": "code",
   "execution_count": null,
   "id": "bc0e9850-1050-4792-b5e6-61bcea267743",
   "metadata": {},
   "outputs": [],
   "source": [
    "dtc = tree.DecisionTreeClassifier(random_state=12345)\n",
    "rfc = RandomForestClassifier(random_state=12345)\n",
    "gbc = GradientBoostingClassifier(random_state=12345)\n",
    "svm = SVC(random_state=12345)\n",
    "knn = KNeighborsClassifier(n_neighbors = 4)\n",
    "gnb = GaussianNB()\n",
    "abc = AdaBoostClassifier()\n",
    "lda = LinearDiscriminantAnalysis()\n",
    "xgb = XGBClassifier(random_state=12345)"
   ]
  },
  {
   "cell_type": "code",
   "execution_count": null,
   "id": "0128a2de-af3b-4338-b151-e5b633e63b95",
   "metadata": {},
   "outputs": [],
   "source": [
    "train_ohe = preop_data_ohe[preop_data_ohe['transported'].notnull()].copy()\n",
    "train_oe = preop_data_oe[preop_data_oe['transported'].notnull()].copy()\n",
    "\n",
    "test_ohe = preop_data_ohe[preop_data_ohe['transported'].isnull()].drop('transported', axis=1)\n",
    "test_oe = preop_data_oe[preop_data_oe['transported'].isnull()].drop('transported', axis=1)\n",
    "\n",
    "train_ohe.transported = train_ohe.transported.astype('int')\n",
    "train_oe.transported = train_oe.transported.astype('int')\n",
    "\n",
    "target_train_ohe = train_ohe['transported'].reset_index(drop=True)\n",
    "target_train_oe = train_oe['transported'].reset_index(drop=True)\n",
    "\n",
    "features_train_ohe = train_ohe.drop('transported', axis=1).reset_index(drop=True)\n",
    "features_train_oe = train_oe.drop('transported', axis=1).reset_index(drop=True)\n",
    "\n",
    "features_test_ohe = test_ohe.reset_index(drop=True)\n",
    "features_test_oe = test_oe.reset_index(drop=True)"
   ]
  },
  {
   "cell_type": "markdown",
   "id": "c9d4667e-e174-4c90-8a57-9a5b4517a0e5",
   "metadata": {},
   "source": [
    "#### StandardScaler"
   ]
  },
  {
   "cell_type": "code",
   "execution_count": null,
   "id": "7a63d0c4-7005-4420-98a2-e4045076f3c1",
   "metadata": {},
   "outputs": [],
   "source": [
    "scaler = StandardScaler()\n",
    "columns_to_scale = ['age', 'room_service', 'food_court', 'shopping_mall', 'spa', 'vr_deck']\n",
    "\n",
    "features_train_ohe[columns_to_scale] = scaler.fit_transform(features_train_ohe[columns_to_scale])\n",
    "features_test_ohe[columns_to_scale] = scaler.transform(features_test_ohe[columns_to_scale])\n",
    "\n",
    "features_train_oe[columns_to_scale] = scaler.fit_transform(features_train_oe[columns_to_scale])\n",
    "features_test_oe[columns_to_scale] = scaler.transform(features_test_oe[columns_to_scale])"
   ]
  },
  {
   "cell_type": "markdown",
   "id": "33190ec0-2193-4d77-8823-09198ac43b31",
   "metadata": {},
   "source": [
    "#### Model score table"
   ]
  },
  {
   "cell_type": "code",
   "execution_count": null,
   "id": "a3dcc100-cdc3-4270-a858-591616d27234",
   "metadata": {},
   "outputs": [],
   "source": [
    "def first_score(model, features, target):\n",
    "    return_list = []\n",
    "    \n",
    "    pipe = Pipeline(steps=[('model', model)]) # Создаем пайплайн\n",
    "\n",
    "    # Задаем решетку параметров пайплайна\n",
    "    param_grid = {}\n",
    "\n",
    "    # Создаем нашу модель и передаем ей пайплайн, решетку параметров, также используем кросс-валидацию результата    \n",
    "    grid_search_cv = GridSearchCV(pipe, param_grid, cv=6, scoring='accuracy')\n",
    "\n",
    "    # Обучаем модель на тренировочной части выборки:\n",
    "    grid_search_cv.fit(features, target)\n",
    "\n",
    "    best_params_dtc = grid_search_cv.best_params_ # Лучшие параметры\n",
    "    best_dtc = grid_search_cv.best_estimator_ # Лучшая модель\n",
    "    best_dtc_score = grid_search_cv.best_score_ # Лучший результат\n",
    "    \n",
    "    if model == xgb:\n",
    "        return_list.append('XGBClassifier(random_state=12345)')\n",
    "    else:\n",
    "        return_list.append(model)\n",
    "    return_list.append(best_dtc_score)\n",
    "    \n",
    "    return return_list"
   ]
  },
  {
   "cell_type": "code",
   "execution_count": null,
   "id": "a3022875-a71f-4574-9598-bf68bfd08aaf",
   "metadata": {},
   "outputs": [],
   "source": [
    "model_score_dict = {}\n",
    "model_list = [dtc, rfc, gbc, svm, knn, gnb, abc, lda, xgb]\n",
    "features_list = [features_train_ohe, features_train_oe]\n",
    "target_list = [target_train_ohe, target_train_oe]\n",
    "\n",
    "model1 = []\n",
    "score1 = []\n",
    "\n",
    "for model in model_list:\n",
    "    for i in range(len(features_list)):\n",
    "        result = first_score(model, features_list[i], target_list[i])\n",
    "        if i == 0:\n",
    "            name = ' ohe'\n",
    "        else:\n",
    "            name = ' oe'\n",
    "            \n",
    "        model1.append(str(result[0]) + name)\n",
    "        score1.append(result[1])\n",
    "total={'model': model1,\n",
    "      'score': score1}\n",
    "stat_table = pd.DataFrame(total)\n",
    "stat_table = stat_table.sort_values(by='score', ascending=False)\n",
    "stat_table"
   ]
  },
  {
   "cell_type": "code",
   "execution_count": null,
   "id": "aaa79c61-38c6-41d9-b86e-d4e9924fc7ea",
   "metadata": {},
   "outputs": [],
   "source": [
    "skf = StratifiedKFold(n_splits=6)\n",
    "\n",
    "def objective(trial):\n",
    "    print('________________START__________________')\n",
    "    param = {\n",
    "        \n",
    "        'criterion': trial.suggest_categorical('criterion', ['friedman_mse', 'squared_error']),\n",
    "        'max_leaf_nodes': trial.suggest_categorical('max_leaf_nodes', [2,3,4,5,6,7,8,9,10]),\n",
    "        'max_features': trial.suggest_categorical('max_features', [2,3,4,5,6,7,8,9,10]),\n",
    "        'subsample': trial.suggest_float('subsample', 0.2,1.0),\n",
    "        'learning_rate': trial.suggest_float('learning_rate', 0.01,0.2),\n",
    "        'n_estimators': trial.suggest_int('n_estimators', 100,3000),\n",
    "        'max_depth': trial.suggest_categorical('max_depth', [2,3,4,5,6,7,8,9,10])\n",
    "        }\n",
    "        \n",
    "    results=[]\n",
    "    n_iterations=[]\n",
    "    for train_index, test_index in skf.split(features_train_ohe, target_train_ohe):\n",
    "        train_X, valid_X = features_train_ohe.iloc[train_index], features_train_ohe.iloc[test_index]\n",
    "        train_y, valid_y = target_train_ohe.iloc[train_index], target_train_ohe.iloc[test_index]\n",
    "        model = GradientBoostingClassifier(**param, random_state=12345).fit(train_X,train_y,\n",
    "                                      #eval_set=[(valid_X,valid_y)],\n",
    "                                      #verbose=0\n",
    "                                     )  \n",
    "        #n_iteration = model.get_booster().best_iteration\n",
    "        #n_iterations.append(n_iteration)\n",
    "        result = accuracy_score(valid_y,(model.predict(valid_X)))\n",
    "        results.append(result)\n",
    "        #i=int(sum(n_iterations)/len(n_iterations))\n",
    "    #print(\"Average n_ite=\" + str(i))\n",
    "    #print(\"% of scatter =\" + str(np.std(n_iterations)/i))    \n",
    "    n=sum(results)/len(results) \n",
    "    print (n)\n",
    "    print(\"_________________FIIINISH_________________\\n\")\n",
    "    return n\n",
    "\n",
    "study = optuna.create_study(pruner=optuna.pruners.HyperbandPruner(), direction='maximize')\n",
    "study.optimize(objective, n_trials=1000)\n",
    "params_gbc = study.best_params"
   ]
  },
  {
   "cell_type": "code",
   "execution_count": null,
   "id": "7e82a38e-ad6f-4c19-a5b7-8569a9ab709d",
   "metadata": {},
   "outputs": [],
   "source": [
    "%%time\n",
    "params_gbc = study.best_params\n",
    "gbc = GradientBoostingClassifier(random_state=12345).set_params(**params_gbc)\n",
    "\n",
    "pipe = Pipeline(steps=[('gbc', gbc)]) # Создаем пайплайн\n",
    "\n",
    "# Задаем решетку параметров пайплайна\n",
    "param_grid = {}\n",
    "\n",
    "# Создаем нашу модель и передаем ей пайплайн, решетку параметров, также используем кросс-валидацию результата    \n",
    "grid_search_cv = GridSearchCV(pipe, param_grid, n_jobs=16, cv=10, scoring='accuracy')\n",
    "\n",
    "# Обучаем модель на тренировочной части выборки:\n",
    "grid_search_cv.fit(features_train_ohe, target_train_ohe)\n",
    "\n",
    "best_params_gbc = grid_search_cv.best_params_ # Лучшие параметры\n",
    "best_gbc = grid_search_cv.best_estimator_ # Лучшая модель\n",
    "best_gbc_score = grid_search_cv.best_score_ # Лучший результатат\n",
    "\n",
    "print(f'Полнота модели {best_gbc[0]} на тренировочной выборке составила: \\\n",
    "        {best_gbc_score} с параметрами {best_params_gbc}')\n",
    "\n",
    "stat_table.loc[len(stat_table.index)] = ['GradientBoostingClassifier', best_gbc_score]\n",
    "stat_table"
   ]
  },
  {
   "cell_type": "code",
   "execution_count": null,
   "id": "fd1d50ad-831e-46f9-979b-b650318ed35c",
   "metadata": {},
   "outputs": [],
   "source": [
    "cm = confusion_matrix(target_train_ohe, best_gbc.predict(features_train_ohe))\n",
    "disp = ConfusionMatrixDisplay(confusion_matrix=cm)\n",
    "disp.plot()\n",
    "plt.show()"
   ]
  },
  {
   "cell_type": "code",
   "execution_count": null,
   "id": "6bc420fa-2ab0-4b1f-838e-5bc436d1073f",
   "metadata": {},
   "outputs": [],
   "source": [
    "pd.Series(best_gbc[0].feature_importances_,features_train_ohe.columns).sort_values(ascending=True).plot.barh(width=0.8, figsize=(15,7))"
   ]
  },
  {
   "cell_type": "code",
   "execution_count": null,
   "id": "e1d0a8b9-3ab5-432a-9791-4e1123c8330c",
   "metadata": {},
   "outputs": [],
   "source": [
    "#params = {'max_depth': [3, 5, 6, 10, 15, 20],\n",
    "#         'learning_rate': [0.01, 0.1, 0.2, 0.3],\n",
    "#          'subsample': np.arange(0.5, 1.0, 0.1),\n",
    "#          'colsample_bytree': np.arange(0.4, 1.0, 0.1),\n",
    "#          'colsample_bylevel': np.arange(0.4, 1.0, 0.1),\n",
    "#          'n_estimators': [100, 500, 1000],\n",
    "#          'objective': ['binary:logistic'],\n",
    "#          'eval_metric': ['logloss']\n",
    "#         }\n",
    "#\n",
    "#clf = RandomizedSearchCV(estimator=xgb,\n",
    "#                         param_distributions=params,\n",
    "#                         scoring='accuracy',\n",
    "#                         n_iter=25,\n",
    "#                         cv=6,\n",
    "#                         verbose=1)\n",
    "#\n",
    "#clf.fit(features_train_ohe, target_train_ohe)\n",
    "#\n",
    "#print(\"Best parameters:\", clf.best_params_)\n",
    "#print(\"Score: \", (clf.best_score_))"
   ]
  },
  {
   "cell_type": "code",
   "execution_count": null,
   "id": "0582ff91-be00-40f8-bf54-b4ed09c30932",
   "metadata": {},
   "outputs": [],
   "source": [
    "def objective(trial):\n",
    "    print('________________START__________________')\n",
    "    param = {\n",
    "        'tree_method':'hist',\n",
    "        'objective': 'binary:logistic',\n",
    "        'eval_metric': 'logloss',\n",
    "        'lambda': trial.suggest_float('lambda', 0, 10.0),\n",
    "        'alpha': trial.suggest_float('alpha', 0, 10.0),\n",
    "        'colsample_bytree': trial.suggest_float('colsample_bytree', 0.1,1.0),\n",
    "        'subsample': trial.suggest_float('subsample', 0.2,1.0),\n",
    "        'learning_rate': trial.suggest_float('learning_rate', 0.0001,0.1),\n",
    "        'n_estimators': trial.suggest_int('n_estimators', 100,3000),\n",
    "        'max_depth': trial.suggest_categorical('max_depth', [2,3,4,5,6,7,8,9,10]),\n",
    "        'min_child_weight': trial.suggest_int('min_child_weight', 1, 10),\n",
    "        'num_parallel_tree': trial.suggest_int('num_parallel_tree',1,1),\n",
    "        #'early_stopping_rounds':200,\n",
    "        }\n",
    "        \n",
    "    results=[]\n",
    "    n_iterations=[]\n",
    "    for train_index, test_index in skf.split(features_train_ohe, target_train_ohe):\n",
    "        train_X, valid_X = features_train_ohe.iloc[train_index], features_train_ohe.iloc[test_index]\n",
    "        train_y, valid_y = target_train_ohe.iloc[train_index], target_train_ohe.iloc[test_index]\n",
    "        model = XGBClassifier(**param, random_state=12345).fit(train_X,train_y,\n",
    "                                      eval_set=[(valid_X,valid_y)],\n",
    "                                      verbose=0\n",
    "                                     )  \n",
    "        n_iteration = model.get_booster().best_iteration\n",
    "        n_iterations.append(n_iteration)\n",
    "        result = accuracy_score(valid_y,(model.predict(valid_X)))\n",
    "        results.append(result)\n",
    "        i=int(sum(n_iterations)/len(n_iterations))\n",
    "    print(\"Average n_ite= \" + str(i))\n",
    "    print(\"% of scatter = \" + str(np.std(n_iterations)/i))    \n",
    "    n=sum(results)/len(results) \n",
    "    print (n)\n",
    "    print(\"_________________FINISH_________________\\n\")\n",
    "    return n\n",
    "\n",
    "study = optuna.create_study(pruner=optuna.pruners.HyperbandPruner(), direction='maximize')\n",
    "study.optimize(objective, n_trials=1000)\n",
    "params_xgb = study.best_params"
   ]
  },
  {
   "cell_type": "code",
   "execution_count": null,
   "id": "59b24829-58a6-4b0e-9412-e31582b6aebc",
   "metadata": {},
   "outputs": [],
   "source": [
    "params_xgb = study.best_params\n",
    "xgb = XGBClassifier(random_state=12345).set_params(**params_xgb)\n",
    "\n",
    "pipe = Pipeline(steps=[('xgb', xgb)]) # Создаем пайплайн\n",
    "\n",
    "\n",
    "# Задаем решетку параметров пайплайна\n",
    "param_grid = {}\n",
    "\n",
    "# Создаем нашу модель и передаем ей пайплайн, решетку параметров, также используем кросс-валидацию результата    \n",
    "grid_search_cv = GridSearchCV(pipe, param_grid, cv=6, scoring='accuracy')\n",
    "\n",
    "# Обучаем модель на тренировочной части выборки:\n",
    "grid_search_cv.fit(features_train_ohe, target_train_ohe)\n",
    "\n",
    "best_params_xgb = grid_search_cv.best_params_ # Лучшие параметры\n",
    "best_xgb = grid_search_cv.best_estimator_ # Лучшая модель\n",
    "best_xgb_score = grid_search_cv.best_score_ # Лучший результатат\n",
    "\n",
    "print(f'Полнота модели {best_xgb[0]} на тренировочной выборке составила: \\\n",
    "        {best_xgb_score} с параметрами {best_params_xgb}')\n",
    "\n",
    "stat_table.loc[len(stat_table.index)] = ['XGBClassifier(random_state=12345)', best_xgb_score]\n",
    "stat_table"
   ]
  },
  {
   "cell_type": "code",
   "execution_count": null,
   "id": "041d385c-24f7-49cd-bdda-edc40a287515",
   "metadata": {},
   "outputs": [],
   "source": [
    "cm = confusion_matrix(target_train_ohe, best_xgb.predict(features_train_ohe))\n",
    "disp = ConfusionMatrixDisplay(confusion_matrix=cm)\n",
    "disp.plot()\n",
    "plt.show()"
   ]
  },
  {
   "cell_type": "code",
   "execution_count": null,
   "id": "e2554b80-48cf-4704-a3fe-c7db1efb322b",
   "metadata": {},
   "outputs": [],
   "source": [
    "pd.Series(best_xgb[0].feature_importances_, features_train_ohe.columns).sort_values(ascending=True).plot.barh(width=0.8, figsize=(15,7))"
   ]
  },
  {
   "cell_type": "code",
   "execution_count": null,
   "id": "bb7b081e-b1c4-4376-9bef-842d381c5aac",
   "metadata": {},
   "outputs": [],
   "source": [
    "def objective(trial):\n",
    "    print('________________START__________________')\n",
    "    param = {\n",
    "        'kernel': trial.suggest_categorical('kernel', ['linear', 'poly', 'rbf', 'sigmoid']),\n",
    "        'C': trial.suggest_float('C', 0.5, 1.5),\n",
    "        'degree': trial.suggest_int('degree', 1, 5),\n",
    "        'gamma': trial.suggest_categorical('gamma', ['scale', 'auto']),\n",
    "        'coef0': trial.suggest_float('coef0', 0.5, 1.5),\n",
    "        'shrinking': trial.suggest_categorical('shrinking', [True, False]),\n",
    "        'decision_function_shape': trial.suggest_categorical('decision_function_shape', ['ovo', 'ovr'])\n",
    "        #'criterion': trial.suggest_categorical('criterion', ['friedman_mse', 'squared_error']),\n",
    "        #'max_leaf_nodes': trial.suggest_categorical('max_leaf_nodes', [2,3,4,5,6,7,8,9,10]),\n",
    "        #'min_samples_split': trial.suggest_float('min_samples_split', 0.2,1.0),\n",
    "        #'min_samples_leaf': trial.suggest_float('min_samples_leaf', 0.2,1.0),\n",
    "        #'min_weight_fraction_leaf': trial.suggest_float('min_weight_fraction_leaf', 0.0,0.5),\n",
    "        #'max_features': trial.suggest_categorical('max_features', [2,3,4,5,6,7,8,9,10]),\n",
    "        #'tree_method':'hist',\n",
    "        #'objective': 'binary:logistic',\n",
    "        #'eval_metric': 'logloss',\n",
    "        #'lambda': trial.suggest_float('lambda', 0, 10.0),\n",
    "        #'alpha': trial.suggest_float('alpha', 0, 10.0),\n",
    "        #'colsample_bytree': trial.suggest_float('colsample_bytree', 0.1,1.0),\n",
    "        #'subsample': trial.suggest_float('subsample', 0.2,1.0),\n",
    "        #'learning_rate': trial.suggest_float('learning_rate', 0.01,0.2),\n",
    "        #'n_estimators': trial.suggest_int('n_estimators', 100,3000),\n",
    "        #'max_depth': trial.suggest_categorical('max_depth', [2,3,4,5,6,7,8,9,10])\n",
    "        #'min_child_weight': trial.suggest_int('min_child_weight', 1, 10),\n",
    "        #'num_parallel_tree': trial.suggest_int('num_parallel_tree',1,1)\n",
    "        #'early_stopping_rounds':200,\n",
    "        }\n",
    "        \n",
    "    results=[]\n",
    "    n_iterations=[]\n",
    "    for train_index, test_index in skf.split(features_train_ohe, target_train_ohe):\n",
    "        train_X, valid_X = features_train_ohe.iloc[train_index], features_train_ohe.iloc[test_index]\n",
    "        train_y, valid_y = target_train_ohe.iloc[train_index], target_train_ohe.iloc[test_index]\n",
    "        model = SVC(**param, random_state=12345).fit(train_X,train_y,\n",
    "                                      #eval_set=[(valid_X,valid_y)],\n",
    "                                      #verbose=0\n",
    "                                     )  \n",
    "        #n_iteration = model.get_booster().best_iteration\n",
    "        #n_iterations.append(n_iteration)\n",
    "        result = accuracy_score(valid_y,(model.predict(valid_X)))\n",
    "        results.append(result)\n",
    "        #i=int(sum(n_iterations)/len(n_iterations))\n",
    "    #print(\"Average n_ite=\" + str(i))\n",
    "    #print(\"% of scatter =\" + str(np.std(n_iterations)/i))    \n",
    "    n=sum(results)/len(results) \n",
    "    print (n)\n",
    "    print(\"_________________FIIINISH_________________\\n\")\n",
    "    return n\n",
    "\n",
    "study = optuna.create_study(pruner=optuna.pruners.HyperbandPruner(), direction='maximize')\n",
    "study.optimize(objective, n_trials=1000)\n",
    "params_svc = study.best_params"
   ]
  },
  {
   "cell_type": "code",
   "execution_count": null,
   "id": "8ee0e38c-b08c-4e74-931c-b2eeab0816b8",
   "metadata": {},
   "outputs": [],
   "source": [
    "svm = SVC(random_state=12345).set_params(**params_svc)\n",
    "\n",
    "pipe = Pipeline(steps=[('svm', svm)]) # Создаем пайплайн\n",
    "\n",
    "# Задаем решетку параметров пайплайна\n",
    "param_grid = {}\n",
    "\n",
    "# Создаем нашу модель и передаем ей пайплайн, решетку параметров, также используем кросс-валидацию результата    \n",
    "grid_search_cv = GridSearchCV(pipe, param_grid, n_jobs=16, cv=6, scoring='accuracy')\n",
    "\n",
    "# Обучаем модель на тренировочной части выборки:\n",
    "grid_search_cv.fit(features_train_ohe, target_train_ohe)\n",
    "\n",
    "best_params_svm = grid_search_cv.best_params_ # Лучшие параметры\n",
    "best_svm = grid_search_cv.best_estimator_ # Лучшая модель\n",
    "best_svm_score = grid_search_cv.best_score_ # Лучший результатат\n",
    "\n",
    "print(f'Полнота модели {best_svm} на тренировочной выборке составила: \\\n",
    "        {best_svm_score} с параметрами {best_params_svm}')\n",
    "\n",
    "stat_table.loc[len(stat_table.index)] = ['SVC(random_state=12345)', best_svm_score]\n",
    "stat_table.sort_values(by='score', ascending=False)"
   ]
  },
  {
   "cell_type": "code",
   "execution_count": null,
   "id": "c1fe814d-b516-49ae-bc4d-4b715bd9e1f3",
   "metadata": {},
   "outputs": [],
   "source": [
    "sample['Transported'] = (GradientBoostingClassifier(random_state=12345).set_params(**params_gbc).fit(features_train_ohe, target_train_ohe)).predict(features_test_ohe)\n",
    "sample['Transported'] = sample['Transported'].astype('bool')\n",
    "sample.to_csv(r\"/Users/tsali/OneDrive/Документы/GitHub/Detecting_fraud/sample_submission.csv\", index=False, sep=\",\")"
   ]
  }
 ],
 "metadata": {
  "celltoolbar": "Необработанный формат ячейки",
  "kernelspec": {
   "display_name": "Python 3 (ipykernel)",
   "language": "python",
   "name": "python3"
  },
  "language_info": {
   "codemirror_mode": {
    "name": "ipython",
    "version": 3
   },
   "file_extension": ".py",
   "mimetype": "text/x-python",
   "name": "python",
   "nbconvert_exporter": "python",
   "pygments_lexer": "ipython3",
   "version": "3.9.12"
  }
 },
 "nbformat": 4,
 "nbformat_minor": 5
}
