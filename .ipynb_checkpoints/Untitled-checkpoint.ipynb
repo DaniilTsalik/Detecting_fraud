{
 "cells": [
  {
   "cell_type": "markdown",
   "id": "f16988c8-9321-4548-b063-c9cfd0782118",
   "metadata": {},
   "source": [
    "### Шаг 1. Загрузка данных и ознакомление"
   ]
  },
  {
   "cell_type": "code",
   "execution_count": 1,
   "id": "105cf1b7-00b6-4c65-83e9-2cd20594ecc7",
   "metadata": {},
   "outputs": [],
   "source": [
    " # Импортируем необходимые библиотеки:\n",
    "import copy\n",
    "import pandas as pd\n",
    "import seaborn as sns\n",
    "import numpy as np\n",
    "import matplotlib.pyplot as plt\n",
    "from sklearn import tree\n",
    "from sklearn.ensemble import RandomForestClassifier, GradientBoostingClassifier\n",
    "from sklearn.model_selection import GridSearchCV\n",
    "from sklearn.model_selection import train_test_split\n",
    "from sklearn.pipeline import Pipeline\n",
    "from sklearn.preprocessing import StandardScaler\n",
    "from sklearn.preprocessing import OneHotEncoder\n",
    "from sklearn.preprocessing import LabelEncoder\n",
    "from sklearn.linear_model import LogisticRegression\n",
    "from sklearn.neighbors import KNeighborsClassifier\n",
    "from sklearn.metrics import confusion_matrix, ConfusionMatrixDisplay\n",
    "from sklearn.metrics import f1_score, make_scorer\n",
    "from sklearn.svm import SVC, LinearSVC\n",
    "from sklearn.neighbors import KNeighborsClassifier\n",
    "from sklearn.naive_bayes import GaussianNB\n",
    "from sklearn.ensemble import AdaBoostClassifier\n",
    "from sklearn.discriminant_analysis import LinearDiscriminantAnalysis\n",
    "from sklearn.ensemble import GradientBoostingClassifier\n",
    "from sklearn.model_selection import RandomizedSearchCV\n",
    "from xgboost import XGBClassifier\n",
    "from sklearn.metrics import confusion_matrix, ConfusionMatrixDisplay\n",
    "from sklearn.impute import SimpleImputer\n",
    "from sklearn.model_selection import StratifiedKFold\n",
    "import optuna\n",
    "from sklearn.metrics import accuracy_score"
   ]
  },
  {
   "cell_type": "code",
   "execution_count": 2,
   "id": "2a5fe797-75af-46d0-925e-b3c744641f19",
   "metadata": {},
   "outputs": [],
   "source": [
    "train = pd.read_csv('/Users/Daniil/Documents/GitHub/Detecting_fraud/train.csv') # Тренировочный датасет\n",
    "test = pd.read_csv('/Users/Daniil/Documents/GitHub/Detecting_fraud/test.csv') # Тестовый датасет\n",
    "sample = pd.read_csv('/Users/Daniil/Documents/GitHub/Detecting_fraud/sample_submission.csv')"
   ]
  },
  {
   "cell_type": "code",
   "execution_count": 3,
   "id": "10f67130-6dd4-4148-b649-98948d9fbec7",
   "metadata": {},
   "outputs": [
    {
     "data": {
      "text/html": [
       "<div>\n",
       "<style scoped>\n",
       "    .dataframe tbody tr th:only-of-type {\n",
       "        vertical-align: middle;\n",
       "    }\n",
       "\n",
       "    .dataframe tbody tr th {\n",
       "        vertical-align: top;\n",
       "    }\n",
       "\n",
       "    .dataframe thead th {\n",
       "        text-align: right;\n",
       "    }\n",
       "</style>\n",
       "<table border=\"1\" class=\"dataframe\">\n",
       "  <thead>\n",
       "    <tr style=\"text-align: right;\">\n",
       "      <th></th>\n",
       "      <th>PassengerId</th>\n",
       "      <th>HomePlanet</th>\n",
       "      <th>CryoSleep</th>\n",
       "      <th>Cabin</th>\n",
       "      <th>Destination</th>\n",
       "      <th>Age</th>\n",
       "      <th>VIP</th>\n",
       "      <th>RoomService</th>\n",
       "      <th>FoodCourt</th>\n",
       "      <th>ShoppingMall</th>\n",
       "      <th>Spa</th>\n",
       "      <th>VRDeck</th>\n",
       "      <th>Name</th>\n",
       "      <th>Transported</th>\n",
       "    </tr>\n",
       "  </thead>\n",
       "  <tbody>\n",
       "    <tr>\n",
       "      <th>0</th>\n",
       "      <td>6234_01</td>\n",
       "      <td>Mars</td>\n",
       "      <td>False</td>\n",
       "      <td>F/1287/P</td>\n",
       "      <td>PSO J318.5-22</td>\n",
       "      <td>40.0</td>\n",
       "      <td>True</td>\n",
       "      <td>301.0</td>\n",
       "      <td>0.0</td>\n",
       "      <td>1310.0</td>\n",
       "      <td>4.0</td>\n",
       "      <td>NaN</td>\n",
       "      <td>Sters Bun</td>\n",
       "      <td>True</td>\n",
       "    </tr>\n",
       "    <tr>\n",
       "      <th>1</th>\n",
       "      <td>8826_01</td>\n",
       "      <td>Europa</td>\n",
       "      <td>False</td>\n",
       "      <td>C/290/P</td>\n",
       "      <td>55 Cancri e</td>\n",
       "      <td>13.0</td>\n",
       "      <td>False</td>\n",
       "      <td>1212.0</td>\n",
       "      <td>4485.0</td>\n",
       "      <td>0.0</td>\n",
       "      <td>4016.0</td>\n",
       "      <td>57.0</td>\n",
       "      <td>Marin Hednigic</td>\n",
       "      <td>False</td>\n",
       "    </tr>\n",
       "    <tr>\n",
       "      <th>2</th>\n",
       "      <td>4453_01</td>\n",
       "      <td>Europa</td>\n",
       "      <td>False</td>\n",
       "      <td>D/149/P</td>\n",
       "      <td>TRAPPIST-1e</td>\n",
       "      <td>28.0</td>\n",
       "      <td>False</td>\n",
       "      <td>0.0</td>\n",
       "      <td>2560.0</td>\n",
       "      <td>0.0</td>\n",
       "      <td>134.0</td>\n",
       "      <td>307.0</td>\n",
       "      <td>Azhasim Inguel</td>\n",
       "      <td>False</td>\n",
       "    </tr>\n",
       "    <tr>\n",
       "      <th>3</th>\n",
       "      <td>0602_03</td>\n",
       "      <td>Mars</td>\n",
       "      <td>True</td>\n",
       "      <td>F/125/P</td>\n",
       "      <td>TRAPPIST-1e</td>\n",
       "      <td>21.0</td>\n",
       "      <td>False</td>\n",
       "      <td>0.0</td>\n",
       "      <td>0.0</td>\n",
       "      <td>0.0</td>\n",
       "      <td>0.0</td>\n",
       "      <td>0.0</td>\n",
       "      <td>Rana Brine</td>\n",
       "      <td>True</td>\n",
       "    </tr>\n",
       "    <tr>\n",
       "      <th>4</th>\n",
       "      <td>8796_01</td>\n",
       "      <td>Earth</td>\n",
       "      <td>False</td>\n",
       "      <td>G/1418/S</td>\n",
       "      <td>TRAPPIST-1e</td>\n",
       "      <td>6.0</td>\n",
       "      <td>False</td>\n",
       "      <td>0.0</td>\n",
       "      <td>0.0</td>\n",
       "      <td>0.0</td>\n",
       "      <td>0.0</td>\n",
       "      <td>0.0</td>\n",
       "      <td>Daisya Traverdy</td>\n",
       "      <td>True</td>\n",
       "    </tr>\n",
       "  </tbody>\n",
       "</table>\n",
       "</div>"
      ],
      "text/plain": [
       "  PassengerId HomePlanet CryoSleep     Cabin    Destination   Age    VIP  \\\n",
       "0     6234_01       Mars     False  F/1287/P  PSO J318.5-22  40.0   True   \n",
       "1     8826_01     Europa     False   C/290/P    55 Cancri e  13.0  False   \n",
       "2     4453_01     Europa     False   D/149/P    TRAPPIST-1e  28.0  False   \n",
       "3     0602_03       Mars      True   F/125/P    TRAPPIST-1e  21.0  False   \n",
       "4     8796_01      Earth     False  G/1418/S    TRAPPIST-1e   6.0  False   \n",
       "\n",
       "   RoomService  FoodCourt  ShoppingMall     Spa  VRDeck             Name  \\\n",
       "0        301.0        0.0        1310.0     4.0     NaN        Sters Bun   \n",
       "1       1212.0     4485.0           0.0  4016.0    57.0   Marin Hednigic   \n",
       "2          0.0     2560.0           0.0   134.0   307.0   Azhasim Inguel   \n",
       "3          0.0        0.0           0.0     0.0     0.0       Rana Brine   \n",
       "4          0.0        0.0           0.0     0.0     0.0  Daisya Traverdy   \n",
       "\n",
       "   Transported  \n",
       "0         True  \n",
       "1        False  \n",
       "2        False  \n",
       "3         True  \n",
       "4         True  "
      ]
     },
     "metadata": {},
     "output_type": "display_data"
    },
    {
     "data": {
      "text/html": [
       "<div>\n",
       "<style scoped>\n",
       "    .dataframe tbody tr th:only-of-type {\n",
       "        vertical-align: middle;\n",
       "    }\n",
       "\n",
       "    .dataframe tbody tr th {\n",
       "        vertical-align: top;\n",
       "    }\n",
       "\n",
       "    .dataframe thead th {\n",
       "        text-align: right;\n",
       "    }\n",
       "</style>\n",
       "<table border=\"1\" class=\"dataframe\">\n",
       "  <thead>\n",
       "    <tr style=\"text-align: right;\">\n",
       "      <th></th>\n",
       "      <th>PassengerId</th>\n",
       "      <th>HomePlanet</th>\n",
       "      <th>CryoSleep</th>\n",
       "      <th>Cabin</th>\n",
       "      <th>Destination</th>\n",
       "      <th>Age</th>\n",
       "      <th>VIP</th>\n",
       "      <th>RoomService</th>\n",
       "      <th>FoodCourt</th>\n",
       "      <th>ShoppingMall</th>\n",
       "      <th>Spa</th>\n",
       "      <th>VRDeck</th>\n",
       "      <th>Name</th>\n",
       "    </tr>\n",
       "  </thead>\n",
       "  <tbody>\n",
       "    <tr>\n",
       "      <th>0</th>\n",
       "      <td>8026_01</td>\n",
       "      <td>Mars</td>\n",
       "      <td>True</td>\n",
       "      <td>F/1534/S</td>\n",
       "      <td>TRAPPIST-1e</td>\n",
       "      <td>29.0</td>\n",
       "      <td>False</td>\n",
       "      <td>0.0</td>\n",
       "      <td>0.0</td>\n",
       "      <td>0.0</td>\n",
       "      <td>0.0</td>\n",
       "      <td>0.0</td>\n",
       "      <td>Losp Ruité</td>\n",
       "    </tr>\n",
       "    <tr>\n",
       "      <th>1</th>\n",
       "      <td>6734_03</td>\n",
       "      <td>Europa</td>\n",
       "      <td>True</td>\n",
       "      <td>C/249/S</td>\n",
       "      <td>55 Cancri e</td>\n",
       "      <td>37.0</td>\n",
       "      <td>True</td>\n",
       "      <td>0.0</td>\n",
       "      <td>0.0</td>\n",
       "      <td>0.0</td>\n",
       "      <td>0.0</td>\n",
       "      <td>0.0</td>\n",
       "      <td>Alhaino Sparsaxle</td>\n",
       "    </tr>\n",
       "    <tr>\n",
       "      <th>2</th>\n",
       "      <td>8186_04</td>\n",
       "      <td>Earth</td>\n",
       "      <td>True</td>\n",
       "      <td>G/1319/S</td>\n",
       "      <td>PSO J318.5-22</td>\n",
       "      <td>23.0</td>\n",
       "      <td>False</td>\n",
       "      <td>0.0</td>\n",
       "      <td>0.0</td>\n",
       "      <td>0.0</td>\n",
       "      <td>0.0</td>\n",
       "      <td>0.0</td>\n",
       "      <td>Rayley Jenkinnedy</td>\n",
       "    </tr>\n",
       "    <tr>\n",
       "      <th>3</th>\n",
       "      <td>4942_02</td>\n",
       "      <td>Earth</td>\n",
       "      <td>True</td>\n",
       "      <td>G/806/S</td>\n",
       "      <td>TRAPPIST-1e</td>\n",
       "      <td>36.0</td>\n",
       "      <td>False</td>\n",
       "      <td>0.0</td>\n",
       "      <td>0.0</td>\n",
       "      <td>0.0</td>\n",
       "      <td>0.0</td>\n",
       "      <td>0.0</td>\n",
       "      <td>Coreee Reenon</td>\n",
       "    </tr>\n",
       "    <tr>\n",
       "      <th>4</th>\n",
       "      <td>8640_01</td>\n",
       "      <td>Earth</td>\n",
       "      <td>False</td>\n",
       "      <td>F/1666/S</td>\n",
       "      <td>NaN</td>\n",
       "      <td>50.0</td>\n",
       "      <td>False</td>\n",
       "      <td>133.0</td>\n",
       "      <td>0.0</td>\n",
       "      <td>525.0</td>\n",
       "      <td>0.0</td>\n",
       "      <td>31.0</td>\n",
       "      <td>Diandy Hurchrisong</td>\n",
       "    </tr>\n",
       "  </tbody>\n",
       "</table>\n",
       "</div>"
      ],
      "text/plain": [
       "  PassengerId HomePlanet CryoSleep     Cabin    Destination   Age    VIP  \\\n",
       "0     8026_01       Mars      True  F/1534/S    TRAPPIST-1e  29.0  False   \n",
       "1     6734_03     Europa      True   C/249/S    55 Cancri e  37.0   True   \n",
       "2     8186_04      Earth      True  G/1319/S  PSO J318.5-22  23.0  False   \n",
       "3     4942_02      Earth      True   G/806/S    TRAPPIST-1e  36.0  False   \n",
       "4     8640_01      Earth     False  F/1666/S            NaN  50.0  False   \n",
       "\n",
       "   RoomService  FoodCourt  ShoppingMall  Spa  VRDeck                Name  \n",
       "0          0.0        0.0           0.0  0.0     0.0          Losp Ruité  \n",
       "1          0.0        0.0           0.0  0.0     0.0   Alhaino Sparsaxle  \n",
       "2          0.0        0.0           0.0  0.0     0.0   Rayley Jenkinnedy  \n",
       "3          0.0        0.0           0.0  0.0     0.0       Coreee Reenon  \n",
       "4        133.0        0.0         525.0  0.0    31.0  Diandy Hurchrisong  "
      ]
     },
     "metadata": {},
     "output_type": "display_data"
    }
   ],
   "source": [
    "display(train.head())\n",
    "display(test.head())"
   ]
  },
  {
   "cell_type": "markdown",
   "id": "804d3206-bbc9-4f4f-a990-72043cd81043",
   "metadata": {},
   "source": [
    "### Шаг 2. Предобработка и исследовательский анализ данных"
   ]
  },
  {
   "cell_type": "markdown",
   "id": "a922aba2-488e-475f-a1d2-0ff349ff9ea9",
   "metadata": {},
   "source": [
    "Размеры датасетов"
   ]
  },
  {
   "cell_type": "code",
   "execution_count": 4,
   "id": "84e64bd9-cfec-442f-a115-d9e27d992032",
   "metadata": {},
   "outputs": [
    {
     "name": "stdout",
     "output_type": "stream",
     "text": [
      "(6954, 14)\n",
      "(1739, 13)\n"
     ]
    }
   ],
   "source": [
    "print(train.shape)\n",
    "print(test.shape)"
   ]
  },
  {
   "cell_type": "code",
   "execution_count": 5,
   "id": "b66b55aa-977c-4bff-89f9-081f9afa604d",
   "metadata": {},
   "outputs": [
    {
     "data": {
      "text/plain": [
       "(8693, 14)"
      ]
     },
     "execution_count": 5,
     "metadata": {},
     "output_type": "execute_result"
    }
   ],
   "source": [
    "all_data = train.append(test).reset_index(drop=True)\n",
    "all_data.shape"
   ]
  },
  {
   "cell_type": "markdown",
   "id": "cc187359-a79f-4510-8617-ef4bf1954313",
   "metadata": {},
   "source": [
    "Количество пропущенных значений"
   ]
  },
  {
   "cell_type": "code",
   "execution_count": 6,
   "id": "8a9426d4-0385-4482-aecd-5c6582a749ef",
   "metadata": {},
   "outputs": [
    {
     "data": {
      "text/plain": [
       "PassengerId        0\n",
       "HomePlanet       201\n",
       "CryoSleep        217\n",
       "Cabin            199\n",
       "Destination      182\n",
       "Age              179\n",
       "VIP              203\n",
       "RoomService      181\n",
       "FoodCourt        183\n",
       "ShoppingMall     208\n",
       "Spa              183\n",
       "VRDeck           188\n",
       "Name             200\n",
       "Transported     1739\n",
       "dtype: int64"
      ]
     },
     "execution_count": 6,
     "metadata": {},
     "output_type": "execute_result"
    }
   ],
   "source": [
    "all_data.isna().sum()"
   ]
  },
  {
   "cell_type": "markdown",
   "id": "2fe0e14e-3287-4bbf-8fcf-e7da4311ee26",
   "metadata": {},
   "source": [
    "#### Выделение дополнительных столбцов из `PassengerId` и `Cabin`"
   ]
  },
  {
   "cell_type": "code",
   "execution_count": 7,
   "id": "150a4702-ff8d-4117-b08f-515a8c176073",
   "metadata": {},
   "outputs": [],
   "source": [
    "all_data['group_id'] = all_data.PassengerId.str.split(r'_\\s*').str[0]\n",
    "all_data['number_in_group'] = all_data.PassengerId.str.split(r'_\\s*').str[1]\n",
    "all_data['deck'] = all_data.Cabin.str.split(r'/\\s*').str[0]\n",
    "all_data['number'] = all_data.Cabin.str.split(r'/\\s*').str[1]\n",
    "all_data['side'] = all_data.Cabin.str.split(r'/\\s*').str[2]\n",
    "all_data = all_data.drop('PassengerId', axis=1)\n",
    "all_data = all_data.drop('Cabin', axis=1)"
   ]
  },
  {
   "cell_type": "code",
   "execution_count": 8,
   "id": "9f0ce6bf-ce34-4432-baf0-4b7426c7f456",
   "metadata": {},
   "outputs": [
    {
     "data": {
      "text/html": [
       "<div>\n",
       "<style scoped>\n",
       "    .dataframe tbody tr th:only-of-type {\n",
       "        vertical-align: middle;\n",
       "    }\n",
       "\n",
       "    .dataframe tbody tr th {\n",
       "        vertical-align: top;\n",
       "    }\n",
       "\n",
       "    .dataframe thead th {\n",
       "        text-align: right;\n",
       "    }\n",
       "</style>\n",
       "<table border=\"1\" class=\"dataframe\">\n",
       "  <thead>\n",
       "    <tr style=\"text-align: right;\">\n",
       "      <th></th>\n",
       "      <th>HomePlanet</th>\n",
       "      <th>CryoSleep</th>\n",
       "      <th>Destination</th>\n",
       "      <th>Age</th>\n",
       "      <th>VIP</th>\n",
       "      <th>RoomService</th>\n",
       "      <th>FoodCourt</th>\n",
       "      <th>ShoppingMall</th>\n",
       "      <th>Spa</th>\n",
       "      <th>VRDeck</th>\n",
       "      <th>Name</th>\n",
       "      <th>Transported</th>\n",
       "      <th>group_id</th>\n",
       "      <th>number_in_group</th>\n",
       "      <th>deck</th>\n",
       "      <th>number</th>\n",
       "      <th>side</th>\n",
       "    </tr>\n",
       "  </thead>\n",
       "  <tbody>\n",
       "    <tr>\n",
       "      <th>0</th>\n",
       "      <td>Mars</td>\n",
       "      <td>False</td>\n",
       "      <td>PSO J318.5-22</td>\n",
       "      <td>40.0</td>\n",
       "      <td>True</td>\n",
       "      <td>301.0</td>\n",
       "      <td>0.0</td>\n",
       "      <td>1310.0</td>\n",
       "      <td>4.0</td>\n",
       "      <td>NaN</td>\n",
       "      <td>Sters Bun</td>\n",
       "      <td>True</td>\n",
       "      <td>6234</td>\n",
       "      <td>01</td>\n",
       "      <td>F</td>\n",
       "      <td>1287</td>\n",
       "      <td>P</td>\n",
       "    </tr>\n",
       "    <tr>\n",
       "      <th>1</th>\n",
       "      <td>Europa</td>\n",
       "      <td>False</td>\n",
       "      <td>55 Cancri e</td>\n",
       "      <td>13.0</td>\n",
       "      <td>False</td>\n",
       "      <td>1212.0</td>\n",
       "      <td>4485.0</td>\n",
       "      <td>0.0</td>\n",
       "      <td>4016.0</td>\n",
       "      <td>57.0</td>\n",
       "      <td>Marin Hednigic</td>\n",
       "      <td>False</td>\n",
       "      <td>8826</td>\n",
       "      <td>01</td>\n",
       "      <td>C</td>\n",
       "      <td>290</td>\n",
       "      <td>P</td>\n",
       "    </tr>\n",
       "    <tr>\n",
       "      <th>2</th>\n",
       "      <td>Europa</td>\n",
       "      <td>False</td>\n",
       "      <td>TRAPPIST-1e</td>\n",
       "      <td>28.0</td>\n",
       "      <td>False</td>\n",
       "      <td>0.0</td>\n",
       "      <td>2560.0</td>\n",
       "      <td>0.0</td>\n",
       "      <td>134.0</td>\n",
       "      <td>307.0</td>\n",
       "      <td>Azhasim Inguel</td>\n",
       "      <td>False</td>\n",
       "      <td>4453</td>\n",
       "      <td>01</td>\n",
       "      <td>D</td>\n",
       "      <td>149</td>\n",
       "      <td>P</td>\n",
       "    </tr>\n",
       "    <tr>\n",
       "      <th>3</th>\n",
       "      <td>Mars</td>\n",
       "      <td>True</td>\n",
       "      <td>TRAPPIST-1e</td>\n",
       "      <td>21.0</td>\n",
       "      <td>False</td>\n",
       "      <td>0.0</td>\n",
       "      <td>0.0</td>\n",
       "      <td>0.0</td>\n",
       "      <td>0.0</td>\n",
       "      <td>0.0</td>\n",
       "      <td>Rana Brine</td>\n",
       "      <td>True</td>\n",
       "      <td>0602</td>\n",
       "      <td>03</td>\n",
       "      <td>F</td>\n",
       "      <td>125</td>\n",
       "      <td>P</td>\n",
       "    </tr>\n",
       "    <tr>\n",
       "      <th>4</th>\n",
       "      <td>Earth</td>\n",
       "      <td>False</td>\n",
       "      <td>TRAPPIST-1e</td>\n",
       "      <td>6.0</td>\n",
       "      <td>False</td>\n",
       "      <td>0.0</td>\n",
       "      <td>0.0</td>\n",
       "      <td>0.0</td>\n",
       "      <td>0.0</td>\n",
       "      <td>0.0</td>\n",
       "      <td>Daisya Traverdy</td>\n",
       "      <td>True</td>\n",
       "      <td>8796</td>\n",
       "      <td>01</td>\n",
       "      <td>G</td>\n",
       "      <td>1418</td>\n",
       "      <td>S</td>\n",
       "    </tr>\n",
       "  </tbody>\n",
       "</table>\n",
       "</div>"
      ],
      "text/plain": [
       "  HomePlanet CryoSleep    Destination   Age    VIP  RoomService  FoodCourt  \\\n",
       "0       Mars     False  PSO J318.5-22  40.0   True        301.0        0.0   \n",
       "1     Europa     False    55 Cancri e  13.0  False       1212.0     4485.0   \n",
       "2     Europa     False    TRAPPIST-1e  28.0  False          0.0     2560.0   \n",
       "3       Mars      True    TRAPPIST-1e  21.0  False          0.0        0.0   \n",
       "4      Earth     False    TRAPPIST-1e   6.0  False          0.0        0.0   \n",
       "\n",
       "   ShoppingMall     Spa  VRDeck             Name Transported group_id  \\\n",
       "0        1310.0     4.0     NaN        Sters Bun        True     6234   \n",
       "1           0.0  4016.0    57.0   Marin Hednigic       False     8826   \n",
       "2           0.0   134.0   307.0   Azhasim Inguel       False     4453   \n",
       "3           0.0     0.0     0.0       Rana Brine        True     0602   \n",
       "4           0.0     0.0     0.0  Daisya Traverdy        True     8796   \n",
       "\n",
       "  number_in_group deck number side  \n",
       "0              01    F   1287    P  \n",
       "1              01    C    290    P  \n",
       "2              01    D    149    P  \n",
       "3              03    F    125    P  \n",
       "4              01    G   1418    S  "
      ]
     },
     "execution_count": 8,
     "metadata": {},
     "output_type": "execute_result"
    }
   ],
   "source": [
    "all_data.head()"
   ]
  },
  {
   "cell_type": "markdown",
   "id": "aefa6df3-ba67-4946-97b3-4bf226537dfe",
   "metadata": {},
   "source": [
    "#### Переименование столбцов"
   ]
  },
  {
   "cell_type": "code",
   "execution_count": 9,
   "id": "dbf1e50a-e10b-49fe-aa92-bd029d62fa3b",
   "metadata": {},
   "outputs": [
    {
     "data": {
      "text/plain": [
       "Index(['HomePlanet', 'CryoSleep', 'Destination', 'Age', 'VIP', 'RoomService',\n",
       "       'FoodCourt', 'ShoppingMall', 'Spa', 'VRDeck', 'Name', 'Transported',\n",
       "       'group_id', 'number_in_group', 'deck', 'number', 'side'],\n",
       "      dtype='object')"
      ]
     },
     "execution_count": 9,
     "metadata": {},
     "output_type": "execute_result"
    }
   ],
   "source": [
    "all_data.columns"
   ]
  },
  {
   "cell_type": "code",
   "execution_count": 10,
   "id": "de97de4d-2412-4800-bd50-201352ec00f6",
   "metadata": {},
   "outputs": [],
   "source": [
    "all_data = all_data.rename(columns={'HomePlanet': 'home_planet', \n",
    "                                    'CryoSleep': 'cryo_sleep',\n",
    "                                    'Destination': 'destination',\n",
    "                                    'Age': 'age',\n",
    "                                    'VIP': 'vip',\n",
    "                                    'RoomService': 'room_service',\n",
    "                                    'FoodCourt': 'food_court',\n",
    "                                    'ShoppingMall': 'shopping_mall',\n",
    "                                    'Spa': 'spa',\n",
    "                                    'VRDeck': 'vr_deck',\n",
    "                                    'Name': 'name',\n",
    "                                    'Transported': 'transported'\n",
    "                                   })"
   ]
  },
  {
   "cell_type": "code",
   "execution_count": 11,
   "id": "8f01343e-8a54-4e50-a225-bfa4a92b5c65",
   "metadata": {},
   "outputs": [
    {
     "data": {
      "text/plain": [
       "Index(['home_planet', 'cryo_sleep', 'destination', 'age', 'vip',\n",
       "       'room_service', 'food_court', 'shopping_mall', 'spa', 'vr_deck', 'name',\n",
       "       'transported', 'group_id', 'number_in_group', 'deck', 'number', 'side'],\n",
       "      dtype='object')"
      ]
     },
     "execution_count": 11,
     "metadata": {},
     "output_type": "execute_result"
    }
   ],
   "source": [
    "all_data.columns"
   ]
  },
  {
   "cell_type": "markdown",
   "id": "9333abd8-453f-40d5-bdca-51d747281040",
   "metadata": {},
   "source": [
    "#### Cabin"
   ]
  },
  {
   "cell_type": "code",
   "execution_count": 12,
   "id": "62455425-f0c9-4d2a-af3b-27f53990349c",
   "metadata": {},
   "outputs": [
    {
     "data": {
      "text/plain": [
       "deck      199\n",
       "number    199\n",
       "side      199\n",
       "dtype: int64"
      ]
     },
     "execution_count": 12,
     "metadata": {},
     "output_type": "execute_result"
    }
   ],
   "source": [
    "all_data[['deck', 'number', 'side']].isna().sum()"
   ]
  },
  {
   "cell_type": "code",
   "execution_count": 13,
   "id": "1d249956-cc03-4ba3-8f35-0e7db39345a1",
   "metadata": {},
   "outputs": [],
   "source": [
    "group_group_id = list(all_data.query('number_in_group != number_in_group and number_in_group == number_in_group and deck == deck').group_id.unique())\n",
    "\n",
    "for index, row in all_data.iterrows():\n",
    "    if row.group_id in group_group_id and row.deck != row.deck:\n",
    "        group_id = row.group_id\n",
    "        request_group_group_id = pd.DataFrame(all_data.query('group_id in @group_id'))\n",
    "        for request_index, request_row in request_group_group_id.iterrows():\n",
    "            if request_row.deck == request_row.deck:            \n",
    "                all_data.loc[index, 'deck'] = request_row.deck\n",
    "                all_data.loc[index, 'number'] = request_row.number\n",
    "                all_data.loc[index, 'side'] = request_row.side\n",
    "    if row.deck != row.deck:\n",
    "        all_data.loc[index, 'deck'] = 'na'\n",
    "        all_data.loc[index, 'number'] = 'na'\n",
    "        all_data.loc[index, 'side'] = 'na'"
   ]
  },
  {
   "cell_type": "code",
   "execution_count": 14,
   "id": "6f992175-a6ee-45e7-8d83-47225d5a0c4d",
   "metadata": {},
   "outputs": [
    {
     "data": {
      "text/plain": [
       "deck      0\n",
       "number    0\n",
       "side      0\n",
       "dtype: int64"
      ]
     },
     "execution_count": 14,
     "metadata": {},
     "output_type": "execute_result"
    }
   ],
   "source": [
    "all_data[['deck', 'number', 'side']].isna().sum()"
   ]
  },
  {
   "cell_type": "code",
   "execution_count": 15,
   "id": "d039c35c-72bc-4b2d-be13-24fa3514a1cb",
   "metadata": {},
   "outputs": [
    {
     "data": {
      "text/html": [
       "<div>\n",
       "<style scoped>\n",
       "    .dataframe tbody tr th:only-of-type {\n",
       "        vertical-align: middle;\n",
       "    }\n",
       "\n",
       "    .dataframe tbody tr th {\n",
       "        vertical-align: top;\n",
       "    }\n",
       "\n",
       "    .dataframe thead th {\n",
       "        text-align: right;\n",
       "    }\n",
       "</style>\n",
       "<table border=\"1\" class=\"dataframe\">\n",
       "  <thead>\n",
       "    <tr style=\"text-align: right;\">\n",
       "      <th></th>\n",
       "      <th>count</th>\n",
       "      <th>sum</th>\n",
       "      <th>mean</th>\n",
       "    </tr>\n",
       "    <tr>\n",
       "      <th>side</th>\n",
       "      <th></th>\n",
       "      <th></th>\n",
       "      <th></th>\n",
       "    </tr>\n",
       "  </thead>\n",
       "  <tbody>\n",
       "    <tr>\n",
       "      <th>P</th>\n",
       "      <td>3393</td>\n",
       "      <td>1543</td>\n",
       "      <td>0.454760</td>\n",
       "    </tr>\n",
       "    <tr>\n",
       "      <th>S</th>\n",
       "      <td>3405</td>\n",
       "      <td>1881</td>\n",
       "      <td>0.552423</td>\n",
       "    </tr>\n",
       "    <tr>\n",
       "      <th>na</th>\n",
       "      <td>156</td>\n",
       "      <td>78</td>\n",
       "      <td>0.500000</td>\n",
       "    </tr>\n",
       "  </tbody>\n",
       "</table>\n",
       "</div>"
      ],
      "text/plain": [
       "      count   sum      mean\n",
       "side                       \n",
       "P      3393  1543  0.454760\n",
       "S      3405  1881  0.552423\n",
       "na      156    78  0.500000"
      ]
     },
     "metadata": {},
     "output_type": "display_data"
    },
    {
     "data": {
      "image/png": "[encoded data removed]",
      "text/plain": [
       "<Figure size 1080x504 with 1 Axes>"
      ]
     },
     "metadata": {
      "needs_background": "light"
     },
     "output_type": "display_data"
    }
   ],
   "source": [
    "home_planet_table = all_data.groupby(by=['side'])['transported'].agg(['count', 'sum', 'mean'])\n",
    "display(home_planet_table)\n",
    "home_planet_table['count'] = home_planet_table['count'] - home_planet_table['sum']\n",
    "home_planet_table = home_planet_table.rename(columns={\"count\": \"total\", \"sum\": \"transported\"})\n",
    "home_planet_table[['transported', 'total']].plot(kind='bar', stacked=True, legend=True, figsize=(15,7));"
   ]
  },
  {
   "cell_type": "code",
   "execution_count": 16,
   "id": "292295be-a6b8-4d63-86cd-8a4f699072a5",
   "metadata": {},
   "outputs": [
    {
     "data": {
      "text/html": [
       "<div>\n",
       "<style scoped>\n",
       "    .dataframe tbody tr th:only-of-type {\n",
       "        vertical-align: middle;\n",
       "    }\n",
       "\n",
       "    .dataframe tbody tr th {\n",
       "        vertical-align: top;\n",
       "    }\n",
       "\n",
       "    .dataframe thead th {\n",
       "        text-align: right;\n",
       "    }\n",
       "</style>\n",
       "<table border=\"1\" class=\"dataframe\">\n",
       "  <thead>\n",
       "    <tr style=\"text-align: right;\">\n",
       "      <th></th>\n",
       "      <th>count</th>\n",
       "      <th>sum</th>\n",
       "      <th>mean</th>\n",
       "    </tr>\n",
       "    <tr>\n",
       "      <th>deck</th>\n",
       "      <th></th>\n",
       "      <th></th>\n",
       "      <th></th>\n",
       "    </tr>\n",
       "  </thead>\n",
       "  <tbody>\n",
       "    <tr>\n",
       "      <th>A</th>\n",
       "      <td>203</td>\n",
       "      <td>100</td>\n",
       "      <td>0.492611</td>\n",
       "    </tr>\n",
       "    <tr>\n",
       "      <th>B</th>\n",
       "      <td>635</td>\n",
       "      <td>465</td>\n",
       "      <td>0.732283</td>\n",
       "    </tr>\n",
       "    <tr>\n",
       "      <th>C</th>\n",
       "      <td>588</td>\n",
       "      <td>403</td>\n",
       "      <td>0.685374</td>\n",
       "    </tr>\n",
       "    <tr>\n",
       "      <th>D</th>\n",
       "      <td>377</td>\n",
       "      <td>165</td>\n",
       "      <td>0.437666</td>\n",
       "    </tr>\n",
       "    <tr>\n",
       "      <th>E</th>\n",
       "      <td>711</td>\n",
       "      <td>264</td>\n",
       "      <td>0.371308</td>\n",
       "    </tr>\n",
       "    <tr>\n",
       "      <th>F</th>\n",
       "      <td>2236</td>\n",
       "      <td>989</td>\n",
       "      <td>0.442308</td>\n",
       "    </tr>\n",
       "    <tr>\n",
       "      <th>G</th>\n",
       "      <td>2045</td>\n",
       "      <td>1038</td>\n",
       "      <td>0.507579</td>\n",
       "    </tr>\n",
       "    <tr>\n",
       "      <th>T</th>\n",
       "      <td>3</td>\n",
       "      <td>0</td>\n",
       "      <td>0.000000</td>\n",
       "    </tr>\n",
       "    <tr>\n",
       "      <th>na</th>\n",
       "      <td>156</td>\n",
       "      <td>78</td>\n",
       "      <td>0.500000</td>\n",
       "    </tr>\n",
       "  </tbody>\n",
       "</table>\n",
       "</div>"
      ],
      "text/plain": [
       "      count   sum      mean\n",
       "deck                       \n",
       "A       203   100  0.492611\n",
       "B       635   465  0.732283\n",
       "C       588   403  0.685374\n",
       "D       377   165  0.437666\n",
       "E       711   264  0.371308\n",
       "F      2236   989  0.442308\n",
       "G      2045  1038  0.507579\n",
       "T         3     0  0.000000\n",
       "na      156    78  0.500000"
      ]
     },
     "metadata": {},
     "output_type": "display_data"
    },
    {
     "data": {
      "image/png": "[encoded data removed]",
      "text/plain": [
       "<Figure size 1080x504 with 1 Axes>"
      ]
     },
     "metadata": {
      "needs_background": "light"
     },
     "output_type": "display_data"
    }
   ],
   "source": [
    "home_planet_table = all_data.groupby(by=['deck'])['transported'].agg(['count', 'sum', 'mean'])\n",
    "display(home_planet_table)\n",
    "home_planet_table['count'] = home_planet_table['count'] - home_planet_table['sum']\n",
    "home_planet_table = home_planet_table.rename(columns={\"count\": \"total\", \"sum\": \"transported\"})\n",
    "home_planet_table[['transported', 'total']].plot(kind='bar', stacked=True, legend=True, figsize=(15,7));"
   ]
  },
  {
   "cell_type": "markdown",
   "id": "0fc5fe63-c60b-4685-b99a-dde38ca78b76",
   "metadata": {},
   "source": [
    "#### HomePlanet"
   ]
  },
  {
   "cell_type": "markdown",
   "id": "48a3eaac-9b2d-4032-83e9-415085e439b0",
   "metadata": {},
   "source": [
    "Строки с пропусками в столбце `HomePlanet`"
   ]
  },
  {
   "cell_type": "code",
   "execution_count": 17,
   "id": "89df24a1-6c75-4ab8-b029-f1ad11bc6a22",
   "metadata": {},
   "outputs": [
    {
     "data": {
      "text/plain": [
       "3794"
      ]
     },
     "execution_count": 17,
     "metadata": {},
     "output_type": "execute_result"
    }
   ],
   "source": [
    "group_id_nan_home_planet = all_data.query('home_planet == home_planet and number_in_group == \"02\"').group_id\n",
    "len(all_data.query('group_id in @group_id_nan_home_planet').sort_values(by='group_id'))"
   ]
  },
  {
   "cell_type": "code",
   "execution_count": 18,
   "id": "c39b6951-aaba-49d1-8697-24a3c85d749c",
   "metadata": {},
   "outputs": [
    {
     "data": {
      "text/plain": [
       "397"
      ]
     },
     "execution_count": 18,
     "metadata": {},
     "output_type": "execute_result"
    }
   ],
   "source": [
    "group_id_nan_home_planet = all_data.query('home_planet != home_planet').group_id\n",
    "len(all_data.query('group_id in @group_id_nan_home_planet').sort_values(by='group_id'))"
   ]
  },
  {
   "cell_type": "markdown",
   "id": "7ef5ba59-7447-4e8d-8e31-0b827bb575eb",
   "metadata": {},
   "source": [
    "Уникальные значения столбца `HomePlanet`"
   ]
  },
  {
   "cell_type": "code",
   "execution_count": 19,
   "id": "1f93661f-b3bd-4883-9504-5800f514e4ac",
   "metadata": {},
   "outputs": [
    {
     "data": {
      "text/plain": [
       "array(['Mars', 'Europa', 'Earth', nan], dtype=object)"
      ]
     },
     "execution_count": 19,
     "metadata": {},
     "output_type": "execute_result"
    }
   ],
   "source": [
    "all_data['home_planet'].unique()"
   ]
  },
  {
   "cell_type": "markdown",
   "id": "b1a6e9db-7cd0-4eac-bd21-70a7c233b902",
   "metadata": {},
   "source": [
    "Можем заполнить пропуски `HomePlanet` для групповых трансферов - значениями `HomePlanet` других членов группы"
   ]
  },
  {
   "cell_type": "code",
   "execution_count": 20,
   "id": "347ddc96-2b64-4913-b8a2-08c09fc7065b",
   "metadata": {},
   "outputs": [
    {
     "data": {
      "text/html": [
       "<div>\n",
       "<style scoped>\n",
       "    .dataframe tbody tr th:only-of-type {\n",
       "        vertical-align: middle;\n",
       "    }\n",
       "\n",
       "    .dataframe tbody tr th {\n",
       "        vertical-align: top;\n",
       "    }\n",
       "\n",
       "    .dataframe thead th {\n",
       "        text-align: right;\n",
       "    }\n",
       "</style>\n",
       "<table border=\"1\" class=\"dataframe\">\n",
       "  <thead>\n",
       "    <tr style=\"text-align: right;\">\n",
       "      <th></th>\n",
       "      <th>home_planet</th>\n",
       "      <th>cryo_sleep</th>\n",
       "      <th>destination</th>\n",
       "      <th>age</th>\n",
       "      <th>vip</th>\n",
       "      <th>room_service</th>\n",
       "      <th>food_court</th>\n",
       "      <th>shopping_mall</th>\n",
       "      <th>spa</th>\n",
       "      <th>vr_deck</th>\n",
       "      <th>name</th>\n",
       "      <th>transported</th>\n",
       "      <th>group_id</th>\n",
       "      <th>number_in_group</th>\n",
       "      <th>deck</th>\n",
       "      <th>number</th>\n",
       "      <th>side</th>\n",
       "    </tr>\n",
       "  </thead>\n",
       "  <tbody>\n",
       "    <tr>\n",
       "      <th>282</th>\n",
       "      <td>NaN</td>\n",
       "      <td>False</td>\n",
       "      <td>PSO J318.5-22</td>\n",
       "      <td>12.0</td>\n",
       "      <td>False</td>\n",
       "      <td>0.0</td>\n",
       "      <td>0.0</td>\n",
       "      <td>0.0</td>\n",
       "      <td>0.0</td>\n",
       "      <td>0.0</td>\n",
       "      <td>Joyton Willy</td>\n",
       "      <td>True</td>\n",
       "      <td>5090</td>\n",
       "      <td>03</td>\n",
       "      <td>G</td>\n",
       "      <td>821</td>\n",
       "      <td>P</td>\n",
       "    </tr>\n",
       "    <tr>\n",
       "      <th>1872</th>\n",
       "      <td>Earth</td>\n",
       "      <td>False</td>\n",
       "      <td>NaN</td>\n",
       "      <td>11.0</td>\n",
       "      <td>False</td>\n",
       "      <td>0.0</td>\n",
       "      <td>0.0</td>\n",
       "      <td>0.0</td>\n",
       "      <td>0.0</td>\n",
       "      <td>0.0</td>\n",
       "      <td>Scotte Willy</td>\n",
       "      <td>True</td>\n",
       "      <td>5090</td>\n",
       "      <td>06</td>\n",
       "      <td>G</td>\n",
       "      <td>821</td>\n",
       "      <td>P</td>\n",
       "    </tr>\n",
       "    <tr>\n",
       "      <th>2203</th>\n",
       "      <td>Earth</td>\n",
       "      <td>True</td>\n",
       "      <td>TRAPPIST-1e</td>\n",
       "      <td>0.0</td>\n",
       "      <td>False</td>\n",
       "      <td>0.0</td>\n",
       "      <td>0.0</td>\n",
       "      <td>0.0</td>\n",
       "      <td>0.0</td>\n",
       "      <td>0.0</td>\n",
       "      <td>Luzel Willy</td>\n",
       "      <td>False</td>\n",
       "      <td>5090</td>\n",
       "      <td>02</td>\n",
       "      <td>G</td>\n",
       "      <td>821</td>\n",
       "      <td>P</td>\n",
       "    </tr>\n",
       "    <tr>\n",
       "      <th>3897</th>\n",
       "      <td>Earth</td>\n",
       "      <td>False</td>\n",
       "      <td>PSO J318.5-22</td>\n",
       "      <td>32.0</td>\n",
       "      <td>False</td>\n",
       "      <td>793.0</td>\n",
       "      <td>0.0</td>\n",
       "      <td>0.0</td>\n",
       "      <td>0.0</td>\n",
       "      <td>0.0</td>\n",
       "      <td>Annya Willy</td>\n",
       "      <td>False</td>\n",
       "      <td>5090</td>\n",
       "      <td>05</td>\n",
       "      <td>E</td>\n",
       "      <td>316</td>\n",
       "      <td>P</td>\n",
       "    </tr>\n",
       "    <tr>\n",
       "      <th>4850</th>\n",
       "      <td>Earth</td>\n",
       "      <td>NaN</td>\n",
       "      <td>TRAPPIST-1e</td>\n",
       "      <td>0.0</td>\n",
       "      <td>False</td>\n",
       "      <td>0.0</td>\n",
       "      <td>0.0</td>\n",
       "      <td>0.0</td>\n",
       "      <td>0.0</td>\n",
       "      <td>0.0</td>\n",
       "      <td>NaN</td>\n",
       "      <td>False</td>\n",
       "      <td>5090</td>\n",
       "      <td>01</td>\n",
       "      <td>G</td>\n",
       "      <td>821</td>\n",
       "      <td>P</td>\n",
       "    </tr>\n",
       "    <tr>\n",
       "      <th>5456</th>\n",
       "      <td>Earth</td>\n",
       "      <td>True</td>\n",
       "      <td>TRAPPIST-1e</td>\n",
       "      <td>7.0</td>\n",
       "      <td>False</td>\n",
       "      <td>0.0</td>\n",
       "      <td>0.0</td>\n",
       "      <td>0.0</td>\n",
       "      <td>0.0</td>\n",
       "      <td>0.0</td>\n",
       "      <td>Adamy Willy</td>\n",
       "      <td>False</td>\n",
       "      <td>5090</td>\n",
       "      <td>04</td>\n",
       "      <td>G</td>\n",
       "      <td>821</td>\n",
       "      <td>P</td>\n",
       "    </tr>\n",
       "  </tbody>\n",
       "</table>\n",
       "</div>"
      ],
      "text/plain": [
       "     home_planet cryo_sleep    destination   age    vip  room_service  \\\n",
       "282          NaN      False  PSO J318.5-22  12.0  False           0.0   \n",
       "1872       Earth      False            NaN  11.0  False           0.0   \n",
       "2203       Earth       True    TRAPPIST-1e   0.0  False           0.0   \n",
       "3897       Earth      False  PSO J318.5-22  32.0  False         793.0   \n",
       "4850       Earth        NaN    TRAPPIST-1e   0.0  False           0.0   \n",
       "5456       Earth       True    TRAPPIST-1e   7.0  False           0.0   \n",
       "\n",
       "      food_court  shopping_mall  spa  vr_deck          name transported  \\\n",
       "282          0.0            0.0  0.0      0.0  Joyton Willy        True   \n",
       "1872         0.0            0.0  0.0      0.0  Scotte Willy        True   \n",
       "2203         0.0            0.0  0.0      0.0   Luzel Willy       False   \n",
       "3897         0.0            0.0  0.0      0.0   Annya Willy       False   \n",
       "4850         0.0            0.0  0.0      0.0           NaN       False   \n",
       "5456         0.0            0.0  0.0      0.0   Adamy Willy       False   \n",
       "\n",
       "     group_id number_in_group deck number side  \n",
       "282      5090              03    G    821    P  \n",
       "1872     5090              06    G    821    P  \n",
       "2203     5090              02    G    821    P  \n",
       "3897     5090              05    E    316    P  \n",
       "4850     5090              01    G    821    P  \n",
       "5456     5090              04    G    821    P  "
      ]
     },
     "execution_count": 20,
     "metadata": {},
     "output_type": "execute_result"
    }
   ],
   "source": [
    "all_data.query('group_id == \"5090\"')"
   ]
  },
  {
   "cell_type": "code",
   "execution_count": 21,
   "id": "058f5618-ba6a-44ee-b1c5-be5fd4c7bcd8",
   "metadata": {},
   "outputs": [],
   "source": [
    "group_group_id = list(all_data.query('number_in_group != \"01\" and number_in_group == number_in_group and home_planet == home_planet').group_id.unique())\n",
    "\n",
    "for index, row in all_data.iterrows():\n",
    "    if row.group_id in group_group_id:\n",
    "        group_id = row.group_id\n",
    "        request_group_group_id = pd.DataFrame(all_data.query('group_id in @group_id'))\n",
    "            \n",
    "        if row.home_planet != row.home_planet:\n",
    "            for request_index, request_row in request_group_group_id.iterrows():\n",
    "                if request_row.home_planet == request_row.home_planet:            \n",
    "                    all_data.loc[index, 'home_planet'] = request_row.home_planet\n",
    "                        \n",
    "        if row.vip != row.vip:\n",
    "            for request_index, request_row in request_group_group_id.iterrows():\n",
    "                if request_row.vip == request_row.vip:            \n",
    "                    all_data.loc[index, 'vip'] = request_row.vip\n",
    "            \n",
    "        if row.destination != row.destination:\n",
    "            for request_index, request_row in request_group_group_id.iterrows():\n",
    "                if request_row.destination == request_row.destination:            \n",
    "                    all_data.loc[index, 'destination'] = request_row.destination\n",
    "\n",
    "    \n",
    "    if row.home_planet != row.home_planet:\n",
    "        all_data.loc[index, 'home_planet'] = 'na'\n",
    "    if row.vip != row.vip:\n",
    "        all_data.loc[index, 'vip'] = False\n",
    "    if row.destination != row.destination:\n",
    "        all_data.loc[index, 'destination'] = 'na'"
   ]
  },
  {
   "cell_type": "code",
   "execution_count": 22,
   "id": "ec9531b3-cfce-4efc-bfde-415fb53a5350",
   "metadata": {},
   "outputs": [
    {
     "data": {
      "text/html": [
       "<div>\n",
       "<style scoped>\n",
       "    .dataframe tbody tr th:only-of-type {\n",
       "        vertical-align: middle;\n",
       "    }\n",
       "\n",
       "    .dataframe tbody tr th {\n",
       "        vertical-align: top;\n",
       "    }\n",
       "\n",
       "    .dataframe thead th {\n",
       "        text-align: right;\n",
       "    }\n",
       "</style>\n",
       "<table border=\"1\" class=\"dataframe\">\n",
       "  <thead>\n",
       "    <tr style=\"text-align: right;\">\n",
       "      <th></th>\n",
       "      <th>count</th>\n",
       "      <th>sum</th>\n",
       "      <th>mean</th>\n",
       "    </tr>\n",
       "    <tr>\n",
       "      <th>home_planet</th>\n",
       "      <th></th>\n",
       "      <th></th>\n",
       "      <th></th>\n",
       "    </tr>\n",
       "  </thead>\n",
       "  <tbody>\n",
       "    <tr>\n",
       "      <th>Earth</th>\n",
       "      <td>3675</td>\n",
       "      <td>1555</td>\n",
       "      <td>0.423129</td>\n",
       "    </tr>\n",
       "    <tr>\n",
       "      <th>Europa</th>\n",
       "      <td>1707</td>\n",
       "      <td>1129</td>\n",
       "      <td>0.661394</td>\n",
       "    </tr>\n",
       "    <tr>\n",
       "      <th>Mars</th>\n",
       "      <td>1409</td>\n",
       "      <td>743</td>\n",
       "      <td>0.527324</td>\n",
       "    </tr>\n",
       "    <tr>\n",
       "      <th>na</th>\n",
       "      <td>163</td>\n",
       "      <td>75</td>\n",
       "      <td>0.460123</td>\n",
       "    </tr>\n",
       "  </tbody>\n",
       "</table>\n",
       "</div>"
      ],
      "text/plain": [
       "             count   sum      mean\n",
       "home_planet                       \n",
       "Earth         3675  1555  0.423129\n",
       "Europa        1707  1129  0.661394\n",
       "Mars          1409   743  0.527324\n",
       "na             163    75  0.460123"
      ]
     },
     "metadata": {},
     "output_type": "display_data"
    },
    {
     "data": {
      "image/png": "[encoded data removed]",
      "text/plain": [
       "<Figure size 1080x504 with 1 Axes>"
      ]
     },
     "metadata": {
      "needs_background": "light"
     },
     "output_type": "display_data"
    }
   ],
   "source": [
    "home_planet_table = all_data.groupby(by=['home_planet'])['transported'].agg(['count', 'sum', 'mean'])\n",
    "display(home_planet_table)\n",
    "home_planet_table['count'] = home_planet_table['count'] - home_planet_table['sum']\n",
    "home_planet_table = home_planet_table.rename(columns={\"count\": \"total\", \"sum\": \"transported\"})\n",
    "home_planet_table[['transported', 'total']].plot(kind='bar', stacked=True, legend=True, figsize=(15,7));"
   ]
  },
  {
   "cell_type": "markdown",
   "id": "577b6b1e-9972-4ab6-b014-c47e59ee3f2b",
   "metadata": {},
   "source": [
    "#### Age"
   ]
  },
  {
   "cell_type": "code",
   "execution_count": 23,
   "id": "63c493b8-6747-48f9-9daa-5bfef83d2b9f",
   "metadata": {},
   "outputs": [
    {
     "data": {
      "text/plain": [
       "179"
      ]
     },
     "execution_count": 23,
     "metadata": {},
     "output_type": "execute_result"
    }
   ],
   "source": [
    "all_data['age'].isna().sum()"
   ]
  },
  {
   "cell_type": "code",
   "execution_count": 24,
   "id": "d7b0a856-a590-4dad-829f-e53fb80a2d43",
   "metadata": {},
   "outputs": [
    {
     "data": {
      "text/html": [
       "<div>\n",
       "<style scoped>\n",
       "    .dataframe tbody tr th:only-of-type {\n",
       "        vertical-align: middle;\n",
       "    }\n",
       "\n",
       "    .dataframe tbody tr th {\n",
       "        vertical-align: top;\n",
       "    }\n",
       "\n",
       "    .dataframe thead th {\n",
       "        text-align: right;\n",
       "    }\n",
       "</style>\n",
       "<table border=\"1\" class=\"dataframe\">\n",
       "  <thead>\n",
       "    <tr style=\"text-align: right;\">\n",
       "      <th></th>\n",
       "      <th>count</th>\n",
       "      <th>mean</th>\n",
       "      <th>median</th>\n",
       "      <th>min</th>\n",
       "      <th>max</th>\n",
       "    </tr>\n",
       "    <tr>\n",
       "      <th>home_planet</th>\n",
       "      <th></th>\n",
       "      <th></th>\n",
       "      <th></th>\n",
       "      <th></th>\n",
       "      <th></th>\n",
       "    </tr>\n",
       "  </thead>\n",
       "  <tbody>\n",
       "    <tr>\n",
       "      <th>Earth</th>\n",
       "      <td>4514</td>\n",
       "      <td>26.068232</td>\n",
       "      <td>23.0</td>\n",
       "      <td>0.0</td>\n",
       "      <td>79.0</td>\n",
       "    </tr>\n",
       "    <tr>\n",
       "      <th>Europa</th>\n",
       "      <td>2085</td>\n",
       "      <td>34.419664</td>\n",
       "      <td>33.0</td>\n",
       "      <td>0.0</td>\n",
       "      <td>79.0</td>\n",
       "    </tr>\n",
       "    <tr>\n",
       "      <th>Mars</th>\n",
       "      <td>1716</td>\n",
       "      <td>29.297203</td>\n",
       "      <td>28.0</td>\n",
       "      <td>0.0</td>\n",
       "      <td>76.0</td>\n",
       "    </tr>\n",
       "    <tr>\n",
       "      <th>na</th>\n",
       "      <td>199</td>\n",
       "      <td>28.793970</td>\n",
       "      <td>26.0</td>\n",
       "      <td>0.0</td>\n",
       "      <td>74.0</td>\n",
       "    </tr>\n",
       "  </tbody>\n",
       "</table>\n",
       "</div>"
      ],
      "text/plain": [
       "             count       mean  median  min   max\n",
       "home_planet                                     \n",
       "Earth         4514  26.068232    23.0  0.0  79.0\n",
       "Europa        2085  34.419664    33.0  0.0  79.0\n",
       "Mars          1716  29.297203    28.0  0.0  76.0\n",
       "na             199  28.793970    26.0  0.0  74.0"
      ]
     },
     "execution_count": 24,
     "metadata": {},
     "output_type": "execute_result"
    }
   ],
   "source": [
    "age_table = all_data.groupby(by=['home_planet'])['age'].agg(['count', 'mean', 'median', 'min', 'max'])\n",
    "age_table"
   ]
  },
  {
   "cell_type": "code",
   "execution_count": 25,
   "id": "7c873ef5-6e05-4a06-91b0-1ecfc497dc18",
   "metadata": {},
   "outputs": [],
   "source": [
    "age_dict = {}\n",
    "for index, row in age_table.iterrows():\n",
    "    age_dict[index] = row['median']"
   ]
  },
  {
   "cell_type": "code",
   "execution_count": 26,
   "id": "d0916c30-9f18-4691-b17e-089b215337e1",
   "metadata": {},
   "outputs": [],
   "source": [
    "for index, row in all_data.iterrows():\n",
    "            if row['age'] != row['age']:\n",
    "                all_data.loc[index, 'age'] = age_dict[row['home_planet']]"
   ]
  },
  {
   "cell_type": "code",
   "execution_count": 27,
   "id": "677ad7c1-ad4e-42c2-b83c-a2e0ab4cf305",
   "metadata": {},
   "outputs": [
    {
     "data": {
      "text/plain": [
       "array(['Mars', 'Europa', 'Earth', 'na'], dtype=object)"
      ]
     },
     "execution_count": 27,
     "metadata": {},
     "output_type": "execute_result"
    }
   ],
   "source": [
    "all_data.home_planet.unique()"
   ]
  },
  {
   "cell_type": "code",
   "execution_count": 28,
   "id": "ae401a9c-0bb5-4620-b62d-3b467a4a1ec2",
   "metadata": {},
   "outputs": [
    {
     "data": {
      "text/plain": [
       "0"
      ]
     },
     "execution_count": 28,
     "metadata": {},
     "output_type": "execute_result"
    }
   ],
   "source": [
    "all_data['age'].isna().sum()"
   ]
  },
  {
   "cell_type": "code",
   "execution_count": 29,
   "id": "726b3f0b-de74-44bb-8a04-8d9c52c34e17",
   "metadata": {},
   "outputs": [
    {
     "data": {
      "text/html": [
       "<div>\n",
       "<style scoped>\n",
       "    .dataframe tbody tr th:only-of-type {\n",
       "        vertical-align: middle;\n",
       "    }\n",
       "\n",
       "    .dataframe tbody tr th {\n",
       "        vertical-align: top;\n",
       "    }\n",
       "\n",
       "    .dataframe thead th {\n",
       "        text-align: right;\n",
       "    }\n",
       "</style>\n",
       "<table border=\"1\" class=\"dataframe\">\n",
       "  <thead>\n",
       "    <tr style=\"text-align: right;\">\n",
       "      <th></th>\n",
       "      <th>count</th>\n",
       "      <th>sum</th>\n",
       "      <th>mean</th>\n",
       "    </tr>\n",
       "    <tr>\n",
       "      <th>age</th>\n",
       "      <th></th>\n",
       "      <th></th>\n",
       "      <th></th>\n",
       "    </tr>\n",
       "  </thead>\n",
       "  <tbody>\n",
       "    <tr>\n",
       "      <th>0.0</th>\n",
       "      <td>135</td>\n",
       "      <td>112</td>\n",
       "      <td>0.829630</td>\n",
       "    </tr>\n",
       "    <tr>\n",
       "      <th>1.0</th>\n",
       "      <td>59</td>\n",
       "      <td>43</td>\n",
       "      <td>0.728814</td>\n",
       "    </tr>\n",
       "    <tr>\n",
       "      <th>2.0</th>\n",
       "      <td>60</td>\n",
       "      <td>41</td>\n",
       "      <td>0.683333</td>\n",
       "    </tr>\n",
       "    <tr>\n",
       "      <th>3.0</th>\n",
       "      <td>61</td>\n",
       "      <td>49</td>\n",
       "      <td>0.803279</td>\n",
       "    </tr>\n",
       "    <tr>\n",
       "      <th>4.0</th>\n",
       "      <td>51</td>\n",
       "      <td>40</td>\n",
       "      <td>0.784314</td>\n",
       "    </tr>\n",
       "    <tr>\n",
       "      <th>5.0</th>\n",
       "      <td>30</td>\n",
       "      <td>18</td>\n",
       "      <td>0.600000</td>\n",
       "    </tr>\n",
       "    <tr>\n",
       "      <th>6.0</th>\n",
       "      <td>32</td>\n",
       "      <td>17</td>\n",
       "      <td>0.531250</td>\n",
       "    </tr>\n",
       "    <tr>\n",
       "      <th>7.0</th>\n",
       "      <td>43</td>\n",
       "      <td>26</td>\n",
       "      <td>0.604651</td>\n",
       "    </tr>\n",
       "    <tr>\n",
       "      <th>8.0</th>\n",
       "      <td>35</td>\n",
       "      <td>21</td>\n",
       "      <td>0.600000</td>\n",
       "    </tr>\n",
       "    <tr>\n",
       "      <th>9.0</th>\n",
       "      <td>38</td>\n",
       "      <td>22</td>\n",
       "      <td>0.578947</td>\n",
       "    </tr>\n",
       "  </tbody>\n",
       "</table>\n",
       "</div>"
      ],
      "text/plain": [
       "     count  sum      mean\n",
       "age                      \n",
       "0.0    135  112  0.829630\n",
       "1.0     59   43  0.728814\n",
       "2.0     60   41  0.683333\n",
       "3.0     61   49  0.803279\n",
       "4.0     51   40  0.784314\n",
       "5.0     30   18  0.600000\n",
       "6.0     32   17  0.531250\n",
       "7.0     43   26  0.604651\n",
       "8.0     35   21  0.600000\n",
       "9.0     38   22  0.578947"
      ]
     },
     "metadata": {},
     "output_type": "display_data"
    },
    {
     "data": {
      "image/png": "[encoded data removed]",
      "text/plain": [
       "<Figure size 1080x504 with 1 Axes>"
      ]
     },
     "metadata": {
      "needs_background": "light"
     },
     "output_type": "display_data"
    }
   ],
   "source": [
    "home_planet_table = all_data.groupby(by=['age'])['transported'].agg(['count', 'sum', 'mean'])\n",
    "display(home_planet_table.head(10))\n",
    "home_planet_table['count'] = home_planet_table['count'] - home_planet_table['sum']\n",
    "home_planet_table = home_planet_table.rename(columns={\"count\": \"total\", \"sum\": \"transported\"})\n",
    "home_planet_table[['transported', 'total']][0:100].plot(kind='bar', stacked=True, legend=True, figsize=(15,7));"
   ]
  },
  {
   "cell_type": "markdown",
   "id": "03637f4f-adab-46cb-b5d7-220e6ebec1d1",
   "metadata": {},
   "source": [
    "#### Destination"
   ]
  },
  {
   "cell_type": "code",
   "execution_count": 30,
   "id": "d5f8020c-7f8b-43af-b20e-533cd4033e5d",
   "metadata": {},
   "outputs": [
    {
     "data": {
      "text/plain": [
       "home_planet\n",
       "Earth     [TRAPPIST-1e, 55 Cancri e, PSO J318.5-22, na]\n",
       "Europa    [55 Cancri e, TRAPPIST-1e, PSO J318.5-22, na]\n",
       "Mars      [PSO J318.5-22, TRAPPIST-1e, 55 Cancri e, na]\n",
       "na        [55 Cancri e, TRAPPIST-1e, PSO J318.5-22, na]\n",
       "Name: destination, dtype: object"
      ]
     },
     "metadata": {},
     "output_type": "display_data"
    }
   ],
   "source": [
    "display(all_data.groupby(all_data['home_planet'])['destination'].unique())"
   ]
  },
  {
   "cell_type": "markdown",
   "id": "65d61344-5641-4a0c-9c44-817a7292fb31",
   "metadata": {},
   "source": [
    "От планеты отправления не зависит разнообразие маршрутов, с любой планеты можно отправиться в любое назначение кроме самих планет."
   ]
  },
  {
   "cell_type": "code",
   "execution_count": 31,
   "id": "fd85d152-66c3-4b30-a67b-c51aad79fd65",
   "metadata": {},
   "outputs": [
    {
     "data": {
      "text/html": [
       "<div>\n",
       "<style scoped>\n",
       "    .dataframe tbody tr th:only-of-type {\n",
       "        vertical-align: middle;\n",
       "    }\n",
       "\n",
       "    .dataframe tbody tr th {\n",
       "        vertical-align: top;\n",
       "    }\n",
       "\n",
       "    .dataframe thead th {\n",
       "        text-align: right;\n",
       "    }\n",
       "</style>\n",
       "<table border=\"1\" class=\"dataframe\">\n",
       "  <thead>\n",
       "    <tr style=\"text-align: right;\">\n",
       "      <th></th>\n",
       "      <th>count</th>\n",
       "      <th>sum</th>\n",
       "      <th>mean</th>\n",
       "    </tr>\n",
       "    <tr>\n",
       "      <th>destination</th>\n",
       "      <th></th>\n",
       "      <th></th>\n",
       "      <th></th>\n",
       "    </tr>\n",
       "  </thead>\n",
       "  <tbody>\n",
       "    <tr>\n",
       "      <th>55 Cancri e</th>\n",
       "      <td>1465</td>\n",
       "      <td>881</td>\n",
       "      <td>0.601365</td>\n",
       "    </tr>\n",
       "    <tr>\n",
       "      <th>PSO J318.5-22</th>\n",
       "      <td>649</td>\n",
       "      <td>334</td>\n",
       "      <td>0.514638</td>\n",
       "    </tr>\n",
       "    <tr>\n",
       "      <th>TRAPPIST-1e</th>\n",
       "      <td>4699</td>\n",
       "      <td>2213</td>\n",
       "      <td>0.470951</td>\n",
       "    </tr>\n",
       "    <tr>\n",
       "      <th>na</th>\n",
       "      <td>141</td>\n",
       "      <td>74</td>\n",
       "      <td>0.524823</td>\n",
       "    </tr>\n",
       "  </tbody>\n",
       "</table>\n",
       "</div>"
      ],
      "text/plain": [
       "               count   sum      mean\n",
       "destination                         \n",
       "55 Cancri e     1465   881  0.601365\n",
       "PSO J318.5-22    649   334  0.514638\n",
       "TRAPPIST-1e     4699  2213  0.470951\n",
       "na               141    74  0.524823"
      ]
     },
     "metadata": {},
     "output_type": "display_data"
    },
    {
     "data": {
      "image/png": "[encoded data removed]",
      "text/plain": [
       "<Figure size 1080x504 with 1 Axes>"
      ]
     },
     "metadata": {
      "needs_background": "light"
     },
     "output_type": "display_data"
    }
   ],
   "source": [
    "home_planet_table = all_data.groupby(by=['destination'])['transported'].agg(['count', 'sum', 'mean'])\n",
    "display(home_planet_table)\n",
    "home_planet_table['count'] = home_planet_table['count'] - home_planet_table['sum']\n",
    "home_planet_table = home_planet_table.rename(columns={\"count\": \"total\", \"sum\": \"transported\"})\n",
    "home_planet_table[['transported', 'total']].plot(kind='bar', stacked=True, legend=True, figsize=(15,7));"
   ]
  },
  {
   "cell_type": "markdown",
   "id": "c8a72a97-3223-46d2-8356-ba486b89167e",
   "metadata": {},
   "source": [
    "#### VIP, RoomService, FoodCourt, ShoppingMall, Spa, VRDeck"
   ]
  },
  {
   "cell_type": "code",
   "execution_count": 32,
   "id": "7be112e9-502e-4a0a-a3a6-cadad80473b4",
   "metadata": {},
   "outputs": [
    {
     "data": {
      "text/plain": [
       "room_service     0.0\n",
       "food_court       0.0\n",
       "shopping_mall    0.0\n",
       "spa              0.0\n",
       "vr_deck          0.0\n",
       "dtype: float64"
      ]
     },
     "execution_count": 32,
     "metadata": {},
     "output_type": "execute_result"
    }
   ],
   "source": [
    "all_data.query('cryo_sleep == True')[['room_service', 'food_court', 'shopping_mall', 'spa', 'vr_deck']].sum()"
   ]
  },
  {
   "cell_type": "code",
   "execution_count": 33,
   "id": "120847a8-bbab-4544-a045-ef52e185b312",
   "metadata": {},
   "outputs": [],
   "source": [
    "def room_service_fit(row):\n",
    "    if row['cryo_sleep'] == True:\n",
    "        row['room_service'] = row['food_court'] = row['shopping_mall'] = row['spa'] = row['vr_deck'] = 0\n",
    "    return row"
   ]
  },
  {
   "cell_type": "code",
   "execution_count": 34,
   "id": "e1f2f373-a7b7-4652-9d79-9c231db450d2",
   "metadata": {},
   "outputs": [
    {
     "name": "stdout",
     "output_type": "stream",
     "text": [
      "vip                0\n",
      "room_service     181\n",
      "food_court       183\n",
      "shopping_mall    208\n",
      "spa              183\n",
      "vr_deck          188\n",
      "dtype: int64\n",
      "vip                0\n",
      "room_service     113\n",
      "food_court       113\n",
      "shopping_mall    112\n",
      "spa              118\n",
      "vr_deck          126\n",
      "dtype: int64\n"
     ]
    }
   ],
   "source": [
    "print(all_data[['vip', 'room_service', 'food_court', 'shopping_mall', 'spa', 'vr_deck']].isna().sum())\n",
    "all_data = all_data.apply(room_service_fit, axis=1)\n",
    "print(all_data[['vip', 'room_service', 'food_court', 'shopping_mall', 'spa', 'vr_deck']].isna().sum())"
   ]
  },
  {
   "cell_type": "code",
   "execution_count": 35,
   "id": "dc428bfe-8689-4c07-90d3-b3e6437dd21b",
   "metadata": {},
   "outputs": [
    {
     "data": {
      "text/html": [
       "<div>\n",
       "<style scoped>\n",
       "    .dataframe tbody tr th:only-of-type {\n",
       "        vertical-align: middle;\n",
       "    }\n",
       "\n",
       "    .dataframe tbody tr th {\n",
       "        vertical-align: top;\n",
       "    }\n",
       "\n",
       "    .dataframe thead th {\n",
       "        text-align: right;\n",
       "    }\n",
       "</style>\n",
       "<table border=\"1\" class=\"dataframe\">\n",
       "  <thead>\n",
       "    <tr style=\"text-align: right;\">\n",
       "      <th></th>\n",
       "      <th>count</th>\n",
       "      <th>sum</th>\n",
       "      <th>mean</th>\n",
       "    </tr>\n",
       "    <tr>\n",
       "      <th>cryo_sleep</th>\n",
       "      <th></th>\n",
       "      <th></th>\n",
       "      <th></th>\n",
       "    </tr>\n",
       "  </thead>\n",
       "  <tbody>\n",
       "    <tr>\n",
       "      <th>False</th>\n",
       "      <td>4353</td>\n",
       "      <td>1438</td>\n",
       "      <td>0.330347</td>\n",
       "    </tr>\n",
       "    <tr>\n",
       "      <th>True</th>\n",
       "      <td>2431</td>\n",
       "      <td>1981</td>\n",
       "      <td>0.814891</td>\n",
       "    </tr>\n",
       "  </tbody>\n",
       "</table>\n",
       "</div>"
      ],
      "text/plain": [
       "            count   sum      mean\n",
       "cryo_sleep                       \n",
       "False        4353  1438  0.330347\n",
       "True         2431  1981  0.814891"
      ]
     },
     "execution_count": 35,
     "metadata": {},
     "output_type": "execute_result"
    }
   ],
   "source": [
    "all_data.groupby(by=['cryo_sleep'])['transported'].agg(['count', 'sum', 'mean'])"
   ]
  },
  {
   "cell_type": "code",
   "execution_count": 36,
   "id": "16703918-5762-4673-ae83-2f5e058f875e",
   "metadata": {},
   "outputs": [
    {
     "data": {
      "text/html": [
       "<div>\n",
       "<style scoped>\n",
       "    .dataframe tbody tr th:only-of-type {\n",
       "        vertical-align: middle;\n",
       "    }\n",
       "\n",
       "    .dataframe tbody tr th {\n",
       "        vertical-align: top;\n",
       "    }\n",
       "\n",
       "    .dataframe thead th {\n",
       "        text-align: right;\n",
       "    }\n",
       "</style>\n",
       "<table border=\"1\" class=\"dataframe\">\n",
       "  <thead>\n",
       "    <tr style=\"text-align: right;\">\n",
       "      <th></th>\n",
       "      <th>count</th>\n",
       "      <th>sum</th>\n",
       "      <th>mean</th>\n",
       "    </tr>\n",
       "    <tr>\n",
       "      <th>vip</th>\n",
       "      <th></th>\n",
       "      <th></th>\n",
       "      <th></th>\n",
       "    </tr>\n",
       "  </thead>\n",
       "  <tbody>\n",
       "    <tr>\n",
       "      <th>False</th>\n",
       "      <td>6790</td>\n",
       "      <td>3437</td>\n",
       "      <td>0.506186</td>\n",
       "    </tr>\n",
       "    <tr>\n",
       "      <th>True</th>\n",
       "      <td>164</td>\n",
       "      <td>65</td>\n",
       "      <td>0.396341</td>\n",
       "    </tr>\n",
       "  </tbody>\n",
       "</table>\n",
       "</div>"
      ],
      "text/plain": [
       "       count   sum      mean\n",
       "vip                         \n",
       "False   6790  3437  0.506186\n",
       "True     164    65  0.396341"
      ]
     },
     "metadata": {},
     "output_type": "display_data"
    },
    {
     "data": {
      "image/png": "[encoded data removed]",
      "text/plain": [
       "<Figure size 1080x504 with 1 Axes>"
      ]
     },
     "metadata": {
      "needs_background": "light"
     },
     "output_type": "display_data"
    }
   ],
   "source": [
    "home_planet_table = all_data.groupby(by=['vip'])['transported'].agg(['count', 'sum', 'mean'])\n",
    "display(home_planet_table)\n",
    "home_planet_table['count'] = home_planet_table['count'] - home_planet_table['sum']\n",
    "home_planet_table = home_planet_table.rename(columns={\"count\": \"total\", \"sum\": \"transported\"})\n",
    "home_planet_table[['transported', 'total']].plot(kind='bar', stacked=True, legend=True, figsize=(15,7));"
   ]
  },
  {
   "cell_type": "code",
   "execution_count": 37,
   "id": "b8237026-ff9a-445f-b76a-00e2298819cf",
   "metadata": {},
   "outputs": [
    {
     "data": {
      "text/html": [
       "<div>\n",
       "<style scoped>\n",
       "    .dataframe tbody tr th:only-of-type {\n",
       "        vertical-align: middle;\n",
       "    }\n",
       "\n",
       "    .dataframe tbody tr th {\n",
       "        vertical-align: top;\n",
       "    }\n",
       "\n",
       "    .dataframe thead th {\n",
       "        text-align: right;\n",
       "    }\n",
       "</style>\n",
       "<table border=\"1\" class=\"dataframe\">\n",
       "  <thead>\n",
       "    <tr style=\"text-align: right;\">\n",
       "      <th></th>\n",
       "      <th>count</th>\n",
       "      <th>sum</th>\n",
       "      <th>mean</th>\n",
       "    </tr>\n",
       "    <tr>\n",
       "      <th>room_service</th>\n",
       "      <th></th>\n",
       "      <th></th>\n",
       "      <th></th>\n",
       "    </tr>\n",
       "  </thead>\n",
       "  <tbody>\n",
       "    <tr>\n",
       "      <th>8.0</th>\n",
       "      <td>21</td>\n",
       "      <td>15</td>\n",
       "      <td>0.714286</td>\n",
       "    </tr>\n",
       "    <tr>\n",
       "      <th>0.0</th>\n",
       "      <td>4536</td>\n",
       "      <td>2872</td>\n",
       "      <td>0.633157</td>\n",
       "    </tr>\n",
       "    <tr>\n",
       "      <th>14.0</th>\n",
       "      <td>17</td>\n",
       "      <td>9</td>\n",
       "      <td>0.529412</td>\n",
       "    </tr>\n",
       "    <tr>\n",
       "      <th>27.0</th>\n",
       "      <td>11</td>\n",
       "      <td>5</td>\n",
       "      <td>0.454545</td>\n",
       "    </tr>\n",
       "    <tr>\n",
       "      <th>6.0</th>\n",
       "      <td>19</td>\n",
       "      <td>8</td>\n",
       "      <td>0.421053</td>\n",
       "    </tr>\n",
       "    <tr>\n",
       "      <th>10.0</th>\n",
       "      <td>12</td>\n",
       "      <td>5</td>\n",
       "      <td>0.416667</td>\n",
       "    </tr>\n",
       "    <tr>\n",
       "      <th>11.0</th>\n",
       "      <td>12</td>\n",
       "      <td>5</td>\n",
       "      <td>0.416667</td>\n",
       "    </tr>\n",
       "    <tr>\n",
       "      <th>2.0</th>\n",
       "      <td>67</td>\n",
       "      <td>27</td>\n",
       "      <td>0.402985</td>\n",
       "    </tr>\n",
       "    <tr>\n",
       "      <th>5.0</th>\n",
       "      <td>23</td>\n",
       "      <td>9</td>\n",
       "      <td>0.391304</td>\n",
       "    </tr>\n",
       "    <tr>\n",
       "      <th>3.0</th>\n",
       "      <td>50</td>\n",
       "      <td>19</td>\n",
       "      <td>0.380000</td>\n",
       "    </tr>\n",
       "  </tbody>\n",
       "</table>\n",
       "</div>"
      ],
      "text/plain": [
       "              count   sum      mean\n",
       "room_service                       \n",
       "8.0              21    15  0.714286\n",
       "0.0            4536  2872  0.633157\n",
       "14.0             17     9  0.529412\n",
       "27.0             11     5  0.454545\n",
       "6.0              19     8  0.421053\n",
       "10.0             12     5  0.416667\n",
       "11.0             12     5  0.416667\n",
       "2.0              67    27  0.402985\n",
       "5.0              23     9  0.391304\n",
       "3.0              50    19  0.380000"
      ]
     },
     "metadata": {},
     "output_type": "display_data"
    },
    {
     "data": {
      "image/png": "[encoded data removed]",
      "text/plain": [
       "<Figure size 1080x504 with 1 Axes>"
      ]
     },
     "metadata": {
      "needs_background": "light"
     },
     "output_type": "display_data"
    }
   ],
   "source": [
    "home_planet_table = all_data.groupby(by=['room_service'])['transported'].agg(['count', 'sum', 'mean'])\n",
    "display(home_planet_table.query('count > 10').sort_values(by='mean', ascending=False).head(10))\n",
    "home_planet_table['count'] = home_planet_table['count'] - home_planet_table['sum']\n",
    "home_planet_table = home_planet_table.rename(columns={\"count\": \"total\", \"sum\": \"transported\"})\n",
    "home_planet_table['transported'][1:].head(30).plot(figsize=(15,7))\n",
    "home_planet_table['total'][1:].head(30).plot();"
   ]
  },
  {
   "cell_type": "code",
   "execution_count": 38,
   "id": "6aad9c00-c71f-449a-8c3f-2036100b8369",
   "metadata": {},
   "outputs": [
    {
     "data": {
      "text/html": [
       "<div>\n",
       "<style scoped>\n",
       "    .dataframe tbody tr th:only-of-type {\n",
       "        vertical-align: middle;\n",
       "    }\n",
       "\n",
       "    .dataframe tbody tr th {\n",
       "        vertical-align: top;\n",
       "    }\n",
       "\n",
       "    .dataframe thead th {\n",
       "        text-align: right;\n",
       "    }\n",
       "</style>\n",
       "<table border=\"1\" class=\"dataframe\">\n",
       "  <thead>\n",
       "    <tr style=\"text-align: right;\">\n",
       "      <th></th>\n",
       "      <th>count</th>\n",
       "      <th>sum</th>\n",
       "      <th>mean</th>\n",
       "    </tr>\n",
       "    <tr>\n",
       "      <th>food_court</th>\n",
       "      <th></th>\n",
       "      <th></th>\n",
       "      <th></th>\n",
       "    </tr>\n",
       "  </thead>\n",
       "  <tbody>\n",
       "    <tr>\n",
       "      <th>0.0</th>\n",
       "      <td>4421</td>\n",
       "      <td>2640</td>\n",
       "      <td>0.597150</td>\n",
       "    </tr>\n",
       "    <tr>\n",
       "      <th>11.0</th>\n",
       "      <td>15</td>\n",
       "      <td>5</td>\n",
       "      <td>0.333333</td>\n",
       "    </tr>\n",
       "    <tr>\n",
       "      <th>12.0</th>\n",
       "      <td>13</td>\n",
       "      <td>4</td>\n",
       "      <td>0.307692</td>\n",
       "    </tr>\n",
       "    <tr>\n",
       "      <th>8.0</th>\n",
       "      <td>17</td>\n",
       "      <td>5</td>\n",
       "      <td>0.294118</td>\n",
       "    </tr>\n",
       "    <tr>\n",
       "      <th>7.0</th>\n",
       "      <td>24</td>\n",
       "      <td>6</td>\n",
       "      <td>0.250000</td>\n",
       "    </tr>\n",
       "    <tr>\n",
       "      <th>6.0</th>\n",
       "      <td>24</td>\n",
       "      <td>6</td>\n",
       "      <td>0.250000</td>\n",
       "    </tr>\n",
       "    <tr>\n",
       "      <th>2.0</th>\n",
       "      <td>58</td>\n",
       "      <td>14</td>\n",
       "      <td>0.241379</td>\n",
       "    </tr>\n",
       "    <tr>\n",
       "      <th>9.0</th>\n",
       "      <td>23</td>\n",
       "      <td>5</td>\n",
       "      <td>0.217391</td>\n",
       "    </tr>\n",
       "    <tr>\n",
       "      <th>3.0</th>\n",
       "      <td>34</td>\n",
       "      <td>7</td>\n",
       "      <td>0.205882</td>\n",
       "    </tr>\n",
       "    <tr>\n",
       "      <th>4.0</th>\n",
       "      <td>44</td>\n",
       "      <td>9</td>\n",
       "      <td>0.204545</td>\n",
       "    </tr>\n",
       "  </tbody>\n",
       "</table>\n",
       "</div>"
      ],
      "text/plain": [
       "            count   sum      mean\n",
       "food_court                       \n",
       "0.0          4421  2640  0.597150\n",
       "11.0           15     5  0.333333\n",
       "12.0           13     4  0.307692\n",
       "8.0            17     5  0.294118\n",
       "7.0            24     6  0.250000\n",
       "6.0            24     6  0.250000\n",
       "2.0            58    14  0.241379\n",
       "9.0            23     5  0.217391\n",
       "3.0            34     7  0.205882\n",
       "4.0            44     9  0.204545"
      ]
     },
     "metadata": {},
     "output_type": "display_data"
    },
    {
     "data": {
      "image/png": "[encoded data removed]",
      "text/plain": [
       "<Figure size 1080x504 with 1 Axes>"
      ]
     },
     "metadata": {
      "needs_background": "light"
     },
     "output_type": "display_data"
    }
   ],
   "source": [
    "home_planet_table = all_data.groupby(by=['food_court'])['transported'].agg(['count', 'sum', 'mean'])\n",
    "display(home_planet_table.query('count > 10').sort_values(by='mean', ascending=False).head(10))\n",
    "home_planet_table['count'] = home_planet_table['count'] - home_planet_table['sum']\n",
    "home_planet_table = home_planet_table.rename(columns={\"count\": \"total\", \"sum\": \"transported\"})\n",
    "home_planet_table['transported'][1:].head(50).plot(figsize=(15,7))\n",
    "home_planet_table['total'][1:].head(50).plot();"
   ]
  },
  {
   "cell_type": "code",
   "execution_count": 39,
   "id": "3578c3c7-58f4-41dc-b761-acab0c7e1bac",
   "metadata": {},
   "outputs": [
    {
     "data": {
      "text/html": [
       "<div>\n",
       "<style scoped>\n",
       "    .dataframe tbody tr th:only-of-type {\n",
       "        vertical-align: middle;\n",
       "    }\n",
       "\n",
       "    .dataframe tbody tr th {\n",
       "        vertical-align: top;\n",
       "    }\n",
       "\n",
       "    .dataframe thead th {\n",
       "        text-align: right;\n",
       "    }\n",
       "</style>\n",
       "<table border=\"1\" class=\"dataframe\">\n",
       "  <thead>\n",
       "    <tr style=\"text-align: right;\">\n",
       "      <th></th>\n",
       "      <th>count</th>\n",
       "      <th>sum</th>\n",
       "      <th>mean</th>\n",
       "    </tr>\n",
       "    <tr>\n",
       "      <th>shopping_mall</th>\n",
       "      <th></th>\n",
       "      <th></th>\n",
       "      <th></th>\n",
       "    </tr>\n",
       "  </thead>\n",
       "  <tbody>\n",
       "    <tr>\n",
       "      <th>0.0</th>\n",
       "      <td>4560</td>\n",
       "      <td>2754</td>\n",
       "      <td>0.603947</td>\n",
       "    </tr>\n",
       "    <tr>\n",
       "      <th>18.0</th>\n",
       "      <td>11</td>\n",
       "      <td>5</td>\n",
       "      <td>0.454545</td>\n",
       "    </tr>\n",
       "    <tr>\n",
       "      <th>31.0</th>\n",
       "      <td>17</td>\n",
       "      <td>7</td>\n",
       "      <td>0.411765</td>\n",
       "    </tr>\n",
       "    <tr>\n",
       "      <th>13.0</th>\n",
       "      <td>22</td>\n",
       "      <td>8</td>\n",
       "      <td>0.363636</td>\n",
       "    </tr>\n",
       "    <tr>\n",
       "      <th>9.0</th>\n",
       "      <td>24</td>\n",
       "      <td>8</td>\n",
       "      <td>0.333333</td>\n",
       "    </tr>\n",
       "    <tr>\n",
       "      <th>3.0</th>\n",
       "      <td>51</td>\n",
       "      <td>16</td>\n",
       "      <td>0.313725</td>\n",
       "    </tr>\n",
       "    <tr>\n",
       "      <th>5.0</th>\n",
       "      <td>30</td>\n",
       "      <td>9</td>\n",
       "      <td>0.300000</td>\n",
       "    </tr>\n",
       "    <tr>\n",
       "      <th>7.0</th>\n",
       "      <td>29</td>\n",
       "      <td>8</td>\n",
       "      <td>0.275862</td>\n",
       "    </tr>\n",
       "    <tr>\n",
       "      <th>15.0</th>\n",
       "      <td>11</td>\n",
       "      <td>3</td>\n",
       "      <td>0.272727</td>\n",
       "    </tr>\n",
       "    <tr>\n",
       "      <th>21.0</th>\n",
       "      <td>11</td>\n",
       "      <td>3</td>\n",
       "      <td>0.272727</td>\n",
       "    </tr>\n",
       "  </tbody>\n",
       "</table>\n",
       "</div>"
      ],
      "text/plain": [
       "               count   sum      mean\n",
       "shopping_mall                       \n",
       "0.0             4560  2754  0.603947\n",
       "18.0              11     5  0.454545\n",
       "31.0              17     7  0.411765\n",
       "13.0              22     8  0.363636\n",
       "9.0               24     8  0.333333\n",
       "3.0               51    16  0.313725\n",
       "5.0               30     9  0.300000\n",
       "7.0               29     8  0.275862\n",
       "15.0              11     3  0.272727\n",
       "21.0              11     3  0.272727"
      ]
     },
     "metadata": {},
     "output_type": "display_data"
    },
    {
     "data": {
      "image/png": "[encoded data removed]",
      "text/plain": [
       "<Figure size 1080x504 with 1 Axes>"
      ]
     },
     "metadata": {
      "needs_background": "light"
     },
     "output_type": "display_data"
    }
   ],
   "source": [
    "home_planet_table = all_data.groupby(by=['shopping_mall'])['transported'].agg(['count', 'sum', 'mean'])\n",
    "display(home_planet_table.query('count > 10').sort_values(by='mean', ascending=False).head(10))\n",
    "home_planet_table['count'] = home_planet_table['count'] - home_planet_table['sum']\n",
    "home_planet_table = home_planet_table.rename(columns={\"count\": \"total\", \"sum\": \"transported\"})\n",
    "home_planet_table['transported'][1:].head(50).plot(figsize=(15,7))\n",
    "home_planet_table['total'][1:].head(50).plot();"
   ]
  },
  {
   "cell_type": "code",
   "execution_count": 40,
   "id": "bce7678e-d5d3-4650-8a08-cd17f39751f2",
   "metadata": {},
   "outputs": [
    {
     "data": {
      "text/html": [
       "<div>\n",
       "<style scoped>\n",
       "    .dataframe tbody tr th:only-of-type {\n",
       "        vertical-align: middle;\n",
       "    }\n",
       "\n",
       "    .dataframe tbody tr th {\n",
       "        vertical-align: top;\n",
       "    }\n",
       "\n",
       "    .dataframe thead th {\n",
       "        text-align: right;\n",
       "    }\n",
       "</style>\n",
       "<table border=\"1\" class=\"dataframe\">\n",
       "  <thead>\n",
       "    <tr style=\"text-align: right;\">\n",
       "      <th></th>\n",
       "      <th>count</th>\n",
       "      <th>sum</th>\n",
       "      <th>mean</th>\n",
       "    </tr>\n",
       "    <tr>\n",
       "      <th>spa</th>\n",
       "      <th></th>\n",
       "      <th></th>\n",
       "      <th></th>\n",
       "    </tr>\n",
       "  </thead>\n",
       "  <tbody>\n",
       "    <tr>\n",
       "      <th>0.0</th>\n",
       "      <td>4331</td>\n",
       "      <td>2766</td>\n",
       "      <td>0.638652</td>\n",
       "    </tr>\n",
       "    <tr>\n",
       "      <th>5.0</th>\n",
       "      <td>42</td>\n",
       "      <td>22</td>\n",
       "      <td>0.523810</td>\n",
       "    </tr>\n",
       "    <tr>\n",
       "      <th>13.0</th>\n",
       "      <td>12</td>\n",
       "      <td>6</td>\n",
       "      <td>0.500000</td>\n",
       "    </tr>\n",
       "    <tr>\n",
       "      <th>17.0</th>\n",
       "      <td>13</td>\n",
       "      <td>6</td>\n",
       "      <td>0.461538</td>\n",
       "    </tr>\n",
       "    <tr>\n",
       "      <th>2.0</th>\n",
       "      <td>82</td>\n",
       "      <td>37</td>\n",
       "      <td>0.451220</td>\n",
       "    </tr>\n",
       "    <tr>\n",
       "      <th>6.0</th>\n",
       "      <td>29</td>\n",
       "      <td>13</td>\n",
       "      <td>0.448276</td>\n",
       "    </tr>\n",
       "    <tr>\n",
       "      <th>7.0</th>\n",
       "      <td>30</td>\n",
       "      <td>13</td>\n",
       "      <td>0.433333</td>\n",
       "    </tr>\n",
       "    <tr>\n",
       "      <th>3.0</th>\n",
       "      <td>42</td>\n",
       "      <td>18</td>\n",
       "      <td>0.428571</td>\n",
       "    </tr>\n",
       "    <tr>\n",
       "      <th>4.0</th>\n",
       "      <td>38</td>\n",
       "      <td>16</td>\n",
       "      <td>0.421053</td>\n",
       "    </tr>\n",
       "    <tr>\n",
       "      <th>10.0</th>\n",
       "      <td>15</td>\n",
       "      <td>6</td>\n",
       "      <td>0.400000</td>\n",
       "    </tr>\n",
       "  </tbody>\n",
       "</table>\n",
       "</div>"
      ],
      "text/plain": [
       "      count   sum      mean\n",
       "spa                        \n",
       "0.0    4331  2766  0.638652\n",
       "5.0      42    22  0.523810\n",
       "13.0     12     6  0.500000\n",
       "17.0     13     6  0.461538\n",
       "2.0      82    37  0.451220\n",
       "6.0      29    13  0.448276\n",
       "7.0      30    13  0.433333\n",
       "3.0      42    18  0.428571\n",
       "4.0      38    16  0.421053\n",
       "10.0     15     6  0.400000"
      ]
     },
     "metadata": {},
     "output_type": "display_data"
    },
    {
     "data": {
      "image/png": "[encoded data removed]",
      "text/plain": [
       "<Figure size 1080x504 with 1 Axes>"
      ]
     },
     "metadata": {
      "needs_background": "light"
     },
     "output_type": "display_data"
    }
   ],
   "source": [
    "home_planet_table = all_data.groupby(by=['spa'])['transported'].agg(['count', 'sum', 'mean'])\n",
    "display(home_planet_table.query('count > 10').sort_values(by='mean', ascending=False).head(10))\n",
    "home_planet_table['count'] = home_planet_table['count'] - home_planet_table['sum']\n",
    "home_planet_table = home_planet_table.rename(columns={\"count\": \"total\", \"sum\": \"transported\"})\n",
    "home_planet_table['transported'][1:].head(50).plot(figsize=(15,7))\n",
    "home_planet_table['total'][1:].head(50).plot();"
   ]
  },
  {
   "cell_type": "code",
   "execution_count": 41,
   "id": "f89b90e8-9322-4705-8a3b-ecbe60006e61",
   "metadata": {},
   "outputs": [
    {
     "data": {
      "text/html": [
       "<div>\n",
       "<style scoped>\n",
       "    .dataframe tbody tr th:only-of-type {\n",
       "        vertical-align: middle;\n",
       "    }\n",
       "\n",
       "    .dataframe tbody tr th {\n",
       "        vertical-align: top;\n",
       "    }\n",
       "\n",
       "    .dataframe thead th {\n",
       "        text-align: right;\n",
       "    }\n",
       "</style>\n",
       "<table border=\"1\" class=\"dataframe\">\n",
       "  <thead>\n",
       "    <tr style=\"text-align: right;\">\n",
       "      <th></th>\n",
       "      <th>count</th>\n",
       "      <th>sum</th>\n",
       "      <th>mean</th>\n",
       "    </tr>\n",
       "    <tr>\n",
       "      <th>vr_deck</th>\n",
       "      <th></th>\n",
       "      <th></th>\n",
       "      <th></th>\n",
       "    </tr>\n",
       "  </thead>\n",
       "  <tbody>\n",
       "    <tr>\n",
       "      <th>0.0</th>\n",
       "      <td>4453</td>\n",
       "      <td>2801</td>\n",
       "      <td>0.629014</td>\n",
       "    </tr>\n",
       "    <tr>\n",
       "      <th>40.0</th>\n",
       "      <td>13</td>\n",
       "      <td>7</td>\n",
       "      <td>0.538462</td>\n",
       "    </tr>\n",
       "    <tr>\n",
       "      <th>23.0</th>\n",
       "      <td>12</td>\n",
       "      <td>6</td>\n",
       "      <td>0.500000</td>\n",
       "    </tr>\n",
       "    <tr>\n",
       "      <th>6.0</th>\n",
       "      <td>28</td>\n",
       "      <td>14</td>\n",
       "      <td>0.500000</td>\n",
       "    </tr>\n",
       "    <tr>\n",
       "      <th>8.0</th>\n",
       "      <td>22</td>\n",
       "      <td>10</td>\n",
       "      <td>0.454545</td>\n",
       "    </tr>\n",
       "    <tr>\n",
       "      <th>9.0</th>\n",
       "      <td>22</td>\n",
       "      <td>10</td>\n",
       "      <td>0.454545</td>\n",
       "    </tr>\n",
       "    <tr>\n",
       "      <th>7.0</th>\n",
       "      <td>22</td>\n",
       "      <td>9</td>\n",
       "      <td>0.409091</td>\n",
       "    </tr>\n",
       "    <tr>\n",
       "      <th>13.0</th>\n",
       "      <td>15</td>\n",
       "      <td>6</td>\n",
       "      <td>0.400000</td>\n",
       "    </tr>\n",
       "    <tr>\n",
       "      <th>5.0</th>\n",
       "      <td>38</td>\n",
       "      <td>15</td>\n",
       "      <td>0.394737</td>\n",
       "    </tr>\n",
       "    <tr>\n",
       "      <th>18.0</th>\n",
       "      <td>13</td>\n",
       "      <td>5</td>\n",
       "      <td>0.384615</td>\n",
       "    </tr>\n",
       "  </tbody>\n",
       "</table>\n",
       "</div>"
      ],
      "text/plain": [
       "         count   sum      mean\n",
       "vr_deck                       \n",
       "0.0       4453  2801  0.629014\n",
       "40.0        13     7  0.538462\n",
       "23.0        12     6  0.500000\n",
       "6.0         28    14  0.500000\n",
       "8.0         22    10  0.454545\n",
       "9.0         22    10  0.454545\n",
       "7.0         22     9  0.409091\n",
       "13.0        15     6  0.400000\n",
       "5.0         38    15  0.394737\n",
       "18.0        13     5  0.384615"
      ]
     },
     "metadata": {},
     "output_type": "display_data"
    },
    {
     "data": {
      "image/png": "[encoded data removed]",
      "text/plain": [
       "<Figure size 1080x504 with 1 Axes>"
      ]
     },
     "metadata": {
      "needs_background": "light"
     },
     "output_type": "display_data"
    }
   ],
   "source": [
    "home_planet_table = all_data.groupby(by=['vr_deck'])['transported'].agg(['count', 'sum', 'mean'])\n",
    "display(home_planet_table.query('count > 10').sort_values(by='mean', ascending=False).head(10))\n",
    "home_planet_table['count'] = home_planet_table['count'] - home_planet_table['sum']\n",
    "home_planet_table = home_planet_table.rename(columns={\"count\": \"total\", \"sum\": \"transported\"})\n",
    "home_planet_table['transported'] = home_planet_table['transported'].astype('float')\n",
    "home_planet_table['transported'][1:300].plot(figsize=(15,7))\n",
    "home_planet_table['total'][1:].head(300).plot();\n"
   ]
  },
  {
   "cell_type": "markdown",
   "id": "3d0acd25-9a06-445a-85d4-2cb13e5fe0dc",
   "metadata": {},
   "source": [
    "#### CryoSleep"
   ]
  },
  {
   "cell_type": "code",
   "execution_count": 42,
   "id": "a51df67e-9c6c-4a8e-9b61-79da1e56a669",
   "metadata": {},
   "outputs": [
    {
     "data": {
      "text/html": [
       "<div>\n",
       "<style scoped>\n",
       "    .dataframe tbody tr th:only-of-type {\n",
       "        vertical-align: middle;\n",
       "    }\n",
       "\n",
       "    .dataframe tbody tr th {\n",
       "        vertical-align: top;\n",
       "    }\n",
       "\n",
       "    .dataframe thead th {\n",
       "        text-align: right;\n",
       "    }\n",
       "</style>\n",
       "<table border=\"1\" class=\"dataframe\">\n",
       "  <thead>\n",
       "    <tr style=\"text-align: right;\">\n",
       "      <th></th>\n",
       "      <th>home_planet</th>\n",
       "      <th>cryo_sleep</th>\n",
       "      <th>destination</th>\n",
       "      <th>age</th>\n",
       "      <th>vip</th>\n",
       "      <th>room_service</th>\n",
       "      <th>food_court</th>\n",
       "      <th>shopping_mall</th>\n",
       "      <th>spa</th>\n",
       "      <th>vr_deck</th>\n",
       "      <th>name</th>\n",
       "      <th>transported</th>\n",
       "      <th>group_id</th>\n",
       "      <th>number_in_group</th>\n",
       "      <th>deck</th>\n",
       "      <th>number</th>\n",
       "      <th>side</th>\n",
       "    </tr>\n",
       "  </thead>\n",
       "  <tbody>\n",
       "    <tr>\n",
       "      <th>35</th>\n",
       "      <td>Mars</td>\n",
       "      <td>NaN</td>\n",
       "      <td>55 Cancri e</td>\n",
       "      <td>19.0</td>\n",
       "      <td>False</td>\n",
       "      <td>0.0</td>\n",
       "      <td>0.0</td>\n",
       "      <td>0.0</td>\n",
       "      <td>0.0</td>\n",
       "      <td>0.0</td>\n",
       "      <td>Nakes Dutte</td>\n",
       "      <td>True</td>\n",
       "      <td>0794</td>\n",
       "      <td>01</td>\n",
       "      <td>F</td>\n",
       "      <td>144</td>\n",
       "      <td>S</td>\n",
       "    </tr>\n",
       "    <tr>\n",
       "      <th>38</th>\n",
       "      <td>Europa</td>\n",
       "      <td>NaN</td>\n",
       "      <td>TRAPPIST-1e</td>\n",
       "      <td>17.0</td>\n",
       "      <td>False</td>\n",
       "      <td>0.0</td>\n",
       "      <td>0.0</td>\n",
       "      <td>0.0</td>\n",
       "      <td>0.0</td>\n",
       "      <td>0.0</td>\n",
       "      <td>Alrais Modent</td>\n",
       "      <td>True</td>\n",
       "      <td>3439</td>\n",
       "      <td>02</td>\n",
       "      <td>B</td>\n",
       "      <td>130</td>\n",
       "      <td>S</td>\n",
       "    </tr>\n",
       "    <tr>\n",
       "      <th>98</th>\n",
       "      <td>Europa</td>\n",
       "      <td>NaN</td>\n",
       "      <td>TRAPPIST-1e</td>\n",
       "      <td>17.0</td>\n",
       "      <td>False</td>\n",
       "      <td>0.0</td>\n",
       "      <td>0.0</td>\n",
       "      <td>0.0</td>\n",
       "      <td>0.0</td>\n",
       "      <td>0.0</td>\n",
       "      <td>Proxima Quidedbolt</td>\n",
       "      <td>True</td>\n",
       "      <td>7560</td>\n",
       "      <td>01</td>\n",
       "      <td>C</td>\n",
       "      <td>244</td>\n",
       "      <td>P</td>\n",
       "    </tr>\n",
       "    <tr>\n",
       "      <th>162</th>\n",
       "      <td>Earth</td>\n",
       "      <td>NaN</td>\n",
       "      <td>TRAPPIST-1e</td>\n",
       "      <td>32.0</td>\n",
       "      <td>False</td>\n",
       "      <td>0.0</td>\n",
       "      <td>0.0</td>\n",
       "      <td>0.0</td>\n",
       "      <td>0.0</td>\n",
       "      <td>0.0</td>\n",
       "      <td>Shawne Simonsents</td>\n",
       "      <td>False</td>\n",
       "      <td>9076</td>\n",
       "      <td>01</td>\n",
       "      <td>G</td>\n",
       "      <td>1461</td>\n",
       "      <td>S</td>\n",
       "    </tr>\n",
       "    <tr>\n",
       "      <th>197</th>\n",
       "      <td>Europa</td>\n",
       "      <td>NaN</td>\n",
       "      <td>55 Cancri e</td>\n",
       "      <td>26.0</td>\n",
       "      <td>False</td>\n",
       "      <td>0.0</td>\n",
       "      <td>3593.0</td>\n",
       "      <td>47.0</td>\n",
       "      <td>19.0</td>\n",
       "      <td>229.0</td>\n",
       "      <td>Hamakan Namsheary</td>\n",
       "      <td>True</td>\n",
       "      <td>4603</td>\n",
       "      <td>01</td>\n",
       "      <td>C</td>\n",
       "      <td>171</td>\n",
       "      <td>S</td>\n",
       "    </tr>\n",
       "    <tr>\n",
       "      <th>256</th>\n",
       "      <td>Earth</td>\n",
       "      <td>NaN</td>\n",
       "      <td>TRAPPIST-1e</td>\n",
       "      <td>58.0</td>\n",
       "      <td>False</td>\n",
       "      <td>0.0</td>\n",
       "      <td>985.0</td>\n",
       "      <td>0.0</td>\n",
       "      <td>5.0</td>\n",
       "      <td>0.0</td>\n",
       "      <td>Hilip Grifford</td>\n",
       "      <td>True</td>\n",
       "      <td>0173</td>\n",
       "      <td>01</td>\n",
       "      <td>E</td>\n",
       "      <td>11</td>\n",
       "      <td>S</td>\n",
       "    </tr>\n",
       "    <tr>\n",
       "      <th>315</th>\n",
       "      <td>Earth</td>\n",
       "      <td>NaN</td>\n",
       "      <td>TRAPPIST-1e</td>\n",
       "      <td>54.0</td>\n",
       "      <td>False</td>\n",
       "      <td>0.0</td>\n",
       "      <td>0.0</td>\n",
       "      <td>0.0</td>\n",
       "      <td>0.0</td>\n",
       "      <td>0.0</td>\n",
       "      <td>Hughy Mclardson</td>\n",
       "      <td>False</td>\n",
       "      <td>0770</td>\n",
       "      <td>03</td>\n",
       "      <td>G</td>\n",
       "      <td>117</td>\n",
       "      <td>S</td>\n",
       "    </tr>\n",
       "    <tr>\n",
       "      <th>361</th>\n",
       "      <td>Earth</td>\n",
       "      <td>NaN</td>\n",
       "      <td>TRAPPIST-1e</td>\n",
       "      <td>54.0</td>\n",
       "      <td>False</td>\n",
       "      <td>0.0</td>\n",
       "      <td>0.0</td>\n",
       "      <td>0.0</td>\n",
       "      <td>0.0</td>\n",
       "      <td>0.0</td>\n",
       "      <td>Troyce Wagnerray</td>\n",
       "      <td>False</td>\n",
       "      <td>1085</td>\n",
       "      <td>01</td>\n",
       "      <td>G</td>\n",
       "      <td>165</td>\n",
       "      <td>P</td>\n",
       "    </tr>\n",
       "    <tr>\n",
       "      <th>398</th>\n",
       "      <td>Earth</td>\n",
       "      <td>NaN</td>\n",
       "      <td>TRAPPIST-1e</td>\n",
       "      <td>22.0</td>\n",
       "      <td>False</td>\n",
       "      <td>0.0</td>\n",
       "      <td>0.0</td>\n",
       "      <td>0.0</td>\n",
       "      <td>0.0</td>\n",
       "      <td>0.0</td>\n",
       "      <td>Danna Toddleton</td>\n",
       "      <td>False</td>\n",
       "      <td>0764</td>\n",
       "      <td>01</td>\n",
       "      <td>G</td>\n",
       "      <td>115</td>\n",
       "      <td>S</td>\n",
       "    </tr>\n",
       "    <tr>\n",
       "      <th>559</th>\n",
       "      <td>Earth</td>\n",
       "      <td>NaN</td>\n",
       "      <td>TRAPPIST-1e</td>\n",
       "      <td>24.0</td>\n",
       "      <td>False</td>\n",
       "      <td>0.0</td>\n",
       "      <td>0.0</td>\n",
       "      <td>NaN</td>\n",
       "      <td>59.0</td>\n",
       "      <td>4120.0</td>\n",
       "      <td>Joelan Burrilllins</td>\n",
       "      <td>False</td>\n",
       "      <td>2390</td>\n",
       "      <td>01</td>\n",
       "      <td>G</td>\n",
       "      <td>385</td>\n",
       "      <td>P</td>\n",
       "    </tr>\n",
       "  </tbody>\n",
       "</table>\n",
       "</div>"
      ],
      "text/plain": [
       "    home_planet cryo_sleep  destination   age    vip  room_service  \\\n",
       "35         Mars        NaN  55 Cancri e  19.0  False           0.0   \n",
       "38       Europa        NaN  TRAPPIST-1e  17.0  False           0.0   \n",
       "98       Europa        NaN  TRAPPIST-1e  17.0  False           0.0   \n",
       "162       Earth        NaN  TRAPPIST-1e  32.0  False           0.0   \n",
       "197      Europa        NaN  55 Cancri e  26.0  False           0.0   \n",
       "256       Earth        NaN  TRAPPIST-1e  58.0  False           0.0   \n",
       "315       Earth        NaN  TRAPPIST-1e  54.0  False           0.0   \n",
       "361       Earth        NaN  TRAPPIST-1e  54.0  False           0.0   \n",
       "398       Earth        NaN  TRAPPIST-1e  22.0  False           0.0   \n",
       "559       Earth        NaN  TRAPPIST-1e  24.0  False           0.0   \n",
       "\n",
       "     food_court  shopping_mall   spa  vr_deck                name transported  \\\n",
       "35          0.0            0.0   0.0      0.0         Nakes Dutte        True   \n",
       "38          0.0            0.0   0.0      0.0       Alrais Modent        True   \n",
       "98          0.0            0.0   0.0      0.0  Proxima Quidedbolt        True   \n",
       "162         0.0            0.0   0.0      0.0   Shawne Simonsents       False   \n",
       "197      3593.0           47.0  19.0    229.0   Hamakan Namsheary        True   \n",
       "256       985.0            0.0   5.0      0.0      Hilip Grifford        True   \n",
       "315         0.0            0.0   0.0      0.0     Hughy Mclardson       False   \n",
       "361         0.0            0.0   0.0      0.0    Troyce Wagnerray       False   \n",
       "398         0.0            0.0   0.0      0.0     Danna Toddleton       False   \n",
       "559         0.0            NaN  59.0   4120.0  Joelan Burrilllins       False   \n",
       "\n",
       "    group_id number_in_group deck number side  \n",
       "35      0794              01    F    144    S  \n",
       "38      3439              02    B    130    S  \n",
       "98      7560              01    C    244    P  \n",
       "162     9076              01    G   1461    S  \n",
       "197     4603              01    C    171    S  \n",
       "256     0173              01    E     11    S  \n",
       "315     0770              03    G    117    S  \n",
       "361     1085              01    G    165    P  \n",
       "398     0764              01    G    115    S  \n",
       "559     2390              01    G    385    P  "
      ]
     },
     "execution_count": 42,
     "metadata": {},
     "output_type": "execute_result"
    }
   ],
   "source": [
    "all_data.query('cryo_sleep != cryo_sleep').head(10)"
   ]
  },
  {
   "cell_type": "code",
   "execution_count": 43,
   "id": "ada5b24d-30ba-45de-a08d-2f7e7d70346e",
   "metadata": {},
   "outputs": [
    {
     "data": {
      "text/plain": [
       "False    5439\n",
       "True     3037\n",
       "Name: cryo_sleep, dtype: int64"
      ]
     },
     "execution_count": 43,
     "metadata": {},
     "output_type": "execute_result"
    }
   ],
   "source": [
    "all_data['cryo_sleep'].value_counts()"
   ]
  },
  {
   "cell_type": "markdown",
   "id": "f2a15d2b-6564-4412-b045-d976d3508b1d",
   "metadata": {},
   "source": [
    "Пассажиры которые используют криосон не пользуются платными развлекательными услугами, так понимаю что можно использовать либо криосон и наслаждаться анимацией полета либо не использовать криосон и наслаждаться многочисленных роскошными удобствами космического корабля."
   ]
  },
  {
   "cell_type": "code",
   "execution_count": 44,
   "id": "25a3deef-c5ef-41a9-86e1-983935f248ca",
   "metadata": {},
   "outputs": [
    {
     "name": "stdout",
     "output_type": "stream",
     "text": [
      "217\n",
      "0\n"
     ]
    }
   ],
   "source": [
    "print(all_data['cryo_sleep'].isna().sum())\n",
    "all_data['cryo_sleep'] = all_data['cryo_sleep'].fillna(False)\n",
    "print(all_data['cryo_sleep'].isna().sum())"
   ]
  },
  {
   "cell_type": "code",
   "execution_count": 45,
   "id": "b8551764-4216-4cfe-8ae8-758c9d9de97a",
   "metadata": {},
   "outputs": [
    {
     "data": {
      "text/html": [
       "<div>\n",
       "<style scoped>\n",
       "    .dataframe tbody tr th:only-of-type {\n",
       "        vertical-align: middle;\n",
       "    }\n",
       "\n",
       "    .dataframe tbody tr th {\n",
       "        vertical-align: top;\n",
       "    }\n",
       "\n",
       "    .dataframe thead th {\n",
       "        text-align: right;\n",
       "    }\n",
       "</style>\n",
       "<table border=\"1\" class=\"dataframe\">\n",
       "  <thead>\n",
       "    <tr style=\"text-align: right;\">\n",
       "      <th></th>\n",
       "      <th>count</th>\n",
       "      <th>sum</th>\n",
       "      <th>mean</th>\n",
       "    </tr>\n",
       "    <tr>\n",
       "      <th>cryo_sleep</th>\n",
       "      <th></th>\n",
       "      <th></th>\n",
       "      <th></th>\n",
       "    </tr>\n",
       "  </thead>\n",
       "  <tbody>\n",
       "    <tr>\n",
       "      <th>False</th>\n",
       "      <td>4523</td>\n",
       "      <td>1521</td>\n",
       "      <td>0.336281</td>\n",
       "    </tr>\n",
       "    <tr>\n",
       "      <th>True</th>\n",
       "      <td>2431</td>\n",
       "      <td>1981</td>\n",
       "      <td>0.814891</td>\n",
       "    </tr>\n",
       "  </tbody>\n",
       "</table>\n",
       "</div>"
      ],
      "text/plain": [
       "            count   sum      mean\n",
       "cryo_sleep                       \n",
       "False        4523  1521  0.336281\n",
       "True         2431  1981  0.814891"
      ]
     },
     "metadata": {},
     "output_type": "display_data"
    },
    {
     "data": {
      "image/png": "[encoded data removed]",
      "text/plain": [
       "<Figure size 1080x504 with 1 Axes>"
      ]
     },
     "metadata": {
      "needs_background": "light"
     },
     "output_type": "display_data"
    }
   ],
   "source": [
    "home_planet_table = all_data.groupby(by=['cryo_sleep'])['transported'].agg(['count', 'sum', 'mean'])\n",
    "display(home_planet_table)\n",
    "home_planet_table['count'] = home_planet_table['count'] - home_planet_table['sum']\n",
    "home_planet_table = home_planet_table.rename(columns={\"count\": \"total\", \"sum\": \"transported\"})\n",
    "home_planet_table[['transported', 'total']].plot(kind='bar', stacked=True, legend=True, figsize=(15,7));"
   ]
  },
  {
   "cell_type": "markdown",
   "id": "495e5176-17b1-4f01-b130-65ba901e7a32",
   "metadata": {},
   "source": [
    "#### Дополнительный признак group_size"
   ]
  },
  {
   "cell_type": "code",
   "execution_count": 46,
   "id": "1de9e2f7-7c9f-413b-9c0d-8e127644303b",
   "metadata": {},
   "outputs": [],
   "source": [
    "group_group_id = list(all_data.query('number_in_group != \"01\" and number_in_group == number_in_group').group_id.unique())\n",
    "for index, row in all_data.iterrows():\n",
    "    group_id = row.group_id\n",
    "    if group_id in group_group_id:\n",
    "        all_data.loc[index, 'group_size'] = all_data.query('group_id == @group_id')['number_in_group'].max()\n",
    "    else:\n",
    "        all_data.loc[index, 'group_size'] = 1"
   ]
  },
  {
   "cell_type": "code",
   "execution_count": 47,
   "id": "74061e15-3e7c-4be5-b17e-92aaed28910f",
   "metadata": {},
   "outputs": [
    {
     "data": {
      "text/html": [
       "<div>\n",
       "<style scoped>\n",
       "    .dataframe tbody tr th:only-of-type {\n",
       "        vertical-align: middle;\n",
       "    }\n",
       "\n",
       "    .dataframe tbody tr th {\n",
       "        vertical-align: top;\n",
       "    }\n",
       "\n",
       "    .dataframe thead th {\n",
       "        text-align: right;\n",
       "    }\n",
       "</style>\n",
       "<table border=\"1\" class=\"dataframe\">\n",
       "  <thead>\n",
       "    <tr style=\"text-align: right;\">\n",
       "      <th></th>\n",
       "      <th>count</th>\n",
       "      <th>sum</th>\n",
       "      <th>mean</th>\n",
       "    </tr>\n",
       "    <tr>\n",
       "      <th>group_size</th>\n",
       "      <th></th>\n",
       "      <th></th>\n",
       "      <th></th>\n",
       "    </tr>\n",
       "  </thead>\n",
       "  <tbody>\n",
       "    <tr>\n",
       "      <th>1.0</th>\n",
       "      <td>3840</td>\n",
       "      <td>1735</td>\n",
       "      <td>0.451823</td>\n",
       "    </tr>\n",
       "    <tr>\n",
       "      <th>02</th>\n",
       "      <td>1367</td>\n",
       "      <td>734</td>\n",
       "      <td>0.536942</td>\n",
       "    </tr>\n",
       "    <tr>\n",
       "      <th>03</th>\n",
       "      <td>814</td>\n",
       "      <td>487</td>\n",
       "      <td>0.598280</td>\n",
       "    </tr>\n",
       "    <tr>\n",
       "      <th>04</th>\n",
       "      <td>317</td>\n",
       "      <td>197</td>\n",
       "      <td>0.621451</td>\n",
       "    </tr>\n",
       "    <tr>\n",
       "      <th>05</th>\n",
       "      <td>205</td>\n",
       "      <td>126</td>\n",
       "      <td>0.614634</td>\n",
       "    </tr>\n",
       "    <tr>\n",
       "      <th>06</th>\n",
       "      <td>143</td>\n",
       "      <td>88</td>\n",
       "      <td>0.615385</td>\n",
       "    </tr>\n",
       "    <tr>\n",
       "      <th>07</th>\n",
       "      <td>186</td>\n",
       "      <td>101</td>\n",
       "      <td>0.543011</td>\n",
       "    </tr>\n",
       "    <tr>\n",
       "      <th>08</th>\n",
       "      <td>82</td>\n",
       "      <td>34</td>\n",
       "      <td>0.414634</td>\n",
       "    </tr>\n",
       "  </tbody>\n",
       "</table>\n",
       "</div>"
      ],
      "text/plain": [
       "            count   sum      mean\n",
       "group_size                       \n",
       "1.0          3840  1735  0.451823\n",
       "02           1367   734  0.536942\n",
       "03            814   487  0.598280\n",
       "04            317   197  0.621451\n",
       "05            205   126  0.614634\n",
       "06            143    88  0.615385\n",
       "07            186   101  0.543011\n",
       "08             82    34  0.414634"
      ]
     },
     "metadata": {},
     "output_type": "display_data"
    },
    {
     "data": {
      "image/png": "[encoded data removed]",
      "text/plain": [
       "<Figure size 1080x504 with 1 Axes>"
      ]
     },
     "metadata": {
      "needs_background": "light"
     },
     "output_type": "display_data"
    }
   ],
   "source": [
    "home_planet_table = all_data.groupby(by=['group_size'])['transported'].agg(['count', 'sum', 'mean'])\n",
    "display(home_planet_table)\n",
    "home_planet_table['count'] = home_planet_table['count'] - home_planet_table['sum']\n",
    "home_planet_table = home_planet_table.rename(columns={\"count\": \"total\", \"sum\": \"transported\"})\n",
    "home_planet_table[['transported', 'total']].plot(kind='bar', stacked=True, legend=True, figsize=(15,7));"
   ]
  },
  {
   "cell_type": "markdown",
   "id": "f546fbb5-d557-478d-a3f6-3a02d256b7c5",
   "metadata": {},
   "source": [
    "#### Заполнение пропусков"
   ]
  },
  {
   "cell_type": "code",
   "execution_count": 48,
   "id": "3871be22-ca87-4e56-a5a5-f6983050b155",
   "metadata": {},
   "outputs": [
    {
     "data": {
      "text/plain": [
       "home_planet           0\n",
       "cryo_sleep            0\n",
       "destination           0\n",
       "age                   0\n",
       "vip                   0\n",
       "room_service        113\n",
       "food_court          113\n",
       "shopping_mall       112\n",
       "spa                 118\n",
       "vr_deck             126\n",
       "name                200\n",
       "transported        1739\n",
       "group_id              0\n",
       "number_in_group       0\n",
       "deck                  0\n",
       "number                0\n",
       "side                  0\n",
       "group_size            0\n",
       "dtype: int64"
      ]
     },
     "execution_count": 48,
     "metadata": {},
     "output_type": "execute_result"
    }
   ],
   "source": [
    "all_data.isna().sum()"
   ]
  },
  {
   "cell_type": "code",
   "execution_count": 49,
   "id": "0f8b5171-496c-400e-960c-a5d382adf87d",
   "metadata": {},
   "outputs": [],
   "source": [
    "all_data['name'] = all_data['name'].fillna('na')\n",
    "\n",
    "num_cols = ['shopping_mall','food_court','room_service','spa','vr_deck']\n",
    "cat_cols = ['cryo_sleep','deck','number','side','vip','home_planet','destination']\n",
    "\n",
    "num_imp = SimpleImputer(strategy='mean')\n",
    "cat_imp = SimpleImputer(strategy='most_frequent')\n",
    "\n",
    "all_data[num_cols] = pd.DataFrame(num_imp.fit_transform(all_data[num_cols]),columns=num_cols)\n",
    "all_data[cat_cols] = pd.DataFrame(cat_imp.fit_transform(all_data[cat_cols]),columns=cat_cols)"
   ]
  },
  {
   "cell_type": "code",
   "execution_count": 50,
   "id": "211da186-b464-48cf-b3dd-69ff02d1351d",
   "metadata": {},
   "outputs": [
    {
     "data": {
      "text/plain": [
       "home_planet           0\n",
       "cryo_sleep            0\n",
       "destination           0\n",
       "age                   0\n",
       "vip                   0\n",
       "room_service          0\n",
       "food_court            0\n",
       "shopping_mall         0\n",
       "spa                   0\n",
       "vr_deck               0\n",
       "name                  0\n",
       "transported        1739\n",
       "group_id              0\n",
       "number_in_group       0\n",
       "deck                  0\n",
       "number                0\n",
       "side                  0\n",
       "group_size            0\n",
       "dtype: int64"
      ]
     },
     "execution_count": 50,
     "metadata": {},
     "output_type": "execute_result"
    }
   ],
   "source": [
    "all_data.isna().sum()"
   ]
  },
  {
   "cell_type": "markdown",
   "id": "1ae33ff8-02d8-49fe-ac54-2943873021ea",
   "metadata": {},
   "source": [
    "#### Проверка на дубликаты"
   ]
  },
  {
   "cell_type": "code",
   "execution_count": 51,
   "id": "46206071-99d6-44db-a857-73519bd79b89",
   "metadata": {},
   "outputs": [
    {
     "data": {
      "text/plain": [
       "0"
      ]
     },
     "execution_count": 51,
     "metadata": {},
     "output_type": "execute_result"
    }
   ],
   "source": [
    "all_data.duplicated().sum()"
   ]
  },
  {
   "cell_type": "markdown",
   "id": "162317d0-42ff-4864-b9a3-1156b316ace7",
   "metadata": {},
   "source": [
    "#### Изменение типов данных"
   ]
  },
  {
   "cell_type": "code",
   "execution_count": 52,
   "id": "29a6ff28-401c-4b32-8b9a-4885bf701e37",
   "metadata": {},
   "outputs": [
    {
     "data": {
      "text/plain": [
       "home_planet         object\n",
       "cryo_sleep          object\n",
       "destination         object\n",
       "age                float64\n",
       "vip                 object\n",
       "room_service       float64\n",
       "food_court         float64\n",
       "shopping_mall      float64\n",
       "spa                float64\n",
       "vr_deck            float64\n",
       "name                object\n",
       "transported         object\n",
       "group_id            object\n",
       "number_in_group     object\n",
       "deck                object\n",
       "number              object\n",
       "side                object\n",
       "group_size          object\n",
       "dtype: object"
      ]
     },
     "execution_count": 52,
     "metadata": {},
     "output_type": "execute_result"
    }
   ],
   "source": [
    "all_data.dtypes"
   ]
  },
  {
   "cell_type": "code",
   "execution_count": 53,
   "id": "b9dee50e-63cd-4372-8f2d-512229a47401",
   "metadata": {},
   "outputs": [],
   "source": [
    "all_data['age'] = all_data['age'].astype('int')\n",
    "all_data['room_service'] = all_data['room_service'].astype('int')\n",
    "all_data['food_court'] = all_data['food_court'].astype('int')\n",
    "all_data['shopping_mall'] = all_data['shopping_mall'].astype('int')\n",
    "all_data['spa'] = all_data['spa'].astype('int')\n",
    "all_data['vr_deck'] = all_data['vr_deck'].astype('int')\n",
    "all_data['number_in_group'] = all_data['number_in_group'].astype('int')\n",
    "all_data['group_size'] = all_data['group_size'].astype('int')\n",
    "all_data['cryo_sleep'] = all_data['cryo_sleep'].astype('int')\n",
    "all_data['vip'] = all_data['vip'].astype('int')\n",
    "    \n",
    "all_data = all_data.drop('name', axis=1)\n",
    "all_data = all_data.drop('group_id', axis=1)\n",
    "all_data = all_data.drop('number', axis=1)"
   ]
  },
  {
   "cell_type": "code",
   "execution_count": 54,
   "id": "cf127a16-78fd-48a9-8b03-ae8b6e32f95e",
   "metadata": {},
   "outputs": [
    {
     "data": {
      "text/plain": [
       "home_planet        object\n",
       "cryo_sleep          int32\n",
       "destination        object\n",
       "age                 int32\n",
       "vip                 int32\n",
       "room_service        int32\n",
       "food_court          int32\n",
       "shopping_mall       int32\n",
       "spa                 int32\n",
       "vr_deck             int32\n",
       "transported        object\n",
       "number_in_group     int32\n",
       "deck               object\n",
       "side               object\n",
       "group_size          int32\n",
       "dtype: object"
      ]
     },
     "execution_count": 54,
     "metadata": {},
     "output_type": "execute_result"
    }
   ],
   "source": [
    "all_data.dtypes"
   ]
  },
  {
   "cell_type": "markdown",
   "id": "15afe3a6-2e11-4aaf-b154-9112decb195d",
   "metadata": {},
   "source": [
    "#### OHE"
   ]
  },
  {
   "cell_type": "code",
   "execution_count": 55,
   "id": "a6ea6e4e-1bee-4644-b91e-a8802f57b1a5",
   "metadata": {},
   "outputs": [],
   "source": [
    "columns_to_encode = ['home_planet', 'destination', 'deck', 'side', 'cryo_sleep', 'vip']\n",
    "preop_data_ohe = pd.get_dummies(data=all_data, columns = columns_to_encode, drop_first=True)"
   ]
  },
  {
   "cell_type": "markdown",
   "id": "3d0c98ce-c8a8-4098-8387-05845ca66d26",
   "metadata": {},
   "source": [
    "#### OE"
   ]
  },
  {
   "cell_type": "code",
   "execution_count": 56,
   "id": "49a3d529-6063-46cb-9a2d-ec066abc6ae0",
   "metadata": {},
   "outputs": [],
   "source": [
    "#from sklearn.preprocessing import OrdinalEncoder\n",
    "#enc = OrdinalEncoder()\n",
    "\n",
    "#for dataset in data_dict:\n",
    "#    preop_data_dict[dataset + '_oe'] = data_dict[dataset]\n",
    "#    for column in columns_to_encode:\n",
    "#        preop_data_dict[dataset + '_oe'][[column]] = enc.fit_transform(preop_data_dict[dataset + '_oe'][[column]])\n",
    "    "
   ]
  },
  {
   "cell_type": "markdown",
   "id": "199611a3-6373-415f-83f7-ea49c2c1500d",
   "metadata": {},
   "source": [
    "### Шаг 3. Разработка модели ML"
   ]
  },
  {
   "cell_type": "markdown",
   "id": "8c81e44e-4893-4fa2-9285-d7512a82d596",
   "metadata": {},
   "source": [
    "#### Матрица корреляции"
   ]
  },
  {
   "cell_type": "code",
   "execution_count": 57,
   "id": "89a5d326-23ab-4122-9dc9-1eff4c7e4f75",
   "metadata": {},
   "outputs": [
    {
     "data": {
      "image/png": "[encoded data removed]",
      "text/plain": [
       "<Figure size 1080x1080 with 2 Axes>"
      ]
     },
     "metadata": {
      "needs_background": "light"
     },
     "output_type": "display_data"
    }
   ],
   "source": [
    "#preop_data_dict['all_data_ohe'] = preop_data_dict['all_data_ohe'].astype('float')\n",
    "corr_matrix = preop_data_ohe.corr()\n",
    "\n",
    "mask = np.triu(np.ones_like(corr_matrix, dtype=np.bool_))\n",
    "\n",
    "f, ax = plt.subplots(figsize=(15, 15)) \n",
    "heatmap = sns.heatmap(round(corr_matrix, 2), \n",
    "                      mask = mask,\n",
    "                      square = True,\n",
    "                      linewidths = .5,\n",
    "                      cmap = 'coolwarm',\n",
    "                      cbar_kws = {'shrink': .4, \n",
    "                                'ticks' : [-1, -.5, 0, 0.5, 1]},\n",
    "                      vmin = -1, \n",
    "                      vmax = 1,\n",
    "                      annot = True,\n",
    "                      annot_kws = {'size': 10})\n",
    "\n",
    "ax.set_yticklabels(corr_matrix.columns, rotation = 0)\n",
    "ax.set_xticklabels(corr_matrix.columns)\n",
    "sns.set_style({'xtick.bottom': True}, {'ytick.left': True})"
   ]
  },
  {
   "cell_type": "code",
   "execution_count": 58,
   "id": "bc0e9850-1050-4792-b5e6-61bcea267743",
   "metadata": {},
   "outputs": [],
   "source": [
    "dtc = tree.DecisionTreeClassifier(random_state=12345)\n",
    "rfc = RandomForestClassifier(random_state=12345)\n",
    "gbc = GradientBoostingClassifier(random_state=12345)\n",
    "svm = SVC(random_state=12345)\n",
    "knn = KNeighborsClassifier(n_neighbors = 4)\n",
    "gnb = GaussianNB()\n",
    "abc = AdaBoostClassifier()\n",
    "lda = LinearDiscriminantAnalysis()\n",
    "xgb = XGBClassifier(random_state=12345)"
   ]
  },
  {
   "cell_type": "code",
   "execution_count": 59,
   "id": "0128a2de-af3b-4338-b151-e5b633e63b95",
   "metadata": {},
   "outputs": [],
   "source": [
    "train = preop_data_ohe[preop_data_ohe['transported'].notnull()].copy()\n",
    "test = preop_data_ohe[preop_data_ohe['transported'].isnull()].drop(\"transported\",axis=1)\n",
    "\n",
    "train.transported = train.transported.astype('int')\n",
    "\n",
    "target_train_ohe = train['transported']\n",
    "features_train_ohe = train.drop('transported', axis=1)\n",
    "features_test_ohe = test"
   ]
  },
  {
   "cell_type": "markdown",
   "id": "c9d4667e-e174-4c90-8a57-9a5b4517a0e5",
   "metadata": {},
   "source": [
    "#### StandardScaler"
   ]
  },
  {
   "cell_type": "code",
   "execution_count": 60,
   "id": "7a63d0c4-7005-4420-98a2-e4045076f3c1",
   "metadata": {},
   "outputs": [],
   "source": [
    "scaler = StandardScaler()\n",
    "columns_to_scale = ['age', 'room_service', 'food_court', 'shopping_mall', 'spa','vr_deck']\n",
    "\n",
    "features_train_ohe[columns_to_scale] = scaler.fit_transform(features_train_ohe[columns_to_scale])\n",
    "features_test_ohe[columns_to_scale] = scaler.fit_transform(features_test_ohe[columns_to_scale])"
   ]
  },
  {
   "cell_type": "markdown",
   "id": "33190ec0-2193-4d77-8823-09198ac43b31",
   "metadata": {},
   "source": [
    "#### Model score table"
   ]
  },
  {
   "cell_type": "code",
   "execution_count": 61,
   "id": "d33c7197-15f3-46db-9b71-91e85217a7ae",
   "metadata": {},
   "outputs": [],
   "source": [
    "model_score_dict = {}"
   ]
  },
  {
   "cell_type": "code",
   "execution_count": 62,
   "id": "a3dcc100-cdc3-4270-a858-591616d27234",
   "metadata": {},
   "outputs": [],
   "source": [
    "def first_score(model):\n",
    "    return_list = []\n",
    "    \n",
    "    pipe = Pipeline(steps=[('model', model)]) # Создаем пайплайн\n",
    "\n",
    "    # Задаем решетку параметров пайплайна\n",
    "    param_grid = {}\n",
    "\n",
    "    # Создаем нашу модель и передаем ей пайплайн, решетку параметров, также используем кросс-валидацию результата    \n",
    "    grid_search_cv = GridSearchCV(pipe, param_grid, cv=6, scoring='accuracy')\n",
    "\n",
    "    # Обучаем модель на тренировочной части выборки:\n",
    "    grid_search_cv.fit(features_train_ohe, target_train_ohe)\n",
    "\n",
    "    best_params_dtc = grid_search_cv.best_params_ # Лучшие параметры\n",
    "    best_dtc = grid_search_cv.best_estimator_ # Лучшая модель\n",
    "    best_dtc_score = grid_search_cv.best_score_ # Лучший результат\n",
    "    \n",
    "    if model == xgb:\n",
    "        return_list.append('XGBClassifier(random_state=12345)')\n",
    "    else:\n",
    "        return_list.append(model)\n",
    "    return_list.append(best_dtc_score)\n",
    "    \n",
    "    return return_list"
   ]
  },
  {
   "cell_type": "code",
   "execution_count": 63,
   "id": "a3022875-a71f-4574-9598-bf68bfd08aaf",
   "metadata": {},
   "outputs": [
    {
     "data": {
      "text/html": [
       "<div>\n",
       "<style scoped>\n",
       "    .dataframe tbody tr th:only-of-type {\n",
       "        vertical-align: middle;\n",
       "    }\n",
       "\n",
       "    .dataframe tbody tr th {\n",
       "        vertical-align: top;\n",
       "    }\n",
       "\n",
       "    .dataframe thead th {\n",
       "        text-align: right;\n",
       "    }\n",
       "</style>\n",
       "<table border=\"1\" class=\"dataframe\">\n",
       "  <thead>\n",
       "    <tr style=\"text-align: right;\">\n",
       "      <th></th>\n",
       "      <th>model_name</th>\n",
       "      <th>score</th>\n",
       "    </tr>\n",
       "  </thead>\n",
       "  <tbody>\n",
       "    <tr>\n",
       "      <th>2</th>\n",
       "      <td>GradientBoostingClassifier(random_state=12345)</td>\n",
       "      <td>0.794651</td>\n",
       "    </tr>\n",
       "    <tr>\n",
       "      <th>6</th>\n",
       "      <td>AdaBoostClassifier()</td>\n",
       "      <td>0.788467</td>\n",
       "    </tr>\n",
       "    <tr>\n",
       "      <th>3</th>\n",
       "      <td>SVC(random_state=12345)</td>\n",
       "      <td>0.785591</td>\n",
       "    </tr>\n",
       "    <tr>\n",
       "      <th>8</th>\n",
       "      <td>XGBClassifier(random_state=12345)</td>\n",
       "      <td>0.785447</td>\n",
       "    </tr>\n",
       "    <tr>\n",
       "      <th>1</th>\n",
       "      <td>RandomForestClassifier(random_state=12345)</td>\n",
       "      <td>0.779551</td>\n",
       "    </tr>\n",
       "    <tr>\n",
       "      <th>7</th>\n",
       "      <td>LinearDiscriminantAnalysis()</td>\n",
       "      <td>0.771067</td>\n",
       "    </tr>\n",
       "    <tr>\n",
       "      <th>4</th>\n",
       "      <td>KNeighborsClassifier(n_neighbors=4)</td>\n",
       "      <td>0.748921</td>\n",
       "    </tr>\n",
       "    <tr>\n",
       "      <th>0</th>\n",
       "      <td>DecisionTreeClassifier(random_state=12345)</td>\n",
       "      <td>0.724331</td>\n",
       "    </tr>\n",
       "    <tr>\n",
       "      <th>5</th>\n",
       "      <td>GaussianNB()</td>\n",
       "      <td>0.641789</td>\n",
       "    </tr>\n",
       "  </tbody>\n",
       "</table>\n",
       "</div>"
      ],
      "text/plain": [
       "                                       model_name     score\n",
       "2  GradientBoostingClassifier(random_state=12345)  0.794651\n",
       "6                            AdaBoostClassifier()  0.788467\n",
       "3                         SVC(random_state=12345)  0.785591\n",
       "8               XGBClassifier(random_state=12345)  0.785447\n",
       "1      RandomForestClassifier(random_state=12345)  0.779551\n",
       "7                    LinearDiscriminantAnalysis()  0.771067\n",
       "4             KNeighborsClassifier(n_neighbors=4)  0.748921\n",
       "0      DecisionTreeClassifier(random_state=12345)  0.724331\n",
       "5                                    GaussianNB()  0.641789"
      ]
     },
     "execution_count": 63,
     "metadata": {},
     "output_type": "execute_result"
    }
   ],
   "source": [
    "model_list = [dtc, rfc, gbc, svm, knn, gnb, abc, lda, xgb]\n",
    "\n",
    "for model in model_list:\n",
    "    \n",
    "    model_score_dict[first_score(model)[0]] = first_score(model)[1]\n",
    "    \n",
    "stat_table = pd.DataFrame(model_score_dict.items()).sort_values(by=1, ascending=False).rename(columns={0: 'model_name', 1: 'score'})\n",
    "stat_table"
   ]
  },
  {
   "cell_type": "code",
   "execution_count": 64,
   "id": "aaa79c61-38c6-41d9-b86e-d4e9924fc7ea",
   "metadata": {},
   "outputs": [
    {
     "name": "stderr",
     "output_type": "stream",
     "text": [
      "\u001b[32m[I 2022-12-27 01:21:01,383]\u001b[0m A new study created in memory with name: no-name-fca1b3d2-65d7-421b-a0ff-a5de17fb8376\u001b[0m\n"
     ]
    },
    {
     "name": "stdout",
     "output_type": "stream",
     "text": [
      "________________START__________________\n"
     ]
    },
    {
     "name": "stderr",
     "output_type": "stream",
     "text": [
      "\u001b[32m[I 2022-12-27 01:21:15,059]\u001b[0m Trial 0 finished with value: 0.7901926948518838 and parameters: {'loss': 'log_loss', 'criterion': 'friedman_mse', 'max_leaf_nodes': 7, 'max_features': 3, 'subsample': 0.5778479182406853, 'learning_rate': 0.09392960729437481, 'n_estimators': 1959, 'max_depth': 7}. Best is trial 0 with value: 0.7901926948518838.\u001b[0m\n"
     ]
    },
    {
     "name": "stdout",
     "output_type": "stream",
     "text": [
      "0.7901926948518838\n",
      "_________________FIIINISH_________________\n",
      "\n",
      "________________START__________________\n"
     ]
    },
    {
     "name": "stderr",
     "output_type": "stream",
     "text": [
      "\u001b[32m[I 2022-12-27 01:21:31,270]\u001b[0m Trial 1 finished with value: 0.7950819672131147 and parameters: {'loss': 'log_loss', 'criterion': 'friedman_mse', 'max_leaf_nodes': 6, 'max_features': 4, 'subsample': 0.34303196762647714, 'learning_rate': 0.05040121969740331, 'n_estimators': 2619, 'max_depth': 9}. Best is trial 1 with value: 0.7950819672131147.\u001b[0m\n"
     ]
    },
    {
     "name": "stdout",
     "output_type": "stream",
     "text": [
      "0.7950819672131147\n",
      "_________________FIIINISH_________________\n",
      "\n",
      "________________START__________________\n"
     ]
    },
    {
     "name": "stderr",
     "output_type": "stream",
     "text": [
      "\u001b[32m[I 2022-12-27 01:21:42,877]\u001b[0m Trial 2 finished with value: 0.7982456140350878 and parameters: {'loss': 'log_loss', 'criterion': 'squared_error', 'max_leaf_nodes': 3, 'max_features': 2, 'subsample': 0.3277270441232164, 'learning_rate': 0.10076023193946293, 'n_estimators': 2386, 'max_depth': 6}. Best is trial 2 with value: 0.7982456140350878.\u001b[0m\n"
     ]
    },
    {
     "name": "stdout",
     "output_type": "stream",
     "text": [
      "0.7982456140350878\n",
      "_________________FIIINISH_________________\n",
      "\n",
      "________________START__________________\n"
     ]
    },
    {
     "name": "stderr",
     "output_type": "stream",
     "text": [
      "\u001b[32m[I 2022-12-27 01:21:50,955]\u001b[0m Trial 3 finished with value: 0.7963761863675582 and parameters: {'loss': 'log_loss', 'criterion': 'squared_error', 'max_leaf_nodes': 4, 'max_features': 2, 'subsample': 0.3429901983980407, 'learning_rate': 0.16986786525273578, 'n_estimators': 1614, 'max_depth': 2}. Best is trial 2 with value: 0.7982456140350878.\u001b[0m\n"
     ]
    },
    {
     "name": "stdout",
     "output_type": "stream",
     "text": [
      "0.7963761863675582\n",
      "_________________FIIINISH_________________\n",
      "\n",
      "________________START__________________\n"
     ]
    },
    {
     "name": "stderr",
     "output_type": "stream",
     "text": [
      "\u001b[32m[I 2022-12-27 01:22:05,006]\u001b[0m Trial 4 finished with value: 0.7802703480011504 and parameters: {'loss': 'log_loss', 'criterion': 'friedman_mse', 'max_leaf_nodes': 7, 'max_features': 2, 'subsample': 0.5348948603853962, 'learning_rate': 0.19431038371551076, 'n_estimators': 2190, 'max_depth': 7}. Best is trial 2 with value: 0.7982456140350878.\u001b[0m\n"
     ]
    },
    {
     "name": "stdout",
     "output_type": "stream",
     "text": [
      "0.7802703480011504\n",
      "_________________FIIINISH_________________\n",
      "\n",
      "________________START__________________\n"
     ]
    },
    {
     "name": "stderr",
     "output_type": "stream",
     "text": [
      "\u001b[32m[I 2022-12-27 01:22:11,924]\u001b[0m Trial 5 finished with value: 0.8006902502157032 and parameters: {'loss': 'log_loss', 'criterion': 'squared_error', 'max_leaf_nodes': 10, 'max_features': 5, 'subsample': 0.5944058446060964, 'learning_rate': 0.01326318683595246, 'n_estimators': 794, 'max_depth': 4}. Best is trial 5 with value: 0.8006902502157032.\u001b[0m\n"
     ]
    },
    {
     "name": "stdout",
     "output_type": "stream",
     "text": [
      "0.8006902502157032\n",
      "_________________FIIINISH_________________\n",
      "\n",
      "________________START__________________\n"
     ]
    },
    {
     "name": "stderr",
     "output_type": "stream",
     "text": [
      "\u001b[32m[I 2022-12-27 01:22:20,419]\u001b[0m Trial 6 finished with value: 0.776675294794363 and parameters: {'loss': 'log_loss', 'criterion': 'squared_error', 'max_leaf_nodes': 9, 'max_features': 2, 'subsample': 0.22886656426598384, 'learning_rate': 0.12181324450626885, 'n_estimators': 1565, 'max_depth': 8}. Best is trial 5 with value: 0.8006902502157032.\u001b[0m\n"
     ]
    },
    {
     "name": "stdout",
     "output_type": "stream",
     "text": [
      "0.776675294794363\n",
      "_________________FIIINISH_________________\n",
      "\n",
      "________________START__________________\n"
     ]
    },
    {
     "name": "stderr",
     "output_type": "stream",
     "text": [
      "\u001b[32m[I 2022-12-27 01:22:22,931]\u001b[0m Trial 7 finished with value: 0.7958009778544722 and parameters: {'loss': 'log_loss', 'criterion': 'squared_error', 'max_leaf_nodes': 4, 'max_features': 4, 'subsample': 0.41808574478652444, 'learning_rate': 0.16928546952422943, 'n_estimators': 415, 'max_depth': 5}. Best is trial 5 with value: 0.8006902502157032.\u001b[0m\n"
     ]
    },
    {
     "name": "stdout",
     "output_type": "stream",
     "text": [
      "0.7958009778544722\n",
      "_________________FIIINISH_________________\n",
      "\n",
      "________________START__________________\n"
     ]
    },
    {
     "name": "stderr",
     "output_type": "stream",
     "text": [
      "\u001b[32m[I 2022-12-27 01:22:43,376]\u001b[0m Trial 8 finished with value: 0.7853034224906529 and parameters: {'loss': 'exponential', 'criterion': 'friedman_mse', 'max_leaf_nodes': 4, 'max_features': 10, 'subsample': 0.6549557839995496, 'learning_rate': 0.1870084907760464, 'n_estimators': 2363, 'max_depth': 3}. Best is trial 5 with value: 0.8006902502157032.\u001b[0m\n"
     ]
    },
    {
     "name": "stdout",
     "output_type": "stream",
     "text": [
      "0.7853034224906529\n",
      "_________________FIIINISH_________________\n",
      "\n",
      "________________START__________________\n"
     ]
    },
    {
     "name": "stderr",
     "output_type": "stream",
     "text": [
      "\u001b[32m[I 2022-12-27 01:23:04,404]\u001b[0m Trial 9 finished with value: 0.7965199884958297 and parameters: {'loss': 'exponential', 'criterion': 'squared_error', 'max_leaf_nodes': 10, 'max_features': 9, 'subsample': 0.9941004571966201, 'learning_rate': 0.027819816142646357, 'n_estimators': 1657, 'max_depth': 4}. Best is trial 5 with value: 0.8006902502157032.\u001b[0m\n"
     ]
    },
    {
     "name": "stdout",
     "output_type": "stream",
     "text": [
      "0.7965199884958297\n",
      "_________________FIIINISH_________________\n",
      "\n",
      "________________START__________________\n"
     ]
    },
    {
     "name": "stderr",
     "output_type": "stream",
     "text": [
      "\u001b[32m[I 2022-12-27 01:23:08,345]\u001b[0m Trial 10 finished with value: 0.7811331607707794 and parameters: {'loss': 'exponential', 'criterion': 'squared_error', 'max_leaf_nodes': 2, 'max_features': 5, 'subsample': 0.7619057273993193, 'learning_rate': 0.014354746041601973, 'n_estimators': 696, 'max_depth': 4}. Best is trial 5 with value: 0.8006902502157032.\u001b[0m\n"
     ]
    },
    {
     "name": "stdout",
     "output_type": "stream",
     "text": [
      "0.7811331607707794\n",
      "_________________FIIINISH_________________\n",
      "\n",
      "________________START__________________\n"
     ]
    },
    {
     "name": "stderr",
     "output_type": "stream",
     "text": [
      "\u001b[32m[I 2022-12-27 01:23:14,664]\u001b[0m Trial 11 finished with value: 0.7959447799827437 and parameters: {'loss': 'log_loss', 'criterion': 'squared_error', 'max_leaf_nodes': 3, 'max_features': 5, 'subsample': 0.8636204627461093, 'learning_rate': 0.07254991526040314, 'n_estimators': 953, 'max_depth': 6}. Best is trial 5 with value: 0.8006902502157032.\u001b[0m\n"
     ]
    },
    {
     "name": "stdout",
     "output_type": "stream",
     "text": [
      "0.7959447799827437\n",
      "_________________FIIINISH_________________\n",
      "\n",
      "________________START__________________\n"
     ]
    },
    {
     "name": "stderr",
     "output_type": "stream",
     "text": [
      "\u001b[32m[I 2022-12-27 01:23:40,595]\u001b[0m Trial 12 finished with value: 0.7768190969226344 and parameters: {'loss': 'log_loss', 'criterion': 'squared_error', 'max_leaf_nodes': 8, 'max_features': 8, 'subsample': 0.46186172878683207, 'learning_rate': 0.12429496337166346, 'n_estimators': 2941, 'max_depth': 6}. Best is trial 5 with value: 0.8006902502157032.\u001b[0m\n"
     ]
    },
    {
     "name": "stdout",
     "output_type": "stream",
     "text": [
      "0.7768190969226344\n",
      "_________________FIIINISH_________________\n",
      "\n",
      "________________START__________________\n"
     ]
    },
    {
     "name": "stderr",
     "output_type": "stream",
     "text": [
      "\u001b[32m[I 2022-12-27 01:23:50,612]\u001b[0m Trial 13 finished with value: 0.7959447799827437 and parameters: {'loss': 'log_loss', 'criterion': 'squared_error', 'max_leaf_nodes': 10, 'max_features': 6, 'subsample': 0.690330423584872, 'learning_rate': 0.07017405209071913, 'n_estimators': 1077, 'max_depth': 10}. Best is trial 5 with value: 0.8006902502157032.\u001b[0m\n"
     ]
    },
    {
     "name": "stdout",
     "output_type": "stream",
     "text": [
      "0.7959447799827437\n",
      "_________________FIIINISH_________________\n",
      "\n",
      "________________START__________________\n"
     ]
    },
    {
     "name": "stderr",
     "output_type": "stream",
     "text": [
      "\u001b[32m[I 2022-12-27 01:23:56,861]\u001b[0m Trial 14 finished with value: 0.7907679033649698 and parameters: {'loss': 'log_loss', 'criterion': 'squared_error', 'max_leaf_nodes': 5, 'max_features': 7, 'subsample': 0.2666658290629015, 'learning_rate': 0.13385733587175078, 'n_estimators': 1031, 'max_depth': 4}. Best is trial 5 with value: 0.8006902502157032.\u001b[0m\n"
     ]
    },
    {
     "name": "stdout",
     "output_type": "stream",
     "text": [
      "0.7907679033649698\n",
      "_________________FIIINISH_________________\n",
      "\n",
      "________________START__________________\n"
     ]
    },
    {
     "name": "stderr",
     "output_type": "stream",
     "text": [
      "\u001b[32m[I 2022-12-27 01:23:58,432]\u001b[0m Trial 15 finished with value: 0.7891860799539833 and parameters: {'loss': 'exponential', 'criterion': 'squared_error', 'max_leaf_nodes': 3, 'max_features': 5, 'subsample': 0.47732800569692235, 'learning_rate': 0.04309135935086458, 'n_estimators': 262, 'max_depth': 6}. Best is trial 5 with value: 0.8006902502157032.\u001b[0m\n"
     ]
    },
    {
     "name": "stdout",
     "output_type": "stream",
     "text": [
      "0.7891860799539833\n",
      "_________________FIIINISH_________________\n",
      "\n",
      "________________START__________________\n"
     ]
    },
    {
     "name": "stderr",
     "output_type": "stream",
     "text": [
      "\u001b[32m[I 2022-12-27 01:24:08,302]\u001b[0m Trial 16 finished with value: 0.7956571757262006 and parameters: {'loss': 'log_loss', 'criterion': 'squared_error', 'max_leaf_nodes': 3, 'max_features': 7, 'subsample': 0.8101101610341501, 'learning_rate': 0.09316865443071036, 'n_estimators': 1282, 'max_depth': 5}. Best is trial 5 with value: 0.8006902502157032.\u001b[0m\n"
     ]
    },
    {
     "name": "stdout",
     "output_type": "stream",
     "text": [
      "0.7956571757262006\n",
      "_________________FIIINISH_________________\n",
      "\n",
      "________________START__________________\n"
     ]
    },
    {
     "name": "stderr",
     "output_type": "stream",
     "text": [
      "\u001b[32m[I 2022-12-27 01:24:13,930]\u001b[0m Trial 17 finished with value: 0.779551337359793 and parameters: {'loss': 'log_loss', 'criterion': 'squared_error', 'max_leaf_nodes': 10, 'max_features': 10, 'subsample': 0.35719719638546915, 'learning_rate': 0.1412736382541569, 'n_estimators': 621, 'max_depth': 9}. Best is trial 5 with value: 0.8006902502157032.\u001b[0m\n"
     ]
    },
    {
     "name": "stdout",
     "output_type": "stream",
     "text": [
      "0.779551337359793\n",
      "_________________FIIINISH_________________\n",
      "\n",
      "________________START__________________\n"
     ]
    },
    {
     "name": "stderr",
     "output_type": "stream",
     "text": [
      "\u001b[32m[I 2022-12-27 01:24:33,446]\u001b[0m Trial 18 finished with value: 0.7883232671843544 and parameters: {'loss': 'exponential', 'criterion': 'friedman_mse', 'max_leaf_nodes': 2, 'max_features': 8, 'subsample': 0.6483401664463915, 'learning_rate': 0.0665251892452834, 'n_estimators': 2973, 'max_depth': 3}. Best is trial 5 with value: 0.8006902502157032.\u001b[0m\n"
     ]
    },
    {
     "name": "stdout",
     "output_type": "stream",
     "text": [
      "0.7883232671843544\n",
      "_________________FIIINISH_________________\n",
      "\n",
      "________________START__________________\n"
     ]
    },
    {
     "name": "stderr",
     "output_type": "stream",
     "text": [
      "\u001b[32m[I 2022-12-27 01:24:41,848]\u001b[0m Trial 19 finished with value: 0.7950819672131147 and parameters: {'loss': 'log_loss', 'criterion': 'squared_error', 'max_leaf_nodes': 8, 'max_features': 3, 'subsample': 0.20669076592242136, 'learning_rate': 0.012661534960410697, 'n_estimators': 1934, 'max_depth': 2}. Best is trial 5 with value: 0.8006902502157032.\u001b[0m\n"
     ]
    },
    {
     "name": "stdout",
     "output_type": "stream",
     "text": [
      "0.7950819672131147\n",
      "_________________FIIINISH_________________\n",
      "\n",
      "________________START__________________\n"
     ]
    },
    {
     "name": "stderr",
     "output_type": "stream",
     "text": [
      "\u001b[32m[I 2022-12-27 01:25:09,154]\u001b[0m Trial 20 finished with value: 0.7821397756686799 and parameters: {'loss': 'log_loss', 'criterion': 'squared_error', 'max_leaf_nodes': 9, 'max_features': 9, 'subsample': 0.924762451202291, 'learning_rate': 0.10591907936745563, 'n_estimators': 2481, 'max_depth': 8}. Best is trial 5 with value: 0.8006902502157032.\u001b[0m\n"
     ]
    },
    {
     "name": "stdout",
     "output_type": "stream",
     "text": [
      "0.7821397756686799\n",
      "_________________FIIINISH_________________\n",
      "\n",
      "________________START__________________\n"
     ]
    },
    {
     "name": "stderr",
     "output_type": "stream",
     "text": [
      "\u001b[32m[I 2022-12-27 01:25:29,680]\u001b[0m Trial 21 finished with value: 0.7981018119068161 and parameters: {'loss': 'exponential', 'criterion': 'squared_error', 'max_leaf_nodes': 10, 'max_features': 9, 'subsample': 0.7384980053964683, 'learning_rate': 0.029553944988060493, 'n_estimators': 1801, 'max_depth': 4}. Best is trial 5 with value: 0.8006902502157032.\u001b[0m\n"
     ]
    },
    {
     "name": "stdout",
     "output_type": "stream",
     "text": [
      "0.7981018119068161\n",
      "_________________FIIINISH_________________\n",
      "\n",
      "________________START__________________\n"
     ]
    },
    {
     "name": "stderr",
     "output_type": "stream",
     "text": [
      "\u001b[32m[I 2022-12-27 01:25:52,039]\u001b[0m Trial 22 finished with value: 0.7965199884958297 and parameters: {'loss': 'exponential', 'criterion': 'squared_error', 'max_leaf_nodes': 10, 'max_features': 9, 'subsample': 0.7367941408504839, 'learning_rate': 0.03383503197311158, 'n_estimators': 1978, 'max_depth': 4}. Best is trial 5 with value: 0.8006902502157032.\u001b[0m\n"
     ]
    },
    {
     "name": "stdout",
     "output_type": "stream",
     "text": [
      "0.7965199884958297\n",
      "_________________FIIINISH_________________\n",
      "\n",
      "________________START__________________\n"
     ]
    },
    {
     "name": "stderr",
     "output_type": "stream",
     "text": [
      "\u001b[32m[I 2022-12-27 01:26:03,248]\u001b[0m Trial 23 finished with value: 0.7955133735979292 and parameters: {'loss': 'exponential', 'criterion': 'squared_error', 'max_leaf_nodes': 10, 'max_features': 6, 'subsample': 0.5775176138620581, 'learning_rate': 0.04779599088719069, 'n_estimators': 1310, 'max_depth': 4}. Best is trial 5 with value: 0.8006902502157032.\u001b[0m\n"
     ]
    },
    {
     "name": "stdout",
     "output_type": "stream",
     "text": [
      "0.7955133735979292\n",
      "_________________FIIINISH_________________\n",
      "\n",
      "________________START__________________\n"
     ]
    },
    {
     "name": "stderr",
     "output_type": "stream",
     "text": [
      "\u001b[32m[I 2022-12-27 01:26:19,410]\u001b[0m Trial 24 finished with value: 0.8012654587287891 and parameters: {'loss': 'exponential', 'criterion': 'squared_error', 'max_leaf_nodes': 5, 'max_features': 5, 'subsample': 0.8136165491079167, 'learning_rate': 0.022723065275802715, 'n_estimators': 2188, 'max_depth': 10}. Best is trial 24 with value: 0.8012654587287891.\u001b[0m\n"
     ]
    },
    {
     "name": "stdout",
     "output_type": "stream",
     "text": [
      "0.8012654587287891\n",
      "_________________FIIINISH_________________\n",
      "\n",
      "________________START__________________\n"
     ]
    },
    {
     "name": "stderr",
     "output_type": "stream",
     "text": [
      "\u001b[32m[I 2022-12-27 01:26:39,171]\u001b[0m Trial 25 finished with value: 0.7992522289329882 and parameters: {'loss': 'exponential', 'criterion': 'squared_error', 'max_leaf_nodes': 5, 'max_features': 5, 'subsample': 0.8595796983048689, 'learning_rate': 0.01742607250117994, 'n_estimators': 2676, 'max_depth': 10}. Best is trial 24 with value: 0.8012654587287891.\u001b[0m\n"
     ]
    },
    {
     "name": "stdout",
     "output_type": "stream",
     "text": [
      "0.7992522289329882\n",
      "_________________FIIINISH_________________\n",
      "\n",
      "________________START__________________\n"
     ]
    },
    {
     "name": "stderr",
     "output_type": "stream",
     "text": [
      "\u001b[32m[I 2022-12-27 01:26:58,847]\u001b[0m Trial 26 finished with value: 0.8001150417026173 and parameters: {'loss': 'exponential', 'criterion': 'squared_error', 'max_leaf_nodes': 5, 'max_features': 5, 'subsample': 0.8395654622499223, 'learning_rate': 0.016703488875645392, 'n_estimators': 2653, 'max_depth': 10}. Best is trial 24 with value: 0.8012654587287891.\u001b[0m\n"
     ]
    },
    {
     "name": "stdout",
     "output_type": "stream",
     "text": [
      "0.8001150417026173\n",
      "_________________FIIINISH_________________\n",
      "\n",
      "________________START__________________\n"
     ]
    },
    {
     "name": "stderr",
     "output_type": "stream",
     "text": [
      "\u001b[32m[I 2022-12-27 01:26:59,862]\u001b[0m Trial 27 finished with value: 0.7916307161345988 and parameters: {'loss': 'exponential', 'criterion': 'friedman_mse', 'max_leaf_nodes': 5, 'max_features': 5, 'subsample': 0.9897228479478888, 'learning_rate': 0.05754194446070153, 'n_estimators': 113, 'max_depth': 10}. Best is trial 24 with value: 0.8012654587287891.\u001b[0m\n"
     ]
    },
    {
     "name": "stdout",
     "output_type": "stream",
     "text": [
      "0.7916307161345988\n",
      "_________________FIIINISH_________________\n",
      "\n",
      "________________START__________________\n"
     ]
    },
    {
     "name": "stderr",
     "output_type": "stream",
     "text": [
      "\u001b[32m[I 2022-12-27 01:27:15,607]\u001b[0m Trial 28 finished with value: 0.7963761863675582 and parameters: {'loss': 'exponential', 'criterion': 'squared_error', 'max_leaf_nodes': 5, 'max_features': 5, 'subsample': 0.8821734534699326, 'learning_rate': 0.034657769565118665, 'n_estimators': 2175, 'max_depth': 10}. Best is trial 24 with value: 0.8012654587287891.\u001b[0m\n"
     ]
    },
    {
     "name": "stdout",
     "output_type": "stream",
     "text": [
      "0.7963761863675582\n",
      "_________________FIIINISH_________________\n",
      "\n",
      "________________START__________________\n"
     ]
    },
    {
     "name": "stderr",
     "output_type": "stream",
     "text": [
      "\u001b[32m[I 2022-12-27 01:27:33,948]\u001b[0m Trial 29 finished with value: 0.7903364969801552 and parameters: {'loss': 'exponential', 'criterion': 'friedman_mse', 'max_leaf_nodes': 5, 'max_features': 5, 'subsample': 0.5877406367423312, 'learning_rate': 0.0838075673465319, 'n_estimators': 2711, 'max_depth': 10}. Best is trial 24 with value: 0.8012654587287891.\u001b[0m\n"
     ]
    },
    {
     "name": "stdout",
     "output_type": "stream",
     "text": [
      "0.7903364969801552\n",
      "_________________FIIINISH_________________\n",
      "\n",
      "________________START__________________\n"
     ]
    },
    {
     "name": "stderr",
     "output_type": "stream",
     "text": [
      "\u001b[32m[I 2022-12-27 01:27:46,907]\u001b[0m Trial 30 finished with value: 0.7993960310612596 and parameters: {'loss': 'exponential', 'criterion': 'squared_error', 'max_leaf_nodes': 6, 'max_features': 3, 'subsample': 0.7933818876369712, 'learning_rate': 0.02241233960444409, 'n_estimators': 2068, 'max_depth': 7}. Best is trial 24 with value: 0.8012654587287891.\u001b[0m\n"
     ]
    },
    {
     "name": "stdout",
     "output_type": "stream",
     "text": [
      "0.7993960310612596\n",
      "_________________FIIINISH_________________\n",
      "\n",
      "________________START__________________\n"
     ]
    },
    {
     "name": "stderr",
     "output_type": "stream",
     "text": [
      "\u001b[32m[I 2022-12-27 01:28:02,734]\u001b[0m Trial 31 finished with value: 0.800977854472246 and parameters: {'loss': 'exponential', 'criterion': 'squared_error', 'max_leaf_nodes': 6, 'max_features': 5, 'subsample': 0.7956166705976166, 'learning_rate': 0.02260853154650635, 'n_estimators': 2075, 'max_depth': 7}. Best is trial 24 with value: 0.8012654587287891.\u001b[0m\n"
     ]
    },
    {
     "name": "stdout",
     "output_type": "stream",
     "text": [
      "0.800977854472246\n",
      "_________________FIIINISH_________________\n",
      "\n",
      "________________START__________________\n"
     ]
    },
    {
     "name": "stderr",
     "output_type": "stream",
     "text": [
      "\u001b[32m[I 2022-12-27 01:28:20,198]\u001b[0m Trial 32 finished with value: 0.7999712395743456 and parameters: {'loss': 'exponential', 'criterion': 'squared_error', 'max_leaf_nodes': 6, 'max_features': 5, 'subsample': 0.6879352389188061, 'learning_rate': 0.010077493134829304, 'n_estimators': 2248, 'max_depth': 7}. Best is trial 24 with value: 0.8012654587287891.\u001b[0m\n"
     ]
    },
    {
     "name": "stdout",
     "output_type": "stream",
     "text": [
      "0.7999712395743456\n",
      "_________________FIIINISH_________________\n",
      "\n",
      "________________START__________________\n"
     ]
    },
    {
     "name": "stderr",
     "output_type": "stream",
     "text": [
      "\u001b[32m[I 2022-12-27 01:28:39,104]\u001b[0m Trial 33 finished with value: 0.7992522289329883 and parameters: {'loss': 'exponential', 'criterion': 'squared_error', 'max_leaf_nodes': 6, 'max_features': 5, 'subsample': 0.8054300755931542, 'learning_rate': 0.041719749320679525, 'n_estimators': 2529, 'max_depth': 7}. Best is trial 24 with value: 0.8012654587287891.\u001b[0m\n"
     ]
    },
    {
     "name": "stdout",
     "output_type": "stream",
     "text": [
      "0.7992522289329883\n",
      "_________________FIIINISH_________________\n",
      "\n",
      "________________START__________________\n"
     ]
    },
    {
     "name": "stderr",
     "output_type": "stream",
     "text": [
      "\u001b[32m[I 2022-12-27 01:28:52,910]\u001b[0m Trial 34 finished with value: 0.7991084268047167 and parameters: {'loss': 'exponential', 'criterion': 'squared_error', 'max_leaf_nodes': 7, 'max_features': 5, 'subsample': 0.9397365850183474, 'learning_rate': 0.05808228001330845, 'n_estimators': 1811, 'max_depth': 10}. Best is trial 24 with value: 0.8012654587287891.\u001b[0m\n"
     ]
    },
    {
     "name": "stdout",
     "output_type": "stream",
     "text": [
      "0.7991084268047167\n",
      "_________________FIIINISH_________________\n",
      "\n",
      "________________START__________________\n"
     ]
    },
    {
     "name": "stderr",
     "output_type": "stream",
     "text": [
      "\u001b[32m[I 2022-12-27 01:29:10,181]\u001b[0m Trial 35 finished with value: 0.7981018119068163 and parameters: {'loss': 'exponential', 'criterion': 'friedman_mse', 'max_leaf_nodes': 5, 'max_features': 4, 'subsample': 0.5385398465200506, 'learning_rate': 0.02941970836848875, 'n_estimators': 2795, 'max_depth': 9}. Best is trial 24 with value: 0.8012654587287891.\u001b[0m\n"
     ]
    },
    {
     "name": "stdout",
     "output_type": "stream",
     "text": [
      "0.7981018119068163\n",
      "_________________FIIINISH_________________\n",
      "\n",
      "________________START__________________\n"
     ]
    },
    {
     "name": "stderr",
     "output_type": "stream",
     "text": [
      "\u001b[32m[I 2022-12-27 01:29:20,765]\u001b[0m Trial 36 finished with value: 0.7991084268047167 and parameters: {'loss': 'exponential', 'criterion': 'squared_error', 'max_leaf_nodes': 6, 'max_features': 5, 'subsample': 0.8301879494411252, 'learning_rate': 0.055044274353104425, 'n_estimators': 1393, 'max_depth': 7}. Best is trial 24 with value: 0.8012654587287891.\u001b[0m\n"
     ]
    },
    {
     "name": "stdout",
     "output_type": "stream",
     "text": [
      "0.7991084268047167\n",
      "_________________FIIINISH_________________\n",
      "\n",
      "________________START__________________\n"
     ]
    },
    {
     "name": "stderr",
     "output_type": "stream",
     "text": [
      "\u001b[32m[I 2022-12-27 01:29:37,801]\u001b[0m Trial 37 finished with value: 0.7982456140350876 and parameters: {'loss': 'exponential', 'criterion': 'squared_error', 'max_leaf_nodes': 5, 'max_features': 5, 'subsample': 0.9263124067123841, 'learning_rate': 0.04143485370396659, 'n_estimators': 2367, 'max_depth': 10}. Best is trial 24 with value: 0.8012654587287891.\u001b[0m\n"
     ]
    },
    {
     "name": "stdout",
     "output_type": "stream",
     "text": [
      "0.7982456140350876\n",
      "_________________FIIINISH_________________\n",
      "\n",
      "________________START__________________\n"
     ]
    },
    {
     "name": "stderr",
     "output_type": "stream",
     "text": [
      "\u001b[32m[I 2022-12-27 01:29:48,152]\u001b[0m Trial 38 finished with value: 0.7975266033937304 and parameters: {'loss': 'exponential', 'criterion': 'squared_error', 'max_leaf_nodes': 7, 'max_features': 2, 'subsample': 0.6375797175506396, 'learning_rate': 0.022058867641977124, 'n_estimators': 2145, 'max_depth': 2}. Best is trial 24 with value: 0.8012654587287891.\u001b[0m\n"
     ]
    },
    {
     "name": "stdout",
     "output_type": "stream",
     "text": [
      "0.7975266033937304\n",
      "_________________FIIINISH_________________\n",
      "\n",
      "________________START__________________\n"
     ]
    },
    {
     "name": "stderr",
     "output_type": "stream",
     "text": [
      "\u001b[32m[I 2022-12-27 01:30:02,034]\u001b[0m Trial 39 finished with value: 0.8008340523439746 and parameters: {'loss': 'exponential', 'criterion': 'friedman_mse', 'max_leaf_nodes': 9, 'max_features': 4, 'subsample': 0.7062067071404039, 'learning_rate': 0.01021946709871074, 'n_estimators': 1733, 'max_depth': 8}. Best is trial 24 with value: 0.8012654587287891.\u001b[0m\n"
     ]
    },
    {
     "name": "stdout",
     "output_type": "stream",
     "text": [
      "0.8008340523439746\n",
      "_________________FIIINISH_________________\n",
      "\n",
      "________________START__________________\n"
     ]
    },
    {
     "name": "stderr",
     "output_type": "stream",
     "text": [
      "\u001b[32m[I 2022-12-27 01:30:15,375]\u001b[0m Trial 40 finished with value: 0.7965199884958297 and parameters: {'loss': 'log_loss', 'criterion': 'friedman_mse', 'max_leaf_nodes': 9, 'max_features': 4, 'subsample': 0.7128981739170998, 'learning_rate': 0.03613804137397107, 'n_estimators': 1700, 'max_depth': 8}. Best is trial 24 with value: 0.8012654587287891.\u001b[0m\n"
     ]
    },
    {
     "name": "stdout",
     "output_type": "stream",
     "text": [
      "0.7965199884958297\n",
      "_________________FIIINISH_________________\n",
      "\n",
      "________________START__________________\n"
     ]
    },
    {
     "name": "stderr",
     "output_type": "stream",
     "text": [
      "\u001b[32m[I 2022-12-27 01:30:27,010]\u001b[0m Trial 41 finished with value: 0.8004026459591601 and parameters: {'loss': 'exponential', 'criterion': 'friedman_mse', 'max_leaf_nodes': 9, 'max_features': 4, 'subsample': 0.7651902455650733, 'learning_rate': 0.02223257754436976, 'n_estimators': 1499, 'max_depth': 8}. Best is trial 24 with value: 0.8012654587287891.\u001b[0m\n"
     ]
    },
    {
     "name": "stdout",
     "output_type": "stream",
     "text": [
      "0.8004026459591601\n",
      "_________________FIIINISH_________________\n",
      "\n",
      "________________START__________________\n"
     ]
    },
    {
     "name": "stderr",
     "output_type": "stream",
     "text": [
      "\u001b[32m[I 2022-12-27 01:30:38,348]\u001b[0m Trial 42 finished with value: 0.8014092608570605 and parameters: {'loss': 'exponential', 'criterion': 'friedman_mse', 'max_leaf_nodes': 9, 'max_features': 4, 'subsample': 0.7659794280011727, 'learning_rate': 0.023034066939283254, 'n_estimators': 1458, 'max_depth': 8}. Best is trial 42 with value: 0.8014092608570605.\u001b[0m\n"
     ]
    },
    {
     "name": "stdout",
     "output_type": "stream",
     "text": [
      "0.8014092608570605\n",
      "_________________FIIINISH_________________\n",
      "\n",
      "________________START__________________\n"
     ]
    },
    {
     "name": "stderr",
     "output_type": "stream",
     "text": [
      "\u001b[32m[I 2022-12-27 01:30:52,334]\u001b[0m Trial 43 finished with value: 0.7972389991371872 and parameters: {'loss': 'exponential', 'criterion': 'friedman_mse', 'max_leaf_nodes': 9, 'max_features': 4, 'subsample': 0.6774062580894776, 'learning_rate': 0.027177620760023995, 'n_estimators': 1874, 'max_depth': 8}. Best is trial 42 with value: 0.8014092608570605.\u001b[0m\n"
     ]
    },
    {
     "name": "stdout",
     "output_type": "stream",
     "text": [
      "0.7972389991371872\n",
      "_________________FIIINISH_________________\n",
      "\n",
      "________________START__________________\n"
     ]
    },
    {
     "name": "stderr",
     "output_type": "stream",
     "text": [
      "\u001b[32m[I 2022-12-27 01:30:58,687]\u001b[0m Trial 44 finished with value: 0.7981018119068161 and parameters: {'loss': 'exponential', 'criterion': 'friedman_mse', 'max_leaf_nodes': 9, 'max_features': 4, 'subsample': 0.7719063407826839, 'learning_rate': 0.010080413768898181, 'n_estimators': 722, 'max_depth': 8}. Best is trial 42 with value: 0.8014092608570605.\u001b[0m\n"
     ]
    },
    {
     "name": "stdout",
     "output_type": "stream",
     "text": [
      "0.7981018119068161\n",
      "_________________FIIINISH_________________\n",
      "\n",
      "________________START__________________\n"
     ]
    },
    {
     "name": "stderr",
     "output_type": "stream",
     "text": [
      "\u001b[32m[I 2022-12-27 01:31:03,972]\u001b[0m Trial 45 finished with value: 0.7966637906241013 and parameters: {'loss': 'exponential', 'criterion': 'friedman_mse', 'max_leaf_nodes': 4, 'max_features': 4, 'subsample': 0.6306638299230312, 'learning_rate': 0.04990657794511981, 'n_estimators': 851, 'max_depth': 8}. Best is trial 42 with value: 0.8014092608570605.\u001b[0m\n"
     ]
    },
    {
     "name": "stdout",
     "output_type": "stream",
     "text": [
      "0.7966637906241013\n",
      "_________________FIIINISH_________________\n",
      "\n",
      "________________START__________________\n"
     ]
    },
    {
     "name": "stderr",
     "output_type": "stream",
     "text": [
      "\u001b[32m[I 2022-12-27 01:31:07,812]\u001b[0m Trial 46 finished with value: 0.7883232671843544 and parameters: {'loss': 'log_loss', 'criterion': 'friedman_mse', 'max_leaf_nodes': 9, 'max_features': 4, 'subsample': 0.5470688349320411, 'learning_rate': 0.15324652748115397, 'n_estimators': 501, 'max_depth': 5}. Best is trial 42 with value: 0.8014092608570605.\u001b[0m\n"
     ]
    },
    {
     "name": "stdout",
     "output_type": "stream",
     "text": [
      "0.7883232671843544\n",
      "_________________FIIINISH_________________\n",
      "\n",
      "________________START__________________\n"
     ]
    },
    {
     "name": "stderr",
     "output_type": "stream",
     "text": [
      "\u001b[32m[I 2022-12-27 01:31:16,814]\u001b[0m Trial 47 finished with value: 0.7906241012366982 and parameters: {'loss': 'exponential', 'criterion': 'friedman_mse', 'max_leaf_nodes': 2, 'max_features': 10, 'subsample': 0.718888789273677, 'learning_rate': 0.02000811952998453, 'n_estimators': 1194, 'max_depth': 3}. Best is trial 42 with value: 0.8014092608570605.\u001b[0m\n"
     ]
    },
    {
     "name": "stdout",
     "output_type": "stream",
     "text": [
      "0.7906241012366982\n",
      "_________________FIIINISH_________________\n",
      "\n",
      "________________START__________________\n"
     ]
    },
    {
     "name": "stderr",
     "output_type": "stream",
     "text": [
      "\u001b[32m[I 2022-12-27 01:31:30,359]\u001b[0m Trial 48 finished with value: 0.7953695714696578 and parameters: {'loss': 'log_loss', 'criterion': 'friedman_mse', 'max_leaf_nodes': 8, 'max_features': 8, 'subsample': 0.4858828432170702, 'learning_rate': 0.0386027208128414, 'n_estimators': 1500, 'max_depth': 8}. Best is trial 42 with value: 0.8014092608570605.\u001b[0m\n"
     ]
    },
    {
     "name": "stdout",
     "output_type": "stream",
     "text": [
      "0.7953695714696578\n",
      "_________________FIIINISH_________________\n",
      "\n",
      "________________START__________________\n"
     ]
    },
    {
     "name": "stderr",
     "output_type": "stream",
     "text": [
      "\u001b[32m[I 2022-12-27 01:31:47,008]\u001b[0m Trial 49 finished with value: 0.7920621225194133 and parameters: {'loss': 'exponential', 'criterion': 'friedman_mse', 'max_leaf_nodes': 9, 'max_features': 7, 'subsample': 0.8844851404473283, 'learning_rate': 0.06329707021842546, 'n_estimators': 1738, 'max_depth': 7}. Best is trial 42 with value: 0.8014092608570605.\u001b[0m\n"
     ]
    },
    {
     "name": "stdout",
     "output_type": "stream",
     "text": [
      "0.7920621225194133\n",
      "_________________FIIINISH_________________\n",
      "\n",
      "________________START__________________\n"
     ]
    },
    {
     "name": "stderr",
     "output_type": "stream",
     "text": [
      "\u001b[32m[I 2022-12-27 01:32:03,390]\u001b[0m Trial 50 finished with value: 0.7979580097785447 and parameters: {'loss': 'log_loss', 'criterion': 'friedman_mse', 'max_leaf_nodes': 6, 'max_features': 4, 'subsample': 0.6096028625840866, 'learning_rate': 0.024633484211041383, 'n_estimators': 2314, 'max_depth': 9}. Best is trial 42 with value: 0.8014092608570605.\u001b[0m\n"
     ]
    },
    {
     "name": "stdout",
     "output_type": "stream",
     "text": [
      "0.7979580097785447\n",
      "_________________FIIINISH_________________\n",
      "\n",
      "________________START__________________\n"
     ]
    },
    {
     "name": "stderr",
     "output_type": "stream",
     "text": [
      "\u001b[32m[I 2022-12-27 01:32:15,426]\u001b[0m Trial 51 finished with value: 0.7993960310612597 and parameters: {'loss': 'exponential', 'criterion': 'friedman_mse', 'max_leaf_nodes': 9, 'max_features': 4, 'subsample': 0.7624328746598896, 'learning_rate': 0.01898117683646612, 'n_estimators': 1531, 'max_depth': 8}. Best is trial 42 with value: 0.8014092608570605.\u001b[0m\n"
     ]
    },
    {
     "name": "stdout",
     "output_type": "stream",
     "text": [
      "0.7993960310612597\n",
      "_________________FIIINISH_________________\n",
      "\n",
      "________________START__________________\n"
     ]
    },
    {
     "name": "stderr",
     "output_type": "stream",
     "text": [
      "\u001b[32m[I 2022-12-27 01:32:26,419]\u001b[0m Trial 52 finished with value: 0.7998274374460742 and parameters: {'loss': 'exponential', 'criterion': 'friedman_mse', 'max_leaf_nodes': 9, 'max_features': 4, 'subsample': 0.7799822675710795, 'learning_rate': 0.03110312909740514, 'n_estimators': 1427, 'max_depth': 8}. Best is trial 42 with value: 0.8014092608570605.\u001b[0m\n"
     ]
    },
    {
     "name": "stdout",
     "output_type": "stream",
     "text": [
      "0.7998274374460742\n",
      "_________________FIIINISH_________________\n",
      "\n",
      "________________START__________________\n"
     ]
    },
    {
     "name": "stderr",
     "output_type": "stream",
     "text": [
      "\u001b[32m[I 2022-12-27 01:32:40,254]\u001b[0m Trial 53 finished with value: 0.7950819672131146 and parameters: {'loss': 'exponential', 'criterion': 'friedman_mse', 'max_leaf_nodes': 9, 'max_features': 6, 'subsample': 0.6739934296496521, 'learning_rate': 0.07862762956730701, 'n_estimators': 1613, 'max_depth': 8}. Best is trial 42 with value: 0.8014092608570605.\u001b[0m\n"
     ]
    },
    {
     "name": "stdout",
     "output_type": "stream",
     "text": [
      "0.7950819672131146\n",
      "_________________FIIINISH_________________\n",
      "\n",
      "________________START__________________\n"
     ]
    },
    {
     "name": "stderr",
     "output_type": "stream",
     "text": [
      "\u001b[32m[I 2022-12-27 01:32:52,542]\u001b[0m Trial 54 finished with value: 0.7985332182916306 and parameters: {'loss': 'exponential', 'criterion': 'friedman_mse', 'max_leaf_nodes': 9, 'max_features': 2, 'subsample': 0.7320499347024163, 'learning_rate': 0.0457911950652226, 'n_estimators': 2033, 'max_depth': 6}. Best is trial 42 with value: 0.8014092608570605.\u001b[0m\n"
     ]
    },
    {
     "name": "stdout",
     "output_type": "stream",
     "text": [
      "0.7985332182916306\n",
      "_________________FIIINISH_________________\n",
      "\n",
      "________________START__________________\n"
     ]
    },
    {
     "name": "stderr",
     "output_type": "stream",
     "text": [
      "\u001b[32m[I 2022-12-27 01:32:58,055]\u001b[0m Trial 55 finished with value: 0.7923497267759564 and parameters: {'loss': 'exponential', 'criterion': 'friedman_mse', 'max_leaf_nodes': 4, 'max_features': 3, 'subsample': 0.8347609055330101, 'learning_rate': 0.011035542107301143, 'n_estimators': 894, 'max_depth': 8}. Best is trial 42 with value: 0.8014092608570605.\u001b[0m\n"
     ]
    },
    {
     "name": "stdout",
     "output_type": "stream",
     "text": [
      "0.7923497267759564\n",
      "_________________FIIINISH_________________\n",
      "\n",
      "________________START__________________\n"
     ]
    },
    {
     "name": "stderr",
     "output_type": "stream",
     "text": [
      "\u001b[32m[I 2022-12-27 01:33:08,259]\u001b[0m Trial 56 finished with value: 0.7963761863675582 and parameters: {'loss': 'log_loss', 'criterion': 'friedman_mse', 'max_leaf_nodes': 3, 'max_features': 4, 'subsample': 0.7099380751561128, 'learning_rate': 0.02543630493063374, 'n_estimators': 1653, 'max_depth': 4}. Best is trial 42 with value: 0.8014092608570605.\u001b[0m\n"
     ]
    },
    {
     "name": "stdout",
     "output_type": "stream",
     "text": [
      "0.7963761863675582\n",
      "_________________FIIINISH_________________\n",
      "\n",
      "________________START__________________\n"
     ]
    },
    {
     "name": "stderr",
     "output_type": "stream",
     "text": [
      "\u001b[32m[I 2022-12-27 01:33:17,667]\u001b[0m Trial 57 finished with value: 0.7973828012654587 and parameters: {'loss': 'exponential', 'criterion': 'squared_error', 'max_leaf_nodes': 10, 'max_features': 10, 'subsample': 0.7599487168625768, 'learning_rate': 0.017214963799915294, 'n_estimators': 1158, 'max_depth': 2}. Best is trial 42 with value: 0.8014092608570605.\u001b[0m\n"
     ]
    },
    {
     "name": "stdout",
     "output_type": "stream",
     "text": [
      "0.7973828012654587\n",
      "_________________FIIINISH_________________\n",
      "\n",
      "________________START__________________\n"
     ]
    },
    {
     "name": "stderr",
     "output_type": "stream",
     "text": [
      "\u001b[32m[I 2022-12-27 01:33:30,108]\u001b[0m Trial 58 finished with value: 0.7881794650560828 and parameters: {'loss': 'exponential', 'criterion': 'friedman_mse', 'max_leaf_nodes': 2, 'max_features': 7, 'subsample': 0.8118899146481038, 'learning_rate': 0.11601130615089213, 'n_estimators': 1910, 'max_depth': 5}. Best is trial 42 with value: 0.8014092608570605.\u001b[0m\n"
     ]
    },
    {
     "name": "stdout",
     "output_type": "stream",
     "text": [
      "0.7881794650560828\n",
      "_________________FIIINISH_________________\n",
      "\n",
      "________________START__________________\n"
     ]
    },
    {
     "name": "stderr",
     "output_type": "stream",
     "text": [
      "\u001b[32m[I 2022-12-27 01:33:48,546]\u001b[0m Trial 59 finished with value: 0.7848720161058385 and parameters: {'loss': 'log_loss', 'criterion': 'squared_error', 'max_leaf_nodes': 9, 'max_features': 8, 'subsample': 0.8879350891414944, 'learning_rate': 0.18379851301421657, 'n_estimators': 1803, 'max_depth': 3}. Best is trial 42 with value: 0.8014092608570605.\u001b[0m\n"
     ]
    },
    {
     "name": "stdout",
     "output_type": "stream",
     "text": [
      "0.7848720161058385\n",
      "_________________FIIINISH_________________\n",
      "\n",
      "________________START__________________\n"
     ]
    },
    {
     "name": "stderr",
     "output_type": "stream",
     "text": [
      "\u001b[32m[I 2022-12-27 01:34:07,105]\u001b[0m Trial 60 finished with value: 0.7981018119068163 and parameters: {'loss': 'exponential', 'criterion': 'squared_error', 'max_leaf_nodes': 10, 'max_features': 4, 'subsample': 0.6171835619749175, 'learning_rate': 0.033334319061082446, 'n_estimators': 2470, 'max_depth': 4}. Best is trial 42 with value: 0.8014092608570605.\u001b[0m\n"
     ]
    },
    {
     "name": "stdout",
     "output_type": "stream",
     "text": [
      "0.7981018119068163\n",
      "_________________FIIINISH_________________\n",
      "\n",
      "________________START__________________\n"
     ]
    },
    {
     "name": "stderr",
     "output_type": "stream",
     "text": [
      "\u001b[32m[I 2022-12-27 01:34:22,874]\u001b[0m Trial 61 finished with value: 0.7992522289329881 and parameters: {'loss': 'exponential', 'criterion': 'squared_error', 'max_leaf_nodes': 5, 'max_features': 5, 'subsample': 0.8454946763715773, 'learning_rate': 0.01606524519639977, 'n_estimators': 2079, 'max_depth': 10}. Best is trial 42 with value: 0.8014092608570605.\u001b[0m\n"
     ]
    },
    {
     "name": "stdout",
     "output_type": "stream",
     "text": [
      "0.7992522289329881\n",
      "_________________FIIINISH_________________\n",
      "\n",
      "________________START__________________\n"
     ]
    },
    {
     "name": "stderr",
     "output_type": "stream",
     "text": [
      "\u001b[32m[I 2022-12-27 01:34:32,952]\u001b[0m Trial 62 finished with value: 0.7988208225481737 and parameters: {'loss': 'exponential', 'criterion': 'squared_error', 'max_leaf_nodes': 5, 'max_features': 5, 'subsample': 0.7481724030779102, 'learning_rate': 0.023619535166956456, 'n_estimators': 1365, 'max_depth': 10}. Best is trial 42 with value: 0.8014092608570605.\u001b[0m\n"
     ]
    },
    {
     "name": "stdout",
     "output_type": "stream",
     "text": [
      "0.7988208225481737\n",
      "_________________FIIINISH_________________\n",
      "\n",
      "________________START__________________\n"
     ]
    },
    {
     "name": "stderr",
     "output_type": "stream",
     "text": [
      "\u001b[32m[I 2022-12-27 01:34:55,642]\u001b[0m Trial 63 finished with value: 0.7986770204199022 and parameters: {'loss': 'exponential', 'criterion': 'squared_error', 'max_leaf_nodes': 8, 'max_features': 5, 'subsample': 0.817682256669616, 'learning_rate': 0.016981179957961372, 'n_estimators': 2767, 'max_depth': 8}. Best is trial 42 with value: 0.8014092608570605.\u001b[0m\n"
     ]
    },
    {
     "name": "stdout",
     "output_type": "stream",
     "text": [
      "0.7986770204199022\n",
      "_________________FIIINISH_________________\n",
      "\n",
      "________________START__________________\n"
     ]
    },
    {
     "name": "stderr",
     "output_type": "stream",
     "text": [
      "\u001b[32m[I 2022-12-27 01:35:16,996]\u001b[0m Trial 64 finished with value: 0.7975266033937302 and parameters: {'loss': 'exponential', 'criterion': 'squared_error', 'max_leaf_nodes': 6, 'max_features': 5, 'subsample': 0.911331905982087, 'learning_rate': 0.03686867402061002, 'n_estimators': 2860, 'max_depth': 10}. Best is trial 42 with value: 0.8014092608570605.\u001b[0m\n"
     ]
    },
    {
     "name": "stdout",
     "output_type": "stream",
     "text": [
      "0.7975266033937302\n",
      "_________________FIIINISH_________________\n",
      "\n",
      "________________START__________________\n"
     ]
    },
    {
     "name": "stderr",
     "output_type": "stream",
     "text": [
      "\u001b[32m[I 2022-12-27 01:35:27,942]\u001b[0m Trial 65 finished with value: 0.8015530629853321 and parameters: {'loss': 'exponential', 'criterion': 'squared_error', 'max_leaf_nodes': 7, 'max_features': 6, 'subsample': 0.7908940811296767, 'learning_rate': 0.02845453908682377, 'n_estimators': 1247, 'max_depth': 7}. Best is trial 65 with value: 0.8015530629853321.\u001b[0m\n"
     ]
    },
    {
     "name": "stdout",
     "output_type": "stream",
     "text": [
      "0.8015530629853321\n",
      "_________________FIIINISH_________________\n",
      "\n",
      "________________START__________________\n"
     ]
    },
    {
     "name": "stderr",
     "output_type": "stream",
     "text": [
      "\u001b[32m[I 2022-12-27 01:35:41,057]\u001b[0m Trial 66 finished with value: 0.7985332182916306 and parameters: {'loss': 'exponential', 'criterion': 'squared_error', 'max_leaf_nodes': 7, 'max_features': 9, 'subsample': 0.7896338892963473, 'learning_rate': 0.029144273589232685, 'n_estimators': 1210, 'max_depth': 7}. Best is trial 65 with value: 0.8015530629853321.\u001b[0m\n"
     ]
    },
    {
     "name": "stdout",
     "output_type": "stream",
     "text": [
      "0.7985332182916306\n",
      "_________________FIIINISH_________________\n",
      "\n",
      "________________START__________________\n"
     ]
    },
    {
     "name": "stderr",
     "output_type": "stream",
     "text": [
      "\u001b[32m[I 2022-12-27 01:35:50,467]\u001b[0m Trial 67 finished with value: 0.7963761863675582 and parameters: {'loss': 'exponential', 'criterion': 'squared_error', 'max_leaf_nodes': 10, 'max_features': 6, 'subsample': 0.574361101777249, 'learning_rate': 0.05134652928265726, 'n_estimators': 1099, 'max_depth': 7}. Best is trial 65 with value: 0.8015530629853321.\u001b[0m\n"
     ]
    },
    {
     "name": "stdout",
     "output_type": "stream",
     "text": [
      "0.7963761863675582\n",
      "_________________FIIINISH_________________\n",
      "\n",
      "________________START__________________\n"
     ]
    },
    {
     "name": "stderr",
     "output_type": "stream",
     "text": [
      "\u001b[32m[I 2022-12-27 01:35:59,695]\u001b[0m Trial 68 finished with value: 0.7996836353178027 and parameters: {'loss': 'log_loss', 'criterion': 'friedman_mse', 'max_leaf_nodes': 7, 'max_features': 6, 'subsample': 0.8613021633173978, 'learning_rate': 0.04380211204779649, 'n_estimators': 1021, 'max_depth': 7}. Best is trial 65 with value: 0.8015530629853321.\u001b[0m\n"
     ]
    },
    {
     "name": "stdout",
     "output_type": "stream",
     "text": [
      "0.7996836353178027\n",
      "_________________FIIINISH_________________\n",
      "\n",
      "________________START__________________\n"
     ]
    },
    {
     "name": "stderr",
     "output_type": "stream",
     "text": [
      "\u001b[32m[I 2022-12-27 01:36:12,048]\u001b[0m Trial 69 finished with value: 0.8006902502157032 and parameters: {'loss': 'exponential', 'criterion': 'squared_error', 'max_leaf_nodes': 7, 'max_features': 6, 'subsample': 0.6619552001429673, 'learning_rate': 0.013899009975348844, 'n_estimators': 1469, 'max_depth': 4}. Best is trial 65 with value: 0.8015530629853321.\u001b[0m\n"
     ]
    },
    {
     "name": "stdout",
     "output_type": "stream",
     "text": [
      "0.8006902502157032\n",
      "_________________FIIINISH_________________\n",
      "\n",
      "________________START__________________\n"
     ]
    },
    {
     "name": "stderr",
     "output_type": "stream",
     "text": [
      "\u001b[32m[I 2022-12-27 01:36:23,100]\u001b[0m Trial 70 finished with value: 0.8021282714984183 and parameters: {'loss': 'exponential', 'criterion': 'squared_error', 'max_leaf_nodes': 7, 'max_features': 6, 'subsample': 0.6577401596608407, 'learning_rate': 0.012922371172788976, 'n_estimators': 1303, 'max_depth': 4}. Best is trial 70 with value: 0.8021282714984183.\u001b[0m\n"
     ]
    },
    {
     "name": "stdout",
     "output_type": "stream",
     "text": [
      "0.8021282714984183\n",
      "_________________FIIINISH_________________\n",
      "\n",
      "________________START__________________\n"
     ]
    },
    {
     "name": "stderr",
     "output_type": "stream",
     "text": [
      "\u001b[32m[I 2022-12-27 01:36:33,854]\u001b[0m Trial 71 finished with value: 0.8001150417026173 and parameters: {'loss': 'exponential', 'criterion': 'squared_error', 'max_leaf_nodes': 7, 'max_features': 6, 'subsample': 0.6731665279415632, 'learning_rate': 0.01012736771309365, 'n_estimators': 1251, 'max_depth': 4}. Best is trial 70 with value: 0.8021282714984183.\u001b[0m\n"
     ]
    },
    {
     "name": "stdout",
     "output_type": "stream",
     "text": [
      "0.8001150417026173\n",
      "_________________FIIINISH_________________\n",
      "\n",
      "________________START__________________\n"
     ]
    },
    {
     "name": "stderr",
     "output_type": "stream",
     "text": [
      "\u001b[32m[I 2022-12-27 01:36:45,784]\u001b[0m Trial 72 finished with value: 0.8021282714984181 and parameters: {'loss': 'exponential', 'criterion': 'squared_error', 'max_leaf_nodes': 7, 'max_features': 6, 'subsample': 0.6469820832262215, 'learning_rate': 0.014824446767446165, 'n_estimators': 1434, 'max_depth': 4}. Best is trial 70 with value: 0.8021282714984183.\u001b[0m\n"
     ]
    },
    {
     "name": "stdout",
     "output_type": "stream",
     "text": [
      "0.8021282714984181\n",
      "_________________FIIINISH_________________\n",
      "\n",
      "________________START__________________\n"
     ]
    },
    {
     "name": "stderr",
     "output_type": "stream",
     "text": [
      "\u001b[33m[W 2022-12-27 01:36:49,725]\u001b[0m Trial 73 failed because of the following error: KeyboardInterrupt()\u001b[0m\n",
      "Traceback (most recent call last):\n",
      "  File \"C:\\Users\\Daniil\\anaconda3\\lib\\site-packages\\optuna\\study\\_optimize.py\", line 196, in _run_trial\n",
      "    value_or_values = func(trial)\n",
      "  File \"C:\\Users\\Daniil\\AppData\\Local\\Temp/ipykernel_7408/1376367484.py\", line 21, in objective\n",
      "    model = GradientBoostingClassifier(**param, random_state=12345).fit(train_X,train_y,\n",
      "  File \"C:\\Users\\Daniil\\anaconda3\\lib\\site-packages\\sklearn\\ensemble\\_gb.py\", line 668, in fit\n",
      "    n_stages = self._fit_stages(\n",
      "  File \"C:\\Users\\Daniil\\anaconda3\\lib\\site-packages\\sklearn\\ensemble\\_gb.py\", line 745, in _fit_stages\n",
      "    raw_predictions = self._fit_stage(\n",
      "  File \"C:\\Users\\Daniil\\anaconda3\\lib\\site-packages\\sklearn\\ensemble\\_gb.py\", line 250, in _fit_stage\n",
      "    loss.update_terminal_regions(\n",
      "  File \"C:\\Users\\Daniil\\anaconda3\\lib\\site-packages\\sklearn\\ensemble\\_gb_losses.py\", line 113, in update_terminal_regions\n",
      "    terminal_regions = tree.apply(X)\n",
      "KeyboardInterrupt\n"
     ]
    },
    {
     "ename": "KeyboardInterrupt",
     "evalue": "",
     "output_type": "error",
     "traceback": [
      "\u001b[1;31m---------------------------------------------------------------------------\u001b[0m",
      "\u001b[1;31mKeyboardInterrupt\u001b[0m                         Traceback (most recent call last)",
      "\u001b[1;32m~\\AppData\\Local\\Temp/ipykernel_7408/1376367484.py\u001b[0m in \u001b[0;36m<module>\u001b[1;34m\u001b[0m\n\u001b[0;32m     36\u001b[0m \u001b[1;33m\u001b[0m\u001b[0m\n\u001b[0;32m     37\u001b[0m \u001b[0mstudy\u001b[0m \u001b[1;33m=\u001b[0m \u001b[0moptuna\u001b[0m\u001b[1;33m.\u001b[0m\u001b[0mcreate_study\u001b[0m\u001b[1;33m(\u001b[0m\u001b[0mpruner\u001b[0m\u001b[1;33m=\u001b[0m\u001b[0moptuna\u001b[0m\u001b[1;33m.\u001b[0m\u001b[0mpruners\u001b[0m\u001b[1;33m.\u001b[0m\u001b[0mHyperbandPruner\u001b[0m\u001b[1;33m(\u001b[0m\u001b[1;33m)\u001b[0m\u001b[1;33m,\u001b[0m \u001b[0mdirection\u001b[0m\u001b[1;33m=\u001b[0m\u001b[1;34m'maximize'\u001b[0m\u001b[1;33m)\u001b[0m\u001b[1;33m\u001b[0m\u001b[1;33m\u001b[0m\u001b[0m\n\u001b[1;32m---> 38\u001b[1;33m \u001b[0mstudy\u001b[0m\u001b[1;33m.\u001b[0m\u001b[0moptimize\u001b[0m\u001b[1;33m(\u001b[0m\u001b[0mobjective\u001b[0m\u001b[1;33m,\u001b[0m \u001b[0mn_trials\u001b[0m\u001b[1;33m=\u001b[0m\u001b[1;36m1000\u001b[0m\u001b[1;33m)\u001b[0m\u001b[1;33m\u001b[0m\u001b[1;33m\u001b[0m\u001b[0m\n\u001b[0m\u001b[0;32m     39\u001b[0m \u001b[0mparams_gbc\u001b[0m \u001b[1;33m=\u001b[0m \u001b[0mstudy\u001b[0m\u001b[1;33m.\u001b[0m\u001b[0mbest_params\u001b[0m\u001b[1;33m\u001b[0m\u001b[1;33m\u001b[0m\u001b[0m\n",
      "\u001b[1;32m~\\anaconda3\\lib\\site-packages\\optuna\\study\\study.py\u001b[0m in \u001b[0;36moptimize\u001b[1;34m(self, func, n_trials, timeout, n_jobs, catch, callbacks, gc_after_trial, show_progress_bar)\u001b[0m\n\u001b[0;32m    417\u001b[0m         \"\"\"\n\u001b[0;32m    418\u001b[0m \u001b[1;33m\u001b[0m\u001b[0m\n\u001b[1;32m--> 419\u001b[1;33m         _optimize(\n\u001b[0m\u001b[0;32m    420\u001b[0m             \u001b[0mstudy\u001b[0m\u001b[1;33m=\u001b[0m\u001b[0mself\u001b[0m\u001b[1;33m,\u001b[0m\u001b[1;33m\u001b[0m\u001b[1;33m\u001b[0m\u001b[0m\n\u001b[0;32m    421\u001b[0m             \u001b[0mfunc\u001b[0m\u001b[1;33m=\u001b[0m\u001b[0mfunc\u001b[0m\u001b[1;33m,\u001b[0m\u001b[1;33m\u001b[0m\u001b[1;33m\u001b[0m\u001b[0m\n",
      "\u001b[1;32m~\\anaconda3\\lib\\site-packages\\optuna\\study\\_optimize.py\u001b[0m in \u001b[0;36m_optimize\u001b[1;34m(study, func, n_trials, timeout, n_jobs, catch, callbacks, gc_after_trial, show_progress_bar)\u001b[0m\n\u001b[0;32m     64\u001b[0m     \u001b[1;32mtry\u001b[0m\u001b[1;33m:\u001b[0m\u001b[1;33m\u001b[0m\u001b[1;33m\u001b[0m\u001b[0m\n\u001b[0;32m     65\u001b[0m         \u001b[1;32mif\u001b[0m \u001b[0mn_jobs\u001b[0m \u001b[1;33m==\u001b[0m \u001b[1;36m1\u001b[0m\u001b[1;33m:\u001b[0m\u001b[1;33m\u001b[0m\u001b[1;33m\u001b[0m\u001b[0m\n\u001b[1;32m---> 66\u001b[1;33m             _optimize_sequential(\n\u001b[0m\u001b[0;32m     67\u001b[0m                 \u001b[0mstudy\u001b[0m\u001b[1;33m,\u001b[0m\u001b[1;33m\u001b[0m\u001b[1;33m\u001b[0m\u001b[0m\n\u001b[0;32m     68\u001b[0m                 \u001b[0mfunc\u001b[0m\u001b[1;33m,\u001b[0m\u001b[1;33m\u001b[0m\u001b[1;33m\u001b[0m\u001b[0m\n",
      "\u001b[1;32m~\\anaconda3\\lib\\site-packages\\optuna\\study\\_optimize.py\u001b[0m in \u001b[0;36m_optimize_sequential\u001b[1;34m(study, func, n_trials, timeout, catch, callbacks, gc_after_trial, reseed_sampler_rng, time_start, progress_bar)\u001b[0m\n\u001b[0;32m    158\u001b[0m \u001b[1;33m\u001b[0m\u001b[0m\n\u001b[0;32m    159\u001b[0m         \u001b[1;32mtry\u001b[0m\u001b[1;33m:\u001b[0m\u001b[1;33m\u001b[0m\u001b[1;33m\u001b[0m\u001b[0m\n\u001b[1;32m--> 160\u001b[1;33m             \u001b[0mfrozen_trial\u001b[0m \u001b[1;33m=\u001b[0m \u001b[0m_run_trial\u001b[0m\u001b[1;33m(\u001b[0m\u001b[0mstudy\u001b[0m\u001b[1;33m,\u001b[0m \u001b[0mfunc\u001b[0m\u001b[1;33m,\u001b[0m \u001b[0mcatch\u001b[0m\u001b[1;33m)\u001b[0m\u001b[1;33m\u001b[0m\u001b[1;33m\u001b[0m\u001b[0m\n\u001b[0m\u001b[0;32m    161\u001b[0m         \u001b[1;32mfinally\u001b[0m\u001b[1;33m:\u001b[0m\u001b[1;33m\u001b[0m\u001b[1;33m\u001b[0m\u001b[0m\n\u001b[0;32m    162\u001b[0m             \u001b[1;31m# The following line mitigates memory problems that can be occurred in some\u001b[0m\u001b[1;33m\u001b[0m\u001b[1;33m\u001b[0m\u001b[0m\n",
      "\u001b[1;32m~\\anaconda3\\lib\\site-packages\\optuna\\study\\_optimize.py\u001b[0m in \u001b[0;36m_run_trial\u001b[1;34m(study, func, catch)\u001b[0m\n\u001b[0;32m    232\u001b[0m         \u001b[1;32mand\u001b[0m \u001b[1;32mnot\u001b[0m \u001b[0misinstance\u001b[0m\u001b[1;33m(\u001b[0m\u001b[0mfunc_err\u001b[0m\u001b[1;33m,\u001b[0m \u001b[0mcatch\u001b[0m\u001b[1;33m)\u001b[0m\u001b[1;33m\u001b[0m\u001b[1;33m\u001b[0m\u001b[0m\n\u001b[0;32m    233\u001b[0m     ):\n\u001b[1;32m--> 234\u001b[1;33m         \u001b[1;32mraise\u001b[0m \u001b[0mfunc_err\u001b[0m\u001b[1;33m\u001b[0m\u001b[1;33m\u001b[0m\u001b[0m\n\u001b[0m\u001b[0;32m    235\u001b[0m     \u001b[1;32mreturn\u001b[0m \u001b[0mfrozen_trial\u001b[0m\u001b[1;33m\u001b[0m\u001b[1;33m\u001b[0m\u001b[0m\n\u001b[0;32m    236\u001b[0m \u001b[1;33m\u001b[0m\u001b[0m\n",
      "\u001b[1;32m~\\anaconda3\\lib\\site-packages\\optuna\\study\\_optimize.py\u001b[0m in \u001b[0;36m_run_trial\u001b[1;34m(study, func, catch)\u001b[0m\n\u001b[0;32m    194\u001b[0m     \u001b[1;32mwith\u001b[0m \u001b[0mget_heartbeat_thread\u001b[0m\u001b[1;33m(\u001b[0m\u001b[0mtrial\u001b[0m\u001b[1;33m.\u001b[0m\u001b[0m_trial_id\u001b[0m\u001b[1;33m,\u001b[0m \u001b[0mstudy\u001b[0m\u001b[1;33m.\u001b[0m\u001b[0m_storage\u001b[0m\u001b[1;33m)\u001b[0m\u001b[1;33m:\u001b[0m\u001b[1;33m\u001b[0m\u001b[1;33m\u001b[0m\u001b[0m\n\u001b[0;32m    195\u001b[0m         \u001b[1;32mtry\u001b[0m\u001b[1;33m:\u001b[0m\u001b[1;33m\u001b[0m\u001b[1;33m\u001b[0m\u001b[0m\n\u001b[1;32m--> 196\u001b[1;33m             \u001b[0mvalue_or_values\u001b[0m \u001b[1;33m=\u001b[0m \u001b[0mfunc\u001b[0m\u001b[1;33m(\u001b[0m\u001b[0mtrial\u001b[0m\u001b[1;33m)\u001b[0m\u001b[1;33m\u001b[0m\u001b[1;33m\u001b[0m\u001b[0m\n\u001b[0m\u001b[0;32m    197\u001b[0m         \u001b[1;32mexcept\u001b[0m \u001b[0mexceptions\u001b[0m\u001b[1;33m.\u001b[0m\u001b[0mTrialPruned\u001b[0m \u001b[1;32mas\u001b[0m \u001b[0me\u001b[0m\u001b[1;33m:\u001b[0m\u001b[1;33m\u001b[0m\u001b[1;33m\u001b[0m\u001b[0m\n\u001b[0;32m    198\u001b[0m             \u001b[1;31m# TODO(mamu): Handle multi-objective cases.\u001b[0m\u001b[1;33m\u001b[0m\u001b[1;33m\u001b[0m\u001b[0m\n",
      "\u001b[1;32m~\\AppData\\Local\\Temp/ipykernel_7408/1376367484.py\u001b[0m in \u001b[0;36mobjective\u001b[1;34m(trial)\u001b[0m\n\u001b[0;32m     19\u001b[0m         \u001b[0mtrain_X\u001b[0m\u001b[1;33m,\u001b[0m \u001b[0mvalid_X\u001b[0m \u001b[1;33m=\u001b[0m \u001b[0mfeatures_train_ohe\u001b[0m\u001b[1;33m.\u001b[0m\u001b[0miloc\u001b[0m\u001b[1;33m[\u001b[0m\u001b[0mtrain_index\u001b[0m\u001b[1;33m]\u001b[0m\u001b[1;33m,\u001b[0m \u001b[0mfeatures_train_ohe\u001b[0m\u001b[1;33m.\u001b[0m\u001b[0miloc\u001b[0m\u001b[1;33m[\u001b[0m\u001b[0mtest_index\u001b[0m\u001b[1;33m]\u001b[0m\u001b[1;33m\u001b[0m\u001b[1;33m\u001b[0m\u001b[0m\n\u001b[0;32m     20\u001b[0m         \u001b[0mtrain_y\u001b[0m\u001b[1;33m,\u001b[0m \u001b[0mvalid_y\u001b[0m \u001b[1;33m=\u001b[0m \u001b[0mtarget_train_ohe\u001b[0m\u001b[1;33m.\u001b[0m\u001b[0miloc\u001b[0m\u001b[1;33m[\u001b[0m\u001b[0mtrain_index\u001b[0m\u001b[1;33m]\u001b[0m\u001b[1;33m,\u001b[0m \u001b[0mtarget_train_ohe\u001b[0m\u001b[1;33m.\u001b[0m\u001b[0miloc\u001b[0m\u001b[1;33m[\u001b[0m\u001b[0mtest_index\u001b[0m\u001b[1;33m]\u001b[0m\u001b[1;33m\u001b[0m\u001b[1;33m\u001b[0m\u001b[0m\n\u001b[1;32m---> 21\u001b[1;33m         model = GradientBoostingClassifier(**param, random_state=12345).fit(train_X,train_y,\n\u001b[0m\u001b[0;32m     22\u001b[0m                                       \u001b[1;31m#eval_set=[(valid_X,valid_y)],\u001b[0m\u001b[1;33m\u001b[0m\u001b[1;33m\u001b[0m\u001b[0m\n\u001b[0;32m     23\u001b[0m                                       \u001b[1;31m#verbose=0\u001b[0m\u001b[1;33m\u001b[0m\u001b[1;33m\u001b[0m\u001b[0m\n",
      "\u001b[1;32m~\\anaconda3\\lib\\site-packages\\sklearn\\ensemble\\_gb.py\u001b[0m in \u001b[0;36mfit\u001b[1;34m(self, X, y, sample_weight, monitor)\u001b[0m\n\u001b[0;32m    666\u001b[0m \u001b[1;33m\u001b[0m\u001b[0m\n\u001b[0;32m    667\u001b[0m         \u001b[1;31m# fit the boosting stages\u001b[0m\u001b[1;33m\u001b[0m\u001b[1;33m\u001b[0m\u001b[0m\n\u001b[1;32m--> 668\u001b[1;33m         n_stages = self._fit_stages(\n\u001b[0m\u001b[0;32m    669\u001b[0m             \u001b[0mX\u001b[0m\u001b[1;33m,\u001b[0m\u001b[1;33m\u001b[0m\u001b[1;33m\u001b[0m\u001b[0m\n\u001b[0;32m    670\u001b[0m             \u001b[0my\u001b[0m\u001b[1;33m,\u001b[0m\u001b[1;33m\u001b[0m\u001b[1;33m\u001b[0m\u001b[0m\n",
      "\u001b[1;32m~\\anaconda3\\lib\\site-packages\\sklearn\\ensemble\\_gb.py\u001b[0m in \u001b[0;36m_fit_stages\u001b[1;34m(self, X, y, raw_predictions, sample_weight, random_state, X_val, y_val, sample_weight_val, begin_at_stage, monitor)\u001b[0m\n\u001b[0;32m    743\u001b[0m \u001b[1;33m\u001b[0m\u001b[0m\n\u001b[0;32m    744\u001b[0m             \u001b[1;31m# fit next stage of trees\u001b[0m\u001b[1;33m\u001b[0m\u001b[1;33m\u001b[0m\u001b[0m\n\u001b[1;32m--> 745\u001b[1;33m             raw_predictions = self._fit_stage(\n\u001b[0m\u001b[0;32m    746\u001b[0m                 \u001b[0mi\u001b[0m\u001b[1;33m,\u001b[0m\u001b[1;33m\u001b[0m\u001b[1;33m\u001b[0m\u001b[0m\n\u001b[0;32m    747\u001b[0m                 \u001b[0mX\u001b[0m\u001b[1;33m,\u001b[0m\u001b[1;33m\u001b[0m\u001b[1;33m\u001b[0m\u001b[0m\n",
      "\u001b[1;32m~\\anaconda3\\lib\\site-packages\\sklearn\\ensemble\\_gb.py\u001b[0m in \u001b[0;36m_fit_stage\u001b[1;34m(self, i, X, y, raw_predictions, sample_weight, sample_mask, random_state, X_csc, X_csr)\u001b[0m\n\u001b[0;32m    248\u001b[0m \u001b[1;33m\u001b[0m\u001b[0m\n\u001b[0;32m    249\u001b[0m             \u001b[1;31m# update tree leaves\u001b[0m\u001b[1;33m\u001b[0m\u001b[1;33m\u001b[0m\u001b[0m\n\u001b[1;32m--> 250\u001b[1;33m             loss.update_terminal_regions(\n\u001b[0m\u001b[0;32m    251\u001b[0m                 \u001b[0mtree\u001b[0m\u001b[1;33m.\u001b[0m\u001b[0mtree_\u001b[0m\u001b[1;33m,\u001b[0m\u001b[1;33m\u001b[0m\u001b[1;33m\u001b[0m\u001b[0m\n\u001b[0;32m    252\u001b[0m                 \u001b[0mX\u001b[0m\u001b[1;33m,\u001b[0m\u001b[1;33m\u001b[0m\u001b[1;33m\u001b[0m\u001b[0m\n",
      "\u001b[1;32m~\\anaconda3\\lib\\site-packages\\sklearn\\ensemble\\_gb_losses.py\u001b[0m in \u001b[0;36mupdate_terminal_regions\u001b[1;34m(self, tree, X, y, residual, raw_predictions, sample_weight, sample_mask, learning_rate, k)\u001b[0m\n\u001b[0;32m    111\u001b[0m         \"\"\"\n\u001b[0;32m    112\u001b[0m         \u001b[1;31m# compute leaf for each sample in ``X``.\u001b[0m\u001b[1;33m\u001b[0m\u001b[1;33m\u001b[0m\u001b[0m\n\u001b[1;32m--> 113\u001b[1;33m         \u001b[0mterminal_regions\u001b[0m \u001b[1;33m=\u001b[0m \u001b[0mtree\u001b[0m\u001b[1;33m.\u001b[0m\u001b[0mapply\u001b[0m\u001b[1;33m(\u001b[0m\u001b[0mX\u001b[0m\u001b[1;33m)\u001b[0m\u001b[1;33m\u001b[0m\u001b[1;33m\u001b[0m\u001b[0m\n\u001b[0m\u001b[0;32m    114\u001b[0m \u001b[1;33m\u001b[0m\u001b[0m\n\u001b[0;32m    115\u001b[0m         \u001b[1;31m# mask all which are not in sample mask.\u001b[0m\u001b[1;33m\u001b[0m\u001b[1;33m\u001b[0m\u001b[0m\n",
      "\u001b[1;31mKeyboardInterrupt\u001b[0m: "
     ]
    }
   ],
   "source": [
    "skf = StratifiedKFold(n_splits=6)\n",
    "\n",
    "def objective(trial):\n",
    "    print('________________START__________________')\n",
    "    param = {\n",
    "        'loss': trial.suggest_categorical('loss', ['log_loss', 'exponential']),\n",
    "        'criterion': trial.suggest_categorical('criterion', ['friedman_mse', 'squared_error']),\n",
    "        'max_leaf_nodes': trial.suggest_categorical('max_leaf_nodes', [2,3,4,5,6,7,8,9,10]),\n",
    "        'max_features': trial.suggest_categorical('max_features', [2,3,4,5,6,7,8,9,10]),\n",
    "        'subsample': trial.suggest_float('subsample', 0.2,1.0),\n",
    "        'learning_rate': trial.suggest_float('learning_rate', 0.01,0.2),\n",
    "        'n_estimators': trial.suggest_int('n_estimators', 100,3000),\n",
    "        'max_depth': trial.suggest_categorical('max_depth', [2,3,4,5,6,7,8,9,10])\n",
    "        }\n",
    "        \n",
    "    results=[]\n",
    "    n_iterations=[]\n",
    "    for train_index, test_index in skf.split(features_train_ohe, target_train_ohe):\n",
    "        train_X, valid_X = features_train_ohe.iloc[train_index], features_train_ohe.iloc[test_index]\n",
    "        train_y, valid_y = target_train_ohe.iloc[train_index], target_train_ohe.iloc[test_index]\n",
    "        model = GradientBoostingClassifier(**param, random_state=12345).fit(train_X,train_y,\n",
    "                                      #eval_set=[(valid_X,valid_y)],\n",
    "                                      #verbose=0\n",
    "                                     )  \n",
    "        #n_iteration = model.get_booster().best_iteration\n",
    "        #n_iterations.append(n_iteration)\n",
    "        result = accuracy_score(valid_y,(model.predict(valid_X)))\n",
    "        results.append(result)\n",
    "        #i=int(sum(n_iterations)/len(n_iterations))\n",
    "    #print(\"Average n_ite=\" + str(i))\n",
    "    #print(\"% of scatter =\" + str(np.std(n_iterations)/i))    \n",
    "    n=sum(results)/len(results) \n",
    "    print (n)\n",
    "    print(\"_________________FIIINISH_________________\\n\")\n",
    "    return n\n",
    "\n",
    "study = optuna.create_study(pruner=optuna.pruners.HyperbandPruner(), direction='maximize')\n",
    "study.optimize(objective, n_trials=1000)\n",
    "params_gbc = study.best_params"
   ]
  },
  {
   "cell_type": "code",
   "execution_count": null,
   "id": "7e82a38e-ad6f-4c19-a5b7-8569a9ab709d",
   "metadata": {},
   "outputs": [],
   "source": [
    "%%time\n",
    "\n",
    "gbc = GradientBoostingClassifier(random_state=12345).set_params(**params_gbc)\n",
    "\n",
    "pipe = Pipeline(steps=[('gbc', gbc)]) # Создаем пайплайн\n",
    "\n",
    "# Задаем решетку параметров пайплайна\n",
    "param_grid = {}\n",
    "\n",
    "# Создаем нашу модель и передаем ей пайплайн, решетку параметров, также используем кросс-валидацию результата    \n",
    "grid_search_cv = GridSearchCV(pipe, param_grid, n_jobs=16, cv=10, scoring='accuracy')\n",
    "\n",
    "# Обучаем модель на тренировочной части выборки:\n",
    "grid_search_cv.fit(features_train_ohe, target_train_ohe)\n",
    "\n",
    "best_params_gbc = grid_search_cv.best_params_ # Лучшие параметры\n",
    "best_gbc = grid_search_cv.best_estimator_ # Лучшая модель\n",
    "best_gbc_score = grid_search_cv.best_score_ # Лучший результатат\n",
    "\n",
    "print(f'Полнота модели {best_gbc[0]} на тренировочной выборке составила: \\\n",
    "        {best_gbc_score} с параметрами {best_params_gbc}')\n",
    "\n",
    "stat_table.loc[len(stat_table.index)] = ['GradientBoostingClassifier', best_gbc_score]\n",
    "stat_table"
   ]
  },
  {
   "cell_type": "code",
   "execution_count": null,
   "id": "fd1d50ad-831e-46f9-979b-b650318ed35c",
   "metadata": {},
   "outputs": [],
   "source": [
    "cm = confusion_matrix(target_train_ohe, best_gbc.predict(features_train_ohe))\n",
    "disp = ConfusionMatrixDisplay(confusion_matrix=cm)\n",
    "disp.plot()\n",
    "plt.show()"
   ]
  },
  {
   "cell_type": "code",
   "execution_count": null,
   "id": "6bc420fa-2ab0-4b1f-838e-5bc436d1073f",
   "metadata": {},
   "outputs": [],
   "source": [
    "pd.Series(best_gbc[0].feature_importances_,features_train_ohe.columns).sort_values(ascending=True).plot.barh(width=0.8, figsize=(15,7))"
   ]
  },
  {
   "cell_type": "code",
   "execution_count": null,
   "id": "e1d0a8b9-3ab5-432a-9791-4e1123c8330c",
   "metadata": {},
   "outputs": [],
   "source": [
    "#params = {'max_depth': [3, 5, 6, 10, 15, 20],\n",
    "#         'learning_rate': [0.01, 0.1, 0.2, 0.3],\n",
    "#          'subsample': np.arange(0.5, 1.0, 0.1),\n",
    "#          'colsample_bytree': np.arange(0.4, 1.0, 0.1),\n",
    "#          'colsample_bylevel': np.arange(0.4, 1.0, 0.1),\n",
    "#          'n_estimators': [100, 500, 1000],\n",
    "#          'objective': ['binary:logistic'],\n",
    "#          'eval_metric': ['logloss']\n",
    "#         }\n",
    "#\n",
    "#clf = RandomizedSearchCV(estimator=xgb,\n",
    "#                         param_distributions=params,\n",
    "#                         scoring='accuracy',\n",
    "#                         n_iter=25,\n",
    "#                         cv=6,\n",
    "#                         verbose=1)\n",
    "#\n",
    "#clf.fit(features_train_ohe, target_train_ohe)\n",
    "#\n",
    "#print(\"Best parameters:\", clf.best_params_)\n",
    "#print(\"Score: \", (clf.best_score_))"
   ]
  },
  {
   "cell_type": "code",
   "execution_count": null,
   "id": "0582ff91-be00-40f8-bf54-b4ed09c30932",
   "metadata": {},
   "outputs": [],
   "source": [
    "def objective(trial):\n",
    "    print('________________START__________________')\n",
    "    param = {\n",
    "        'tree_method':'hist',\n",
    "        'objective': 'binary:logistic',\n",
    "        'eval_metric': 'logloss',\n",
    "        'lambda': trial.suggest_float('lambda', 0, 10.0),\n",
    "        'alpha': trial.suggest_float('alpha', 0, 10.0),\n",
    "        'colsample_bytree': trial.suggest_float('colsample_bytree', 0.1,1.0),\n",
    "        'subsample': trial.suggest_float('subsample', 0.2,1.0),\n",
    "        'learning_rate': trial.suggest_float('learning_rate', 0.0001,0.1),\n",
    "        'n_estimators': trial.suggest_int('n_estimators', 100,3000),\n",
    "        'max_depth': trial.suggest_categorical('max_depth', [2,3,4,5,6,7,8,9,10]),\n",
    "        'min_child_weight': trial.suggest_int('min_child_weight', 1, 10),\n",
    "        'num_parallel_tree': trial.suggest_int('num_parallel_tree',1,1),\n",
    "        'early_stopping_rounds':200,\n",
    "        }\n",
    "        \n",
    "    results=[]\n",
    "    n_iterations=[]\n",
    "    for train_index, test_index in skf.split(features_train_ohe, target_train_ohe):\n",
    "        train_X, valid_X = features_train_ohe.iloc[train_index], features_train_ohe.iloc[test_index]\n",
    "        train_y, valid_y = target_train_ohe.iloc[train_index], target_train_ohe.iloc[test_index]\n",
    "        model = XGBClassifier(**param, random_state=12345).fit(train_X,train_y,\n",
    "                                      eval_set=[(valid_X,valid_y)],\n",
    "                                      verbose=0\n",
    "                                     )  \n",
    "        #n_iteration = model.get_booster().best_iteration\n",
    "        #n_iterations.append(n_iteration)\n",
    "        result = accuracy_score(valid_y,(model.predict(valid_X)))\n",
    "        results.append(result)\n",
    "        #i=int(sum(n_iterations)/len(n_iterations))\n",
    "    #print(\"Average n_ite=\" + str(i))\n",
    "    #print(\"% of scatter =\" + str(np.std(n_iterations)/i))    \n",
    "    n=sum(results)/len(results) \n",
    "    print (n)\n",
    "    print(\"_________________FIIINISH_________________\\n\")\n",
    "    return n\n",
    "\n",
    "study = optuna.create_study(pruner=optuna.pruners.HyperbandPruner(), direction='maximize')\n",
    "study.optimize(objective, n_trials=1000)\n",
    "params_xgb = study.best_params"
   ]
  },
  {
   "cell_type": "code",
   "execution_count": null,
   "id": "59b24829-58a6-4b0e-9412-e31582b6aebc",
   "metadata": {},
   "outputs": [],
   "source": [
    "\n",
    "xgb = XGBClassifier(random_state=12345).set_params(**params_xgb)\n",
    "\n",
    "pipe = Pipeline(steps=[('xgb', xgb)]) # Создаем пайплайн\n",
    "\n",
    "\n",
    "# Задаем решетку параметров пайплайна\n",
    "param_grid = {}\n",
    "\n",
    "# Создаем нашу модель и передаем ей пайплайн, решетку параметров, также используем кросс-валидацию результата    \n",
    "grid_search_cv = GridSearchCV(pipe, param_grid, cv=6, scoring='accuracy')\n",
    "\n",
    "# Обучаем модель на тренировочной части выборки:\n",
    "grid_search_cv.fit(features_train_ohe, target_train_ohe)\n",
    "\n",
    "best_params_xgb = grid_search_cv.best_params_ # Лучшие параметры\n",
    "best_xgb = grid_search_cv.best_estimator_ # Лучшая модель\n",
    "best_xgb_score = grid_search_cv.best_score_ # Лучший результатат\n",
    "\n",
    "print(f'Полнота модели {best_xgb[0]} на тренировочной выборке составила: \\\n",
    "        {best_xgb_score} с параметрами {best_params_xgb}')\n",
    "\n",
    "stat_table.loc[len(stat_table.index)] = ['XGBClassifier(random_state=42)', best_xgb_score]\n",
    "stat_table"
   ]
  },
  {
   "cell_type": "code",
   "execution_count": null,
   "id": "041d385c-24f7-49cd-bdda-edc40a287515",
   "metadata": {},
   "outputs": [],
   "source": [
    "cm = confusion_matrix(target_train_ohe, best_xgb.predict(features_train_ohe))\n",
    "disp = ConfusionMatrixDisplay(confusion_matrix=cm)\n",
    "disp.plot()\n",
    "plt.show()"
   ]
  },
  {
   "cell_type": "code",
   "execution_count": null,
   "id": "e2554b80-48cf-4704-a3fe-c7db1efb322b",
   "metadata": {},
   "outputs": [],
   "source": [
    "pd.Series(best_xgb[0].feature_importances_, features_train_ohe.columns).sort_values(ascending=True).plot.barh(width=0.8, figsize=(15,7))"
   ]
  },
  {
   "cell_type": "code",
   "execution_count": null,
   "id": "bb7b081e-b1c4-4376-9bef-842d381c5aac",
   "metadata": {},
   "outputs": [],
   "source": [
    "def objective(trial):\n",
    "    print('________________START__________________')\n",
    "    param = {\n",
    "        'kernel': trial.suggest_categorical('kernel', ['linear', 'poly', 'rbf', 'sigmoid']),\n",
    "        'C': trial.suggest_float('C', 0.5, 1.5),\n",
    "        'degree': trial.suggest_int('degree', 1, 5),\n",
    "        'gamma': trial.suggest_categorical('gamma', ['scale', 'auto']),\n",
    "        'coef0': trial.suggest_float('coef0', 0.5, 1.5),\n",
    "        'shrinking': trial.suggest_categorical('shrinking', [True, False]),\n",
    "        'decision_function_shape': trial.suggest_categorical('decision_function_shape', ['ovo', 'ovr'])\n",
    "        #'criterion': trial.suggest_categorical('criterion', ['friedman_mse', 'squared_error']),\n",
    "        #'max_leaf_nodes': trial.suggest_categorical('max_leaf_nodes', [2,3,4,5,6,7,8,9,10]),\n",
    "        #'min_samples_split': trial.suggest_float('min_samples_split', 0.2,1.0),\n",
    "        #'min_samples_leaf': trial.suggest_float('min_samples_leaf', 0.2,1.0),\n",
    "        #'min_weight_fraction_leaf': trial.suggest_float('min_weight_fraction_leaf', 0.0,0.5),\n",
    "        #'max_features': trial.suggest_categorical('max_features', [2,3,4,5,6,7,8,9,10]),\n",
    "        #'tree_method':'hist',\n",
    "        #'objective': 'binary:logistic',\n",
    "        #'eval_metric': 'logloss',\n",
    "        #'lambda': trial.suggest_float('lambda', 0, 10.0),\n",
    "        #'alpha': trial.suggest_float('alpha', 0, 10.0),\n",
    "        #'colsample_bytree': trial.suggest_float('colsample_bytree', 0.1,1.0),\n",
    "        #'subsample': trial.suggest_float('subsample', 0.2,1.0),\n",
    "        #'learning_rate': trial.suggest_float('learning_rate', 0.01,0.2),\n",
    "        #'n_estimators': trial.suggest_int('n_estimators', 100,3000),\n",
    "        #'max_depth': trial.suggest_categorical('max_depth', [2,3,4,5,6,7,8,9,10])\n",
    "        #'min_child_weight': trial.suggest_int('min_child_weight', 1, 10),\n",
    "        #'num_parallel_tree': trial.suggest_int('num_parallel_tree',1,1)\n",
    "        #'early_stopping_rounds':200,\n",
    "        }\n",
    "        \n",
    "    results=[]\n",
    "    n_iterations=[]\n",
    "    for train_index, test_index in skf.split(features_train_ohe, target_train_ohe):\n",
    "        train_X, valid_X = features_train_ohe.iloc[train_index], features_train_ohe.iloc[test_index]\n",
    "        train_y, valid_y = target_train_ohe.iloc[train_index], target_train_ohe.iloc[test_index]\n",
    "        model = SVC(**param, random_state=12345).fit(train_X,train_y,\n",
    "                                      #eval_set=[(valid_X,valid_y)],\n",
    "                                      #verbose=0\n",
    "                                     )  \n",
    "        #n_iteration = model.get_booster().best_iteration\n",
    "        #n_iterations.append(n_iteration)\n",
    "        result = accuracy_score(valid_y,(model.predict(valid_X)))\n",
    "        results.append(result)\n",
    "        #i=int(sum(n_iterations)/len(n_iterations))\n",
    "    #print(\"Average n_ite=\" + str(i))\n",
    "    #print(\"% of scatter =\" + str(np.std(n_iterations)/i))    \n",
    "    n=sum(results)/len(results) \n",
    "    print (n)\n",
    "    print(\"_________________FIIINISH_________________\\n\")\n",
    "    return n\n",
    "\n",
    "study = optuna.create_study(pruner=optuna.pruners.HyperbandPruner(), direction='maximize')\n",
    "study.optimize(objective, n_trials=1000)\n",
    "params_svc = study.best_params"
   ]
  },
  {
   "cell_type": "code",
   "execution_count": null,
   "id": "8ee0e38c-b08c-4e74-931c-b2eeab0816b8",
   "metadata": {},
   "outputs": [],
   "source": [
    "svm = SVC(random_state=12345).set_params(**params_svc)\n",
    "\n",
    "pipe = Pipeline(steps=[('svm', svm)]) # Создаем пайплайн\n",
    "\n",
    "# Задаем решетку параметров пайплайна\n",
    "param_grid = {}\n",
    "\n",
    "# Создаем нашу модель и передаем ей пайплайн, решетку параметров, также используем кросс-валидацию результата    \n",
    "grid_search_cv = GridSearchCV(pipe, param_grid, n_jobs=16, cv=6, scoring='accuracy')\n",
    "\n",
    "# Обучаем модель на тренировочной части выборки:\n",
    "grid_search_cv.fit(features_train_ohe, target_train_ohe)\n",
    "\n",
    "best_params_svm = grid_search_cv.best_params_ # Лучшие параметры\n",
    "best_svm = grid_search_cv.best_estimator_ # Лучшая модель\n",
    "best_svm_score = grid_search_cv.best_score_ # Лучший результатат\n",
    "\n",
    "print(f'Полнота модели {best_svm} на тренировочной выборке составила: \\\n",
    "        {best_svm_score} с параметрами {best_params_svm}')\n",
    "\n",
    "stat_table.loc[len(stat_table.index)] = ['SVC(random_state=12345)', best_svm_score]\n",
    "stat_table.sort_values(by='score', ascending=False)"
   ]
  },
  {
   "cell_type": "code",
   "execution_count": null,
   "id": "c1fe814d-b516-49ae-bc4d-4b715bd9e1f3",
   "metadata": {},
   "outputs": [],
   "source": [
    "#sample['Transported'] = (GradientBoostingClassifier(random_state=12345).set_params(**params).fit(features_train_ohe, target_train_ohe)).predict(features_test_ohe)\n",
    "#sample['Transported'] = sample['Transported'].astype('bool')\n",
    "#sample.to_csv(r\"/Users/Daniil/Documents/GitHub/Detecting_fraud/sample_submission.csv\", index=False, sep=\",\")"
   ]
  }
 ],
 "metadata": {
  "kernelspec": {
   "display_name": "Python 3 (ipykernel)",
   "language": "python",
   "name": "python3"
  },
  "language_info": {
   "codemirror_mode": {
    "name": "ipython",
    "version": 3
   },
   "file_extension": ".py",
   "mimetype": "text/x-python",
   "name": "python",
   "nbconvert_exporter": "python",
   "pygments_lexer": "ipython3",
   "version": "3.9.7"
  }
 },
 "nbformat": 4,
 "nbformat_minor": 5
}
