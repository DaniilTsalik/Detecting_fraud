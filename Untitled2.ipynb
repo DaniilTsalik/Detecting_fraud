{
 "cells": [
  {
   "cell_type": "markdown",
   "id": "f16988c8-9321-4548-b063-c9cfd0782118",
   "metadata": {},
   "source": [
    "### Шаг 1. Загрузка данных и ознакомление"
   ]
  },
  {
   "cell_type": "code",
   "execution_count": 1,
   "id": "105cf1b7-00b6-4c65-83e9-2cd20594ecc7",
   "metadata": {},
   "outputs": [],
   "source": [
    " # Импортируем необходимые библиотеки:\n",
    "import copy\n",
    "import pandas as pd\n",
    "import seaborn as sns\n",
    "import numpy as np\n",
    "import matplotlib.pyplot as plt\n",
    "from sklearn import tree\n",
    "from sklearn.ensemble import RandomForestClassifier, GradientBoostingClassifier\n",
    "from sklearn.model_selection import GridSearchCV\n",
    "from sklearn.model_selection import train_test_split\n",
    "from sklearn.pipeline import Pipeline\n",
    "from sklearn.preprocessing import StandardScaler\n",
    "from sklearn.preprocessing import OneHotEncoder\n",
    "from sklearn.preprocessing import LabelEncoder\n",
    "from sklearn.linear_model import LogisticRegression\n",
    "from sklearn.neighbors import KNeighborsClassifier\n",
    "from sklearn.metrics import confusion_matrix, ConfusionMatrixDisplay\n",
    "from sklearn.metrics import f1_score, make_scorer\n",
    "from sklearn.svm import SVC, LinearSVC\n",
    "from sklearn.neighbors import KNeighborsClassifier\n",
    "from sklearn.naive_bayes import GaussianNB\n",
    "from sklearn.ensemble import AdaBoostClassifier\n",
    "from sklearn.discriminant_analysis import LinearDiscriminantAnalysis\n",
    "from sklearn.ensemble import GradientBoostingClassifier\n",
    "import xgboost as xgb\n",
    "from sklearn.impute import SimpleImputer"
   ]
  },
  {
   "cell_type": "code",
   "execution_count": 2,
   "id": "2a5fe797-75af-46d0-925e-b3c744641f19",
   "metadata": {},
   "outputs": [],
   "source": [
    "train = pd.read_csv('/Users/Daniil/Documents/Kagle/train.csv') # Тренировочный датасет\n",
    "test = pd.read_csv('/Users/Daniil/Documents/Kagle/test.csv') # Тестовый датасет"
   ]
  },
  {
   "cell_type": "code",
   "execution_count": 3,
   "id": "17252734-9784-4ee3-afad-6f4cd27e9ce4",
   "metadata": {},
   "outputs": [],
   "source": [
    "data_dict = {'train': train, # Словарь содержащий тестовый и тренировочный датасеты\n",
    "             'test': test\n",
    "            }"
   ]
  },
  {
   "cell_type": "code",
   "execution_count": 4,
   "id": "10f67130-6dd4-4148-b649-98948d9fbec7",
   "metadata": {},
   "outputs": [
    {
     "name": "stdout",
     "output_type": "stream",
     "text": [
      "train\n"
     ]
    },
    {
     "data": {
      "text/html": [
       "<div>\n",
       "<style scoped>\n",
       "    .dataframe tbody tr th:only-of-type {\n",
       "        vertical-align: middle;\n",
       "    }\n",
       "\n",
       "    .dataframe tbody tr th {\n",
       "        vertical-align: top;\n",
       "    }\n",
       "\n",
       "    .dataframe thead th {\n",
       "        text-align: right;\n",
       "    }\n",
       "</style>\n",
       "<table border=\"1\" class=\"dataframe\">\n",
       "  <thead>\n",
       "    <tr style=\"text-align: right;\">\n",
       "      <th></th>\n",
       "      <th>PassengerId</th>\n",
       "      <th>HomePlanet</th>\n",
       "      <th>CryoSleep</th>\n",
       "      <th>Cabin</th>\n",
       "      <th>Destination</th>\n",
       "      <th>Age</th>\n",
       "      <th>VIP</th>\n",
       "      <th>RoomService</th>\n",
       "      <th>FoodCourt</th>\n",
       "      <th>ShoppingMall</th>\n",
       "      <th>Spa</th>\n",
       "      <th>VRDeck</th>\n",
       "      <th>Name</th>\n",
       "      <th>Transported</th>\n",
       "    </tr>\n",
       "  </thead>\n",
       "  <tbody>\n",
       "    <tr>\n",
       "      <th>0</th>\n",
       "      <td>0001_01</td>\n",
       "      <td>Europa</td>\n",
       "      <td>False</td>\n",
       "      <td>B/0/P</td>\n",
       "      <td>TRAPPIST-1e</td>\n",
       "      <td>39.0</td>\n",
       "      <td>False</td>\n",
       "      <td>0.0</td>\n",
       "      <td>0.0</td>\n",
       "      <td>0.0</td>\n",
       "      <td>0.0</td>\n",
       "      <td>0.0</td>\n",
       "      <td>Maham Ofracculy</td>\n",
       "      <td>False</td>\n",
       "    </tr>\n",
       "    <tr>\n",
       "      <th>1</th>\n",
       "      <td>0002_01</td>\n",
       "      <td>Earth</td>\n",
       "      <td>False</td>\n",
       "      <td>F/0/S</td>\n",
       "      <td>TRAPPIST-1e</td>\n",
       "      <td>24.0</td>\n",
       "      <td>False</td>\n",
       "      <td>109.0</td>\n",
       "      <td>9.0</td>\n",
       "      <td>25.0</td>\n",
       "      <td>549.0</td>\n",
       "      <td>44.0</td>\n",
       "      <td>Juanna Vines</td>\n",
       "      <td>True</td>\n",
       "    </tr>\n",
       "    <tr>\n",
       "      <th>2</th>\n",
       "      <td>0003_01</td>\n",
       "      <td>Europa</td>\n",
       "      <td>False</td>\n",
       "      <td>A/0/S</td>\n",
       "      <td>TRAPPIST-1e</td>\n",
       "      <td>58.0</td>\n",
       "      <td>True</td>\n",
       "      <td>43.0</td>\n",
       "      <td>3576.0</td>\n",
       "      <td>0.0</td>\n",
       "      <td>6715.0</td>\n",
       "      <td>49.0</td>\n",
       "      <td>Altark Susent</td>\n",
       "      <td>False</td>\n",
       "    </tr>\n",
       "    <tr>\n",
       "      <th>3</th>\n",
       "      <td>0003_02</td>\n",
       "      <td>Europa</td>\n",
       "      <td>False</td>\n",
       "      <td>A/0/S</td>\n",
       "      <td>TRAPPIST-1e</td>\n",
       "      <td>33.0</td>\n",
       "      <td>False</td>\n",
       "      <td>0.0</td>\n",
       "      <td>1283.0</td>\n",
       "      <td>371.0</td>\n",
       "      <td>3329.0</td>\n",
       "      <td>193.0</td>\n",
       "      <td>Solam Susent</td>\n",
       "      <td>False</td>\n",
       "    </tr>\n",
       "    <tr>\n",
       "      <th>4</th>\n",
       "      <td>0004_01</td>\n",
       "      <td>Earth</td>\n",
       "      <td>False</td>\n",
       "      <td>F/1/S</td>\n",
       "      <td>TRAPPIST-1e</td>\n",
       "      <td>16.0</td>\n",
       "      <td>False</td>\n",
       "      <td>303.0</td>\n",
       "      <td>70.0</td>\n",
       "      <td>151.0</td>\n",
       "      <td>565.0</td>\n",
       "      <td>2.0</td>\n",
       "      <td>Willy Santantines</td>\n",
       "      <td>True</td>\n",
       "    </tr>\n",
       "  </tbody>\n",
       "</table>\n",
       "</div>"
      ],
      "text/plain": [
       "  PassengerId HomePlanet CryoSleep  Cabin  Destination   Age    VIP  \\\n",
       "0     0001_01     Europa     False  B/0/P  TRAPPIST-1e  39.0  False   \n",
       "1     0002_01      Earth     False  F/0/S  TRAPPIST-1e  24.0  False   \n",
       "2     0003_01     Europa     False  A/0/S  TRAPPIST-1e  58.0   True   \n",
       "3     0003_02     Europa     False  A/0/S  TRAPPIST-1e  33.0  False   \n",
       "4     0004_01      Earth     False  F/1/S  TRAPPIST-1e  16.0  False   \n",
       "\n",
       "   RoomService  FoodCourt  ShoppingMall     Spa  VRDeck               Name  \\\n",
       "0          0.0        0.0           0.0     0.0     0.0    Maham Ofracculy   \n",
       "1        109.0        9.0          25.0   549.0    44.0       Juanna Vines   \n",
       "2         43.0     3576.0           0.0  6715.0    49.0      Altark Susent   \n",
       "3          0.0     1283.0         371.0  3329.0   193.0       Solam Susent   \n",
       "4        303.0       70.0         151.0   565.0     2.0  Willy Santantines   \n",
       "\n",
       "   Transported  \n",
       "0        False  \n",
       "1         True  \n",
       "2        False  \n",
       "3        False  \n",
       "4         True  "
      ]
     },
     "metadata": {},
     "output_type": "display_data"
    },
    {
     "name": "stdout",
     "output_type": "stream",
     "text": [
      "test\n"
     ]
    },
    {
     "data": {
      "text/html": [
       "<div>\n",
       "<style scoped>\n",
       "    .dataframe tbody tr th:only-of-type {\n",
       "        vertical-align: middle;\n",
       "    }\n",
       "\n",
       "    .dataframe tbody tr th {\n",
       "        vertical-align: top;\n",
       "    }\n",
       "\n",
       "    .dataframe thead th {\n",
       "        text-align: right;\n",
       "    }\n",
       "</style>\n",
       "<table border=\"1\" class=\"dataframe\">\n",
       "  <thead>\n",
       "    <tr style=\"text-align: right;\">\n",
       "      <th></th>\n",
       "      <th>PassengerId</th>\n",
       "      <th>HomePlanet</th>\n",
       "      <th>CryoSleep</th>\n",
       "      <th>Cabin</th>\n",
       "      <th>Destination</th>\n",
       "      <th>Age</th>\n",
       "      <th>VIP</th>\n",
       "      <th>RoomService</th>\n",
       "      <th>FoodCourt</th>\n",
       "      <th>ShoppingMall</th>\n",
       "      <th>Spa</th>\n",
       "      <th>VRDeck</th>\n",
       "      <th>Name</th>\n",
       "    </tr>\n",
       "  </thead>\n",
       "  <tbody>\n",
       "    <tr>\n",
       "      <th>0</th>\n",
       "      <td>0013_01</td>\n",
       "      <td>Earth</td>\n",
       "      <td>True</td>\n",
       "      <td>G/3/S</td>\n",
       "      <td>TRAPPIST-1e</td>\n",
       "      <td>27.0</td>\n",
       "      <td>False</td>\n",
       "      <td>0.0</td>\n",
       "      <td>0.0</td>\n",
       "      <td>0.0</td>\n",
       "      <td>0.0</td>\n",
       "      <td>0.0</td>\n",
       "      <td>Nelly Carsoning</td>\n",
       "    </tr>\n",
       "    <tr>\n",
       "      <th>1</th>\n",
       "      <td>0018_01</td>\n",
       "      <td>Earth</td>\n",
       "      <td>False</td>\n",
       "      <td>F/4/S</td>\n",
       "      <td>TRAPPIST-1e</td>\n",
       "      <td>19.0</td>\n",
       "      <td>False</td>\n",
       "      <td>0.0</td>\n",
       "      <td>9.0</td>\n",
       "      <td>0.0</td>\n",
       "      <td>2823.0</td>\n",
       "      <td>0.0</td>\n",
       "      <td>Lerome Peckers</td>\n",
       "    </tr>\n",
       "    <tr>\n",
       "      <th>2</th>\n",
       "      <td>0019_01</td>\n",
       "      <td>Europa</td>\n",
       "      <td>True</td>\n",
       "      <td>C/0/S</td>\n",
       "      <td>55 Cancri e</td>\n",
       "      <td>31.0</td>\n",
       "      <td>False</td>\n",
       "      <td>0.0</td>\n",
       "      <td>0.0</td>\n",
       "      <td>0.0</td>\n",
       "      <td>0.0</td>\n",
       "      <td>0.0</td>\n",
       "      <td>Sabih Unhearfus</td>\n",
       "    </tr>\n",
       "    <tr>\n",
       "      <th>3</th>\n",
       "      <td>0021_01</td>\n",
       "      <td>Europa</td>\n",
       "      <td>False</td>\n",
       "      <td>C/1/S</td>\n",
       "      <td>TRAPPIST-1e</td>\n",
       "      <td>38.0</td>\n",
       "      <td>False</td>\n",
       "      <td>0.0</td>\n",
       "      <td>6652.0</td>\n",
       "      <td>0.0</td>\n",
       "      <td>181.0</td>\n",
       "      <td>585.0</td>\n",
       "      <td>Meratz Caltilter</td>\n",
       "    </tr>\n",
       "    <tr>\n",
       "      <th>4</th>\n",
       "      <td>0023_01</td>\n",
       "      <td>Earth</td>\n",
       "      <td>False</td>\n",
       "      <td>F/5/S</td>\n",
       "      <td>TRAPPIST-1e</td>\n",
       "      <td>20.0</td>\n",
       "      <td>False</td>\n",
       "      <td>10.0</td>\n",
       "      <td>0.0</td>\n",
       "      <td>635.0</td>\n",
       "      <td>0.0</td>\n",
       "      <td>0.0</td>\n",
       "      <td>Brence Harperez</td>\n",
       "    </tr>\n",
       "  </tbody>\n",
       "</table>\n",
       "</div>"
      ],
      "text/plain": [
       "  PassengerId HomePlanet CryoSleep  Cabin  Destination   Age    VIP  \\\n",
       "0     0013_01      Earth      True  G/3/S  TRAPPIST-1e  27.0  False   \n",
       "1     0018_01      Earth     False  F/4/S  TRAPPIST-1e  19.0  False   \n",
       "2     0019_01     Europa      True  C/0/S  55 Cancri e  31.0  False   \n",
       "3     0021_01     Europa     False  C/1/S  TRAPPIST-1e  38.0  False   \n",
       "4     0023_01      Earth     False  F/5/S  TRAPPIST-1e  20.0  False   \n",
       "\n",
       "   RoomService  FoodCourt  ShoppingMall     Spa  VRDeck              Name  \n",
       "0          0.0        0.0           0.0     0.0     0.0   Nelly Carsoning  \n",
       "1          0.0        9.0           0.0  2823.0     0.0    Lerome Peckers  \n",
       "2          0.0        0.0           0.0     0.0     0.0   Sabih Unhearfus  \n",
       "3          0.0     6652.0           0.0   181.0   585.0  Meratz Caltilter  \n",
       "4         10.0        0.0         635.0     0.0     0.0   Brence Harperez  "
      ]
     },
     "metadata": {},
     "output_type": "display_data"
    }
   ],
   "source": [
    "for dataset in data_dict:\n",
    "    print(dataset)\n",
    "    display(data_dict[dataset].head())"
   ]
  },
  {
   "cell_type": "markdown",
   "id": "804d3206-bbc9-4f4f-a990-72043cd81043",
   "metadata": {},
   "source": [
    "### Шаг 2. Предобработка и исследовательский анализ данных"
   ]
  },
  {
   "cell_type": "markdown",
   "id": "a922aba2-488e-475f-a1d2-0ff349ff9ea9",
   "metadata": {},
   "source": [
    "Размеры датасетов"
   ]
  },
  {
   "cell_type": "code",
   "execution_count": 5,
   "id": "84e64bd9-cfec-442f-a115-d9e27d992032",
   "metadata": {},
   "outputs": [
    {
     "name": "stdout",
     "output_type": "stream",
     "text": [
      "Размер датасета train (8693, 14)\n",
      "Размер датасета test (4277, 13)\n"
     ]
    }
   ],
   "source": [
    "for dataset in data_dict:\n",
    "    size = data_dict[dataset].shape\n",
    "    print(f'Размер датасета {dataset} {size}')"
   ]
  },
  {
   "cell_type": "markdown",
   "id": "cc187359-a79f-4510-8617-ef4bf1954313",
   "metadata": {},
   "source": [
    "Количество пропущенных значений"
   ]
  },
  {
   "cell_type": "code",
   "execution_count": 6,
   "id": "7967a59a-5d8b-44e3-88cd-3cae865acf15",
   "metadata": {},
   "outputs": [
    {
     "name": "stdout",
     "output_type": "stream",
     "text": [
      "train\n",
      "\n",
      "PassengerId       0\n",
      "HomePlanet      201\n",
      "CryoSleep       217\n",
      "Cabin           199\n",
      "Destination     182\n",
      "Age             179\n",
      "VIP             203\n",
      "RoomService     181\n",
      "FoodCourt       183\n",
      "ShoppingMall    208\n",
      "Spa             183\n",
      "VRDeck          188\n",
      "Name            200\n",
      "Transported       0\n",
      "dtype: int64\n",
      "test\n",
      "\n",
      "PassengerId       0\n",
      "HomePlanet       87\n",
      "CryoSleep        93\n",
      "Cabin           100\n",
      "Destination      92\n",
      "Age              91\n",
      "VIP              93\n",
      "RoomService      82\n",
      "FoodCourt       106\n",
      "ShoppingMall     98\n",
      "Spa             101\n",
      "VRDeck           80\n",
      "Name             94\n",
      "dtype: int64\n"
     ]
    }
   ],
   "source": [
    "for dataset in data_dict:\n",
    "    print(dataset)\n",
    "    print()\n",
    "    print(data_dict[dataset].isna().sum())"
   ]
  },
  {
   "cell_type": "markdown",
   "id": "2fe0e14e-3287-4bbf-8fcf-e7da4311ee26",
   "metadata": {},
   "source": [
    "#### Выделение дополнительных столбцов из `PassengerId` и `Cabin`"
   ]
  },
  {
   "cell_type": "code",
   "execution_count": 7,
   "id": "0282da6b-c94f-44ed-a469-9d1a9a495328",
   "metadata": {},
   "outputs": [],
   "source": [
    "PassengerId = data_dict['test'].PassengerId"
   ]
  },
  {
   "cell_type": "code",
   "execution_count": 8,
   "id": "150a4702-ff8d-4117-b08f-515a8c176073",
   "metadata": {},
   "outputs": [],
   "source": [
    "for dataset in data_dict:\n",
    "    data_dict[dataset]['group_id'] = data_dict[dataset].PassengerId.str.split(r'_\\s*').str[0]\n",
    "    data_dict[dataset]['number_in_group'] = data_dict[dataset].PassengerId.str.split(r'_\\s*').str[1]\n",
    "    data_dict[dataset]['deck'] = data_dict[dataset].Cabin.str.split(r'/\\s*').str[0]\n",
    "    data_dict[dataset]['number'] = data_dict[dataset].Cabin.str.split(r'/\\s*').str[1]\n",
    "    data_dict[dataset]['side'] = data_dict[dataset].Cabin.str.split(r'/\\s*').str[2]\n",
    "    data_dict[dataset] = data_dict[dataset].drop('PassengerId', axis=1)\n",
    "    data_dict[dataset] = data_dict[dataset].drop('Cabin', axis=1)"
   ]
  },
  {
   "cell_type": "code",
   "execution_count": 9,
   "id": "9f0ce6bf-ce34-4432-baf0-4b7426c7f456",
   "metadata": {},
   "outputs": [
    {
     "data": {
      "text/html": [
       "<div>\n",
       "<style scoped>\n",
       "    .dataframe tbody tr th:only-of-type {\n",
       "        vertical-align: middle;\n",
       "    }\n",
       "\n",
       "    .dataframe tbody tr th {\n",
       "        vertical-align: top;\n",
       "    }\n",
       "\n",
       "    .dataframe thead th {\n",
       "        text-align: right;\n",
       "    }\n",
       "</style>\n",
       "<table border=\"1\" class=\"dataframe\">\n",
       "  <thead>\n",
       "    <tr style=\"text-align: right;\">\n",
       "      <th></th>\n",
       "      <th>HomePlanet</th>\n",
       "      <th>CryoSleep</th>\n",
       "      <th>Destination</th>\n",
       "      <th>Age</th>\n",
       "      <th>VIP</th>\n",
       "      <th>RoomService</th>\n",
       "      <th>FoodCourt</th>\n",
       "      <th>ShoppingMall</th>\n",
       "      <th>Spa</th>\n",
       "      <th>VRDeck</th>\n",
       "      <th>Name</th>\n",
       "      <th>Transported</th>\n",
       "      <th>group_id</th>\n",
       "      <th>number_in_group</th>\n",
       "      <th>deck</th>\n",
       "      <th>number</th>\n",
       "      <th>side</th>\n",
       "    </tr>\n",
       "  </thead>\n",
       "  <tbody>\n",
       "    <tr>\n",
       "      <th>0</th>\n",
       "      <td>Europa</td>\n",
       "      <td>False</td>\n",
       "      <td>TRAPPIST-1e</td>\n",
       "      <td>39.0</td>\n",
       "      <td>False</td>\n",
       "      <td>0.0</td>\n",
       "      <td>0.0</td>\n",
       "      <td>0.0</td>\n",
       "      <td>0.0</td>\n",
       "      <td>0.0</td>\n",
       "      <td>Maham Ofracculy</td>\n",
       "      <td>False</td>\n",
       "      <td>0001</td>\n",
       "      <td>01</td>\n",
       "      <td>B</td>\n",
       "      <td>0</td>\n",
       "      <td>P</td>\n",
       "    </tr>\n",
       "    <tr>\n",
       "      <th>1</th>\n",
       "      <td>Earth</td>\n",
       "      <td>False</td>\n",
       "      <td>TRAPPIST-1e</td>\n",
       "      <td>24.0</td>\n",
       "      <td>False</td>\n",
       "      <td>109.0</td>\n",
       "      <td>9.0</td>\n",
       "      <td>25.0</td>\n",
       "      <td>549.0</td>\n",
       "      <td>44.0</td>\n",
       "      <td>Juanna Vines</td>\n",
       "      <td>True</td>\n",
       "      <td>0002</td>\n",
       "      <td>01</td>\n",
       "      <td>F</td>\n",
       "      <td>0</td>\n",
       "      <td>S</td>\n",
       "    </tr>\n",
       "    <tr>\n",
       "      <th>2</th>\n",
       "      <td>Europa</td>\n",
       "      <td>False</td>\n",
       "      <td>TRAPPIST-1e</td>\n",
       "      <td>58.0</td>\n",
       "      <td>True</td>\n",
       "      <td>43.0</td>\n",
       "      <td>3576.0</td>\n",
       "      <td>0.0</td>\n",
       "      <td>6715.0</td>\n",
       "      <td>49.0</td>\n",
       "      <td>Altark Susent</td>\n",
       "      <td>False</td>\n",
       "      <td>0003</td>\n",
       "      <td>01</td>\n",
       "      <td>A</td>\n",
       "      <td>0</td>\n",
       "      <td>S</td>\n",
       "    </tr>\n",
       "    <tr>\n",
       "      <th>3</th>\n",
       "      <td>Europa</td>\n",
       "      <td>False</td>\n",
       "      <td>TRAPPIST-1e</td>\n",
       "      <td>33.0</td>\n",
       "      <td>False</td>\n",
       "      <td>0.0</td>\n",
       "      <td>1283.0</td>\n",
       "      <td>371.0</td>\n",
       "      <td>3329.0</td>\n",
       "      <td>193.0</td>\n",
       "      <td>Solam Susent</td>\n",
       "      <td>False</td>\n",
       "      <td>0003</td>\n",
       "      <td>02</td>\n",
       "      <td>A</td>\n",
       "      <td>0</td>\n",
       "      <td>S</td>\n",
       "    </tr>\n",
       "    <tr>\n",
       "      <th>4</th>\n",
       "      <td>Earth</td>\n",
       "      <td>False</td>\n",
       "      <td>TRAPPIST-1e</td>\n",
       "      <td>16.0</td>\n",
       "      <td>False</td>\n",
       "      <td>303.0</td>\n",
       "      <td>70.0</td>\n",
       "      <td>151.0</td>\n",
       "      <td>565.0</td>\n",
       "      <td>2.0</td>\n",
       "      <td>Willy Santantines</td>\n",
       "      <td>True</td>\n",
       "      <td>0004</td>\n",
       "      <td>01</td>\n",
       "      <td>F</td>\n",
       "      <td>1</td>\n",
       "      <td>S</td>\n",
       "    </tr>\n",
       "  </tbody>\n",
       "</table>\n",
       "</div>"
      ],
      "text/plain": [
       "  HomePlanet CryoSleep  Destination   Age    VIP  RoomService  FoodCourt  \\\n",
       "0     Europa     False  TRAPPIST-1e  39.0  False          0.0        0.0   \n",
       "1      Earth     False  TRAPPIST-1e  24.0  False        109.0        9.0   \n",
       "2     Europa     False  TRAPPIST-1e  58.0   True         43.0     3576.0   \n",
       "3     Europa     False  TRAPPIST-1e  33.0  False          0.0     1283.0   \n",
       "4      Earth     False  TRAPPIST-1e  16.0  False        303.0       70.0   \n",
       "\n",
       "   ShoppingMall     Spa  VRDeck               Name  Transported group_id  \\\n",
       "0           0.0     0.0     0.0    Maham Ofracculy        False     0001   \n",
       "1          25.0   549.0    44.0       Juanna Vines         True     0002   \n",
       "2           0.0  6715.0    49.0      Altark Susent        False     0003   \n",
       "3         371.0  3329.0   193.0       Solam Susent        False     0003   \n",
       "4         151.0   565.0     2.0  Willy Santantines         True     0004   \n",
       "\n",
       "  number_in_group deck number side  \n",
       "0              01    B      0    P  \n",
       "1              01    F      0    S  \n",
       "2              01    A      0    S  \n",
       "3              02    A      0    S  \n",
       "4              01    F      1    S  "
      ]
     },
     "execution_count": 9,
     "metadata": {},
     "output_type": "execute_result"
    }
   ],
   "source": [
    "data_dict['train'].head()"
   ]
  },
  {
   "cell_type": "markdown",
   "id": "aefa6df3-ba67-4946-97b3-4bf226537dfe",
   "metadata": {},
   "source": [
    "#### Переименование столбцов"
   ]
  },
  {
   "cell_type": "code",
   "execution_count": 10,
   "id": "de97de4d-2412-4800-bd50-201352ec00f6",
   "metadata": {},
   "outputs": [],
   "source": [
    "for dataset in data_dict:\n",
    "    data_dict[dataset] = data_dict[dataset].rename(columns={'HomePlanet': 'home_planet', \n",
    "                                                            'CryoSleep': 'cryo_sleep',\n",
    "                                                            'Destination': 'destination',\n",
    "                                                            'Age': 'age',\n",
    "                                                            'VIP': 'vip',\n",
    "                                                            'RoomService': 'room_service',\n",
    "                                                            'FoodCourt': 'food_court',\n",
    "                                                            'ShoppingMall': 'shopping_mall',\n",
    "                                                            'Spa': 'spa',\n",
    "                                                            'VRDeck': 'vr_deck',\n",
    "                                                            'Name': 'name'})\n",
    "data_dict['train'] = data_dict['train'].rename(columns={'Transported': 'transported'})"
   ]
  },
  {
   "cell_type": "code",
   "execution_count": 11,
   "id": "94765a6c-3a52-4966-b3ff-0853123d38cd",
   "metadata": {},
   "outputs": [
    {
     "data": {
      "text/html": [
       "<div>\n",
       "<style scoped>\n",
       "    .dataframe tbody tr th:only-of-type {\n",
       "        vertical-align: middle;\n",
       "    }\n",
       "\n",
       "    .dataframe tbody tr th {\n",
       "        vertical-align: top;\n",
       "    }\n",
       "\n",
       "    .dataframe thead th {\n",
       "        text-align: right;\n",
       "    }\n",
       "</style>\n",
       "<table border=\"1\" class=\"dataframe\">\n",
       "  <thead>\n",
       "    <tr style=\"text-align: right;\">\n",
       "      <th></th>\n",
       "      <th>home_planet</th>\n",
       "      <th>cryo_sleep</th>\n",
       "      <th>destination</th>\n",
       "      <th>age</th>\n",
       "      <th>vip</th>\n",
       "      <th>room_service</th>\n",
       "      <th>food_court</th>\n",
       "      <th>shopping_mall</th>\n",
       "      <th>spa</th>\n",
       "      <th>vr_deck</th>\n",
       "      <th>name</th>\n",
       "      <th>transported</th>\n",
       "      <th>group_id</th>\n",
       "      <th>number_in_group</th>\n",
       "      <th>deck</th>\n",
       "      <th>number</th>\n",
       "      <th>side</th>\n",
       "    </tr>\n",
       "  </thead>\n",
       "  <tbody>\n",
       "    <tr>\n",
       "      <th>0</th>\n",
       "      <td>Europa</td>\n",
       "      <td>False</td>\n",
       "      <td>TRAPPIST-1e</td>\n",
       "      <td>39.0</td>\n",
       "      <td>False</td>\n",
       "      <td>0.0</td>\n",
       "      <td>0.0</td>\n",
       "      <td>0.0</td>\n",
       "      <td>0.0</td>\n",
       "      <td>0.0</td>\n",
       "      <td>Maham Ofracculy</td>\n",
       "      <td>False</td>\n",
       "      <td>0001</td>\n",
       "      <td>01</td>\n",
       "      <td>B</td>\n",
       "      <td>0</td>\n",
       "      <td>P</td>\n",
       "    </tr>\n",
       "    <tr>\n",
       "      <th>1</th>\n",
       "      <td>Earth</td>\n",
       "      <td>False</td>\n",
       "      <td>TRAPPIST-1e</td>\n",
       "      <td>24.0</td>\n",
       "      <td>False</td>\n",
       "      <td>109.0</td>\n",
       "      <td>9.0</td>\n",
       "      <td>25.0</td>\n",
       "      <td>549.0</td>\n",
       "      <td>44.0</td>\n",
       "      <td>Juanna Vines</td>\n",
       "      <td>True</td>\n",
       "      <td>0002</td>\n",
       "      <td>01</td>\n",
       "      <td>F</td>\n",
       "      <td>0</td>\n",
       "      <td>S</td>\n",
       "    </tr>\n",
       "    <tr>\n",
       "      <th>2</th>\n",
       "      <td>Europa</td>\n",
       "      <td>False</td>\n",
       "      <td>TRAPPIST-1e</td>\n",
       "      <td>58.0</td>\n",
       "      <td>True</td>\n",
       "      <td>43.0</td>\n",
       "      <td>3576.0</td>\n",
       "      <td>0.0</td>\n",
       "      <td>6715.0</td>\n",
       "      <td>49.0</td>\n",
       "      <td>Altark Susent</td>\n",
       "      <td>False</td>\n",
       "      <td>0003</td>\n",
       "      <td>01</td>\n",
       "      <td>A</td>\n",
       "      <td>0</td>\n",
       "      <td>S</td>\n",
       "    </tr>\n",
       "    <tr>\n",
       "      <th>3</th>\n",
       "      <td>Europa</td>\n",
       "      <td>False</td>\n",
       "      <td>TRAPPIST-1e</td>\n",
       "      <td>33.0</td>\n",
       "      <td>False</td>\n",
       "      <td>0.0</td>\n",
       "      <td>1283.0</td>\n",
       "      <td>371.0</td>\n",
       "      <td>3329.0</td>\n",
       "      <td>193.0</td>\n",
       "      <td>Solam Susent</td>\n",
       "      <td>False</td>\n",
       "      <td>0003</td>\n",
       "      <td>02</td>\n",
       "      <td>A</td>\n",
       "      <td>0</td>\n",
       "      <td>S</td>\n",
       "    </tr>\n",
       "    <tr>\n",
       "      <th>4</th>\n",
       "      <td>Earth</td>\n",
       "      <td>False</td>\n",
       "      <td>TRAPPIST-1e</td>\n",
       "      <td>16.0</td>\n",
       "      <td>False</td>\n",
       "      <td>303.0</td>\n",
       "      <td>70.0</td>\n",
       "      <td>151.0</td>\n",
       "      <td>565.0</td>\n",
       "      <td>2.0</td>\n",
       "      <td>Willy Santantines</td>\n",
       "      <td>True</td>\n",
       "      <td>0004</td>\n",
       "      <td>01</td>\n",
       "      <td>F</td>\n",
       "      <td>1</td>\n",
       "      <td>S</td>\n",
       "    </tr>\n",
       "  </tbody>\n",
       "</table>\n",
       "</div>"
      ],
      "text/plain": [
       "  home_planet cryo_sleep  destination   age    vip  room_service  food_court  \\\n",
       "0      Europa      False  TRAPPIST-1e  39.0  False           0.0         0.0   \n",
       "1       Earth      False  TRAPPIST-1e  24.0  False         109.0         9.0   \n",
       "2      Europa      False  TRAPPIST-1e  58.0   True          43.0      3576.0   \n",
       "3      Europa      False  TRAPPIST-1e  33.0  False           0.0      1283.0   \n",
       "4       Earth      False  TRAPPIST-1e  16.0  False         303.0        70.0   \n",
       "\n",
       "   shopping_mall     spa  vr_deck               name  transported group_id  \\\n",
       "0            0.0     0.0      0.0    Maham Ofracculy        False     0001   \n",
       "1           25.0   549.0     44.0       Juanna Vines         True     0002   \n",
       "2            0.0  6715.0     49.0      Altark Susent        False     0003   \n",
       "3          371.0  3329.0    193.0       Solam Susent        False     0003   \n",
       "4          151.0   565.0      2.0  Willy Santantines         True     0004   \n",
       "\n",
       "  number_in_group deck number side  \n",
       "0              01    B      0    P  \n",
       "1              01    F      0    S  \n",
       "2              01    A      0    S  \n",
       "3              02    A      0    S  \n",
       "4              01    F      1    S  "
      ]
     },
     "execution_count": 11,
     "metadata": {},
     "output_type": "execute_result"
    }
   ],
   "source": [
    "data_dict['train'].head()"
   ]
  },
  {
   "cell_type": "markdown",
   "id": "9333abd8-453f-40d5-bdca-51d747281040",
   "metadata": {},
   "source": [
    "#### Cabin"
   ]
  },
  {
   "cell_type": "code",
   "execution_count": 12,
   "id": "62455425-f0c9-4d2a-af3b-27f53990349c",
   "metadata": {},
   "outputs": [
    {
     "name": "stdout",
     "output_type": "stream",
     "text": [
      "train\n",
      "\n",
      "deck      199\n",
      "number    199\n",
      "side      199\n",
      "dtype: int64\n",
      "test\n",
      "\n",
      "deck      100\n",
      "number    100\n",
      "side      100\n",
      "dtype: int64\n"
     ]
    }
   ],
   "source": [
    "for dataset in data_dict:\n",
    "    print(dataset)\n",
    "    print()\n",
    "    print(data_dict[dataset][['deck', 'number', 'side']].isna().sum())"
   ]
  },
  {
   "cell_type": "code",
   "execution_count": 13,
   "id": "1d249956-cc03-4ba3-8f35-0e7db39345a1",
   "metadata": {},
   "outputs": [],
   "source": [
    "for dataset in data_dict:\n",
    "    group_group_id = list(data_dict[dataset].query('number_in_group != \"01\" and number_in_group == number_in_group and deck == deck').group_id.unique())\n",
    "    for index, row in data_dict[dataset].iterrows():\n",
    "        if row.group_id in group_group_id and row.deck != row.deck:\n",
    "            group_id = row.group_id\n",
    "            request_group_groupId = pd.DataFrame(data_dict[dataset].query('group_id in @group_id'))\n",
    "            for request_index, request_row in request_group_groupId.iterrows():\n",
    "                if request_row.deck == request_row.deck:            \n",
    "                    data_dict[dataset].loc[index, 'deck'] = request_row.deck\n",
    "                    data_dict[dataset].loc[index, 'number'] = request_row.number\n",
    "                    data_dict[dataset].loc[index, 'side'] = request_row.side"
   ]
  },
  {
   "cell_type": "code",
   "execution_count": 14,
   "id": "6f992175-a6ee-45e7-8d83-47225d5a0c4d",
   "metadata": {},
   "outputs": [
    {
     "name": "stdout",
     "output_type": "stream",
     "text": [
      "train\n",
      "\n",
      "deck      119\n",
      "number    119\n",
      "side      119\n",
      "dtype: int64\n",
      "test\n",
      "\n",
      "deck      73\n",
      "number    73\n",
      "side      73\n",
      "dtype: int64\n"
     ]
    }
   ],
   "source": [
    "for dataset in data_dict:\n",
    "    print(dataset)\n",
    "    print()\n",
    "    print(data_dict[dataset][['deck', 'number', 'side']].isna().sum())"
   ]
  },
  {
   "cell_type": "code",
   "execution_count": 169,
   "id": "6baf1dc8-4f0e-44ed-994a-67c32fc7fd08",
   "metadata": {},
   "outputs": [],
   "source": [
    "def transported_stat(target_feature):\n",
    "    temp_table = data_dict['train'].groupby(by=[target_feature])['transported'].agg(['count', 'sum', 'mean']).rename(columns={\"count\": \"total\", \"sum\": \"transported\"})\n",
    "    f, ax = plt.subplots(figsize=(14, 7))\n",
    "    sns.set_theme(style=\"whitegrid\")\n",
    "    sns.set_color_codes(\"pastel\")\n",
    "    sns.barplot( x=temp_table.index, y = 'total',  data=temp_table, label=\"Total\", color='b')\n",
    "    sns.set_color_codes(\"muted\")\n",
    "    sns.barplot( x=temp_table.index, y = 'transported', data=temp_table, label=\"Transported\", color=\"b\")\n",
    "    ax.legend(ncol=2, loc=\"lower right\", frameon=True)\n",
    "    ax.set( ylabel=\"\",\n",
    "    xlabel='Transported passenger per ' + target_feature);"
   ]
  },
  {
   "cell_type": "code",
   "execution_count": 185,
   "id": "d039c35c-72bc-4b2d-be13-24fa3514a1cb",
   "metadata": {},
   "outputs": [
    {
     "data": {
      "text/html": [
       "<div>\n",
       "<style scoped>\n",
       "    .dataframe tbody tr th:only-of-type {\n",
       "        vertical-align: middle;\n",
       "    }\n",
       "\n",
       "    .dataframe tbody tr th {\n",
       "        vertical-align: top;\n",
       "    }\n",
       "\n",
       "    .dataframe thead th {\n",
       "        text-align: right;\n",
       "    }\n",
       "</style>\n",
       "<table border=\"1\" class=\"dataframe\">\n",
       "  <thead>\n",
       "    <tr style=\"text-align: right;\">\n",
       "      <th></th>\n",
       "      <th>count</th>\n",
       "      <th>sum</th>\n",
       "      <th>mean</th>\n",
       "    </tr>\n",
       "    <tr>\n",
       "      <th>side</th>\n",
       "      <th></th>\n",
       "      <th></th>\n",
       "      <th></th>\n",
       "    </tr>\n",
       "  </thead>\n",
       "  <tbody>\n",
       "    <tr>\n",
       "      <th>0.0</th>\n",
       "      <td>4243</td>\n",
       "      <td>1915</td>\n",
       "      <td>0.451332</td>\n",
       "    </tr>\n",
       "    <tr>\n",
       "      <th>1.0</th>\n",
       "      <td>4331</td>\n",
       "      <td>2408</td>\n",
       "      <td>0.555992</td>\n",
       "    </tr>\n",
       "    <tr>\n",
       "      <th>2.0</th>\n",
       "      <td>119</td>\n",
       "      <td>55</td>\n",
       "      <td>0.462185</td>\n",
       "    </tr>\n",
       "  </tbody>\n",
       "</table>\n",
       "</div>"
      ],
      "text/plain": [
       "      count   sum      mean\n",
       "side                       \n",
       "0.0    4243  1915  0.451332\n",
       "1.0    4331  2408  0.555992\n",
       "2.0     119    55  0.462185"
      ]
     },
     "metadata": {},
     "output_type": "display_data"
    },
    {
     "ename": "ValueError",
     "evalue": "The truth value of a Series is ambiguous. Use a.empty, a.bool(), a.item(), a.any() or a.all().",
     "output_type": "error",
     "traceback": [
      "\u001b[1;31m---------------------------------------------------------------------------\u001b[0m",
      "\u001b[1;31mValueError\u001b[0m                                Traceback (most recent call last)",
      "\u001b[1;32m~\\AppData\\Local\\Temp/ipykernel_23600/3848916893.py\u001b[0m in \u001b[0;36m<module>\u001b[1;34m\u001b[0m\n\u001b[0;32m      1\u001b[0m \u001b[0mhome_planet_table\u001b[0m \u001b[1;33m=\u001b[0m \u001b[0mdata_dict\u001b[0m\u001b[1;33m[\u001b[0m\u001b[1;34m'train'\u001b[0m\u001b[1;33m]\u001b[0m\u001b[1;33m.\u001b[0m\u001b[0mgroupby\u001b[0m\u001b[1;33m(\u001b[0m\u001b[0mby\u001b[0m\u001b[1;33m=\u001b[0m\u001b[1;33m[\u001b[0m\u001b[1;34m'side'\u001b[0m\u001b[1;33m]\u001b[0m\u001b[1;33m)\u001b[0m\u001b[1;33m[\u001b[0m\u001b[1;34m'transported'\u001b[0m\u001b[1;33m]\u001b[0m\u001b[1;33m.\u001b[0m\u001b[0magg\u001b[0m\u001b[1;33m(\u001b[0m\u001b[1;33m[\u001b[0m\u001b[1;34m'count'\u001b[0m\u001b[1;33m,\u001b[0m \u001b[1;34m'sum'\u001b[0m\u001b[1;33m,\u001b[0m \u001b[1;34m'mean'\u001b[0m\u001b[1;33m]\u001b[0m\u001b[1;33m)\u001b[0m\u001b[1;33m\u001b[0m\u001b[1;33m\u001b[0m\u001b[0m\n\u001b[0;32m      2\u001b[0m \u001b[0mdisplay\u001b[0m\u001b[1;33m(\u001b[0m\u001b[0mhome_planet_table\u001b[0m\u001b[1;33m)\u001b[0m\u001b[1;33m\u001b[0m\u001b[1;33m\u001b[0m\u001b[0m\n\u001b[1;32m----> 3\u001b[1;33m sns.catplot(\n\u001b[0m\u001b[0;32m      4\u001b[0m     \u001b[0mdata\u001b[0m\u001b[1;33m=\u001b[0m\u001b[0mdata_dict\u001b[0m\u001b[1;33m[\u001b[0m\u001b[1;34m'train'\u001b[0m\u001b[1;33m]\u001b[0m\u001b[1;33m,\u001b[0m \u001b[0mkind\u001b[0m\u001b[1;33m=\u001b[0m\u001b[1;34m\"bar\"\u001b[0m\u001b[1;33m,\u001b[0m\u001b[1;33m\u001b[0m\u001b[1;33m\u001b[0m\u001b[0m\n\u001b[0;32m      5\u001b[0m     x=\"side\", y=data_dict['train']['transported'], hue='transported', palette=\"dark\", alpha=.6, height=6)\n",
      "\u001b[1;32m~\\anaconda3\\lib\\site-packages\\seaborn\\_decorators.py\u001b[0m in \u001b[0;36minner_f\u001b[1;34m(*args, **kwargs)\u001b[0m\n\u001b[0;32m     44\u001b[0m             )\n\u001b[0;32m     45\u001b[0m         \u001b[0mkwargs\u001b[0m\u001b[1;33m.\u001b[0m\u001b[0mupdate\u001b[0m\u001b[1;33m(\u001b[0m\u001b[1;33m{\u001b[0m\u001b[0mk\u001b[0m\u001b[1;33m:\u001b[0m \u001b[0marg\u001b[0m \u001b[1;32mfor\u001b[0m \u001b[0mk\u001b[0m\u001b[1;33m,\u001b[0m \u001b[0marg\u001b[0m \u001b[1;32min\u001b[0m \u001b[0mzip\u001b[0m\u001b[1;33m(\u001b[0m\u001b[0msig\u001b[0m\u001b[1;33m.\u001b[0m\u001b[0mparameters\u001b[0m\u001b[1;33m,\u001b[0m \u001b[0margs\u001b[0m\u001b[1;33m)\u001b[0m\u001b[1;33m}\u001b[0m\u001b[1;33m)\u001b[0m\u001b[1;33m\u001b[0m\u001b[1;33m\u001b[0m\u001b[0m\n\u001b[1;32m---> 46\u001b[1;33m         \u001b[1;32mreturn\u001b[0m \u001b[0mf\u001b[0m\u001b[1;33m(\u001b[0m\u001b[1;33m**\u001b[0m\u001b[0mkwargs\u001b[0m\u001b[1;33m)\u001b[0m\u001b[1;33m\u001b[0m\u001b[1;33m\u001b[0m\u001b[0m\n\u001b[0m\u001b[0;32m     47\u001b[0m     \u001b[1;32mreturn\u001b[0m \u001b[0minner_f\u001b[0m\u001b[1;33m\u001b[0m\u001b[1;33m\u001b[0m\u001b[0m\n\u001b[0;32m     48\u001b[0m \u001b[1;33m\u001b[0m\u001b[0m\n",
      "\u001b[1;32m~\\anaconda3\\lib\\site-packages\\seaborn\\categorical.py\u001b[0m in \u001b[0;36mcatplot\u001b[1;34m(x, y, hue, data, row, col, col_wrap, estimator, ci, n_boot, units, seed, order, hue_order, row_order, col_order, kind, height, aspect, orient, color, palette, legend, legend_out, sharex, sharey, margin_titles, facet_kws, **kwargs)\u001b[0m\n\u001b[0;32m   3790\u001b[0m     \u001b[0mp\u001b[0m \u001b[1;33m=\u001b[0m \u001b[0m_CategoricalPlotter\u001b[0m\u001b[1;33m(\u001b[0m\u001b[1;33m)\u001b[0m\u001b[1;33m\u001b[0m\u001b[1;33m\u001b[0m\u001b[0m\n\u001b[0;32m   3791\u001b[0m     \u001b[0mp\u001b[0m\u001b[1;33m.\u001b[0m\u001b[0mrequire_numeric\u001b[0m \u001b[1;33m=\u001b[0m \u001b[0mplotter_class\u001b[0m\u001b[1;33m.\u001b[0m\u001b[0mrequire_numeric\u001b[0m\u001b[1;33m\u001b[0m\u001b[1;33m\u001b[0m\u001b[0m\n\u001b[1;32m-> 3792\u001b[1;33m     \u001b[0mp\u001b[0m\u001b[1;33m.\u001b[0m\u001b[0mestablish_variables\u001b[0m\u001b[1;33m(\u001b[0m\u001b[0mx_\u001b[0m\u001b[1;33m,\u001b[0m \u001b[0my_\u001b[0m\u001b[1;33m,\u001b[0m \u001b[0mhue\u001b[0m\u001b[1;33m,\u001b[0m \u001b[0mdata\u001b[0m\u001b[1;33m,\u001b[0m \u001b[0morient\u001b[0m\u001b[1;33m,\u001b[0m \u001b[0morder\u001b[0m\u001b[1;33m,\u001b[0m \u001b[0mhue_order\u001b[0m\u001b[1;33m)\u001b[0m\u001b[1;33m\u001b[0m\u001b[1;33m\u001b[0m\u001b[0m\n\u001b[0m\u001b[0;32m   3793\u001b[0m     if (\n\u001b[0;32m   3794\u001b[0m         \u001b[0morder\u001b[0m \u001b[1;32mis\u001b[0m \u001b[1;32mnot\u001b[0m \u001b[1;32mNone\u001b[0m\u001b[1;33m\u001b[0m\u001b[1;33m\u001b[0m\u001b[0m\n",
      "\u001b[1;32m~\\anaconda3\\lib\\site-packages\\seaborn\\categorical.py\u001b[0m in \u001b[0;36mestablish_variables\u001b[1;34m(self, x, y, hue, data, orient, order, hue_order, units)\u001b[0m\n\u001b[0;32m    154\u001b[0m \u001b[1;33m\u001b[0m\u001b[0m\n\u001b[0;32m    155\u001b[0m             \u001b[1;31m# Figure out the plotting orientation\u001b[0m\u001b[1;33m\u001b[0m\u001b[1;33m\u001b[0m\u001b[0m\n\u001b[1;32m--> 156\u001b[1;33m             orient = infer_orient(\n\u001b[0m\u001b[0;32m    157\u001b[0m                 \u001b[0mx\u001b[0m\u001b[1;33m,\u001b[0m \u001b[0my\u001b[0m\u001b[1;33m,\u001b[0m \u001b[0morient\u001b[0m\u001b[1;33m,\u001b[0m \u001b[0mrequire_numeric\u001b[0m\u001b[1;33m=\u001b[0m\u001b[0mself\u001b[0m\u001b[1;33m.\u001b[0m\u001b[0mrequire_numeric\u001b[0m\u001b[1;33m\u001b[0m\u001b[1;33m\u001b[0m\u001b[0m\n\u001b[0;32m    158\u001b[0m             )\n",
      "\u001b[1;32m~\\anaconda3\\lib\\site-packages\\seaborn\\_core.py\u001b[0m in \u001b[0;36minfer_orient\u001b[1;34m(x, y, orient, require_numeric)\u001b[0m\n\u001b[0;32m   1310\u001b[0m \u001b[1;33m\u001b[0m\u001b[0m\n\u001b[0;32m   1311\u001b[0m     \u001b[0mx_type\u001b[0m \u001b[1;33m=\u001b[0m \u001b[1;32mNone\u001b[0m \u001b[1;32mif\u001b[0m \u001b[0mx\u001b[0m \u001b[1;32mis\u001b[0m \u001b[1;32mNone\u001b[0m \u001b[1;32melse\u001b[0m \u001b[0mvariable_type\u001b[0m\u001b[1;33m(\u001b[0m\u001b[0mx\u001b[0m\u001b[1;33m)\u001b[0m\u001b[1;33m\u001b[0m\u001b[1;33m\u001b[0m\u001b[0m\n\u001b[1;32m-> 1312\u001b[1;33m     \u001b[0my_type\u001b[0m \u001b[1;33m=\u001b[0m \u001b[1;32mNone\u001b[0m \u001b[1;32mif\u001b[0m \u001b[0my\u001b[0m \u001b[1;32mis\u001b[0m \u001b[1;32mNone\u001b[0m \u001b[1;32melse\u001b[0m \u001b[0mvariable_type\u001b[0m\u001b[1;33m(\u001b[0m\u001b[0my\u001b[0m\u001b[1;33m)\u001b[0m\u001b[1;33m\u001b[0m\u001b[1;33m\u001b[0m\u001b[0m\n\u001b[0m\u001b[0;32m   1313\u001b[0m \u001b[1;33m\u001b[0m\u001b[0m\n\u001b[0;32m   1314\u001b[0m     \u001b[0mnonnumeric_dv_error\u001b[0m \u001b[1;33m=\u001b[0m \u001b[1;34m\"{} orientation requires numeric `{}` variable.\"\u001b[0m\u001b[1;33m\u001b[0m\u001b[1;33m\u001b[0m\u001b[0m\n",
      "\u001b[1;32m~\\anaconda3\\lib\\site-packages\\seaborn\\_core.py\u001b[0m in \u001b[0;36mvariable_type\u001b[1;34m(vector, boolean_type)\u001b[0m\n\u001b[0;32m   1227\u001b[0m \u001b[1;33m\u001b[0m\u001b[0m\n\u001b[0;32m   1228\u001b[0m     \u001b[1;31m# Special-case all-na data, which is always \"numeric\"\u001b[0m\u001b[1;33m\u001b[0m\u001b[1;33m\u001b[0m\u001b[0m\n\u001b[1;32m-> 1229\u001b[1;33m     \u001b[1;32mif\u001b[0m \u001b[0mpd\u001b[0m\u001b[1;33m.\u001b[0m\u001b[0misna\u001b[0m\u001b[1;33m(\u001b[0m\u001b[0mvector\u001b[0m\u001b[1;33m)\u001b[0m\u001b[1;33m.\u001b[0m\u001b[0mall\u001b[0m\u001b[1;33m(\u001b[0m\u001b[1;33m)\u001b[0m\u001b[1;33m:\u001b[0m\u001b[1;33m\u001b[0m\u001b[1;33m\u001b[0m\u001b[0m\n\u001b[0m\u001b[0;32m   1230\u001b[0m         \u001b[1;32mreturn\u001b[0m \u001b[1;34m\"numeric\"\u001b[0m\u001b[1;33m\u001b[0m\u001b[1;33m\u001b[0m\u001b[0m\n\u001b[0;32m   1231\u001b[0m \u001b[1;33m\u001b[0m\u001b[0m\n",
      "\u001b[1;32m~\\anaconda3\\lib\\site-packages\\pandas\\core\\generic.py\u001b[0m in \u001b[0;36m__nonzero__\u001b[1;34m(self)\u001b[0m\n\u001b[0;32m   1535\u001b[0m     \u001b[1;33m@\u001b[0m\u001b[0mfinal\u001b[0m\u001b[1;33m\u001b[0m\u001b[1;33m\u001b[0m\u001b[0m\n\u001b[0;32m   1536\u001b[0m     \u001b[1;32mdef\u001b[0m \u001b[0m__nonzero__\u001b[0m\u001b[1;33m(\u001b[0m\u001b[0mself\u001b[0m\u001b[1;33m)\u001b[0m\u001b[1;33m:\u001b[0m\u001b[1;33m\u001b[0m\u001b[1;33m\u001b[0m\u001b[0m\n\u001b[1;32m-> 1537\u001b[1;33m         raise ValueError(\n\u001b[0m\u001b[0;32m   1538\u001b[0m             \u001b[1;34mf\"The truth value of a {type(self).__name__} is ambiguous. \"\u001b[0m\u001b[1;33m\u001b[0m\u001b[1;33m\u001b[0m\u001b[0m\n\u001b[0;32m   1539\u001b[0m             \u001b[1;34m\"Use a.empty, a.bool(), a.item(), a.any() or a.all().\"\u001b[0m\u001b[1;33m\u001b[0m\u001b[1;33m\u001b[0m\u001b[0m\n",
      "\u001b[1;31mValueError\u001b[0m: The truth value of a Series is ambiguous. Use a.empty, a.bool(), a.item(), a.any() or a.all()."
     ]
    }
   ],
   "source": [
    "home_planet_table = data_dict['train'].groupby(by=['side'])['transported'].agg(['count', 'sum', 'mean'])\n",
    "display(home_planet_table)\n",
    "sns.catplot(\n",
    "    data=data_dict['train'], kind=\"bar\",\n",
    "    x=\"side\", y=data_dict['train']['transported'], hue='transported', palette=\"dark\", alpha=.6, height=6)"
   ]
  },
  {
   "cell_type": "code",
   "execution_count": 171,
   "id": "6dd1240a-4851-4d36-9d06-8ecf659b8757",
   "metadata": {},
   "outputs": [
    {
     "data": {
      "image/png": "[encoded data removed]",
      "text/plain": [
       "<Figure size 1008x504 with 1 Axes>"
      ]
     },
     "metadata": {},
     "output_type": "display_data"
    }
   ],
   "source": [
    "transported_stat('side')"
   ]
  },
  {
   "cell_type": "code",
   "execution_count": 16,
   "id": "292295be-a6b8-4d63-86cd-8a4f699072a5",
   "metadata": {},
   "outputs": [
    {
     "data": {
      "text/html": [
       "<div>\n",
       "<style scoped>\n",
       "    .dataframe tbody tr th:only-of-type {\n",
       "        vertical-align: middle;\n",
       "    }\n",
       "\n",
       "    .dataframe tbody tr th {\n",
       "        vertical-align: top;\n",
       "    }\n",
       "\n",
       "    .dataframe thead th {\n",
       "        text-align: right;\n",
       "    }\n",
       "</style>\n",
       "<table border=\"1\" class=\"dataframe\">\n",
       "  <thead>\n",
       "    <tr style=\"text-align: right;\">\n",
       "      <th></th>\n",
       "      <th>count</th>\n",
       "      <th>sum</th>\n",
       "      <th>mean</th>\n",
       "    </tr>\n",
       "    <tr>\n",
       "      <th>deck</th>\n",
       "      <th></th>\n",
       "      <th></th>\n",
       "      <th></th>\n",
       "    </tr>\n",
       "  </thead>\n",
       "  <tbody>\n",
       "    <tr>\n",
       "      <th>A</th>\n",
       "      <td>261</td>\n",
       "      <td>131</td>\n",
       "      <td>0.501916</td>\n",
       "    </tr>\n",
       "    <tr>\n",
       "      <th>B</th>\n",
       "      <td>790</td>\n",
       "      <td>580</td>\n",
       "      <td>0.734177</td>\n",
       "    </tr>\n",
       "    <tr>\n",
       "      <th>C</th>\n",
       "      <td>758</td>\n",
       "      <td>517</td>\n",
       "      <td>0.682058</td>\n",
       "    </tr>\n",
       "    <tr>\n",
       "      <th>D</th>\n",
       "      <td>485</td>\n",
       "      <td>209</td>\n",
       "      <td>0.430928</td>\n",
       "    </tr>\n",
       "    <tr>\n",
       "      <th>E</th>\n",
       "      <td>884</td>\n",
       "      <td>320</td>\n",
       "      <td>0.361991</td>\n",
       "    </tr>\n",
       "    <tr>\n",
       "      <th>F</th>\n",
       "      <td>2805</td>\n",
       "      <td>1232</td>\n",
       "      <td>0.439216</td>\n",
       "    </tr>\n",
       "    <tr>\n",
       "      <th>G</th>\n",
       "      <td>2586</td>\n",
       "      <td>1333</td>\n",
       "      <td>0.515468</td>\n",
       "    </tr>\n",
       "    <tr>\n",
       "      <th>T</th>\n",
       "      <td>5</td>\n",
       "      <td>1</td>\n",
       "      <td>0.200000</td>\n",
       "    </tr>\n",
       "  </tbody>\n",
       "</table>\n",
       "</div>"
      ],
      "text/plain": [
       "      count   sum      mean\n",
       "deck                       \n",
       "A       261   131  0.501916\n",
       "B       790   580  0.734177\n",
       "C       758   517  0.682058\n",
       "D       485   209  0.430928\n",
       "E       884   320  0.361991\n",
       "F      2805  1232  0.439216\n",
       "G      2586  1333  0.515468\n",
       "T         5     1  0.200000"
      ]
     },
     "metadata": {},
     "output_type": "display_data"
    },
    {
     "data": {
      "image/png": "[encoded data removed]",
      "text/plain": [
       "<Figure size 1080x504 with 1 Axes>"
      ]
     },
     "metadata": {
      "needs_background": "light"
     },
     "output_type": "display_data"
    }
   ],
   "source": [
    "home_planet_table = data_dict['train'].groupby(by=['deck'])['transported'].agg(['count', 'sum', 'mean'])\n",
    "display(home_planet_table)\n",
    "home_planet_table['count'] = home_planet_table['count'] - home_planet_table['sum']\n",
    "home_planet_table = home_planet_table.rename(columns={\"count\": \"total\", \"sum\": \"transported\"})\n",
    "home_planet_table[['transported', 'total']].plot(kind='bar', stacked=True, legend=True, figsize=(15,7));"
   ]
  },
  {
   "cell_type": "markdown",
   "id": "0fc5fe63-c60b-4685-b99a-dde38ca78b76",
   "metadata": {},
   "source": [
    "#### HomePlanet"
   ]
  },
  {
   "cell_type": "markdown",
   "id": "48a3eaac-9b2d-4032-83e9-415085e439b0",
   "metadata": {},
   "source": [
    "Строки с пропусками в столбце `HomePlanet`"
   ]
  },
  {
   "cell_type": "code",
   "execution_count": 17,
   "id": "89df24a1-6c75-4ab8-b029-f1ad11bc6a22",
   "metadata": {},
   "outputs": [
    {
     "data": {
      "text/plain": [
       "3794"
      ]
     },
     "execution_count": 17,
     "metadata": {},
     "output_type": "execute_result"
    }
   ],
   "source": [
    "group_id_nan_home_planet = data_dict['train'].query('home_planet == home_planet and number_in_group == \"02\"').group_id\n",
    "len(data_dict['train'].query('group_id in @group_id_nan_home_planet').sort_values(by='group_id'))"
   ]
  },
  {
   "cell_type": "code",
   "execution_count": 18,
   "id": "c39b6951-aaba-49d1-8697-24a3c85d749c",
   "metadata": {},
   "outputs": [
    {
     "data": {
      "text/plain": [
       "397"
      ]
     },
     "execution_count": 18,
     "metadata": {},
     "output_type": "execute_result"
    }
   ],
   "source": [
    "group_id_nan_home_planet = data_dict['train'].query('home_planet != home_planet').group_id\n",
    "len(data_dict['train'].query('group_id in @group_id_nan_home_planet').sort_values(by='group_id'))"
   ]
  },
  {
   "cell_type": "markdown",
   "id": "7ef5ba59-7447-4e8d-8e31-0b827bb575eb",
   "metadata": {},
   "source": [
    "Уникальные значения столбца `HomePlanet`"
   ]
  },
  {
   "cell_type": "code",
   "execution_count": 19,
   "id": "1f93661f-b3bd-4883-9504-5800f514e4ac",
   "metadata": {},
   "outputs": [
    {
     "data": {
      "text/plain": [
       "array(['Europa', 'Earth', 'Mars', nan], dtype=object)"
      ]
     },
     "execution_count": 19,
     "metadata": {},
     "output_type": "execute_result"
    }
   ],
   "source": [
    "data_dict['train']['home_planet'].unique()"
   ]
  },
  {
   "cell_type": "markdown",
   "id": "b1a6e9db-7cd0-4eac-bd21-70a7c233b902",
   "metadata": {},
   "source": [
    "Можем заполнить пропуски `HomePlanet` для групповых трансферов - значениями `HomePlanet` других членов группы"
   ]
  },
  {
   "cell_type": "code",
   "execution_count": 20,
   "id": "347ddc96-2b64-4913-b8a2-08c09fc7065b",
   "metadata": {},
   "outputs": [
    {
     "data": {
      "text/html": [
       "<div>\n",
       "<style scoped>\n",
       "    .dataframe tbody tr th:only-of-type {\n",
       "        vertical-align: middle;\n",
       "    }\n",
       "\n",
       "    .dataframe tbody tr th {\n",
       "        vertical-align: top;\n",
       "    }\n",
       "\n",
       "    .dataframe thead th {\n",
       "        text-align: right;\n",
       "    }\n",
       "</style>\n",
       "<table border=\"1\" class=\"dataframe\">\n",
       "  <thead>\n",
       "    <tr style=\"text-align: right;\">\n",
       "      <th></th>\n",
       "      <th>home_planet</th>\n",
       "      <th>cryo_sleep</th>\n",
       "      <th>destination</th>\n",
       "      <th>age</th>\n",
       "      <th>vip</th>\n",
       "      <th>room_service</th>\n",
       "      <th>food_court</th>\n",
       "      <th>shopping_mall</th>\n",
       "      <th>spa</th>\n",
       "      <th>vr_deck</th>\n",
       "      <th>name</th>\n",
       "      <th>transported</th>\n",
       "      <th>group_id</th>\n",
       "      <th>number_in_group</th>\n",
       "      <th>deck</th>\n",
       "      <th>number</th>\n",
       "      <th>side</th>\n",
       "    </tr>\n",
       "  </thead>\n",
       "  <tbody>\n",
       "    <tr>\n",
       "      <th>4768</th>\n",
       "      <td>Earth</td>\n",
       "      <td>NaN</td>\n",
       "      <td>TRAPPIST-1e</td>\n",
       "      <td>0.0</td>\n",
       "      <td>False</td>\n",
       "      <td>0.0</td>\n",
       "      <td>0.0</td>\n",
       "      <td>0.0</td>\n",
       "      <td>0.0</td>\n",
       "      <td>0.0</td>\n",
       "      <td>NaN</td>\n",
       "      <td>False</td>\n",
       "      <td>5090</td>\n",
       "      <td>01</td>\n",
       "      <td>G</td>\n",
       "      <td>821</td>\n",
       "      <td>P</td>\n",
       "    </tr>\n",
       "    <tr>\n",
       "      <th>4769</th>\n",
       "      <td>Earth</td>\n",
       "      <td>True</td>\n",
       "      <td>TRAPPIST-1e</td>\n",
       "      <td>0.0</td>\n",
       "      <td>False</td>\n",
       "      <td>0.0</td>\n",
       "      <td>0.0</td>\n",
       "      <td>0.0</td>\n",
       "      <td>0.0</td>\n",
       "      <td>0.0</td>\n",
       "      <td>Luzel Willy</td>\n",
       "      <td>False</td>\n",
       "      <td>5090</td>\n",
       "      <td>02</td>\n",
       "      <td>G</td>\n",
       "      <td>821</td>\n",
       "      <td>P</td>\n",
       "    </tr>\n",
       "    <tr>\n",
       "      <th>4770</th>\n",
       "      <td>NaN</td>\n",
       "      <td>False</td>\n",
       "      <td>PSO J318.5-22</td>\n",
       "      <td>12.0</td>\n",
       "      <td>False</td>\n",
       "      <td>0.0</td>\n",
       "      <td>0.0</td>\n",
       "      <td>0.0</td>\n",
       "      <td>0.0</td>\n",
       "      <td>0.0</td>\n",
       "      <td>Joyton Willy</td>\n",
       "      <td>True</td>\n",
       "      <td>5090</td>\n",
       "      <td>03</td>\n",
       "      <td>G</td>\n",
       "      <td>821</td>\n",
       "      <td>P</td>\n",
       "    </tr>\n",
       "    <tr>\n",
       "      <th>4771</th>\n",
       "      <td>Earth</td>\n",
       "      <td>True</td>\n",
       "      <td>TRAPPIST-1e</td>\n",
       "      <td>7.0</td>\n",
       "      <td>False</td>\n",
       "      <td>0.0</td>\n",
       "      <td>0.0</td>\n",
       "      <td>0.0</td>\n",
       "      <td>0.0</td>\n",
       "      <td>0.0</td>\n",
       "      <td>Adamy Willy</td>\n",
       "      <td>False</td>\n",
       "      <td>5090</td>\n",
       "      <td>04</td>\n",
       "      <td>G</td>\n",
       "      <td>821</td>\n",
       "      <td>P</td>\n",
       "    </tr>\n",
       "    <tr>\n",
       "      <th>4772</th>\n",
       "      <td>Earth</td>\n",
       "      <td>False</td>\n",
       "      <td>PSO J318.5-22</td>\n",
       "      <td>32.0</td>\n",
       "      <td>False</td>\n",
       "      <td>793.0</td>\n",
       "      <td>0.0</td>\n",
       "      <td>0.0</td>\n",
       "      <td>0.0</td>\n",
       "      <td>0.0</td>\n",
       "      <td>Annya Willy</td>\n",
       "      <td>False</td>\n",
       "      <td>5090</td>\n",
       "      <td>05</td>\n",
       "      <td>E</td>\n",
       "      <td>316</td>\n",
       "      <td>P</td>\n",
       "    </tr>\n",
       "    <tr>\n",
       "      <th>4773</th>\n",
       "      <td>Earth</td>\n",
       "      <td>False</td>\n",
       "      <td>NaN</td>\n",
       "      <td>11.0</td>\n",
       "      <td>False</td>\n",
       "      <td>0.0</td>\n",
       "      <td>0.0</td>\n",
       "      <td>0.0</td>\n",
       "      <td>0.0</td>\n",
       "      <td>0.0</td>\n",
       "      <td>Scotte Willy</td>\n",
       "      <td>True</td>\n",
       "      <td>5090</td>\n",
       "      <td>06</td>\n",
       "      <td>G</td>\n",
       "      <td>821</td>\n",
       "      <td>P</td>\n",
       "    </tr>\n",
       "  </tbody>\n",
       "</table>\n",
       "</div>"
      ],
      "text/plain": [
       "     home_planet cryo_sleep    destination   age    vip  room_service  \\\n",
       "4768       Earth        NaN    TRAPPIST-1e   0.0  False           0.0   \n",
       "4769       Earth       True    TRAPPIST-1e   0.0  False           0.0   \n",
       "4770         NaN      False  PSO J318.5-22  12.0  False           0.0   \n",
       "4771       Earth       True    TRAPPIST-1e   7.0  False           0.0   \n",
       "4772       Earth      False  PSO J318.5-22  32.0  False         793.0   \n",
       "4773       Earth      False            NaN  11.0  False           0.0   \n",
       "\n",
       "      food_court  shopping_mall  spa  vr_deck          name  transported  \\\n",
       "4768         0.0            0.0  0.0      0.0           NaN        False   \n",
       "4769         0.0            0.0  0.0      0.0   Luzel Willy        False   \n",
       "4770         0.0            0.0  0.0      0.0  Joyton Willy         True   \n",
       "4771         0.0            0.0  0.0      0.0   Adamy Willy        False   \n",
       "4772         0.0            0.0  0.0      0.0   Annya Willy        False   \n",
       "4773         0.0            0.0  0.0      0.0  Scotte Willy         True   \n",
       "\n",
       "     group_id number_in_group deck number side  \n",
       "4768     5090              01    G    821    P  \n",
       "4769     5090              02    G    821    P  \n",
       "4770     5090              03    G    821    P  \n",
       "4771     5090              04    G    821    P  \n",
       "4772     5090              05    E    316    P  \n",
       "4773     5090              06    G    821    P  "
      ]
     },
     "execution_count": 20,
     "metadata": {},
     "output_type": "execute_result"
    }
   ],
   "source": [
    "data_dict['train'].query('group_id == \"5090\"')"
   ]
  },
  {
   "cell_type": "code",
   "execution_count": 21,
   "id": "058f5618-ba6a-44ee-b1c5-be5fd4c7bcd8",
   "metadata": {},
   "outputs": [],
   "source": [
    "for dataset in data_dict:\n",
    "    group_group_id = list(data_dict[dataset].query('number_in_group != \"01\" and number_in_group == number_in_group and home_planet == home_planet').group_id.unique())\n",
    "    for index, row in data_dict[dataset].iterrows():\n",
    "        if row.group_id in group_group_id and row.home_planet != row.home_planet:\n",
    "            group_id = row.group_id\n",
    "            request_group_groupId = pd.DataFrame(data_dict[dataset].query('group_id in @group_id'))\n",
    "            for request_index, request_row in request_group_groupId.iterrows():\n",
    "                if request_row.home_planet == request_row.home_planet:            \n",
    "                    data_dict[dataset].loc[index, 'home_planet'] = request_row.home_planet\n",
    "    data_dict[dataset]['home_planet'] = data_dict[dataset]['home_planet'].fillna('na')"
   ]
  },
  {
   "cell_type": "code",
   "execution_count": 22,
   "id": "ec9531b3-cfce-4efc-bfde-415fb53a5350",
   "metadata": {},
   "outputs": [
    {
     "data": {
      "text/html": [
       "<div>\n",
       "<style scoped>\n",
       "    .dataframe tbody tr th:only-of-type {\n",
       "        vertical-align: middle;\n",
       "    }\n",
       "\n",
       "    .dataframe tbody tr th {\n",
       "        vertical-align: top;\n",
       "    }\n",
       "\n",
       "    .dataframe thead th {\n",
       "        text-align: right;\n",
       "    }\n",
       "</style>\n",
       "<table border=\"1\" class=\"dataframe\">\n",
       "  <thead>\n",
       "    <tr style=\"text-align: right;\">\n",
       "      <th></th>\n",
       "      <th>count</th>\n",
       "      <th>sum</th>\n",
       "      <th>mean</th>\n",
       "    </tr>\n",
       "    <tr>\n",
       "      <th>home_planet</th>\n",
       "      <th></th>\n",
       "      <th></th>\n",
       "      <th></th>\n",
       "    </tr>\n",
       "  </thead>\n",
       "  <tbody>\n",
       "    <tr>\n",
       "      <th>Earth</th>\n",
       "      <td>4627</td>\n",
       "      <td>1961</td>\n",
       "      <td>0.423817</td>\n",
       "    </tr>\n",
       "    <tr>\n",
       "      <th>Europa</th>\n",
       "      <td>2153</td>\n",
       "      <td>1420</td>\n",
       "      <td>0.659545</td>\n",
       "    </tr>\n",
       "    <tr>\n",
       "      <th>Mars</th>\n",
       "      <td>1778</td>\n",
       "      <td>932</td>\n",
       "      <td>0.524184</td>\n",
       "    </tr>\n",
       "    <tr>\n",
       "      <th>na</th>\n",
       "      <td>135</td>\n",
       "      <td>65</td>\n",
       "      <td>0.481481</td>\n",
       "    </tr>\n",
       "  </tbody>\n",
       "</table>\n",
       "</div>"
      ],
      "text/plain": [
       "             count   sum      mean\n",
       "home_planet                       \n",
       "Earth         4627  1961  0.423817\n",
       "Europa        2153  1420  0.659545\n",
       "Mars          1778   932  0.524184\n",
       "na             135    65  0.481481"
      ]
     },
     "metadata": {},
     "output_type": "display_data"
    },
    {
     "data": {
      "image/png": "[encoded data removed]",
      "text/plain": [
       "<Figure size 1080x504 with 1 Axes>"
      ]
     },
     "metadata": {
      "needs_background": "light"
     },
     "output_type": "display_data"
    }
   ],
   "source": [
    "home_planet_table = data_dict['train'].groupby(by=['home_planet'])['transported'].agg(['count', 'sum', 'mean'])\n",
    "display(home_planet_table)\n",
    "home_planet_table['count'] = home_planet_table['count'] - home_planet_table['sum']\n",
    "home_planet_table = home_planet_table.rename(columns={\"count\": \"total\", \"sum\": \"transported\"})\n",
    "home_planet_table[['transported', 'total']].plot(kind='bar', stacked=True, legend=True, figsize=(15,7));"
   ]
  },
  {
   "cell_type": "markdown",
   "id": "577b6b1e-9972-4ab6-b014-c47e59ee3f2b",
   "metadata": {},
   "source": [
    "#### Age"
   ]
  },
  {
   "cell_type": "code",
   "execution_count": 23,
   "id": "63c493b8-6747-48f9-9daa-5bfef83d2b9f",
   "metadata": {},
   "outputs": [
    {
     "name": "stdout",
     "output_type": "stream",
     "text": [
      "train\n",
      "179\n",
      "\n",
      "test\n",
      "91\n",
      "\n"
     ]
    }
   ],
   "source": [
    "for dataset in data_dict:\n",
    "    print(dataset)\n",
    "    print(data_dict[dataset]['age'].isna().sum())\n",
    "    print()"
   ]
  },
  {
   "cell_type": "code",
   "execution_count": 24,
   "id": "d7b0a856-a590-4dad-829f-e53fb80a2d43",
   "metadata": {},
   "outputs": [
    {
     "data": {
      "text/html": [
       "<div>\n",
       "<style scoped>\n",
       "    .dataframe tbody tr th:only-of-type {\n",
       "        vertical-align: middle;\n",
       "    }\n",
       "\n",
       "    .dataframe tbody tr th {\n",
       "        vertical-align: top;\n",
       "    }\n",
       "\n",
       "    .dataframe thead th {\n",
       "        text-align: right;\n",
       "    }\n",
       "</style>\n",
       "<table border=\"1\" class=\"dataframe\">\n",
       "  <thead>\n",
       "    <tr style=\"text-align: right;\">\n",
       "      <th></th>\n",
       "      <th>count</th>\n",
       "      <th>mean</th>\n",
       "      <th>median</th>\n",
       "      <th>min</th>\n",
       "      <th>max</th>\n",
       "    </tr>\n",
       "    <tr>\n",
       "      <th>home_planet</th>\n",
       "      <th></th>\n",
       "      <th></th>\n",
       "      <th></th>\n",
       "      <th></th>\n",
       "      <th></th>\n",
       "    </tr>\n",
       "  </thead>\n",
       "  <tbody>\n",
       "    <tr>\n",
       "      <th>Earth</th>\n",
       "      <td>4539</td>\n",
       "      <td>26.040758</td>\n",
       "      <td>23.0</td>\n",
       "      <td>0.0</td>\n",
       "      <td>79.0</td>\n",
       "    </tr>\n",
       "    <tr>\n",
       "      <th>Europa</th>\n",
       "      <td>2105</td>\n",
       "      <td>34.429929</td>\n",
       "      <td>33.0</td>\n",
       "      <td>0.0</td>\n",
       "      <td>79.0</td>\n",
       "    </tr>\n",
       "    <tr>\n",
       "      <th>Mars</th>\n",
       "      <td>1735</td>\n",
       "      <td>29.262248</td>\n",
       "      <td>28.0</td>\n",
       "      <td>0.0</td>\n",
       "      <td>76.0</td>\n",
       "    </tr>\n",
       "    <tr>\n",
       "      <th>na</th>\n",
       "      <td>135</td>\n",
       "      <td>29.607407</td>\n",
       "      <td>25.0</td>\n",
       "      <td>0.0</td>\n",
       "      <td>74.0</td>\n",
       "    </tr>\n",
       "  </tbody>\n",
       "</table>\n",
       "</div>"
      ],
      "text/plain": [
       "             count       mean  median  min   max\n",
       "home_planet                                     \n",
       "Earth         4539  26.040758    23.0  0.0  79.0\n",
       "Europa        2105  34.429929    33.0  0.0  79.0\n",
       "Mars          1735  29.262248    28.0  0.0  76.0\n",
       "na             135  29.607407    25.0  0.0  74.0"
      ]
     },
     "execution_count": 24,
     "metadata": {},
     "output_type": "execute_result"
    }
   ],
   "source": [
    "age_table = data_dict['train'].groupby(by=['home_planet'])['age'].agg(['count', 'mean', 'median', 'min', 'max'])\n",
    "age_table"
   ]
  },
  {
   "cell_type": "code",
   "execution_count": 25,
   "id": "7c873ef5-6e05-4a06-91b0-1ecfc497dc18",
   "metadata": {},
   "outputs": [],
   "source": [
    "age_dict = {}\n",
    "for index, row in age_table.iterrows():\n",
    "    age_dict[index] = row['median']"
   ]
  },
  {
   "cell_type": "code",
   "execution_count": 26,
   "id": "d0916c30-9f18-4691-b17e-089b215337e1",
   "metadata": {},
   "outputs": [],
   "source": [
    "for dataset in data_dict:\n",
    "     for index, row in data_dict[dataset].iterrows():\n",
    "            if row['age'] != row['age']:\n",
    "                data_dict[dataset].loc[index, 'age'] = age_dict[row['home_planet']]"
   ]
  },
  {
   "cell_type": "code",
   "execution_count": 27,
   "id": "ae401a9c-0bb5-4620-b62d-3b467a4a1ec2",
   "metadata": {},
   "outputs": [
    {
     "name": "stdout",
     "output_type": "stream",
     "text": [
      "train\n",
      "0\n",
      "\n",
      "test\n",
      "0\n",
      "\n"
     ]
    }
   ],
   "source": [
    "for dataset in data_dict:\n",
    "    print(dataset)\n",
    "    print(data_dict[dataset]['age'].isna().sum())\n",
    "    print()"
   ]
  },
  {
   "cell_type": "code",
   "execution_count": 28,
   "id": "726b3f0b-de74-44bb-8a04-8d9c52c34e17",
   "metadata": {},
   "outputs": [
    {
     "data": {
      "text/html": [
       "<div>\n",
       "<style scoped>\n",
       "    .dataframe tbody tr th:only-of-type {\n",
       "        vertical-align: middle;\n",
       "    }\n",
       "\n",
       "    .dataframe tbody tr th {\n",
       "        vertical-align: top;\n",
       "    }\n",
       "\n",
       "    .dataframe thead th {\n",
       "        text-align: right;\n",
       "    }\n",
       "</style>\n",
       "<table border=\"1\" class=\"dataframe\">\n",
       "  <thead>\n",
       "    <tr style=\"text-align: right;\">\n",
       "      <th></th>\n",
       "      <th>count</th>\n",
       "      <th>sum</th>\n",
       "      <th>mean</th>\n",
       "    </tr>\n",
       "    <tr>\n",
       "      <th>age</th>\n",
       "      <th></th>\n",
       "      <th></th>\n",
       "      <th></th>\n",
       "    </tr>\n",
       "  </thead>\n",
       "  <tbody>\n",
       "    <tr>\n",
       "      <th>0.0</th>\n",
       "      <td>178</td>\n",
       "      <td>144</td>\n",
       "      <td>0.808989</td>\n",
       "    </tr>\n",
       "    <tr>\n",
       "      <th>1.0</th>\n",
       "      <td>67</td>\n",
       "      <td>49</td>\n",
       "      <td>0.731343</td>\n",
       "    </tr>\n",
       "    <tr>\n",
       "      <th>2.0</th>\n",
       "      <td>75</td>\n",
       "      <td>53</td>\n",
       "      <td>0.706667</td>\n",
       "    </tr>\n",
       "    <tr>\n",
       "      <th>3.0</th>\n",
       "      <td>75</td>\n",
       "      <td>59</td>\n",
       "      <td>0.786667</td>\n",
       "    </tr>\n",
       "    <tr>\n",
       "      <th>4.0</th>\n",
       "      <td>71</td>\n",
       "      <td>53</td>\n",
       "      <td>0.746479</td>\n",
       "    </tr>\n",
       "    <tr>\n",
       "      <th>5.0</th>\n",
       "      <td>33</td>\n",
       "      <td>20</td>\n",
       "      <td>0.606061</td>\n",
       "    </tr>\n",
       "    <tr>\n",
       "      <th>6.0</th>\n",
       "      <td>40</td>\n",
       "      <td>23</td>\n",
       "      <td>0.575000</td>\n",
       "    </tr>\n",
       "    <tr>\n",
       "      <th>7.0</th>\n",
       "      <td>52</td>\n",
       "      <td>32</td>\n",
       "      <td>0.615385</td>\n",
       "    </tr>\n",
       "    <tr>\n",
       "      <th>8.0</th>\n",
       "      <td>46</td>\n",
       "      <td>26</td>\n",
       "      <td>0.565217</td>\n",
       "    </tr>\n",
       "    <tr>\n",
       "      <th>9.0</th>\n",
       "      <td>42</td>\n",
       "      <td>24</td>\n",
       "      <td>0.571429</td>\n",
       "    </tr>\n",
       "  </tbody>\n",
       "</table>\n",
       "</div>"
      ],
      "text/plain": [
       "     count  sum      mean\n",
       "age                      \n",
       "0.0    178  144  0.808989\n",
       "1.0     67   49  0.731343\n",
       "2.0     75   53  0.706667\n",
       "3.0     75   59  0.786667\n",
       "4.0     71   53  0.746479\n",
       "5.0     33   20  0.606061\n",
       "6.0     40   23  0.575000\n",
       "7.0     52   32  0.615385\n",
       "8.0     46   26  0.565217\n",
       "9.0     42   24  0.571429"
      ]
     },
     "metadata": {},
     "output_type": "display_data"
    },
    {
     "data": {
      "image/png": "[encoded data removed]",
      "text/plain": [
       "<Figure size 1080x504 with 1 Axes>"
      ]
     },
     "metadata": {
      "needs_background": "light"
     },
     "output_type": "display_data"
    }
   ],
   "source": [
    "home_planet_table = data_dict['train'].groupby(by=['age'])['transported'].agg(['count', 'sum', 'mean'])\n",
    "display(home_planet_table.head(10))\n",
    "home_planet_table['count'] = home_planet_table['count'] - home_planet_table['sum']\n",
    "home_planet_table = home_planet_table.rename(columns={\"count\": \"total\", \"sum\": \"transported\"})\n",
    "home_planet_table[['transported', 'total']][0:100].plot(kind='bar', stacked=True, legend=True, figsize=(15,7));"
   ]
  },
  {
   "cell_type": "markdown",
   "id": "03637f4f-adab-46cb-b5d7-220e6ebec1d1",
   "metadata": {},
   "source": [
    "#### Destination"
   ]
  },
  {
   "cell_type": "code",
   "execution_count": 29,
   "id": "d5f8020c-7f8b-43af-b20e-533cd4033e5d",
   "metadata": {},
   "outputs": [
    {
     "data": {
      "text/plain": [
       "array(['TRAPPIST-1e', 'PSO J318.5-22', '55 Cancri e', nan], dtype=object)"
      ]
     },
     "execution_count": 29,
     "metadata": {},
     "output_type": "execute_result"
    }
   ],
   "source": [
    "data_dict['train']['destination'].unique()"
   ]
  },
  {
   "cell_type": "code",
   "execution_count": 30,
   "id": "9ed097c3-6990-402a-b0e6-0c37e9dcaed0",
   "metadata": {},
   "outputs": [
    {
     "data": {
      "text/plain": [
       "array(['TRAPPIST-1e', 'PSO J318.5-22', '55 Cancri e', nan], dtype=object)"
      ]
     },
     "execution_count": 30,
     "metadata": {},
     "output_type": "execute_result"
    }
   ],
   "source": [
    "data_dict['train'].query('home_planet == \"Earth\"')['destination'].unique()"
   ]
  },
  {
   "cell_type": "code",
   "execution_count": 31,
   "id": "db8d2ac2-3f29-4c89-acf6-6fde6e9d936d",
   "metadata": {},
   "outputs": [
    {
     "data": {
      "text/plain": [
       "array(['TRAPPIST-1e', '55 Cancri e', 'PSO J318.5-22', nan], dtype=object)"
      ]
     },
     "execution_count": 31,
     "metadata": {},
     "output_type": "execute_result"
    }
   ],
   "source": [
    "data_dict['train'].query('home_planet == \"Europa\"')['destination'].unique()"
   ]
  },
  {
   "cell_type": "code",
   "execution_count": 32,
   "id": "f044710e-8da0-4e5c-90c6-7931faec2fdd",
   "metadata": {},
   "outputs": [
    {
     "data": {
      "text/plain": [
       "array(['TRAPPIST-1e', '55 Cancri e', nan, 'PSO J318.5-22'], dtype=object)"
      ]
     },
     "execution_count": 32,
     "metadata": {},
     "output_type": "execute_result"
    }
   ],
   "source": [
    "data_dict['train'].query('home_planet == \"Mars\"')['destination'].unique()"
   ]
  },
  {
   "cell_type": "markdown",
   "id": "65d61344-5641-4a0c-9c44-817a7292fb31",
   "metadata": {},
   "source": [
    "От планеты отправления не зависит разнообразие маршрутов, с любой планеты можно отправиться в любое назначение кроме самих планет."
   ]
  },
  {
   "cell_type": "code",
   "execution_count": 33,
   "id": "4c279482-6aba-49f9-98ed-9fcfb0532240",
   "metadata": {},
   "outputs": [],
   "source": [
    "for dataset in data_dict:\n",
    "    group_group_id = list(data_dict[dataset].query('number_in_group != \"01\" and number_in_group == number_in_group and destination == destination').group_id.unique())\n",
    "    for index, row in data_dict[dataset].iterrows():\n",
    "        if row.group_id in group_group_id and row.destination != row.destination:\n",
    "            group_id = row.group_id\n",
    "            request_group_groupId = pd.DataFrame(data_dict[dataset].query('group_id in @group_id'))\n",
    "            for request_index, request_row in request_group_groupId.iterrows():\n",
    "                if request_row.destination == request_row.home_planet:            \n",
    "                    data_dict[dataset].loc[index, 'destination'] = request_row.destination"
   ]
  },
  {
   "cell_type": "code",
   "execution_count": 34,
   "id": "fd85d152-66c3-4b30-a67b-c51aad79fd65",
   "metadata": {},
   "outputs": [
    {
     "data": {
      "text/html": [
       "<div>\n",
       "<style scoped>\n",
       "    .dataframe tbody tr th:only-of-type {\n",
       "        vertical-align: middle;\n",
       "    }\n",
       "\n",
       "    .dataframe tbody tr th {\n",
       "        vertical-align: top;\n",
       "    }\n",
       "\n",
       "    .dataframe thead th {\n",
       "        text-align: right;\n",
       "    }\n",
       "</style>\n",
       "<table border=\"1\" class=\"dataframe\">\n",
       "  <thead>\n",
       "    <tr style=\"text-align: right;\">\n",
       "      <th></th>\n",
       "      <th>count</th>\n",
       "      <th>sum</th>\n",
       "      <th>mean</th>\n",
       "    </tr>\n",
       "    <tr>\n",
       "      <th>destination</th>\n",
       "      <th></th>\n",
       "      <th></th>\n",
       "      <th></th>\n",
       "    </tr>\n",
       "  </thead>\n",
       "  <tbody>\n",
       "    <tr>\n",
       "      <th>55 Cancri e</th>\n",
       "      <td>1800</td>\n",
       "      <td>1098</td>\n",
       "      <td>0.610000</td>\n",
       "    </tr>\n",
       "    <tr>\n",
       "      <th>PSO J318.5-22</th>\n",
       "      <td>796</td>\n",
       "      <td>401</td>\n",
       "      <td>0.503769</td>\n",
       "    </tr>\n",
       "    <tr>\n",
       "      <th>TRAPPIST-1e</th>\n",
       "      <td>5915</td>\n",
       "      <td>2787</td>\n",
       "      <td>0.471175</td>\n",
       "    </tr>\n",
       "  </tbody>\n",
       "</table>\n",
       "</div>"
      ],
      "text/plain": [
       "               count   sum      mean\n",
       "destination                         \n",
       "55 Cancri e     1800  1098  0.610000\n",
       "PSO J318.5-22    796   401  0.503769\n",
       "TRAPPIST-1e     5915  2787  0.471175"
      ]
     },
     "metadata": {},
     "output_type": "display_data"
    },
    {
     "data": {
      "image/png": "[encoded data removed]",
      "text/plain": [
       "<Figure size 1080x504 with 1 Axes>"
      ]
     },
     "metadata": {
      "needs_background": "light"
     },
     "output_type": "display_data"
    }
   ],
   "source": [
    "home_planet_table = data_dict['train'].groupby(by=['destination'])['transported'].agg(['count', 'sum', 'mean'])\n",
    "display(home_planet_table)\n",
    "home_planet_table['count'] = home_planet_table['count'] - home_planet_table['sum']\n",
    "home_planet_table = home_planet_table.rename(columns={\"count\": \"total\", \"sum\": \"transported\"})\n",
    "home_planet_table[['transported', 'total']].plot(kind='bar', stacked=True, legend=True, figsize=(15,7));"
   ]
  },
  {
   "cell_type": "markdown",
   "id": "c8a72a97-3223-46d2-8356-ba486b89167e",
   "metadata": {},
   "source": [
    "#### VIP, RoomService, FoodCourt, ShoppingMall, Spa, VRDeck"
   ]
  },
  {
   "cell_type": "code",
   "execution_count": 35,
   "id": "120847a8-bbab-4544-a045-ef52e185b312",
   "metadata": {},
   "outputs": [],
   "source": [
    "def room_service_fit(row):\n",
    "    if row['cryo_sleep'] == True and row['vip'] != row['vip']:\n",
    "        row['vip'] = False\n",
    "    if row['room_service'] != row['room_service']:\n",
    "        row['room_service'] = 0\n",
    "    if row['food_court'] != row['food_court']:\n",
    "        row['food_court'] = 0\n",
    "    if row['shopping_mall'] != row['shopping_mall']:\n",
    "        row['shopping_mall'] = 0\n",
    "    if row['spa'] != row['spa']:\n",
    "        row['spa'] = 0\n",
    "    if row['vr_deck'] != row['vr_deck']:\n",
    "        row['vr_deck'] = 0\n",
    "    return row"
   ]
  },
  {
   "cell_type": "code",
   "execution_count": 36,
   "id": "e1f2f373-a7b7-4652-9d79-9c231db450d2",
   "metadata": {},
   "outputs": [
    {
     "name": "stdout",
     "output_type": "stream",
     "text": [
      "train\n",
      "\n",
      "vip              203\n",
      "room_service     181\n",
      "food_court       183\n",
      "shopping_mall    208\n",
      "spa              183\n",
      "vr_deck          188\n",
      "dtype: int64\n",
      "vip              128\n",
      "room_service       0\n",
      "food_court         0\n",
      "shopping_mall      0\n",
      "spa                0\n",
      "vr_deck            0\n",
      "dtype: int64\n",
      "test\n",
      "\n",
      "vip               93\n",
      "room_service      82\n",
      "food_court       106\n",
      "shopping_mall     98\n",
      "spa              101\n",
      "vr_deck           80\n",
      "dtype: int64\n",
      "vip              64\n",
      "room_service      0\n",
      "food_court        0\n",
      "shopping_mall     0\n",
      "spa               0\n",
      "vr_deck           0\n",
      "dtype: int64\n"
     ]
    }
   ],
   "source": [
    "for dataset in data_dict:\n",
    "    print(dataset)\n",
    "    print()\n",
    "    print(data_dict[dataset][['vip', 'room_service', 'food_court', 'shopping_mall', 'spa', 'vr_deck']].isna().sum())\n",
    "    data_dict[dataset] = data_dict[dataset].apply(room_service_fit, axis=1)\n",
    "    print(data_dict[dataset][['vip', 'room_service', 'food_court', 'shopping_mall', 'spa', 'vr_deck']].isna().sum())"
   ]
  },
  {
   "cell_type": "code",
   "execution_count": 37,
   "id": "dc428bfe-8689-4c07-90d3-b3e6437dd21b",
   "metadata": {},
   "outputs": [
    {
     "data": {
      "text/html": [
       "<div>\n",
       "<style scoped>\n",
       "    .dataframe tbody tr th:only-of-type {\n",
       "        vertical-align: middle;\n",
       "    }\n",
       "\n",
       "    .dataframe tbody tr th {\n",
       "        vertical-align: top;\n",
       "    }\n",
       "\n",
       "    .dataframe thead th {\n",
       "        text-align: right;\n",
       "    }\n",
       "</style>\n",
       "<table border=\"1\" class=\"dataframe\">\n",
       "  <thead>\n",
       "    <tr style=\"text-align: right;\">\n",
       "      <th></th>\n",
       "      <th>count</th>\n",
       "      <th>sum</th>\n",
       "      <th>mean</th>\n",
       "    </tr>\n",
       "    <tr>\n",
       "      <th>cryo_sleep</th>\n",
       "      <th></th>\n",
       "      <th></th>\n",
       "      <th></th>\n",
       "    </tr>\n",
       "  </thead>\n",
       "  <tbody>\n",
       "    <tr>\n",
       "      <th>False</th>\n",
       "      <td>5439</td>\n",
       "      <td>1789</td>\n",
       "      <td>0.328921</td>\n",
       "    </tr>\n",
       "    <tr>\n",
       "      <th>True</th>\n",
       "      <td>3037</td>\n",
       "      <td>2483</td>\n",
       "      <td>0.817583</td>\n",
       "    </tr>\n",
       "  </tbody>\n",
       "</table>\n",
       "</div>"
      ],
      "text/plain": [
       "            count   sum      mean\n",
       "cryo_sleep                       \n",
       "False        5439  1789  0.328921\n",
       "True         3037  2483  0.817583"
      ]
     },
     "execution_count": 37,
     "metadata": {},
     "output_type": "execute_result"
    }
   ],
   "source": [
    "data_dict['train'].groupby(by=['cryo_sleep'])['transported'].agg(['count', 'sum', 'mean'])"
   ]
  },
  {
   "cell_type": "code",
   "execution_count": 38,
   "id": "16703918-5762-4673-ae83-2f5e058f875e",
   "metadata": {},
   "outputs": [
    {
     "data": {
      "text/html": [
       "<div>\n",
       "<style scoped>\n",
       "    .dataframe tbody tr th:only-of-type {\n",
       "        vertical-align: middle;\n",
       "    }\n",
       "\n",
       "    .dataframe tbody tr th {\n",
       "        vertical-align: top;\n",
       "    }\n",
       "\n",
       "    .dataframe thead th {\n",
       "        text-align: right;\n",
       "    }\n",
       "</style>\n",
       "<table border=\"1\" class=\"dataframe\">\n",
       "  <thead>\n",
       "    <tr style=\"text-align: right;\">\n",
       "      <th></th>\n",
       "      <th>count</th>\n",
       "      <th>sum</th>\n",
       "      <th>mean</th>\n",
       "    </tr>\n",
       "    <tr>\n",
       "      <th>vip</th>\n",
       "      <th></th>\n",
       "      <th></th>\n",
       "      <th></th>\n",
       "    </tr>\n",
       "  </thead>\n",
       "  <tbody>\n",
       "    <tr>\n",
       "      <th>False</th>\n",
       "      <td>8366</td>\n",
       "      <td>4254</td>\n",
       "      <td>0.508487</td>\n",
       "    </tr>\n",
       "    <tr>\n",
       "      <th>True</th>\n",
       "      <td>199</td>\n",
       "      <td>76</td>\n",
       "      <td>0.381910</td>\n",
       "    </tr>\n",
       "  </tbody>\n",
       "</table>\n",
       "</div>"
      ],
      "text/plain": [
       "       count   sum      mean\n",
       "vip                         \n",
       "False   8366  4254  0.508487\n",
       "True     199    76  0.381910"
      ]
     },
     "metadata": {},
     "output_type": "display_data"
    },
    {
     "data": {
      "image/png": "[encoded data removed]",
      "text/plain": [
       "<Figure size 1080x504 with 1 Axes>"
      ]
     },
     "metadata": {
      "needs_background": "light"
     },
     "output_type": "display_data"
    }
   ],
   "source": [
    "home_planet_table = data_dict['train'].groupby(by=['vip'])['transported'].agg(['count', 'sum', 'mean'])\n",
    "display(home_planet_table)\n",
    "home_planet_table['count'] = home_planet_table['count'] - home_planet_table['sum']\n",
    "home_planet_table = home_planet_table.rename(columns={\"count\": \"total\", \"sum\": \"transported\"})\n",
    "home_planet_table[['transported', 'total']].plot(kind='bar', stacked=True, legend=True, figsize=(15,7));"
   ]
  },
  {
   "cell_type": "code",
   "execution_count": 39,
   "id": "b8237026-ff9a-445f-b76a-00e2298819cf",
   "metadata": {},
   "outputs": [
    {
     "data": {
      "text/html": [
       "<div>\n",
       "<style scoped>\n",
       "    .dataframe tbody tr th:only-of-type {\n",
       "        vertical-align: middle;\n",
       "    }\n",
       "\n",
       "    .dataframe tbody tr th {\n",
       "        vertical-align: top;\n",
       "    }\n",
       "\n",
       "    .dataframe thead th {\n",
       "        text-align: right;\n",
       "    }\n",
       "</style>\n",
       "<table border=\"1\" class=\"dataframe\">\n",
       "  <thead>\n",
       "    <tr style=\"text-align: right;\">\n",
       "      <th></th>\n",
       "      <th>count</th>\n",
       "      <th>sum</th>\n",
       "      <th>mean</th>\n",
       "    </tr>\n",
       "    <tr>\n",
       "      <th>room_service</th>\n",
       "      <th></th>\n",
       "      <th></th>\n",
       "      <th></th>\n",
       "    </tr>\n",
       "  </thead>\n",
       "  <tbody>\n",
       "    <tr>\n",
       "      <th>8.0</th>\n",
       "      <td>24</td>\n",
       "      <td>17</td>\n",
       "      <td>0.708333</td>\n",
       "    </tr>\n",
       "    <tr>\n",
       "      <th>32.0</th>\n",
       "      <td>11</td>\n",
       "      <td>7</td>\n",
       "      <td>0.636364</td>\n",
       "    </tr>\n",
       "    <tr>\n",
       "      <th>0.0</th>\n",
       "      <td>5758</td>\n",
       "      <td>3615</td>\n",
       "      <td>0.627822</td>\n",
       "    </tr>\n",
       "    <tr>\n",
       "      <th>30.0</th>\n",
       "      <td>13</td>\n",
       "      <td>7</td>\n",
       "      <td>0.538462</td>\n",
       "    </tr>\n",
       "    <tr>\n",
       "      <th>27.0</th>\n",
       "      <td>12</td>\n",
       "      <td>6</td>\n",
       "      <td>0.500000</td>\n",
       "    </tr>\n",
       "    <tr>\n",
       "      <th>14.0</th>\n",
       "      <td>21</td>\n",
       "      <td>10</td>\n",
       "      <td>0.476190</td>\n",
       "    </tr>\n",
       "    <tr>\n",
       "      <th>5.0</th>\n",
       "      <td>28</td>\n",
       "      <td>12</td>\n",
       "      <td>0.428571</td>\n",
       "    </tr>\n",
       "    <tr>\n",
       "      <th>10.0</th>\n",
       "      <td>17</td>\n",
       "      <td>7</td>\n",
       "      <td>0.411765</td>\n",
       "    </tr>\n",
       "    <tr>\n",
       "      <th>2.0</th>\n",
       "      <td>79</td>\n",
       "      <td>32</td>\n",
       "      <td>0.405063</td>\n",
       "    </tr>\n",
       "    <tr>\n",
       "      <th>3.0</th>\n",
       "      <td>61</td>\n",
       "      <td>24</td>\n",
       "      <td>0.393443</td>\n",
       "    </tr>\n",
       "  </tbody>\n",
       "</table>\n",
       "</div>"
      ],
      "text/plain": [
       "              count   sum      mean\n",
       "room_service                       \n",
       "8.0              24    17  0.708333\n",
       "32.0             11     7  0.636364\n",
       "0.0            5758  3615  0.627822\n",
       "30.0             13     7  0.538462\n",
       "27.0             12     6  0.500000\n",
       "14.0             21    10  0.476190\n",
       "5.0              28    12  0.428571\n",
       "10.0             17     7  0.411765\n",
       "2.0              79    32  0.405063\n",
       "3.0              61    24  0.393443"
      ]
     },
     "metadata": {},
     "output_type": "display_data"
    },
    {
     "data": {
      "image/png": "[encoded data removed]",
      "text/plain": [
       "<Figure size 1080x504 with 1 Axes>"
      ]
     },
     "metadata": {
      "needs_background": "light"
     },
     "output_type": "display_data"
    }
   ],
   "source": [
    "home_planet_table = data_dict['train'].groupby(by=['room_service'])['transported'].agg(['count', 'sum', 'mean'])\n",
    "display(home_planet_table.query('count > 10').sort_values(by='mean', ascending=False).head(10))\n",
    "home_planet_table['count'] = home_planet_table['count'] - home_planet_table['sum']\n",
    "home_planet_table = home_planet_table.rename(columns={\"count\": \"total\", \"sum\": \"transported\"})\n",
    "home_planet_table['transported'][1:].head(30).plot(figsize=(15,7))\n",
    "home_planet_table['total'][1:].head(30).plot();"
   ]
  },
  {
   "cell_type": "code",
   "execution_count": 40,
   "id": "6aad9c00-c71f-449a-8c3f-2036100b8369",
   "metadata": {},
   "outputs": [
    {
     "data": {
      "text/html": [
       "<div>\n",
       "<style scoped>\n",
       "    .dataframe tbody tr th:only-of-type {\n",
       "        vertical-align: middle;\n",
       "    }\n",
       "\n",
       "    .dataframe tbody tr th {\n",
       "        vertical-align: top;\n",
       "    }\n",
       "\n",
       "    .dataframe thead th {\n",
       "        text-align: right;\n",
       "    }\n",
       "</style>\n",
       "<table border=\"1\" class=\"dataframe\">\n",
       "  <thead>\n",
       "    <tr style=\"text-align: right;\">\n",
       "      <th></th>\n",
       "      <th>count</th>\n",
       "      <th>sum</th>\n",
       "      <th>mean</th>\n",
       "    </tr>\n",
       "    <tr>\n",
       "      <th>food_court</th>\n",
       "      <th></th>\n",
       "      <th></th>\n",
       "      <th></th>\n",
       "    </tr>\n",
       "  </thead>\n",
       "  <tbody>\n",
       "    <tr>\n",
       "      <th>0.0</th>\n",
       "      <td>5639</td>\n",
       "      <td>3323</td>\n",
       "      <td>0.589289</td>\n",
       "    </tr>\n",
       "    <tr>\n",
       "      <th>30.0</th>\n",
       "      <td>12</td>\n",
       "      <td>5</td>\n",
       "      <td>0.416667</td>\n",
       "    </tr>\n",
       "    <tr>\n",
       "      <th>18.0</th>\n",
       "      <td>12</td>\n",
       "      <td>4</td>\n",
       "      <td>0.333333</td>\n",
       "    </tr>\n",
       "    <tr>\n",
       "      <th>11.0</th>\n",
       "      <td>19</td>\n",
       "      <td>6</td>\n",
       "      <td>0.315789</td>\n",
       "    </tr>\n",
       "    <tr>\n",
       "      <th>8.0</th>\n",
       "      <td>20</td>\n",
       "      <td>6</td>\n",
       "      <td>0.300000</td>\n",
       "    </tr>\n",
       "    <tr>\n",
       "      <th>12.0</th>\n",
       "      <td>14</td>\n",
       "      <td>4</td>\n",
       "      <td>0.285714</td>\n",
       "    </tr>\n",
       "    <tr>\n",
       "      <th>17.0</th>\n",
       "      <td>11</td>\n",
       "      <td>3</td>\n",
       "      <td>0.272727</td>\n",
       "    </tr>\n",
       "    <tr>\n",
       "      <th>6.0</th>\n",
       "      <td>31</td>\n",
       "      <td>8</td>\n",
       "      <td>0.258065</td>\n",
       "    </tr>\n",
       "    <tr>\n",
       "      <th>1.0</th>\n",
       "      <td>116</td>\n",
       "      <td>26</td>\n",
       "      <td>0.224138</td>\n",
       "    </tr>\n",
       "    <tr>\n",
       "      <th>7.0</th>\n",
       "      <td>27</td>\n",
       "      <td>6</td>\n",
       "      <td>0.222222</td>\n",
       "    </tr>\n",
       "  </tbody>\n",
       "</table>\n",
       "</div>"
      ],
      "text/plain": [
       "            count   sum      mean\n",
       "food_court                       \n",
       "0.0          5639  3323  0.589289\n",
       "30.0           12     5  0.416667\n",
       "18.0           12     4  0.333333\n",
       "11.0           19     6  0.315789\n",
       "8.0            20     6  0.300000\n",
       "12.0           14     4  0.285714\n",
       "17.0           11     3  0.272727\n",
       "6.0            31     8  0.258065\n",
       "1.0           116    26  0.224138\n",
       "7.0            27     6  0.222222"
      ]
     },
     "metadata": {},
     "output_type": "display_data"
    },
    {
     "data": {
      "image/png": "[encoded data removed]",
      "text/plain": [
       "<Figure size 1080x504 with 1 Axes>"
      ]
     },
     "metadata": {
      "needs_background": "light"
     },
     "output_type": "display_data"
    }
   ],
   "source": [
    "home_planet_table = data_dict['train'].groupby(by=['food_court'])['transported'].agg(['count', 'sum', 'mean'])\n",
    "display(home_planet_table.query('count > 10').sort_values(by='mean', ascending=False).head(10))\n",
    "home_planet_table['count'] = home_planet_table['count'] - home_planet_table['sum']\n",
    "home_planet_table = home_planet_table.rename(columns={\"count\": \"total\", \"sum\": \"transported\"})\n",
    "home_planet_table['transported'][1:].head(50).plot(figsize=(15,7))\n",
    "home_planet_table['total'][1:].head(50).plot();"
   ]
  },
  {
   "cell_type": "code",
   "execution_count": 41,
   "id": "3578c3c7-58f4-41dc-b761-acab0c7e1bac",
   "metadata": {},
   "outputs": [
    {
     "data": {
      "text/html": [
       "<div>\n",
       "<style scoped>\n",
       "    .dataframe tbody tr th:only-of-type {\n",
       "        vertical-align: middle;\n",
       "    }\n",
       "\n",
       "    .dataframe tbody tr th {\n",
       "        vertical-align: top;\n",
       "    }\n",
       "\n",
       "    .dataframe thead th {\n",
       "        text-align: right;\n",
       "    }\n",
       "</style>\n",
       "<table border=\"1\" class=\"dataframe\">\n",
       "  <thead>\n",
       "    <tr style=\"text-align: right;\">\n",
       "      <th></th>\n",
       "      <th>count</th>\n",
       "      <th>sum</th>\n",
       "      <th>mean</th>\n",
       "    </tr>\n",
       "    <tr>\n",
       "      <th>shopping_mall</th>\n",
       "      <th></th>\n",
       "      <th></th>\n",
       "      <th></th>\n",
       "    </tr>\n",
       "  </thead>\n",
       "  <tbody>\n",
       "    <tr>\n",
       "      <th>0.0</th>\n",
       "      <td>5795</td>\n",
       "      <td>3459</td>\n",
       "      <td>0.596894</td>\n",
       "    </tr>\n",
       "    <tr>\n",
       "      <th>51.0</th>\n",
       "      <td>11</td>\n",
       "      <td>4</td>\n",
       "      <td>0.363636</td>\n",
       "    </tr>\n",
       "    <tr>\n",
       "      <th>18.0</th>\n",
       "      <td>14</td>\n",
       "      <td>5</td>\n",
       "      <td>0.357143</td>\n",
       "    </tr>\n",
       "    <tr>\n",
       "      <th>31.0</th>\n",
       "      <td>20</td>\n",
       "      <td>7</td>\n",
       "      <td>0.350000</td>\n",
       "    </tr>\n",
       "    <tr>\n",
       "      <th>5.0</th>\n",
       "      <td>38</td>\n",
       "      <td>13</td>\n",
       "      <td>0.342105</td>\n",
       "    </tr>\n",
       "    <tr>\n",
       "      <th>9.0</th>\n",
       "      <td>28</td>\n",
       "      <td>9</td>\n",
       "      <td>0.321429</td>\n",
       "    </tr>\n",
       "    <tr>\n",
       "      <th>13.0</th>\n",
       "      <td>29</td>\n",
       "      <td>9</td>\n",
       "      <td>0.310345</td>\n",
       "    </tr>\n",
       "    <tr>\n",
       "      <th>3.0</th>\n",
       "      <td>59</td>\n",
       "      <td>18</td>\n",
       "      <td>0.305085</td>\n",
       "    </tr>\n",
       "    <tr>\n",
       "      <th>7.0</th>\n",
       "      <td>36</td>\n",
       "      <td>10</td>\n",
       "      <td>0.277778</td>\n",
       "    </tr>\n",
       "    <tr>\n",
       "      <th>47.0</th>\n",
       "      <td>11</td>\n",
       "      <td>3</td>\n",
       "      <td>0.272727</td>\n",
       "    </tr>\n",
       "  </tbody>\n",
       "</table>\n",
       "</div>"
      ],
      "text/plain": [
       "               count   sum      mean\n",
       "shopping_mall                       \n",
       "0.0             5795  3459  0.596894\n",
       "51.0              11     4  0.363636\n",
       "18.0              14     5  0.357143\n",
       "31.0              20     7  0.350000\n",
       "5.0               38    13  0.342105\n",
       "9.0               28     9  0.321429\n",
       "13.0              29     9  0.310345\n",
       "3.0               59    18  0.305085\n",
       "7.0               36    10  0.277778\n",
       "47.0              11     3  0.272727"
      ]
     },
     "metadata": {},
     "output_type": "display_data"
    },
    {
     "data": {
      "image/png": "[encoded data removed]",
      "text/plain": [
       "<Figure size 1080x504 with 1 Axes>"
      ]
     },
     "metadata": {
      "needs_background": "light"
     },
     "output_type": "display_data"
    }
   ],
   "source": [
    "home_planet_table = data_dict['train'].groupby(by=['shopping_mall'])['transported'].agg(['count', 'sum', 'mean'])\n",
    "display(home_planet_table.query('count > 10').sort_values(by='mean', ascending=False).head(10))\n",
    "home_planet_table['count'] = home_planet_table['count'] - home_planet_table['sum']\n",
    "home_planet_table = home_planet_table.rename(columns={\"count\": \"total\", \"sum\": \"transported\"})\n",
    "home_planet_table['transported'][1:].head(50).plot(figsize=(15,7))\n",
    "home_planet_table['total'][1:].head(50).plot();"
   ]
  },
  {
   "cell_type": "code",
   "execution_count": 42,
   "id": "bce7678e-d5d3-4650-8a08-cd17f39751f2",
   "metadata": {},
   "outputs": [
    {
     "data": {
      "text/html": [
       "<div>\n",
       "<style scoped>\n",
       "    .dataframe tbody tr th:only-of-type {\n",
       "        vertical-align: middle;\n",
       "    }\n",
       "\n",
       "    .dataframe tbody tr th {\n",
       "        vertical-align: top;\n",
       "    }\n",
       "\n",
       "    .dataframe thead th {\n",
       "        text-align: right;\n",
       "    }\n",
       "</style>\n",
       "<table border=\"1\" class=\"dataframe\">\n",
       "  <thead>\n",
       "    <tr style=\"text-align: right;\">\n",
       "      <th></th>\n",
       "      <th>count</th>\n",
       "      <th>sum</th>\n",
       "      <th>mean</th>\n",
       "    </tr>\n",
       "    <tr>\n",
       "      <th>spa</th>\n",
       "      <th></th>\n",
       "      <th></th>\n",
       "      <th></th>\n",
       "    </tr>\n",
       "  </thead>\n",
       "  <tbody>\n",
       "    <tr>\n",
       "      <th>36.0</th>\n",
       "      <td>12</td>\n",
       "      <td>8</td>\n",
       "      <td>0.666667</td>\n",
       "    </tr>\n",
       "    <tr>\n",
       "      <th>0.0</th>\n",
       "      <td>5507</td>\n",
       "      <td>3494</td>\n",
       "      <td>0.634465</td>\n",
       "    </tr>\n",
       "    <tr>\n",
       "      <th>5.0</th>\n",
       "      <td>53</td>\n",
       "      <td>28</td>\n",
       "      <td>0.528302</td>\n",
       "    </tr>\n",
       "    <tr>\n",
       "      <th>13.0</th>\n",
       "      <td>16</td>\n",
       "      <td>8</td>\n",
       "      <td>0.500000</td>\n",
       "    </tr>\n",
       "    <tr>\n",
       "      <th>10.0</th>\n",
       "      <td>25</td>\n",
       "      <td>12</td>\n",
       "      <td>0.480000</td>\n",
       "    </tr>\n",
       "    <tr>\n",
       "      <th>17.0</th>\n",
       "      <td>15</td>\n",
       "      <td>7</td>\n",
       "      <td>0.466667</td>\n",
       "    </tr>\n",
       "    <tr>\n",
       "      <th>3.0</th>\n",
       "      <td>53</td>\n",
       "      <td>24</td>\n",
       "      <td>0.452830</td>\n",
       "    </tr>\n",
       "    <tr>\n",
       "      <th>2.0</th>\n",
       "      <td>105</td>\n",
       "      <td>47</td>\n",
       "      <td>0.447619</td>\n",
       "    </tr>\n",
       "    <tr>\n",
       "      <th>7.0</th>\n",
       "      <td>34</td>\n",
       "      <td>15</td>\n",
       "      <td>0.441176</td>\n",
       "    </tr>\n",
       "    <tr>\n",
       "      <th>6.0</th>\n",
       "      <td>33</td>\n",
       "      <td>14</td>\n",
       "      <td>0.424242</td>\n",
       "    </tr>\n",
       "  </tbody>\n",
       "</table>\n",
       "</div>"
      ],
      "text/plain": [
       "      count   sum      mean\n",
       "spa                        \n",
       "36.0     12     8  0.666667\n",
       "0.0    5507  3494  0.634465\n",
       "5.0      53    28  0.528302\n",
       "13.0     16     8  0.500000\n",
       "10.0     25    12  0.480000\n",
       "17.0     15     7  0.466667\n",
       "3.0      53    24  0.452830\n",
       "2.0     105    47  0.447619\n",
       "7.0      34    15  0.441176\n",
       "6.0      33    14  0.424242"
      ]
     },
     "metadata": {},
     "output_type": "display_data"
    },
    {
     "data": {
      "image/png": "[encoded data removed]",
      "text/plain": [
       "<Figure size 1080x504 with 1 Axes>"
      ]
     },
     "metadata": {
      "needs_background": "light"
     },
     "output_type": "display_data"
    }
   ],
   "source": [
    "home_planet_table = data_dict['train'].groupby(by=['spa'])['transported'].agg(['count', 'sum', 'mean'])\n",
    "display(home_planet_table.query('count > 10').sort_values(by='mean', ascending=False).head(10))\n",
    "home_planet_table['count'] = home_planet_table['count'] - home_planet_table['sum']\n",
    "home_planet_table = home_planet_table.rename(columns={\"count\": \"total\", \"sum\": \"transported\"})\n",
    "home_planet_table['transported'][1:].head(50).plot(figsize=(15,7))\n",
    "home_planet_table['total'][1:].head(50).plot();"
   ]
  },
  {
   "cell_type": "code",
   "execution_count": 43,
   "id": "f89b90e8-9322-4705-8a3b-ecbe60006e61",
   "metadata": {},
   "outputs": [
    {
     "data": {
      "text/html": [
       "<div>\n",
       "<style scoped>\n",
       "    .dataframe tbody tr th:only-of-type {\n",
       "        vertical-align: middle;\n",
       "    }\n",
       "\n",
       "    .dataframe tbody tr th {\n",
       "        vertical-align: top;\n",
       "    }\n",
       "\n",
       "    .dataframe thead th {\n",
       "        text-align: right;\n",
       "    }\n",
       "</style>\n",
       "<table border=\"1\" class=\"dataframe\">\n",
       "  <thead>\n",
       "    <tr style=\"text-align: right;\">\n",
       "      <th></th>\n",
       "      <th>count</th>\n",
       "      <th>sum</th>\n",
       "      <th>mean</th>\n",
       "    </tr>\n",
       "    <tr>\n",
       "      <th>vr_deck</th>\n",
       "      <th></th>\n",
       "      <th></th>\n",
       "      <th></th>\n",
       "    </tr>\n",
       "  </thead>\n",
       "  <tbody>\n",
       "    <tr>\n",
       "      <th>0.0</th>\n",
       "      <td>5683</td>\n",
       "      <td>3549</td>\n",
       "      <td>0.624494</td>\n",
       "    </tr>\n",
       "    <tr>\n",
       "      <th>40.0</th>\n",
       "      <td>13</td>\n",
       "      <td>7</td>\n",
       "      <td>0.538462</td>\n",
       "    </tr>\n",
       "    <tr>\n",
       "      <th>6.0</th>\n",
       "      <td>32</td>\n",
       "      <td>16</td>\n",
       "      <td>0.500000</td>\n",
       "    </tr>\n",
       "    <tr>\n",
       "      <th>9.0</th>\n",
       "      <td>25</td>\n",
       "      <td>11</td>\n",
       "      <td>0.440000</td>\n",
       "    </tr>\n",
       "    <tr>\n",
       "      <th>8.0</th>\n",
       "      <td>30</td>\n",
       "      <td>13</td>\n",
       "      <td>0.433333</td>\n",
       "    </tr>\n",
       "    <tr>\n",
       "      <th>2.0</th>\n",
       "      <td>70</td>\n",
       "      <td>29</td>\n",
       "      <td>0.414286</td>\n",
       "    </tr>\n",
       "    <tr>\n",
       "      <th>4.0</th>\n",
       "      <td>47</td>\n",
       "      <td>19</td>\n",
       "      <td>0.404255</td>\n",
       "    </tr>\n",
       "    <tr>\n",
       "      <th>5.0</th>\n",
       "      <td>51</td>\n",
       "      <td>20</td>\n",
       "      <td>0.392157</td>\n",
       "    </tr>\n",
       "    <tr>\n",
       "      <th>23.0</th>\n",
       "      <td>18</td>\n",
       "      <td>7</td>\n",
       "      <td>0.388889</td>\n",
       "    </tr>\n",
       "    <tr>\n",
       "      <th>7.0</th>\n",
       "      <td>29</td>\n",
       "      <td>11</td>\n",
       "      <td>0.379310</td>\n",
       "    </tr>\n",
       "  </tbody>\n",
       "</table>\n",
       "</div>"
      ],
      "text/plain": [
       "         count   sum      mean\n",
       "vr_deck                       \n",
       "0.0       5683  3549  0.624494\n",
       "40.0        13     7  0.538462\n",
       "6.0         32    16  0.500000\n",
       "9.0         25    11  0.440000\n",
       "8.0         30    13  0.433333\n",
       "2.0         70    29  0.414286\n",
       "4.0         47    19  0.404255\n",
       "5.0         51    20  0.392157\n",
       "23.0        18     7  0.388889\n",
       "7.0         29    11  0.379310"
      ]
     },
     "metadata": {},
     "output_type": "display_data"
    },
    {
     "data": {
      "image/png": "[encoded data removed]",
      "text/plain": [
       "<Figure size 1080x504 with 1 Axes>"
      ]
     },
     "metadata": {
      "needs_background": "light"
     },
     "output_type": "display_data"
    }
   ],
   "source": [
    "home_planet_table = data_dict['train'].groupby(by=['vr_deck'])['transported'].agg(['count', 'sum', 'mean'])\n",
    "display(home_planet_table.query('count > 10').sort_values(by='mean', ascending=False).head(10))\n",
    "home_planet_table['count'] = home_planet_table['count'] - home_planet_table['sum']\n",
    "home_planet_table = home_planet_table.rename(columns={\"count\": \"total\", \"sum\": \"transported\"})\n",
    "home_planet_table['transported'][1:300].plot(figsize=(15,7))\n",
    "home_planet_table['total'][1:].head(300).plot();"
   ]
  },
  {
   "cell_type": "markdown",
   "id": "3d0acd25-9a06-445a-85d4-2cb13e5fe0dc",
   "metadata": {},
   "source": [
    "#### CryoSleep"
   ]
  },
  {
   "cell_type": "code",
   "execution_count": 44,
   "id": "a51df67e-9c6c-4a8e-9b61-79da1e56a669",
   "metadata": {},
   "outputs": [
    {
     "data": {
      "text/html": [
       "<div>\n",
       "<style scoped>\n",
       "    .dataframe tbody tr th:only-of-type {\n",
       "        vertical-align: middle;\n",
       "    }\n",
       "\n",
       "    .dataframe tbody tr th {\n",
       "        vertical-align: top;\n",
       "    }\n",
       "\n",
       "    .dataframe thead th {\n",
       "        text-align: right;\n",
       "    }\n",
       "</style>\n",
       "<table border=\"1\" class=\"dataframe\">\n",
       "  <thead>\n",
       "    <tr style=\"text-align: right;\">\n",
       "      <th></th>\n",
       "      <th>home_planet</th>\n",
       "      <th>cryo_sleep</th>\n",
       "      <th>destination</th>\n",
       "      <th>age</th>\n",
       "      <th>vip</th>\n",
       "      <th>room_service</th>\n",
       "      <th>food_court</th>\n",
       "      <th>shopping_mall</th>\n",
       "      <th>spa</th>\n",
       "      <th>vr_deck</th>\n",
       "      <th>name</th>\n",
       "      <th>transported</th>\n",
       "      <th>group_id</th>\n",
       "      <th>number_in_group</th>\n",
       "      <th>deck</th>\n",
       "      <th>number</th>\n",
       "      <th>side</th>\n",
       "    </tr>\n",
       "  </thead>\n",
       "  <tbody>\n",
       "    <tr>\n",
       "      <th>92</th>\n",
       "      <td>Earth</td>\n",
       "      <td>NaN</td>\n",
       "      <td>TRAPPIST-1e</td>\n",
       "      <td>2.0</td>\n",
       "      <td>False</td>\n",
       "      <td>0.0</td>\n",
       "      <td>0.0</td>\n",
       "      <td>0.0</td>\n",
       "      <td>0.0</td>\n",
       "      <td>0.0</td>\n",
       "      <td>Thewis Connelson</td>\n",
       "      <td>True</td>\n",
       "      <td>0099</td>\n",
       "      <td>02</td>\n",
       "      <td>G</td>\n",
       "      <td>12</td>\n",
       "      <td>P</td>\n",
       "    </tr>\n",
       "    <tr>\n",
       "      <th>98</th>\n",
       "      <td>Earth</td>\n",
       "      <td>NaN</td>\n",
       "      <td>TRAPPIST-1e</td>\n",
       "      <td>27.0</td>\n",
       "      <td>False</td>\n",
       "      <td>0.0</td>\n",
       "      <td>0.0</td>\n",
       "      <td>570.0</td>\n",
       "      <td>2.0</td>\n",
       "      <td>131.0</td>\n",
       "      <td>Carry Cleachrand</td>\n",
       "      <td>False</td>\n",
       "      <td>0105</td>\n",
       "      <td>01</td>\n",
       "      <td>F</td>\n",
       "      <td>21</td>\n",
       "      <td>P</td>\n",
       "    </tr>\n",
       "    <tr>\n",
       "      <th>104</th>\n",
       "      <td>Europa</td>\n",
       "      <td>NaN</td>\n",
       "      <td>TRAPPIST-1e</td>\n",
       "      <td>40.0</td>\n",
       "      <td>False</td>\n",
       "      <td>0.0</td>\n",
       "      <td>331.0</td>\n",
       "      <td>0.0</td>\n",
       "      <td>0.0</td>\n",
       "      <td>1687.0</td>\n",
       "      <td>Aldeba Bootious</td>\n",
       "      <td>False</td>\n",
       "      <td>0110</td>\n",
       "      <td>02</td>\n",
       "      <td>B</td>\n",
       "      <td>5</td>\n",
       "      <td>P</td>\n",
       "    </tr>\n",
       "    <tr>\n",
       "      <th>111</th>\n",
       "      <td>Mars</td>\n",
       "      <td>NaN</td>\n",
       "      <td>TRAPPIST-1e</td>\n",
       "      <td>26.0</td>\n",
       "      <td>False</td>\n",
       "      <td>0.0</td>\n",
       "      <td>0.0</td>\n",
       "      <td>0.0</td>\n",
       "      <td>0.0</td>\n",
       "      <td>0.0</td>\n",
       "      <td>Rohs Pead</td>\n",
       "      <td>True</td>\n",
       "      <td>0115</td>\n",
       "      <td>01</td>\n",
       "      <td>F</td>\n",
       "      <td>24</td>\n",
       "      <td>P</td>\n",
       "    </tr>\n",
       "    <tr>\n",
       "      <th>152</th>\n",
       "      <td>Earth</td>\n",
       "      <td>NaN</td>\n",
       "      <td>TRAPPIST-1e</td>\n",
       "      <td>58.0</td>\n",
       "      <td>False</td>\n",
       "      <td>0.0</td>\n",
       "      <td>985.0</td>\n",
       "      <td>0.0</td>\n",
       "      <td>5.0</td>\n",
       "      <td>0.0</td>\n",
       "      <td>Hilip Grifford</td>\n",
       "      <td>True</td>\n",
       "      <td>0173</td>\n",
       "      <td>01</td>\n",
       "      <td>E</td>\n",
       "      <td>11</td>\n",
       "      <td>S</td>\n",
       "    </tr>\n",
       "    <tr>\n",
       "      <th>175</th>\n",
       "      <td>Earth</td>\n",
       "      <td>NaN</td>\n",
       "      <td>PSO J318.5-22</td>\n",
       "      <td>52.0</td>\n",
       "      <td>False</td>\n",
       "      <td>0.0</td>\n",
       "      <td>0.0</td>\n",
       "      <td>0.0</td>\n",
       "      <td>0.0</td>\n",
       "      <td>0.0</td>\n",
       "      <td>Jeroy Cookson</td>\n",
       "      <td>True</td>\n",
       "      <td>0198</td>\n",
       "      <td>01</td>\n",
       "      <td>G</td>\n",
       "      <td>30</td>\n",
       "      <td>P</td>\n",
       "    </tr>\n",
       "    <tr>\n",
       "      <th>224</th>\n",
       "      <td>Europa</td>\n",
       "      <td>NaN</td>\n",
       "      <td>55 Cancri e</td>\n",
       "      <td>33.0</td>\n",
       "      <td>False</td>\n",
       "      <td>0.0</td>\n",
       "      <td>1249.0</td>\n",
       "      <td>0.0</td>\n",
       "      <td>4812.0</td>\n",
       "      <td>1116.0</td>\n",
       "      <td>Alas Dischod</td>\n",
       "      <td>False</td>\n",
       "      <td>0241</td>\n",
       "      <td>01</td>\n",
       "      <td>E</td>\n",
       "      <td>11</td>\n",
       "      <td>P</td>\n",
       "    </tr>\n",
       "    <tr>\n",
       "      <th>266</th>\n",
       "      <td>Europa</td>\n",
       "      <td>NaN</td>\n",
       "      <td>TRAPPIST-1e</td>\n",
       "      <td>43.0</td>\n",
       "      <td>False</td>\n",
       "      <td>0.0</td>\n",
       "      <td>0.0</td>\n",
       "      <td>0.0</td>\n",
       "      <td>0.0</td>\n",
       "      <td>0.0</td>\n",
       "      <td>Dhenar Excialing</td>\n",
       "      <td>True</td>\n",
       "      <td>0290</td>\n",
       "      <td>03</td>\n",
       "      <td>B</td>\n",
       "      <td>7</td>\n",
       "      <td>S</td>\n",
       "    </tr>\n",
       "    <tr>\n",
       "      <th>314</th>\n",
       "      <td>Mars</td>\n",
       "      <td>NaN</td>\n",
       "      <td>TRAPPIST-1e</td>\n",
       "      <td>36.0</td>\n",
       "      <td>False</td>\n",
       "      <td>520.0</td>\n",
       "      <td>0.0</td>\n",
       "      <td>1865.0</td>\n",
       "      <td>0.0</td>\n",
       "      <td>0.0</td>\n",
       "      <td>Weet Mane</td>\n",
       "      <td>True</td>\n",
       "      <td>0348</td>\n",
       "      <td>02</td>\n",
       "      <td>NaN</td>\n",
       "      <td>NaN</td>\n",
       "      <td>NaN</td>\n",
       "    </tr>\n",
       "    <tr>\n",
       "      <th>392</th>\n",
       "      <td>Europa</td>\n",
       "      <td>NaN</td>\n",
       "      <td>55 Cancri e</td>\n",
       "      <td>27.0</td>\n",
       "      <td>False</td>\n",
       "      <td>0.0</td>\n",
       "      <td>0.0</td>\n",
       "      <td>0.0</td>\n",
       "      <td>0.0</td>\n",
       "      <td>0.0</td>\n",
       "      <td>Hekark Mormonized</td>\n",
       "      <td>True</td>\n",
       "      <td>0433</td>\n",
       "      <td>01</td>\n",
       "      <td>B</td>\n",
       "      <td>20</td>\n",
       "      <td>P</td>\n",
       "    </tr>\n",
       "  </tbody>\n",
       "</table>\n",
       "</div>"
      ],
      "text/plain": [
       "    home_planet cryo_sleep    destination   age    vip  room_service  \\\n",
       "92        Earth        NaN    TRAPPIST-1e   2.0  False           0.0   \n",
       "98        Earth        NaN    TRAPPIST-1e  27.0  False           0.0   \n",
       "104      Europa        NaN    TRAPPIST-1e  40.0  False           0.0   \n",
       "111        Mars        NaN    TRAPPIST-1e  26.0  False           0.0   \n",
       "152       Earth        NaN    TRAPPIST-1e  58.0  False           0.0   \n",
       "175       Earth        NaN  PSO J318.5-22  52.0  False           0.0   \n",
       "224      Europa        NaN    55 Cancri e  33.0  False           0.0   \n",
       "266      Europa        NaN    TRAPPIST-1e  43.0  False           0.0   \n",
       "314        Mars        NaN    TRAPPIST-1e  36.0  False         520.0   \n",
       "392      Europa        NaN    55 Cancri e  27.0  False           0.0   \n",
       "\n",
       "     food_court  shopping_mall     spa  vr_deck               name  \\\n",
       "92          0.0            0.0     0.0      0.0   Thewis Connelson   \n",
       "98          0.0          570.0     2.0    131.0   Carry Cleachrand   \n",
       "104       331.0            0.0     0.0   1687.0    Aldeba Bootious   \n",
       "111         0.0            0.0     0.0      0.0          Rohs Pead   \n",
       "152       985.0            0.0     5.0      0.0     Hilip Grifford   \n",
       "175         0.0            0.0     0.0      0.0      Jeroy Cookson   \n",
       "224      1249.0            0.0  4812.0   1116.0       Alas Dischod   \n",
       "266         0.0            0.0     0.0      0.0   Dhenar Excialing   \n",
       "314         0.0         1865.0     0.0      0.0          Weet Mane   \n",
       "392         0.0            0.0     0.0      0.0  Hekark Mormonized   \n",
       "\n",
       "     transported group_id number_in_group deck number side  \n",
       "92          True     0099              02    G     12    P  \n",
       "98         False     0105              01    F     21    P  \n",
       "104        False     0110              02    B      5    P  \n",
       "111         True     0115              01    F     24    P  \n",
       "152         True     0173              01    E     11    S  \n",
       "175         True     0198              01    G     30    P  \n",
       "224        False     0241              01    E     11    P  \n",
       "266         True     0290              03    B      7    S  \n",
       "314         True     0348              02  NaN    NaN  NaN  \n",
       "392         True     0433              01    B     20    P  "
      ]
     },
     "execution_count": 44,
     "metadata": {},
     "output_type": "execute_result"
    }
   ],
   "source": [
    "data_dict['train'].query('cryo_sleep != cryo_sleep').head(10)"
   ]
  },
  {
   "cell_type": "code",
   "execution_count": 45,
   "id": "ada5b24d-30ba-45de-a08d-2f7e7d70346e",
   "metadata": {},
   "outputs": [
    {
     "data": {
      "text/plain": [
       "False    5439\n",
       "True     3037\n",
       "Name: cryo_sleep, dtype: int64"
      ]
     },
     "execution_count": 45,
     "metadata": {},
     "output_type": "execute_result"
    }
   ],
   "source": [
    "data_dict['train']['cryo_sleep'].value_counts()"
   ]
  },
  {
   "cell_type": "code",
   "execution_count": 46,
   "id": "544ff8c3-5c71-4e0e-a3e9-bb963bd36f19",
   "metadata": {},
   "outputs": [
    {
     "data": {
      "text/plain": [
       "room_service     0.0\n",
       "food_court       0.0\n",
       "shopping_mall    0.0\n",
       "spa              0.0\n",
       "vr_deck          0.0\n",
       "dtype: float64"
      ]
     },
     "execution_count": 46,
     "metadata": {},
     "output_type": "execute_result"
    }
   ],
   "source": [
    "data_dict['train'].query('cryo_sleep == True')[['room_service', 'food_court', 'shopping_mall', 'spa', 'vr_deck']].sum()"
   ]
  },
  {
   "cell_type": "markdown",
   "id": "f2a15d2b-6564-4412-b045-d976d3508b1d",
   "metadata": {},
   "source": [
    "Пассажиры которые используют криосон не пользуются платными развлекательными услугами, так понимаю что можно использовать либо криосон и наслаждаться анимацией полета либо не использовать криосон и наслаждаться многочисленных роскошными удобствами космического корабля."
   ]
  },
  {
   "cell_type": "code",
   "execution_count": 47,
   "id": "dd71c75d-1756-406f-a9e6-954c37695f0e",
   "metadata": {},
   "outputs": [],
   "source": [
    "def cryo_sleep_fit(row):\n",
    "    if row['cryo_sleep'] != row['cryo_sleep']:\n",
    "        if row['room_service'] == row['food_court'] == row['shopping_mall'] == row['spa'] == row['vr_deck'] == 0:\n",
    "            return True\n",
    "        else:\n",
    "            return row['cryo_sleep']\n",
    "    else:\n",
    "        return row['cryo_sleep']"
   ]
  },
  {
   "cell_type": "code",
   "execution_count": 95,
   "id": "25a3deef-c5ef-41a9-86e1-983935f248ca",
   "metadata": {},
   "outputs": [
    {
     "name": "stdout",
     "output_type": "stream",
     "text": [
      "train\n",
      "\n",
      "0\n",
      "0\n",
      "test\n",
      "\n",
      "0\n",
      "0\n"
     ]
    }
   ],
   "source": [
    "for dataset in data_dict:\n",
    "    print(dataset)\n",
    "    print()\n",
    "    print(data_dict[dataset]['cryo_sleep'].isna().sum())\n",
    "    data_dict[dataset]['cryo_sleep'] = data_dict[dataset].apply(cryo_sleep_fit, axis=1)\n",
    "    print(data_dict[dataset]['cryo_sleep'].isna().sum())"
   ]
  },
  {
   "cell_type": "code",
   "execution_count": 102,
   "id": "f8b25b0f-e48c-448c-a4a9-25f4cf610696",
   "metadata": {},
   "outputs": [
    {
     "data": {
      "text/plain": [
       "Int64Index([0, 1], dtype='int64', name='cryo_sleep')"
      ]
     },
     "execution_count": 102,
     "metadata": {},
     "output_type": "execute_result"
    }
   ],
   "source": [
    "home_planet_table.index"
   ]
  },
  {
   "cell_type": "code",
   "execution_count": 165,
   "id": "b8551764-4216-4cfe-8ae8-758c9d9de97a",
   "metadata": {},
   "outputs": [
    {
     "data": {
      "image/png": "[encoded data removed]",
      "text/plain": [
       "<Figure size 1008x504 with 1 Axes>"
      ]
     },
     "metadata": {},
     "output_type": "display_data"
    }
   ],
   "source": [
    "temp_table = data_dict['train'].groupby(by=['cryo_sleep'])['transported'].agg(['count', 'sum', 'mean']).rename(columns={\"count\": \"total\", \"sum\": \"transported\"})\n",
    "f, ax = plt.subplots(figsize=(14, 7))\n",
    "sns.set_theme(style=\"whitegrid\")\n",
    "sns.set_color_codes(\"pastel\")\n",
    "sns.barplot( x=temp_table.index, y = 'total',  data=temp_table, label=\"Total\", color='b')\n",
    "sns.set_color_codes(\"muted\")\n",
    "sns.barplot( x=temp_table.index, y = 'transported', data=temp_table, label=\"Transported\", color=\"b\")\n",
    "ax.legend(ncol=2, loc=\"lower right\", frameon=True)\n",
    "ax.set( ylabel=\"\",\n",
    "xlabel=\"Transported passenger in cryo-sleep\");"
   ]
  },
  {
   "cell_type": "markdown",
   "id": "495e5176-17b1-4f01-b130-65ba901e7a32",
   "metadata": {},
   "source": [
    "#### Дополнительный признак group_size"
   ]
  },
  {
   "cell_type": "code",
   "execution_count": 50,
   "id": "1de9e2f7-7c9f-413b-9c0d-8e127644303b",
   "metadata": {},
   "outputs": [],
   "source": [
    "for dataset in data_dict:\n",
    "    group_group_id = list(data_dict[dataset].query('number_in_group != \"01\" and number_in_group == number_in_group').group_id.unique())\n",
    "    for index, row in data_dict[dataset].iterrows():\n",
    "        group_id = row.group_id\n",
    "        if group_id in group_group_id:\n",
    "            data_dict[dataset].loc[index, 'group_size'] = data_dict[dataset].query('group_id == @group_id')['number_in_group'].max()\n",
    "        else:\n",
    "            data_dict[dataset].loc[index, 'group_size'] = 1"
   ]
  },
  {
   "cell_type": "code",
   "execution_count": 51,
   "id": "74061e15-3e7c-4be5-b17e-92aaed28910f",
   "metadata": {},
   "outputs": [
    {
     "data": {
      "text/html": [
       "<div>\n",
       "<style scoped>\n",
       "    .dataframe tbody tr th:only-of-type {\n",
       "        vertical-align: middle;\n",
       "    }\n",
       "\n",
       "    .dataframe tbody tr th {\n",
       "        vertical-align: top;\n",
       "    }\n",
       "\n",
       "    .dataframe thead th {\n",
       "        text-align: right;\n",
       "    }\n",
       "</style>\n",
       "<table border=\"1\" class=\"dataframe\">\n",
       "  <thead>\n",
       "    <tr style=\"text-align: right;\">\n",
       "      <th></th>\n",
       "      <th>count</th>\n",
       "      <th>sum</th>\n",
       "      <th>mean</th>\n",
       "    </tr>\n",
       "    <tr>\n",
       "      <th>group_size</th>\n",
       "      <th></th>\n",
       "      <th></th>\n",
       "      <th></th>\n",
       "    </tr>\n",
       "  </thead>\n",
       "  <tbody>\n",
       "    <tr>\n",
       "      <th>1.0</th>\n",
       "      <td>4805</td>\n",
       "      <td>2174</td>\n",
       "      <td>0.452445</td>\n",
       "    </tr>\n",
       "    <tr>\n",
       "      <th>02</th>\n",
       "      <td>1682</td>\n",
       "      <td>905</td>\n",
       "      <td>0.538050</td>\n",
       "    </tr>\n",
       "    <tr>\n",
       "      <th>03</th>\n",
       "      <td>1020</td>\n",
       "      <td>605</td>\n",
       "      <td>0.593137</td>\n",
       "    </tr>\n",
       "    <tr>\n",
       "      <th>04</th>\n",
       "      <td>412</td>\n",
       "      <td>264</td>\n",
       "      <td>0.640777</td>\n",
       "    </tr>\n",
       "    <tr>\n",
       "      <th>05</th>\n",
       "      <td>265</td>\n",
       "      <td>157</td>\n",
       "      <td>0.592453</td>\n",
       "    </tr>\n",
       "    <tr>\n",
       "      <th>06</th>\n",
       "      <td>174</td>\n",
       "      <td>107</td>\n",
       "      <td>0.614943</td>\n",
       "    </tr>\n",
       "    <tr>\n",
       "      <th>07</th>\n",
       "      <td>231</td>\n",
       "      <td>125</td>\n",
       "      <td>0.541126</td>\n",
       "    </tr>\n",
       "    <tr>\n",
       "      <th>08</th>\n",
       "      <td>104</td>\n",
       "      <td>41</td>\n",
       "      <td>0.394231</td>\n",
       "    </tr>\n",
       "  </tbody>\n",
       "</table>\n",
       "</div>"
      ],
      "text/plain": [
       "            count   sum      mean\n",
       "group_size                       \n",
       "1.0          4805  2174  0.452445\n",
       "02           1682   905  0.538050\n",
       "03           1020   605  0.593137\n",
       "04            412   264  0.640777\n",
       "05            265   157  0.592453\n",
       "06            174   107  0.614943\n",
       "07            231   125  0.541126\n",
       "08            104    41  0.394231"
      ]
     },
     "metadata": {},
     "output_type": "display_data"
    },
    {
     "data": {
      "image/png": "[encoded data removed]",
      "text/plain": [
       "<Figure size 1080x504 with 1 Axes>"
      ]
     },
     "metadata": {
      "needs_background": "light"
     },
     "output_type": "display_data"
    }
   ],
   "source": [
    "home_planet_table = data_dict['train'].groupby(by=['group_size'])['transported'].agg(['count', 'sum', 'mean'])\n",
    "display(home_planet_table)\n",
    "home_planet_table['count'] = home_planet_table['count'] - home_planet_table['sum']\n",
    "home_planet_table = home_planet_table.rename(columns={\"count\": \"total\", \"sum\": \"transported\"})\n",
    "home_planet_table[['transported', 'total']].plot(kind='bar', stacked=True, legend=True, figsize=(15,7));"
   ]
  },
  {
   "cell_type": "markdown",
   "id": "f546fbb5-d557-478d-a3f6-3a02d256b7c5",
   "metadata": {},
   "source": [
    "#### Заполнение пропусков"
   ]
  },
  {
   "cell_type": "code",
   "execution_count": 52,
   "id": "3871be22-ca87-4e56-a5a5-f6983050b155",
   "metadata": {},
   "outputs": [
    {
     "data": {
      "text/plain": [
       "home_planet          0\n",
       "cryo_sleep         119\n",
       "destination        182\n",
       "age                  0\n",
       "vip                128\n",
       "room_service         0\n",
       "food_court           0\n",
       "shopping_mall        0\n",
       "spa                  0\n",
       "vr_deck              0\n",
       "name               200\n",
       "transported          0\n",
       "group_id             0\n",
       "number_in_group      0\n",
       "deck               119\n",
       "number             119\n",
       "side               119\n",
       "group_size           0\n",
       "dtype: int64"
      ]
     },
     "execution_count": 52,
     "metadata": {},
     "output_type": "execute_result"
    }
   ],
   "source": [
    "data_dict['train'].isna().sum()"
   ]
  },
  {
   "cell_type": "code",
   "execution_count": 53,
   "id": "0f8b5171-496c-400e-960c-a5d382adf87d",
   "metadata": {},
   "outputs": [],
   "source": [
    "for dataset in data_dict:\n",
    "    data_dict[dataset]['home_planet'] = data_dict[dataset]['home_planet'].fillna('na')\n",
    "    data_dict[dataset]['cryo_sleep'] = data_dict[dataset]['cryo_sleep'].fillna(False)\n",
    "    data_dict[dataset]['destination'] = data_dict[dataset]['destination'].fillna('na')\n",
    "    data_dict[dataset]['vip'] = data_dict[dataset]['vip'].fillna(False)\n",
    "    data_dict[dataset]['name'] = data_dict[dataset]['name'].fillna('na')\n",
    "    data_dict[dataset]['deck'] = data_dict[dataset]['deck'].fillna('na')\n",
    "    data_dict[dataset]['number'] = data_dict[dataset]['number'].fillna(0)\n",
    "    data_dict[dataset]['side'] = data_dict[dataset]['side'].fillna('na')"
   ]
  },
  {
   "cell_type": "code",
   "execution_count": 54,
   "id": "211da186-b464-48cf-b3dd-69ff02d1351d",
   "metadata": {},
   "outputs": [
    {
     "data": {
      "text/plain": [
       "home_planet        0\n",
       "cryo_sleep         0\n",
       "destination        0\n",
       "age                0\n",
       "vip                0\n",
       "room_service       0\n",
       "food_court         0\n",
       "shopping_mall      0\n",
       "spa                0\n",
       "vr_deck            0\n",
       "name               0\n",
       "transported        0\n",
       "group_id           0\n",
       "number_in_group    0\n",
       "deck               0\n",
       "number             0\n",
       "side               0\n",
       "group_size         0\n",
       "dtype: int64"
      ]
     },
     "execution_count": 54,
     "metadata": {},
     "output_type": "execute_result"
    }
   ],
   "source": [
    "data_dict['train'].isna().sum()"
   ]
  },
  {
   "cell_type": "markdown",
   "id": "1ae33ff8-02d8-49fe-ac54-2943873021ea",
   "metadata": {},
   "source": [
    "#### Проверка на дубликаты"
   ]
  },
  {
   "cell_type": "code",
   "execution_count": 55,
   "id": "46206071-99d6-44db-a857-73519bd79b89",
   "metadata": {},
   "outputs": [
    {
     "data": {
      "text/plain": [
       "0"
      ]
     },
     "execution_count": 55,
     "metadata": {},
     "output_type": "execute_result"
    }
   ],
   "source": [
    "data_dict['train'].duplicated().sum()"
   ]
  },
  {
   "cell_type": "markdown",
   "id": "162317d0-42ff-4864-b9a3-1156b316ace7",
   "metadata": {},
   "source": [
    "#### Изменение типов данных"
   ]
  },
  {
   "cell_type": "code",
   "execution_count": 56,
   "id": "29a6ff28-401c-4b32-8b9a-4885bf701e37",
   "metadata": {},
   "outputs": [
    {
     "data": {
      "text/plain": [
       "home_planet         object\n",
       "cryo_sleep            bool\n",
       "destination         object\n",
       "age                float64\n",
       "vip                   bool\n",
       "room_service       float64\n",
       "food_court         float64\n",
       "shopping_mall      float64\n",
       "spa                float64\n",
       "vr_deck            float64\n",
       "name                object\n",
       "transported           bool\n",
       "group_id            object\n",
       "number_in_group     object\n",
       "deck                object\n",
       "number              object\n",
       "side                object\n",
       "group_size          object\n",
       "dtype: object"
      ]
     },
     "execution_count": 56,
     "metadata": {},
     "output_type": "execute_result"
    }
   ],
   "source": [
    "data_dict['train'].dtypes"
   ]
  },
  {
   "cell_type": "code",
   "execution_count": 57,
   "id": "b9dee50e-63cd-4372-8f2d-512229a47401",
   "metadata": {},
   "outputs": [],
   "source": [
    "for dataset in data_dict:\n",
    "    data_dict[dataset]['age'] = data_dict[dataset]['age'].astype('int')\n",
    "    data_dict[dataset]['room_service'] = data_dict[dataset]['room_service'].astype('int')\n",
    "    data_dict[dataset]['food_court'] = data_dict[dataset]['food_court'].astype('int')\n",
    "    data_dict[dataset]['shopping_mall'] = data_dict[dataset]['shopping_mall'].astype('int')\n",
    "    data_dict[dataset]['spa'] = data_dict[dataset]['spa'].astype('int')\n",
    "    data_dict[dataset]['vr_deck'] = data_dict[dataset]['vr_deck'].astype('int')\n",
    "    data_dict[dataset]['number_in_group'] = data_dict[dataset]['number_in_group'].astype('int')\n",
    "    data_dict[dataset]['group_size'] = data_dict[dataset]['group_size'].astype('int')\n",
    "    data_dict[dataset]['cryo_sleep'] = data_dict[dataset]['cryo_sleep'].astype('int')\n",
    "    data_dict[dataset]['vip'] = data_dict[dataset]['vip'].astype('int')\n",
    "    \n",
    "    data_dict[dataset] = data_dict[dataset].drop('name', axis=1)\n",
    "    data_dict[dataset] = data_dict[dataset].drop('group_id', axis=1)\n",
    "    data_dict[dataset] = data_dict[dataset].drop('number', axis=1)"
   ]
  },
  {
   "cell_type": "code",
   "execution_count": 58,
   "id": "cf127a16-78fd-48a9-8b03-ae8b6e32f95e",
   "metadata": {},
   "outputs": [
    {
     "data": {
      "text/plain": [
       "home_planet        object\n",
       "cryo_sleep          int32\n",
       "destination        object\n",
       "age                 int32\n",
       "vip                 int32\n",
       "room_service        int32\n",
       "food_court          int32\n",
       "shopping_mall       int32\n",
       "spa                 int32\n",
       "vr_deck             int32\n",
       "transported          bool\n",
       "number_in_group     int32\n",
       "deck               object\n",
       "side               object\n",
       "group_size          int32\n",
       "dtype: object"
      ]
     },
     "execution_count": 58,
     "metadata": {},
     "output_type": "execute_result"
    }
   ],
   "source": [
    "data_dict['train'].dtypes"
   ]
  },
  {
   "cell_type": "markdown",
   "id": "15afe3a6-2e11-4aaf-b154-9112decb195d",
   "metadata": {},
   "source": [
    "#### OHE"
   ]
  },
  {
   "cell_type": "code",
   "execution_count": 59,
   "id": "a6ea6e4e-1bee-4644-b91e-a8802f57b1a5",
   "metadata": {},
   "outputs": [],
   "source": [
    "columns_to_encode = ['home_planet', 'destination', 'deck', 'side']\n",
    "\n",
    "preop_data_dict = {}\n",
    "\n",
    "for dataset in data_dict:\n",
    "    \n",
    "    preop_data_dict[dataset + '_ohe'] = pd.get_dummies(data=data_dict[dataset], columns = columns_to_encode, drop_first=True)"
   ]
  },
  {
   "cell_type": "markdown",
   "id": "3d0c98ce-c8a8-4098-8387-05845ca66d26",
   "metadata": {},
   "source": [
    "#### OE"
   ]
  },
  {
   "cell_type": "code",
   "execution_count": 60,
   "id": "49a3d529-6063-46cb-9a2d-ec066abc6ae0",
   "metadata": {},
   "outputs": [],
   "source": [
    "from sklearn.preprocessing import OrdinalEncoder\n",
    "enc = OrdinalEncoder()\n",
    "\n",
    "for dataset in data_dict:\n",
    "    preop_data_dict[dataset + '_oe'] = data_dict[dataset]\n",
    "    for column in columns_to_encode:\n",
    "        preop_data_dict[dataset + '_oe'][[column]] = enc.fit_transform(preop_data_dict[dataset + '_oe'][[column]])\n",
    "    "
   ]
  },
  {
   "cell_type": "code",
   "execution_count": 61,
   "id": "e0d51545-ee0d-40a4-96e6-a1fbfc99fb83",
   "metadata": {},
   "outputs": [
    {
     "data": {
      "text/plain": [
       "dict_keys(['train_ohe', 'test_ohe', 'train_oe', 'test_oe'])"
      ]
     },
     "execution_count": 61,
     "metadata": {},
     "output_type": "execute_result"
    }
   ],
   "source": [
    "preop_data_dict.keys()"
   ]
  },
  {
   "cell_type": "markdown",
   "id": "199611a3-6373-415f-83f7-ea49c2c1500d",
   "metadata": {},
   "source": [
    "### Шаг 3. Разработка модели ML"
   ]
  },
  {
   "cell_type": "markdown",
   "id": "8c81e44e-4893-4fa2-9285-d7512a82d596",
   "metadata": {},
   "source": [
    "#### Матрица корреляции"
   ]
  },
  {
   "cell_type": "code",
   "execution_count": 62,
   "id": "89a5d326-23ab-4122-9dc9-1eff4c7e4f75",
   "metadata": {},
   "outputs": [
    {
     "data": {
      "image/png": "[encoded data removed]",
      "text/plain": [
       "<Figure size 1080x1080 with 2 Axes>"
      ]
     },
     "metadata": {
      "needs_background": "light"
     },
     "output_type": "display_data"
    }
   ],
   "source": [
    "corr_matrix = preop_data_dict['train_ohe'].corr()\n",
    "\n",
    "mask = np.triu(np.ones_like(corr_matrix, dtype=np.bool_))\n",
    "\n",
    "f, ax = plt.subplots(figsize=(15, 15)) \n",
    "heatmap = sns.heatmap(round(corr_matrix, 2), \n",
    "                      mask = mask,\n",
    "                      square = True,\n",
    "                      linewidths = .5,\n",
    "                      cmap = 'coolwarm',\n",
    "                      cbar_kws = {'shrink': .4, \n",
    "                                'ticks' : [-1, -.5, 0, 0.5, 1]},\n",
    "                      vmin = -1, \n",
    "                      vmax = 1,\n",
    "                      annot = True,\n",
    "                      annot_kws = {'size': 10})\n",
    "\n",
    "ax.set_yticklabels(corr_matrix.columns, rotation = 0)\n",
    "ax.set_xticklabels(corr_matrix.columns)\n",
    "sns.set_style({'xtick.bottom': True}, {'ytick.left': True})"
   ]
  },
  {
   "cell_type": "code",
   "execution_count": 63,
   "id": "bc0e9850-1050-4792-b5e6-61bcea267743",
   "metadata": {},
   "outputs": [],
   "source": [
    "dtc = tree.DecisionTreeClassifier(random_state=12345)\n",
    "rfc = RandomForestClassifier(random_state=12345)\n",
    "gbc = GradientBoostingClassifier(random_state=12345)\n",
    "lr = LogisticRegression(random_state=12345)\n",
    "svm = SVC(random_state=12345)\n",
    "knn = KNeighborsClassifier(n_neighbors = 4)\n",
    "gnb = GaussianNB()\n",
    "abc = AdaBoostClassifier()\n",
    "lda = LinearDiscriminantAnalysis()"
   ]
  },
  {
   "cell_type": "code",
   "execution_count": 64,
   "id": "0128a2de-af3b-4338-b151-e5b633e63b95",
   "metadata": {},
   "outputs": [],
   "source": [
    "target_train_oe = preop_data_dict['train_oe']['transported']\n",
    "features_train_oe = preop_data_dict['train_oe'].drop('transported', axis=1)\n",
    "features_test_oe = preop_data_dict['test_oe']\n",
    "\n",
    "target_train_ohe = preop_data_dict['train_ohe']['transported']\n",
    "features_train_ohe = preop_data_dict['train_ohe'].drop('transported', axis=1)\n",
    "features_test_ohe = preop_data_dict['test_ohe']"
   ]
  },
  {
   "cell_type": "markdown",
   "id": "c9d4667e-e174-4c90-8a57-9a5b4517a0e5",
   "metadata": {},
   "source": [
    "#### StandardScaler"
   ]
  },
  {
   "cell_type": "code",
   "execution_count": 65,
   "id": "7a63d0c4-7005-4420-98a2-e4045076f3c1",
   "metadata": {},
   "outputs": [],
   "source": [
    "scaler = StandardScaler()\n",
    "columns_to_scale = ['age', 'room_service', 'food_court', 'shopping_mall', 'spa','vr_deck']\n",
    "\n",
    "features_train_oe[columns_to_scale] = scaler.fit_transform(features_train_oe[columns_to_scale])\n",
    "features_test_oe[columns_to_scale] = scaler.fit_transform(features_test_oe[columns_to_scale])\n",
    "\n",
    "features_train_ohe[columns_to_scale] = scaler.fit_transform(features_train_ohe[columns_to_scale])\n",
    "features_test_ohe[columns_to_scale] = scaler.fit_transform(features_test_ohe[columns_to_scale])"
   ]
  },
  {
   "cell_type": "markdown",
   "id": "e35619ac-d0fb-41f8-9352-5446625c4f50",
   "metadata": {},
   "source": [
    "#### Поиск модели"
   ]
  },
  {
   "cell_type": "code",
   "execution_count": 66,
   "id": "569f90d9-f0a5-49b2-bbf5-334b5611193e",
   "metadata": {},
   "outputs": [
    {
     "name": "stdout",
     "output_type": "stream",
     "text": [
      "Полнота модели Pipeline(steps=[('dtc', DecisionTreeClassifier(random_state=12345))]) на тренировочной выборке составила:         0.7339233128327532 с параметрами {}\n",
      "Wall time: 140 ms\n"
     ]
    }
   ],
   "source": [
    "%%time\n",
    "f1 = make_scorer(f1_score, average='binary', pos_label=1)\n",
    "\n",
    "\n",
    "pipe = Pipeline(steps=[('dtc', dtc)]) # Создаем пайплайн\n",
    "\n",
    "# Задаем решетку параметров пайплайна\n",
    "param_grid = {}\n",
    "\n",
    "# Создаем нашу модель и передаем ей пайплайн, решетку параметров, также используем кросс-валидацию результата    \n",
    "grid_search_cv = GridSearchCV(pipe, param_grid, cv=6, scoring='accuracy')\n",
    "\n",
    "# Обучаем модель на тренировочной части выборки:\n",
    "grid_search_cv.fit(features_train_oe, target_train_oe)\n",
    "\n",
    "best_params_dtc = grid_search_cv.best_params_ # Лучшие параметры\n",
    "best_dtc = grid_search_cv.best_estimator_ # Лучшая модель\n",
    "best_dtc_score = grid_search_cv.best_score_ # Лучший результат\n",
    "\n",
    "print(f'Полнота модели {best_dtc} на тренировочной выборке составила: \\\n",
    "        {best_dtc_score} с параметрами {best_params_dtc}')"
   ]
  },
  {
   "cell_type": "code",
   "execution_count": 67,
   "id": "8d497b61-2228-4a2c-ad69-f7568fc9193e",
   "metadata": {},
   "outputs": [
    {
     "data": {
      "image/png": "[encoded data removed]",
      "text/plain": [
       "<Figure size 432x288 with 2 Axes>"
      ]
     },
     "metadata": {
      "needs_background": "light"
     },
     "output_type": "display_data"
    }
   ],
   "source": [
    "from sklearn.metrics import confusion_matrix, ConfusionMatrixDisplay\n",
    "cm = confusion_matrix(target_train_oe, best_dtc.predict(features_train_oe))\n",
    "\n",
    "disp = ConfusionMatrixDisplay(confusion_matrix=cm)\n",
    "disp.plot()\n",
    "plt.show()"
   ]
  },
  {
   "cell_type": "code",
   "execution_count": 68,
   "id": "da52ec08-81d4-412a-9890-62ffd616bf72",
   "metadata": {},
   "outputs": [
    {
     "data": {
      "text/plain": [
       "<AxesSubplot:>"
      ]
     },
     "execution_count": 68,
     "metadata": {},
     "output_type": "execute_result"
    },
    {
     "data": {
      "image/png": "[encoded data removed]",
      "text/plain": [
       "<Figure size 1080x504 with 1 Axes>"
      ]
     },
     "metadata": {
      "needs_background": "light"
     },
     "output_type": "display_data"
    }
   ],
   "source": [
    "pd.Series(best_dtc[0].feature_importances_,features_train_oe.columns).sort_values(ascending=True).plot.barh(width=0.8, figsize=(15,7))"
   ]
  },
  {
   "cell_type": "code",
   "execution_count": 69,
   "id": "61cd943e-56a3-4453-bb8e-c34a26ae6110",
   "metadata": {},
   "outputs": [
    {
     "name": "stdout",
     "output_type": "stream",
     "text": [
      "Полнота модели RandomForestClassifier(random_state=12345) на тренировочной выборке составила:         0.7873012377876658 с параметрами {}\n",
      "Wall time: 1.62 s\n"
     ]
    }
   ],
   "source": [
    "%%time\n",
    "\n",
    "pipe = Pipeline(steps=[('scaler', scaler), ('rfc', rfc)]) # Создаем пайплайн\n",
    "\n",
    "# Задаем решетку параметров пайплайна\n",
    "param_grid = {}\n",
    "\n",
    "# Создаем нашу модель и передаем ей пайплайн, решетку параметров, также используем кросс-валидацию результата    \n",
    "grid_search_cv = GridSearchCV(pipe, param_grid, n_jobs=16, cv=6, scoring='accuracy')\n",
    "\n",
    "# Обучаем модель на тренировочной части выборки:\n",
    "grid_search_cv.fit(features_train_ohe, target_train_ohe)\n",
    "\n",
    "best_params_rfc = grid_search_cv.best_params_ # Лучшие параметры\n",
    "best_rfc = grid_search_cv.best_estimator_ # Лучшая модель\n",
    "best_rfc_score = grid_search_cv.best_score_ # Лучший результат\n",
    "\n",
    "print(f'Полнота модели {best_rfc[1]} на тренировочной выборке составила: \\\n",
    "        {best_rfc_score} с параметрами {best_params_rfc}')"
   ]
  },
  {
   "cell_type": "code",
   "execution_count": 70,
   "id": "f0c0bb41-41c6-484c-93ee-d0405393ae67",
   "metadata": {},
   "outputs": [
    {
     "name": "stderr",
     "output_type": "stream",
     "text": [
      "C:\\Users\\Daniil\\anaconda3\\lib\\site-packages\\sklearn\\base.py:443: UserWarning: X has feature names, but RandomForestClassifier was fitted without feature names\n",
      "  warnings.warn(\n"
     ]
    },
    {
     "data": {
      "image/png": "[encoded data removed]",
      "text/plain": [
       "<Figure size 432x288 with 2 Axes>"
      ]
     },
     "metadata": {
      "needs_background": "light"
     },
     "output_type": "display_data"
    }
   ],
   "source": [
    "from sklearn.metrics import confusion_matrix, ConfusionMatrixDisplay\n",
    "cm = confusion_matrix(target_train_ohe, best_rfc[1].predict(features_train_ohe))\n",
    "\n",
    "disp = ConfusionMatrixDisplay(confusion_matrix=cm)\n",
    "disp.plot()\n",
    "plt.show()"
   ]
  },
  {
   "cell_type": "code",
   "execution_count": 71,
   "id": "48563ac3-49ff-49f8-a6b1-faf58e79f5ec",
   "metadata": {},
   "outputs": [
    {
     "data": {
      "text/plain": [
       "<AxesSubplot:>"
      ]
     },
     "execution_count": 71,
     "metadata": {},
     "output_type": "execute_result"
    },
    {
     "data": {
      "image/png": "[encoded data removed]",
      "text/plain": [
       "<Figure size 1080x504 with 1 Axes>"
      ]
     },
     "metadata": {
      "needs_background": "light"
     },
     "output_type": "display_data"
    }
   ],
   "source": [
    "pd.Series(best_rfc[1].feature_importances_,features_train_ohe.columns).sort_values(ascending=True).plot.barh(width=0.8, figsize=(15,7))"
   ]
  },
  {
   "cell_type": "code",
   "execution_count": 72,
   "id": "fc4f4db6-bfe9-43c5-bf7e-d7cd7658fddb",
   "metadata": {},
   "outputs": [
    {
     "name": "stdout",
     "output_type": "stream",
     "text": [
      "Полнота модели Pipeline(steps=[('gbc', GradientBoostingClassifier(random_state=12345))]) на тренировочной выборке составила:         0.8008744520574931 с параметрами {}\n",
      "Wall time: 1.6 s\n"
     ]
    }
   ],
   "source": [
    "%%time\n",
    "\n",
    "pipe = Pipeline(steps=[('gbc', gbc)]) # Создаем пайплайн\n",
    "\n",
    "# Задаем решетку параметров пайплайна\n",
    "param_grid = {}\n",
    "\n",
    "# Создаем нашу модель и передаем ей пайплайн, решетку параметров, также используем кросс-валидацию результата    \n",
    "grid_search_cv = GridSearchCV(pipe, param_grid, n_jobs=16, cv=6, scoring='accuracy')\n",
    "\n",
    "# Обучаем модель на тренировочной части выборки:\n",
    "grid_search_cv.fit(features_train_ohe, target_train_ohe)\n",
    "\n",
    "best_params_gbc = grid_search_cv.best_params_ # Лучшие параметры\n",
    "best_gbc = grid_search_cv.best_estimator_ # Лучшая модель\n",
    "best_gbc_score = grid_search_cv.best_score_ # Лучший результатат\n",
    "\n",
    "print(f'Полнота модели {best_gbc} на тренировочной выборке составила: \\\n",
    "        {best_gbc_score} с параметрами {best_params_gbc}')"
   ]
  },
  {
   "cell_type": "code",
   "execution_count": 73,
   "id": "e533f611-43e5-42c0-ae13-4f5f16238302",
   "metadata": {},
   "outputs": [
    {
     "data": {
      "image/png": "[encoded data removed]",
      "text/plain": [
       "<Figure size 432x288 with 2 Axes>"
      ]
     },
     "metadata": {
      "needs_background": "light"
     },
     "output_type": "display_data"
    }
   ],
   "source": [
    "from sklearn.metrics import confusion_matrix, ConfusionMatrixDisplay\n",
    "cm = confusion_matrix(target_train_ohe, best_gbc.predict(features_train_ohe))\n",
    "\n",
    "disp = ConfusionMatrixDisplay(confusion_matrix=cm)\n",
    "disp.plot()\n",
    "plt.show()"
   ]
  },
  {
   "cell_type": "code",
   "execution_count": 74,
   "id": "1b734343-4147-49c5-8893-37319ffc1e64",
   "metadata": {},
   "outputs": [
    {
     "data": {
      "text/plain": [
       "<AxesSubplot:>"
      ]
     },
     "execution_count": 74,
     "metadata": {},
     "output_type": "execute_result"
    },
    {
     "data": {
      "image/png": "[encoded data removed]",
      "text/plain": [
       "<Figure size 1080x504 with 1 Axes>"
      ]
     },
     "metadata": {
      "needs_background": "light"
     },
     "output_type": "display_data"
    }
   ],
   "source": [
    "pd.Series(best_gbc[0].feature_importances_,features_train_ohe.columns).sort_values(ascending=True).plot.barh(width=0.8, figsize=(15,7))"
   ]
  },
  {
   "cell_type": "code",
   "execution_count": 75,
   "id": "5be6297a-1b2c-43e8-b896-e0a89d7f4d0b",
   "metadata": {},
   "outputs": [
    {
     "name": "stdout",
     "output_type": "stream",
     "text": [
      "Полнота модели LogisticRegression(random_state=12345) на тренировочной выборке составила:         0.7897159818100246 с параметрами {}\n",
      "Wall time: 456 ms\n"
     ]
    }
   ],
   "source": [
    "%%time\n",
    "\n",
    "pipe = Pipeline(steps=[('scaler', scaler), ('lr', lr)]) # Создаем пайплайн\n",
    "\n",
    "# Задаем решетку параметров пайплайна\n",
    "param_grid = {}\n",
    "\n",
    "# Создаем нашу модель и передаем ей пайплайн, решетку параметров, также используем кросс-валидацию результата    \n",
    "grid_search_cv = GridSearchCV(pipe, param_grid, n_jobs=16, cv=6, scoring='accuracy')\n",
    "\n",
    "# Обучаем модель на тренировочной части выборки:\n",
    "grid_search_cv.fit(features_train_ohe, target_train_ohe)\n",
    "\n",
    "best_params_lr = grid_search_cv.best_params_ # Лучшие параметры\n",
    "best_lr = grid_search_cv.best_estimator_ # Лучшая модель\n",
    "best_lr_score = grid_search_cv.best_score_ # Лучший результатат\n",
    "\n",
    "print(f'Полнота модели {best_lr[1]} на тренировочной выборке составила: \\\n",
    "        {best_lr_score} с параметрами {best_params_lr}')"
   ]
  },
  {
   "cell_type": "code",
   "execution_count": 76,
   "id": "0fb8c504-6d3a-46bb-8dbf-643c1d11b774",
   "metadata": {},
   "outputs": [
    {
     "data": {
      "image/png": "[encoded data removed]",
      "text/plain": [
       "<Figure size 432x288 with 2 Axes>"
      ]
     },
     "metadata": {
      "needs_background": "light"
     },
     "output_type": "display_data"
    }
   ],
   "source": [
    "from sklearn.metrics import confusion_matrix, ConfusionMatrixDisplay\n",
    "cm = confusion_matrix(target_train_ohe, best_lr.predict(features_train_ohe))\n",
    "\n",
    "disp = ConfusionMatrixDisplay(confusion_matrix=cm)\n",
    "disp.plot()\n",
    "plt.show()"
   ]
  },
  {
   "cell_type": "code",
   "execution_count": 77,
   "id": "b71d1e49-4671-4b5e-aeea-a911874f580b",
   "metadata": {},
   "outputs": [
    {
     "name": "stdout",
     "output_type": "stream",
     "text": [
      "Полнота модели SVC(random_state=12345) на тренировочной выборке составила:         0.7908668358314047 с параметрами {}\n",
      "Wall time: 2.08 s\n"
     ]
    }
   ],
   "source": [
    "%%time\n",
    "\n",
    "pipe = Pipeline(steps=[('scaler', scaler), ('svc', svm)]) # Создаем пайплайн\n",
    "\n",
    "# Задаем решетку параметров пайплайна\n",
    "param_grid = {}\n",
    "\n",
    "# Создаем нашу модель и передаем ей пайплайн, решетку параметров, также используем кросс-валидацию результата    \n",
    "grid_search_cv = GridSearchCV(pipe, param_grid, n_jobs=16, cv=6, scoring='accuracy')\n",
    "\n",
    "# Обучаем модель на тренировочной части выборки:\n",
    "grid_search_cv.fit(features_train_oe, target_train_oe)\n",
    "\n",
    "best_params_svm = grid_search_cv.best_params_ # Лучшие параметры\n",
    "best_svm = grid_search_cv.best_estimator_ # Лучшая модель\n",
    "best_svm_score = grid_search_cv.best_score_ # Лучший результатат\n",
    "\n",
    "print(f'Полнота модели {best_svm[1]} на тренировочной выборке составила: \\\n",
    "        {best_svm_score} с параметрами {best_params_svm}')"
   ]
  },
  {
   "cell_type": "code",
   "execution_count": 78,
   "id": "645fe057-b231-405f-b672-02d3705df9c7",
   "metadata": {},
   "outputs": [
    {
     "data": {
      "image/png": "[encoded data removed]",
      "text/plain": [
       "<Figure size 432x288 with 2 Axes>"
      ]
     },
     "metadata": {
      "needs_background": "light"
     },
     "output_type": "display_data"
    }
   ],
   "source": [
    "from sklearn.metrics import confusion_matrix, ConfusionMatrixDisplay\n",
    "cm = confusion_matrix(target_train_ohe, best_svm.predict(features_train_oe))\n",
    "\n",
    "disp = ConfusionMatrixDisplay(confusion_matrix=cm)\n",
    "disp.plot()\n",
    "plt.show()"
   ]
  },
  {
   "cell_type": "code",
   "execution_count": 79,
   "id": "a278c8b5-91ca-42a4-8533-f26415338913",
   "metadata": {},
   "outputs": [
    {
     "name": "stdout",
     "output_type": "stream",
     "text": [
      "Полнота модели Pipeline(steps=[('knn', KNeighborsClassifier(n_neighbors=4))]) на тренировочной выборке составила:         0.746003467178101 с параметрами {}\n",
      "Wall time: 91.7 ms\n"
     ]
    }
   ],
   "source": [
    "%%time\n",
    "\n",
    "pipe = Pipeline(steps=[('knn', knn)]) # Создаем пайплайн\n",
    "\n",
    "# Задаем решетку параметров пайплайна\n",
    "param_grid = {}\n",
    "\n",
    "# Создаем нашу модель и передаем ей пайплайн, решетку параметров, также используем кросс-валидацию результата    \n",
    "grid_search_cv = GridSearchCV(pipe, param_grid, n_jobs=16, cv=6, scoring='accuracy')\n",
    "\n",
    "# Обучаем модель на тренировочной части выборки:\n",
    "grid_search_cv.fit(features_train_oe, target_train_oe)\n",
    "\n",
    "best_params_knn = grid_search_cv.best_params_ # Лучшие параметры\n",
    "best_knn = grid_search_cv.best_estimator_ # Лучшая модель\n",
    "best_knn_score = grid_search_cv.best_score_ # Лучший результатат\n",
    "\n",
    "print(f'Полнота модели {best_knn} на тренировочной выборке составила: \\\n",
    "        {best_knn_score} с параметрами {best_params_knn}')"
   ]
  },
  {
   "cell_type": "code",
   "execution_count": 80,
   "id": "038f7bec-0582-487a-a716-929579f450ed",
   "metadata": {},
   "outputs": [
    {
     "data": {
      "image/png": "[encoded data removed]",
      "text/plain": [
       "<Figure size 432x288 with 2 Axes>"
      ]
     },
     "metadata": {
      "needs_background": "light"
     },
     "output_type": "display_data"
    }
   ],
   "source": [
    "from sklearn.metrics import confusion_matrix, ConfusionMatrixDisplay\n",
    "cm = confusion_matrix(target_train_ohe, best_knn.predict(features_train_oe))\n",
    "\n",
    "disp = ConfusionMatrixDisplay(confusion_matrix=cm)\n",
    "disp.plot()\n",
    "plt.show()"
   ]
  },
  {
   "cell_type": "code",
   "execution_count": 81,
   "id": "b2c0f5c1-1cba-4fe1-b3d2-1d0aafb52af9",
   "metadata": {},
   "outputs": [
    {
     "name": "stdout",
     "output_type": "stream",
     "text": [
      "Полнота модели Pipeline(steps=[('gnb', GaussianNB())]) на тренировочной выборке составила:         0.7004467900005974 с параметрами {}\n",
      "Wall time: 22.3 ms\n"
     ]
    }
   ],
   "source": [
    "%%time\n",
    "\n",
    "pipe = Pipeline(steps=[('gnb', gnb)]) # Создаем пайплайн\n",
    "\n",
    "# Задаем решетку параметров пайплайна\n",
    "param_grid = {}\n",
    "\n",
    "# Создаем нашу модель и передаем ей пайплайн, решетку параметров, также используем кросс-валидацию результата    \n",
    "grid_search_cv = GridSearchCV(pipe, param_grid, n_jobs=16, cv=6, scoring='accuracy')\n",
    "\n",
    "# Обучаем модель на тренировочной части выборки:\n",
    "grid_search_cv.fit(features_train_ohe, target_train_ohe)\n",
    "\n",
    "best_params_gnb = grid_search_cv.best_params_ # Лучшие параметры\n",
    "best_gnb = grid_search_cv.best_estimator_ # Лучшая модель\n",
    "best_gnb_score = grid_search_cv.best_score_ # Лучший результатат\n",
    "\n",
    "print(f'Полнота модели {best_gnb} на тренировочной выборке составила: \\\n",
    "        {best_gnb_score} с параметрами {best_params_gnb}')"
   ]
  },
  {
   "cell_type": "code",
   "execution_count": 82,
   "id": "ed2f1579-7f89-4112-ad2f-2b667d546b0b",
   "metadata": {},
   "outputs": [
    {
     "data": {
      "image/png": "[encoded data removed]",
      "text/plain": [
       "<Figure size 432x288 with 2 Axes>"
      ]
     },
     "metadata": {
      "needs_background": "light"
     },
     "output_type": "display_data"
    }
   ],
   "source": [
    "from sklearn.metrics import confusion_matrix, ConfusionMatrixDisplay\n",
    "cm = confusion_matrix(target_train_ohe, best_gnb.predict(features_train_ohe))\n",
    "\n",
    "disp = ConfusionMatrixDisplay(confusion_matrix=cm)\n",
    "disp.plot()\n",
    "plt.show()"
   ]
  },
  {
   "cell_type": "code",
   "execution_count": 83,
   "id": "e4de1260-0149-4f35-9676-b96a77fd8011",
   "metadata": {},
   "outputs": [
    {
     "name": "stdout",
     "output_type": "stream",
     "text": [
      "Полнота модели Pipeline(steps=[('abc', AdaBoostClassifier())]) на тренировочной выборке составила:         0.7863805863445547 с параметрами {}\n",
      "Wall time: 346 ms\n"
     ]
    }
   ],
   "source": [
    "%%time\n",
    "\n",
    "pipe = Pipeline(steps=[('abc', abc)]) # Создаем пайплайн\n",
    "\n",
    "# Задаем решетку параметров пайплайна\n",
    "param_grid = {}\n",
    "\n",
    "# Создаем нашу модель и передаем ей пайплайн, решетку параметров, также используем кросс-валидацию результата    \n",
    "grid_search_cv = GridSearchCV(pipe, param_grid, n_jobs=16, cv=6, scoring='accuracy')\n",
    "\n",
    "# Обучаем модель на тренировочной части выборки:\n",
    "grid_search_cv.fit(features_train_ohe, target_train_ohe)\n",
    "\n",
    "best_params_abc = grid_search_cv.best_params_ # Лучшие параметры\n",
    "best_abc = grid_search_cv.best_estimator_ # Лучшая модель\n",
    "best_abc_score = grid_search_cv.best_score_ # Лучший результатат\n",
    "\n",
    "print(f'Полнота модели {best_abc} на тренировочной выборке составила: \\\n",
    "        {best_abc_score} с параметрами {best_params_abc}')"
   ]
  },
  {
   "cell_type": "code",
   "execution_count": 84,
   "id": "ae5de711-5f45-4009-b1f4-64735465ed9f",
   "metadata": {},
   "outputs": [
    {
     "data": {
      "image/png": "[encoded data removed]",
      "text/plain": [
       "<Figure size 432x288 with 2 Axes>"
      ]
     },
     "metadata": {
      "needs_background": "light"
     },
     "output_type": "display_data"
    }
   ],
   "source": [
    "from sklearn.metrics import confusion_matrix, ConfusionMatrixDisplay\n",
    "cm = confusion_matrix(target_train_ohe, best_abc.predict(features_train_ohe))\n",
    "\n",
    "disp = ConfusionMatrixDisplay(confusion_matrix=cm)\n",
    "disp.plot()\n",
    "plt.show()"
   ]
  },
  {
   "cell_type": "code",
   "execution_count": 85,
   "id": "70d41f42-6364-47e8-b08d-37e7da68aed1",
   "metadata": {},
   "outputs": [
    {
     "name": "stdout",
     "output_type": "stream",
     "text": [
      "Полнота модели Pipeline(steps=[('lda', LinearDiscriminantAnalysis())]) на тренировочной выборке составила:         0.7701601218596174 с параметрами {}\n",
      "Wall time: 46.1 ms\n"
     ]
    }
   ],
   "source": [
    "%%time\n",
    "\n",
    "pipe = Pipeline(steps=[('lda', lda)]) # Создаем пайплайн\n",
    "\n",
    "# Задаем решетку параметров пайплайна\n",
    "param_grid = {}\n",
    "\n",
    "# Создаем нашу модель и передаем ей пайплайн, решетку параметров, также используем кросс-валидацию результата    \n",
    "grid_search_cv = GridSearchCV(pipe, param_grid, n_jobs=16, cv=6, scoring='accuracy')\n",
    "\n",
    "# Обучаем модель на тренировочной части выборки:\n",
    "grid_search_cv.fit(features_train_ohe, target_train_ohe)\n",
    "\n",
    "best_params_lda = grid_search_cv.best_params_ # Лучшие параметры\n",
    "best_lda = grid_search_cv.best_estimator_ # Лучшая модель\n",
    "best_lda_score = grid_search_cv.best_score_ # Лучший результатат\n",
    "\n",
    "print(f'Полнота модели {best_lda} на тренировочной выборке составила: \\\n",
    "        {best_lda_score} с параметрами {best_params_lda}')"
   ]
  },
  {
   "cell_type": "code",
   "execution_count": 86,
   "id": "36baa395-8a61-484b-838b-08519b0b7d00",
   "metadata": {},
   "outputs": [
    {
     "data": {
      "image/png": "[encoded data removed]",
      "text/plain": [
       "<Figure size 432x288 with 2 Axes>"
      ]
     },
     "metadata": {
      "needs_background": "light"
     },
     "output_type": "display_data"
    }
   ],
   "source": [
    "from sklearn.metrics import confusion_matrix, ConfusionMatrixDisplay\n",
    "cm = confusion_matrix(target_train_ohe, best_lda.predict(features_train_ohe))\n",
    "\n",
    "disp = ConfusionMatrixDisplay(confusion_matrix=cm)\n",
    "disp.plot()\n",
    "plt.show()"
   ]
  },
  {
   "cell_type": "markdown",
   "id": "e1fd91fb-9ee8-453a-bab5-382f556aeb28",
   "metadata": {},
   "source": [
    "#### Model score table"
   ]
  },
  {
   "cell_type": "code",
   "execution_count": 87,
   "id": "2a8f3502-0744-48fd-8596-9a615f59d830",
   "metadata": {},
   "outputs": [
    {
     "data": {
      "text/html": [
       "<div>\n",
       "<style scoped>\n",
       "    .dataframe tbody tr th:only-of-type {\n",
       "        vertical-align: middle;\n",
       "    }\n",
       "\n",
       "    .dataframe tbody tr th {\n",
       "        vertical-align: top;\n",
       "    }\n",
       "\n",
       "    .dataframe thead th {\n",
       "        text-align: right;\n",
       "    }\n",
       "</style>\n",
       "<table border=\"1\" class=\"dataframe\">\n",
       "  <thead>\n",
       "    <tr style=\"text-align: right;\">\n",
       "      <th></th>\n",
       "      <th>Model</th>\n",
       "      <th>Score</th>\n",
       "    </tr>\n",
       "  </thead>\n",
       "  <tbody>\n",
       "    <tr>\n",
       "      <th>6</th>\n",
       "      <td>Gradient Decent</td>\n",
       "      <td>0.800874</td>\n",
       "    </tr>\n",
       "    <tr>\n",
       "      <th>0</th>\n",
       "      <td>Support Vector Machines</td>\n",
       "      <td>0.790867</td>\n",
       "    </tr>\n",
       "    <tr>\n",
       "      <th>2</th>\n",
       "      <td>Logistic Regression</td>\n",
       "      <td>0.789716</td>\n",
       "    </tr>\n",
       "    <tr>\n",
       "      <th>3</th>\n",
       "      <td>Random Forest</td>\n",
       "      <td>0.787301</td>\n",
       "    </tr>\n",
       "    <tr>\n",
       "      <th>5</th>\n",
       "      <td>AdaBoostClassifier</td>\n",
       "      <td>0.786381</td>\n",
       "    </tr>\n",
       "    <tr>\n",
       "      <th>7</th>\n",
       "      <td>Linear Discriminant Analysis</td>\n",
       "      <td>0.770160</td>\n",
       "    </tr>\n",
       "    <tr>\n",
       "      <th>1</th>\n",
       "      <td>KNN</td>\n",
       "      <td>0.746003</td>\n",
       "    </tr>\n",
       "    <tr>\n",
       "      <th>8</th>\n",
       "      <td>Decision Tree</td>\n",
       "      <td>0.733923</td>\n",
       "    </tr>\n",
       "    <tr>\n",
       "      <th>4</th>\n",
       "      <td>Naive Bayes</td>\n",
       "      <td>0.700447</td>\n",
       "    </tr>\n",
       "  </tbody>\n",
       "</table>\n",
       "</div>"
      ],
      "text/plain": [
       "                          Model     Score\n",
       "6               Gradient Decent  0.800874\n",
       "0       Support Vector Machines  0.790867\n",
       "2           Logistic Regression  0.789716\n",
       "3                 Random Forest  0.787301\n",
       "5            AdaBoostClassifier  0.786381\n",
       "7  Linear Discriminant Analysis  0.770160\n",
       "1                           KNN  0.746003\n",
       "8                 Decision Tree  0.733923\n",
       "4                   Naive Bayes  0.700447"
      ]
     },
     "execution_count": 87,
     "metadata": {},
     "output_type": "execute_result"
    }
   ],
   "source": [
    "models = pd.DataFrame({\n",
    "    'Model': ['Support Vector Machines', 'KNN', 'Logistic Regression', \n",
    "              'Random Forest', 'Naive Bayes', 'AdaBoostClassifier', \n",
    "              'Gradient Decent', 'Linear Discriminant Analysis', \n",
    "              'Decision Tree'],\n",
    "    'Score': [best_svm_score, best_knn_score, best_lr_score, \n",
    "              best_rfc_score, best_gnb_score, best_abc_score, \n",
    "              best_gbc_score, best_lda_score, best_dtc_score]})\n",
    "models.sort_values(by='Score', ascending=False)"
   ]
  },
  {
   "cell_type": "markdown",
   "id": "e5d51fcd-9956-4602-8a31-3607e604bc75",
   "metadata": {},
   "source": [
    "#### Тюнинг гиперпараметров"
   ]
  },
  {
   "cell_type": "code",
   "execution_count": 88,
   "id": "e465f762-8769-4eae-af9f-c170448ebe4a",
   "metadata": {},
   "outputs": [],
   "source": [
    "\n",
    "from sklearn.model_selection import StratifiedKFold\n",
    "import optuna\n",
    "from sklearn.metrics import accuracy_score\n",
    "\n",
    "skf = StratifiedKFold(n_splits=6)\n",
    "\n",
    "\n",
    "def objective(trial):\n",
    "    print('________________START__________________')\n",
    "    param = {\n",
    "        'loss': trial.suggest_categorical('loss', ['log_loss', 'exponential']),\n",
    "        'criterion': trial.suggest_categorical('criterion', ['friedman_mse', 'squared_error']),\n",
    "        'max_leaf_nodes': trial.suggest_categorical('max_leaf_nodes', [2,3,4,5,6,7,8,9,10]),\n",
    "        #'min_samples_split': trial.suggest_float('min_samples_split', 0.2,1.0),\n",
    "        #'min_samples_leaf': trial.suggest_float('min_samples_leaf', 0.2,1.0),\n",
    "        #'min_weight_fraction_leaf': trial.suggest_float('min_weight_fraction_leaf', 0.0,0.5),\n",
    "        'max_features': trial.suggest_categorical('max_features', [2,3,4,5,6,7,8,9,10]),\n",
    "        #'tree_method':'hist',\n",
    "        #'objective': 'binary:logistic',\n",
    "        #'eval_metric': 'logloss',\n",
    "        #'lambda': trial.suggest_float('lambda', 0, 10.0),\n",
    "        #'alpha': trial.suggest_float('alpha', 0, 10.0),\n",
    "        #'colsample_bytree': trial.suggest_float('colsample_bytree', 0.1,1.0),\n",
    "        'subsample': trial.suggest_float('subsample', 0.2,1.0),\n",
    "        'learning_rate': trial.suggest_float('learning_rate', 0.01,0.3),\n",
    "        'n_estimators': trial.suggest_int('n_estimators', 100,3000),\n",
    "        'max_depth': trial.suggest_categorical('max_depth', [2,3,4,5,6,7,8,9,10])\n",
    "        #'min_child_weight': trial.suggest_int('min_child_weight', 1, 10),\n",
    "        #'num_parallel_tree': trial.suggest_int('num_parallel_tree',1,1)\n",
    "        #'early_stopping_rounds':200,\n",
    "        }\n",
    "        \n",
    "    results=[]\n",
    "    n_iterations=[]\n",
    "    for train_index, test_index in skf.split(features_train_ohe, target_train_ohe):\n",
    "        train_X, valid_X = features_train_ohe.iloc[train_index], features_train_ohe.iloc[test_index]\n",
    "        train_y, valid_y = target_train_ohe.iloc[train_index], target_train_ohe.iloc[test_index]\n",
    "        model = GradientBoostingClassifier(**param).fit(train_X,train_y,\n",
    "                                      #eval_set=[(valid_X,valid_y)],\n",
    "                                      #verbose=0\n",
    "                                     )  \n",
    "        #n_iteration = model.get_booster().best_iteration\n",
    "        #n_iterations.append(n_iteration)\n",
    "        result = accuracy_score(valid_y,(model.predict(valid_X)))\n",
    "        results.append(result)\n",
    "        #i=int(sum(n_iterations)/len(n_iterations))\n",
    "    #print(\"Average n_ite=\" + str(i))\n",
    "    #print(\"% of scatter =\" + str(np.std(n_iterations)/i))    \n",
    "    n=sum(results)/len(results) \n",
    "    print (n)\n",
    "    print(\"_________________FIIINISH_________________\\n\")\n",
    "    return n\n",
    "\n",
    "#study = optuna.create_study(pruner=optuna.pruners.HyperbandPruner(), direction='maximize')\n",
    "#study.optimize(objective, n_trials=1000)"
   ]
  },
  {
   "cell_type": "code",
   "execution_count": 89,
   "id": "028c723c-53d1-4c8a-a7ac-b67532721531",
   "metadata": {},
   "outputs": [
    {
     "ename": "NameError",
     "evalue": "name 'study' is not defined",
     "output_type": "error",
     "traceback": [
      "\u001b[1;31m---------------------------------------------------------------------------\u001b[0m",
      "\u001b[1;31mNameError\u001b[0m                                 Traceback (most recent call last)",
      "\u001b[1;32m~\\AppData\\Local\\Temp/ipykernel_23600/358889881.py\u001b[0m in \u001b[0;36m<module>\u001b[1;34m\u001b[0m\n\u001b[1;32m----> 1\u001b[1;33m \u001b[0mstudy\u001b[0m\u001b[1;33m.\u001b[0m\u001b[0mbest_params\u001b[0m\u001b[1;33m\u001b[0m\u001b[1;33m\u001b[0m\u001b[0m\n\u001b[0m",
      "\u001b[1;31mNameError\u001b[0m: name 'study' is not defined"
     ]
    }
   ],
   "source": [
    "study.best_params"
   ]
  },
  {
   "cell_type": "code",
   "execution_count": 90,
   "id": "7e82a38e-ad6f-4c19-a5b7-8569a9ab709d",
   "metadata": {},
   "outputs": [
    {
     "name": "stdout",
     "output_type": "stream",
     "text": [
      "Полнота модели Pipeline(steps=[('gbc',\n",
      "                 GradientBoostingClassifier(learning_rate=0.02308340811224455,\n",
      "                                            max_depth=4, max_features=10,\n",
      "                                            max_leaf_nodes=8, n_estimators=976,\n",
      "                                            random_state=12345,\n",
      "                                            subsample=0.9762985495711296))]) на тренировочной выборке составила:         0.8034054888937185 с параметрами {'gbc__criterion': 'friedman_mse', 'gbc__learning_rate': 0.02308340811224455, 'gbc__loss': 'log_loss', 'gbc__max_depth': 4, 'gbc__max_features': 10, 'gbc__max_leaf_nodes': 8, 'gbc__n_estimators': 976, 'gbc__subsample': 0.9762985495711296}\n",
      "Wall time: 5.93 s\n"
     ]
    }
   ],
   "source": [
    "%%time\n",
    "\n",
    "pipe = Pipeline(steps=[('gbc', gbc)]) # Создаем пайплайн\n",
    "\n",
    "# Задаем решетку параметров пайплайна\n",
    "param_grid = {'gbc__loss': ['log_loss'],\n",
    " 'gbc__criterion': ['friedman_mse'],\n",
    " 'gbc__max_leaf_nodes': [8],\n",
    " 'gbc__max_features': [10],\n",
    " 'gbc__subsample': [0.9762985495711296],\n",
    " 'gbc__learning_rate': [0.02308340811224455],\n",
    " 'gbc__n_estimators': [976],\n",
    " 'gbc__max_depth': [4]}\n",
    "\n",
    "# Создаем нашу модель и передаем ей пайплайн, решетку параметров, также используем кросс-валидацию результата    \n",
    "grid_search_cv = GridSearchCV(pipe, param_grid, n_jobs=16, cv=6, scoring='accuracy')\n",
    "\n",
    "# Обучаем модель на тренировочной части выборки:\n",
    "grid_search_cv.fit(features_train_ohe, target_train_ohe)\n",
    "\n",
    "best_params_gbc = grid_search_cv.best_params_ # Лучшие параметры\n",
    "best_gbc = grid_search_cv.best_estimator_ # Лучшая модель\n",
    "best_gbc_score = grid_search_cv.best_score_ # Лучший результатат\n",
    "\n",
    "print(f'Полнота модели {best_gbc} на тренировочной выборке составила: \\\n",
    "        {best_gbc_score} с параметрами {best_params_gbc}')"
   ]
  },
  {
   "cell_type": "code",
   "execution_count": 91,
   "id": "e2554b80-48cf-4704-a3fe-c7db1efb322b",
   "metadata": {},
   "outputs": [
    {
     "data": {
      "text/plain": [
       "<AxesSubplot:>"
      ]
     },
     "execution_count": 91,
     "metadata": {},
     "output_type": "execute_result"
    },
    {
     "data": {
      "image/png": "[encoded data removed]",
      "text/plain": [
       "<Figure size 1080x504 with 1 Axes>"
      ]
     },
     "metadata": {
      "needs_background": "light"
     },
     "output_type": "display_data"
    }
   ],
   "source": [
    "pd.Series(best_gbc[0].feature_importances_, features_train_ohe.columns).sort_values(ascending=True).plot.barh(width=0.8, figsize=(15,7))"
   ]
  },
  {
   "cell_type": "code",
   "execution_count": null,
   "id": "7321edbe-5857-405d-963f-72afd8fa90c7",
   "metadata": {},
   "outputs": [],
   "source": [
    "from xgboost import XGBClassifier\n",
    "xgb = XGBClassifier(random_state=42)\n",
    "\n",
    "pipe = Pipeline(steps=[('xgb', xgb)]) # Создаем пайплайн\n",
    "\n",
    "# Задаем решетку параметров пайплайна\n",
    "param_grid = {'xgb__lambda': [0.2986805813310141],\n",
    " 'xgb__alpha': [1.0377689814378535],\n",
    " 'xgb__colsample_bytree': [0.7960179566400756],\n",
    " 'xgb__subsample': [0.7829866216987346],\n",
    " 'xgb__learning_rate': [0.003467116815138747],\n",
    " 'xgb__n_estimators': [1400],\n",
    " 'xgb__max_depth': [7],\n",
    " 'xgb__min_child_weight': [1],\n",
    " 'xgb__num_parallel_tree': [1]}\n",
    "\n",
    "# Создаем нашу модель и передаем ей пайплайн, решетку параметров, также используем кросс-валидацию результата    \n",
    "grid_search_cv = GridSearchCV(pipe, param_grid, cv=6, scoring='accuracy')\n",
    "\n",
    "# Обучаем модель на тренировочной части выборки:\n",
    "grid_search_cv.fit(features_train_ohe, target_train_ohe)\n",
    "\n",
    "best_params_xgb = grid_search_cv.best_params_ # Лучшие параметры\n",
    "best_xgb = grid_search_cv.best_estimator_ # Лучшая модель\n",
    "best_xgb_score = grid_search_cv.best_score_ # Лучший результатат\n",
    "\n",
    "print(f'Полнота модели {best_xgb[0]} на тренировочной выборке составила: \\\n",
    "        {best_xgb_score} с параметрами {best_params_xgb}')"
   ]
  },
  {
   "cell_type": "code",
   "execution_count": null,
   "id": "bd01f802-5e1a-453b-8687-a096766c5e47",
   "metadata": {},
   "outputs": [],
   "source": [
    "#study.best_params"
   ]
  },
  {
   "cell_type": "code",
   "execution_count": null,
   "id": "1b731aca-7a2d-4f28-ba90-7cdcdce03de2",
   "metadata": {},
   "outputs": [],
   "source": [
    "from sklearn.model_selection import StratifiedKFold\n",
    "import optuna\n",
    "from sklearn.metrics import accuracy_score\n",
    "\n",
    "skf = StratifiedKFold(n_splits=6)\n",
    "\n",
    "\n",
    "def objective(trial):\n",
    "    print('________________START__________________')\n",
    "    param = {\n",
    "        'tree_method':'hist',\n",
    "        'objective': 'binary:logistic',\n",
    "        'eval_metric': 'logloss',\n",
    "        'lambda': trial.suggest_float('lambda', 0, 10.0),\n",
    "        'alpha': trial.suggest_float('alpha', 0, 10.0),\n",
    "        'colsample_bytree': trial.suggest_float('colsample_bytree', 0.1,1.0),\n",
    "        'subsample': trial.suggest_float('subsample', 0.2,1.0),\n",
    "        'learning_rate': trial.suggest_float('learning_rate', 0.0001,0.1),\n",
    "        'n_estimators': trial.suggest_int('n_estimators', 100,3000),\n",
    "        'max_depth': trial.suggest_categorical('max_depth', [2,3,4,5,6,7,8,9,10]),\n",
    "        'min_child_weight': trial.suggest_int('min_child_weight', 1, 10),\n",
    "        'num_parallel_tree': trial.suggest_int('num_parallel_tree',1,1)\n",
    "        #'early_stopping_rounds':200,\n",
    "        }\n",
    "        \n",
    "    results=[]\n",
    "    n_iterations=[]\n",
    "    for train_index, test_index in skf.split(features_train_ohe, target_train_ohe):\n",
    "        train_X, valid_X = features_train_ohe.iloc[train_index], features_train_ohe.iloc[test_index]\n",
    "        train_y, valid_y = target_train_ohe.iloc[train_index], target_train_ohe.iloc[test_index]\n",
    "        model = XGBClassifier(**param).fit(train_X,train_y,\n",
    "                                      eval_set=[(valid_X,valid_y)],\n",
    "                                      verbose=0\n",
    "                                     )  \n",
    "        #n_iteration = model.get_booster().best_iteration\n",
    "        #n_iterations.append(n_iteration)\n",
    "        result = accuracy_score(valid_y,(model.predict(valid_X)))\n",
    "        results.append(result)\n",
    "        #i=int(sum(n_iterations)/len(n_iterations))\n",
    "    #print(\"Average n_ite=\" + str(i))\n",
    "    #print(\"% of scatter =\" + str(np.std(n_iterations)/i))    \n",
    "    n=sum(results)/len(results) \n",
    "    print (n)\n",
    "    print(\"_________________FIIINISH_________________\\n\")\n",
    "    return n\n",
    "\n",
    "#study = optuna.create_study(pruner=optuna.pruners.HyperbandPruner(), direction='maximize')\n",
    "#study.optimize(objective, n_trials=1000)"
   ]
  },
  {
   "cell_type": "code",
   "execution_count": null,
   "id": "82d40af4-bcf0-4f08-84d9-2d9c16ef9ef1",
   "metadata": {},
   "outputs": [],
   "source": [
    "models = pd.DataFrame({\n",
    "    'Model': ['Support Vector Machines', 'KNN', 'Logistic Regression', \n",
    "              'Random Forest', 'Naive Bayes', 'AdaBoostClassifier', \n",
    "              'Gradient Decent', 'Linear Discriminant Analysis', \n",
    "              'Decision Tree'],\n",
    "    'Score': [best_svm_score, best_knn_score, best_lr_score, \n",
    "              best_rfc_score, best_gnb_score, best_abc_score, \n",
    "              best_gbc_score, best_lda_score, best_dtc_score]})\n",
    "models.sort_values(by='Score', ascending=False)"
   ]
  },
  {
   "cell_type": "code",
   "execution_count": 92,
   "id": "c1fe814d-b516-49ae-bc4d-4b715bd9e1f3",
   "metadata": {},
   "outputs": [],
   "source": [
    "preop_data_dict['test_ohe']['Transported'] = best_gbc.predict(preop_data_dict['test_ohe'])\n",
    "preop_data_dict['test_ohe']['PassengerId'] = PassengerId"
   ]
  },
  {
   "cell_type": "code",
   "execution_count": 93,
   "id": "53af2ab7-957c-4a8a-947c-b709521e5bdb",
   "metadata": {},
   "outputs": [],
   "source": [
    "preop_data_dict['test_ohe']['Transported'] = preop_data_dict['test_ohe']['Transported'].astype('bool')"
   ]
  },
  {
   "cell_type": "code",
   "execution_count": 94,
   "id": "4ed1f871-2b17-461c-8b10-bca67383dde7",
   "metadata": {},
   "outputs": [],
   "source": [
    "preop_data_dict['test_ohe'][['PassengerId', 'Transported']].to_csv(r\"/Users/Daniil/Documents/Kagle/submission.csv\", index=False, sep=\",\")"
   ]
  },
  {
   "cell_type": "code",
   "execution_count": null,
   "id": "d4c45187-f432-4a02-8325-b2679cb60d0c",
   "metadata": {},
   "outputs": [],
   "source": []
  }
 ],
 "metadata": {
  "kernelspec": {
   "display_name": "Python 3 (ipykernel)",
   "language": "python",
   "name": "python3"
  },
  "language_info": {
   "codemirror_mode": {
    "name": "ipython",
    "version": 3
   },
   "file_extension": ".py",
   "mimetype": "text/x-python",
   "name": "python",
   "nbconvert_exporter": "python",
   "pygments_lexer": "ipython3",
   "version": "3.9.12"
  }
 },
 "nbformat": 4,
 "nbformat_minor": 5
}
