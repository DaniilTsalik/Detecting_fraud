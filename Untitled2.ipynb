{
 "cells": [
  {
   "cell_type": "markdown",
   "id": "f16988c8-9321-4548-b063-c9cfd0782118",
   "metadata": {},
   "source": [
    "### Шаг 1. Загрузка данных и ознакомление"
   ]
  },
  {
   "cell_type": "code",
   "execution_count": 1,
   "id": "105cf1b7-00b6-4c65-83e9-2cd20594ecc7",
   "metadata": {},
   "outputs": [],
   "source": [
    " # Импортируем необходимые библиотеки:\n",
    "import copy\n",
    "import pandas as pd\n",
    "import seaborn as sns\n",
    "import numpy as np\n",
    "import matplotlib.pyplot as plt\n",
    "from sklearn import tree\n",
    "from sklearn.ensemble import RandomForestClassifier, GradientBoostingClassifier\n",
    "from sklearn.model_selection import GridSearchCV\n",
    "from sklearn.model_selection import train_test_split\n",
    "from sklearn.pipeline import Pipeline\n",
    "from sklearn.preprocessing import StandardScaler\n",
    "from sklearn.preprocessing import OneHotEncoder\n",
    "from sklearn.preprocessing import LabelEncoder\n",
    "from sklearn.linear_model import LogisticRegression\n",
    "from sklearn.neighbors import KNeighborsClassifier\n",
    "from sklearn.metrics import confusion_matrix, ConfusionMatrixDisplay\n",
    "from sklearn.metrics import f1_score, make_scorer\n",
    "from sklearn.svm import SVC, LinearSVC\n",
    "from sklearn.neighbors import KNeighborsClassifier\n",
    "from sklearn.naive_bayes import GaussianNB\n",
    "from sklearn.ensemble import AdaBoostClassifier\n",
    "from sklearn.discriminant_analysis import LinearDiscriminantAnalysis\n",
    "from sklearn.ensemble import GradientBoostingClassifier\n",
    "import xgboost as xgb\n",
    "from sklearn.impute import SimpleImputer\n",
    "pd.set_option('display.max_rows', 500)\n",
    "pd.set_option('display.max_columns', 500)\n",
    "pd.set_option('display.width', 1000)"
   ]
  },
  {
   "cell_type": "code",
   "execution_count": 2,
   "id": "2a5fe797-75af-46d0-925e-b3c744641f19",
   "metadata": {},
   "outputs": [],
   "source": [
    "train = pd.read_csv('train.csv') # Тренировочный датасет\n",
    "test = pd.read_csv('test.csv') # Тестовый датасет"
   ]
  },
  {
   "cell_type": "code",
   "execution_count": 3,
   "id": "17252734-9784-4ee3-afad-6f4cd27e9ce4",
   "metadata": {},
   "outputs": [],
   "source": [
    "data_dict = {'train': train, # Словарь содержащий тестовый и тренировочный датасеты\n",
    "             'test': test\n",
    "            }"
   ]
  },
  {
   "cell_type": "code",
   "execution_count": 4,
   "id": "10f67130-6dd4-4148-b649-98948d9fbec7",
   "metadata": {},
   "outputs": [
    {
     "name": "stdout",
     "output_type": "stream",
     "text": [
      "train\n"
     ]
    },
    {
     "data": {
      "text/html": [
       "<div>\n",
       "<style scoped>\n",
       "    .dataframe tbody tr th:only-of-type {\n",
       "        vertical-align: middle;\n",
       "    }\n",
       "\n",
       "    .dataframe tbody tr th {\n",
       "        vertical-align: top;\n",
       "    }\n",
       "\n",
       "    .dataframe thead th {\n",
       "        text-align: right;\n",
       "    }\n",
       "</style>\n",
       "<table border=\"1\" class=\"dataframe\">\n",
       "  <thead>\n",
       "    <tr style=\"text-align: right;\">\n",
       "      <th></th>\n",
       "      <th>PassengerId</th>\n",
       "      <th>HomePlanet</th>\n",
       "      <th>CryoSleep</th>\n",
       "      <th>Cabin</th>\n",
       "      <th>Destination</th>\n",
       "      <th>Age</th>\n",
       "      <th>VIP</th>\n",
       "      <th>RoomService</th>\n",
       "      <th>FoodCourt</th>\n",
       "      <th>ShoppingMall</th>\n",
       "      <th>Spa</th>\n",
       "      <th>VRDeck</th>\n",
       "      <th>Name</th>\n",
       "      <th>Transported</th>\n",
       "    </tr>\n",
       "  </thead>\n",
       "  <tbody>\n",
       "    <tr>\n",
       "      <th>0</th>\n",
       "      <td>6234_01</td>\n",
       "      <td>Mars</td>\n",
       "      <td>False</td>\n",
       "      <td>F/1287/P</td>\n",
       "      <td>PSO J318.5-22</td>\n",
       "      <td>40.0</td>\n",
       "      <td>True</td>\n",
       "      <td>301.0</td>\n",
       "      <td>0.0</td>\n",
       "      <td>1310.0</td>\n",
       "      <td>4.0</td>\n",
       "      <td>NaN</td>\n",
       "      <td>Sters Bun</td>\n",
       "      <td>True</td>\n",
       "    </tr>\n",
       "    <tr>\n",
       "      <th>1</th>\n",
       "      <td>8826_01</td>\n",
       "      <td>Europa</td>\n",
       "      <td>False</td>\n",
       "      <td>C/290/P</td>\n",
       "      <td>55 Cancri e</td>\n",
       "      <td>13.0</td>\n",
       "      <td>False</td>\n",
       "      <td>1212.0</td>\n",
       "      <td>4485.0</td>\n",
       "      <td>0.0</td>\n",
       "      <td>4016.0</td>\n",
       "      <td>57.0</td>\n",
       "      <td>Marin Hednigic</td>\n",
       "      <td>False</td>\n",
       "    </tr>\n",
       "    <tr>\n",
       "      <th>2</th>\n",
       "      <td>4453_01</td>\n",
       "      <td>Europa</td>\n",
       "      <td>False</td>\n",
       "      <td>D/149/P</td>\n",
       "      <td>TRAPPIST-1e</td>\n",
       "      <td>28.0</td>\n",
       "      <td>False</td>\n",
       "      <td>0.0</td>\n",
       "      <td>2560.0</td>\n",
       "      <td>0.0</td>\n",
       "      <td>134.0</td>\n",
       "      <td>307.0</td>\n",
       "      <td>Azhasim Inguel</td>\n",
       "      <td>False</td>\n",
       "    </tr>\n",
       "    <tr>\n",
       "      <th>3</th>\n",
       "      <td>0602_03</td>\n",
       "      <td>Mars</td>\n",
       "      <td>True</td>\n",
       "      <td>F/125/P</td>\n",
       "      <td>TRAPPIST-1e</td>\n",
       "      <td>21.0</td>\n",
       "      <td>False</td>\n",
       "      <td>0.0</td>\n",
       "      <td>0.0</td>\n",
       "      <td>0.0</td>\n",
       "      <td>0.0</td>\n",
       "      <td>0.0</td>\n",
       "      <td>Rana Brine</td>\n",
       "      <td>True</td>\n",
       "    </tr>\n",
       "    <tr>\n",
       "      <th>4</th>\n",
       "      <td>8796_01</td>\n",
       "      <td>Earth</td>\n",
       "      <td>False</td>\n",
       "      <td>G/1418/S</td>\n",
       "      <td>TRAPPIST-1e</td>\n",
       "      <td>6.0</td>\n",
       "      <td>False</td>\n",
       "      <td>0.0</td>\n",
       "      <td>0.0</td>\n",
       "      <td>0.0</td>\n",
       "      <td>0.0</td>\n",
       "      <td>0.0</td>\n",
       "      <td>Daisya Traverdy</td>\n",
       "      <td>True</td>\n",
       "    </tr>\n",
       "  </tbody>\n",
       "</table>\n",
       "</div>"
      ],
      "text/plain": [
       "  PassengerId HomePlanet CryoSleep     Cabin    Destination   Age    VIP  RoomService  FoodCourt  ShoppingMall     Spa  VRDeck             Name  Transported\n",
       "0     6234_01       Mars     False  F/1287/P  PSO J318.5-22  40.0   True        301.0        0.0        1310.0     4.0     NaN        Sters Bun         True\n",
       "1     8826_01     Europa     False   C/290/P    55 Cancri e  13.0  False       1212.0     4485.0           0.0  4016.0    57.0   Marin Hednigic        False\n",
       "2     4453_01     Europa     False   D/149/P    TRAPPIST-1e  28.0  False          0.0     2560.0           0.0   134.0   307.0   Azhasim Inguel        False\n",
       "3     0602_03       Mars      True   F/125/P    TRAPPIST-1e  21.0  False          0.0        0.0           0.0     0.0     0.0       Rana Brine         True\n",
       "4     8796_01      Earth     False  G/1418/S    TRAPPIST-1e   6.0  False          0.0        0.0           0.0     0.0     0.0  Daisya Traverdy         True"
      ]
     },
     "metadata": {},
     "output_type": "display_data"
    },
    {
     "name": "stdout",
     "output_type": "stream",
     "text": [
      "test\n"
     ]
    },
    {
     "data": {
      "text/html": [
       "<div>\n",
       "<style scoped>\n",
       "    .dataframe tbody tr th:only-of-type {\n",
       "        vertical-align: middle;\n",
       "    }\n",
       "\n",
       "    .dataframe tbody tr th {\n",
       "        vertical-align: top;\n",
       "    }\n",
       "\n",
       "    .dataframe thead th {\n",
       "        text-align: right;\n",
       "    }\n",
       "</style>\n",
       "<table border=\"1\" class=\"dataframe\">\n",
       "  <thead>\n",
       "    <tr style=\"text-align: right;\">\n",
       "      <th></th>\n",
       "      <th>PassengerId</th>\n",
       "      <th>HomePlanet</th>\n",
       "      <th>CryoSleep</th>\n",
       "      <th>Cabin</th>\n",
       "      <th>Destination</th>\n",
       "      <th>Age</th>\n",
       "      <th>VIP</th>\n",
       "      <th>RoomService</th>\n",
       "      <th>FoodCourt</th>\n",
       "      <th>ShoppingMall</th>\n",
       "      <th>Spa</th>\n",
       "      <th>VRDeck</th>\n",
       "      <th>Name</th>\n",
       "    </tr>\n",
       "  </thead>\n",
       "  <tbody>\n",
       "    <tr>\n",
       "      <th>0</th>\n",
       "      <td>8026_01</td>\n",
       "      <td>Mars</td>\n",
       "      <td>True</td>\n",
       "      <td>F/1534/S</td>\n",
       "      <td>TRAPPIST-1e</td>\n",
       "      <td>29.0</td>\n",
       "      <td>False</td>\n",
       "      <td>0.0</td>\n",
       "      <td>0.0</td>\n",
       "      <td>0.0</td>\n",
       "      <td>0.0</td>\n",
       "      <td>0.0</td>\n",
       "      <td>Losp Ruité</td>\n",
       "    </tr>\n",
       "    <tr>\n",
       "      <th>1</th>\n",
       "      <td>6734_03</td>\n",
       "      <td>Europa</td>\n",
       "      <td>True</td>\n",
       "      <td>C/249/S</td>\n",
       "      <td>55 Cancri e</td>\n",
       "      <td>37.0</td>\n",
       "      <td>True</td>\n",
       "      <td>0.0</td>\n",
       "      <td>0.0</td>\n",
       "      <td>0.0</td>\n",
       "      <td>0.0</td>\n",
       "      <td>0.0</td>\n",
       "      <td>Alhaino Sparsaxle</td>\n",
       "    </tr>\n",
       "    <tr>\n",
       "      <th>2</th>\n",
       "      <td>8186_04</td>\n",
       "      <td>Earth</td>\n",
       "      <td>True</td>\n",
       "      <td>G/1319/S</td>\n",
       "      <td>PSO J318.5-22</td>\n",
       "      <td>23.0</td>\n",
       "      <td>False</td>\n",
       "      <td>0.0</td>\n",
       "      <td>0.0</td>\n",
       "      <td>0.0</td>\n",
       "      <td>0.0</td>\n",
       "      <td>0.0</td>\n",
       "      <td>Rayley Jenkinnedy</td>\n",
       "    </tr>\n",
       "    <tr>\n",
       "      <th>3</th>\n",
       "      <td>4942_02</td>\n",
       "      <td>Earth</td>\n",
       "      <td>True</td>\n",
       "      <td>G/806/S</td>\n",
       "      <td>TRAPPIST-1e</td>\n",
       "      <td>36.0</td>\n",
       "      <td>False</td>\n",
       "      <td>0.0</td>\n",
       "      <td>0.0</td>\n",
       "      <td>0.0</td>\n",
       "      <td>0.0</td>\n",
       "      <td>0.0</td>\n",
       "      <td>Coreee Reenon</td>\n",
       "    </tr>\n",
       "    <tr>\n",
       "      <th>4</th>\n",
       "      <td>8640_01</td>\n",
       "      <td>Earth</td>\n",
       "      <td>False</td>\n",
       "      <td>F/1666/S</td>\n",
       "      <td>NaN</td>\n",
       "      <td>50.0</td>\n",
       "      <td>False</td>\n",
       "      <td>133.0</td>\n",
       "      <td>0.0</td>\n",
       "      <td>525.0</td>\n",
       "      <td>0.0</td>\n",
       "      <td>31.0</td>\n",
       "      <td>Diandy Hurchrisong</td>\n",
       "    </tr>\n",
       "  </tbody>\n",
       "</table>\n",
       "</div>"
      ],
      "text/plain": [
       "  PassengerId HomePlanet CryoSleep     Cabin    Destination   Age    VIP  RoomService  FoodCourt  ShoppingMall  Spa  VRDeck                Name\n",
       "0     8026_01       Mars      True  F/1534/S    TRAPPIST-1e  29.0  False          0.0        0.0           0.0  0.0     0.0          Losp Ruité\n",
       "1     6734_03     Europa      True   C/249/S    55 Cancri e  37.0   True          0.0        0.0           0.0  0.0     0.0   Alhaino Sparsaxle\n",
       "2     8186_04      Earth      True  G/1319/S  PSO J318.5-22  23.0  False          0.0        0.0           0.0  0.0     0.0   Rayley Jenkinnedy\n",
       "3     4942_02      Earth      True   G/806/S    TRAPPIST-1e  36.0  False          0.0        0.0           0.0  0.0     0.0       Coreee Reenon\n",
       "4     8640_01      Earth     False  F/1666/S            NaN  50.0  False        133.0        0.0         525.0  0.0    31.0  Diandy Hurchrisong"
      ]
     },
     "metadata": {},
     "output_type": "display_data"
    }
   ],
   "source": [
    "for dataset in data_dict:\n",
    "    print(dataset)\n",
    "    display(data_dict[dataset].head())"
   ]
  },
  {
   "cell_type": "markdown",
   "id": "804d3206-bbc9-4f4f-a990-72043cd81043",
   "metadata": {},
   "source": [
    "### Шаг 2. Предобработка и исследовательский анализ данных"
   ]
  },
  {
   "cell_type": "markdown",
   "id": "a922aba2-488e-475f-a1d2-0ff349ff9ea9",
   "metadata": {},
   "source": [
    "Размеры датасетов"
   ]
  },
  {
   "cell_type": "code",
   "execution_count": 5,
   "id": "84e64bd9-cfec-442f-a115-d9e27d992032",
   "metadata": {},
   "outputs": [
    {
     "name": "stdout",
     "output_type": "stream",
     "text": [
      "Размер датасета train (6954, 14)\n",
      "Размер датасета test (1739, 13)\n"
     ]
    }
   ],
   "source": [
    "for dataset in data_dict:\n",
    "    size = data_dict[dataset].shape\n",
    "    print(f'Размер датасета {dataset} {size}')"
   ]
  },
  {
   "cell_type": "markdown",
   "id": "cc187359-a79f-4510-8617-ef4bf1954313",
   "metadata": {},
   "source": [
    "Количество пропущенных значений"
   ]
  },
  {
   "cell_type": "code",
   "execution_count": 6,
   "id": "7967a59a-5d8b-44e3-88cd-3cae865acf15",
   "metadata": {},
   "outputs": [
    {
     "name": "stdout",
     "output_type": "stream",
     "text": [
      "train\n",
      "\n",
      "PassengerId       0\n",
      "HomePlanet      163\n",
      "CryoSleep       170\n",
      "Cabin           156\n",
      "Destination     141\n",
      "Age             143\n",
      "VIP             156\n",
      "RoomService     142\n",
      "FoodCourt       144\n",
      "ShoppingMall    162\n",
      "Spa             145\n",
      "VRDeck          147\n",
      "Name            160\n",
      "Transported       0\n",
      "dtype: int64\n",
      "test\n",
      "\n",
      "PassengerId      0\n",
      "HomePlanet      38\n",
      "CryoSleep       47\n",
      "Cabin           43\n",
      "Destination     41\n",
      "Age             36\n",
      "VIP             47\n",
      "RoomService     39\n",
      "FoodCourt       39\n",
      "ShoppingMall    46\n",
      "Spa             38\n",
      "VRDeck          41\n",
      "Name            40\n",
      "dtype: int64\n"
     ]
    }
   ],
   "source": [
    "for dataset in data_dict:\n",
    "    print(dataset)\n",
    "    print()\n",
    "    print(data_dict[dataset].isna().sum())"
   ]
  },
  {
   "cell_type": "markdown",
   "id": "2fe0e14e-3287-4bbf-8fcf-e7da4311ee26",
   "metadata": {},
   "source": [
    "#### Выделение дополнительных столбцов из `PassengerId` и `Cabin`"
   ]
  },
  {
   "cell_type": "code",
   "execution_count": 7,
   "id": "0282da6b-c94f-44ed-a469-9d1a9a495328",
   "metadata": {},
   "outputs": [],
   "source": [
    "PassengerId = data_dict['test'].PassengerId"
   ]
  },
  {
   "cell_type": "code",
   "execution_count": 8,
   "id": "150a4702-ff8d-4117-b08f-515a8c176073",
   "metadata": {},
   "outputs": [],
   "source": [
    "for dataset in data_dict:\n",
    "    data_dict[dataset]['group_id'] = data_dict[dataset].PassengerId.str.split(r'_\\s*').str[0]\n",
    "    data_dict[dataset]['number_in_group'] = data_dict[dataset].PassengerId.str.split(r'_\\s*').str[1]\n",
    "    data_dict[dataset]['deck'] = data_dict[dataset].Cabin.str.split(r'/\\s*').str[0]\n",
    "    data_dict[dataset]['number'] = data_dict[dataset].Cabin.str.split(r'/\\s*').str[1]\n",
    "    data_dict[dataset]['side'] = data_dict[dataset].Cabin.str.split(r'/\\s*').str[2]\n",
    "    data_dict[dataset] = data_dict[dataset].drop('PassengerId', axis=1)\n",
    "    data_dict[dataset] = data_dict[dataset].drop('Cabin', axis=1)"
   ]
  },
  {
   "cell_type": "code",
   "execution_count": 9,
   "id": "9f0ce6bf-ce34-4432-baf0-4b7426c7f456",
   "metadata": {},
   "outputs": [
    {
     "data": {
      "text/html": [
       "<div>\n",
       "<style scoped>\n",
       "    .dataframe tbody tr th:only-of-type {\n",
       "        vertical-align: middle;\n",
       "    }\n",
       "\n",
       "    .dataframe tbody tr th {\n",
       "        vertical-align: top;\n",
       "    }\n",
       "\n",
       "    .dataframe thead th {\n",
       "        text-align: right;\n",
       "    }\n",
       "</style>\n",
       "<table border=\"1\" class=\"dataframe\">\n",
       "  <thead>\n",
       "    <tr style=\"text-align: right;\">\n",
       "      <th></th>\n",
       "      <th>HomePlanet</th>\n",
       "      <th>CryoSleep</th>\n",
       "      <th>Destination</th>\n",
       "      <th>Age</th>\n",
       "      <th>VIP</th>\n",
       "      <th>RoomService</th>\n",
       "      <th>FoodCourt</th>\n",
       "      <th>ShoppingMall</th>\n",
       "      <th>Spa</th>\n",
       "      <th>VRDeck</th>\n",
       "      <th>Name</th>\n",
       "      <th>Transported</th>\n",
       "      <th>group_id</th>\n",
       "      <th>number_in_group</th>\n",
       "      <th>deck</th>\n",
       "      <th>number</th>\n",
       "      <th>side</th>\n",
       "    </tr>\n",
       "  </thead>\n",
       "  <tbody>\n",
       "    <tr>\n",
       "      <th>0</th>\n",
       "      <td>Mars</td>\n",
       "      <td>False</td>\n",
       "      <td>PSO J318.5-22</td>\n",
       "      <td>40.0</td>\n",
       "      <td>True</td>\n",
       "      <td>301.0</td>\n",
       "      <td>0.0</td>\n",
       "      <td>1310.0</td>\n",
       "      <td>4.0</td>\n",
       "      <td>NaN</td>\n",
       "      <td>Sters Bun</td>\n",
       "      <td>True</td>\n",
       "      <td>6234</td>\n",
       "      <td>01</td>\n",
       "      <td>F</td>\n",
       "      <td>1287</td>\n",
       "      <td>P</td>\n",
       "    </tr>\n",
       "    <tr>\n",
       "      <th>1</th>\n",
       "      <td>Europa</td>\n",
       "      <td>False</td>\n",
       "      <td>55 Cancri e</td>\n",
       "      <td>13.0</td>\n",
       "      <td>False</td>\n",
       "      <td>1212.0</td>\n",
       "      <td>4485.0</td>\n",
       "      <td>0.0</td>\n",
       "      <td>4016.0</td>\n",
       "      <td>57.0</td>\n",
       "      <td>Marin Hednigic</td>\n",
       "      <td>False</td>\n",
       "      <td>8826</td>\n",
       "      <td>01</td>\n",
       "      <td>C</td>\n",
       "      <td>290</td>\n",
       "      <td>P</td>\n",
       "    </tr>\n",
       "    <tr>\n",
       "      <th>2</th>\n",
       "      <td>Europa</td>\n",
       "      <td>False</td>\n",
       "      <td>TRAPPIST-1e</td>\n",
       "      <td>28.0</td>\n",
       "      <td>False</td>\n",
       "      <td>0.0</td>\n",
       "      <td>2560.0</td>\n",
       "      <td>0.0</td>\n",
       "      <td>134.0</td>\n",
       "      <td>307.0</td>\n",
       "      <td>Azhasim Inguel</td>\n",
       "      <td>False</td>\n",
       "      <td>4453</td>\n",
       "      <td>01</td>\n",
       "      <td>D</td>\n",
       "      <td>149</td>\n",
       "      <td>P</td>\n",
       "    </tr>\n",
       "    <tr>\n",
       "      <th>3</th>\n",
       "      <td>Mars</td>\n",
       "      <td>True</td>\n",
       "      <td>TRAPPIST-1e</td>\n",
       "      <td>21.0</td>\n",
       "      <td>False</td>\n",
       "      <td>0.0</td>\n",
       "      <td>0.0</td>\n",
       "      <td>0.0</td>\n",
       "      <td>0.0</td>\n",
       "      <td>0.0</td>\n",
       "      <td>Rana Brine</td>\n",
       "      <td>True</td>\n",
       "      <td>0602</td>\n",
       "      <td>03</td>\n",
       "      <td>F</td>\n",
       "      <td>125</td>\n",
       "      <td>P</td>\n",
       "    </tr>\n",
       "    <tr>\n",
       "      <th>4</th>\n",
       "      <td>Earth</td>\n",
       "      <td>False</td>\n",
       "      <td>TRAPPIST-1e</td>\n",
       "      <td>6.0</td>\n",
       "      <td>False</td>\n",
       "      <td>0.0</td>\n",
       "      <td>0.0</td>\n",
       "      <td>0.0</td>\n",
       "      <td>0.0</td>\n",
       "      <td>0.0</td>\n",
       "      <td>Daisya Traverdy</td>\n",
       "      <td>True</td>\n",
       "      <td>8796</td>\n",
       "      <td>01</td>\n",
       "      <td>G</td>\n",
       "      <td>1418</td>\n",
       "      <td>S</td>\n",
       "    </tr>\n",
       "  </tbody>\n",
       "</table>\n",
       "</div>"
      ],
      "text/plain": [
       "  HomePlanet CryoSleep    Destination   Age    VIP  RoomService  FoodCourt  ShoppingMall     Spa  VRDeck             Name  Transported group_id number_in_group deck number side\n",
       "0       Mars     False  PSO J318.5-22  40.0   True        301.0        0.0        1310.0     4.0     NaN        Sters Bun         True     6234              01    F   1287    P\n",
       "1     Europa     False    55 Cancri e  13.0  False       1212.0     4485.0           0.0  4016.0    57.0   Marin Hednigic        False     8826              01    C    290    P\n",
       "2     Europa     False    TRAPPIST-1e  28.0  False          0.0     2560.0           0.0   134.0   307.0   Azhasim Inguel        False     4453              01    D    149    P\n",
       "3       Mars      True    TRAPPIST-1e  21.0  False          0.0        0.0           0.0     0.0     0.0       Rana Brine         True     0602              03    F    125    P\n",
       "4      Earth     False    TRAPPIST-1e   6.0  False          0.0        0.0           0.0     0.0     0.0  Daisya Traverdy         True     8796              01    G   1418    S"
      ]
     },
     "execution_count": 9,
     "metadata": {},
     "output_type": "execute_result"
    }
   ],
   "source": [
    "data_dict['train'].head()"
   ]
  },
  {
   "cell_type": "markdown",
   "id": "aefa6df3-ba67-4946-97b3-4bf226537dfe",
   "metadata": {},
   "source": [
    "#### Переименование столбцов"
   ]
  },
  {
   "cell_type": "code",
   "execution_count": 10,
   "id": "de97de4d-2412-4800-bd50-201352ec00f6",
   "metadata": {},
   "outputs": [],
   "source": [
    "for dataset in data_dict:\n",
    "    data_dict[dataset] = data_dict[dataset].rename(columns={'HomePlanet': 'home_planet', \n",
    "                                                            'CryoSleep': 'cryo_sleep',\n",
    "                                                            'Destination': 'destination',\n",
    "                                                            'Age': 'age',\n",
    "                                                            'VIP': 'vip',\n",
    "                                                            'RoomService': 'room_service',\n",
    "                                                            'FoodCourt': 'food_court',\n",
    "                                                            'ShoppingMall': 'shopping_mall',\n",
    "                                                            'Spa': 'spa',\n",
    "                                                            'VRDeck': 'vr_deck',\n",
    "                                                            'Name': 'name'})\n",
    "data_dict['train'] = data_dict['train'].rename(columns={'Transported': 'transported'})"
   ]
  },
  {
   "cell_type": "code",
   "execution_count": 11,
   "id": "94765a6c-3a52-4966-b3ff-0853123d38cd",
   "metadata": {},
   "outputs": [
    {
     "data": {
      "text/html": [
       "<div>\n",
       "<style scoped>\n",
       "    .dataframe tbody tr th:only-of-type {\n",
       "        vertical-align: middle;\n",
       "    }\n",
       "\n",
       "    .dataframe tbody tr th {\n",
       "        vertical-align: top;\n",
       "    }\n",
       "\n",
       "    .dataframe thead th {\n",
       "        text-align: right;\n",
       "    }\n",
       "</style>\n",
       "<table border=\"1\" class=\"dataframe\">\n",
       "  <thead>\n",
       "    <tr style=\"text-align: right;\">\n",
       "      <th></th>\n",
       "      <th>home_planet</th>\n",
       "      <th>cryo_sleep</th>\n",
       "      <th>destination</th>\n",
       "      <th>age</th>\n",
       "      <th>vip</th>\n",
       "      <th>room_service</th>\n",
       "      <th>food_court</th>\n",
       "      <th>shopping_mall</th>\n",
       "      <th>spa</th>\n",
       "      <th>vr_deck</th>\n",
       "      <th>name</th>\n",
       "      <th>transported</th>\n",
       "      <th>group_id</th>\n",
       "      <th>number_in_group</th>\n",
       "      <th>deck</th>\n",
       "      <th>number</th>\n",
       "      <th>side</th>\n",
       "    </tr>\n",
       "  </thead>\n",
       "  <tbody>\n",
       "    <tr>\n",
       "      <th>0</th>\n",
       "      <td>Mars</td>\n",
       "      <td>False</td>\n",
       "      <td>PSO J318.5-22</td>\n",
       "      <td>40.0</td>\n",
       "      <td>True</td>\n",
       "      <td>301.0</td>\n",
       "      <td>0.0</td>\n",
       "      <td>1310.0</td>\n",
       "      <td>4.0</td>\n",
       "      <td>NaN</td>\n",
       "      <td>Sters Bun</td>\n",
       "      <td>True</td>\n",
       "      <td>6234</td>\n",
       "      <td>01</td>\n",
       "      <td>F</td>\n",
       "      <td>1287</td>\n",
       "      <td>P</td>\n",
       "    </tr>\n",
       "    <tr>\n",
       "      <th>1</th>\n",
       "      <td>Europa</td>\n",
       "      <td>False</td>\n",
       "      <td>55 Cancri e</td>\n",
       "      <td>13.0</td>\n",
       "      <td>False</td>\n",
       "      <td>1212.0</td>\n",
       "      <td>4485.0</td>\n",
       "      <td>0.0</td>\n",
       "      <td>4016.0</td>\n",
       "      <td>57.0</td>\n",
       "      <td>Marin Hednigic</td>\n",
       "      <td>False</td>\n",
       "      <td>8826</td>\n",
       "      <td>01</td>\n",
       "      <td>C</td>\n",
       "      <td>290</td>\n",
       "      <td>P</td>\n",
       "    </tr>\n",
       "    <tr>\n",
       "      <th>2</th>\n",
       "      <td>Europa</td>\n",
       "      <td>False</td>\n",
       "      <td>TRAPPIST-1e</td>\n",
       "      <td>28.0</td>\n",
       "      <td>False</td>\n",
       "      <td>0.0</td>\n",
       "      <td>2560.0</td>\n",
       "      <td>0.0</td>\n",
       "      <td>134.0</td>\n",
       "      <td>307.0</td>\n",
       "      <td>Azhasim Inguel</td>\n",
       "      <td>False</td>\n",
       "      <td>4453</td>\n",
       "      <td>01</td>\n",
       "      <td>D</td>\n",
       "      <td>149</td>\n",
       "      <td>P</td>\n",
       "    </tr>\n",
       "    <tr>\n",
       "      <th>3</th>\n",
       "      <td>Mars</td>\n",
       "      <td>True</td>\n",
       "      <td>TRAPPIST-1e</td>\n",
       "      <td>21.0</td>\n",
       "      <td>False</td>\n",
       "      <td>0.0</td>\n",
       "      <td>0.0</td>\n",
       "      <td>0.0</td>\n",
       "      <td>0.0</td>\n",
       "      <td>0.0</td>\n",
       "      <td>Rana Brine</td>\n",
       "      <td>True</td>\n",
       "      <td>0602</td>\n",
       "      <td>03</td>\n",
       "      <td>F</td>\n",
       "      <td>125</td>\n",
       "      <td>P</td>\n",
       "    </tr>\n",
       "    <tr>\n",
       "      <th>4</th>\n",
       "      <td>Earth</td>\n",
       "      <td>False</td>\n",
       "      <td>TRAPPIST-1e</td>\n",
       "      <td>6.0</td>\n",
       "      <td>False</td>\n",
       "      <td>0.0</td>\n",
       "      <td>0.0</td>\n",
       "      <td>0.0</td>\n",
       "      <td>0.0</td>\n",
       "      <td>0.0</td>\n",
       "      <td>Daisya Traverdy</td>\n",
       "      <td>True</td>\n",
       "      <td>8796</td>\n",
       "      <td>01</td>\n",
       "      <td>G</td>\n",
       "      <td>1418</td>\n",
       "      <td>S</td>\n",
       "    </tr>\n",
       "  </tbody>\n",
       "</table>\n",
       "</div>"
      ],
      "text/plain": [
       "  home_planet cryo_sleep    destination   age    vip  room_service  food_court  shopping_mall     spa  vr_deck             name  transported group_id number_in_group deck number side\n",
       "0        Mars      False  PSO J318.5-22  40.0   True         301.0         0.0         1310.0     4.0      NaN        Sters Bun         True     6234              01    F   1287    P\n",
       "1      Europa      False    55 Cancri e  13.0  False        1212.0      4485.0            0.0  4016.0     57.0   Marin Hednigic        False     8826              01    C    290    P\n",
       "2      Europa      False    TRAPPIST-1e  28.0  False           0.0      2560.0            0.0   134.0    307.0   Azhasim Inguel        False     4453              01    D    149    P\n",
       "3        Mars       True    TRAPPIST-1e  21.0  False           0.0         0.0            0.0     0.0      0.0       Rana Brine         True     0602              03    F    125    P\n",
       "4       Earth      False    TRAPPIST-1e   6.0  False           0.0         0.0            0.0     0.0      0.0  Daisya Traverdy         True     8796              01    G   1418    S"
      ]
     },
     "execution_count": 11,
     "metadata": {},
     "output_type": "execute_result"
    }
   ],
   "source": [
    "data_dict['train'].head()"
   ]
  },
  {
   "cell_type": "markdown",
   "id": "9333abd8-453f-40d5-bdca-51d747281040",
   "metadata": {},
   "source": [
    "#### Cabin"
   ]
  },
  {
   "cell_type": "code",
   "execution_count": 12,
   "id": "62455425-f0c9-4d2a-af3b-27f53990349c",
   "metadata": {},
   "outputs": [
    {
     "name": "stdout",
     "output_type": "stream",
     "text": [
      "train\n",
      "\n",
      "deck      156\n",
      "number    156\n",
      "side      156\n",
      "dtype: int64\n",
      "test\n",
      "\n",
      "deck      43\n",
      "number    43\n",
      "side      43\n",
      "dtype: int64\n"
     ]
    }
   ],
   "source": [
    "for dataset in data_dict:\n",
    "    print(dataset)\n",
    "    print()\n",
    "    print(data_dict[dataset][['deck', 'number', 'side']].isna().sum())"
   ]
  },
  {
   "cell_type": "code",
   "execution_count": 13,
   "id": "1d249956-cc03-4ba3-8f35-0e7db39345a1",
   "metadata": {},
   "outputs": [],
   "source": [
    "for dataset in data_dict:\n",
    "    group_group_id = list(data_dict[dataset].groupby(by=['group_id'])['group_id'].agg(['count']).query('count > 1').index)\n",
    "    for index, row in data_dict[dataset].iterrows():\n",
    "        if row.group_id in group_group_id and row.deck != row.deck:\n",
    "            group_id = row.group_id\n",
    "            request_group_groupId = pd.DataFrame(data_dict[dataset].query('group_id in @group_id'))\n",
    "            for request_index, request_row in request_group_groupId.iterrows():\n",
    "                if request_row.deck == request_row.deck:            \n",
    "                    data_dict[dataset].loc[index, 'deck'] = request_row.deck\n",
    "                    data_dict[dataset].loc[index, 'number'] = request_row.number\n",
    "                    data_dict[dataset].loc[index, 'side'] = request_row.side"
   ]
  },
  {
   "cell_type": "code",
   "execution_count": 14,
   "id": "6f992175-a6ee-45e7-8d83-47225d5a0c4d",
   "metadata": {},
   "outputs": [
    {
     "name": "stdout",
     "output_type": "stream",
     "text": [
      "train\n",
      "\n",
      "deck      91\n",
      "number    91\n",
      "side      91\n",
      "dtype: int64\n",
      "test\n",
      "\n",
      "deck      36\n",
      "number    36\n",
      "side      36\n",
      "dtype: int64\n"
     ]
    }
   ],
   "source": [
    "for dataset in data_dict:\n",
    "    print(dataset)\n",
    "    print()\n",
    "    print(data_dict[dataset][['deck', 'number', 'side']].isna().sum())"
   ]
  },
  {
   "cell_type": "code",
   "execution_count": 15,
   "id": "6baf1dc8-4f0e-44ed-994a-67c32fc7fd08",
   "metadata": {},
   "outputs": [],
   "source": [
    "def transported_stat(target_feature):\n",
    "    temp_table = data_dict['train'].groupby(by=[target_feature])['transported'].agg(['count', 'sum', 'mean']).rename(columns={\"count\": \"total\", \"sum\": \"transported\"})\n",
    "    f, ax = plt.subplots(figsize=(14, 7))\n",
    "    sns.set_theme(style=\"whitegrid\")\n",
    "    sns.set_color_codes(\"pastel\")\n",
    "    sns.barplot( x=temp_table.index, y = 'total',  data=temp_table, label=\"Total\", color='b')\n",
    "    sns.set_color_codes(\"muted\")\n",
    "    sns.barplot( x=temp_table.index, y = 'transported', data=temp_table, label=\"Transported\", color=\"b\")\n",
    "    ax.legend(ncol=2, loc=\"lower right\", frameon=True)\n",
    "    ax.set( ylabel=\"\",\n",
    "    xlabel='Transported passenger per ' + target_feature);"
   ]
  },
  {
   "cell_type": "code",
   "execution_count": 16,
   "id": "6dd1240a-4851-4d36-9d06-8ecf659b8757",
   "metadata": {},
   "outputs": [
    {
     "data": {
      "image/png": "[encoded data removed]",
      "text/plain": [
       "<Figure size 1008x504 with 1 Axes>"
      ]
     },
     "metadata": {
      "needs_background": "light"
     },
     "output_type": "display_data"
    }
   ],
   "source": [
    "transported_stat('side')"
   ]
  },
  {
   "cell_type": "code",
   "execution_count": 17,
   "id": "292295be-a6b8-4d63-86cd-8a4f699072a5",
   "metadata": {},
   "outputs": [
    {
     "data": {
      "text/html": [
       "<div>\n",
       "<style scoped>\n",
       "    .dataframe tbody tr th:only-of-type {\n",
       "        vertical-align: middle;\n",
       "    }\n",
       "\n",
       "    .dataframe tbody tr th {\n",
       "        vertical-align: top;\n",
       "    }\n",
       "\n",
       "    .dataframe thead th {\n",
       "        text-align: right;\n",
       "    }\n",
       "</style>\n",
       "<table border=\"1\" class=\"dataframe\">\n",
       "  <thead>\n",
       "    <tr style=\"text-align: right;\">\n",
       "      <th></th>\n",
       "      <th>count</th>\n",
       "      <th>sum</th>\n",
       "      <th>mean</th>\n",
       "    </tr>\n",
       "    <tr>\n",
       "      <th>deck</th>\n",
       "      <th></th>\n",
       "      <th></th>\n",
       "      <th></th>\n",
       "    </tr>\n",
       "  </thead>\n",
       "  <tbody>\n",
       "    <tr>\n",
       "      <th>A</th>\n",
       "      <td>206</td>\n",
       "      <td>103</td>\n",
       "      <td>0.500000</td>\n",
       "    </tr>\n",
       "    <tr>\n",
       "      <th>B</th>\n",
       "      <td>646</td>\n",
       "      <td>472</td>\n",
       "      <td>0.730650</td>\n",
       "    </tr>\n",
       "    <tr>\n",
       "      <th>C</th>\n",
       "      <td>599</td>\n",
       "      <td>411</td>\n",
       "      <td>0.686144</td>\n",
       "    </tr>\n",
       "    <tr>\n",
       "      <th>D</th>\n",
       "      <td>381</td>\n",
       "      <td>167</td>\n",
       "      <td>0.438320</td>\n",
       "    </tr>\n",
       "    <tr>\n",
       "      <th>E</th>\n",
       "      <td>715</td>\n",
       "      <td>266</td>\n",
       "      <td>0.372028</td>\n",
       "    </tr>\n",
       "    <tr>\n",
       "      <th>F</th>\n",
       "      <td>2248</td>\n",
       "      <td>994</td>\n",
       "      <td>0.442171</td>\n",
       "    </tr>\n",
       "    <tr>\n",
       "      <th>G</th>\n",
       "      <td>2065</td>\n",
       "      <td>1048</td>\n",
       "      <td>0.507506</td>\n",
       "    </tr>\n",
       "    <tr>\n",
       "      <th>T</th>\n",
       "      <td>3</td>\n",
       "      <td>0</td>\n",
       "      <td>0.000000</td>\n",
       "    </tr>\n",
       "  </tbody>\n",
       "</table>\n",
       "</div>"
      ],
      "text/plain": [
       "      count   sum      mean\n",
       "deck                       \n",
       "A       206   103  0.500000\n",
       "B       646   472  0.730650\n",
       "C       599   411  0.686144\n",
       "D       381   167  0.438320\n",
       "E       715   266  0.372028\n",
       "F      2248   994  0.442171\n",
       "G      2065  1048  0.507506\n",
       "T         3     0  0.000000"
      ]
     },
     "metadata": {},
     "output_type": "display_data"
    },
    {
     "data": {
      "image/png": "[encoded data removed]",
      "text/plain": [
       "<Figure size 1080x504 with 1 Axes>"
      ]
     },
     "metadata": {},
     "output_type": "display_data"
    }
   ],
   "source": [
    "home_planet_table = data_dict['train'].groupby(by=['deck'])['transported'].agg(['count', 'sum', 'mean'])\n",
    "display(home_planet_table)\n",
    "home_planet_table['count'] = home_planet_table['count'] - home_planet_table['sum']\n",
    "home_planet_table = home_planet_table.rename(columns={\"count\": \"total\", \"sum\": \"transported\"})\n",
    "home_planet_table[['transported', 'total']].plot(kind='bar', stacked=True, legend=True, figsize=(15,7));"
   ]
  },
  {
   "cell_type": "markdown",
   "id": "0fc5fe63-c60b-4685-b99a-dde38ca78b76",
   "metadata": {},
   "source": [
    "#### HomePlanet"
   ]
  },
  {
   "cell_type": "markdown",
   "id": "48a3eaac-9b2d-4032-83e9-415085e439b0",
   "metadata": {},
   "source": [
    "Строки с пропусками в столбце `HomePlanet`"
   ]
  },
  {
   "cell_type": "code",
   "execution_count": 18,
   "id": "89df24a1-6c75-4ab8-b029-f1ad11bc6a22",
   "metadata": {},
   "outputs": [
    {
     "data": {
      "text/plain": [
       "2580"
      ]
     },
     "execution_count": 18,
     "metadata": {},
     "output_type": "execute_result"
    }
   ],
   "source": [
    "group_id_nan_home_planet = data_dict['train'].query('home_planet == home_planet and number_in_group == \"02\"').group_id\n",
    "len(data_dict['train'].query('group_id in @group_id_nan_home_planet').sort_values(by='group_id'))"
   ]
  },
  {
   "cell_type": "code",
   "execution_count": 19,
   "id": "c39b6951-aaba-49d1-8697-24a3c85d749c",
   "metadata": {},
   "outputs": [
    {
     "data": {
      "text/plain": [
       "278"
      ]
     },
     "execution_count": 19,
     "metadata": {},
     "output_type": "execute_result"
    }
   ],
   "source": [
    "group_id_nan_home_planet = data_dict['train'].query('home_planet != home_planet').group_id\n",
    "len(data_dict['train'].query('group_id in @group_id_nan_home_planet').sort_values(by='group_id'))"
   ]
  },
  {
   "cell_type": "markdown",
   "id": "7ef5ba59-7447-4e8d-8e31-0b827bb575eb",
   "metadata": {},
   "source": [
    "Уникальные значения столбца `HomePlanet`"
   ]
  },
  {
   "cell_type": "code",
   "execution_count": 20,
   "id": "1f93661f-b3bd-4883-9504-5800f514e4ac",
   "metadata": {},
   "outputs": [
    {
     "data": {
      "text/plain": [
       "array(['Mars', 'Europa', 'Earth', nan], dtype=object)"
      ]
     },
     "execution_count": 20,
     "metadata": {},
     "output_type": "execute_result"
    }
   ],
   "source": [
    "data_dict['train']['home_planet'].unique()"
   ]
  },
  {
   "cell_type": "markdown",
   "id": "b1a6e9db-7cd0-4eac-bd21-70a7c233b902",
   "metadata": {},
   "source": [
    "Можем заполнить пропуски `HomePlanet` для групповых трансферов - значениями `HomePlanet` других членов группы"
   ]
  },
  {
   "cell_type": "code",
   "execution_count": 21,
   "id": "347ddc96-2b64-4913-b8a2-08c09fc7065b",
   "metadata": {},
   "outputs": [
    {
     "data": {
      "text/html": [
       "<div>\n",
       "<style scoped>\n",
       "    .dataframe tbody tr th:only-of-type {\n",
       "        vertical-align: middle;\n",
       "    }\n",
       "\n",
       "    .dataframe tbody tr th {\n",
       "        vertical-align: top;\n",
       "    }\n",
       "\n",
       "    .dataframe thead th {\n",
       "        text-align: right;\n",
       "    }\n",
       "</style>\n",
       "<table border=\"1\" class=\"dataframe\">\n",
       "  <thead>\n",
       "    <tr style=\"text-align: right;\">\n",
       "      <th></th>\n",
       "      <th>home_planet</th>\n",
       "      <th>cryo_sleep</th>\n",
       "      <th>destination</th>\n",
       "      <th>age</th>\n",
       "      <th>vip</th>\n",
       "      <th>room_service</th>\n",
       "      <th>food_court</th>\n",
       "      <th>shopping_mall</th>\n",
       "      <th>spa</th>\n",
       "      <th>vr_deck</th>\n",
       "      <th>name</th>\n",
       "      <th>transported</th>\n",
       "      <th>group_id</th>\n",
       "      <th>number_in_group</th>\n",
       "      <th>deck</th>\n",
       "      <th>number</th>\n",
       "      <th>side</th>\n",
       "    </tr>\n",
       "  </thead>\n",
       "  <tbody>\n",
       "    <tr>\n",
       "      <th>282</th>\n",
       "      <td>NaN</td>\n",
       "      <td>False</td>\n",
       "      <td>PSO J318.5-22</td>\n",
       "      <td>12.0</td>\n",
       "      <td>False</td>\n",
       "      <td>0.0</td>\n",
       "      <td>0.0</td>\n",
       "      <td>0.0</td>\n",
       "      <td>0.0</td>\n",
       "      <td>0.0</td>\n",
       "      <td>Joyton Willy</td>\n",
       "      <td>True</td>\n",
       "      <td>5090</td>\n",
       "      <td>03</td>\n",
       "      <td>G</td>\n",
       "      <td>821</td>\n",
       "      <td>P</td>\n",
       "    </tr>\n",
       "    <tr>\n",
       "      <th>1872</th>\n",
       "      <td>Earth</td>\n",
       "      <td>False</td>\n",
       "      <td>NaN</td>\n",
       "      <td>11.0</td>\n",
       "      <td>False</td>\n",
       "      <td>0.0</td>\n",
       "      <td>0.0</td>\n",
       "      <td>0.0</td>\n",
       "      <td>0.0</td>\n",
       "      <td>0.0</td>\n",
       "      <td>Scotte Willy</td>\n",
       "      <td>True</td>\n",
       "      <td>5090</td>\n",
       "      <td>06</td>\n",
       "      <td>G</td>\n",
       "      <td>821</td>\n",
       "      <td>P</td>\n",
       "    </tr>\n",
       "    <tr>\n",
       "      <th>2203</th>\n",
       "      <td>Earth</td>\n",
       "      <td>True</td>\n",
       "      <td>TRAPPIST-1e</td>\n",
       "      <td>0.0</td>\n",
       "      <td>False</td>\n",
       "      <td>0.0</td>\n",
       "      <td>0.0</td>\n",
       "      <td>0.0</td>\n",
       "      <td>0.0</td>\n",
       "      <td>0.0</td>\n",
       "      <td>Luzel Willy</td>\n",
       "      <td>False</td>\n",
       "      <td>5090</td>\n",
       "      <td>02</td>\n",
       "      <td>G</td>\n",
       "      <td>821</td>\n",
       "      <td>P</td>\n",
       "    </tr>\n",
       "    <tr>\n",
       "      <th>3897</th>\n",
       "      <td>Earth</td>\n",
       "      <td>False</td>\n",
       "      <td>PSO J318.5-22</td>\n",
       "      <td>32.0</td>\n",
       "      <td>False</td>\n",
       "      <td>793.0</td>\n",
       "      <td>0.0</td>\n",
       "      <td>0.0</td>\n",
       "      <td>0.0</td>\n",
       "      <td>0.0</td>\n",
       "      <td>Annya Willy</td>\n",
       "      <td>False</td>\n",
       "      <td>5090</td>\n",
       "      <td>05</td>\n",
       "      <td>E</td>\n",
       "      <td>316</td>\n",
       "      <td>P</td>\n",
       "    </tr>\n",
       "    <tr>\n",
       "      <th>4850</th>\n",
       "      <td>Earth</td>\n",
       "      <td>NaN</td>\n",
       "      <td>TRAPPIST-1e</td>\n",
       "      <td>0.0</td>\n",
       "      <td>False</td>\n",
       "      <td>0.0</td>\n",
       "      <td>0.0</td>\n",
       "      <td>0.0</td>\n",
       "      <td>0.0</td>\n",
       "      <td>0.0</td>\n",
       "      <td>NaN</td>\n",
       "      <td>False</td>\n",
       "      <td>5090</td>\n",
       "      <td>01</td>\n",
       "      <td>G</td>\n",
       "      <td>821</td>\n",
       "      <td>P</td>\n",
       "    </tr>\n",
       "    <tr>\n",
       "      <th>5456</th>\n",
       "      <td>Earth</td>\n",
       "      <td>True</td>\n",
       "      <td>TRAPPIST-1e</td>\n",
       "      <td>7.0</td>\n",
       "      <td>False</td>\n",
       "      <td>0.0</td>\n",
       "      <td>0.0</td>\n",
       "      <td>0.0</td>\n",
       "      <td>0.0</td>\n",
       "      <td>0.0</td>\n",
       "      <td>Adamy Willy</td>\n",
       "      <td>False</td>\n",
       "      <td>5090</td>\n",
       "      <td>04</td>\n",
       "      <td>G</td>\n",
       "      <td>821</td>\n",
       "      <td>P</td>\n",
       "    </tr>\n",
       "  </tbody>\n",
       "</table>\n",
       "</div>"
      ],
      "text/plain": [
       "     home_planet cryo_sleep    destination   age    vip  room_service  food_court  shopping_mall  spa  vr_deck          name  transported group_id number_in_group deck number side\n",
       "282          NaN      False  PSO J318.5-22  12.0  False           0.0         0.0            0.0  0.0      0.0  Joyton Willy         True     5090              03    G    821    P\n",
       "1872       Earth      False            NaN  11.0  False           0.0         0.0            0.0  0.0      0.0  Scotte Willy         True     5090              06    G    821    P\n",
       "2203       Earth       True    TRAPPIST-1e   0.0  False           0.0         0.0            0.0  0.0      0.0   Luzel Willy        False     5090              02    G    821    P\n",
       "3897       Earth      False  PSO J318.5-22  32.0  False         793.0         0.0            0.0  0.0      0.0   Annya Willy        False     5090              05    E    316    P\n",
       "4850       Earth        NaN    TRAPPIST-1e   0.0  False           0.0         0.0            0.0  0.0      0.0           NaN        False     5090              01    G    821    P\n",
       "5456       Earth       True    TRAPPIST-1e   7.0  False           0.0         0.0            0.0  0.0      0.0   Adamy Willy        False     5090              04    G    821    P"
      ]
     },
     "execution_count": 21,
     "metadata": {},
     "output_type": "execute_result"
    }
   ],
   "source": [
    "data_dict['train'].query('group_id == \"5090\"')"
   ]
  },
  {
   "cell_type": "code",
   "execution_count": 22,
   "id": "058f5618-ba6a-44ee-b1c5-be5fd4c7bcd8",
   "metadata": {},
   "outputs": [],
   "source": [
    "for dataset in data_dict:\n",
    "    group_group_id = list(data_dict[dataset].query('number_in_group != \"01\" and number_in_group == number_in_group and home_planet == home_planet').group_id.unique())\n",
    "    for index, row in data_dict[dataset].iterrows():\n",
    "        if row.group_id in group_group_id and row.home_planet != row.home_planet:\n",
    "            group_id = row.group_id\n",
    "            request_group_groupId = pd.DataFrame(data_dict[dataset].query('group_id in @group_id'))\n",
    "            for request_index, request_row in request_group_groupId.iterrows():\n",
    "                if request_row.home_planet == request_row.home_planet:            \n",
    "                    data_dict[dataset].loc[index, 'home_planet'] = request_row.home_planet\n",
    "    data_dict[dataset]['home_planet'] = data_dict[dataset]['home_planet'].fillna('na')"
   ]
  },
  {
   "cell_type": "code",
   "execution_count": 23,
   "id": "ec9531b3-cfce-4efc-bfde-415fb53a5350",
   "metadata": {},
   "outputs": [
    {
     "data": {
      "text/html": [
       "<div>\n",
       "<style scoped>\n",
       "    .dataframe tbody tr th:only-of-type {\n",
       "        vertical-align: middle;\n",
       "    }\n",
       "\n",
       "    .dataframe tbody tr th {\n",
       "        vertical-align: top;\n",
       "    }\n",
       "\n",
       "    .dataframe thead th {\n",
       "        text-align: right;\n",
       "    }\n",
       "</style>\n",
       "<table border=\"1\" class=\"dataframe\">\n",
       "  <thead>\n",
       "    <tr style=\"text-align: right;\">\n",
       "      <th></th>\n",
       "      <th>count</th>\n",
       "      <th>sum</th>\n",
       "      <th>mean</th>\n",
       "    </tr>\n",
       "    <tr>\n",
       "      <th>home_planet</th>\n",
       "      <th></th>\n",
       "      <th></th>\n",
       "      <th></th>\n",
       "    </tr>\n",
       "  </thead>\n",
       "  <tbody>\n",
       "    <tr>\n",
       "      <th>Earth</th>\n",
       "      <td>3692</td>\n",
       "      <td>1561</td>\n",
       "      <td>0.422806</td>\n",
       "    </tr>\n",
       "    <tr>\n",
       "      <th>Europa</th>\n",
       "      <td>1719</td>\n",
       "      <td>1137</td>\n",
       "      <td>0.661431</td>\n",
       "    </tr>\n",
       "    <tr>\n",
       "      <th>Mars</th>\n",
       "      <td>1421</td>\n",
       "      <td>750</td>\n",
       "      <td>0.527797</td>\n",
       "    </tr>\n",
       "    <tr>\n",
       "      <th>na</th>\n",
       "      <td>122</td>\n",
       "      <td>54</td>\n",
       "      <td>0.442623</td>\n",
       "    </tr>\n",
       "  </tbody>\n",
       "</table>\n",
       "</div>"
      ],
      "text/plain": [
       "             count   sum      mean\n",
       "home_planet                       \n",
       "Earth         3692  1561  0.422806\n",
       "Europa        1719  1137  0.661431\n",
       "Mars          1421   750  0.527797\n",
       "na             122    54  0.442623"
      ]
     },
     "metadata": {},
     "output_type": "display_data"
    },
    {
     "data": {
      "image/png": "[encoded data removed]",
      "text/plain": [
       "<Figure size 1080x504 with 1 Axes>"
      ]
     },
     "metadata": {},
     "output_type": "display_data"
    }
   ],
   "source": [
    "home_planet_table = data_dict['train'].groupby(by=['home_planet'])['transported'].agg(['count', 'sum', 'mean'])\n",
    "display(home_planet_table)\n",
    "home_planet_table['count'] = home_planet_table['count'] - home_planet_table['sum']\n",
    "home_planet_table = home_planet_table.rename(columns={\"count\": \"total\", \"sum\": \"transported\"})\n",
    "home_planet_table[['transported', 'total']].plot(kind='bar', stacked=True, legend=True, figsize=(15,7));"
   ]
  },
  {
   "cell_type": "markdown",
   "id": "577b6b1e-9972-4ab6-b014-c47e59ee3f2b",
   "metadata": {},
   "source": [
    "#### Age"
   ]
  },
  {
   "cell_type": "code",
   "execution_count": 24,
   "id": "63c493b8-6747-48f9-9daa-5bfef83d2b9f",
   "metadata": {},
   "outputs": [
    {
     "name": "stdout",
     "output_type": "stream",
     "text": [
      "train\n",
      "143\n",
      "\n",
      "test\n",
      "36\n",
      "\n"
     ]
    }
   ],
   "source": [
    "for dataset in data_dict:\n",
    "    print(dataset)\n",
    "    print(data_dict[dataset]['age'].isna().sum())\n",
    "    print()"
   ]
  },
  {
   "cell_type": "code",
   "execution_count": 25,
   "id": "d7b0a856-a590-4dad-829f-e53fb80a2d43",
   "metadata": {},
   "outputs": [
    {
     "data": {
      "text/html": [
       "<div>\n",
       "<style scoped>\n",
       "    .dataframe tbody tr th:only-of-type {\n",
       "        vertical-align: middle;\n",
       "    }\n",
       "\n",
       "    .dataframe tbody tr th {\n",
       "        vertical-align: top;\n",
       "    }\n",
       "\n",
       "    .dataframe thead th {\n",
       "        text-align: right;\n",
       "    }\n",
       "</style>\n",
       "<table border=\"1\" class=\"dataframe\">\n",
       "  <thead>\n",
       "    <tr style=\"text-align: right;\">\n",
       "      <th></th>\n",
       "      <th>count</th>\n",
       "      <th>mean</th>\n",
       "      <th>median</th>\n",
       "      <th>min</th>\n",
       "      <th>max</th>\n",
       "    </tr>\n",
       "    <tr>\n",
       "      <th>home_planet</th>\n",
       "      <th></th>\n",
       "      <th></th>\n",
       "      <th></th>\n",
       "      <th></th>\n",
       "      <th></th>\n",
       "    </tr>\n",
       "  </thead>\n",
       "  <tbody>\n",
       "    <tr>\n",
       "      <th>Earth</th>\n",
       "      <td>3623</td>\n",
       "      <td>26.176925</td>\n",
       "      <td>24.0</td>\n",
       "      <td>0.0</td>\n",
       "      <td>79.0</td>\n",
       "    </tr>\n",
       "    <tr>\n",
       "      <th>Europa</th>\n",
       "      <td>1679</td>\n",
       "      <td>34.122096</td>\n",
       "      <td>32.0</td>\n",
       "      <td>0.0</td>\n",
       "      <td>79.0</td>\n",
       "    </tr>\n",
       "    <tr>\n",
       "      <th>Mars</th>\n",
       "      <td>1387</td>\n",
       "      <td>29.021629</td>\n",
       "      <td>28.0</td>\n",
       "      <td>0.0</td>\n",
       "      <td>75.0</td>\n",
       "    </tr>\n",
       "    <tr>\n",
       "      <th>na</th>\n",
       "      <td>122</td>\n",
       "      <td>28.631148</td>\n",
       "      <td>25.0</td>\n",
       "      <td>0.0</td>\n",
       "      <td>74.0</td>\n",
       "    </tr>\n",
       "  </tbody>\n",
       "</table>\n",
       "</div>"
      ],
      "text/plain": [
       "             count       mean  median  min   max\n",
       "home_planet                                     \n",
       "Earth         3623  26.176925    24.0  0.0  79.0\n",
       "Europa        1679  34.122096    32.0  0.0  79.0\n",
       "Mars          1387  29.021629    28.0  0.0  75.0\n",
       "na             122  28.631148    25.0  0.0  74.0"
      ]
     },
     "execution_count": 25,
     "metadata": {},
     "output_type": "execute_result"
    }
   ],
   "source": [
    "age_table = data_dict['train'].groupby(by=['home_planet'])['age'].agg(['count', 'mean', 'median', 'min', 'max'])\n",
    "age_table"
   ]
  },
  {
   "cell_type": "code",
   "execution_count": 26,
   "id": "7c873ef5-6e05-4a06-91b0-1ecfc497dc18",
   "metadata": {},
   "outputs": [],
   "source": [
    "age_dict = {}\n",
    "for index, row in age_table.iterrows():\n",
    "    age_dict[index] = row['median']"
   ]
  },
  {
   "cell_type": "code",
   "execution_count": 27,
   "id": "d0916c30-9f18-4691-b17e-089b215337e1",
   "metadata": {},
   "outputs": [],
   "source": [
    "for dataset in data_dict:\n",
    "     for index, row in data_dict[dataset].iterrows():\n",
    "            if row['age'] != row['age']:\n",
    "                data_dict[dataset].loc[index, 'age'] = age_dict[row['home_planet']]"
   ]
  },
  {
   "cell_type": "code",
   "execution_count": 28,
   "id": "ae401a9c-0bb5-4620-b62d-3b467a4a1ec2",
   "metadata": {},
   "outputs": [
    {
     "name": "stdout",
     "output_type": "stream",
     "text": [
      "train\n",
      "0\n",
      "\n",
      "test\n",
      "0\n",
      "\n"
     ]
    }
   ],
   "source": [
    "for dataset in data_dict:\n",
    "    print(dataset)\n",
    "    print(data_dict[dataset]['age'].isna().sum())\n",
    "    print()"
   ]
  },
  {
   "cell_type": "code",
   "execution_count": 29,
   "id": "726b3f0b-de74-44bb-8a04-8d9c52c34e17",
   "metadata": {},
   "outputs": [
    {
     "data": {
      "text/html": [
       "<div>\n",
       "<style scoped>\n",
       "    .dataframe tbody tr th:only-of-type {\n",
       "        vertical-align: middle;\n",
       "    }\n",
       "\n",
       "    .dataframe tbody tr th {\n",
       "        vertical-align: top;\n",
       "    }\n",
       "\n",
       "    .dataframe thead th {\n",
       "        text-align: right;\n",
       "    }\n",
       "</style>\n",
       "<table border=\"1\" class=\"dataframe\">\n",
       "  <thead>\n",
       "    <tr style=\"text-align: right;\">\n",
       "      <th></th>\n",
       "      <th>count</th>\n",
       "      <th>sum</th>\n",
       "      <th>mean</th>\n",
       "    </tr>\n",
       "    <tr>\n",
       "      <th>age</th>\n",
       "      <th></th>\n",
       "      <th></th>\n",
       "      <th></th>\n",
       "    </tr>\n",
       "  </thead>\n",
       "  <tbody>\n",
       "    <tr>\n",
       "      <th>0.0</th>\n",
       "      <td>135</td>\n",
       "      <td>112</td>\n",
       "      <td>0.829630</td>\n",
       "    </tr>\n",
       "    <tr>\n",
       "      <th>1.0</th>\n",
       "      <td>59</td>\n",
       "      <td>43</td>\n",
       "      <td>0.728814</td>\n",
       "    </tr>\n",
       "    <tr>\n",
       "      <th>2.0</th>\n",
       "      <td>60</td>\n",
       "      <td>41</td>\n",
       "      <td>0.683333</td>\n",
       "    </tr>\n",
       "    <tr>\n",
       "      <th>3.0</th>\n",
       "      <td>61</td>\n",
       "      <td>49</td>\n",
       "      <td>0.803279</td>\n",
       "    </tr>\n",
       "    <tr>\n",
       "      <th>4.0</th>\n",
       "      <td>51</td>\n",
       "      <td>40</td>\n",
       "      <td>0.784314</td>\n",
       "    </tr>\n",
       "    <tr>\n",
       "      <th>5.0</th>\n",
       "      <td>30</td>\n",
       "      <td>18</td>\n",
       "      <td>0.600000</td>\n",
       "    </tr>\n",
       "    <tr>\n",
       "      <th>6.0</th>\n",
       "      <td>32</td>\n",
       "      <td>17</td>\n",
       "      <td>0.531250</td>\n",
       "    </tr>\n",
       "    <tr>\n",
       "      <th>7.0</th>\n",
       "      <td>43</td>\n",
       "      <td>26</td>\n",
       "      <td>0.604651</td>\n",
       "    </tr>\n",
       "    <tr>\n",
       "      <th>8.0</th>\n",
       "      <td>35</td>\n",
       "      <td>21</td>\n",
       "      <td>0.600000</td>\n",
       "    </tr>\n",
       "    <tr>\n",
       "      <th>9.0</th>\n",
       "      <td>38</td>\n",
       "      <td>22</td>\n",
       "      <td>0.578947</td>\n",
       "    </tr>\n",
       "  </tbody>\n",
       "</table>\n",
       "</div>"
      ],
      "text/plain": [
       "     count  sum      mean\n",
       "age                      \n",
       "0.0    135  112  0.829630\n",
       "1.0     59   43  0.728814\n",
       "2.0     60   41  0.683333\n",
       "3.0     61   49  0.803279\n",
       "4.0     51   40  0.784314\n",
       "5.0     30   18  0.600000\n",
       "6.0     32   17  0.531250\n",
       "7.0     43   26  0.604651\n",
       "8.0     35   21  0.600000\n",
       "9.0     38   22  0.578947"
      ]
     },
     "metadata": {},
     "output_type": "display_data"
    },
    {
     "data": {
      "image/png": "[encoded data removed]",
      "text/plain": [
       "<Figure size 1080x504 with 1 Axes>"
      ]
     },
     "metadata": {},
     "output_type": "display_data"
    }
   ],
   "source": [
    "home_planet_table = data_dict['train'].groupby(by=['age'])['transported'].agg(['count', 'sum', 'mean'])\n",
    "display(home_planet_table.head(10))\n",
    "home_planet_table['count'] = home_planet_table['count'] - home_planet_table['sum']\n",
    "home_planet_table = home_planet_table.rename(columns={\"count\": \"total\", \"sum\": \"transported\"})\n",
    "home_planet_table[['transported', 'total']][0:100].plot(kind='bar', stacked=True, legend=True, figsize=(15,7));"
   ]
  },
  {
   "cell_type": "markdown",
   "id": "03637f4f-adab-46cb-b5d7-220e6ebec1d1",
   "metadata": {},
   "source": [
    "#### Destination"
   ]
  },
  {
   "cell_type": "code",
   "execution_count": 30,
   "id": "d5f8020c-7f8b-43af-b20e-533cd4033e5d",
   "metadata": {},
   "outputs": [
    {
     "data": {
      "text/plain": [
       "array(['PSO J318.5-22', '55 Cancri e', 'TRAPPIST-1e', nan], dtype=object)"
      ]
     },
     "execution_count": 30,
     "metadata": {},
     "output_type": "execute_result"
    }
   ],
   "source": [
    "data_dict['train']['destination'].unique()"
   ]
  },
  {
   "cell_type": "code",
   "execution_count": 31,
   "id": "9ed097c3-6990-402a-b0e6-0c37e9dcaed0",
   "metadata": {},
   "outputs": [
    {
     "data": {
      "text/plain": [
       "array(['TRAPPIST-1e', '55 Cancri e', 'PSO J318.5-22', nan], dtype=object)"
      ]
     },
     "execution_count": 31,
     "metadata": {},
     "output_type": "execute_result"
    }
   ],
   "source": [
    "data_dict['train'].query('home_planet == \"Earth\"')['destination'].unique()"
   ]
  },
  {
   "cell_type": "code",
   "execution_count": 32,
   "id": "db8d2ac2-3f29-4c89-acf6-6fde6e9d936d",
   "metadata": {},
   "outputs": [
    {
     "data": {
      "text/plain": [
       "array(['55 Cancri e', 'TRAPPIST-1e', 'PSO J318.5-22', nan], dtype=object)"
      ]
     },
     "execution_count": 32,
     "metadata": {},
     "output_type": "execute_result"
    }
   ],
   "source": [
    "data_dict['train'].query('home_planet == \"Europa\"')['destination'].unique()"
   ]
  },
  {
   "cell_type": "code",
   "execution_count": 33,
   "id": "f044710e-8da0-4e5c-90c6-7931faec2fdd",
   "metadata": {},
   "outputs": [
    {
     "data": {
      "text/plain": [
       "array(['PSO J318.5-22', 'TRAPPIST-1e', '55 Cancri e', nan], dtype=object)"
      ]
     },
     "execution_count": 33,
     "metadata": {},
     "output_type": "execute_result"
    }
   ],
   "source": [
    "data_dict['train'].query('home_planet == \"Mars\"')['destination'].unique()"
   ]
  },
  {
   "cell_type": "markdown",
   "id": "65d61344-5641-4a0c-9c44-817a7292fb31",
   "metadata": {},
   "source": [
    "От планеты отправления не зависит разнообразие маршрутов, с любой планеты можно отправиться в любое назначение кроме самих планет."
   ]
  },
  {
   "cell_type": "code",
   "execution_count": 34,
   "id": "4c279482-6aba-49f9-98ed-9fcfb0532240",
   "metadata": {},
   "outputs": [],
   "source": [
    "for dataset in data_dict:\n",
    "    group_group_id = list(data_dict[dataset].query('number_in_group != \"01\" and number_in_group == number_in_group and destination == destination').group_id.unique())\n",
    "    for index, row in data_dict[dataset].iterrows():\n",
    "        if row.group_id in group_group_id and row.destination != row.destination:\n",
    "            group_id = row.group_id\n",
    "            request_group_groupId = pd.DataFrame(data_dict[dataset].query('group_id in @group_id'))\n",
    "            for request_index, request_row in request_group_groupId.iterrows():\n",
    "                if request_row.destination == request_row.home_planet:            \n",
    "                    data_dict[dataset].loc[index, 'destination'] = request_row.destination"
   ]
  },
  {
   "cell_type": "code",
   "execution_count": 35,
   "id": "fd85d152-66c3-4b30-a67b-c51aad79fd65",
   "metadata": {},
   "outputs": [
    {
     "data": {
      "text/html": [
       "<div>\n",
       "<style scoped>\n",
       "    .dataframe tbody tr th:only-of-type {\n",
       "        vertical-align: middle;\n",
       "    }\n",
       "\n",
       "    .dataframe tbody tr th {\n",
       "        vertical-align: top;\n",
       "    }\n",
       "\n",
       "    .dataframe thead th {\n",
       "        text-align: right;\n",
       "    }\n",
       "</style>\n",
       "<table border=\"1\" class=\"dataframe\">\n",
       "  <thead>\n",
       "    <tr style=\"text-align: right;\">\n",
       "      <th></th>\n",
       "      <th>count</th>\n",
       "      <th>sum</th>\n",
       "      <th>mean</th>\n",
       "    </tr>\n",
       "    <tr>\n",
       "      <th>destination</th>\n",
       "      <th></th>\n",
       "      <th></th>\n",
       "      <th></th>\n",
       "    </tr>\n",
       "  </thead>\n",
       "  <tbody>\n",
       "    <tr>\n",
       "      <th>55 Cancri e</th>\n",
       "      <td>1465</td>\n",
       "      <td>881</td>\n",
       "      <td>0.601365</td>\n",
       "    </tr>\n",
       "    <tr>\n",
       "      <th>PSO J318.5-22</th>\n",
       "      <td>649</td>\n",
       "      <td>334</td>\n",
       "      <td>0.514638</td>\n",
       "    </tr>\n",
       "    <tr>\n",
       "      <th>TRAPPIST-1e</th>\n",
       "      <td>4699</td>\n",
       "      <td>2213</td>\n",
       "      <td>0.470951</td>\n",
       "    </tr>\n",
       "  </tbody>\n",
       "</table>\n",
       "</div>"
      ],
      "text/plain": [
       "               count   sum      mean\n",
       "destination                         \n",
       "55 Cancri e     1465   881  0.601365\n",
       "PSO J318.5-22    649   334  0.514638\n",
       "TRAPPIST-1e     4699  2213  0.470951"
      ]
     },
     "metadata": {},
     "output_type": "display_data"
    },
    {
     "data": {
      "image/png": "[encoded data removed]",
      "text/plain": [
       "<Figure size 1080x504 with 1 Axes>"
      ]
     },
     "metadata": {},
     "output_type": "display_data"
    }
   ],
   "source": [
    "home_planet_table = data_dict['train'].groupby(by=['destination'])['transported'].agg(['count', 'sum', 'mean'])\n",
    "display(home_planet_table)\n",
    "home_planet_table['count'] = home_planet_table['count'] - home_planet_table['sum']\n",
    "home_planet_table = home_planet_table.rename(columns={\"count\": \"total\", \"sum\": \"transported\"})\n",
    "home_planet_table[['transported', 'total']].plot(kind='bar', stacked=True, legend=True, figsize=(15,7));"
   ]
  },
  {
   "cell_type": "markdown",
   "id": "c8a72a97-3223-46d2-8356-ba486b89167e",
   "metadata": {},
   "source": [
    "#### VIP, RoomService, FoodCourt, ShoppingMall, Spa, VRDeck"
   ]
  },
  {
   "cell_type": "code",
   "execution_count": 36,
   "id": "120847a8-bbab-4544-a045-ef52e185b312",
   "metadata": {},
   "outputs": [],
   "source": [
    "def room_service_fit(row):\n",
    "    if row['cryo_sleep'] == True and row['vip'] != row['vip']:\n",
    "        row['vip'] = False\n",
    "    if row['room_service'] != row['room_service']:\n",
    "        row['room_service'] = 0\n",
    "    if row['food_court'] != row['food_court']:\n",
    "        row['food_court'] = 0\n",
    "    if row['shopping_mall'] != row['shopping_mall']:\n",
    "        row['shopping_mall'] = 0\n",
    "    if row['spa'] != row['spa']:\n",
    "        row['spa'] = 0\n",
    "    if row['vr_deck'] != row['vr_deck']:\n",
    "        row['vr_deck'] = 0\n",
    "    return row"
   ]
  },
  {
   "cell_type": "code",
   "execution_count": 37,
   "id": "e1f2f373-a7b7-4652-9d79-9c231db450d2",
   "metadata": {},
   "outputs": [
    {
     "name": "stdout",
     "output_type": "stream",
     "text": [
      "train\n",
      "\n",
      "vip              156\n",
      "room_service     142\n",
      "food_court       144\n",
      "shopping_mall    162\n",
      "spa              145\n",
      "vr_deck          147\n",
      "dtype: int64\n",
      "vip              93\n",
      "room_service      0\n",
      "food_court        0\n",
      "shopping_mall     0\n",
      "spa               0\n",
      "vr_deck           0\n",
      "dtype: int64\n",
      "test\n",
      "\n",
      "vip              47\n",
      "room_service     39\n",
      "food_court       39\n",
      "shopping_mall    46\n",
      "spa              38\n",
      "vr_deck          41\n",
      "dtype: int64\n",
      "vip              35\n",
      "room_service      0\n",
      "food_court        0\n",
      "shopping_mall     0\n",
      "spa               0\n",
      "vr_deck           0\n",
      "dtype: int64\n"
     ]
    }
   ],
   "source": [
    "for dataset in data_dict:\n",
    "    print(dataset)\n",
    "    print()\n",
    "    print(data_dict[dataset][['vip', 'room_service', 'food_court', 'shopping_mall', 'spa', 'vr_deck']].isna().sum())\n",
    "    data_dict[dataset] = data_dict[dataset].apply(room_service_fit, axis=1)\n",
    "    print(data_dict[dataset][['vip', 'room_service', 'food_court', 'shopping_mall', 'spa', 'vr_deck']].isna().sum())"
   ]
  },
  {
   "cell_type": "code",
   "execution_count": 38,
   "id": "dc428bfe-8689-4c07-90d3-b3e6437dd21b",
   "metadata": {},
   "outputs": [
    {
     "data": {
      "text/html": [
       "<div>\n",
       "<style scoped>\n",
       "    .dataframe tbody tr th:only-of-type {\n",
       "        vertical-align: middle;\n",
       "    }\n",
       "\n",
       "    .dataframe tbody tr th {\n",
       "        vertical-align: top;\n",
       "    }\n",
       "\n",
       "    .dataframe thead th {\n",
       "        text-align: right;\n",
       "    }\n",
       "</style>\n",
       "<table border=\"1\" class=\"dataframe\">\n",
       "  <thead>\n",
       "    <tr style=\"text-align: right;\">\n",
       "      <th></th>\n",
       "      <th>count</th>\n",
       "      <th>sum</th>\n",
       "      <th>mean</th>\n",
       "    </tr>\n",
       "    <tr>\n",
       "      <th>cryo_sleep</th>\n",
       "      <th></th>\n",
       "      <th></th>\n",
       "      <th></th>\n",
       "    </tr>\n",
       "  </thead>\n",
       "  <tbody>\n",
       "    <tr>\n",
       "      <th>False</th>\n",
       "      <td>4353</td>\n",
       "      <td>1438</td>\n",
       "      <td>0.330347</td>\n",
       "    </tr>\n",
       "    <tr>\n",
       "      <th>True</th>\n",
       "      <td>2431</td>\n",
       "      <td>1981</td>\n",
       "      <td>0.814891</td>\n",
       "    </tr>\n",
       "  </tbody>\n",
       "</table>\n",
       "</div>"
      ],
      "text/plain": [
       "            count   sum      mean\n",
       "cryo_sleep                       \n",
       "False        4353  1438  0.330347\n",
       "True         2431  1981  0.814891"
      ]
     },
     "execution_count": 38,
     "metadata": {},
     "output_type": "execute_result"
    }
   ],
   "source": [
    "data_dict['train'].groupby(by=['cryo_sleep'])['transported'].agg(['count', 'sum', 'mean'])"
   ]
  },
  {
   "cell_type": "code",
   "execution_count": 39,
   "id": "16703918-5762-4673-ae83-2f5e058f875e",
   "metadata": {},
   "outputs": [
    {
     "data": {
      "text/html": [
       "<div>\n",
       "<style scoped>\n",
       "    .dataframe tbody tr th:only-of-type {\n",
       "        vertical-align: middle;\n",
       "    }\n",
       "\n",
       "    .dataframe tbody tr th {\n",
       "        vertical-align: top;\n",
       "    }\n",
       "\n",
       "    .dataframe thead th {\n",
       "        text-align: right;\n",
       "    }\n",
       "</style>\n",
       "<table border=\"1\" class=\"dataframe\">\n",
       "  <thead>\n",
       "    <tr style=\"text-align: right;\">\n",
       "      <th></th>\n",
       "      <th>count</th>\n",
       "      <th>sum</th>\n",
       "      <th>mean</th>\n",
       "    </tr>\n",
       "    <tr>\n",
       "      <th>vip</th>\n",
       "      <th></th>\n",
       "      <th></th>\n",
       "      <th></th>\n",
       "    </tr>\n",
       "  </thead>\n",
       "  <tbody>\n",
       "    <tr>\n",
       "      <th>False</th>\n",
       "      <td>6697</td>\n",
       "      <td>3405</td>\n",
       "      <td>0.508437</td>\n",
       "    </tr>\n",
       "    <tr>\n",
       "      <th>True</th>\n",
       "      <td>164</td>\n",
       "      <td>65</td>\n",
       "      <td>0.396341</td>\n",
       "    </tr>\n",
       "  </tbody>\n",
       "</table>\n",
       "</div>"
      ],
      "text/plain": [
       "       count   sum      mean\n",
       "vip                         \n",
       "False   6697  3405  0.508437\n",
       "True     164    65  0.396341"
      ]
     },
     "metadata": {},
     "output_type": "display_data"
    },
    {
     "data": {
      "image/png": "[encoded data removed]",
      "text/plain": [
       "<Figure size 1080x504 with 1 Axes>"
      ]
     },
     "metadata": {},
     "output_type": "display_data"
    }
   ],
   "source": [
    "home_planet_table = data_dict['train'].groupby(by=['vip'])['transported'].agg(['count', 'sum', 'mean'])\n",
    "display(home_planet_table)\n",
    "home_planet_table['count'] = home_planet_table['count'] - home_planet_table['sum']\n",
    "home_planet_table = home_planet_table.rename(columns={\"count\": \"total\", \"sum\": \"transported\"})\n",
    "home_planet_table[['transported', 'total']].plot(kind='bar', stacked=True, legend=True, figsize=(15,7));"
   ]
  },
  {
   "cell_type": "code",
   "execution_count": 40,
   "id": "b8237026-ff9a-445f-b76a-00e2298819cf",
   "metadata": {},
   "outputs": [
    {
     "data": {
      "text/html": [
       "<div>\n",
       "<style scoped>\n",
       "    .dataframe tbody tr th:only-of-type {\n",
       "        vertical-align: middle;\n",
       "    }\n",
       "\n",
       "    .dataframe tbody tr th {\n",
       "        vertical-align: top;\n",
       "    }\n",
       "\n",
       "    .dataframe thead th {\n",
       "        text-align: right;\n",
       "    }\n",
       "</style>\n",
       "<table border=\"1\" class=\"dataframe\">\n",
       "  <thead>\n",
       "    <tr style=\"text-align: right;\">\n",
       "      <th></th>\n",
       "      <th>count</th>\n",
       "      <th>sum</th>\n",
       "      <th>mean</th>\n",
       "    </tr>\n",
       "    <tr>\n",
       "      <th>room_service</th>\n",
       "      <th></th>\n",
       "      <th></th>\n",
       "      <th></th>\n",
       "    </tr>\n",
       "  </thead>\n",
       "  <tbody>\n",
       "    <tr>\n",
       "      <th>8.0</th>\n",
       "      <td>21</td>\n",
       "      <td>15</td>\n",
       "      <td>0.714286</td>\n",
       "    </tr>\n",
       "    <tr>\n",
       "      <th>0.0</th>\n",
       "      <td>4624</td>\n",
       "      <td>2894</td>\n",
       "      <td>0.625865</td>\n",
       "    </tr>\n",
       "    <tr>\n",
       "      <th>14.0</th>\n",
       "      <td>17</td>\n",
       "      <td>9</td>\n",
       "      <td>0.529412</td>\n",
       "    </tr>\n",
       "    <tr>\n",
       "      <th>27.0</th>\n",
       "      <td>11</td>\n",
       "      <td>5</td>\n",
       "      <td>0.454545</td>\n",
       "    </tr>\n",
       "    <tr>\n",
       "      <th>6.0</th>\n",
       "      <td>19</td>\n",
       "      <td>8</td>\n",
       "      <td>0.421053</td>\n",
       "    </tr>\n",
       "    <tr>\n",
       "      <th>10.0</th>\n",
       "      <td>12</td>\n",
       "      <td>5</td>\n",
       "      <td>0.416667</td>\n",
       "    </tr>\n",
       "    <tr>\n",
       "      <th>11.0</th>\n",
       "      <td>12</td>\n",
       "      <td>5</td>\n",
       "      <td>0.416667</td>\n",
       "    </tr>\n",
       "    <tr>\n",
       "      <th>2.0</th>\n",
       "      <td>67</td>\n",
       "      <td>27</td>\n",
       "      <td>0.402985</td>\n",
       "    </tr>\n",
       "    <tr>\n",
       "      <th>5.0</th>\n",
       "      <td>23</td>\n",
       "      <td>9</td>\n",
       "      <td>0.391304</td>\n",
       "    </tr>\n",
       "    <tr>\n",
       "      <th>3.0</th>\n",
       "      <td>50</td>\n",
       "      <td>19</td>\n",
       "      <td>0.380000</td>\n",
       "    </tr>\n",
       "  </tbody>\n",
       "</table>\n",
       "</div>"
      ],
      "text/plain": [
       "              count   sum      mean\n",
       "room_service                       \n",
       "8.0              21    15  0.714286\n",
       "0.0            4624  2894  0.625865\n",
       "14.0             17     9  0.529412\n",
       "27.0             11     5  0.454545\n",
       "6.0              19     8  0.421053\n",
       "10.0             12     5  0.416667\n",
       "11.0             12     5  0.416667\n",
       "2.0              67    27  0.402985\n",
       "5.0              23     9  0.391304\n",
       "3.0              50    19  0.380000"
      ]
     },
     "metadata": {},
     "output_type": "display_data"
    },
    {
     "data": {
      "image/png": "[encoded data removed]",
      "text/plain": [
       "<Figure size 1080x504 with 1 Axes>"
      ]
     },
     "metadata": {},
     "output_type": "display_data"
    }
   ],
   "source": [
    "home_planet_table = data_dict['train'].groupby(by=['room_service'])['transported'].agg(['count', 'sum', 'mean'])\n",
    "display(home_planet_table.query('count > 10').sort_values(by='mean', ascending=False).head(10))\n",
    "home_planet_table['count'] = home_planet_table['count'] - home_planet_table['sum']\n",
    "home_planet_table = home_planet_table.rename(columns={\"count\": \"total\", \"sum\": \"transported\"})\n",
    "home_planet_table['transported'][1:].head(30).plot(figsize=(15,7))\n",
    "home_planet_table['total'][1:].head(30).plot();"
   ]
  },
  {
   "cell_type": "code",
   "execution_count": 41,
   "id": "6aad9c00-c71f-449a-8c3f-2036100b8369",
   "metadata": {},
   "outputs": [
    {
     "data": {
      "text/html": [
       "<div>\n",
       "<style scoped>\n",
       "    .dataframe tbody tr th:only-of-type {\n",
       "        vertical-align: middle;\n",
       "    }\n",
       "\n",
       "    .dataframe tbody tr th {\n",
       "        vertical-align: top;\n",
       "    }\n",
       "\n",
       "    .dataframe thead th {\n",
       "        text-align: right;\n",
       "    }\n",
       "</style>\n",
       "<table border=\"1\" class=\"dataframe\">\n",
       "  <thead>\n",
       "    <tr style=\"text-align: right;\">\n",
       "      <th></th>\n",
       "      <th>count</th>\n",
       "      <th>sum</th>\n",
       "      <th>mean</th>\n",
       "    </tr>\n",
       "    <tr>\n",
       "      <th>food_court</th>\n",
       "      <th></th>\n",
       "      <th></th>\n",
       "      <th></th>\n",
       "    </tr>\n",
       "  </thead>\n",
       "  <tbody>\n",
       "    <tr>\n",
       "      <th>0.0</th>\n",
       "      <td>4511</td>\n",
       "      <td>2669</td>\n",
       "      <td>0.591665</td>\n",
       "    </tr>\n",
       "    <tr>\n",
       "      <th>11.0</th>\n",
       "      <td>15</td>\n",
       "      <td>5</td>\n",
       "      <td>0.333333</td>\n",
       "    </tr>\n",
       "    <tr>\n",
       "      <th>12.0</th>\n",
       "      <td>13</td>\n",
       "      <td>4</td>\n",
       "      <td>0.307692</td>\n",
       "    </tr>\n",
       "    <tr>\n",
       "      <th>8.0</th>\n",
       "      <td>17</td>\n",
       "      <td>5</td>\n",
       "      <td>0.294118</td>\n",
       "    </tr>\n",
       "    <tr>\n",
       "      <th>7.0</th>\n",
       "      <td>24</td>\n",
       "      <td>6</td>\n",
       "      <td>0.250000</td>\n",
       "    </tr>\n",
       "    <tr>\n",
       "      <th>6.0</th>\n",
       "      <td>24</td>\n",
       "      <td>6</td>\n",
       "      <td>0.250000</td>\n",
       "    </tr>\n",
       "    <tr>\n",
       "      <th>2.0</th>\n",
       "      <td>58</td>\n",
       "      <td>14</td>\n",
       "      <td>0.241379</td>\n",
       "    </tr>\n",
       "    <tr>\n",
       "      <th>9.0</th>\n",
       "      <td>23</td>\n",
       "      <td>5</td>\n",
       "      <td>0.217391</td>\n",
       "    </tr>\n",
       "    <tr>\n",
       "      <th>3.0</th>\n",
       "      <td>34</td>\n",
       "      <td>7</td>\n",
       "      <td>0.205882</td>\n",
       "    </tr>\n",
       "    <tr>\n",
       "      <th>4.0</th>\n",
       "      <td>44</td>\n",
       "      <td>9</td>\n",
       "      <td>0.204545</td>\n",
       "    </tr>\n",
       "  </tbody>\n",
       "</table>\n",
       "</div>"
      ],
      "text/plain": [
       "            count   sum      mean\n",
       "food_court                       \n",
       "0.0          4511  2669  0.591665\n",
       "11.0           15     5  0.333333\n",
       "12.0           13     4  0.307692\n",
       "8.0            17     5  0.294118\n",
       "7.0            24     6  0.250000\n",
       "6.0            24     6  0.250000\n",
       "2.0            58    14  0.241379\n",
       "9.0            23     5  0.217391\n",
       "3.0            34     7  0.205882\n",
       "4.0            44     9  0.204545"
      ]
     },
     "metadata": {},
     "output_type": "display_data"
    },
    {
     "data": {
      "image/png": "[encoded data removed]",
      "text/plain": [
       "<Figure size 1080x504 with 1 Axes>"
      ]
     },
     "metadata": {},
     "output_type": "display_data"
    }
   ],
   "source": [
    "home_planet_table = data_dict['train'].groupby(by=['food_court'])['transported'].agg(['count', 'sum', 'mean'])\n",
    "display(home_planet_table.query('count > 10').sort_values(by='mean', ascending=False).head(10))\n",
    "home_planet_table['count'] = home_planet_table['count'] - home_planet_table['sum']\n",
    "home_planet_table = home_planet_table.rename(columns={\"count\": \"total\", \"sum\": \"transported\"})\n",
    "home_planet_table['transported'][1:].head(50).plot(figsize=(15,7))\n",
    "home_planet_table['total'][1:].head(50).plot();"
   ]
  },
  {
   "cell_type": "code",
   "execution_count": 42,
   "id": "3578c3c7-58f4-41dc-b761-acab0c7e1bac",
   "metadata": {},
   "outputs": [
    {
     "data": {
      "text/html": [
       "<div>\n",
       "<style scoped>\n",
       "    .dataframe tbody tr th:only-of-type {\n",
       "        vertical-align: middle;\n",
       "    }\n",
       "\n",
       "    .dataframe tbody tr th {\n",
       "        vertical-align: top;\n",
       "    }\n",
       "\n",
       "    .dataframe thead th {\n",
       "        text-align: right;\n",
       "    }\n",
       "</style>\n",
       "<table border=\"1\" class=\"dataframe\">\n",
       "  <thead>\n",
       "    <tr style=\"text-align: right;\">\n",
       "      <th></th>\n",
       "      <th>count</th>\n",
       "      <th>sum</th>\n",
       "      <th>mean</th>\n",
       "    </tr>\n",
       "    <tr>\n",
       "      <th>shopping_mall</th>\n",
       "      <th></th>\n",
       "      <th></th>\n",
       "      <th></th>\n",
       "    </tr>\n",
       "  </thead>\n",
       "  <tbody>\n",
       "    <tr>\n",
       "      <th>0.0</th>\n",
       "      <td>4646</td>\n",
       "      <td>2781</td>\n",
       "      <td>0.598579</td>\n",
       "    </tr>\n",
       "    <tr>\n",
       "      <th>18.0</th>\n",
       "      <td>11</td>\n",
       "      <td>5</td>\n",
       "      <td>0.454545</td>\n",
       "    </tr>\n",
       "    <tr>\n",
       "      <th>31.0</th>\n",
       "      <td>17</td>\n",
       "      <td>7</td>\n",
       "      <td>0.411765</td>\n",
       "    </tr>\n",
       "    <tr>\n",
       "      <th>13.0</th>\n",
       "      <td>22</td>\n",
       "      <td>8</td>\n",
       "      <td>0.363636</td>\n",
       "    </tr>\n",
       "    <tr>\n",
       "      <th>9.0</th>\n",
       "      <td>24</td>\n",
       "      <td>8</td>\n",
       "      <td>0.333333</td>\n",
       "    </tr>\n",
       "    <tr>\n",
       "      <th>3.0</th>\n",
       "      <td>51</td>\n",
       "      <td>16</td>\n",
       "      <td>0.313725</td>\n",
       "    </tr>\n",
       "    <tr>\n",
       "      <th>5.0</th>\n",
       "      <td>30</td>\n",
       "      <td>9</td>\n",
       "      <td>0.300000</td>\n",
       "    </tr>\n",
       "    <tr>\n",
       "      <th>7.0</th>\n",
       "      <td>29</td>\n",
       "      <td>8</td>\n",
       "      <td>0.275862</td>\n",
       "    </tr>\n",
       "    <tr>\n",
       "      <th>15.0</th>\n",
       "      <td>11</td>\n",
       "      <td>3</td>\n",
       "      <td>0.272727</td>\n",
       "    </tr>\n",
       "    <tr>\n",
       "      <th>21.0</th>\n",
       "      <td>11</td>\n",
       "      <td>3</td>\n",
       "      <td>0.272727</td>\n",
       "    </tr>\n",
       "  </tbody>\n",
       "</table>\n",
       "</div>"
      ],
      "text/plain": [
       "               count   sum      mean\n",
       "shopping_mall                       \n",
       "0.0             4646  2781  0.598579\n",
       "18.0              11     5  0.454545\n",
       "31.0              17     7  0.411765\n",
       "13.0              22     8  0.363636\n",
       "9.0               24     8  0.333333\n",
       "3.0               51    16  0.313725\n",
       "5.0               30     9  0.300000\n",
       "7.0               29     8  0.275862\n",
       "15.0              11     3  0.272727\n",
       "21.0              11     3  0.272727"
      ]
     },
     "metadata": {},
     "output_type": "display_data"
    },
    {
     "data": {
      "image/png": "[encoded data removed]",
      "text/plain": [
       "<Figure size 1080x504 with 1 Axes>"
      ]
     },
     "metadata": {},
     "output_type": "display_data"
    }
   ],
   "source": [
    "home_planet_table = data_dict['train'].groupby(by=['shopping_mall'])['transported'].agg(['count', 'sum', 'mean'])\n",
    "display(home_planet_table.query('count > 10').sort_values(by='mean', ascending=False).head(10))\n",
    "home_planet_table['count'] = home_planet_table['count'] - home_planet_table['sum']\n",
    "home_planet_table = home_planet_table.rename(columns={\"count\": \"total\", \"sum\": \"transported\"})\n",
    "home_planet_table['transported'][1:].head(50).plot(figsize=(15,7))\n",
    "home_planet_table['total'][1:].head(50).plot();"
   ]
  },
  {
   "cell_type": "code",
   "execution_count": 43,
   "id": "bce7678e-d5d3-4650-8a08-cd17f39751f2",
   "metadata": {},
   "outputs": [
    {
     "data": {
      "text/html": [
       "<div>\n",
       "<style scoped>\n",
       "    .dataframe tbody tr th:only-of-type {\n",
       "        vertical-align: middle;\n",
       "    }\n",
       "\n",
       "    .dataframe tbody tr th {\n",
       "        vertical-align: top;\n",
       "    }\n",
       "\n",
       "    .dataframe thead th {\n",
       "        text-align: right;\n",
       "    }\n",
       "</style>\n",
       "<table border=\"1\" class=\"dataframe\">\n",
       "  <thead>\n",
       "    <tr style=\"text-align: right;\">\n",
       "      <th></th>\n",
       "      <th>count</th>\n",
       "      <th>sum</th>\n",
       "      <th>mean</th>\n",
       "    </tr>\n",
       "    <tr>\n",
       "      <th>spa</th>\n",
       "      <th></th>\n",
       "      <th></th>\n",
       "      <th></th>\n",
       "    </tr>\n",
       "  </thead>\n",
       "  <tbody>\n",
       "    <tr>\n",
       "      <th>0.0</th>\n",
       "      <td>4422</td>\n",
       "      <td>2799</td>\n",
       "      <td>0.632972</td>\n",
       "    </tr>\n",
       "    <tr>\n",
       "      <th>5.0</th>\n",
       "      <td>42</td>\n",
       "      <td>22</td>\n",
       "      <td>0.523810</td>\n",
       "    </tr>\n",
       "    <tr>\n",
       "      <th>13.0</th>\n",
       "      <td>12</td>\n",
       "      <td>6</td>\n",
       "      <td>0.500000</td>\n",
       "    </tr>\n",
       "    <tr>\n",
       "      <th>17.0</th>\n",
       "      <td>13</td>\n",
       "      <td>6</td>\n",
       "      <td>0.461538</td>\n",
       "    </tr>\n",
       "    <tr>\n",
       "      <th>2.0</th>\n",
       "      <td>82</td>\n",
       "      <td>37</td>\n",
       "      <td>0.451220</td>\n",
       "    </tr>\n",
       "    <tr>\n",
       "      <th>6.0</th>\n",
       "      <td>29</td>\n",
       "      <td>13</td>\n",
       "      <td>0.448276</td>\n",
       "    </tr>\n",
       "    <tr>\n",
       "      <th>7.0</th>\n",
       "      <td>30</td>\n",
       "      <td>13</td>\n",
       "      <td>0.433333</td>\n",
       "    </tr>\n",
       "    <tr>\n",
       "      <th>3.0</th>\n",
       "      <td>42</td>\n",
       "      <td>18</td>\n",
       "      <td>0.428571</td>\n",
       "    </tr>\n",
       "    <tr>\n",
       "      <th>4.0</th>\n",
       "      <td>38</td>\n",
       "      <td>16</td>\n",
       "      <td>0.421053</td>\n",
       "    </tr>\n",
       "    <tr>\n",
       "      <th>10.0</th>\n",
       "      <td>15</td>\n",
       "      <td>6</td>\n",
       "      <td>0.400000</td>\n",
       "    </tr>\n",
       "  </tbody>\n",
       "</table>\n",
       "</div>"
      ],
      "text/plain": [
       "      count   sum      mean\n",
       "spa                        \n",
       "0.0    4422  2799  0.632972\n",
       "5.0      42    22  0.523810\n",
       "13.0     12     6  0.500000\n",
       "17.0     13     6  0.461538\n",
       "2.0      82    37  0.451220\n",
       "6.0      29    13  0.448276\n",
       "7.0      30    13  0.433333\n",
       "3.0      42    18  0.428571\n",
       "4.0      38    16  0.421053\n",
       "10.0     15     6  0.400000"
      ]
     },
     "metadata": {},
     "output_type": "display_data"
    },
    {
     "data": {
      "image/png": "[encoded data removed]",
      "text/plain": [
       "<Figure size 1080x504 with 1 Axes>"
      ]
     },
     "metadata": {},
     "output_type": "display_data"
    }
   ],
   "source": [
    "home_planet_table = data_dict['train'].groupby(by=['spa'])['transported'].agg(['count', 'sum', 'mean'])\n",
    "display(home_planet_table.query('count > 10').sort_values(by='mean', ascending=False).head(10))\n",
    "home_planet_table['count'] = home_planet_table['count'] - home_planet_table['sum']\n",
    "home_planet_table = home_planet_table.rename(columns={\"count\": \"total\", \"sum\": \"transported\"})\n",
    "home_planet_table['transported'][1:].head(50).plot(figsize=(15,7))\n",
    "home_planet_table['total'][1:].head(50).plot();"
   ]
  },
  {
   "cell_type": "code",
   "execution_count": 44,
   "id": "f89b90e8-9322-4705-8a3b-ecbe60006e61",
   "metadata": {},
   "outputs": [
    {
     "data": {
      "text/html": [
       "<div>\n",
       "<style scoped>\n",
       "    .dataframe tbody tr th:only-of-type {\n",
       "        vertical-align: middle;\n",
       "    }\n",
       "\n",
       "    .dataframe tbody tr th {\n",
       "        vertical-align: top;\n",
       "    }\n",
       "\n",
       "    .dataframe thead th {\n",
       "        text-align: right;\n",
       "    }\n",
       "</style>\n",
       "<table border=\"1\" class=\"dataframe\">\n",
       "  <thead>\n",
       "    <tr style=\"text-align: right;\">\n",
       "      <th></th>\n",
       "      <th>count</th>\n",
       "      <th>sum</th>\n",
       "      <th>mean</th>\n",
       "    </tr>\n",
       "    <tr>\n",
       "      <th>vr_deck</th>\n",
       "      <th></th>\n",
       "      <th></th>\n",
       "      <th></th>\n",
       "    </tr>\n",
       "  </thead>\n",
       "  <tbody>\n",
       "    <tr>\n",
       "      <th>0.0</th>\n",
       "      <td>4558</td>\n",
       "      <td>2837</td>\n",
       "      <td>0.622422</td>\n",
       "    </tr>\n",
       "    <tr>\n",
       "      <th>40.0</th>\n",
       "      <td>13</td>\n",
       "      <td>7</td>\n",
       "      <td>0.538462</td>\n",
       "    </tr>\n",
       "    <tr>\n",
       "      <th>23.0</th>\n",
       "      <td>12</td>\n",
       "      <td>6</td>\n",
       "      <td>0.500000</td>\n",
       "    </tr>\n",
       "    <tr>\n",
       "      <th>6.0</th>\n",
       "      <td>28</td>\n",
       "      <td>14</td>\n",
       "      <td>0.500000</td>\n",
       "    </tr>\n",
       "    <tr>\n",
       "      <th>8.0</th>\n",
       "      <td>22</td>\n",
       "      <td>10</td>\n",
       "      <td>0.454545</td>\n",
       "    </tr>\n",
       "    <tr>\n",
       "      <th>9.0</th>\n",
       "      <td>22</td>\n",
       "      <td>10</td>\n",
       "      <td>0.454545</td>\n",
       "    </tr>\n",
       "    <tr>\n",
       "      <th>7.0</th>\n",
       "      <td>22</td>\n",
       "      <td>9</td>\n",
       "      <td>0.409091</td>\n",
       "    </tr>\n",
       "    <tr>\n",
       "      <th>13.0</th>\n",
       "      <td>15</td>\n",
       "      <td>6</td>\n",
       "      <td>0.400000</td>\n",
       "    </tr>\n",
       "    <tr>\n",
       "      <th>5.0</th>\n",
       "      <td>38</td>\n",
       "      <td>15</td>\n",
       "      <td>0.394737</td>\n",
       "    </tr>\n",
       "    <tr>\n",
       "      <th>18.0</th>\n",
       "      <td>13</td>\n",
       "      <td>5</td>\n",
       "      <td>0.384615</td>\n",
       "    </tr>\n",
       "  </tbody>\n",
       "</table>\n",
       "</div>"
      ],
      "text/plain": [
       "         count   sum      mean\n",
       "vr_deck                       \n",
       "0.0       4558  2837  0.622422\n",
       "40.0        13     7  0.538462\n",
       "23.0        12     6  0.500000\n",
       "6.0         28    14  0.500000\n",
       "8.0         22    10  0.454545\n",
       "9.0         22    10  0.454545\n",
       "7.0         22     9  0.409091\n",
       "13.0        15     6  0.400000\n",
       "5.0         38    15  0.394737\n",
       "18.0        13     5  0.384615"
      ]
     },
     "metadata": {},
     "output_type": "display_data"
    },
    {
     "data": {
      "image/png": "[encoded data removed]",
      "text/plain": [
       "<Figure size 1080x504 with 1 Axes>"
      ]
     },
     "metadata": {},
     "output_type": "display_data"
    }
   ],
   "source": [
    "home_planet_table = data_dict['train'].groupby(by=['vr_deck'])['transported'].agg(['count', 'sum', 'mean'])\n",
    "display(home_planet_table.query('count > 10').sort_values(by='mean', ascending=False).head(10))\n",
    "home_planet_table['count'] = home_planet_table['count'] - home_planet_table['sum']\n",
    "home_planet_table = home_planet_table.rename(columns={\"count\": \"total\", \"sum\": \"transported\"})\n",
    "home_planet_table['transported'][1:300].plot(figsize=(15,7))\n",
    "home_planet_table['total'][1:].head(300).plot();"
   ]
  },
  {
   "cell_type": "markdown",
   "id": "3d0acd25-9a06-445a-85d4-2cb13e5fe0dc",
   "metadata": {},
   "source": [
    "#### CryoSleep"
   ]
  },
  {
   "cell_type": "code",
   "execution_count": 45,
   "id": "a51df67e-9c6c-4a8e-9b61-79da1e56a669",
   "metadata": {},
   "outputs": [
    {
     "data": {
      "text/html": [
       "<div>\n",
       "<style scoped>\n",
       "    .dataframe tbody tr th:only-of-type {\n",
       "        vertical-align: middle;\n",
       "    }\n",
       "\n",
       "    .dataframe tbody tr th {\n",
       "        vertical-align: top;\n",
       "    }\n",
       "\n",
       "    .dataframe thead th {\n",
       "        text-align: right;\n",
       "    }\n",
       "</style>\n",
       "<table border=\"1\" class=\"dataframe\">\n",
       "  <thead>\n",
       "    <tr style=\"text-align: right;\">\n",
       "      <th></th>\n",
       "      <th>home_planet</th>\n",
       "      <th>cryo_sleep</th>\n",
       "      <th>destination</th>\n",
       "      <th>age</th>\n",
       "      <th>vip</th>\n",
       "      <th>room_service</th>\n",
       "      <th>food_court</th>\n",
       "      <th>shopping_mall</th>\n",
       "      <th>spa</th>\n",
       "      <th>vr_deck</th>\n",
       "      <th>name</th>\n",
       "      <th>transported</th>\n",
       "      <th>group_id</th>\n",
       "      <th>number_in_group</th>\n",
       "      <th>deck</th>\n",
       "      <th>number</th>\n",
       "      <th>side</th>\n",
       "    </tr>\n",
       "  </thead>\n",
       "  <tbody>\n",
       "    <tr>\n",
       "      <th>35</th>\n",
       "      <td>Mars</td>\n",
       "      <td>NaN</td>\n",
       "      <td>55 Cancri e</td>\n",
       "      <td>19.0</td>\n",
       "      <td>False</td>\n",
       "      <td>0.0</td>\n",
       "      <td>0.0</td>\n",
       "      <td>0.0</td>\n",
       "      <td>0.0</td>\n",
       "      <td>0.0</td>\n",
       "      <td>Nakes Dutte</td>\n",
       "      <td>True</td>\n",
       "      <td>0794</td>\n",
       "      <td>01</td>\n",
       "      <td>F</td>\n",
       "      <td>144</td>\n",
       "      <td>S</td>\n",
       "    </tr>\n",
       "    <tr>\n",
       "      <th>38</th>\n",
       "      <td>Europa</td>\n",
       "      <td>NaN</td>\n",
       "      <td>TRAPPIST-1e</td>\n",
       "      <td>17.0</td>\n",
       "      <td>False</td>\n",
       "      <td>0.0</td>\n",
       "      <td>0.0</td>\n",
       "      <td>0.0</td>\n",
       "      <td>0.0</td>\n",
       "      <td>0.0</td>\n",
       "      <td>Alrais Modent</td>\n",
       "      <td>True</td>\n",
       "      <td>3439</td>\n",
       "      <td>02</td>\n",
       "      <td>B</td>\n",
       "      <td>130</td>\n",
       "      <td>S</td>\n",
       "    </tr>\n",
       "    <tr>\n",
       "      <th>98</th>\n",
       "      <td>Europa</td>\n",
       "      <td>NaN</td>\n",
       "      <td>TRAPPIST-1e</td>\n",
       "      <td>17.0</td>\n",
       "      <td>False</td>\n",
       "      <td>0.0</td>\n",
       "      <td>0.0</td>\n",
       "      <td>0.0</td>\n",
       "      <td>0.0</td>\n",
       "      <td>0.0</td>\n",
       "      <td>Proxima Quidedbolt</td>\n",
       "      <td>True</td>\n",
       "      <td>7560</td>\n",
       "      <td>01</td>\n",
       "      <td>C</td>\n",
       "      <td>244</td>\n",
       "      <td>P</td>\n",
       "    </tr>\n",
       "    <tr>\n",
       "      <th>162</th>\n",
       "      <td>Earth</td>\n",
       "      <td>NaN</td>\n",
       "      <td>TRAPPIST-1e</td>\n",
       "      <td>32.0</td>\n",
       "      <td>False</td>\n",
       "      <td>0.0</td>\n",
       "      <td>0.0</td>\n",
       "      <td>0.0</td>\n",
       "      <td>0.0</td>\n",
       "      <td>0.0</td>\n",
       "      <td>Shawne Simonsents</td>\n",
       "      <td>False</td>\n",
       "      <td>9076</td>\n",
       "      <td>01</td>\n",
       "      <td>G</td>\n",
       "      <td>1461</td>\n",
       "      <td>S</td>\n",
       "    </tr>\n",
       "    <tr>\n",
       "      <th>197</th>\n",
       "      <td>Europa</td>\n",
       "      <td>NaN</td>\n",
       "      <td>55 Cancri e</td>\n",
       "      <td>26.0</td>\n",
       "      <td>False</td>\n",
       "      <td>0.0</td>\n",
       "      <td>3593.0</td>\n",
       "      <td>47.0</td>\n",
       "      <td>19.0</td>\n",
       "      <td>229.0</td>\n",
       "      <td>Hamakan Namsheary</td>\n",
       "      <td>True</td>\n",
       "      <td>4603</td>\n",
       "      <td>01</td>\n",
       "      <td>C</td>\n",
       "      <td>171</td>\n",
       "      <td>S</td>\n",
       "    </tr>\n",
       "    <tr>\n",
       "      <th>256</th>\n",
       "      <td>Earth</td>\n",
       "      <td>NaN</td>\n",
       "      <td>TRAPPIST-1e</td>\n",
       "      <td>58.0</td>\n",
       "      <td>False</td>\n",
       "      <td>0.0</td>\n",
       "      <td>985.0</td>\n",
       "      <td>0.0</td>\n",
       "      <td>5.0</td>\n",
       "      <td>0.0</td>\n",
       "      <td>Hilip Grifford</td>\n",
       "      <td>True</td>\n",
       "      <td>0173</td>\n",
       "      <td>01</td>\n",
       "      <td>E</td>\n",
       "      <td>11</td>\n",
       "      <td>S</td>\n",
       "    </tr>\n",
       "    <tr>\n",
       "      <th>315</th>\n",
       "      <td>Earth</td>\n",
       "      <td>NaN</td>\n",
       "      <td>TRAPPIST-1e</td>\n",
       "      <td>54.0</td>\n",
       "      <td>False</td>\n",
       "      <td>0.0</td>\n",
       "      <td>0.0</td>\n",
       "      <td>0.0</td>\n",
       "      <td>0.0</td>\n",
       "      <td>0.0</td>\n",
       "      <td>Hughy Mclardson</td>\n",
       "      <td>False</td>\n",
       "      <td>0770</td>\n",
       "      <td>03</td>\n",
       "      <td>G</td>\n",
       "      <td>117</td>\n",
       "      <td>S</td>\n",
       "    </tr>\n",
       "    <tr>\n",
       "      <th>361</th>\n",
       "      <td>Earth</td>\n",
       "      <td>NaN</td>\n",
       "      <td>TRAPPIST-1e</td>\n",
       "      <td>54.0</td>\n",
       "      <td>NaN</td>\n",
       "      <td>0.0</td>\n",
       "      <td>0.0</td>\n",
       "      <td>0.0</td>\n",
       "      <td>0.0</td>\n",
       "      <td>0.0</td>\n",
       "      <td>Troyce Wagnerray</td>\n",
       "      <td>False</td>\n",
       "      <td>1085</td>\n",
       "      <td>01</td>\n",
       "      <td>G</td>\n",
       "      <td>165</td>\n",
       "      <td>P</td>\n",
       "    </tr>\n",
       "    <tr>\n",
       "      <th>398</th>\n",
       "      <td>Earth</td>\n",
       "      <td>NaN</td>\n",
       "      <td>TRAPPIST-1e</td>\n",
       "      <td>22.0</td>\n",
       "      <td>False</td>\n",
       "      <td>0.0</td>\n",
       "      <td>0.0</td>\n",
       "      <td>0.0</td>\n",
       "      <td>0.0</td>\n",
       "      <td>0.0</td>\n",
       "      <td>Danna Toddleton</td>\n",
       "      <td>False</td>\n",
       "      <td>0764</td>\n",
       "      <td>01</td>\n",
       "      <td>G</td>\n",
       "      <td>115</td>\n",
       "      <td>S</td>\n",
       "    </tr>\n",
       "    <tr>\n",
       "      <th>559</th>\n",
       "      <td>Earth</td>\n",
       "      <td>NaN</td>\n",
       "      <td>TRAPPIST-1e</td>\n",
       "      <td>24.0</td>\n",
       "      <td>False</td>\n",
       "      <td>0.0</td>\n",
       "      <td>0.0</td>\n",
       "      <td>0.0</td>\n",
       "      <td>59.0</td>\n",
       "      <td>4120.0</td>\n",
       "      <td>Joelan Burrilllins</td>\n",
       "      <td>False</td>\n",
       "      <td>2390</td>\n",
       "      <td>01</td>\n",
       "      <td>G</td>\n",
       "      <td>385</td>\n",
       "      <td>P</td>\n",
       "    </tr>\n",
       "  </tbody>\n",
       "</table>\n",
       "</div>"
      ],
      "text/plain": [
       "    home_planet cryo_sleep  destination   age    vip  room_service  food_court  shopping_mall   spa  vr_deck                name  transported group_id number_in_group deck number side\n",
       "35         Mars        NaN  55 Cancri e  19.0  False           0.0         0.0            0.0   0.0      0.0         Nakes Dutte         True     0794              01    F    144    S\n",
       "38       Europa        NaN  TRAPPIST-1e  17.0  False           0.0         0.0            0.0   0.0      0.0       Alrais Modent         True     3439              02    B    130    S\n",
       "98       Europa        NaN  TRAPPIST-1e  17.0  False           0.0         0.0            0.0   0.0      0.0  Proxima Quidedbolt         True     7560              01    C    244    P\n",
       "162       Earth        NaN  TRAPPIST-1e  32.0  False           0.0         0.0            0.0   0.0      0.0   Shawne Simonsents        False     9076              01    G   1461    S\n",
       "197      Europa        NaN  55 Cancri e  26.0  False           0.0      3593.0           47.0  19.0    229.0   Hamakan Namsheary         True     4603              01    C    171    S\n",
       "256       Earth        NaN  TRAPPIST-1e  58.0  False           0.0       985.0            0.0   5.0      0.0      Hilip Grifford         True     0173              01    E     11    S\n",
       "315       Earth        NaN  TRAPPIST-1e  54.0  False           0.0         0.0            0.0   0.0      0.0     Hughy Mclardson        False     0770              03    G    117    S\n",
       "361       Earth        NaN  TRAPPIST-1e  54.0    NaN           0.0         0.0            0.0   0.0      0.0    Troyce Wagnerray        False     1085              01    G    165    P\n",
       "398       Earth        NaN  TRAPPIST-1e  22.0  False           0.0         0.0            0.0   0.0      0.0     Danna Toddleton        False     0764              01    G    115    S\n",
       "559       Earth        NaN  TRAPPIST-1e  24.0  False           0.0         0.0            0.0  59.0   4120.0  Joelan Burrilllins        False     2390              01    G    385    P"
      ]
     },
     "execution_count": 45,
     "metadata": {},
     "output_type": "execute_result"
    }
   ],
   "source": [
    "data_dict['train'].query('cryo_sleep != cryo_sleep').head(10)"
   ]
  },
  {
   "cell_type": "code",
   "execution_count": 46,
   "id": "ada5b24d-30ba-45de-a08d-2f7e7d70346e",
   "metadata": {},
   "outputs": [
    {
     "data": {
      "text/plain": [
       "False    4353\n",
       "True     2431\n",
       "Name: cryo_sleep, dtype: int64"
      ]
     },
     "execution_count": 46,
     "metadata": {},
     "output_type": "execute_result"
    }
   ],
   "source": [
    "data_dict['train']['cryo_sleep'].value_counts()"
   ]
  },
  {
   "cell_type": "code",
   "execution_count": 47,
   "id": "544ff8c3-5c71-4e0e-a3e9-bb963bd36f19",
   "metadata": {},
   "outputs": [
    {
     "data": {
      "text/plain": [
       "room_service     0.0\n",
       "food_court       0.0\n",
       "shopping_mall    0.0\n",
       "spa              0.0\n",
       "vr_deck          0.0\n",
       "dtype: float64"
      ]
     },
     "execution_count": 47,
     "metadata": {},
     "output_type": "execute_result"
    }
   ],
   "source": [
    "data_dict['train'].query('cryo_sleep == True')[['room_service', 'food_court', 'shopping_mall', 'spa', 'vr_deck']].sum()"
   ]
  },
  {
   "cell_type": "markdown",
   "id": "f2a15d2b-6564-4412-b045-d976d3508b1d",
   "metadata": {},
   "source": [
    "Пассажиры которые используют криосон не пользуются платными развлекательными услугами, так понимаю что можно использовать либо криосон и наслаждаться анимацией полета либо не использовать криосон и наслаждаться многочисленных роскошными удобствами космического корабля."
   ]
  },
  {
   "cell_type": "code",
   "execution_count": 48,
   "id": "dd71c75d-1756-406f-a9e6-954c37695f0e",
   "metadata": {},
   "outputs": [],
   "source": [
    "def cryo_sleep_fit(row):\n",
    "    if row['cryo_sleep'] != row['cryo_sleep']:\n",
    "        if row['room_service'] == row['food_court'] == row['shopping_mall'] == row['spa'] == row['vr_deck'] == 0:\n",
    "            return True\n",
    "        else:\n",
    "            return row['cryo_sleep']\n",
    "    else:\n",
    "        return row['cryo_sleep']"
   ]
  },
  {
   "cell_type": "code",
   "execution_count": 49,
   "id": "25a3deef-c5ef-41a9-86e1-983935f248ca",
   "metadata": {},
   "outputs": [
    {
     "name": "stdout",
     "output_type": "stream",
     "text": [
      "train\n",
      "\n",
      "170\n",
      "91\n",
      "test\n",
      "\n",
      "47\n",
      "28\n"
     ]
    }
   ],
   "source": [
    "for dataset in data_dict:\n",
    "    print(dataset)\n",
    "    print()\n",
    "    print(data_dict[dataset]['cryo_sleep'].isna().sum())\n",
    "    data_dict[dataset]['cryo_sleep'] = data_dict[dataset].apply(cryo_sleep_fit, axis=1)\n",
    "    print(data_dict[dataset]['cryo_sleep'].isna().sum())"
   ]
  },
  {
   "cell_type": "code",
   "execution_count": 50,
   "id": "f8b25b0f-e48c-448c-a4a9-25f4cf610696",
   "metadata": {},
   "outputs": [
    {
     "data": {
      "text/plain": [
       "Float64Index([    0.0,     1.0,     2.0,     3.0,     4.0,     5.0,     6.0,     7.0,     8.0,     9.0,\n",
       "              ...\n",
       "              12061.0, 12143.0, 12392.0, 12424.0, 12685.0, 12708.0, 14485.0, 17306.0, 20336.0, 24133.0], dtype='float64', name='vr_deck', length=1132)"
      ]
     },
     "execution_count": 50,
     "metadata": {},
     "output_type": "execute_result"
    }
   ],
   "source": [
    "home_planet_table.index"
   ]
  },
  {
   "cell_type": "markdown",
   "id": "495e5176-17b1-4f01-b130-65ba901e7a32",
   "metadata": {},
   "source": [
    "#### Дополнительный признак group_size"
   ]
  },
  {
   "cell_type": "code",
   "execution_count": 51,
   "id": "1de9e2f7-7c9f-413b-9c0d-8e127644303b",
   "metadata": {},
   "outputs": [],
   "source": [
    "for dataset in data_dict:\n",
    "    group_group_id = list(data_dict[dataset].query('number_in_group != \"01\" and number_in_group == number_in_group').group_id.unique())\n",
    "    for index, row in data_dict[dataset].iterrows():\n",
    "        group_id = row.group_id\n",
    "        if group_id in group_group_id:\n",
    "            data_dict[dataset].loc[index, 'group_size'] = data_dict[dataset].query('group_id == @group_id')['number_in_group'].max()\n",
    "        else:\n",
    "            data_dict[dataset].loc[index, 'group_size'] = 1"
   ]
  },
  {
   "cell_type": "code",
   "execution_count": 52,
   "id": "74061e15-3e7c-4be5-b17e-92aaed28910f",
   "metadata": {},
   "outputs": [
    {
     "data": {
      "text/html": [
       "<div>\n",
       "<style scoped>\n",
       "    .dataframe tbody tr th:only-of-type {\n",
       "        vertical-align: middle;\n",
       "    }\n",
       "\n",
       "    .dataframe tbody tr th {\n",
       "        vertical-align: top;\n",
       "    }\n",
       "\n",
       "    .dataframe thead th {\n",
       "        text-align: right;\n",
       "    }\n",
       "</style>\n",
       "<table border=\"1\" class=\"dataframe\">\n",
       "  <thead>\n",
       "    <tr style=\"text-align: right;\">\n",
       "      <th></th>\n",
       "      <th>count</th>\n",
       "      <th>sum</th>\n",
       "      <th>mean</th>\n",
       "    </tr>\n",
       "    <tr>\n",
       "      <th>group_size</th>\n",
       "      <th></th>\n",
       "      <th></th>\n",
       "      <th></th>\n",
       "    </tr>\n",
       "  </thead>\n",
       "  <tbody>\n",
       "    <tr>\n",
       "      <th>1.0</th>\n",
       "      <td>3997</td>\n",
       "      <td>1820</td>\n",
       "      <td>0.455342</td>\n",
       "    </tr>\n",
       "    <tr>\n",
       "      <th>02</th>\n",
       "      <td>1326</td>\n",
       "      <td>710</td>\n",
       "      <td>0.535445</td>\n",
       "    </tr>\n",
       "    <tr>\n",
       "      <th>03</th>\n",
       "      <td>746</td>\n",
       "      <td>457</td>\n",
       "      <td>0.612601</td>\n",
       "    </tr>\n",
       "    <tr>\n",
       "      <th>04</th>\n",
       "      <td>314</td>\n",
       "      <td>191</td>\n",
       "      <td>0.608280</td>\n",
       "    </tr>\n",
       "    <tr>\n",
       "      <th>05</th>\n",
       "      <td>180</td>\n",
       "      <td>114</td>\n",
       "      <td>0.633333</td>\n",
       "    </tr>\n",
       "    <tr>\n",
       "      <th>06</th>\n",
       "      <td>147</td>\n",
       "      <td>86</td>\n",
       "      <td>0.585034</td>\n",
       "    </tr>\n",
       "    <tr>\n",
       "      <th>07</th>\n",
       "      <td>172</td>\n",
       "      <td>92</td>\n",
       "      <td>0.534884</td>\n",
       "    </tr>\n",
       "    <tr>\n",
       "      <th>08</th>\n",
       "      <td>72</td>\n",
       "      <td>32</td>\n",
       "      <td>0.444444</td>\n",
       "    </tr>\n",
       "  </tbody>\n",
       "</table>\n",
       "</div>"
      ],
      "text/plain": [
       "            count   sum      mean\n",
       "group_size                       \n",
       "1.0          3997  1820  0.455342\n",
       "02           1326   710  0.535445\n",
       "03            746   457  0.612601\n",
       "04            314   191  0.608280\n",
       "05            180   114  0.633333\n",
       "06            147    86  0.585034\n",
       "07            172    92  0.534884\n",
       "08             72    32  0.444444"
      ]
     },
     "metadata": {},
     "output_type": "display_data"
    },
    {
     "data": {
      "image/png": "[encoded data removed]",
      "text/plain": [
       "<Figure size 1080x504 with 1 Axes>"
      ]
     },
     "metadata": {},
     "output_type": "display_data"
    }
   ],
   "source": [
    "home_planet_table = data_dict['train'].groupby(by=['group_size'])['transported'].agg(['count', 'sum', 'mean'])\n",
    "display(home_planet_table)\n",
    "home_planet_table['count'] = home_planet_table['count'] - home_planet_table['sum']\n",
    "home_planet_table = home_planet_table.rename(columns={\"count\": \"total\", \"sum\": \"transported\"})\n",
    "home_planet_table[['transported', 'total']].plot(kind='bar', stacked=True, legend=True, figsize=(15,7));"
   ]
  },
  {
   "cell_type": "markdown",
   "id": "f546fbb5-d557-478d-a3f6-3a02d256b7c5",
   "metadata": {},
   "source": [
    "#### Заполнение пропусков"
   ]
  },
  {
   "cell_type": "code",
   "execution_count": 53,
   "id": "3871be22-ca87-4e56-a5a5-f6983050b155",
   "metadata": {},
   "outputs": [
    {
     "data": {
      "text/plain": [
       "home_planet          0\n",
       "cryo_sleep          91\n",
       "destination        141\n",
       "age                  0\n",
       "vip                 93\n",
       "room_service         0\n",
       "food_court           0\n",
       "shopping_mall        0\n",
       "spa                  0\n",
       "vr_deck              0\n",
       "name               160\n",
       "transported          0\n",
       "group_id             0\n",
       "number_in_group      0\n",
       "deck                91\n",
       "number              91\n",
       "side                91\n",
       "group_size           0\n",
       "dtype: int64"
      ]
     },
     "execution_count": 53,
     "metadata": {},
     "output_type": "execute_result"
    }
   ],
   "source": [
    "data_dict['train'].isna().sum()"
   ]
  },
  {
   "cell_type": "code",
   "execution_count": 54,
   "id": "0f8b5171-496c-400e-960c-a5d382adf87d",
   "metadata": {},
   "outputs": [],
   "source": [
    "for dataset in data_dict:\n",
    "    data_dict[dataset]['home_planet'] = data_dict[dataset]['home_planet'].fillna('na')\n",
    "    data_dict[dataset]['cryo_sleep'] = data_dict[dataset]['cryo_sleep'].fillna(False)\n",
    "    data_dict[dataset]['destination'] = data_dict[dataset]['destination'].fillna('na')\n",
    "    data_dict[dataset]['vip'] = data_dict[dataset]['vip'].fillna(False)\n",
    "    data_dict[dataset]['name'] = data_dict[dataset]['name'].fillna('na')\n",
    "    data_dict[dataset]['deck'] = data_dict[dataset]['deck'].fillna('na')\n",
    "    data_dict[dataset]['number'] = data_dict[dataset]['number'].fillna(0)\n",
    "    data_dict[dataset]['side'] = data_dict[dataset]['side'].fillna('na')"
   ]
  },
  {
   "cell_type": "code",
   "execution_count": 55,
   "id": "211da186-b464-48cf-b3dd-69ff02d1351d",
   "metadata": {},
   "outputs": [
    {
     "data": {
      "text/plain": [
       "home_planet        0\n",
       "cryo_sleep         0\n",
       "destination        0\n",
       "age                0\n",
       "vip                0\n",
       "room_service       0\n",
       "food_court         0\n",
       "shopping_mall      0\n",
       "spa                0\n",
       "vr_deck            0\n",
       "name               0\n",
       "transported        0\n",
       "group_id           0\n",
       "number_in_group    0\n",
       "deck               0\n",
       "number             0\n",
       "side               0\n",
       "group_size         0\n",
       "dtype: int64"
      ]
     },
     "execution_count": 55,
     "metadata": {},
     "output_type": "execute_result"
    }
   ],
   "source": [
    "data_dict['train'].isna().sum()"
   ]
  },
  {
   "cell_type": "markdown",
   "id": "1ae33ff8-02d8-49fe-ac54-2943873021ea",
   "metadata": {},
   "source": [
    "#### Проверка на дубликаты"
   ]
  },
  {
   "cell_type": "code",
   "execution_count": 56,
   "id": "46206071-99d6-44db-a857-73519bd79b89",
   "metadata": {},
   "outputs": [
    {
     "data": {
      "text/plain": [
       "0"
      ]
     },
     "execution_count": 56,
     "metadata": {},
     "output_type": "execute_result"
    }
   ],
   "source": [
    "data_dict['train'].duplicated().sum()"
   ]
  },
  {
   "cell_type": "markdown",
   "id": "162317d0-42ff-4864-b9a3-1156b316ace7",
   "metadata": {},
   "source": [
    "#### Изменение типов данных"
   ]
  },
  {
   "cell_type": "code",
   "execution_count": 57,
   "id": "29a6ff28-401c-4b32-8b9a-4885bf701e37",
   "metadata": {},
   "outputs": [
    {
     "data": {
      "text/plain": [
       "home_planet         object\n",
       "cryo_sleep            bool\n",
       "destination         object\n",
       "age                float64\n",
       "vip                   bool\n",
       "room_service       float64\n",
       "food_court         float64\n",
       "shopping_mall      float64\n",
       "spa                float64\n",
       "vr_deck            float64\n",
       "name                object\n",
       "transported           bool\n",
       "group_id            object\n",
       "number_in_group     object\n",
       "deck                object\n",
       "number              object\n",
       "side                object\n",
       "group_size          object\n",
       "dtype: object"
      ]
     },
     "execution_count": 57,
     "metadata": {},
     "output_type": "execute_result"
    }
   ],
   "source": [
    "data_dict['train'].dtypes"
   ]
  },
  {
   "cell_type": "code",
   "execution_count": 58,
   "id": "b9dee50e-63cd-4372-8f2d-512229a47401",
   "metadata": {},
   "outputs": [],
   "source": [
    "for dataset in data_dict:\n",
    "    data_dict[dataset]['age'] = data_dict[dataset]['age'].astype('int')\n",
    "    data_dict[dataset]['room_service'] = data_dict[dataset]['room_service'].astype('int')\n",
    "    data_dict[dataset]['food_court'] = data_dict[dataset]['food_court'].astype('int')\n",
    "    data_dict[dataset]['shopping_mall'] = data_dict[dataset]['shopping_mall'].astype('int')\n",
    "    data_dict[dataset]['spa'] = data_dict[dataset]['spa'].astype('int')\n",
    "    data_dict[dataset]['vr_deck'] = data_dict[dataset]['vr_deck'].astype('int')\n",
    "    data_dict[dataset]['number_in_group'] = data_dict[dataset]['number_in_group'].astype('int')\n",
    "    data_dict[dataset]['group_size'] = data_dict[dataset]['group_size'].astype('int')\n",
    "    data_dict[dataset]['cryo_sleep'] = data_dict[dataset]['cryo_sleep'].astype('int')\n",
    "    data_dict[dataset]['vip'] = data_dict[dataset]['vip'].astype('int')\n",
    "    \n",
    "    data_dict[dataset] = data_dict[dataset].drop('name', axis=1)\n",
    "    data_dict[dataset] = data_dict[dataset].drop('group_id', axis=1)\n",
    "    data_dict[dataset] = data_dict[dataset].drop('number', axis=1)"
   ]
  },
  {
   "cell_type": "code",
   "execution_count": 59,
   "id": "cf127a16-78fd-48a9-8b03-ae8b6e32f95e",
   "metadata": {},
   "outputs": [
    {
     "data": {
      "text/plain": [
       "home_planet        object\n",
       "cryo_sleep          int32\n",
       "destination        object\n",
       "age                 int32\n",
       "vip                 int32\n",
       "room_service        int32\n",
       "food_court          int32\n",
       "shopping_mall       int32\n",
       "spa                 int32\n",
       "vr_deck             int32\n",
       "transported          bool\n",
       "number_in_group     int32\n",
       "deck               object\n",
       "side               object\n",
       "group_size          int32\n",
       "dtype: object"
      ]
     },
     "execution_count": 59,
     "metadata": {},
     "output_type": "execute_result"
    }
   ],
   "source": [
    "data_dict['train'].dtypes"
   ]
  },
  {
   "cell_type": "markdown",
   "id": "15afe3a6-2e11-4aaf-b154-9112decb195d",
   "metadata": {},
   "source": [
    "#### OHE"
   ]
  },
  {
   "cell_type": "code",
   "execution_count": 60,
   "id": "a6ea6e4e-1bee-4644-b91e-a8802f57b1a5",
   "metadata": {},
   "outputs": [],
   "source": [
    "columns_to_encode = ['home_planet', 'destination', 'deck', 'side']\n",
    "\n",
    "preop_data_dict = {}\n",
    "\n",
    "for dataset in data_dict:\n",
    "    \n",
    "    preop_data_dict[dataset + '_ohe'] = pd.get_dummies(data=data_dict[dataset], columns = columns_to_encode, drop_first=True)"
   ]
  },
  {
   "cell_type": "markdown",
   "id": "3d0c98ce-c8a8-4098-8387-05845ca66d26",
   "metadata": {},
   "source": [
    "#### OE"
   ]
  },
  {
   "cell_type": "code",
   "execution_count": 61,
   "id": "49a3d529-6063-46cb-9a2d-ec066abc6ae0",
   "metadata": {},
   "outputs": [],
   "source": [
    "from sklearn.preprocessing import OrdinalEncoder\n",
    "enc = OrdinalEncoder()\n",
    "\n",
    "for dataset in data_dict:\n",
    "    preop_data_dict[dataset + '_oe'] = data_dict[dataset]\n",
    "    for column in columns_to_encode:\n",
    "        preop_data_dict[dataset + '_oe'][[column]] = enc.fit_transform(preop_data_dict[dataset + '_oe'][[column]])\n",
    "    "
   ]
  },
  {
   "cell_type": "code",
   "execution_count": 62,
   "id": "e0d51545-ee0d-40a4-96e6-a1fbfc99fb83",
   "metadata": {},
   "outputs": [
    {
     "data": {
      "text/plain": [
       "dict_keys(['train_ohe', 'test_ohe', 'train_oe', 'test_oe'])"
      ]
     },
     "execution_count": 62,
     "metadata": {},
     "output_type": "execute_result"
    }
   ],
   "source": [
    "preop_data_dict.keys()"
   ]
  },
  {
   "cell_type": "markdown",
   "id": "199611a3-6373-415f-83f7-ea49c2c1500d",
   "metadata": {},
   "source": [
    "### Шаг 3. Разработка модели ML"
   ]
  },
  {
   "cell_type": "markdown",
   "id": "8c81e44e-4893-4fa2-9285-d7512a82d596",
   "metadata": {},
   "source": [
    "#### Матрица корреляции"
   ]
  },
  {
   "cell_type": "code",
   "execution_count": 63,
   "id": "89a5d326-23ab-4122-9dc9-1eff4c7e4f75",
   "metadata": {},
   "outputs": [
    {
     "data": {
      "image/png": "[encoded data removed]",
      "text/plain": [
       "<Figure size 1080x1080 with 2 Axes>"
      ]
     },
     "metadata": {},
     "output_type": "display_data"
    }
   ],
   "source": [
    "corr_matrix = preop_data_dict['train_ohe'].corr()\n",
    "\n",
    "mask = np.triu(np.ones_like(corr_matrix, dtype=np.bool_))\n",
    "\n",
    "f, ax = plt.subplots(figsize=(15, 15)) \n",
    "heatmap = sns.heatmap(round(corr_matrix, 2), \n",
    "                      mask = mask,\n",
    "                      square = True,\n",
    "                      linewidths = .5,\n",
    "                      cmap = 'coolwarm',\n",
    "                      cbar_kws = {'shrink': .4, \n",
    "                                'ticks' : [-1, -.5, 0, 0.5, 1]},\n",
    "                      vmin = -1, \n",
    "                      vmax = 1,\n",
    "                      annot = True,\n",
    "                      annot_kws = {'size': 10})\n",
    "\n",
    "ax.set_yticklabels(corr_matrix.columns, rotation = 0)\n",
    "ax.set_xticklabels(corr_matrix.columns)\n",
    "sns.set_style({'xtick.bottom': True}, {'ytick.left': True})"
   ]
  },
  {
   "cell_type": "code",
   "execution_count": 64,
   "id": "bc0e9850-1050-4792-b5e6-61bcea267743",
   "metadata": {},
   "outputs": [],
   "source": [
    "dtc = tree.DecisionTreeClassifier(random_state=12345)\n",
    "rfc = RandomForestClassifier(random_state=12345)\n",
    "gbc = GradientBoostingClassifier(random_state=12345)\n",
    "lr = LogisticRegression(random_state=12345)\n",
    "svm = SVC(random_state=12345)\n",
    "knn = KNeighborsClassifier(n_neighbors = 4)\n",
    "gnb = GaussianNB()\n",
    "abc = AdaBoostClassifier()\n",
    "lda = LinearDiscriminantAnalysis()"
   ]
  },
  {
   "cell_type": "code",
   "execution_count": 65,
   "id": "0128a2de-af3b-4338-b151-e5b633e63b95",
   "metadata": {},
   "outputs": [],
   "source": [
    "target_train_oe = preop_data_dict['train_oe']['transported']\n",
    "features_train_oe = preop_data_dict['train_oe'].drop('transported', axis=1)\n",
    "features_test_oe = preop_data_dict['test_oe']\n",
    "\n",
    "target_train_ohe = preop_data_dict['train_ohe']['transported']\n",
    "features_train_ohe = preop_data_dict['train_ohe'].drop('transported', axis=1)\n",
    "features_test_ohe = preop_data_dict['test_ohe']"
   ]
  },
  {
   "cell_type": "markdown",
   "id": "c9d4667e-e174-4c90-8a57-9a5b4517a0e5",
   "metadata": {},
   "source": [
    "#### StandardScaler"
   ]
  },
  {
   "cell_type": "code",
   "execution_count": 66,
   "id": "7a63d0c4-7005-4420-98a2-e4045076f3c1",
   "metadata": {},
   "outputs": [],
   "source": [
    "scaler = StandardScaler()\n",
    "columns_to_scale = ['age', 'room_service', 'food_court', 'shopping_mall', 'spa','vr_deck']\n",
    "\n",
    "features_train_oe[columns_to_scale] = scaler.fit_transform(features_train_oe[columns_to_scale])\n",
    "features_test_oe[columns_to_scale] = scaler.fit_transform(features_test_oe[columns_to_scale])\n",
    "\n",
    "features_train_ohe[columns_to_scale] = scaler.fit_transform(features_train_ohe[columns_to_scale])\n",
    "features_test_ohe[columns_to_scale] = scaler.fit_transform(features_test_ohe[columns_to_scale])"
   ]
  },
  {
   "cell_type": "markdown",
   "id": "e35619ac-d0fb-41f8-9352-5446625c4f50",
   "metadata": {},
   "source": [
    "#### Поиск модели"
   ]
  },
  {
   "cell_type": "code",
   "execution_count": 67,
   "id": "569f90d9-f0a5-49b2-bbf5-334b5611193e",
   "metadata": {},
   "outputs": [
    {
     "name": "stdout",
     "output_type": "stream",
     "text": [
      "Полнота модели Pipeline(steps=[('dtc', DecisionTreeClassifier(random_state=12345))]) на тренировочной выборке составила:         0.730802415875755 с параметрами {}\n",
      "CPU times: total: 188 ms\n",
      "Wall time: 232 ms\n"
     ]
    }
   ],
   "source": [
    "%%time\n",
    "f1 = make_scorer(f1_score, average='binary', pos_label=1)\n",
    "\n",
    "\n",
    "pipe = Pipeline(steps=[('dtc', dtc)]) # Создаем пайплайн\n",
    "\n",
    "# Задаем решетку параметров пайплайна\n",
    "param_grid = {}\n",
    "\n",
    "# Создаем нашу модель и передаем ей пайплайн, решетку параметров, также используем кросс-валидацию результата    \n",
    "grid_search_cv = GridSearchCV(pipe, param_grid, cv=6, scoring='accuracy')\n",
    "\n",
    "# Обучаем модель на тренировочной части выборки:\n",
    "grid_search_cv.fit(features_train_oe, target_train_oe)\n",
    "\n",
    "best_params_dtc = grid_search_cv.best_params_ # Лучшие параметры\n",
    "best_dtc = grid_search_cv.best_estimator_ # Лучшая модель\n",
    "best_dtc_score = grid_search_cv.best_score_ # Лучший результат\n",
    "\n",
    "print(f'Полнота модели {best_dtc} на тренировочной выборке составила: \\\n",
    "        {best_dtc_score} с параметрами {best_params_dtc}')"
   ]
  },
  {
   "cell_type": "code",
   "execution_count": 68,
   "id": "8d497b61-2228-4a2c-ad69-f7568fc9193e",
   "metadata": {},
   "outputs": [
    {
     "data": {
      "image/png": "[encoded data removed]",
      "text/plain": [
       "<Figure size 432x288 with 2 Axes>"
      ]
     },
     "metadata": {},
     "output_type": "display_data"
    }
   ],
   "source": [
    "from sklearn.metrics import confusion_matrix, ConfusionMatrixDisplay\n",
    "cm = confusion_matrix(target_train_oe, best_dtc.predict(features_train_oe))\n",
    "\n",
    "disp = ConfusionMatrixDisplay(confusion_matrix=cm)\n",
    "disp.plot()\n",
    "plt.show()"
   ]
  },
  {
   "cell_type": "code",
   "execution_count": 69,
   "id": "da52ec08-81d4-412a-9890-62ffd616bf72",
   "metadata": {},
   "outputs": [
    {
     "data": {
      "text/plain": [
       "<AxesSubplot:>"
      ]
     },
     "execution_count": 69,
     "metadata": {},
     "output_type": "execute_result"
    },
    {
     "data": {
      "image/png": "[encoded data removed]",
      "text/plain": [
       "<Figure size 1080x504 with 1 Axes>"
      ]
     },
     "metadata": {},
     "output_type": "display_data"
    }
   ],
   "source": [
    "pd.Series(best_dtc[0].feature_importances_,features_train_oe.columns).sort_values(ascending=True).plot.barh(width=0.8, figsize=(15,7))"
   ]
  },
  {
   "cell_type": "code",
   "execution_count": 70,
   "id": "61cd943e-56a3-4453-bb8e-c34a26ae6110",
   "metadata": {},
   "outputs": [
    {
     "name": "stdout",
     "output_type": "stream",
     "text": [
      "Полнота модели RandomForestClassifier(random_state=12345) на тренировочной выборке составила:         0.776962899050906 с параметрами {}\n",
      "CPU times: total: 969 ms\n",
      "Wall time: 21.2 s\n"
     ]
    }
   ],
   "source": [
    "%%time\n",
    "\n",
    "pipe = Pipeline(steps=[('scaler', scaler), ('rfc', rfc)]) # Создаем пайплайн\n",
    "\n",
    "# Задаем решетку параметров пайплайна\n",
    "param_grid = {}\n",
    "\n",
    "# Создаем нашу модель и передаем ей пайплайн, решетку параметров, также используем кросс-валидацию результата    \n",
    "grid_search_cv = GridSearchCV(pipe, param_grid, n_jobs=16, cv=6, scoring='accuracy')\n",
    "\n",
    "# Обучаем модель на тренировочной части выборки:\n",
    "grid_search_cv.fit(features_train_ohe, target_train_ohe)\n",
    "\n",
    "best_params_rfc = grid_search_cv.best_params_ # Лучшие параметры\n",
    "best_rfc = grid_search_cv.best_estimator_ # Лучшая модель\n",
    "best_rfc_score = grid_search_cv.best_score_ # Лучший результат\n",
    "\n",
    "print(f'Полнота модели {best_rfc[1]} на тренировочной выборке составила: \\\n",
    "        {best_rfc_score} с параметрами {best_params_rfc}')"
   ]
  },
  {
   "cell_type": "code",
   "execution_count": 71,
   "id": "f0c0bb41-41c6-484c-93ee-d0405393ae67",
   "metadata": {},
   "outputs": [
    {
     "name": "stderr",
     "output_type": "stream",
     "text": [
      "C:\\Users\\tsali\\anaconda3\\lib\\site-packages\\sklearn\\base.py:443: UserWarning: X has feature names, but RandomForestClassifier was fitted without feature names\n",
      "  warnings.warn(\n"
     ]
    },
    {
     "data": {
      "image/png": "[encoded data removed]",
      "text/plain": [
       "<Figure size 432x288 with 2 Axes>"
      ]
     },
     "metadata": {},
     "output_type": "display_data"
    }
   ],
   "source": [
    "from sklearn.metrics import confusion_matrix, ConfusionMatrixDisplay\n",
    "cm = confusion_matrix(target_train_ohe, best_rfc[1].predict(features_train_ohe))\n",
    "\n",
    "disp = ConfusionMatrixDisplay(confusion_matrix=cm)\n",
    "disp.plot()\n",
    "plt.show()"
   ]
  },
  {
   "cell_type": "code",
   "execution_count": 72,
   "id": "48563ac3-49ff-49f8-a6b1-faf58e79f5ec",
   "metadata": {},
   "outputs": [
    {
     "data": {
      "text/plain": [
       "<AxesSubplot:>"
      ]
     },
     "execution_count": 72,
     "metadata": {},
     "output_type": "execute_result"
    },
    {
     "data": {
      "image/png": "[encoded data removed]",
      "text/plain": [
       "<Figure size 1080x504 with 1 Axes>"
      ]
     },
     "metadata": {},
     "output_type": "display_data"
    }
   ],
   "source": [
    "pd.Series(best_rfc[1].feature_importances_,features_train_ohe.columns).sort_values(ascending=True).plot.barh(width=0.8, figsize=(15,7))"
   ]
  },
  {
   "cell_type": "code",
   "execution_count": 73,
   "id": "fc4f4db6-bfe9-43c5-bf7e-d7cd7658fddb",
   "metadata": {},
   "outputs": [
    {
     "ename": "KeyboardInterrupt",
     "evalue": "",
     "output_type": "error",
     "traceback": [
      "\u001b[1;31m---------------------------------------------------------------------------\u001b[0m",
      "\u001b[1;31mKeyboardInterrupt\u001b[0m                         Traceback (most recent call last)",
      "File \u001b[1;32m<timed exec>:10\u001b[0m, in \u001b[0;36m<module>\u001b[1;34m\u001b[0m\n",
      "File \u001b[1;32m~\\anaconda3\\lib\\site-packages\\sklearn\\model_selection\\_search.py:891\u001b[0m, in \u001b[0;36mBaseSearchCV.fit\u001b[1;34m(self, X, y, groups, **fit_params)\u001b[0m\n\u001b[0;32m    885\u001b[0m     results \u001b[38;5;241m=\u001b[39m \u001b[38;5;28mself\u001b[39m\u001b[38;5;241m.\u001b[39m_format_results(\n\u001b[0;32m    886\u001b[0m         all_candidate_params, n_splits, all_out, all_more_results\n\u001b[0;32m    887\u001b[0m     )\n\u001b[0;32m    889\u001b[0m     \u001b[38;5;28;01mreturn\u001b[39;00m results\n\u001b[1;32m--> 891\u001b[0m \u001b[38;5;28;43mself\u001b[39;49m\u001b[38;5;241;43m.\u001b[39;49m\u001b[43m_run_search\u001b[49m\u001b[43m(\u001b[49m\u001b[43mevaluate_candidates\u001b[49m\u001b[43m)\u001b[49m\n\u001b[0;32m    893\u001b[0m \u001b[38;5;66;03m# multimetric is determined here because in the case of a callable\u001b[39;00m\n\u001b[0;32m    894\u001b[0m \u001b[38;5;66;03m# self.scoring the return type is only known after calling\u001b[39;00m\n\u001b[0;32m    895\u001b[0m first_test_score \u001b[38;5;241m=\u001b[39m all_out[\u001b[38;5;241m0\u001b[39m][\u001b[38;5;124m\"\u001b[39m\u001b[38;5;124mtest_scores\u001b[39m\u001b[38;5;124m\"\u001b[39m]\n",
      "File \u001b[1;32m~\\anaconda3\\lib\\site-packages\\sklearn\\model_selection\\_search.py:1392\u001b[0m, in \u001b[0;36mGridSearchCV._run_search\u001b[1;34m(self, evaluate_candidates)\u001b[0m\n\u001b[0;32m   1390\u001b[0m \u001b[38;5;28;01mdef\u001b[39;00m \u001b[38;5;21m_run_search\u001b[39m(\u001b[38;5;28mself\u001b[39m, evaluate_candidates):\n\u001b[0;32m   1391\u001b[0m     \u001b[38;5;124;03m\"\"\"Search all candidates in param_grid\"\"\"\u001b[39;00m\n\u001b[1;32m-> 1392\u001b[0m     \u001b[43mevaluate_candidates\u001b[49m\u001b[43m(\u001b[49m\u001b[43mParameterGrid\u001b[49m\u001b[43m(\u001b[49m\u001b[38;5;28;43mself\u001b[39;49m\u001b[38;5;241;43m.\u001b[39;49m\u001b[43mparam_grid\u001b[49m\u001b[43m)\u001b[49m\u001b[43m)\u001b[49m\n",
      "File \u001b[1;32m~\\anaconda3\\lib\\site-packages\\sklearn\\model_selection\\_search.py:838\u001b[0m, in \u001b[0;36mBaseSearchCV.fit.<locals>.evaluate_candidates\u001b[1;34m(candidate_params, cv, more_results)\u001b[0m\n\u001b[0;32m    830\u001b[0m \u001b[38;5;28;01mif\u001b[39;00m \u001b[38;5;28mself\u001b[39m\u001b[38;5;241m.\u001b[39mverbose \u001b[38;5;241m>\u001b[39m \u001b[38;5;241m0\u001b[39m:\n\u001b[0;32m    831\u001b[0m     \u001b[38;5;28mprint\u001b[39m(\n\u001b[0;32m    832\u001b[0m         \u001b[38;5;124m\"\u001b[39m\u001b[38;5;124mFitting \u001b[39m\u001b[38;5;132;01m{0}\u001b[39;00m\u001b[38;5;124m folds for each of \u001b[39m\u001b[38;5;132;01m{1}\u001b[39;00m\u001b[38;5;124m candidates,\u001b[39m\u001b[38;5;124m\"\u001b[39m\n\u001b[0;32m    833\u001b[0m         \u001b[38;5;124m\"\u001b[39m\u001b[38;5;124m totalling \u001b[39m\u001b[38;5;132;01m{2}\u001b[39;00m\u001b[38;5;124m fits\u001b[39m\u001b[38;5;124m\"\u001b[39m\u001b[38;5;241m.\u001b[39mformat(\n\u001b[0;32m    834\u001b[0m             n_splits, n_candidates, n_candidates \u001b[38;5;241m*\u001b[39m n_splits\n\u001b[0;32m    835\u001b[0m         )\n\u001b[0;32m    836\u001b[0m     )\n\u001b[1;32m--> 838\u001b[0m out \u001b[38;5;241m=\u001b[39m \u001b[43mparallel\u001b[49m\u001b[43m(\u001b[49m\n\u001b[0;32m    839\u001b[0m \u001b[43m    \u001b[49m\u001b[43mdelayed\u001b[49m\u001b[43m(\u001b[49m\u001b[43m_fit_and_score\u001b[49m\u001b[43m)\u001b[49m\u001b[43m(\u001b[49m\n\u001b[0;32m    840\u001b[0m \u001b[43m        \u001b[49m\u001b[43mclone\u001b[49m\u001b[43m(\u001b[49m\u001b[43mbase_estimator\u001b[49m\u001b[43m)\u001b[49m\u001b[43m,\u001b[49m\n\u001b[0;32m    841\u001b[0m \u001b[43m        \u001b[49m\u001b[43mX\u001b[49m\u001b[43m,\u001b[49m\n\u001b[0;32m    842\u001b[0m \u001b[43m        \u001b[49m\u001b[43my\u001b[49m\u001b[43m,\u001b[49m\n\u001b[0;32m    843\u001b[0m \u001b[43m        \u001b[49m\u001b[43mtrain\u001b[49m\u001b[38;5;241;43m=\u001b[39;49m\u001b[43mtrain\u001b[49m\u001b[43m,\u001b[49m\n\u001b[0;32m    844\u001b[0m \u001b[43m        \u001b[49m\u001b[43mtest\u001b[49m\u001b[38;5;241;43m=\u001b[39;49m\u001b[43mtest\u001b[49m\u001b[43m,\u001b[49m\n\u001b[0;32m    845\u001b[0m \u001b[43m        \u001b[49m\u001b[43mparameters\u001b[49m\u001b[38;5;241;43m=\u001b[39;49m\u001b[43mparameters\u001b[49m\u001b[43m,\u001b[49m\n\u001b[0;32m    846\u001b[0m \u001b[43m        \u001b[49m\u001b[43msplit_progress\u001b[49m\u001b[38;5;241;43m=\u001b[39;49m\u001b[43m(\u001b[49m\u001b[43msplit_idx\u001b[49m\u001b[43m,\u001b[49m\u001b[43m \u001b[49m\u001b[43mn_splits\u001b[49m\u001b[43m)\u001b[49m\u001b[43m,\u001b[49m\n\u001b[0;32m    847\u001b[0m \u001b[43m        \u001b[49m\u001b[43mcandidate_progress\u001b[49m\u001b[38;5;241;43m=\u001b[39;49m\u001b[43m(\u001b[49m\u001b[43mcand_idx\u001b[49m\u001b[43m,\u001b[49m\u001b[43m \u001b[49m\u001b[43mn_candidates\u001b[49m\u001b[43m)\u001b[49m\u001b[43m,\u001b[49m\n\u001b[0;32m    848\u001b[0m \u001b[43m        \u001b[49m\u001b[38;5;241;43m*\u001b[39;49m\u001b[38;5;241;43m*\u001b[39;49m\u001b[43mfit_and_score_kwargs\u001b[49m\u001b[43m,\u001b[49m\n\u001b[0;32m    849\u001b[0m \u001b[43m    \u001b[49m\u001b[43m)\u001b[49m\n\u001b[0;32m    850\u001b[0m \u001b[43m    \u001b[49m\u001b[38;5;28;43;01mfor\u001b[39;49;00m\u001b[43m \u001b[49m\u001b[43m(\u001b[49m\u001b[43mcand_idx\u001b[49m\u001b[43m,\u001b[49m\u001b[43m \u001b[49m\u001b[43mparameters\u001b[49m\u001b[43m)\u001b[49m\u001b[43m,\u001b[49m\u001b[43m \u001b[49m\u001b[43m(\u001b[49m\u001b[43msplit_idx\u001b[49m\u001b[43m,\u001b[49m\u001b[43m \u001b[49m\u001b[43m(\u001b[49m\u001b[43mtrain\u001b[49m\u001b[43m,\u001b[49m\u001b[43m \u001b[49m\u001b[43mtest\u001b[49m\u001b[43m)\u001b[49m\u001b[43m)\u001b[49m\u001b[43m \u001b[49m\u001b[38;5;129;43;01min\u001b[39;49;00m\u001b[43m \u001b[49m\u001b[43mproduct\u001b[49m\u001b[43m(\u001b[49m\n\u001b[0;32m    851\u001b[0m \u001b[43m        \u001b[49m\u001b[38;5;28;43menumerate\u001b[39;49m\u001b[43m(\u001b[49m\u001b[43mcandidate_params\u001b[49m\u001b[43m)\u001b[49m\u001b[43m,\u001b[49m\u001b[43m \u001b[49m\u001b[38;5;28;43menumerate\u001b[39;49m\u001b[43m(\u001b[49m\u001b[43mcv\u001b[49m\u001b[38;5;241;43m.\u001b[39;49m\u001b[43msplit\u001b[49m\u001b[43m(\u001b[49m\u001b[43mX\u001b[49m\u001b[43m,\u001b[49m\u001b[43m \u001b[49m\u001b[43my\u001b[49m\u001b[43m,\u001b[49m\u001b[43m \u001b[49m\u001b[43mgroups\u001b[49m\u001b[43m)\u001b[49m\u001b[43m)\u001b[49m\n\u001b[0;32m    852\u001b[0m \u001b[43m    \u001b[49m\u001b[43m)\u001b[49m\n\u001b[0;32m    853\u001b[0m \u001b[43m\u001b[49m\u001b[43m)\u001b[49m\n\u001b[0;32m    855\u001b[0m \u001b[38;5;28;01mif\u001b[39;00m \u001b[38;5;28mlen\u001b[39m(out) \u001b[38;5;241m<\u001b[39m \u001b[38;5;241m1\u001b[39m:\n\u001b[0;32m    856\u001b[0m     \u001b[38;5;28;01mraise\u001b[39;00m \u001b[38;5;167;01mValueError\u001b[39;00m(\n\u001b[0;32m    857\u001b[0m         \u001b[38;5;124m\"\u001b[39m\u001b[38;5;124mNo fits were performed. \u001b[39m\u001b[38;5;124m\"\u001b[39m\n\u001b[0;32m    858\u001b[0m         \u001b[38;5;124m\"\u001b[39m\u001b[38;5;124mWas the CV iterator empty? \u001b[39m\u001b[38;5;124m\"\u001b[39m\n\u001b[0;32m    859\u001b[0m         \u001b[38;5;124m\"\u001b[39m\u001b[38;5;124mWere there no candidates?\u001b[39m\u001b[38;5;124m\"\u001b[39m\n\u001b[0;32m    860\u001b[0m     )\n",
      "File \u001b[1;32m~\\anaconda3\\lib\\site-packages\\joblib\\parallel.py:1056\u001b[0m, in \u001b[0;36mParallel.__call__\u001b[1;34m(self, iterable)\u001b[0m\n\u001b[0;32m   1053\u001b[0m     \u001b[38;5;28mself\u001b[39m\u001b[38;5;241m.\u001b[39m_iterating \u001b[38;5;241m=\u001b[39m \u001b[38;5;28;01mFalse\u001b[39;00m\n\u001b[0;32m   1055\u001b[0m \u001b[38;5;28;01mwith\u001b[39;00m \u001b[38;5;28mself\u001b[39m\u001b[38;5;241m.\u001b[39m_backend\u001b[38;5;241m.\u001b[39mretrieval_context():\n\u001b[1;32m-> 1056\u001b[0m     \u001b[38;5;28;43mself\u001b[39;49m\u001b[38;5;241;43m.\u001b[39;49m\u001b[43mretrieve\u001b[49m\u001b[43m(\u001b[49m\u001b[43m)\u001b[49m\n\u001b[0;32m   1057\u001b[0m \u001b[38;5;66;03m# Make sure that we get a last message telling us we are done\u001b[39;00m\n\u001b[0;32m   1058\u001b[0m elapsed_time \u001b[38;5;241m=\u001b[39m time\u001b[38;5;241m.\u001b[39mtime() \u001b[38;5;241m-\u001b[39m \u001b[38;5;28mself\u001b[39m\u001b[38;5;241m.\u001b[39m_start_time\n",
      "File \u001b[1;32m~\\anaconda3\\lib\\site-packages\\joblib\\parallel.py:935\u001b[0m, in \u001b[0;36mParallel.retrieve\u001b[1;34m(self)\u001b[0m\n\u001b[0;32m    933\u001b[0m \u001b[38;5;28;01mtry\u001b[39;00m:\n\u001b[0;32m    934\u001b[0m     \u001b[38;5;28;01mif\u001b[39;00m \u001b[38;5;28mgetattr\u001b[39m(\u001b[38;5;28mself\u001b[39m\u001b[38;5;241m.\u001b[39m_backend, \u001b[38;5;124m'\u001b[39m\u001b[38;5;124msupports_timeout\u001b[39m\u001b[38;5;124m'\u001b[39m, \u001b[38;5;28;01mFalse\u001b[39;00m):\n\u001b[1;32m--> 935\u001b[0m         \u001b[38;5;28mself\u001b[39m\u001b[38;5;241m.\u001b[39m_output\u001b[38;5;241m.\u001b[39mextend(\u001b[43mjob\u001b[49m\u001b[38;5;241;43m.\u001b[39;49m\u001b[43mget\u001b[49m\u001b[43m(\u001b[49m\u001b[43mtimeout\u001b[49m\u001b[38;5;241;43m=\u001b[39;49m\u001b[38;5;28;43mself\u001b[39;49m\u001b[38;5;241;43m.\u001b[39;49m\u001b[43mtimeout\u001b[49m\u001b[43m)\u001b[49m)\n\u001b[0;32m    936\u001b[0m     \u001b[38;5;28;01melse\u001b[39;00m:\n\u001b[0;32m    937\u001b[0m         \u001b[38;5;28mself\u001b[39m\u001b[38;5;241m.\u001b[39m_output\u001b[38;5;241m.\u001b[39mextend(job\u001b[38;5;241m.\u001b[39mget())\n",
      "File \u001b[1;32m~\\anaconda3\\lib\\site-packages\\joblib\\_parallel_backends.py:542\u001b[0m, in \u001b[0;36mLokyBackend.wrap_future_result\u001b[1;34m(future, timeout)\u001b[0m\n\u001b[0;32m    539\u001b[0m \u001b[38;5;124;03m\"\"\"Wrapper for Future.result to implement the same behaviour as\u001b[39;00m\n\u001b[0;32m    540\u001b[0m \u001b[38;5;124;03mAsyncResults.get from multiprocessing.\"\"\"\u001b[39;00m\n\u001b[0;32m    541\u001b[0m \u001b[38;5;28;01mtry\u001b[39;00m:\n\u001b[1;32m--> 542\u001b[0m     \u001b[38;5;28;01mreturn\u001b[39;00m \u001b[43mfuture\u001b[49m\u001b[38;5;241;43m.\u001b[39;49m\u001b[43mresult\u001b[49m\u001b[43m(\u001b[49m\u001b[43mtimeout\u001b[49m\u001b[38;5;241;43m=\u001b[39;49m\u001b[43mtimeout\u001b[49m\u001b[43m)\u001b[49m\n\u001b[0;32m    543\u001b[0m \u001b[38;5;28;01mexcept\u001b[39;00m CfTimeoutError \u001b[38;5;28;01mas\u001b[39;00m e:\n\u001b[0;32m    544\u001b[0m     \u001b[38;5;28;01mraise\u001b[39;00m \u001b[38;5;167;01mTimeoutError\u001b[39;00m \u001b[38;5;28;01mfrom\u001b[39;00m \u001b[38;5;21;01me\u001b[39;00m\n",
      "File \u001b[1;32m~\\anaconda3\\lib\\concurrent\\futures\\_base.py:441\u001b[0m, in \u001b[0;36mFuture.result\u001b[1;34m(self, timeout)\u001b[0m\n\u001b[0;32m    438\u001b[0m \u001b[38;5;28;01melif\u001b[39;00m \u001b[38;5;28mself\u001b[39m\u001b[38;5;241m.\u001b[39m_state \u001b[38;5;241m==\u001b[39m FINISHED:\n\u001b[0;32m    439\u001b[0m     \u001b[38;5;28;01mreturn\u001b[39;00m \u001b[38;5;28mself\u001b[39m\u001b[38;5;241m.\u001b[39m__get_result()\n\u001b[1;32m--> 441\u001b[0m \u001b[38;5;28;43mself\u001b[39;49m\u001b[38;5;241;43m.\u001b[39;49m\u001b[43m_condition\u001b[49m\u001b[38;5;241;43m.\u001b[39;49m\u001b[43mwait\u001b[49m\u001b[43m(\u001b[49m\u001b[43mtimeout\u001b[49m\u001b[43m)\u001b[49m\n\u001b[0;32m    443\u001b[0m \u001b[38;5;28;01mif\u001b[39;00m \u001b[38;5;28mself\u001b[39m\u001b[38;5;241m.\u001b[39m_state \u001b[38;5;129;01min\u001b[39;00m [CANCELLED, CANCELLED_AND_NOTIFIED]:\n\u001b[0;32m    444\u001b[0m     \u001b[38;5;28;01mraise\u001b[39;00m CancelledError()\n",
      "File \u001b[1;32m~\\anaconda3\\lib\\threading.py:312\u001b[0m, in \u001b[0;36mCondition.wait\u001b[1;34m(self, timeout)\u001b[0m\n\u001b[0;32m    310\u001b[0m \u001b[38;5;28;01mtry\u001b[39;00m:    \u001b[38;5;66;03m# restore state no matter what (e.g., KeyboardInterrupt)\u001b[39;00m\n\u001b[0;32m    311\u001b[0m     \u001b[38;5;28;01mif\u001b[39;00m timeout \u001b[38;5;129;01mis\u001b[39;00m \u001b[38;5;28;01mNone\u001b[39;00m:\n\u001b[1;32m--> 312\u001b[0m         \u001b[43mwaiter\u001b[49m\u001b[38;5;241;43m.\u001b[39;49m\u001b[43macquire\u001b[49m\u001b[43m(\u001b[49m\u001b[43m)\u001b[49m\n\u001b[0;32m    313\u001b[0m         gotit \u001b[38;5;241m=\u001b[39m \u001b[38;5;28;01mTrue\u001b[39;00m\n\u001b[0;32m    314\u001b[0m     \u001b[38;5;28;01melse\u001b[39;00m:\n",
      "\u001b[1;31mKeyboardInterrupt\u001b[0m: "
     ]
    }
   ],
   "source": [
    "%%time\n",
    "\n",
    "pipe = Pipeline(steps=[('gbc', gbc)]) # Создаем пайплайн\n",
    "\n",
    "# Задаем решетку параметров пайплайна\n",
    "param_grid = {}\n",
    "\n",
    "# Создаем нашу модель и передаем ей пайплайн, решетку параметров, также используем кросс-валидацию результата    \n",
    "grid_search_cv = GridSearchCV(pipe, param_grid, n_jobs=16, cv=6, scoring='accuracy')\n",
    "\n",
    "# Обучаем модель на тренировочной части выборки:\n",
    "grid_search_cv.fit(features_train_ohe, target_train_ohe)\n",
    "\n",
    "best_params_gbc = grid_search_cv.best_params_ # Лучшие параметры\n",
    "best_gbc = grid_search_cv.best_estimator_ # Лучшая модель\n",
    "best_gbc_score = grid_search_cv.best_score_ # Лучший результатат\n",
    "\n",
    "print(f'Полнота модели {best_gbc} на тренировочной выборке составила: \\\n",
    "        {best_gbc_score} с параметрами {best_params_gbc}')"
   ]
  },
  {
   "cell_type": "code",
   "execution_count": 74,
   "id": "e533f611-43e5-42c0-ae13-4f5f16238302",
   "metadata": {},
   "outputs": [
    {
     "ename": "NameError",
     "evalue": "name 'best_gbc' is not defined",
     "output_type": "error",
     "traceback": [
      "\u001b[1;31m---------------------------------------------------------------------------\u001b[0m",
      "\u001b[1;31mNameError\u001b[0m                                 Traceback (most recent call last)",
      "Input \u001b[1;32mIn [74]\u001b[0m, in \u001b[0;36m<cell line: 2>\u001b[1;34m()\u001b[0m\n\u001b[0;32m      1\u001b[0m \u001b[38;5;28;01mfrom\u001b[39;00m \u001b[38;5;21;01msklearn\u001b[39;00m\u001b[38;5;21;01m.\u001b[39;00m\u001b[38;5;21;01mmetrics\u001b[39;00m \u001b[38;5;28;01mimport\u001b[39;00m confusion_matrix, ConfusionMatrixDisplay\n\u001b[1;32m----> 2\u001b[0m cm \u001b[38;5;241m=\u001b[39m confusion_matrix(target_train_ohe, \u001b[43mbest_gbc\u001b[49m\u001b[38;5;241m.\u001b[39mpredict(features_train_ohe))\n\u001b[0;32m      4\u001b[0m disp \u001b[38;5;241m=\u001b[39m ConfusionMatrixDisplay(confusion_matrix\u001b[38;5;241m=\u001b[39mcm)\n\u001b[0;32m      5\u001b[0m disp\u001b[38;5;241m.\u001b[39mplot()\n",
      "\u001b[1;31mNameError\u001b[0m: name 'best_gbc' is not defined"
     ]
    }
   ],
   "source": [
    "from sklearn.metrics import confusion_matrix, ConfusionMatrixDisplay\n",
    "cm = confusion_matrix(target_train_ohe, best_gbc.predict(features_train_ohe))\n",
    "\n",
    "disp = ConfusionMatrixDisplay(confusion_matrix=cm)\n",
    "disp.plot()\n",
    "plt.show()"
   ]
  },
  {
   "cell_type": "code",
   "execution_count": null,
   "id": "1b734343-4147-49c5-8893-37319ffc1e64",
   "metadata": {},
   "outputs": [],
   "source": [
    "pd.Series(best_gbc[0].feature_importances_,features_train_ohe.columns).sort_values(ascending=True).plot.barh(width=0.8, figsize=(15,7))"
   ]
  },
  {
   "cell_type": "code",
   "execution_count": null,
   "id": "5be6297a-1b2c-43e8-b896-e0a89d7f4d0b",
   "metadata": {},
   "outputs": [],
   "source": [
    "%%time\n",
    "\n",
    "pipe = Pipeline(steps=[('scaler', scaler), ('lr', lr)]) # Создаем пайплайн\n",
    "\n",
    "# Задаем решетку параметров пайплайна\n",
    "param_grid = {}\n",
    "\n",
    "# Создаем нашу модель и передаем ей пайплайн, решетку параметров, также используем кросс-валидацию результата    \n",
    "grid_search_cv = GridSearchCV(pipe, param_grid, n_jobs=16, cv=6, scoring='accuracy')\n",
    "\n",
    "# Обучаем модель на тренировочной части выборки:\n",
    "grid_search_cv.fit(features_train_ohe, target_train_ohe)\n",
    "\n",
    "best_params_lr = grid_search_cv.best_params_ # Лучшие параметры\n",
    "best_lr = grid_search_cv.best_estimator_ # Лучшая модель\n",
    "best_lr_score = grid_search_cv.best_score_ # Лучший результатат\n",
    "\n",
    "print(f'Полнота модели {best_lr[1]} на тренировочной выборке составила: \\\n",
    "        {best_lr_score} с параметрами {best_params_lr}')"
   ]
  },
  {
   "cell_type": "code",
   "execution_count": null,
   "id": "0fb8c504-6d3a-46bb-8dbf-643c1d11b774",
   "metadata": {},
   "outputs": [],
   "source": [
    "from sklearn.metrics import confusion_matrix, ConfusionMatrixDisplay\n",
    "cm = confusion_matrix(target_train_ohe, best_lr.predict(features_train_ohe))\n",
    "\n",
    "disp = ConfusionMatrixDisplay(confusion_matrix=cm)\n",
    "disp.plot()\n",
    "plt.show()"
   ]
  },
  {
   "cell_type": "code",
   "execution_count": null,
   "id": "b71d1e49-4671-4b5e-aeea-a911874f580b",
   "metadata": {},
   "outputs": [],
   "source": [
    "%%time\n",
    "\n",
    "pipe = Pipeline(steps=[('scaler', scaler), ('svc', svm)]) # Создаем пайплайн\n",
    "\n",
    "# Задаем решетку параметров пайплайна\n",
    "param_grid = {}\n",
    "\n",
    "# Создаем нашу модель и передаем ей пайплайн, решетку параметров, также используем кросс-валидацию результата    \n",
    "grid_search_cv = GridSearchCV(pipe, param_grid, n_jobs=16, cv=6, scoring='accuracy')\n",
    "\n",
    "# Обучаем модель на тренировочной части выборки:\n",
    "grid_search_cv.fit(features_train_oe, target_train_oe)\n",
    "\n",
    "best_params_svm = grid_search_cv.best_params_ # Лучшие параметры\n",
    "best_svm = grid_search_cv.best_estimator_ # Лучшая модель\n",
    "best_svm_score = grid_search_cv.best_score_ # Лучший результатат\n",
    "\n",
    "print(f'Полнота модели {best_svm[1]} на тренировочной выборке составила: \\\n",
    "        {best_svm_score} с параметрами {best_params_svm}')"
   ]
  },
  {
   "cell_type": "code",
   "execution_count": null,
   "id": "645fe057-b231-405f-b672-02d3705df9c7",
   "metadata": {},
   "outputs": [],
   "source": [
    "from sklearn.metrics import confusion_matrix, ConfusionMatrixDisplay\n",
    "cm = confusion_matrix(target_train_ohe, best_svm.predict(features_train_oe))\n",
    "\n",
    "disp = ConfusionMatrixDisplay(confusion_matrix=cm)\n",
    "disp.plot()\n",
    "plt.show()"
   ]
  },
  {
   "cell_type": "code",
   "execution_count": null,
   "id": "a278c8b5-91ca-42a4-8533-f26415338913",
   "metadata": {},
   "outputs": [],
   "source": [
    "%%time\n",
    "\n",
    "pipe = Pipeline(steps=[('knn', knn)]) # Создаем пайплайн\n",
    "\n",
    "# Задаем решетку параметров пайплайна\n",
    "param_grid = {}\n",
    "\n",
    "# Создаем нашу модель и передаем ей пайплайн, решетку параметров, также используем кросс-валидацию результата    \n",
    "grid_search_cv = GridSearchCV(pipe, param_grid, n_jobs=16, cv=6, scoring='accuracy')\n",
    "\n",
    "# Обучаем модель на тренировочной части выборки:\n",
    "grid_search_cv.fit(features_train_oe, target_train_oe)\n",
    "\n",
    "best_params_knn = grid_search_cv.best_params_ # Лучшие параметры\n",
    "best_knn = grid_search_cv.best_estimator_ # Лучшая модель\n",
    "best_knn_score = grid_search_cv.best_score_ # Лучший результатат\n",
    "\n",
    "print(f'Полнота модели {best_knn} на тренировочной выборке составила: \\\n",
    "        {best_knn_score} с параметрами {best_params_knn}')"
   ]
  },
  {
   "cell_type": "code",
   "execution_count": null,
   "id": "038f7bec-0582-487a-a716-929579f450ed",
   "metadata": {},
   "outputs": [],
   "source": [
    "from sklearn.metrics import confusion_matrix, ConfusionMatrixDisplay\n",
    "cm = confusion_matrix(target_train_ohe, best_knn.predict(features_train_oe))\n",
    "\n",
    "disp = ConfusionMatrixDisplay(confusion_matrix=cm)\n",
    "disp.plot()\n",
    "plt.show()"
   ]
  },
  {
   "cell_type": "code",
   "execution_count": null,
   "id": "b2c0f5c1-1cba-4fe1-b3d2-1d0aafb52af9",
   "metadata": {},
   "outputs": [],
   "source": [
    "%%time\n",
    "\n",
    "pipe = Pipeline(steps=[('gnb', gnb)]) # Создаем пайплайн\n",
    "\n",
    "# Задаем решетку параметров пайплайна\n",
    "param_grid = {}\n",
    "\n",
    "# Создаем нашу модель и передаем ей пайплайн, решетку параметров, также используем кросс-валидацию результата    \n",
    "grid_search_cv = GridSearchCV(pipe, param_grid, n_jobs=16, cv=6, scoring='accuracy')\n",
    "\n",
    "# Обучаем модель на тренировочной части выборки:\n",
    "grid_search_cv.fit(features_train_ohe, target_train_ohe)\n",
    "\n",
    "best_params_gnb = grid_search_cv.best_params_ # Лучшие параметры\n",
    "best_gnb = grid_search_cv.best_estimator_ # Лучшая модель\n",
    "best_gnb_score = grid_search_cv.best_score_ # Лучший результатат\n",
    "\n",
    "print(f'Полнота модели {best_gnb} на тренировочной выборке составила: \\\n",
    "        {best_gnb_score} с параметрами {best_params_gnb}')"
   ]
  },
  {
   "cell_type": "code",
   "execution_count": null,
   "id": "ed2f1579-7f89-4112-ad2f-2b667d546b0b",
   "metadata": {},
   "outputs": [],
   "source": [
    "from sklearn.metrics import confusion_matrix, ConfusionMatrixDisplay\n",
    "cm = confusion_matrix(target_train_ohe, best_gnb.predict(features_train_ohe))\n",
    "\n",
    "disp = ConfusionMatrixDisplay(confusion_matrix=cm)\n",
    "disp.plot()\n",
    "plt.show()"
   ]
  },
  {
   "cell_type": "code",
   "execution_count": null,
   "id": "e4de1260-0149-4f35-9676-b96a77fd8011",
   "metadata": {},
   "outputs": [],
   "source": [
    "%%time\n",
    "\n",
    "pipe = Pipeline(steps=[('abc', abc)]) # Создаем пайплайн\n",
    "\n",
    "# Задаем решетку параметров пайплайна\n",
    "param_grid = {}\n",
    "\n",
    "# Создаем нашу модель и передаем ей пайплайн, решетку параметров, также используем кросс-валидацию результата    \n",
    "grid_search_cv = GridSearchCV(pipe, param_grid, n_jobs=16, cv=6, scoring='accuracy')\n",
    "\n",
    "# Обучаем модель на тренировочной части выборки:\n",
    "grid_search_cv.fit(features_train_ohe, target_train_ohe)\n",
    "\n",
    "best_params_abc = grid_search_cv.best_params_ # Лучшие параметры\n",
    "best_abc = grid_search_cv.best_estimator_ # Лучшая модель\n",
    "best_abc_score = grid_search_cv.best_score_ # Лучший результатат\n",
    "\n",
    "print(f'Полнота модели {best_abc} на тренировочной выборке составила: \\\n",
    "        {best_abc_score} с параметрами {best_params_abc}')"
   ]
  },
  {
   "cell_type": "code",
   "execution_count": null,
   "id": "ae5de711-5f45-4009-b1f4-64735465ed9f",
   "metadata": {},
   "outputs": [],
   "source": [
    "from sklearn.metrics import confusion_matrix, ConfusionMatrixDisplay\n",
    "cm = confusion_matrix(target_train_ohe, best_abc.predict(features_train_ohe))\n",
    "\n",
    "disp = ConfusionMatrixDisplay(confusion_matrix=cm)\n",
    "disp.plot()\n",
    "plt.show()"
   ]
  },
  {
   "cell_type": "code",
   "execution_count": null,
   "id": "70d41f42-6364-47e8-b08d-37e7da68aed1",
   "metadata": {},
   "outputs": [],
   "source": [
    "%%time\n",
    "\n",
    "pipe = Pipeline(steps=[('lda', lda)]) # Создаем пайплайн\n",
    "\n",
    "# Задаем решетку параметров пайплайна\n",
    "param_grid = {}\n",
    "\n",
    "# Создаем нашу модель и передаем ей пайплайн, решетку параметров, также используем кросс-валидацию результата    \n",
    "grid_search_cv = GridSearchCV(pipe, param_grid, n_jobs=16, cv=6, scoring='accuracy')\n",
    "\n",
    "# Обучаем модель на тренировочной части выборки:\n",
    "grid_search_cv.fit(features_train_ohe, target_train_ohe)\n",
    "\n",
    "best_params_lda = grid_search_cv.best_params_ # Лучшие параметры\n",
    "best_lda = grid_search_cv.best_estimator_ # Лучшая модель\n",
    "best_lda_score = grid_search_cv.best_score_ # Лучший результатат\n",
    "\n",
    "print(f'Полнота модели {best_lda} на тренировочной выборке составила: \\\n",
    "        {best_lda_score} с параметрами {best_params_lda}')"
   ]
  },
  {
   "cell_type": "code",
   "execution_count": null,
   "id": "36baa395-8a61-484b-838b-08519b0b7d00",
   "metadata": {},
   "outputs": [],
   "source": [
    "from sklearn.metrics import confusion_matrix, ConfusionMatrixDisplay\n",
    "cm = confusion_matrix(target_train_ohe, best_lda.predict(features_train_ohe))\n",
    "\n",
    "disp = ConfusionMatrixDisplay(confusion_matrix=cm)\n",
    "disp.plot()\n",
    "plt.show()"
   ]
  },
  {
   "cell_type": "markdown",
   "id": "e1fd91fb-9ee8-453a-bab5-382f556aeb28",
   "metadata": {},
   "source": [
    "#### Model score table"
   ]
  },
  {
   "cell_type": "code",
   "execution_count": null,
   "id": "2a8f3502-0744-48fd-8596-9a615f59d830",
   "metadata": {},
   "outputs": [],
   "source": [
    "models = pd.DataFrame({\n",
    "    'Model': ['Support Vector Machines', 'KNN', 'Logistic Regression', \n",
    "              'Random Forest', 'Naive Bayes', 'AdaBoostClassifier', \n",
    "              'Gradient Decent', 'Linear Discriminant Analysis', \n",
    "              'Decision Tree'],\n",
    "    'Score': [best_svm_score, best_knn_score, best_lr_score, \n",
    "              best_rfc_score, best_gnb_score, best_abc_score, \n",
    "              best_gbc_score, best_lda_score, best_dtc_score]})\n",
    "models.sort_values(by='Score', ascending=False)"
   ]
  },
  {
   "cell_type": "markdown",
   "id": "e5d51fcd-9956-4602-8a31-3607e604bc75",
   "metadata": {},
   "source": [
    "#### Тюнинг гиперпараметров"
   ]
  },
  {
   "cell_type": "code",
   "execution_count": null,
   "id": "e465f762-8769-4eae-af9f-c170448ebe4a",
   "metadata": {},
   "outputs": [],
   "source": [
    "\n",
    "from sklearn.model_selection import StratifiedKFold\n",
    "import optuna\n",
    "from sklearn.metrics import accuracy_score\n",
    "\n",
    "skf = StratifiedKFold(n_splits=6)\n",
    "\n",
    "\n",
    "def objective(trial):\n",
    "    print('________________START__________________')\n",
    "    param = {\n",
    "        'loss': trial.suggest_categorical('loss', ['log_loss', 'exponential']),\n",
    "        'criterion': trial.suggest_categorical('criterion', ['friedman_mse', 'squared_error']),\n",
    "        'max_leaf_nodes': trial.suggest_categorical('max_leaf_nodes', [2,3,4,5,6,7,8,9,10]),\n",
    "        #'min_samples_split': trial.suggest_float('min_samples_split', 0.2,1.0),\n",
    "        #'min_samples_leaf': trial.suggest_float('min_samples_leaf', 0.2,1.0),\n",
    "        #'min_weight_fraction_leaf': trial.suggest_float('min_weight_fraction_leaf', 0.0,0.5),\n",
    "        'max_features': trial.suggest_categorical('max_features', [2,3,4,5,6,7,8,9,10]),\n",
    "        #'tree_method':'hist',\n",
    "        #'objective': 'binary:logistic',\n",
    "        #'eval_metric': 'logloss',\n",
    "        #'lambda': trial.suggest_float('lambda', 0, 10.0),\n",
    "        #'alpha': trial.suggest_float('alpha', 0, 10.0),\n",
    "        #'colsample_bytree': trial.suggest_float('colsample_bytree', 0.1,1.0),\n",
    "        'subsample': trial.suggest_float('subsample', 0.2,1.0),\n",
    "        'learning_rate': trial.suggest_float('learning_rate', 0.01,0.3),\n",
    "        'n_estimators': trial.suggest_int('n_estimators', 100,3000),\n",
    "        'max_depth': trial.suggest_categorical('max_depth', [2,3,4,5,6,7,8,9,10])\n",
    "        #'min_child_weight': trial.suggest_int('min_child_weight', 1, 10),\n",
    "        #'num_parallel_tree': trial.suggest_int('num_parallel_tree',1,1)\n",
    "        #'early_stopping_rounds':200,\n",
    "        }\n",
    "        \n",
    "    results=[]\n",
    "    n_iterations=[]\n",
    "    for train_index, test_index in skf.split(features_train_ohe, target_train_ohe):\n",
    "        train_X, valid_X = features_train_ohe.iloc[train_index], features_train_ohe.iloc[test_index]\n",
    "        train_y, valid_y = target_train_ohe.iloc[train_index], target_train_ohe.iloc[test_index]\n",
    "        model = GradientBoostingClassifier(**param).fit(train_X,train_y,\n",
    "                                      #eval_set=[(valid_X,valid_y)],\n",
    "                                      #verbose=0\n",
    "                                     )  \n",
    "        #n_iteration = model.get_booster().best_iteration\n",
    "        #n_iterations.append(n_iteration)\n",
    "        result = accuracy_score(valid_y,(model.predict(valid_X)))\n",
    "        results.append(result)\n",
    "        #i=int(sum(n_iterations)/len(n_iterations))\n",
    "    #print(\"Average n_ite=\" + str(i))\n",
    "    #print(\"% of scatter =\" + str(np.std(n_iterations)/i))    \n",
    "    n=sum(results)/len(results) \n",
    "    print (n)\n",
    "    print(\"_________________FIIINISH_________________\\n\")\n",
    "    return n\n",
    "\n",
    "#study = optuna.create_study(pruner=optuna.pruners.HyperbandPruner(), direction='maximize')\n",
    "#study.optimize(objective, n_trials=1000)"
   ]
  },
  {
   "cell_type": "code",
   "execution_count": null,
   "id": "028c723c-53d1-4c8a-a7ac-b67532721531",
   "metadata": {},
   "outputs": [],
   "source": [
    "study.best_params"
   ]
  },
  {
   "cell_type": "code",
   "execution_count": null,
   "id": "7e82a38e-ad6f-4c19-a5b7-8569a9ab709d",
   "metadata": {},
   "outputs": [],
   "source": [
    "%%time\n",
    "\n",
    "pipe = Pipeline(steps=[('gbc', gbc)]) # Создаем пайплайн\n",
    "\n",
    "# Задаем решетку параметров пайплайна\n",
    "param_grid = {'gbc__loss': ['log_loss'],\n",
    " 'gbc__criterion': ['friedman_mse'],\n",
    " 'gbc__max_leaf_nodes': [8],\n",
    " 'gbc__max_features': [10],\n",
    " 'gbc__subsample': [0.9762985495711296],\n",
    " 'gbc__learning_rate': [0.02308340811224455],\n",
    " 'gbc__n_estimators': [976],\n",
    " 'gbc__max_depth': [4]}\n",
    "\n",
    "# Создаем нашу модель и передаем ей пайплайн, решетку параметров, также используем кросс-валидацию результата    \n",
    "grid_search_cv = GridSearchCV(pipe, param_grid, n_jobs=16, cv=6, scoring='accuracy')\n",
    "\n",
    "# Обучаем модель на тренировочной части выборки:\n",
    "grid_search_cv.fit(features_train_ohe, target_train_ohe)\n",
    "\n",
    "best_params_gbc = grid_search_cv.best_params_ # Лучшие параметры\n",
    "best_gbc = grid_search_cv.best_estimator_ # Лучшая модель\n",
    "best_gbc_score = grid_search_cv.best_score_ # Лучший результатат\n",
    "\n",
    "print(f'Полнота модели {best_gbc} на тренировочной выборке составила: \\\n",
    "        {best_gbc_score} с параметрами {best_params_gbc}')"
   ]
  },
  {
   "cell_type": "code",
   "execution_count": null,
   "id": "e2554b80-48cf-4704-a3fe-c7db1efb322b",
   "metadata": {},
   "outputs": [],
   "source": [
    "pd.Series(best_gbc[0].feature_importances_, features_train_ohe.columns).sort_values(ascending=True).plot.barh(width=0.8, figsize=(15,7))"
   ]
  },
  {
   "cell_type": "code",
   "execution_count": null,
   "id": "7321edbe-5857-405d-963f-72afd8fa90c7",
   "metadata": {},
   "outputs": [],
   "source": [
    "from xgboost import XGBClassifier\n",
    "xgb = XGBClassifier(random_state=42)\n",
    "\n",
    "pipe = Pipeline(steps=[('xgb', xgb)]) # Создаем пайплайн\n",
    "\n",
    "# Задаем решетку параметров пайплайна\n",
    "param_grid = {'xgb__lambda': [0.2986805813310141],\n",
    " 'xgb__alpha': [1.0377689814378535],\n",
    " 'xgb__colsample_bytree': [0.7960179566400756],\n",
    " 'xgb__subsample': [0.7829866216987346],\n",
    " 'xgb__learning_rate': [0.003467116815138747],\n",
    " 'xgb__n_estimators': [1400],\n",
    " 'xgb__max_depth': [7],\n",
    " 'xgb__min_child_weight': [1],\n",
    " 'xgb__num_parallel_tree': [1]}\n",
    "\n",
    "# Создаем нашу модель и передаем ей пайплайн, решетку параметров, также используем кросс-валидацию результата    \n",
    "grid_search_cv = GridSearchCV(pipe, param_grid, cv=6, scoring='accuracy')\n",
    "\n",
    "# Обучаем модель на тренировочной части выборки:\n",
    "grid_search_cv.fit(features_train_ohe, target_train_ohe)\n",
    "\n",
    "best_params_xgb = grid_search_cv.best_params_ # Лучшие параметры\n",
    "best_xgb = grid_search_cv.best_estimator_ # Лучшая модель\n",
    "best_xgb_score = grid_search_cv.best_score_ # Лучший результатат\n",
    "\n",
    "print(f'Полнота модели {best_xgb[0]} на тренировочной выборке составила: \\\n",
    "        {best_xgb_score} с параметрами {best_params_xgb}')"
   ]
  },
  {
   "cell_type": "code",
   "execution_count": null,
   "id": "bd01f802-5e1a-453b-8687-a096766c5e47",
   "metadata": {},
   "outputs": [],
   "source": [
    "#study.best_params"
   ]
  },
  {
   "cell_type": "code",
   "execution_count": null,
   "id": "1b731aca-7a2d-4f28-ba90-7cdcdce03de2",
   "metadata": {},
   "outputs": [],
   "source": [
    "from sklearn.model_selection import StratifiedKFold\n",
    "import optuna\n",
    "from sklearn.metrics import accuracy_score\n",
    "\n",
    "skf = StratifiedKFold(n_splits=6)\n",
    "\n",
    "\n",
    "def objective(trial):\n",
    "    print('________________START__________________')\n",
    "    param = {\n",
    "        'tree_method':'hist',\n",
    "        'objective': 'binary:logistic',\n",
    "        'eval_metric': 'logloss',\n",
    "        'lambda': trial.suggest_float('lambda', 0, 10.0),\n",
    "        'alpha': trial.suggest_float('alpha', 0, 10.0),\n",
    "        'colsample_bytree': trial.suggest_float('colsample_bytree', 0.1,1.0),\n",
    "        'subsample': trial.suggest_float('subsample', 0.2,1.0),\n",
    "        'learning_rate': trial.suggest_float('learning_rate', 0.0001,0.1),\n",
    "        'n_estimators': trial.suggest_int('n_estimators', 100,3000),\n",
    "        'max_depth': trial.suggest_categorical('max_depth', [2,3,4,5,6,7,8,9,10]),\n",
    "        'min_child_weight': trial.suggest_int('min_child_weight', 1, 10),\n",
    "        'num_parallel_tree': trial.suggest_int('num_parallel_tree',1,1)\n",
    "        #'early_stopping_rounds':200,\n",
    "        }\n",
    "        \n",
    "    results=[]\n",
    "    n_iterations=[]\n",
    "    for train_index, test_index in skf.split(features_train_ohe, target_train_ohe):\n",
    "        train_X, valid_X = features_train_ohe.iloc[train_index], features_train_ohe.iloc[test_index]\n",
    "        train_y, valid_y = target_train_ohe.iloc[train_index], target_train_ohe.iloc[test_index]\n",
    "        model = XGBClassifier(**param).fit(train_X,train_y,\n",
    "                                      eval_set=[(valid_X,valid_y)],\n",
    "                                      verbose=0\n",
    "                                     )  \n",
    "        #n_iteration = model.get_booster().best_iteration\n",
    "        #n_iterations.append(n_iteration)\n",
    "        result = accuracy_score(valid_y,(model.predict(valid_X)))\n",
    "        results.append(result)\n",
    "        #i=int(sum(n_iterations)/len(n_iterations))\n",
    "    #print(\"Average n_ite=\" + str(i))\n",
    "    #print(\"% of scatter =\" + str(np.std(n_iterations)/i))    \n",
    "    n=sum(results)/len(results) \n",
    "    print (n)\n",
    "    print(\"_________________FIIINISH_________________\\n\")\n",
    "    return n\n",
    "\n",
    "#study = optuna.create_study(pruner=optuna.pruners.HyperbandPruner(), direction='maximize')\n",
    "#study.optimize(objective, n_trials=1000)"
   ]
  },
  {
   "cell_type": "code",
   "execution_count": null,
   "id": "82d40af4-bcf0-4f08-84d9-2d9c16ef9ef1",
   "metadata": {},
   "outputs": [],
   "source": [
    "models = pd.DataFrame({\n",
    "    'Model': ['Support Vector Machines', 'KNN', 'Logistic Regression', \n",
    "              'Random Forest', 'Naive Bayes', 'AdaBoostClassifier', \n",
    "              'Gradient Decent', 'Linear Discriminant Analysis', \n",
    "              'Decision Tree'],\n",
    "    'Score': [best_svm_score, best_knn_score, best_lr_score, \n",
    "              best_rfc_score, best_gnb_score, best_abc_score, \n",
    "              best_gbc_score, best_lda_score, best_dtc_score]})\n",
    "models.sort_values(by='Score', ascending=False)"
   ]
  },
  {
   "cell_type": "code",
   "execution_count": null,
   "id": "c1fe814d-b516-49ae-bc4d-4b715bd9e1f3",
   "metadata": {},
   "outputs": [],
   "source": [
    "preop_data_dict['test_ohe']['Transported'] = best_gbc.predict(preop_data_dict['test_ohe'])\n",
    "preop_data_dict['test_ohe']['PassengerId'] = PassengerId"
   ]
  },
  {
   "cell_type": "code",
   "execution_count": null,
   "id": "53af2ab7-957c-4a8a-947c-b709521e5bdb",
   "metadata": {},
   "outputs": [],
   "source": [
    "preop_data_dict['test_ohe']['Transported'] = preop_data_dict['test_ohe']['Transported'].astype('bool')"
   ]
  },
  {
   "cell_type": "code",
   "execution_count": null,
   "id": "4ed1f871-2b17-461c-8b10-bca67383dde7",
   "metadata": {},
   "outputs": [],
   "source": [
    "preop_data_dict['test_ohe'][['PassengerId', 'Transported']].to_csv(r\"/Users/Daniil/Documents/Kagle/submission.csv\", index=False, sep=\",\")"
   ]
  },
  {
   "cell_type": "code",
   "execution_count": null,
   "id": "d4c45187-f432-4a02-8325-b2679cb60d0c",
   "metadata": {},
   "outputs": [],
   "source": []
  }
 ],
 "metadata": {
  "kernelspec": {
   "display_name": "Python 3 (ipykernel)",
   "language": "python",
   "name": "python3"
  },
  "language_info": {
   "codemirror_mode": {
    "name": "ipython",
    "version": 3
   },
   "file_extension": ".py",
   "mimetype": "text/x-python",
   "name": "python",
   "nbconvert_exporter": "python",
   "pygments_lexer": "ipython3",
   "version": "3.9.12"
  }
 },
 "nbformat": 4,
 "nbformat_minor": 5
}
